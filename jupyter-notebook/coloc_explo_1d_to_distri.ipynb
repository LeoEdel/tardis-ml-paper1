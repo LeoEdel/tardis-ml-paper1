{
 "cells": [
  {
   "cell_type": "markdown",
   "id": "8222d3df",
   "metadata": {},
   "source": [
    "# Call colocation of IS2 and TOPAZ"
   ]
  },
  {
   "cell_type": "markdown",
   "id": "b04d1054",
   "metadata": {},
   "source": [
    "draft for: /pyroutine/run_colocate_IS_TP.py"
   ]
  },
  {
   "cell_type": "code",
   "execution_count": 1,
   "id": "b1727b4e",
   "metadata": {},
   "outputs": [],
   "source": [
    "import datetime\n",
    "from src.data_preparation import colocate_IS_TP"
   ]
  },
  {
   "cell_type": "markdown",
   "id": "0a0f2cea",
   "metadata": {},
   "source": [
    "### For one track"
   ]
  },
  {
   "cell_type": "code",
   "execution_count": 2,
   "id": "e7f85113",
   "metadata": {
    "collapsed": true
   },
   "outputs": [
    {
     "name": "stdout",
     "output_type": "stream",
     "text": [
      "Loading ICESat-2...\n",
      "Colocation on IS2SITDAT4_01_20181014000347_02350101_005_02_bnum1gt3r_001.nc\n",
      "> \u001b[0;32m/users/edelleo1/tardis/tardis-ml/src/data_preparation/colocate_IS_TP.py\u001b[0m(47)\u001b[0;36mload_IS_nc\u001b[0;34m()\u001b[0m\n",
      "\u001b[0;32m     45 \u001b[0;31m    \u001b[0;32mimport\u001b[0m \u001b[0mpdb\u001b[0m\u001b[0;34m;\u001b[0m \u001b[0mpdb\u001b[0m\u001b[0;34m.\u001b[0m\u001b[0mset_trace\u001b[0m\u001b[0;34m(\u001b[0m\u001b[0;34m)\u001b[0m\u001b[0;34m\u001b[0m\u001b[0;34m\u001b[0m\u001b[0m\n",
      "\u001b[0m\u001b[0;32m     46 \u001b[0;31m\u001b[0;34m\u001b[0m\u001b[0m\n",
      "\u001b[0m\u001b[0;32m---> 47 \u001b[0;31m    \u001b[0;32mif\u001b[0m \u001b[0mreturn_latlon\u001b[0m\u001b[0;34m:\u001b[0m\u001b[0;34m\u001b[0m\u001b[0;34m\u001b[0m\u001b[0m\n",
      "\u001b[0m\u001b[0;32m     48 \u001b[0;31m        \u001b[0mlat\u001b[0m \u001b[0;34m=\u001b[0m \u001b[0mxr\u001b[0m\u001b[0;34m.\u001b[0m\u001b[0mopen_dataset\u001b[0m\u001b[0;34m(\u001b[0m\u001b[0mxr\u001b[0m\u001b[0;34m.\u001b[0m\u001b[0mbackends\u001b[0m\u001b[0;34m.\u001b[0m\u001b[0mNetCDF4DataStore\u001b[0m\u001b[0;34m(\u001b[0m\u001b[0mnc\u001b[0m\u001b[0;34m)\u001b[0m\u001b[0;34m)\u001b[0m\u001b[0;34m[\u001b[0m\u001b[0;34m'latitude'\u001b[0m\u001b[0;34m]\u001b[0m\u001b[0;34m\u001b[0m\u001b[0;34m\u001b[0m\u001b[0m\n",
      "\u001b[0m\u001b[0;32m     49 \u001b[0;31m        \u001b[0mlon\u001b[0m \u001b[0;34m=\u001b[0m \u001b[0mxr\u001b[0m\u001b[0;34m.\u001b[0m\u001b[0mopen_dataset\u001b[0m\u001b[0;34m(\u001b[0m\u001b[0mxr\u001b[0m\u001b[0;34m.\u001b[0m\u001b[0mbackends\u001b[0m\u001b[0;34m.\u001b[0m\u001b[0mNetCDF4DataStore\u001b[0m\u001b[0;34m(\u001b[0m\u001b[0mnc\u001b[0m\u001b[0;34m)\u001b[0m\u001b[0;34m)\u001b[0m\u001b[0;34m[\u001b[0m\u001b[0;34m'longitude'\u001b[0m\u001b[0;34m]\u001b[0m\u001b[0;34m\u001b[0m\u001b[0;34m\u001b[0m\u001b[0m\n",
      "\u001b[0m\n",
      "ipdb> sit_is\n",
      "<xarray.DataArray 'ice_thickness' (index: 250930)>\n",
      "[250930 values with dtype=float64]\n",
      "Coordinates:\n",
      "  * index    (index) int64 0 1 2 3 4 5 ... 250925 250926 250927 250928 250929\n",
      "Attributes:\n",
      "    units:        meters\n",
      "    coordinates:  along-track segment\n",
      "    long_name:    Sea ice thickness from ATL10 and redistributed NESOSIM (v1....\n",
      "ipdb> nc\n",
      "<class 'netCDF4._netCDF4.Dataset'>\n",
      "root group (NETCDF4 data model, file format HDF5):\n",
      "    Description: Along track sea ice thickness estimates from ICESat-2 and ancillary data including ATL10 (rel005) freeboards and NESOSIM v1.1 snow loading.\n",
      "    Contact: Alek Petty (alek.a.petty@nasa.gov)\n",
      "    Reference: Data doi: 10.5067/JTI5YG3S6VAJ. Data described in Petty, A. A., Keeney, N., Cabaj, A., Kushner, P., and Bagnardi, M. (2022): Winter Arctic sea ice thickness from ICESat-2: upgrades to freeboard and snow loading estimates and an assessment of the first three winters of data collection, The Cryosphere Discuss. [preprint], doi: 10.5194/tc-2022-39, (in review). Original methodology described in Petty, A. A., N. T. Kurtz, R. Kwok, T. Markus, T. A. Neumann (2020), Winter Arctic sea ice thickness from ICESat‐2 freeboards, Journal of Geophysical Research: Oceans, 125, e2019JC015764. doi:10.1029/2019JC015764\n",
      "    Conventions: CF-1.8\n",
      "    featureType: point\n",
      "    projection: Data referenced to WGS84 (EPSG:4326)\n",
      "    dimensions(sizes): index(250930)\n",
      "    variables(dimensions): float64 gps_seconds(index), int32 height_segment_id(index), float64 along_track_distance(index), float64 latitude(index), float64 longitude(index), int8 ssh_flag(index), float32 seg_length(index), float32 freeboard(index), float64 snow_depth(index), float64 snow_density(index), float64 ice_thickness(index), float64 snow_depth_W99mod5dist(index), float64 snow_density_W99(index), float64 ice_thickness_W99mod5dist(index), float64 ice_thickness_unc(index), float64 ice_thickness_uncsys(index), float64 ice_thickness_uncrandom(index), int64 ice_type(index), uint8 region_flag(index), int64 index(index)\n",
      "    groups: \n",
      "ipdb> nc.['sc_orient']\n",
      "*** SyntaxError: invalid syntax\n",
      "ipdb> nc['sc_orient']\n",
      "*** IndexError: sc_orient not found in /\n",
      "ipdb> nc.__dict__\n",
      "{'Description': 'Along track sea ice thickness estimates from ICESat-2 and ancillary data including ATL10 (rel005) freeboards and NESOSIM v1.1 snow loading.', 'Contact': 'Alek Petty (alek.a.petty@nasa.gov)', 'Reference': 'Data doi: 10.5067/JTI5YG3S6VAJ. Data described in Petty, A. A., Keeney, N., Cabaj, A., Kushner, P., and Bagnardi, M. (2022): Winter Arctic sea ice thickness from ICESat-2: upgrades to freeboard and snow loading estimates and an assessment of the first three winters of data collection, The Cryosphere Discuss. [preprint], doi: 10.5194/tc-2022-39, (in review). Original methodology described in Petty, A. A., N. T. Kurtz, R. Kwok, T. Markus, T. A. Neumann (2020), Winter Arctic sea ice thickness from ICESat‐2 freeboards, Journal of Geophysical Research: Oceans, 125, e2019JC015764. doi:10.1029/2019JC015764', 'Conventions': 'CF-1.8', 'featureType': 'point', 'projection': 'Data referenced to WGS84 (EPSG:4326)'}\n",
      "ipdb> q\n"
     ]
    }
   ],
   "source": [
    "day = datetime.datetime(2018,10,14)  # loop on days\n",
    "    \n",
    "co = colocate_IS_TP.Coloc()\n",
    "co.import_IS2(day=day, ntrack=0)  # loop on ntracks\n",
    "co.import_TOPAZ4()\n",
    "co.colocate_time()\n",
    "co.colocate_profiles(nprof_threshold=1000)"
   ]
  },
  {
   "cell_type": "code",
   "execution_count": 27,
   "id": "c91f42a2",
   "metadata": {},
   "outputs": [
    {
     "name": "stdout",
     "output_type": "stream",
     "text": [
      "Loading ICESat-2...\n",
      "Colocation on IS2SITDAT4_01_20181014000347_02350101_005_02_bnum3gt2r_001.nc\n",
      "Loading TOPAZ...\n",
      "Colocating IS2 profiles...\n",
      "Time \"get_closest_arr_xy\":   1.0403332710266113  secs\n",
      "103 TOPAZ Macro pixel with ICESat-2 profiles:\n"
     ]
    }
   ],
   "source": [
    "# for second beam\n",
    "co2 = colocate_IS_TP.Coloc()\n",
    "co2.import_IS2(day=day, ntrack=0, beam=2)  # loop on ntracks\n",
    "co2.import_TOPAZ4(load_covar=False)\n",
    "co2.colocate_time()\n",
    "co2.colocate_profiles(nprof_threshold=1000)"
   ]
  },
  {
   "cell_type": "code",
   "execution_count": 28,
   "id": "51b00daf",
   "metadata": {},
   "outputs": [
    {
     "name": "stdout",
     "output_type": "stream",
     "text": [
      "Loading ICESat-2...\n",
      "Colocation on IS2SITDAT4_01_20181014000347_02350101_005_02_bnum5gt1r_001.nc\n",
      "Loading TOPAZ...\n",
      "Colocating IS2 profiles...\n",
      "Time \"get_closest_arr_xy\":   1.2039105892181396  secs\n",
      "109 TOPAZ Macro pixel with ICESat-2 profiles:\n"
     ]
    }
   ],
   "source": [
    "# for third beam\n",
    "co3 = colocate_IS_TP.Coloc()\n",
    "co3.import_IS2(day=day, ntrack=0, beam=3)  # loop on ntracks\n",
    "co3.import_TOPAZ4(load_covar=False)\n",
    "co3.colocate_time()\n",
    "co3.colocate_profiles(nprof_threshold=1000)"
   ]
  },
  {
   "cell_type": "code",
   "execution_count": 29,
   "id": "34ef528c",
   "metadata": {},
   "outputs": [],
   "source": [
    "# check the 3 beams: fuse if all 3 contain same macro-pixel\n",
    "co.fuse_3beams(co2, co3)"
   ]
  },
  {
   "cell_type": "code",
   "execution_count": 33,
   "id": "24196d28",
   "metadata": {},
   "outputs": [
    {
     "name": "stdout",
     "output_type": "stream",
     "text": [
      "Retrieving TOPAZ values for macro-pixels...\n"
     ]
    }
   ],
   "source": [
    "co.get_TP_1track()"
   ]
  },
  {
   "cell_type": "code",
   "execution_count": null,
   "id": "5efbb94f",
   "metadata": {},
   "outputs": [],
   "source": [
    "co.save_track()"
   ]
  },
  {
   "cell_type": "markdown",
   "id": "5442c0df",
   "metadata": {},
   "source": [
    "### loop on track "
   ]
  },
  {
   "cell_type": "code",
   "execution_count": 5,
   "id": "32d404f7",
   "metadata": {},
   "outputs": [
    {
     "data": {
      "text/plain": [
       "<module 'src.data_preparation.colocate_IS_TP' from '/users/edelleo1/tardis/tardis-ml/src/data_preparation/colocate_IS_TP.py'>"
      ]
     },
     "execution_count": 5,
     "metadata": {},
     "output_type": "execute_result"
    }
   ],
   "source": [
    "from importlib import reload\n",
    "reload(colocate_IS_TP)"
   ]
  },
  {
   "cell_type": "code",
   "execution_count": 1,
   "id": "909a8bde",
   "metadata": {
    "scrolled": true
   },
   "outputs": [],
   "source": [
    "import datetime\n",
    "from src.data_preparation import colocate_IS_TP"
   ]
  },
  {
   "cell_type": "code",
   "execution_count": 2,
   "id": "c84ff3ef",
   "metadata": {},
   "outputs": [
    {
     "name": "stdout",
     "output_type": "stream",
     "text": [
      "Loading TOPAZ...\n",
      "\tRetrieve siconc\n",
      "\tRetrieve sisnthick\n",
      "\tRetrieve zos\n",
      "\tRetrieve vxsi\n",
      "\tRetrieve vysi\n"
     ]
    }
   ],
   "source": [
    "# day = datetime.datetime(2018,10,14)  # loop on days\n",
    "day = datetime.datetime(2019,9,1)  # loop on days\n",
    "\n",
    "  \n",
    "co = colocate_IS_TP.Coloc()\n",
    "co.import_TOPAZ4()"
   ]
  },
  {
   "cell_type": "code",
   "execution_count": 3,
   "id": "2dc39d02",
   "metadata": {},
   "outputs": [],
   "source": [
    "ntracks = co.get_ntracks_IS2(day=day)\n",
    "if ntracks is None:\n",
    "    print('No ICESat-2 track')"
   ]
  },
  {
   "cell_type": "code",
   "execution_count": 10,
   "id": "00c79b42",
   "metadata": {
    "scrolled": false
   },
   "outputs": [
    {
     "name": "stdout",
     "output_type": "stream",
     "text": [
      "\n",
      "\n",
      "Working on track: 0\n",
      "Loading ICESat-2...\n",
      "Colocation on IS2SITDAT4_01_20190901004029_09920401_005_02_bnum1gt1l_001.nc\n",
      "Colocating IS2 profiles...\n",
      "Time \"get_closest_arr_xy\":   7.83010721206665  secs\n",
      "24 TOPAZ Macro pixel with ICESat-2 profiles:\n",
      "Loading ICESat-2...\n",
      "Colocation on IS2SITDAT4_01_20190901004029_09920401_005_02_bnum3gt2l_001.nc\n",
      "Loading TOPAZ...\n",
      "Colocating IS2 profiles...\n",
      "Time \"get_closest_arr_xy\":   0.359527587890625  secs\n",
      "21 TOPAZ Macro pixel with ICESat-2 profiles:\n",
      "Loading ICESat-2...\n",
      "Colocation on IS2SITDAT4_01_20190901004029_09920401_005_02_bnum5gt3l_001.nc\n",
      "Loading TOPAZ...\n",
      "Colocating IS2 profiles...\n",
      "Time \"get_closest_arr_xy\":   0.40064191818237305  secs\n",
      "19 TOPAZ Macro pixel with ICESat-2 profiles:\n",
      "Retrieving TOPAZ values for macro-pixels...\n",
      "ICESat-2 coloc profiles saved as: /scratch/project_465000269/edelleo1/Leo/SIT_observations/ICESat2_co_TOPAZ/20190901/IS2SITDAT4_01_20190901004029_09920401_005_02_coIS2.pkl\n",
      "TOPAZ4 variables saved as: /scratch/project_465000269/edelleo1/Leo/SIT_observations/ICESat2_co_TOPAZ/20190901/IS2SITDAT4_01_20190901004029_09920401_005_02_coTP4.npy\n",
      "\n",
      "\n",
      "Working on track: 1\n",
      "Loading ICESat-2...\n",
      "Colocation on IS2SITDAT4_01_20190901021447_09930401_005_02_bnum1gt1l_001.nc\n",
      "Colocating IS2 profiles...\n",
      "Time \"get_closest_arr_xy\":   0.09409832954406738  secs\n",
      "6 TOPAZ Macro pixel with ICESat-2 profiles:\n",
      "Nan in ICESat-2:  1013 Nan\n",
      "Loading ICESat-2...\n",
      "Colocation on IS2SITDAT4_01_20190901021447_09930401_005_02_bnum3gt2l_001.nc\n",
      "Loading TOPAZ...\n",
      "Colocating IS2 profiles...\n",
      "Time \"get_closest_arr_xy\":   0.09001326560974121  secs\n",
      "5 TOPAZ Macro pixel with ICESat-2 profiles:\n",
      "Loading ICESat-2...\n",
      "Colocation on IS2SITDAT4_01_20190901021447_09930401_005_02_bnum5gt3l_001.nc\n",
      "Loading TOPAZ...\n",
      "Colocating IS2 profiles...\n",
      "Time \"get_closest_arr_xy\":   0.08732271194458008  secs\n",
      "5 TOPAZ Macro pixel with ICESat-2 profiles:\n",
      "Retrieving TOPAZ values for macro-pixels...\n",
      "ICESat-2 coloc profiles saved as: /scratch/project_465000269/edelleo1/Leo/SIT_observations/ICESat2_co_TOPAZ/20190901/IS2SITDAT4_01_20190901021447_09930401_005_02_coIS2.pkl\n",
      "TOPAZ4 variables saved as: /scratch/project_465000269/edelleo1/Leo/SIT_observations/ICESat2_co_TOPAZ/20190901/IS2SITDAT4_01_20190901021447_09930401_005_02_coTP4.npy\n",
      "\n",
      "\n",
      "Working on track: 2\n",
      "Loading ICESat-2...\n",
      "Colocation on IS2SITDAT4_01_20190901034904_09940401_005_02_bnum1gt1l_001.nc\n",
      "Colocating IS2 profiles...\n",
      "Time \"get_closest_arr_xy\":   0.003493785858154297  secs\n",
      "0 TOPAZ Macro pixel with ICESat-2 profiles:\n",
      "Loading ICESat-2...\n",
      "Colocation on IS2SITDAT4_01_20190901034904_09940401_005_02_bnum3gt2l_001.nc\n",
      "Loading TOPAZ...\n",
      "Colocating IS2 profiles...\n",
      "Time \"get_closest_arr_xy\":   0.016573190689086914  secs\n",
      "1 TOPAZ Macro pixel with ICESat-2 profiles:\n",
      "Loading ICESat-2...\n",
      "Colocation on IS2SITDAT4_01_20190901034904_09940401_005_02_bnum5gt3l_001.nc\n",
      "File not found: /scratch/project_465000269/edelleo1/Leo/SIT_observations/ICESat2/20190901/IS2SITDAT4_01_20190901034904_09940401_005_02_bnum5gt3l_001.nc\n",
      "Retrieving TOPAZ values for macro-pixels...\n",
      "ICESat-2 coloc profiles saved as: /scratch/project_465000269/edelleo1/Leo/SIT_observations/ICESat2_co_TOPAZ/20190901/IS2SITDAT4_01_20190901034904_09940401_005_02_coIS2.pkl\n",
      "TOPAZ4 variables saved as: /scratch/project_465000269/edelleo1/Leo/SIT_observations/ICESat2_co_TOPAZ/20190901/IS2SITDAT4_01_20190901034904_09940401_005_02_coTP4.npy\n",
      "\n",
      "\n",
      "Working on track: 3\n",
      "Loading ICESat-2...\n",
      "Colocation on IS2SITDAT4_01_20190901052321_09950401_005_02_bnum1gt1l_001.nc\n",
      "Colocating IS2 profiles...\n",
      "Time \"get_closest_arr_xy\":   0.016872167587280273  secs\n",
      "1 TOPAZ Macro pixel with ICESat-2 profiles:\n",
      "Loading ICESat-2...\n",
      "Colocation on IS2SITDAT4_01_20190901052321_09950401_005_02_bnum3gt2l_001.nc\n",
      "Loading TOPAZ...\n",
      "Colocating IS2 profiles...\n",
      "Time \"get_closest_arr_xy\":   0.023075103759765625  secs\n",
      "2 TOPAZ Macro pixel with ICESat-2 profiles:\n",
      "Loading ICESat-2...\n",
      "Colocation on IS2SITDAT4_01_20190901052321_09950401_005_02_bnum5gt3l_001.nc\n",
      "Loading TOPAZ...\n",
      "Colocating IS2 profiles...\n",
      "Time \"get_closest_arr_xy\":   0.041311025619506836  secs\n",
      "2 TOPAZ Macro pixel with ICESat-2 profiles:\n",
      "Retrieving TOPAZ values for macro-pixels...\n",
      "ICESat-2 coloc profiles saved as: /scratch/project_465000269/edelleo1/Leo/SIT_observations/ICESat2_co_TOPAZ/20190901/IS2SITDAT4_01_20190901052321_09950401_005_02_coIS2.pkl\n",
      "TOPAZ4 variables saved as: /scratch/project_465000269/edelleo1/Leo/SIT_observations/ICESat2_co_TOPAZ/20190901/IS2SITDAT4_01_20190901052321_09950401_005_02_coTP4.npy\n",
      "\n",
      "\n",
      "Working on track: 4\n",
      "Loading ICESat-2...\n",
      "Colocation on IS2SITDAT4_01_20190901065739_09960401_005_02_bnum1gt1l_001.nc\n",
      "Colocating IS2 profiles...\n",
      "Time \"get_closest_arr_xy\":   0.033928632736206055  secs\n",
      "2 TOPAZ Macro pixel with ICESat-2 profiles:\n",
      "Nan in ICESat-2:  all NaN\n",
      "Nan in ICESat-2:  all NaN\n",
      "Loading ICESat-2...\n",
      "Colocation on IS2SITDAT4_01_20190901065739_09960401_005_02_bnum3gt2l_001.nc\n",
      "Loading TOPAZ...\n",
      "Colocating IS2 profiles...\n",
      "Time \"get_closest_arr_xy\":   0.03819727897644043  secs\n",
      "2 TOPAZ Macro pixel with ICESat-2 profiles:\n",
      "Nan in ICESat-2:  all NaN\n",
      "Nan in ICESat-2:  all NaN\n",
      "Loading ICESat-2...\n",
      "Colocation on IS2SITDAT4_01_20190901065739_09960401_005_02_bnum5gt3l_001.nc\n",
      "Loading TOPAZ...\n",
      "Colocating IS2 profiles...\n",
      "Time \"get_closest_arr_xy\":   0.04762005805969238  secs\n",
      "3 TOPAZ Macro pixel with ICESat-2 profiles:\n",
      "Nan in ICESat-2:  all NaN\n",
      "Nan in ICESat-2:  all NaN\n",
      "Nan in ICESat-2:  all NaN\n",
      "Retrieving TOPAZ values for macro-pixels...\n",
      "ICESat-2 coloc profiles saved as: /scratch/project_465000269/edelleo1/Leo/SIT_observations/ICESat2_co_TOPAZ/20190901/IS2SITDAT4_01_20190901065739_09960401_005_02_coIS2.pkl\n",
      "TOPAZ4 variables saved as: /scratch/project_465000269/edelleo1/Leo/SIT_observations/ICESat2_co_TOPAZ/20190901/IS2SITDAT4_01_20190901065739_09960401_005_02_coTP4.npy\n",
      "\n",
      "\n",
      "Working on track: 5\n",
      "Loading ICESat-2...\n",
      "Colocation on IS2SITDAT4_01_20190901083156_09970401_005_02_bnum1gt1l_001.nc\n",
      "Colocating IS2 profiles...\n",
      "Time \"get_closest_arr_xy\":   0.2316145896911621  secs\n",
      "15 TOPAZ Macro pixel with ICESat-2 profiles:\n",
      "Nan in ICESat-2:  all NaN\n",
      "Nan in ICESat-2:  all NaN\n",
      "Nan in ICESat-2:  all NaN\n",
      "Nan in ICESat-2:  all NaN\n",
      "Nan in ICESat-2:  all NaN\n",
      "Nan in ICESat-2:  all NaN\n",
      "Nan in ICESat-2:  all NaN\n",
      "Nan in ICESat-2:  all NaN\n",
      "Nan in ICESat-2:  all NaN\n",
      "Nan in ICESat-2:  all NaN\n",
      "Nan in ICESat-2:  all NaN\n",
      "Nan in ICESat-2:  all NaN\n",
      "Nan in ICESat-2:  all NaN\n",
      "Nan in ICESat-2:  all NaN\n",
      "Nan in ICESat-2:  all NaN\n",
      "Loading ICESat-2...\n",
      "Colocation on IS2SITDAT4_01_20190901083156_09970401_005_02_bnum3gt2l_001.nc\n",
      "Loading TOPAZ...\n",
      "Colocating IS2 profiles...\n",
      "Time \"get_closest_arr_xy\":   0.22644352912902832  secs\n",
      "14 TOPAZ Macro pixel with ICESat-2 profiles:\n",
      "Nan in ICESat-2:  all NaN\n",
      "Nan in ICESat-2:  all NaN\n",
      "Nan in ICESat-2:  all NaN\n",
      "Nan in ICESat-2:  all NaN\n",
      "Nan in ICESat-2:  all NaN\n",
      "Nan in ICESat-2:  all NaN\n",
      "Nan in ICESat-2:  all NaN\n",
      "Nan in ICESat-2:  1911 Nan\n",
      "Nan in ICESat-2:  all NaN\n",
      "Nan in ICESat-2:  all NaN\n",
      "Nan in ICESat-2:  all NaN\n",
      "Nan in ICESat-2:  all NaN\n",
      "Nan in ICESat-2:  all NaN\n",
      "Nan in ICESat-2:  all NaN\n",
      "Loading ICESat-2...\n",
      "Colocation on IS2SITDAT4_01_20190901083156_09970401_005_02_bnum5gt3l_001.nc\n",
      "Loading TOPAZ...\n",
      "Colocating IS2 profiles...\n",
      "Time \"get_closest_arr_xy\":   0.21091771125793457  secs\n",
      "14 TOPAZ Macro pixel with ICESat-2 profiles:\n",
      "Nan in ICESat-2:  all NaN\n",
      "Nan in ICESat-2:  all NaN\n",
      "Nan in ICESat-2:  all NaN\n",
      "Nan in ICESat-2:  all NaN\n",
      "Nan in ICESat-2:  all NaN\n",
      "Nan in ICESat-2:  1900 Nan\n",
      "Nan in ICESat-2:  all NaN\n",
      "Nan in ICESat-2:  all NaN\n",
      "Nan in ICESat-2:  all NaN\n",
      "Nan in ICESat-2:  all NaN\n",
      "Nan in ICESat-2:  all NaN\n",
      "Nan in ICESat-2:  all NaN\n",
      "Nan in ICESat-2:  all NaN\n",
      "Nan in ICESat-2:  all NaN\n",
      "Retrieving TOPAZ values for macro-pixels...\n",
      "ICESat-2 coloc profiles saved as: /scratch/project_465000269/edelleo1/Leo/SIT_observations/ICESat2_co_TOPAZ/20190901/IS2SITDAT4_01_20190901083156_09970401_005_02_coIS2.pkl\n",
      "TOPAZ4 variables saved as: /scratch/project_465000269/edelleo1/Leo/SIT_observations/ICESat2_co_TOPAZ/20190901/IS2SITDAT4_01_20190901083156_09970401_005_02_coTP4.npy\n",
      "\n",
      "\n",
      "Working on track: 6\n",
      "Loading ICESat-2...\n",
      "Colocation on IS2SITDAT4_01_20190901100614_09980401_005_02_bnum1gt1l_001.nc\n",
      "Colocating IS2 profiles...\n",
      "Time \"get_closest_arr_xy\":   0.14806365966796875  secs\n",
      "12 TOPAZ Macro pixel with ICESat-2 profiles:\n",
      "Nan in ICESat-2:  972 Nan\n",
      "Nan in ICESat-2:  all NaN\n",
      "Nan in ICESat-2:  all NaN\n",
      "Nan in ICESat-2:  all NaN\n",
      "Nan in ICESat-2:  all NaN\n",
      "Nan in ICESat-2:  all NaN\n",
      "Nan in ICESat-2:  all NaN\n",
      "Nan in ICESat-2:  all NaN\n",
      "Nan in ICESat-2:  all NaN\n",
      "Loading ICESat-2...\n",
      "Colocation on IS2SITDAT4_01_20190901100614_09980401_005_02_bnum3gt2l_001.nc\n"
     ]
    },
    {
     "name": "stdout",
     "output_type": "stream",
     "text": [
      "Loading TOPAZ...\n",
      "Colocating IS2 profiles...\n",
      "Time \"get_closest_arr_xy\":   0.13307523727416992  secs\n",
      "10 TOPAZ Macro pixel with ICESat-2 profiles:\n",
      "Nan in ICESat-2:  265 Nan\n",
      "Nan in ICESat-2:  all NaN\n",
      "Nan in ICESat-2:  all NaN\n",
      "Nan in ICESat-2:  all NaN\n",
      "Nan in ICESat-2:  all NaN\n",
      "Nan in ICESat-2:  all NaN\n",
      "Nan in ICESat-2:  all NaN\n",
      "Loading ICESat-2...\n",
      "Colocation on IS2SITDAT4_01_20190901100614_09980401_005_02_bnum5gt3l_001.nc\n",
      "Loading TOPAZ...\n",
      "Colocating IS2 profiles...\n",
      "Time \"get_closest_arr_xy\":   0.1361093521118164  secs\n",
      "11 TOPAZ Macro pixel with ICESat-2 profiles:\n",
      "Nan in ICESat-2:  all NaN\n",
      "Nan in ICESat-2:  all NaN\n",
      "Nan in ICESat-2:  all NaN\n",
      "Nan in ICESat-2:  all NaN\n",
      "Nan in ICESat-2:  all NaN\n",
      "Nan in ICESat-2:  all NaN\n",
      "Nan in ICESat-2:  all NaN\n",
      "Retrieving TOPAZ values for macro-pixels...\n",
      "ICESat-2 coloc profiles saved as: /scratch/project_465000269/edelleo1/Leo/SIT_observations/ICESat2_co_TOPAZ/20190901/IS2SITDAT4_01_20190901100614_09980401_005_02_coIS2.pkl\n",
      "TOPAZ4 variables saved as: /scratch/project_465000269/edelleo1/Leo/SIT_observations/ICESat2_co_TOPAZ/20190901/IS2SITDAT4_01_20190901100614_09980401_005_02_coTP4.npy\n",
      "\n",
      "\n",
      "Working on track: 7\n",
      "Loading ICESat-2...\n",
      "Colocation on IS2SITDAT4_01_20190901114031_09990401_005_02_bnum1gt1l_001.nc\n",
      "Colocating IS2 profiles...\n",
      "Time \"get_closest_arr_xy\":   0.2776980400085449  secs\n",
      "24 TOPAZ Macro pixel with ICESat-2 profiles:\n",
      "Loading ICESat-2...\n",
      "Colocation on IS2SITDAT4_01_20190901114031_09990401_005_02_bnum3gt2l_001.nc\n",
      "Loading TOPAZ...\n",
      "Colocating IS2 profiles...\n",
      "Time \"get_closest_arr_xy\":   0.2361743450164795  secs\n",
      "16 TOPAZ Macro pixel with ICESat-2 profiles:\n",
      "Loading ICESat-2...\n",
      "Colocation on IS2SITDAT4_01_20190901114031_09990401_005_02_bnum5gt3l_001.nc\n",
      "Loading TOPAZ...\n",
      "Colocating IS2 profiles...\n",
      "Time \"get_closest_arr_xy\":   0.2583503723144531  secs\n",
      "18 TOPAZ Macro pixel with ICESat-2 profiles:\n",
      "Retrieving TOPAZ values for macro-pixels...\n",
      "ICESat-2 coloc profiles saved as: /scratch/project_465000269/edelleo1/Leo/SIT_observations/ICESat2_co_TOPAZ/20190901/IS2SITDAT4_01_20190901114031_09990401_005_02_coIS2.pkl\n",
      "TOPAZ4 variables saved as: /scratch/project_465000269/edelleo1/Leo/SIT_observations/ICESat2_co_TOPAZ/20190901/IS2SITDAT4_01_20190901114031_09990401_005_02_coTP4.npy\n",
      "\n",
      "\n",
      "Working on track: 8\n",
      "Loading ICESat-2...\n",
      "Colocation on IS2SITDAT4_01_20190901131448_10000401_005_02_bnum1gt1l_001.nc\n",
      "Colocating IS2 profiles...\n",
      "Time \"get_closest_arr_xy\":   0.13218331336975098  secs\n",
      "10 TOPAZ Macro pixel with ICESat-2 profiles:\n",
      "Nan in ICESat-2:  870 Nan\n",
      "Nan in ICESat-2:  all NaN\n",
      "Nan in ICESat-2:  all NaN\n",
      "Nan in ICESat-2:  all NaN\n",
      "Loading ICESat-2...\n",
      "Colocation on IS2SITDAT4_01_20190901131448_10000401_005_02_bnum3gt2l_001.nc\n",
      "Loading TOPAZ...\n",
      "Colocating IS2 profiles...\n",
      "Time \"get_closest_arr_xy\":   0.10560989379882812  secs\n",
      "9 TOPAZ Macro pixel with ICESat-2 profiles:\n",
      "Nan in ICESat-2:  1141 Nan\n",
      "Nan in ICESat-2:  all NaN\n",
      "Nan in ICESat-2:  all NaN\n",
      "Nan in ICESat-2:  all NaN\n",
      "Nan in ICESat-2:  all NaN\n",
      "Loading ICESat-2...\n",
      "Colocation on IS2SITDAT4_01_20190901131448_10000401_005_02_bnum5gt3l_001.nc\n",
      "Loading TOPAZ...\n",
      "Colocating IS2 profiles...\n",
      "Time \"get_closest_arr_xy\":   0.12684941291809082  secs\n",
      "10 TOPAZ Macro pixel with ICESat-2 profiles:\n",
      "Nan in ICESat-2:  974 Nan\n",
      "Nan in ICESat-2:  all NaN\n",
      "Nan in ICESat-2:  all NaN\n",
      "Nan in ICESat-2:  all NaN\n",
      "Nan in ICESat-2:  all NaN\n",
      "Retrieving TOPAZ values for macro-pixels...\n",
      "ICESat-2 coloc profiles saved as: /scratch/project_465000269/edelleo1/Leo/SIT_observations/ICESat2_co_TOPAZ/20190901/IS2SITDAT4_01_20190901131448_10000401_005_02_coIS2.pkl\n",
      "TOPAZ4 variables saved as: /scratch/project_465000269/edelleo1/Leo/SIT_observations/ICESat2_co_TOPAZ/20190901/IS2SITDAT4_01_20190901131448_10000401_005_02_coTP4.npy\n",
      "\n",
      "\n",
      "Working on track: 9\n",
      "Loading ICESat-2...\n",
      "Colocation on IS2SITDAT4_01_20190901144906_10010401_005_02_bnum1gt1l_001.nc\n",
      "Colocating IS2 profiles...\n",
      "Time \"get_closest_arr_xy\":   0.005045652389526367  secs\n",
      "0 TOPAZ Macro pixel with ICESat-2 profiles:\n",
      "Loading ICESat-2...\n",
      "Colocation on IS2SITDAT4_01_20190901144906_10010401_005_02_bnum3gt2l_001.nc\n",
      "Loading TOPAZ...\n",
      "Colocating IS2 profiles...\n",
      "Time \"get_closest_arr_xy\":   0.0024046897888183594  secs\n",
      "0 TOPAZ Macro pixel with ICESat-2 profiles:\n",
      "Loading ICESat-2...\n",
      "Colocation on IS2SITDAT4_01_20190901144906_10010401_005_02_bnum5gt3l_001.nc\n",
      "File not found: /scratch/project_465000269/edelleo1/Leo/SIT_observations/ICESat2/20190901/IS2SITDAT4_01_20190901144906_10010401_005_02_bnum5gt3l_001.nc\n",
      "Retrieving TOPAZ values for macro-pixels...\n",
      "ICESat-2 coloc profiles saved as: /scratch/project_465000269/edelleo1/Leo/SIT_observations/ICESat2_co_TOPAZ/20190901/IS2SITDAT4_01_20190901144906_10010401_005_02_coIS2.pkl\n",
      "TOPAZ4 variables saved as: /scratch/project_465000269/edelleo1/Leo/SIT_observations/ICESat2_co_TOPAZ/20190901/IS2SITDAT4_01_20190901144906_10010401_005_02_coTP4.npy\n",
      "\n",
      "\n",
      "Working on track: 10\n",
      "Loading ICESat-2...\n",
      "Colocation on IS2SITDAT4_01_20190901162323_10020401_005_02_bnum1gt1l_001.nc\n",
      "Colocating IS2 profiles...\n",
      "Time \"get_closest_arr_xy\":   0.03876852989196777  secs\n",
      "1 TOPAZ Macro pixel with ICESat-2 profiles:\n",
      "Loading ICESat-2...\n",
      "Colocation on IS2SITDAT4_01_20190901162323_10020401_005_02_bnum3gt2l_001.nc\n",
      "Loading TOPAZ...\n",
      "Colocating IS2 profiles...\n",
      "Time \"get_closest_arr_xy\":   0.027786970138549805  secs\n",
      "1 TOPAZ Macro pixel with ICESat-2 profiles:\n",
      "Loading ICESat-2...\n",
      "Colocation on IS2SITDAT4_01_20190901162323_10020401_005_02_bnum5gt3l_001.nc\n",
      "Loading TOPAZ...\n",
      "Colocating IS2 profiles...\n",
      "Time \"get_closest_arr_xy\":   0.03290557861328125  secs\n",
      "2 TOPAZ Macro pixel with ICESat-2 profiles:\n",
      "Retrieving TOPAZ values for macro-pixels...\n",
      "ICESat-2 coloc profiles saved as: /scratch/project_465000269/edelleo1/Leo/SIT_observations/ICESat2_co_TOPAZ/20190901/IS2SITDAT4_01_20190901162323_10020401_005_02_coIS2.pkl\n",
      "TOPAZ4 variables saved as: /scratch/project_465000269/edelleo1/Leo/SIT_observations/ICESat2_co_TOPAZ/20190901/IS2SITDAT4_01_20190901162323_10020401_005_02_coTP4.npy\n",
      "\n",
      "\n",
      "Working on track: 11\n",
      "Loading ICESat-2...\n",
      "Colocation on IS2SITDAT4_01_20190901175740_10030401_005_02_bnum1gt1l_001.nc\n",
      "Colocating IS2 profiles...\n",
      "Time \"get_closest_arr_xy\":   0.04341864585876465  secs\n",
      "2 TOPAZ Macro pixel with ICESat-2 profiles:\n",
      "Loading ICESat-2...\n",
      "Colocation on IS2SITDAT4_01_20190901175740_10030401_005_02_bnum3gt2l_001.nc\n",
      "Loading TOPAZ...\n",
      "Colocating IS2 profiles...\n",
      "Time \"get_closest_arr_xy\":   0.04032707214355469  secs\n",
      "1 TOPAZ Macro pixel with ICESat-2 profiles:\n",
      "Loading ICESat-2...\n",
      "Colocation on IS2SITDAT4_01_20190901175740_10030401_005_02_bnum5gt3l_001.nc\n",
      "Loading TOPAZ...\n",
      "Colocating IS2 profiles...\n",
      "Time \"get_closest_arr_xy\":   0.03320908546447754  secs\n",
      "0 TOPAZ Macro pixel with ICESat-2 profiles:\n",
      "Retrieving TOPAZ values for macro-pixels...\n",
      "ICESat-2 coloc profiles saved as: /scratch/project_465000269/edelleo1/Leo/SIT_observations/ICESat2_co_TOPAZ/20190901/IS2SITDAT4_01_20190901175740_10030401_005_02_coIS2.pkl\n",
      "TOPAZ4 variables saved as: /scratch/project_465000269/edelleo1/Leo/SIT_observations/ICESat2_co_TOPAZ/20190901/IS2SITDAT4_01_20190901175740_10030401_005_02_coTP4.npy\n",
      "\n",
      "\n",
      "Working on track: 12\n",
      "Loading ICESat-2...\n",
      "Colocation on IS2SITDAT4_01_20190901193158_10040401_005_02_bnum1gt1l_001.nc\n",
      "Colocating IS2 profiles...\n",
      "Time \"get_closest_arr_xy\":   0.20764613151550293  secs\n",
      "13 TOPAZ Macro pixel with ICESat-2 profiles:\n",
      "Loading ICESat-2...\n",
      "Colocation on IS2SITDAT4_01_20190901193158_10040401_005_02_bnum3gt2l_001.nc\n",
      "Loading TOPAZ...\n",
      "Colocating IS2 profiles...\n",
      "Time \"get_closest_arr_xy\":   0.22197484970092773  secs\n",
      "13 TOPAZ Macro pixel with ICESat-2 profiles:\n",
      "Loading ICESat-2...\n",
      "Colocation on IS2SITDAT4_01_20190901193158_10040401_005_02_bnum5gt3l_001.nc\n",
      "Loading TOPAZ...\n",
      "Colocating IS2 profiles...\n",
      "Time \"get_closest_arr_xy\":   0.21162867546081543  secs\n",
      "17 TOPAZ Macro pixel with ICESat-2 profiles:\n",
      "Retrieving TOPAZ values for macro-pixels...\n",
      "ICESat-2 coloc profiles saved as: /scratch/project_465000269/edelleo1/Leo/SIT_observations/ICESat2_co_TOPAZ/20190901/IS2SITDAT4_01_20190901193158_10040401_005_02_coIS2.pkl\n",
      "TOPAZ4 variables saved as: /scratch/project_465000269/edelleo1/Leo/SIT_observations/ICESat2_co_TOPAZ/20190901/IS2SITDAT4_01_20190901193158_10040401_005_02_coTP4.npy\n",
      "\n",
      "\n",
      "Working on track: 13\n",
      "Loading ICESat-2...\n",
      "Colocation on IS2SITDAT4_01_20190901210615_10050401_005_02_bnum1gt1l_001.nc\n",
      "Colocating IS2 profiles...\n",
      "Time \"get_closest_arr_xy\":   0.12678742408752441  secs\n",
      "12 TOPAZ Macro pixel with ICESat-2 profiles:\n",
      "Loading ICESat-2...\n",
      "Colocation on IS2SITDAT4_01_20190901210615_10050401_005_02_bnum3gt2l_001.nc\n"
     ]
    },
    {
     "name": "stdout",
     "output_type": "stream",
     "text": [
      "Loading TOPAZ...\n",
      "Colocating IS2 profiles...\n",
      "Time \"get_closest_arr_xy\":   0.10440206527709961  secs\n",
      "9 TOPAZ Macro pixel with ICESat-2 profiles:\n",
      "Loading ICESat-2...\n",
      "Colocation on IS2SITDAT4_01_20190901210615_10050401_005_02_bnum5gt3l_001.nc\n",
      "Loading TOPAZ...\n",
      "Colocating IS2 profiles...\n",
      "Time \"get_closest_arr_xy\":   0.09705543518066406  secs\n",
      "8 TOPAZ Macro pixel with ICESat-2 profiles:\n",
      "Retrieving TOPAZ values for macro-pixels...\n",
      "ICESat-2 coloc profiles saved as: /scratch/project_465000269/edelleo1/Leo/SIT_observations/ICESat2_co_TOPAZ/20190901/IS2SITDAT4_01_20190901210615_10050401_005_02_coIS2.pkl\n",
      "TOPAZ4 variables saved as: /scratch/project_465000269/edelleo1/Leo/SIT_observations/ICESat2_co_TOPAZ/20190901/IS2SITDAT4_01_20190901210615_10050401_005_02_coTP4.npy\n"
     ]
    }
   ],
   "source": [
    "for ntrack in range(ntracks):\n",
    "    print(f'\\n\\nWorking on track: {ntrack}')\n",
    "    \n",
    "    # beam 1\n",
    "    co.import_IS2(day=day, ntrack=ntrack, beam=1)\n",
    "    co.colocate_time()\n",
    "    co.colocate_profiles(nprof_threshold=1000)\n",
    "    \n",
    "    # beam 2\n",
    "    co2 = colocate_IS_TP.Coloc()\n",
    "#     co2.import_IS2(day=day, ntrack=ntrack, beam=2)  # loop on ntracks\n",
    "    err = co2.import_IS2(day=day, beam=2, name_track=co.file_is)\n",
    "    if err is None:  # error (==1) if file not found\n",
    "        co2.import_TOPAZ4(load_covar=False)\n",
    "        co2.colocate_time()\n",
    "        co2.colocate_profiles(nprof_threshold=1000)\n",
    "    \n",
    "    # beam 3\n",
    "    co3 = colocate_IS_TP.Coloc()\n",
    "#     co3.import_IS2(day=day, ntrack=ntrack, beam=3)  # loop on ntracks\n",
    "    err = co3.import_IS2(day=day, beam=3, name_track=co.file_is)\n",
    "    if err is None:  # error (==1) if file not found\n",
    "        co3.import_TOPAZ4(load_covar=False)\n",
    "        co3.colocate_time()\n",
    "        co3.colocate_profiles(nprof_threshold=1000)\n",
    "    \n",
    "    # fuse beams\n",
    "    co.fuse_3beams(co2, co3)\n",
    "    \n",
    "    # get TOPAZ values for the fused dictionary of macro-pixels\n",
    "    co.get_TP_1track()\n",
    "\n",
    "    # check that TOPAZ macro-pixel is not over land (SIT = nan)\n",
    "    co.remove_macro_over_land()\n",
    "    \n",
    "    co.save_track()"
   ]
  },
  {
   "cell_type": "code",
   "execution_count": 58,
   "id": "5c763ebf",
   "metadata": {
    "collapsed": true
   },
   "outputs": [
    {
     "name": "stdout",
     "output_type": "stream",
     "text": [
      "SIT for TOPAZ pixel \"148_45\": 1.15244368777286 m\n",
      "SIT averaged for ICESat-2: 1.0016812586230206 m\n",
      "Histogram for 1275 profiles from ICESat-2:\n"
     ]
    },
    {
     "data": {
      "image/png": "[encoded data removed]",
      "text/plain": [
       "<Figure size 640x480 with 1 Axes>"
      ]
     },
     "metadata": {},
     "output_type": "display_data"
    }
   ],
   "source": [
    "# co.draw_hist()"
   ]
  },
  {
   "cell_type": "markdown",
   "id": "ebcbdd57",
   "metadata": {},
   "source": [
    "# Import colocated dataset and reshape"
   ]
  },
  {
   "cell_type": "markdown",
   "id": "06ba2edb",
   "metadata": {},
   "source": [
    "## also need to scale inputs"
   ]
  },
  {
   "cell_type": "code",
   "execution_count": 21,
   "id": "fad852a0",
   "metadata": {},
   "outputs": [],
   "source": [
    "from importlib import reload"
   ]
  },
  {
   "cell_type": "code",
   "execution_count": 79,
   "id": "06251965",
   "metadata": {},
   "outputs": [
    {
     "data": {
      "text/plain": [
       "<module 'src.data_preparation.coloc_dataset' from '/users/edelleo1/tardis/tardis-ml/src/data_preparation/coloc_dataset.py'>"
      ]
     },
     "execution_count": 79,
     "metadata": {},
     "output_type": "execute_result"
    }
   ],
   "source": [
    "reload(coloc_dataset)"
   ]
  },
  {
   "cell_type": "code",
   "execution_count": 80,
   "id": "2761a0ca",
   "metadata": {
    "scrolled": true
   },
   "outputs": [
    {
     "name": "stdout",
     "output_type": "stream",
     "text": [
      "Importing...\n",
      "\t 2018-10-14\n",
      "\t 2018-10-15\n",
      "\t 2018-10-16\n",
      "Variable: lon excluded\n",
      "Variable: sia excluded\n",
      "Size of the training set:    1199 TOPAZ pixels\n",
      "Size of the validation set:   257 TOPAZ pixels\n",
      "Size of the test set:         258 TOPAZ pixels\n",
      "Scaling data...\n",
      "Scaler saved as: /scratch/project_465000269/edelleo1/Leo/results/distri_ml/ml/ScalerMM_15feat_03.pkl\n",
      "Dataset assembled\n"
     ]
    }
   ],
   "source": [
    "import numpy as np\n",
    "import datetime\n",
    "import os\n",
    "import random\n",
    "import pickle\n",
    "from glob import glob\n",
    "\n",
    "from src.data_preparation import coloc_dataset\n",
    "from src.modelling import model_distri\n",
    "\n",
    "import src.utils.tardisml_utils as tardisml_utils\n",
    "rootdir = tardisml_utils.get_rootdir()\n",
    "\n",
    "ml_dir = 'Leo/results/distri_ml/ml/'\n",
    "\n",
    "# ----------------------------------------\n",
    "#               Import dataset\n",
    "# ----------------------------------------\n",
    "\n",
    "# Dates to import dataset\n",
    "d1 = datetime.datetime(2018, 10, 14)\n",
    "d2 = datetime.datetime(2018, 10, 16) \n",
    "# d2 = datetime.datetime(2019, 4, 30) \n",
    "\n",
    "# ['SIT', 'month', 'lat', 'lon', 'siconc', 'sisnthick', 'zos', 'vxsi', 'vysi', \n",
    "# '2T', 'MSL', 'TP', '10V', '10U', 'SSR', 'STR', 'sia']\n",
    "var_to_exclude = ['lon', 'sia']\n",
    "all_days = np.array([d1 + datetime.timedelta(days=x) for x in range((d2-d1).days + 1)])\n",
    "\n",
    "\n",
    "ds = coloc_dataset.DatasetTrain(days=all_days, rootdir=rootdir, ml_dir=ml_dir)\n",
    "\n",
    "ds.exclude_var(var_to_exclude=var_to_exclude)\n",
    "\n",
    "ds.check_nan()\n",
    "ds.dataset_split()\n",
    "ds.assemble_dataset(scaling=True)"
   ]
  },
  {
   "cell_type": "code",
   "execution_count": 85,
   "id": "bf122fc4",
   "metadata": {},
   "outputs": [
    {
     "data": {
      "text/plain": [
       "array([43., 44., 45.])"
      ]
     },
     "execution_count": 85,
     "metadata": {},
     "output_type": "execute_result"
    }
   ],
   "source": [
    "np.unique(ds.sp_tp[:, 1])"
   ]
  },
  {
   "cell_type": "code",
   "execution_count": 11,
   "id": "b8ef0b42",
   "metadata": {},
   "outputs": [],
   "source": [
    "fig_dir = 'Leo/results/distri_ml/figures/'\n",
    "odir= f'{rootdir}{fig_dir}'\n",
    "ofile = 'loss.png'\n",
    "filename = f'{odir}{ofile}'"
   ]
  },
  {
   "cell_type": "code",
   "execution_count": 20,
   "id": "a30751d7",
   "metadata": {},
   "outputs": [],
   "source": [
    "midx = 0\n",
    "ytrue =ds.dataset['ytest'][midx]\n",
    "ypred = ytrue*10\n",
    "\n",
    "bins_tp5 = np.array([0, 0.64, 1.39, 2.47, 4.57, 20])\n",
    "\n",
    "import matplotlib.pyplot as plt\n",
    "from src.visualization import visu_mdl_distri as vmd"
   ]
  },
  {
   "cell_type": "code",
   "execution_count": 22,
   "id": "73692eea",
   "metadata": {},
   "outputs": [
    {
     "data": {
      "text/plain": [
       "<module 'src.visualization.visu_mdl_distri' from '/users/edelleo1/tardis/tardis-ml/src/visualization/visu_mdl_distri.py'>"
      ]
     },
     "execution_count": 22,
     "metadata": {},
     "output_type": "execute_result"
    }
   ],
   "source": [
    "reload(vmd)"
   ]
  },
  {
   "cell_type": "code",
   "execution_count": 96,
   "id": "d34cf982",
   "metadata": {},
   "outputs": [
    {
     "name": "stdout",
     "output_type": "stream",
     "text": [
      "Saved as: /scratch/project_465000269/edelleo1/Leo/results/distri_ml/figures/Obs_distri1D.png\n",
      "Saved as: /scratch/project_465000269/edelleo1/Leo/results/distri_ml/figures/hist_distri1D.png\n",
      "Saved as: /scratch/project_465000269/edelleo1/Leo/results/distri_ml/figures/hist_distri1D_icecat.png\n"
     ]
    }
   ],
   "source": [
    "vmd.draw_yt_yp(ytrue, ypred, showfig=False, savefig=True, odir=odir)\n",
    "vmd.hist_yt_yp(ytrue, ypred, showfig=False, savefig=True, odir=odir)\n",
    "\n",
    "vmd.hist_yt_yp_icecat(ytrue, ypred, showfig=False, savefig=True, odir=odir)"
   ]
  },
  {
   "cell_type": "code",
   "execution_count": 40,
   "id": "9b7f2a1f",
   "metadata": {},
   "outputs": [],
   "source": [
    "# ----------------------------------------\n",
    "#               Build ML model\n",
    "# ----------------------------------------\n",
    "\n",
    "\n",
    "# Create data generators for each training/val/test set\n",
    "batch_size = 32 \n",
    "train_generator = ds.make_generator(train=True, batch_size=batch_size)\n",
    "val_generator = ds.make_generator(val=True, batch_size=batch_size)\n",
    "test_generator = ds.make_generator(test=True, batch_size=batch_size)"
   ]
  },
  {
   "cell_type": "code",
   "execution_count": 114,
   "id": "24694c8d",
   "metadata": {},
   "outputs": [
    {
     "data": {
      "text/plain": [
       "<module 'src.modelling.model_distri' from '/users/edelleo1/tardis/tardis-ml/src/modelling/model_distri.py'>"
      ]
     },
     "execution_count": 114,
     "metadata": {},
     "output_type": "execute_result"
    }
   ],
   "source": [
    "reload(model_distri)"
   ]
  },
  {
   "cell_type": "code",
   "execution_count": 115,
   "id": "d1d84c65",
   "metadata": {},
   "outputs": [],
   "source": [
    "# Build the model\n",
    "from src.modelling import model_distri\n",
    "ml_dir = 'Leo/results/distri_ml/ml/'\n",
    "\n",
    "\n",
    "m0 = model_distri.ModelDistri(ds.nfeat, ds.num_obs, rootdir, ml_dir)\n",
    "# model = build_model_crpsc(num_features, num_obs_train)"
   ]
  },
  {
   "cell_type": "code",
   "execution_count": 44,
   "id": "eb67ce84",
   "metadata": {},
   "outputs": [
    {
     "name": "stdout",
     "output_type": "stream",
     "text": [
      "Model: \"model_2\"\n",
      "_________________________________________________________________\n",
      " Layer (type)                Output Shape              Param #   \n",
      "=================================================================\n",
      " input_3 (InputLayer)        [(None, 17, 1)]           0         \n",
      "                                                                 \n",
      " dense_6 (Dense)             (None, 17, 64)            128       \n",
      "                                                                 \n",
      " dropout_4 (Dropout)         (None, 17, 64)            0         \n",
      "                                                                 \n",
      " dense_7 (Dense)             (None, 17, 128)           8320      \n",
      "                                                                 \n",
      " dropout_5 (Dropout)         (None, 17, 128)           0         \n",
      "                                                                 \n",
      " flatten_2 (Flatten)         (None, 2176)              0         \n",
      "                                                                 \n",
      " dense_8 (Dense)             (None, 1000)              2177000   \n",
      "                                                                 \n",
      "=================================================================\n",
      "Total params: 2,185,448\n",
      "Trainable params: 2,185,448\n",
      "Non-trainable params: 0\n",
      "_________________________________________________________________\n"
     ]
    }
   ],
   "source": [
    "m0.model.summary()"
   ]
  },
  {
   "cell_type": "code",
   "execution_count": null,
   "id": "a12b01be",
   "metadata": {},
   "outputs": [
    {
     "name": "stderr",
     "output_type": "stream",
     "text": [
      "2023-05-09 16:04:22.351347: I tensorflow/core/common_runtime/gpu_fusion_pass.cc:507] ROCm Fusion is enabled.\n",
      "2023-05-09 16:04:22.385153: I tensorflow/core/common_runtime/gpu_fusion_pass.cc:507] ROCm Fusion is enabled.\n",
      "2023-05-09 16:04:22.387386: I tensorflow/core/common_runtime/gpu_fusion_pass.cc:507] ROCm Fusion is enabled.\n",
      "2023-05-09 16:04:22.388784: I tensorflow/core/common_runtime/gpu_fusion_pass.cc:507] ROCm Fusion is enabled.\n",
      "2023-05-09 16:04:22.390194: I tensorflow/core/common_runtime/gpu_fusion_pass.cc:507] ROCm Fusion is enabled.\n",
      "2023-05-09 16:04:22.396385: I tensorflow/core/common_runtime/gpu_fusion_pass.cc:507] ROCm Fusion is enabled.\n",
      "2023-05-09 16:04:22.398086: I tensorflow/core/common_runtime/gpu_fusion_pass.cc:507] ROCm Fusion is enabled.\n",
      "2023-05-09 16:04:22.399127: I tensorflow/core/common_runtime/gpu_fusion_pass.cc:507] ROCm Fusion is enabled.\n"
     ]
    }
   ],
   "source": [
    "# Train the model\n",
    "epochs = 50\n",
    "# history = model.fit(train_generator, epochs=epochs, validation_data=val_generator)\n",
    "# with tf.device('/CPU:0'):\n",
    "# history = model.fit(x=train_lr, y=train_gt, epochs=epochs, validation_data=(val_lr, val_gt))\n",
    "history = m0.model.fit(train_generator, epochs=epochs, validation_data=val_generator)"
   ]
  },
  {
   "cell_type": "code",
   "execution_count": null,
   "id": "16748d44",
   "metadata": {},
   "outputs": [],
   "source": []
  },
  {
   "cell_type": "code",
   "execution_count": 116,
   "id": "b56160a1",
   "metadata": {},
   "outputs": [
    {
     "name": "stdout",
     "output_type": "stream",
     "text": [
      "Saving model weights...\n"
     ]
    },
    {
     "name": "stderr",
     "output_type": "stream",
     "text": [
      "2023-05-09 17:23:01.310475: I tensorflow/core/common_runtime/gpu_fusion_pass.cc:507] ROCm Fusion is enabled.\n",
      "2023-05-09 17:23:01.419457: I tensorflow/core/common_runtime/gpu_fusion_pass.cc:507] ROCm Fusion is enabled.\n",
      "2023-05-09 17:23:01.481455: I tensorflow/core/common_runtime/gpu_fusion_pass.cc:507] ROCm Fusion is enabled.\n",
      "2023-05-09 17:23:01.482853: I tensorflow/core/common_runtime/gpu_fusion_pass.cc:507] ROCm Fusion is enabled.\n",
      "2023-05-09 17:23:01.484200: I tensorflow/core/common_runtime/gpu_fusion_pass.cc:507] ROCm Fusion is enabled.\n",
      "2023-05-09 17:23:01.485337: I tensorflow/core/common_runtime/gpu_fusion_pass.cc:507] ROCm Fusion is enabled.\n",
      "2023-05-09 17:23:01.486382: I tensorflow/core/common_runtime/gpu_fusion_pass.cc:507] ROCm Fusion is enabled.\n",
      "2023-05-09 17:23:01.487973: I tensorflow/core/common_runtime/gpu_fusion_pass.cc:507] ROCm Fusion is enabled.\n",
      "2023-05-09 17:23:01.489192: I tensorflow/core/common_runtime/gpu_fusion_pass.cc:507] ROCm Fusion is enabled.\n",
      "2023-05-09 17:23:01.490176: I tensorflow/core/common_runtime/gpu_fusion_pass.cc:507] ROCm Fusion is enabled.\n",
      "2023-05-09 17:23:01.491180: I tensorflow/core/common_runtime/gpu_fusion_pass.cc:507] ROCm Fusion is enabled.\n",
      "2023-05-09 17:23:01.492395: I tensorflow/core/common_runtime/gpu_fusion_pass.cc:507] ROCm Fusion is enabled.\n",
      "2023-05-09 17:23:01.493371: I tensorflow/core/common_runtime/gpu_fusion_pass.cc:507] ROCm Fusion is enabled.\n",
      "2023-05-09 17:23:01.494350: I tensorflow/core/common_runtime/gpu_fusion_pass.cc:507] ROCm Fusion is enabled.\n",
      "2023-05-09 17:23:01.495569: I tensorflow/core/common_runtime/gpu_fusion_pass.cc:507] ROCm Fusion is enabled.\n",
      "2023-05-09 17:23:01.496549: I tensorflow/core/common_runtime/gpu_fusion_pass.cc:507] ROCm Fusion is enabled.\n",
      "2023-05-09 17:23:01.497532: I tensorflow/core/common_runtime/gpu_fusion_pass.cc:507] ROCm Fusion is enabled.\n",
      "2023-05-09 17:23:01.498748: I tensorflow/core/common_runtime/gpu_fusion_pass.cc:507] ROCm Fusion is enabled.\n",
      "2023-05-09 17:23:01.499746: I tensorflow/core/common_runtime/gpu_fusion_pass.cc:507] ROCm Fusion is enabled.\n",
      "2023-05-09 17:23:01.500734: I tensorflow/core/common_runtime/gpu_fusion_pass.cc:507] ROCm Fusion is enabled.\n",
      "2023-05-09 17:23:01.501949: I tensorflow/core/common_runtime/gpu_fusion_pass.cc:507] ROCm Fusion is enabled.\n",
      "2023-05-09 17:23:01.503127: I tensorflow/core/common_runtime/gpu_fusion_pass.cc:507] ROCm Fusion is enabled.\n",
      "2023-05-09 17:23:01.504106: I tensorflow/core/common_runtime/gpu_fusion_pass.cc:507] ROCm Fusion is enabled.\n",
      "2023-05-09 17:23:01.505305: I tensorflow/core/common_runtime/gpu_fusion_pass.cc:507] ROCm Fusion is enabled.\n",
      "2023-05-09 17:23:01.506258: I tensorflow/core/common_runtime/gpu_fusion_pass.cc:507] ROCm Fusion is enabled.\n",
      "2023-05-09 17:23:01.507243: I tensorflow/core/common_runtime/gpu_fusion_pass.cc:507] ROCm Fusion is enabled.\n",
      "2023-05-09 17:23:01.508290: I tensorflow/core/common_runtime/gpu_fusion_pass.cc:507] ROCm Fusion is enabled.\n",
      "2023-05-09 17:23:01.509410: I tensorflow/core/common_runtime/gpu_fusion_pass.cc:507] ROCm Fusion is enabled.\n",
      "2023-05-09 17:23:01.510359: I tensorflow/core/common_runtime/gpu_fusion_pass.cc:507] ROCm Fusion is enabled.\n",
      "2023-05-09 17:23:01.511337: I tensorflow/core/common_runtime/gpu_fusion_pass.cc:507] ROCm Fusion is enabled.\n"
     ]
    },
    {
     "name": "stdout",
     "output_type": "stream",
     "text": [
      "Saved as: /scratch/project_465000269/edelleo1/Leo/results/distri_ml/ml/model_weights_CRPSC\n"
     ]
    },
    {
     "name": "stderr",
     "output_type": "stream",
     "text": [
      "2023-05-09 17:23:01.513347: I tensorflow/core/common_runtime/gpu_fusion_pass.cc:507] ROCm Fusion is enabled.\n",
      "2023-05-09 17:23:01.539816: I tensorflow/core/common_runtime/gpu_fusion_pass.cc:507] ROCm Fusion is enabled.\n",
      "2023-05-09 17:23:01.540970: I tensorflow/core/common_runtime/gpu_fusion_pass.cc:507] ROCm Fusion is enabled.\n",
      "2023-05-09 17:23:01.546322: I tensorflow/core/common_runtime/gpu_fusion_pass.cc:507] ROCm Fusion is enabled.\n"
     ]
    }
   ],
   "source": [
    "m0.save_model_weights()"
   ]
  },
  {
   "cell_type": "code",
   "execution_count": null,
   "id": "4ea09581",
   "metadata": {},
   "outputs": [],
   "source": []
  },
  {
   "cell_type": "markdown",
   "id": "91242933",
   "metadata": {},
   "source": [
    "# ----------------------------------------------------------"
   ]
  },
  {
   "cell_type": "code",
   "execution_count": null,
   "id": "e1eabf52",
   "metadata": {},
   "outputs": [],
   "source": []
  },
  {
   "cell_type": "code",
   "execution_count": null,
   "id": "1c05baef",
   "metadata": {},
   "outputs": [],
   "source": []
  },
  {
   "cell_type": "code",
   "execution_count": null,
   "id": "cdd43722",
   "metadata": {},
   "outputs": [],
   "source": []
  },
  {
   "cell_type": "markdown",
   "id": "e26e47de",
   "metadata": {},
   "source": [
    "# Deep learning"
   ]
  },
  {
   "cell_type": "code",
   "execution_count": 14,
   "id": "8a74a52c",
   "metadata": {},
   "outputs": [],
   "source": [
    "import matplotlib.pyplot as plt"
   ]
  },
  {
   "cell_type": "code",
   "execution_count": 15,
   "id": "f8f26b62",
   "metadata": {},
   "outputs": [
    {
     "name": "stderr",
     "output_type": "stream",
     "text": [
      "2023-05-06 01:01:07.195327: I tensorflow/core/platform/cpu_feature_guard.cc:193] This TensorFlow binary is optimized with oneAPI Deep Neural Network Library (oneDNN) to use the following CPU instructions in performance-critical operations:  SSE3 SSE4.1 SSE4.2 AVX AVX2 FMA\n",
      "To enable them in other operations, rebuild TensorFlow with the appropriate compiler flags.\n"
     ]
    }
   ],
   "source": [
    "import tensorflow as tf"
   ]
  },
  {
   "cell_type": "code",
   "execution_count": 16,
   "id": "2e5c6d8a",
   "metadata": {},
   "outputs": [],
   "source": [
    "from tensorflow.keras.utils import Sequence\n",
    "\n",
    "# Define the data loader\n",
    "class DataGenerator(Sequence):\n",
    "\n",
    "    def __init__(self, lr_estimations, ground_truth_distributions, batch_size=32, shuffle=True):\n",
    "        self.lr_estimations = lr_estimations\n",
    "        self.ground_truth_distributions = ground_truth_distributions\n",
    "        self.batch_size = batch_size\n",
    "        self.shuffle = shuffle\n",
    "        self.on_epoch_end()\n",
    "\n",
    "    def __len__(self):\n",
    "        return int(np.ceil(len(self.lr_estimations) / self.batch_size))\n",
    "\n",
    "    def __getitem__(self, idx):\n",
    "        indexes = self.indexes[idx*self.batch_size:(idx+1)*self.batch_size]\n",
    "#         X_lr = np.expand_dims(self.lr_estimations[indexes], axis=-1)\n",
    "        X_lr = self.lr_estimations[indexes]\n",
    "\n",
    "        y = self.ground_truth_distributions[indexes]\n",
    "#         y = np.expand_dims(self.ground_truth_distributions[indexes], axis=-1)\n",
    "#         print('X: ', X_lr.shape)\n",
    "#         print('y:', y.shape)\n",
    "        return X_lr, y\n",
    "\n",
    "    def on_epoch_end(self):\n",
    "        self.indexes = np.arange(len(self.lr_estimations))\n",
    "        if self.shuffle == True:\n",
    "            np.random.shuffle(self.indexes)"
   ]
  },
  {
   "cell_type": "raw",
   "id": "b6d254f8",
   "metadata": {},
   "source": [
    "def ecdf(a):\n",
    "    '''returns x,y\n",
    "    from\n",
    "    https://stackoverflow.com/questions/24788200/calculate-the-cumulative-distribution-function-cdf-in-python\n",
    "    '''\n",
    "    x, counts = np.unique(a, return_counts=True)\n",
    "    cusum = np.cumsum(counts)\n",
    "    return x, cusum / cusum[-1]\n",
    "\n",
    "def cdf_bins(a,bins):\n",
    "    pdf, bin_edges = np.histogram(a, bins=bins, density=True)\n",
    "    cdf = np.cumsum(pdf*np.diff(bin_edges))\n",
    "    return cdf\n",
    "\n",
    "def compute_area(y1, y2, x):\n",
    "    '''\n",
    "    y1       :    cdf curve 1\n",
    "    y2       :    cdf curve 2\n",
    "    x        :    bins (similar for both curves)\n",
    "    \n",
    "    from \n",
    "    https://stackoverflow.com/questions/25439243/find-the-area-between-two-curves-plotted-in-matplotlib-fill-between-area\n",
    "    '''\n",
    "    z = y1 - y2\n",
    "    dx = x[1:] - x[:-1]\n",
    "    cross_test = np.sign(z[:-1] * z[1:])  # negative when curves cross\n",
    "\n",
    "    x_intersect = x[:-1] - dx / (z[1:] - z[:-1]) * z[:-1]\n",
    "    dx_intersect = - dx / (z[1:] - z[:-1]) * z[:-1]\n",
    "\n",
    "    areas_pos = abs(z[:-1] + z[1:]) * 0.5 * dx  # no intersection: signs of both z are same: add area of rectangle\n",
    "    # intersection: add area of 2 triangles\n",
    "    areas_neg = 0.5 * dx_intersect * abs(z[:-1]) + 0.5 * (dx - dx_intersect) * abs(z[1:])  \n",
    "\n",
    "    areas = np.where(cross_test < 0, areas_neg, areas_pos)\n",
    "#     total_area = np.sum(areas)\n",
    "\n",
    "#     negatives = np.where(cross_test < 0)[0]\n",
    "#     positives = np.where(cross_test >= 0)[0]\n",
    "    \n",
    "#     return total_area, negatives, positives\n",
    "    return np.sum(areas)"
   ]
  },
  {
   "cell_type": "code",
   "execution_count": 17,
   "id": "65afa708",
   "metadata": {},
   "outputs": [],
   "source": [
    "def tf_ecdf(a):\n",
    "    '''returns x,y\n",
    "    from\n",
    "    https://stackoverflow.com/questions/24788200/calculate-the-cumulative-distribution-function-cdf-in-python\n",
    "    '''\n",
    "    x, idx, counts = tf.unique_with_counts(tf.reshape(a, [-1]))\n",
    "    cusum = tf.cumsum(counts)\n",
    "    return x, cusum / cusum[-1]"
   ]
  },
  {
   "cell_type": "raw",
   "id": "07e891c7",
   "metadata": {},
   "source": [
    "def cdf_bins(a, bins):\n",
    "    counts = tf.histogram_fixed_width(a, bins, [tf.reduce_min(a), tf.reduce_max(a)])\n",
    "    pdf = tf.divide(counts, tf.reduce_sum(counts))\n",
    "    cdf = tf.cumsum(pdf * (bins[1:] - bins[:-1]))\n",
    "    return cdf"
   ]
  },
  {
   "cell_type": "code",
   "execution_count": 18,
   "id": "926a64e4",
   "metadata": {},
   "outputs": [],
   "source": [
    "def tf_cdf_bins(values, bins):\n",
    "    # Compute the indices of the bins for each value\n",
    "    indices = tf.searchsorted(bins, values, side='right') - 1\n",
    "    \n",
    "    # Clip the indices to ensure they are within the bounds of the bins\n",
    "    clipped_indices = tf.clip_by_value(indices, 0, len(bins) - 2)\n",
    "    \n",
    "    # Compute the histogram by counting the number of values in each bin\n",
    "    hist = tf.math.bincount(clipped_indices, minlength=len(bins) - 1)\n",
    "    \n",
    "    pdf = hist / tf.reduce_sum(hist)\n",
    "    cdf = tf.cumsum(pdf)\n",
    "    \n",
    "    return cdf\n"
   ]
  },
  {
   "cell_type": "code",
   "execution_count": 19,
   "id": "b033697b",
   "metadata": {},
   "outputs": [],
   "source": [
    "def tf_compute_area(y1, y2, x):\n",
    "    '''\n",
    "    y1       :    cdf curve 1\n",
    "    y2       :    cdf curve 2\n",
    "    x        :    bins (similar for both curves)\n",
    "    \n",
    "    from \n",
    "    https://stackoverflow.com/questions/25439243/find-the-area-between-two-curves-plotted-in-matplotlib-fill-between-area\n",
    "    '''\n",
    "    z = y1 - y2\n",
    "    dx = x[1:] - x[:-1]\n",
    "    cross_test = tf.math.sign(z[:-1] * z[1:])  # negative when curves cross\n",
    "\n",
    "    z = tf.cast(z, dtype=tf.float32)  # conflit with float64\n",
    "    \n",
    "    x_intersect = x[:-1] - dx / (z[1:] - z[:-1]) * z[:-1]\n",
    "    dx_intersect = - dx / (z[1:] - z[:-1]) * z[:-1]\n",
    "\n",
    "    areas_pos = tf.abs(z[:-1] + z[1:]) * 0.5 * dx  # no intersection: signs of both z are same: add area of rectangle\n",
    "    # intersection: add area of 2 triangles\n",
    "    areas_neg = 0.5 * dx_intersect * tf.abs(z[:-1]) + 0.5 * (dx - dx_intersect) * tf.abs(z[1:])  \n",
    "\n",
    "    areas = tf.where(cross_test < 0, areas_neg, areas_pos)\n",
    "\n",
    "    return tf.reduce_sum(areas)\n"
   ]
  },
  {
   "cell_type": "code",
   "execution_count": 20,
   "id": "78eb0c7b",
   "metadata": {},
   "outputs": [],
   "source": [
    "def loss_crps_curves(y_true, y_pred):\n",
    "    '''Loss function CRPS with 2 distributions\n",
    "    \n",
    "    returns area between 2 curves (that we want to minimize)\n",
    "    '''\n",
    "    # CDF for truth data (ICESat-2)\n",
    "    bins_true, cdf_true = tf_ecdf(y_true)\n",
    "    \n",
    "    # add a MAX bin, to have same length of CDF\n",
    "    bins_true_proj = tf.concat([bins_true, tf.constant([30.0])], axis=0)  # should never have SIT > 30\n",
    "    \n",
    "    # CDF for predicted values\n",
    "    cdf_pred = tf_cdf_bins(y_pred, bins_true_proj)\n",
    "    \n",
    "    # get area\n",
    "    area = tf_compute_area(cdf_true, cdf_pred, bins_true)\n",
    "    \n",
    "    print(type(area))\n",
    "    \n",
    "    return area\n",
    "    "
   ]
  },
  {
   "cell_type": "code",
   "execution_count": 21,
   "id": "66df6afa",
   "metadata": {},
   "outputs": [],
   "source": [
    "def loss_crps_curves_full(y_true, y_pred):\n",
    "    '''Loss function CRPS with 2 distributions\n",
    "    \n",
    "    returns area between 2 curves (that we want to minimize)\n",
    "    '''\n",
    "    \n",
    "    y_true = tf.convert_to_tensor(y_true)\n",
    "    y_pred = tf.cast(y_pred, y_true.dtype)\n",
    "    \n",
    "    ## CDF for truth data (ICESat-2)\n",
    "    bins_true, idx, counts = tf.unique_with_counts(tf.reshape(y_true, [-1]))\n",
    "    cusum = tf.cumsum(counts)\n",
    "    cdf_true = tf.divide(cusum, cusum[-1])\n",
    "    \n",
    "    # add a MAX bin, to have same length of CDF\n",
    "    bins_true_proj = tf.concat([bins_true, tf.constant([30.0])], axis=0)  # should never have SIT > 30\n",
    "    \n",
    "    ## CDF for predicted values\n",
    "    # Compute the indices of the bins for each value\n",
    "    indices = tf.searchsorted(bins_true_proj, y_pred, side='right') - 1   \n",
    "    # Clip the indices to ensure they are within the bounds of the bins\n",
    "    clipped_indices = tf.clip_by_value(indices, 0, len(bins_true_proj) - 2)\n",
    "    # Compute the histogram by counting the number of values in each bin\n",
    "    hist = tf.math.bincount(clipped_indices, minlength=len(bins_true_proj) - 1)\n",
    "    cdf_pred = tf.cumsum( tf.divide(hist, tf.reduce_sum(hist)) )\n",
    "\n",
    "    ## get area\n",
    "    # area = compute_area(cdf_true, cdf_pred, bins_true)\n",
    "    z = tf.math.subtract(cdf_true, cdf_pred)\n",
    "    dx = tf.math.subtract(bins_true[1:], bins_true[:-1])\n",
    "#     z = cdf_true - cdf_pred\n",
    "#     dx = bins_true[1:] - bins_true[:-1]\n",
    "    cross_test = tf.math.sign(tf.multiply(z[:-1], z[1:]) )  # negative when curves cross\n",
    "\n",
    "    z = tf.cast(z, dtype=tf.float32)  # conflit with float64\n",
    "    \n",
    "#     x_intersect = bins_true[:-1] - dx / (z[1:] - z[:-1]) * z[:-1]\n",
    "    x_intersect = tf.subtract(bins_true[:-1], tf.multiply(tf.divide(dx, tf.subtract(z[1:], z[:-1])), z[:-1]))\n",
    "    print(type(x_intersect))\n",
    "    \n",
    "#     dx_intersect = - dx / (z[1:] - z[:-1]) * z[:-1]\n",
    "    dx_intersect = - tf.divide(dx, tf.multiply(tf.subtract(z[1:], z[:-1]), z[:-1]) )\n",
    "    print(type(dx_intersect))\n",
    "    \n",
    "    \n",
    "#     areas_pos = tf.abs(z[:-1] + z[1:]) * 0.5 * dx  # no intersection: signs of both z are same: add area of rectangle\n",
    "    areas_pos = tf.multiply(tf.multiply(tf.abs(tf.add(z[:-1], z[1:])), dx), tf.constant([0.5]) )\n",
    "    \n",
    "    # intersection: add area of 2 triangles\n",
    "#     areas_neg = 0.5 * dx_intersect * tf.abs(z[:-1]) + 0.5 * (dx - dx_intersect) * tf.abs(z[1:])\n",
    "    areas_neg = tf.add(tf.multiply(tf.multiply(tf.constant([0.5]), dx_intersect), tf.abs(z[:-1])),\n",
    "                       tf.multiply(0.5, tf.multiply(tf.subtract(dx, dx_intersect), tf.abs(z[1:])) ) )\n",
    "\n",
    "    areas = tf.where(cross_test < 0, areas_neg, areas_pos)\n",
    "    area = tf.reduce_sum(areas)\n",
    "        \n",
    "    print(type(area))\n",
    "    \n",
    "    \n",
    "    gradients = None\n",
    "    with tf.GradientTape() as tape:\n",
    "        gradients = tape.gradient(z, model.trainable_variables)\n",
    "        \n",
    "    print('gradients:')\n",
    "    print(gradients)\n",
    "    \n",
    "        \n",
    "    return area\n",
    "    "
   ]
  },
  {
   "cell_type": "code",
   "execution_count": 22,
   "id": "984f482a",
   "metadata": {},
   "outputs": [],
   "source": [
    "def loss_test(y_true, y_pred):\n",
    "    '''Loss function CRPS with 2 distributions\n",
    "    \n",
    "    returns area between 2 curves (that we want to minimize)\n",
    "    '''\n",
    "    \n",
    "    y_true = tf.convert_to_tensor(y_true)\n",
    "    y_pred = tf.cast(y_pred, y_true.dtype)\n",
    "    \n",
    "    mse_loss = tf.reduce_mean(tf.square(y_true - y_pred))\n",
    "    \n",
    "#     ## CDF for truth data (ICESat-2)\n",
    "#     bins_true, idx, counts = tf.unique_with_counts(tf.reshape(y_true, [-1]))\n",
    "#     cusum = tf.cumsum(counts)\n",
    "#     cdf_true = tf.divide(cusum, cusum[-1])\n",
    "    \n",
    "#     # add a MAX bin, to have same length of CDF\n",
    "#     bins_true_proj = tf.concat([bins_true, tf.constant([30.0])], axis=0)  # should never have SIT > 30\n",
    "    \n",
    "#     ## CDF for predicted values\n",
    "#     # Compute the indices of the bins for each value\n",
    "#     indices = tf.searchsorted(bins_true_proj, y_pred, side='right')rue_proj) - 1)\n",
    "#     cdf_pred = tf.cumsum( tf.divide(hist, tf.reduce_sum(hist))  - 1   \n",
    "#     # Clip the indices to ensure they are within the bounds of the bins\n",
    "#     clipped_indices = tf.clip_by_value(indices, 0, len(bins_true_proj) - 2)\n",
    "#     # Compute the histogram by counting the number of values in each bin\n",
    "#     hist = tf.math.bincount(clipped_indices, minlength=len(bins_t)\n",
    "\n",
    "#     ## get area\n",
    "#     # area = compute_area(cdf_true, cdf_pred, bins_true)\n",
    "#     z = tf.math.subtract(cdf_true, cdf_pred)\n",
    "#     dx = tf.math.subtract(bins_true[1:], bins_true[:-1])\n",
    "# #     z = cdf_true - cdf_pred\n",
    "# #     dx = bins_true[1:] - bins_true[:-1]\n",
    "#     cross_test = tf.math.sign(tf.multiply(z[:-1], z[1:]) )  # negative when curves cross\n",
    "\n",
    "#     z = tf.cast(z, dtype=tf.float32)  # conflit with float64\n",
    "    \n",
    "# #     x_intersect = bins_true[:-1] - dx / (z[1:] - z[:-1]) * z[:-1]\n",
    "#     x_intersect = tf.subtract(bins_true[:-1], tf.multiply(tf.divide(dx, tf.subtract(z[1:], z[:-1])), z[:-1]))\n",
    "#     print(type(x_intersect))\n",
    "    \n",
    "# #     dx_intersect = - dx / (z[1:] - z[:-1]) * z[:-1]\n",
    "#     dx_intersect = - tf.divide(dx, tf.multiply(tf.subtract(z[1:], z[:-1]), z[:-1]) )\n",
    "#     print(type(dx_intersect))\n",
    "    \n",
    "    \n",
    "# #     areas_pos = tf.abs(z[:-1] + z[1:]) * 0.5 * dx  # no intersection: signs of both z are same: add area of rectangle\n",
    "#     areas_pos = tf.multiply(tf.multiply(tf.abs(tf.add(z[:-1], z[1:])), dx), tf.constant([0.5]) )\n",
    "    \n",
    "#     # intersection: add area of 2 triangles\n",
    "# #     areas_neg = 0.5 * dx_intersect * tf.abs(z[:-1]) + 0.5 * (dx - dx_intersect) * tf.abs(z[1:])\n",
    "#     areas_neg = tf.add(tf.multiply(tf.multiply(tf.constant([0.5]), dx_intersect), tf.abs(z[:-1])),\n",
    "#                        tf.multiply(0.5, tf.multiply(tf.subtract(dx, dx_intersect), tf.abs(z[1:])) ) )\n",
    "\n",
    "#     areas = tf.where(cross_test < 0, areas_neg, areas_pos)\n",
    "#     area = tf.reduce_sum(areas)\n",
    "        \n",
    "#     print(type(area))\n",
    "    \n",
    "    \n",
    "    gradients = None\n",
    "    with tf.GradientTape() as tape:\n",
    "#         gradients = tape.gradient(z, model.trainable_variables)\n",
    "        gradients = tape.gradient(mse_loss, model.trainable_variables)\n",
    "        \n",
    "        \n",
    "    print('gradients:')\n",
    "    print(gradients)\n",
    "    \n",
    "        \n",
    "#     return area\n",
    "    return mse_loss\n",
    "\n",
    "    "
   ]
  },
  {
   "cell_type": "raw",
   "id": "2d770c39",
   "metadata": {},
   "source": [
    "tt = MyMseLoss()"
   ]
  },
  {
   "cell_type": "raw",
   "id": "4215bc5e",
   "metadata": {
    "scrolled": true
   },
   "source": [
    "tt.call(y[0, :20], y[1, :20])"
   ]
  },
  {
   "cell_type": "raw",
   "id": "386a8069",
   "metadata": {
    "scrolled": false
   },
   "source": [
    "tt.call(y[:, :20], y[:, :20])"
   ]
  },
  {
   "cell_type": "raw",
   "id": "d300cf2c",
   "metadata": {
    "scrolled": false
   },
   "source": [
    "custom_loss(y[:, :20], y[:, 1:21])"
   ]
  },
  {
   "cell_type": "raw",
   "id": "cc868f89",
   "metadata": {},
   "source": [
    "from tensorflow.keras.losses import Loss\n",
    "\n",
    "\n",
    "class MyMseLoss(Loss):\n",
    "      # initialize instance attributes\n",
    "    def __init__(self):\n",
    "        super(MyMseLoss, self).__init__()\n",
    "#         self.threshold = threshold\n",
    "        \n",
    "    # Compute loss\n",
    "    def call(self, y_true, y_pred):\n",
    "\n",
    "        \n",
    "        def process_sample(y_true_sample, y_pred_sample):\n",
    "        y_true = tf.convert_to_tensor(tf.sort(y_true[0]))\n",
    "        y_pred = tf.cast(tf.sort(y_pred[0]), y_true.dtype)\n",
    "    \n",
    "        mse_loss = tf.reduce_mean(tf.square(y_true - y_pred))\n",
    "        print('mse loss:  ', mse_loss)\n",
    "        \n",
    "    \n",
    "        ## CDF for truth data (ICESat-2)\n",
    "#         bins_true, idx, counts = tf.unique_with_counts(tf.reshape(y_true, [-1]))\n",
    "        bins_true, idx, counts = tf.unique_with_counts(y_true)\n",
    "        \n",
    "        cusum = tf.cumsum(counts)\n",
    "        cdf_true = tf.divide(cusum, cusum[-1])\n",
    "\n",
    "#         print(bins_true)\n",
    "#         import pdb; pdb.set_trace()\n",
    "        \n",
    "        # add a MAX bin, to have same length of CDF\n",
    "        bins_true_proj = tf.concat([bins_true, tf.cast([30.0], bins_true.dtype)], axis=0)  # should never have SIT > 30\n",
    "#         bins_true_proj = tf.concat([tf.concat([[0.0], bins_true], axis=0),\n",
    "#                                     [30]], axis=0)\n",
    "        \n",
    "        # and need MIN bin (= 0m)\n",
    "\n",
    "#         import pdb; pdb.set_trace()\n",
    "        \n",
    "        ## CDF for predicted values\n",
    "        # Compute the indices of the bins for each value\n",
    "        indices = tf.searchsorted(bins_true_proj, y_pred, side='right') - 1   \n",
    "        # Clip the indices to ensure they are within the bounds of the bins\n",
    "        clipped_indices = tf.clip_by_value(indices, 0, len(bins_true_proj) - 2)\n",
    "        # Compute the histogram by counting the number of values in each bin\n",
    "        hist = tf.math.bincount(clipped_indices, minlength=len(bins_true_proj) - 1)\n",
    "        cdf_pred = tf.cumsum( tf.divide(hist, tf.reduce_sum(hist)) )\n",
    "\n",
    "        ## get area\n",
    "        # area = compute_area(cdf_true, cdf_pred, bins_true)\n",
    "        z = tf.math.subtract(cdf_true, cdf_pred)\n",
    "        z = tf.cast(z, dtype=tf.float64)  # conflit with float64\n",
    "        # remove 1e-16 when subtract is very small\n",
    "        z = tf.where(z<0.00001, tf.cast(0.0, z.dtype), z)\n",
    "\n",
    "        # everybody to fucking floqt64\n",
    "        bins_true = tf.cast(bins_true, dtype=z.dtype)\n",
    "        d5 = tf.cast([0.5], bins_true.dtype)  # dot5 = 0.5\n",
    "        \n",
    "        dx = tf.math.subtract(bins_true[1:], bins_true[:-1])\n",
    "    #     z = cdf_true - cdf_pred\n",
    "    #     dx = bins_true[1:] - bins_true[:-1]\n",
    "        cross_test = tf.math.sign(tf.multiply(z[:-1], z[1:]) )  # negative when curves cross\n",
    "\n",
    "#         z = tf.cast(z, dtype=tf.float32)  # conflit with float64\n",
    "\n",
    "    #     x_intersect = bins_true[:-1] - dx / (z[1:] - z[:-1]) * z[:-1]\n",
    "        x_intersect = tf.subtract(bins_true[:-1], tf.multiply(tf.divide(dx, tf.subtract(z[1:], z[:-1])), z[:-1]))\n",
    "#         print(type(x_intersect))\n",
    "\n",
    "    #     dx_intersect = - dx / (z[1:] - z[:-1]) * z[:-1]\n",
    "        dx_intersect = - tf.divide(dx, tf.multiply(tf.subtract(z[1:], z[:-1]), z[:-1]) )\n",
    "#         print(type(dx_intersect))\n",
    "\n",
    "\n",
    "    #     areas_pos = tf.abs(z[:-1] + z[1:]) * 0.5 * dx  # no intersection: signs of both z are same: add area of rectangle\n",
    "        areas_pos = tf.multiply(tf.multiply(tf.abs(tf.add(z[:-1], z[1:])), dx), d5)\n",
    "\n",
    "        \n",
    "        \n",
    "        # intersection: add area of 2 triangles\n",
    "    #     areas_neg = 0.5 * dx_intersect * tf.abs(z[:-1]) + 0.5 * (dx - dx_intersect) * tf.abs(z[1:])\n",
    "        areas_neg = tf.add(tf.multiply(tf.multiply(d5, dx_intersect), tf.abs(z[:-1])),\n",
    "                           tf.multiply(d5, tf.multiply(tf.subtract(dx, dx_intersect), tf.abs(z[1:])) ) )\n",
    "\n",
    "#         import pdb; pdb.set_trace()\n",
    "        \n",
    "        \n",
    "        areas = tf.where(cross_test < 0, areas_neg, areas_pos)\n",
    "        area = tf.reduce_sum(areas)\n",
    "\n",
    "#         import pdb; pdb.set_trace()\n",
    "        \n",
    "        print('area:  ', area)\n",
    "#         import pdb; pdb.set_trace()\n",
    "        \n",
    "#         return areas\n",
    "        return area\n",
    "\n",
    "#         return mse_loss"
   ]
  },
  {
   "cell_type": "code",
   "execution_count": 24,
   "id": "1927dc95",
   "metadata": {},
   "outputs": [],
   "source": [
    "from tensorflow.keras.losses import Loss\n",
    "\n",
    "\n",
    "class LossCrpscSample(Loss):\n",
    "      # initialize instance attributes\n",
    "    def __init__(self):\n",
    "        super(LossCrpscSample, self).__init__()\n",
    "\n",
    "\n",
    "    # Compute loss\n",
    "    def call(self, y_true, y_pred):\n",
    "\n",
    "        \n",
    "#         def process_sample(y_true_sample, y_pred_sample):\n",
    "        def process_sample(sample):\n",
    "            \n",
    "            y_true_sample, y_pred_sample = sample[0], sample[1]\n",
    "            y_true_sample = tf.reshape(tf.sort(y_true_sample), [-1, 1])\n",
    "            y_pred_sample = tf.reshape(tf.sort(y_pred_sample), [-1, 1])\n",
    "            \n",
    "            print('prout')\n",
    "            print(y_true_sample.shape)\n",
    "            \n",
    "#             y_true_sample = tf.convert_to_tensor(tf.sort(y_true_sample))\n",
    "#             y_pred_sample = tf.cast(tf.sort(y_pred_sample), y_true_sample.dtype)\n",
    "\n",
    "            mse_loss = tf.reduce_mean(tf.square(y_true_sample - y_pred_sample))\n",
    "            print('mse loss:  ', mse_loss)\n",
    "\n",
    "\n",
    "            ## CDF for truth data (ICESat-2)\n",
    "    #         bins_true, idx, counts = tf.unique_with_counts(tf.reshape(y_true_sample, [-1]))\n",
    "            bins_true, idx, counts = tf.unique_with_counts(y_true_sample)\n",
    "\n",
    "            cusum = tf.cumsum(counts)\n",
    "            cdf_true = tf.divide(cusum, cusum[-1])\n",
    "\n",
    "    #         print(bins_true)\n",
    "    #         import pdb; pdb.set_trace()\n",
    "\n",
    "            # add a MAX bin, to have same length of CDF\n",
    "            bins_true_proj = tf.concat([bins_true, tf.cast([30.0], bins_true.dtype)], axis=0)  # should never have SIT > 30\n",
    "    #         bins_true_proj = tf.concat([tf.concat([[0.0], bins_true], axis=0),\n",
    "    #                                     [30]], axis=0)\n",
    "\n",
    "            # and need MIN bin (= 0m)\n",
    "\n",
    "    #         import pdb; pdb.set_trace()\n",
    "\n",
    "            ## CDF for predicted values\n",
    "            # Compute the indices of the bins for each value\n",
    "            indices = tf.searchsorted(bins_true_proj, y_pred_sample, side='right') - 1   \n",
    "            # Clip the indices to ensure they are within the bounds of the bins\n",
    "            clipped_indices = tf.clip_by_value(indices, 0, len(bins_true_proj) - 2)\n",
    "            # Compute the histogram by counting the number of values in each bin\n",
    "            hist = tf.math.bincount(clipped_indices, minlength=len(bins_true_proj) - 1)\n",
    "            cdf_pred = tf.cumsum( tf.divide(hist, tf.reduce_sum(hist)) )\n",
    "\n",
    "            ## get area\n",
    "            # area = compute_area(cdf_true, cdf_pred, bins_true)\n",
    "            z = tf.math.subtract(cdf_true, cdf_pred)\n",
    "            z = tf.cast(z, dtype=tf.float64)  # conflit with float64\n",
    "            # remove 1e-16 when subtract is very small\n",
    "            z = tf.where(z<0.00001, tf.cast(0.0, z.dtype), z)\n",
    "\n",
    "            # everybody to fucking float64\n",
    "            bins_true = tf.cast(bins_true, dtype=z.dtype)\n",
    "            d5 = tf.cast([0.5], bins_true.dtype)  # dot5 = 0.5\n",
    "\n",
    "            dx = tf.math.subtract(bins_true[1:], bins_true[:-1])\n",
    "        #     z = cdf_true - cdf_pred\n",
    "        #     dx = bins_true[1:] - bins_true[:-1]\n",
    "            cross_test = tf.math.sign(tf.multiply(z[:-1], z[1:]) )  # negative when curves cross\n",
    "\n",
    "    #         z = tf.cast(z, dtype=tf.float32)  # conflit with float64\n",
    "\n",
    "        #     x_intersect = bins_true[:-1] - dx / (z[1:] - z[:-1]) * z[:-1]\n",
    "            x_intersect = tf.subtract(bins_true[:-1], tf.multiply(tf.divide(dx, tf.subtract(z[1:], z[:-1])), z[:-1]))\n",
    "    #         print(type(x_intersect))\n",
    "\n",
    "        #     dx_intersect = - dx / (z[1:] - z[:-1]) * z[:-1]\n",
    "            dx_intersect = - tf.divide(dx, tf.multiply(tf.subtract(z[1:], z[:-1]), z[:-1]) )\n",
    "    #         print(type(dx_intersect))\n",
    "\n",
    "\n",
    "        #     areas_pos = tf.abs(z[:-1] + z[1:]) * 0.5 * dx  # no intersection: signs of both z are same: add area of rectangle\n",
    "            areas_pos = tf.multiply(tf.multiply(tf.abs(tf.add(z[:-1], z[1:])), dx), d5)\n",
    "\n",
    "\n",
    "\n",
    "            # intersection: add area of 2 triangles\n",
    "        #     areas_neg = 0.5 * dx_intersect * tf.abs(z[:-1]) + 0.5 * (dx - dx_intersect) * tf.abs(z[1:])\n",
    "            areas_neg = tf.add(tf.multiply(tf.multiply(d5, dx_intersect), tf.abs(z[:-1])),\n",
    "                               tf.multiply(d5, tf.multiply(tf.subtract(dx, dx_intersect), tf.abs(z[1:])) ) )\n",
    "\n",
    "    #         import pdb; pdb.set_trace()\n",
    "\n",
    "\n",
    "            areas = tf.where(cross_test < 0, areas_neg, areas_pos)\n",
    "            area = tf.reduce_sum(areas)\n",
    "\n",
    "    #         import pdb; pdb.set_trace()\n",
    "\n",
    "            print('area:  ', area)\n",
    "    #         import pdb; pdb.set_trace()\n",
    "\n",
    "            return areas\n",
    "#             return area\n",
    "    \n",
    "    \n",
    "        print(y_true.shape)\n",
    "        print(y_pred.shape)\n",
    "        \n",
    "#         total_area = tf.map_fn(lambda x: process_sample(x[0], x[1]), (y_true, y_pred))  # , dtype=tf.float64)\n",
    "#         return mse_loss\n",
    "        \n",
    "        y_true_pred = tf.stack([y_true, y_pred], axis=1)\n",
    "        y_true_pred = tf.cast(y_true_pred, dtype=tf.float64)\n",
    "        total_area = tf.map_fn(lambda x: process_sample(x), y_true_pred)\n",
    "    \n",
    "        print(total_area)\n",
    "    \n",
    "        return tf.reduce_mean(total_area)"
   ]
  },
  {
   "cell_type": "raw",
   "id": "fc1a077b",
   "metadata": {
    "scrolled": true
   },
   "source": [
    "y_true_pred.shape"
   ]
  },
  {
   "cell_type": "raw",
   "id": "a0b6d2d1",
   "metadata": {},
   "source": [
    "y_true_pred = tf.stack([y[:-1, :20], y[1:, :20]], axis=1)\n",
    "tf.map_fn(lambda x: print(x[0].shape, x[1].shape), y_true_pred)"
   ]
  },
  {
   "cell_type": "raw",
   "id": "05970591",
   "metadata": {},
   "source": [
    "tf.map_fn(fn=lambda t: print(t[0][0].shape, t[0][1].shape), \n",
    "          elems=(tf.convert_to_tensor(y[:-1, :20]), \n",
    "                 tf.convert_to_tensor(y[1:, :20]) \n",
    "                ))"
   ]
  },
  {
   "cell_type": "raw",
   "id": "4ed22208",
   "metadata": {},
   "source": [
    "tf.map_fn?"
   ]
  },
  {
   "cell_type": "code",
   "execution_count": 25,
   "id": "839ab7ee",
   "metadata": {},
   "outputs": [],
   "source": [
    "def custom_loss(y_true, y_pred):\n",
    "    return tf.reduce_sum(tf.square(y_true - y_pred))"
   ]
  },
  {
   "cell_type": "code",
   "execution_count": 26,
   "id": "4a9a8b3b",
   "metadata": {},
   "outputs": [],
   "source": [
    "from tensorflow.keras.losses import Loss\n",
    "\n",
    "\n",
    "class MyMseLoss(Loss):\n",
    "      # initialize instance attributes\n",
    "    def __init__(self):\n",
    "        super(MyMseLoss, self).__init__()\n",
    "#         self.threshold = threshold\n",
    "        \n",
    "    # Compute loss\n",
    "    def call(self, y_true, y_pred):\n",
    "        areas_f = []\n",
    "        \n",
    "        for yt, yp in zip(y_true, y_pred):\n",
    "            areas_f.append(areas_1D)\n",
    "        \n",
    "        return tf.convert_to_tensor(areas_f)\n",
    "     \n",
    "    @tf.function    \n",
    "    def areas_1D(yt, yp):\n",
    "        yt = tf.convert_to_tensor(tf.sort(yt[0]))\n",
    "        yp = tf.cast(tf.sort(yp[0]), yt.dtype)\n",
    "    \n",
    "        mse_loss = tf.reduce_mean(tf.square(yt - yp))\n",
    "        print('mse loss:  ', mse_loss)\n",
    "        \n",
    "    \n",
    "        ## CDF for truth data (ICESat-2)\n",
    "#         bins_true, idx, counts = tf.unique_with_counts(tf.reshape(yt, [-1]))\n",
    "        bins_true, idx, counts = tf.unique_with_counts(yt)\n",
    "        \n",
    "        cusum = tf.cumsum(counts)\n",
    "        cdf_true = tf.divide(cusum, cusum[-1])\n",
    "\n",
    "#         print(bins_true)\n",
    "#         import pdb; pdb.set_trace()\n",
    "        \n",
    "        # add a MAX bin, to have same length of CDF\n",
    "        bins_true_proj = tf.concat([bins_true, tf.cast([30.0], bins_true.dtype)], axis=0)  # should never have SIT > 30\n",
    "#         bins_true_proj = tf.concat([tf.concat([[0.0], bins_true], axis=0),\n",
    "#                                     [30]], axis=0)\n",
    "        \n",
    "        # and need MIN bin (= 0m)\n",
    "\n",
    "#         import pdb; pdb.set_trace()\n",
    "        \n",
    "        ## CDF for predicted values\n",
    "        # Compute the indices of the bins for each value\n",
    "        indices = tf.searchsorted(bins_true_proj, yp, side='right') - 1   \n",
    "        # Clip the indices to ensure they are within the bounds of the bins\n",
    "        clipped_indices = tf.clip_by_value(indices, 0, len(bins_true_proj) - 2)\n",
    "        # Compute the histogram by counting the number of values in each bin\n",
    "        hist = tf.math.bincount(clipped_indices, minlength=len(bins_true_proj) - 1)\n",
    "        cdf_pred = tf.cumsum( tf.divide(hist, tf.reduce_sum(hist)) )\n",
    "\n",
    "        ## get area\n",
    "        # area = compute_area(cdf_true, cdf_pred, bins_true)\n",
    "        z = tf.math.subtract(cdf_true, cdf_pred)\n",
    "        z = tf.cast(z, dtype=tf.float64)  # conflit with float64\n",
    "        # remove 1e-16 when subtract is very small\n",
    "        z = tf.where(z<0.00001, tf.cast(0.0, z.dtype), z)\n",
    "\n",
    "        # everybody to fucking floqt64\n",
    "        bins_true = tf.cast(bins_true, dtype=z.dtype)\n",
    "        d5 = tf.cast([0.5], bins_true.dtype)  # dot5 = 0.5\n",
    "        \n",
    "        dx = tf.math.subtract(bins_true[1:], bins_true[:-1])\n",
    "    #     z = cdf_true - cdf_pred\n",
    "    #     dx = bins_true[1:] - bins_true[:-1]\n",
    "        cross_test = tf.math.sign(tf.multiply(z[:-1], z[1:]) )  # negative when curves cross\n",
    "\n",
    "#         z = tf.cast(z, dtype=tf.float32)  # conflit with float64\n",
    "\n",
    "    #     x_intersect = bins_true[:-1] - dx / (z[1:] - z[:-1]) * z[:-1]\n",
    "        x_intersect = tf.subtract(bins_true[:-1], tf.multiply(tf.divide(dx, tf.subtract(z[1:], z[:-1])), z[:-1]))\n",
    "#         print(type(x_intersect))\n",
    "\n",
    "    #     dx_intersect = - dx / (z[1:] - z[:-1]) * z[:-1]\n",
    "        dx_intersect = - tf.divide(dx, tf.multiply(tf.subtract(z[1:], z[:-1]), z[:-1]) )\n",
    "#         print(type(dx_intersect))\n",
    "\n",
    "\n",
    "    #     areas_pos = tf.abs(z[:-1] + z[1:]) * 0.5 * dx  # no intersection: signs of both z are same: add area of rectangle\n",
    "        areas_pos = tf.multiply(tf.multiply(tf.abs(tf.add(z[:-1], z[1:])), dx), d5)\n",
    "\n",
    "        \n",
    "        \n",
    "        # intersection: add area of 2 triangles\n",
    "    #     areas_neg = 0.5 * dx_intersect * tf.abs(z[:-1]) + 0.5 * (dx - dx_intersect) * tf.abs(z[1:])\n",
    "        areas_neg = tf.add(tf.multiply(tf.multiply(d5, dx_intersect), tf.abs(z[:-1])),\n",
    "                           tf.multiply(d5, tf.multiply(tf.subtract(dx, dx_intersect), tf.abs(z[1:])) ) )\n",
    "\n",
    "#         import pdb; pdb.set_trace()\n",
    "        \n",
    "        \n",
    "        areas = tf.where(cross_test < 0, areas_neg, areas_pos)\n",
    "        area = tf.reduce_sum(areas)\n",
    "\n",
    "#         import pdb; pdb.set_trace()\n",
    "        \n",
    "        print('area:  ', area)\n",
    "#         import pdb; pdb.set_trace()\n",
    "        \n",
    "#         return areas\n",
    "        return area\n",
    "\n",
    "#         return mse_loss"
   ]
  },
  {
   "cell_type": "code",
   "execution_count": 27,
   "id": "b8863b73",
   "metadata": {},
   "outputs": [],
   "source": [
    "def my_huber_loss(y_true, y_pred):\n",
    "    threshold = 1.\n",
    "    error = y_true - y_pred\n",
    "    is_small_error = tf.abs(error) <= threshold\n",
    "    small_error_loss = tf.square(error) / 2\n",
    "    big_error_loss = threshold * (tf.abs(error) - threshold / 2)\n",
    "    res = tf.where(is_small_error, small_error_loss, big_error_loss)\n",
    "    print(res)\n",
    "    return res"
   ]
  },
  {
   "cell_type": "code",
   "execution_count": 28,
   "id": "bb54daf5",
   "metadata": {},
   "outputs": [],
   "source": [
    "\n",
    "\n",
    "def loss_crps_sample_score(y_true, y_pred):\n",
    "    \"\"\"Calculates the Continuous Ranked Probability Score (CRPS)\n",
    "    for finite ensemble members and a single target.\n",
    "    \n",
    "    This implementation is based on the identity:\n",
    "        CRPS(F, x) = E_F|y_pred - y_true| - 1/2 * E_F|y_pred - y_pred'|\n",
    "    where y_pred and y_pred' denote independent random variables drawn from\n",
    "    the predicted distribution F, and E_F denotes the expectation\n",
    "    value under F.\n",
    "\n",
    "    Following the approach by Steven Brey at \n",
    "    TheClimateCorporation (formerly ClimateLLC)\n",
    "    https://github.com/TheClimateCorporation/properscoring\n",
    "    \n",
    "    Adapted from David Blei's lab at Columbia University\n",
    "    http://www.cs.columbia.edu/~blei/ and\n",
    "    https://github.com/blei-lab/edward/pull/922/files\n",
    "\n",
    "    \n",
    "    References\n",
    "    ---------\n",
    "    Tilmann Gneiting and Adrian E. Raftery (2005).\n",
    "        Strictly proper scoring rules, prediction, and estimation.\n",
    "        University of Washington Department of Statistics Technical\n",
    "        Report no. 463R.\n",
    "        https://www.stat.washington.edu/research/reports/2004/tr463R.pdf\n",
    "    \n",
    "    H. Hersbach (2000).\n",
    "        Decomposition of the Continuous Ranked Probability Score\n",
    "        for Ensemble Prediction Systems.\n",
    "        https://doi.org/10.1175/1520-0434(2000)015%3C0559:DOTCRP%3E2.0.CO;2\n",
    "    \"\"\"\n",
    "\n",
    "    # Variable names below reference equation terms in docstring above\n",
    "    term_one = tf.reduce_mean(tf.abs(\n",
    "        tf.subtract(y_pred, y_true)), axis=-1)\n",
    "    term_two = tf.reduce_mean(\n",
    "        tf.abs(\n",
    "            tf.subtract(tf.expand_dims(y_pred, -1),\n",
    "                        tf.expand_dims(y_pred, -2))),\n",
    "        axis=(-2, -1))\n",
    "    half = tf.constant(-0.5, dtype=term_two.dtype)\n",
    "    score = tf.add(term_one, tf.multiply(half, term_two))\n",
    "    score = tf.reduce_mean(score)\n",
    "    return score"
   ]
  },
  {
   "cell_type": "code",
   "execution_count": 29,
   "id": "04c17c24",
   "metadata": {},
   "outputs": [],
   "source": [
    "def loss_crps_curve_score(y_true, y_pred):\n",
    "    \"\"\"try from Szekely 2005\n",
    "    \n",
    "    Page 15:\n",
    "    E[h(X,Y)] = 2E|X - Y| - E|X - X'| - E|Y - Y'|\n",
    "    \n",
    "    Equation 17: \n",
    "    2E|X - Y| - E|X - X'| - E|Y - Y'| = 2 S(-inf, +inf) (G(t) - F(t))**2 dt\n",
    "    \"\"\"\n",
    "\n",
    "    # Variable names below reference equation terms in docstring above\n",
    "    term_one = tf.reduce_mean(tf.abs(\n",
    "        tf.subtract(y_pred, y_true)), axis=-1)\n",
    "    \n",
    "    term_two = tf.reduce_mean(\n",
    "        tf.abs(\n",
    "            tf.subtract(tf.expand_dims(y_true, -1),\n",
    "                        tf.expand_dims(y_true, -2))),\n",
    "        axis=(-2, -1))\n",
    "    \n",
    "    term_three = tf.reduce_mean(\n",
    "        tf.abs(\n",
    "            tf.subtract(tf.expand_dims(y_pred, -1),\n",
    "                        tf.expand_dims(y_pred, -2))),\n",
    "        axis=(-2, -1))\n",
    "    \n",
    "    \n",
    "    half = tf.constant(-0.5, dtype=term_two.dtype)\n",
    "    t1t2 = tf.add(term_one, tf.multiply(half, term_two))\n",
    "    score = tf.add(t1t2, tf.multiply(half, term_three))\n",
    "    score = tf.reduce_mean(score)\n",
    "    return score"
   ]
  },
  {
   "cell_type": "code",
   "execution_count": 30,
   "id": "b51fae81",
   "metadata": {},
   "outputs": [],
   "source": [
    "from keras.layers import Input, Flatten, Dense, concatenate, Dropout\n",
    "from keras.models import Model\n",
    "\n",
    "def build_model_crpsc(num_features, num_obs):\n",
    "    inputs = Input(shape=(num_features, 1))\n",
    "    \n",
    "    dense1 = Dense(64, activation='linear')(inputs)\n",
    "    dropout1 = Dropout(0.5)(dense1)\n",
    "        \n",
    "    dense2 = Dense(128, activation='linear')(dropout1)\n",
    "    dropout2 = Dropout(0.5)(dense2)\n",
    "        \n",
    "#     dense3 = Dense(254, activation='linear')(dropout2)\n",
    "#     dropout3 = Dropout(0.5)(dense3)\n",
    "        \n",
    "        \n",
    "    # Flatten the output from the convolutional layers\n",
    "    flat = Flatten()(dropout2)  # inputs) #\n",
    "        \n",
    "    # Output layer\n",
    "    output = Dense(num_obs, activation='linear')(flat)\n",
    "    \n",
    "    # Define the model\n",
    "    model = Model(inputs=inputs, outputs=output)\n",
    "    \n",
    "    # Compile the model\n",
    "#     model.compile(optimizer='adam', loss=loss_crps_curves)\n",
    "#     model.compile(optimizer='adam', loss=loss_crps_curves_full)\n",
    "#     model.compile(optimizer='adam', loss=MyMseLoss())\n",
    "#     model.compile(optimizer='adam', loss=LossCrpscSample())\n",
    "#     model.compile(optimizer='adam', loss=loss_crps_sample_score)\n",
    "    model.compile(optimizer='adam', loss=loss_crps_curve_score)\n",
    "    \n",
    "#     model.compile(optimizer='adam', loss=custom_loss)\n",
    "#     model.compile(optimizer='adam', loss=my_huber_loss)\n",
    "#     model.compile(optimizer='adam', loss='mse')\n",
    "    \n",
    "    \n",
    "    return model"
   ]
  },
  {
   "cell_type": "code",
   "execution_count": 31,
   "id": "c29a98c1",
   "metadata": {},
   "outputs": [],
   "source": [
    "from sklearn.preprocessing import MinMaxScaler\n",
    "\n",
    "scaler = MinMaxScaler()  # scale between 0 and 1\n",
    "X_minmax = scaler.fit_transform(X)\n",
    "\n",
    "# scaler_output = MinMaxScaler()\n",
    "# scaler_output.fit(X[:,0].reshape((-1,1)));"
   ]
  },
  {
   "cell_type": "code",
   "execution_count": 32,
   "id": "5751a5a7",
   "metadata": {},
   "outputs": [],
   "source": [
    "# True DATA\n",
    "\n",
    "# Split the data into training and validation sets\n",
    "num_samples = X.shape[0]\n",
    "\n",
    "# reshape X\n",
    "num_features = X.shape[1]\n",
    "num_obs = y.shape[1]\n",
    "num_obs_train = 1000 # 20\n",
    "X_lr = X_minmax.reshape(num_samples, num_features, 1)\n",
    "\n",
    "train = 0.7\n",
    "val = 0.15\n",
    "test = 0.15\n",
    "\n",
    "train_split_idx = int(train * num_samples)\n",
    "val_split_idx = int((train+val) * num_samples)\n",
    "\n",
    "train_lr = X_lr[:train_split_idx]\n",
    "train_gt = y[:train_split_idx, :num_obs_train]\n",
    "val_lr = X_lr[train_split_idx:val_split_idx]\n",
    "val_gt = y[train_split_idx:val_split_idx, :num_obs_train]\n",
    "test_lr = X_lr[val_split_idx:]\n",
    "test_gt = y[val_split_idx:, :num_obs_train]"
   ]
  },
  {
   "cell_type": "code",
   "execution_count": 33,
   "id": "f6f21fcc",
   "metadata": {
    "scrolled": true
   },
   "outputs": [
    {
     "name": "stdout",
     "output_type": "stream",
     "text": [
      "Model: \"model\"\n",
      "_________________________________________________________________\n",
      " Layer (type)                Output Shape              Param #   \n",
      "=================================================================\n",
      " input_1 (InputLayer)        [(None, 9, 1)]            0         \n",
      "                                                                 \n",
      " dense (Dense)               (None, 9, 64)             128       \n",
      "                                                                 \n",
      " dropout (Dropout)           (None, 9, 64)             0         \n",
      "                                                                 \n",
      " dense_1 (Dense)             (None, 9, 128)            8320      \n",
      "                                                                 \n",
      " dropout_1 (Dropout)         (None, 9, 128)            0         \n",
      "                                                                 \n",
      " flatten (Flatten)           (None, 1152)              0         \n",
      "                                                                 \n",
      " dense_2 (Dense)             (None, 1000)              1153000   \n",
      "                                                                 \n",
      "=================================================================\n",
      "Total params: 1,161,448\n",
      "Trainable params: 1,161,448\n",
      "Non-trainable params: 0\n",
      "_________________________________________________________________\n"
     ]
    },
    {
     "name": "stderr",
     "output_type": "stream",
     "text": [
      "2023-05-06 01:03:16.295495: I tensorflow/core/platform/cpu_feature_guard.cc:193] This TensorFlow binary is optimized with oneAPI Deep Neural Network Library (oneDNN) to use the following CPU instructions in performance-critical operations:  SSE3 SSE4.1 SSE4.2 AVX AVX2 FMA\n",
      "To enable them in other operations, rebuild TensorFlow with the appropriate compiler flags.\n",
      "2023-05-06 01:03:16.301403: I tensorflow/core/common_runtime/gpu/gpu_device.cc:1613] Created device /job:localhost/replica:0/task:0/device:GPU:0 with 63996 MB memory:  -> device: 0, name: , pci bus id: 0000:c1:00.0\n",
      "2023-05-06 01:03:16.827201: I tensorflow/core/common_runtime/gpu/gpu_device.cc:1613] Created device /job:localhost/replica:0/task:0/device:GPU:1 with 63996 MB memory:  -> device: 1, name: , pci bus id: 0000:c6:00.0\n",
      "2023-05-06 01:03:17.047647: I tensorflow/core/common_runtime/gpu/gpu_device.cc:1613] Created device /job:localhost/replica:0/task:0/device:GPU:2 with 63996 MB memory:  -> device: 2, name: , pci bus id: 0000:c9:00.0\n",
      "2023-05-06 01:03:17.267204: I tensorflow/core/common_runtime/gpu/gpu_device.cc:1613] Created device /job:localhost/replica:0/task:0/device:GPU:3 with 63996 MB memory:  -> device: 3, name: , pci bus id: 0000:ce:00.0\n",
      "2023-05-06 01:03:17.486540: I tensorflow/core/common_runtime/gpu/gpu_device.cc:1613] Created device /job:localhost/replica:0/task:0/device:GPU:4 with 63996 MB memory:  -> device: 4, name: , pci bus id: 0000:d1:00.0\n",
      "2023-05-06 01:03:17.704472: I tensorflow/core/common_runtime/gpu/gpu_device.cc:1613] Created device /job:localhost/replica:0/task:0/device:GPU:5 with 63996 MB memory:  -> device: 5, name: , pci bus id: 0000:d6:00.0\n",
      "2023-05-06 01:03:17.922774: I tensorflow/core/common_runtime/gpu/gpu_device.cc:1613] Created device /job:localhost/replica:0/task:0/device:GPU:6 with 63996 MB memory:  -> device: 6, name: , pci bus id: 0000:d9:00.0\n",
      "2023-05-06 01:03:18.147409: I tensorflow/core/common_runtime/gpu/gpu_device.cc:1613] Created device /job:localhost/replica:0/task:0/device:GPU:7 with 63996 MB memory:  -> device: 7, name: , pci bus id: 0000:de:00.0\n",
      "2023-05-06 01:03:18.459483: I tensorflow/core/common_runtime/gpu_fusion_pass.cc:507] ROCm Fusion is enabled.\n",
      "2023-05-06 01:03:18.942476: I tensorflow/core/common_runtime/gpu_fusion_pass.cc:507] ROCm Fusion is enabled.\n",
      "2023-05-06 01:03:18.946923: I tensorflow/core/common_runtime/gpu_fusion_pass.cc:507] ROCm Fusion is enabled.\n",
      "2023-05-06 01:03:18.975232: I tensorflow/core/common_runtime/gpu_fusion_pass.cc:507] ROCm Fusion is enabled.\n",
      "2023-05-06 01:03:18.982793: I tensorflow/core/common_runtime/gpu_fusion_pass.cc:507] ROCm Fusion is enabled.\n",
      "2023-05-06 01:03:18.997962: I tensorflow/core/common_runtime/gpu_fusion_pass.cc:507] ROCm Fusion is enabled.\n",
      "2023-05-06 01:03:19.007844: I tensorflow/core/common_runtime/gpu_fusion_pass.cc:507] ROCm Fusion is enabled.\n",
      "2023-05-06 01:03:19.014747: I tensorflow/core/common_runtime/gpu_fusion_pass.cc:507] ROCm Fusion is enabled.\n",
      "2023-05-06 01:03:19.032827: I tensorflow/core/common_runtime/gpu_fusion_pass.cc:507] ROCm Fusion is enabled.\n",
      "2023-05-06 01:03:19.034307: I tensorflow/core/common_runtime/gpu_fusion_pass.cc:507] ROCm Fusion is enabled.\n",
      "2023-05-06 01:03:19.040014: I tensorflow/core/common_runtime/gpu_fusion_pass.cc:507] ROCm Fusion is enabled.\n",
      "2023-05-06 01:03:19.040608: I tensorflow/core/common_runtime/gpu_fusion_pass.cc:507] ROCm Fusion is enabled.\n",
      "2023-05-06 01:03:19.060254: I tensorflow/core/common_runtime/gpu_fusion_pass.cc:507] ROCm Fusion is enabled.\n",
      "2023-05-06 01:03:19.060935: I tensorflow/core/common_runtime/gpu_fusion_pass.cc:507] ROCm Fusion is enabled.\n",
      "2023-05-06 01:03:19.061893: I tensorflow/core/common_runtime/gpu_fusion_pass.cc:507] ROCm Fusion is enabled.\n",
      "2023-05-06 01:03:19.062467: I tensorflow/core/common_runtime/gpu_fusion_pass.cc:507] ROCm Fusion is enabled.\n",
      "2023-05-06 01:03:19.078623: I tensorflow/core/common_runtime/gpu_fusion_pass.cc:507] ROCm Fusion is enabled.\n",
      "2023-05-06 01:03:19.079322: I tensorflow/core/common_runtime/gpu_fusion_pass.cc:507] ROCm Fusion is enabled.\n",
      "2023-05-06 01:03:19.080238: I tensorflow/core/common_runtime/gpu_fusion_pass.cc:507] ROCm Fusion is enabled.\n",
      "2023-05-06 01:03:19.080813: I tensorflow/core/common_runtime/gpu_fusion_pass.cc:507] ROCm Fusion is enabled.\n",
      "2023-05-06 01:03:19.084377: I tensorflow/core/common_runtime/gpu_fusion_pass.cc:507] ROCm Fusion is enabled.\n",
      "2023-05-06 01:03:19.085048: I tensorflow/core/common_runtime/gpu_fusion_pass.cc:507] ROCm Fusion is enabled.\n",
      "2023-05-06 01:03:19.085617: I tensorflow/core/common_runtime/gpu_fusion_pass.cc:507] ROCm Fusion is enabled.\n",
      "2023-05-06 01:03:19.088196: I tensorflow/core/common_runtime/gpu_fusion_pass.cc:507] ROCm Fusion is enabled.\n",
      "2023-05-06 01:03:19.088773: I tensorflow/core/common_runtime/gpu_fusion_pass.cc:507] ROCm Fusion is enabled.\n",
      "2023-05-06 01:03:19.104500: I tensorflow/core/common_runtime/gpu_fusion_pass.cc:507] ROCm Fusion is enabled.\n",
      "2023-05-06 01:03:19.118197: I tensorflow/core/common_runtime/gpu_fusion_pass.cc:507] ROCm Fusion is enabled.\n",
      "2023-05-06 01:03:19.119195: I tensorflow/core/common_runtime/gpu_fusion_pass.cc:507] ROCm Fusion is enabled.\n",
      "2023-05-06 01:03:19.119988: I tensorflow/core/common_runtime/gpu_fusion_pass.cc:507] ROCm Fusion is enabled.\n",
      "2023-05-06 01:03:19.120721: I tensorflow/core/common_runtime/gpu_fusion_pass.cc:507] ROCm Fusion is enabled.\n",
      "2023-05-06 01:03:19.122931: I tensorflow/core/common_runtime/gpu_fusion_pass.cc:507] ROCm Fusion is enabled.\n",
      "2023-05-06 01:03:19.123976: I tensorflow/core/common_runtime/gpu_fusion_pass.cc:507] ROCm Fusion is enabled.\n",
      "2023-05-06 01:03:19.124484: I tensorflow/core/common_runtime/gpu_fusion_pass.cc:507] ROCm Fusion is enabled.\n"
     ]
    },
    {
     "name": "stdout",
     "output_type": "stream",
     "text": [
      "Epoch 1/50\n"
     ]
    },
    {
     "name": "stderr",
     "output_type": "stream",
     "text": [
      "2023-05-06 01:03:19.276615: I tensorflow/core/common_runtime/gpu_fusion_pass.cc:507] ROCm Fusion is enabled.\n",
      "2023-05-06 01:03:19.283514: I tensorflow/core/common_runtime/gpu_fusion_pass.cc:507] ROCm Fusion is enabled.\n",
      "2023-05-06 01:03:19.984376: I tensorflow/core/common_runtime/gpu_fusion_pass.cc:507] ROCm Fusion is enabled.\n",
      "2023-05-06 01:03:19.990653: I tensorflow/core/common_runtime/gpu_fusion_pass.cc:507] ROCm Fusion is enabled.\n",
      "2023-05-06 01:03:19.992998: I tensorflow/core/common_runtime/gpu_fusion_pass.cc:507] ROCm Fusion is enabled.\n",
      "2023-05-06 01:03:19.994478: I tensorflow/core/common_runtime/gpu_fusion_pass.cc:507] ROCm Fusion is enabled.\n",
      "2023-05-06 01:03:23.849165: I tensorflow/compiler/xla/service/service.cc:173] XLA service 0x149c401a66e0 initialized for platform ROCM (this does not guarantee that XLA will be used). Devices:\n",
      "2023-05-06 01:03:23.849204: I tensorflow/compiler/xla/service/service.cc:181]   StreamExecutor device (0): , AMDGPU ISA version: gfx90a:sramecc+:xnack-\n",
      "2023-05-06 01:03:23.849210: I tensorflow/compiler/xla/service/service.cc:181]   StreamExecutor device (1): , AMDGPU ISA version: gfx90a:sramecc+:xnack-\n",
      "2023-05-06 01:03:23.849215: I tensorflow/compiler/xla/service/service.cc:181]   StreamExecutor device (2): , AMDGPU ISA version: gfx90a:sramecc+:xnack-\n",
      "2023-05-06 01:03:23.849219: I tensorflow/compiler/xla/service/service.cc:181]   StreamExecutor device (3): , AMDGPU ISA version: gfx90a:sramecc+:xnack-\n",
      "2023-05-06 01:03:23.849224: I tensorflow/compiler/xla/service/service.cc:181]   StreamExecutor device (4): , AMDGPU ISA version: gfx90a:sramecc+:xnack-\n",
      "2023-05-06 01:03:23.849228: I tensorflow/compiler/xla/service/service.cc:181]   StreamExecutor device (5): , AMDGPU ISA version: gfx90a:sramecc+:xnack-\n",
      "2023-05-06 01:03:23.849232: I tensorflow/compiler/xla/service/service.cc:181]   StreamExecutor device (6): , AMDGPU ISA version: gfx90a:sramecc+:xnack-\n",
      "2023-05-06 01:03:23.849236: I tensorflow/compiler/xla/service/service.cc:181]   StreamExecutor device (7): , AMDGPU ISA version: gfx90a:sramecc+:xnack-\n",
      "2023-05-06 01:03:23.997226: I tensorflow/compiler/mlir/tensorflow/utils/dump_mlir_util.cc:268] disabling MLIR crash reproducer, set env var `MLIR_CRASH_REPRODUCER_DIRECTORY` to enable.\n",
      "2023-05-06 01:03:25.137769: I tensorflow/compiler/jit/xla_compilation_cache.cc:477] Compiled cluster using XLA!  This line is logged at most once for the lifetime of the process.\n"
     ]
    },
    {
     "name": "stdout",
     "output_type": "stream",
     "text": [
      "1559/1565 [============================>.] - ETA: 0s - loss: 0.1218"
     ]
    },
    {
     "name": "stderr",
     "output_type": "stream",
     "text": [
      "2023-05-06 01:03:34.329654: I tensorflow/core/common_runtime/gpu_fusion_pass.cc:507] ROCm Fusion is enabled.\n",
      "2023-05-06 01:03:34.330386: I tensorflow/core/common_runtime/gpu_fusion_pass.cc:507] ROCm Fusion is enabled.\n",
      "2023-05-06 01:03:34.330989: I tensorflow/core/common_runtime/gpu_fusion_pass.cc:507] ROCm Fusion is enabled.\n",
      "2023-05-06 01:03:34.344967: I tensorflow/core/common_runtime/gpu_fusion_pass.cc:507] ROCm Fusion is enabled.\n",
      "2023-05-06 01:03:34.359329: I tensorflow/core/common_runtime/gpu_fusion_pass.cc:507] ROCm Fusion is enabled.\n",
      "2023-05-06 01:03:34.366255: I tensorflow/core/common_runtime/gpu_fusion_pass.cc:507] ROCm Fusion is enabled.\n",
      "2023-05-06 01:03:34.373127: I tensorflow/core/common_runtime/gpu_fusion_pass.cc:507] ROCm Fusion is enabled.\n",
      "2023-05-06 01:03:34.469113: I tensorflow/core/common_runtime/gpu_fusion_pass.cc:507] ROCm Fusion is enabled.\n",
      "2023-05-06 01:03:34.473166: I tensorflow/core/common_runtime/gpu_fusion_pass.cc:507] ROCm Fusion is enabled.\n",
      "2023-05-06 01:03:34.475503: I tensorflow/core/common_runtime/gpu_fusion_pass.cc:507] ROCm Fusion is enabled.\n",
      "2023-05-06 01:03:34.476990: I tensorflow/core/common_runtime/gpu_fusion_pass.cc:507] ROCm Fusion is enabled.\n"
     ]
    },
    {
     "name": "stdout",
     "output_type": "stream",
     "text": [
      "1565/1565 [==============================] - 16s 6ms/step - loss: 0.1219 - val_loss: 0.1089\n",
      "Epoch 2/50\n",
      "  33/1565 [..............................] - ETA: 7s - loss: 0.1070"
     ]
    },
    {
     "name": "stderr",
     "output_type": "stream",
     "text": [
      "2023-05-06 01:03:35.403191: I tensorflow/core/common_runtime/gpu_fusion_pass.cc:507] ROCm Fusion is enabled.\n",
      "2023-05-06 01:03:35.414565: I tensorflow/core/common_runtime/gpu_fusion_pass.cc:507] ROCm Fusion is enabled.\n",
      "2023-05-06 01:03:35.416924: I tensorflow/core/common_runtime/gpu_fusion_pass.cc:507] ROCm Fusion is enabled.\n",
      "2023-05-06 01:03:35.418405: I tensorflow/core/common_runtime/gpu_fusion_pass.cc:507] ROCm Fusion is enabled.\n"
     ]
    },
    {
     "name": "stdout",
     "output_type": "stream",
     "text": [
      "1565/1565 [==============================] - ETA: 0s - loss: 0.1088"
     ]
    },
    {
     "name": "stderr",
     "output_type": "stream",
     "text": [
      "2023-05-06 01:03:43.181848: I tensorflow/core/common_runtime/gpu_fusion_pass.cc:507] ROCm Fusion is enabled.\n",
      "2023-05-06 01:03:43.187691: I tensorflow/core/common_runtime/gpu_fusion_pass.cc:507] ROCm Fusion is enabled.\n",
      "2023-05-06 01:03:43.197680: I tensorflow/core/common_runtime/gpu_fusion_pass.cc:507] ROCm Fusion is enabled.\n",
      "2023-05-06 01:03:43.200052: I tensorflow/core/common_runtime/gpu_fusion_pass.cc:507] ROCm Fusion is enabled.\n",
      "2023-05-06 01:03:43.201516: I tensorflow/core/common_runtime/gpu_fusion_pass.cc:507] ROCm Fusion is enabled.\n"
     ]
    },
    {
     "name": "stdout",
     "output_type": "stream",
     "text": [
      "1565/1565 [==============================] - 9s 6ms/step - loss: 0.1088 - val_loss: 0.1182\n",
      "Epoch 3/50\n",
      "  32/1565 [..............................] - ETA: 7s - loss: 0.1095"
     ]
    },
    {
     "name": "stderr",
     "output_type": "stream",
     "text": [
      "2023-05-06 01:03:44.091944: I tensorflow/core/common_runtime/gpu_fusion_pass.cc:507] ROCm Fusion is enabled.\n",
      "2023-05-06 01:03:44.102686: I tensorflow/core/common_runtime/gpu_fusion_pass.cc:507] ROCm Fusion is enabled.\n",
      "2023-05-06 01:03:44.105316: I tensorflow/core/common_runtime/gpu_fusion_pass.cc:507] ROCm Fusion is enabled.\n",
      "2023-05-06 01:03:44.106924: I tensorflow/core/common_runtime/gpu_fusion_pass.cc:507] ROCm Fusion is enabled.\n"
     ]
    },
    {
     "name": "stdout",
     "output_type": "stream",
     "text": [
      "1561/1565 [============================>.] - ETA: 0s - loss: 0.1070"
     ]
    },
    {
     "name": "stderr",
     "output_type": "stream",
     "text": [
      "2023-05-06 01:03:51.859900: I tensorflow/core/common_runtime/gpu_fusion_pass.cc:507] ROCm Fusion is enabled.\n",
      "2023-05-06 01:03:51.865731: I tensorflow/core/common_runtime/gpu_fusion_pass.cc:507] ROCm Fusion is enabled.\n",
      "2023-05-06 01:03:51.876604: I tensorflow/core/common_runtime/gpu_fusion_pass.cc:507] ROCm Fusion is enabled.\n",
      "2023-05-06 01:03:51.878948: I tensorflow/core/common_runtime/gpu_fusion_pass.cc:507] ROCm Fusion is enabled.\n",
      "2023-05-06 01:03:51.880421: I tensorflow/core/common_runtime/gpu_fusion_pass.cc:507] ROCm Fusion is enabled.\n"
     ]
    },
    {
     "name": "stdout",
     "output_type": "stream",
     "text": [
      "1565/1565 [==============================] - 9s 6ms/step - loss: 0.1070 - val_loss: 0.1054\n",
      "Epoch 4/50\n",
      "  34/1565 [..............................] - ETA: 7s - loss: 0.1051"
     ]
    },
    {
     "name": "stderr",
     "output_type": "stream",
     "text": [
      "2023-05-06 01:03:52.744915: I tensorflow/core/common_runtime/gpu_fusion_pass.cc:507] ROCm Fusion is enabled.\n",
      "2023-05-06 01:03:52.755383: I tensorflow/core/common_runtime/gpu_fusion_pass.cc:507] ROCm Fusion is enabled.\n",
      "2023-05-06 01:03:52.757666: I tensorflow/core/common_runtime/gpu_fusion_pass.cc:507] ROCm Fusion is enabled.\n",
      "2023-05-06 01:03:52.759125: I tensorflow/core/common_runtime/gpu_fusion_pass.cc:507] ROCm Fusion is enabled.\n"
     ]
    },
    {
     "name": "stdout",
     "output_type": "stream",
     "text": [
      "1559/1565 [============================>.] - ETA: 0s - loss: 0.1059"
     ]
    },
    {
     "name": "stderr",
     "output_type": "stream",
     "text": [
      "2023-05-06 01:04:00.461784: I tensorflow/core/common_runtime/gpu_fusion_pass.cc:507] ROCm Fusion is enabled.\n",
      "2023-05-06 01:04:00.467689: I tensorflow/core/common_runtime/gpu_fusion_pass.cc:507] ROCm Fusion is enabled.\n",
      "2023-05-06 01:04:00.477541: I tensorflow/core/common_runtime/gpu_fusion_pass.cc:507] ROCm Fusion is enabled.\n",
      "2023-05-06 01:04:00.479941: I tensorflow/core/common_runtime/gpu_fusion_pass.cc:507] ROCm Fusion is enabled.\n",
      "2023-05-06 01:04:00.481429: I tensorflow/core/common_runtime/gpu_fusion_pass.cc:507] ROCm Fusion is enabled.\n"
     ]
    },
    {
     "name": "stdout",
     "output_type": "stream",
     "text": [
      "1565/1565 [==============================] - 9s 5ms/step - loss: 0.1058 - val_loss: 0.1202\n",
      "Epoch 5/50\n",
      "  34/1565 [..............................] - ETA: 7s - loss: 0.1006"
     ]
    },
    {
     "name": "stderr",
     "output_type": "stream",
     "text": [
      "2023-05-06 01:04:01.341238: I tensorflow/core/common_runtime/gpu_fusion_pass.cc:507] ROCm Fusion is enabled.\n",
      "2023-05-06 01:04:01.351978: I tensorflow/core/common_runtime/gpu_fusion_pass.cc:507] ROCm Fusion is enabled.\n",
      "2023-05-06 01:04:01.354316: I tensorflow/core/common_runtime/gpu_fusion_pass.cc:507] ROCm Fusion is enabled.\n",
      "2023-05-06 01:04:01.355800: I tensorflow/core/common_runtime/gpu_fusion_pass.cc:507] ROCm Fusion is enabled.\n"
     ]
    },
    {
     "name": "stdout",
     "output_type": "stream",
     "text": [
      "1562/1565 [============================>.] - ETA: 0s - loss: 0.1051"
     ]
    },
    {
     "name": "stderr",
     "output_type": "stream",
     "text": [
      "2023-05-06 01:04:09.017680: I tensorflow/core/common_runtime/gpu_fusion_pass.cc:507] ROCm Fusion is enabled.\n",
      "2023-05-06 01:04:09.023920: I tensorflow/core/common_runtime/gpu_fusion_pass.cc:507] ROCm Fusion is enabled.\n",
      "2023-05-06 01:04:09.033967: I tensorflow/core/common_runtime/gpu_fusion_pass.cc:507] ROCm Fusion is enabled.\n",
      "2023-05-06 01:04:09.036301: I tensorflow/core/common_runtime/gpu_fusion_pass.cc:507] ROCm Fusion is enabled.\n",
      "2023-05-06 01:04:09.037787: I tensorflow/core/common_runtime/gpu_fusion_pass.cc:507] ROCm Fusion is enabled.\n"
     ]
    },
    {
     "name": "stdout",
     "output_type": "stream",
     "text": [
      "1565/1565 [==============================] - 9s 5ms/step - loss: 0.1051 - val_loss: 0.1118\n",
      "Epoch 6/50\n",
      "  31/1565 [..............................] - ETA: 7s - loss: 0.1076"
     ]
    },
    {
     "name": "stderr",
     "output_type": "stream",
     "text": [
      "2023-05-06 01:04:09.900293: I tensorflow/core/common_runtime/gpu_fusion_pass.cc:507] ROCm Fusion is enabled.\n",
      "2023-05-06 01:04:09.911341: I tensorflow/core/common_runtime/gpu_fusion_pass.cc:507] ROCm Fusion is enabled.\n",
      "2023-05-06 01:04:09.913916: I tensorflow/core/common_runtime/gpu_fusion_pass.cc:507] ROCm Fusion is enabled.\n",
      "2023-05-06 01:04:09.915388: I tensorflow/core/common_runtime/gpu_fusion_pass.cc:507] ROCm Fusion is enabled.\n"
     ]
    },
    {
     "name": "stdout",
     "output_type": "stream",
     "text": [
      "1559/1565 [============================>.] - ETA: 0s - loss: 0.1046"
     ]
    },
    {
     "name": "stderr",
     "output_type": "stream",
     "text": [
      "2023-05-06 01:04:17.615088: I tensorflow/core/common_runtime/gpu_fusion_pass.cc:507] ROCm Fusion is enabled.\n",
      "2023-05-06 01:04:17.621617: I tensorflow/core/common_runtime/gpu_fusion_pass.cc:507] ROCm Fusion is enabled.\n",
      "2023-05-06 01:04:17.631014: I tensorflow/core/common_runtime/gpu_fusion_pass.cc:507] ROCm Fusion is enabled.\n",
      "2023-05-06 01:04:17.633418: I tensorflow/core/common_runtime/gpu_fusion_pass.cc:507] ROCm Fusion is enabled.\n",
      "2023-05-06 01:04:17.634911: I tensorflow/core/common_runtime/gpu_fusion_pass.cc:507] ROCm Fusion is enabled.\n"
     ]
    },
    {
     "name": "stdout",
     "output_type": "stream",
     "text": [
      "1565/1565 [==============================] - 9s 5ms/step - loss: 0.1046 - val_loss: 0.1074\n",
      "Epoch 7/50\n",
      "  34/1565 [..............................] - ETA: 7s - loss: 0.1097"
     ]
    },
    {
     "name": "stderr",
     "output_type": "stream",
     "text": [
      "2023-05-06 01:04:18.498175: I tensorflow/core/common_runtime/gpu_fusion_pass.cc:507] ROCm Fusion is enabled.\n",
      "2023-05-06 01:04:18.508641: I tensorflow/core/common_runtime/gpu_fusion_pass.cc:507] ROCm Fusion is enabled.\n",
      "2023-05-06 01:04:18.510913: I tensorflow/core/common_runtime/gpu_fusion_pass.cc:507] ROCm Fusion is enabled.\n",
      "2023-05-06 01:04:18.512380: I tensorflow/core/common_runtime/gpu_fusion_pass.cc:507] ROCm Fusion is enabled.\n"
     ]
    },
    {
     "name": "stdout",
     "output_type": "stream",
     "text": [
      "1562/1565 [============================>.] - ETA: 0s - loss: 0.1042"
     ]
    },
    {
     "name": "stderr",
     "output_type": "stream",
     "text": [
      "2023-05-06 01:04:26.207258: I tensorflow/core/common_runtime/gpu_fusion_pass.cc:507] ROCm Fusion is enabled.\n",
      "2023-05-06 01:04:26.213903: I tensorflow/core/common_runtime/gpu_fusion_pass.cc:507] ROCm Fusion is enabled.\n",
      "2023-05-06 01:04:26.223229: I tensorflow/core/common_runtime/gpu_fusion_pass.cc:507] ROCm Fusion is enabled.\n",
      "2023-05-06 01:04:26.225551: I tensorflow/core/common_runtime/gpu_fusion_pass.cc:507] ROCm Fusion is enabled.\n",
      "2023-05-06 01:04:26.227016: I tensorflow/core/common_runtime/gpu_fusion_pass.cc:507] ROCm Fusion is enabled.\n"
     ]
    },
    {
     "name": "stdout",
     "output_type": "stream",
     "text": [
      "1565/1565 [==============================] - 9s 5ms/step - loss: 0.1042 - val_loss: 0.1150\n",
      "Epoch 8/50\n",
      "  34/1565 [..............................] - ETA: 7s - loss: 0.1003"
     ]
    },
    {
     "name": "stderr",
     "output_type": "stream",
     "text": [
      "2023-05-06 01:04:27.093535: I tensorflow/core/common_runtime/gpu_fusion_pass.cc:507] ROCm Fusion is enabled.\n",
      "2023-05-06 01:04:27.104410: I tensorflow/core/common_runtime/gpu_fusion_pass.cc:507] ROCm Fusion is enabled.\n",
      "2023-05-06 01:04:27.106741: I tensorflow/core/common_runtime/gpu_fusion_pass.cc:507] ROCm Fusion is enabled.\n",
      "2023-05-06 01:04:27.108220: I tensorflow/core/common_runtime/gpu_fusion_pass.cc:507] ROCm Fusion is enabled.\n"
     ]
    },
    {
     "name": "stdout",
     "output_type": "stream",
     "text": [
      "1563/1565 [============================>.] - ETA: 0s - loss: 0.1032"
     ]
    },
    {
     "name": "stderr",
     "output_type": "stream",
     "text": [
      "2023-05-06 01:04:34.833858: I tensorflow/core/common_runtime/gpu_fusion_pass.cc:507] ROCm Fusion is enabled.\n",
      "2023-05-06 01:04:34.840346: I tensorflow/core/common_runtime/gpu_fusion_pass.cc:507] ROCm Fusion is enabled.\n",
      "2023-05-06 01:04:34.850055: I tensorflow/core/common_runtime/gpu_fusion_pass.cc:507] ROCm Fusion is enabled.\n",
      "2023-05-06 01:04:34.852624: I tensorflow/core/common_runtime/gpu_fusion_pass.cc:507] ROCm Fusion is enabled.\n",
      "2023-05-06 01:04:34.854119: I tensorflow/core/common_runtime/gpu_fusion_pass.cc:507] ROCm Fusion is enabled.\n"
     ]
    },
    {
     "name": "stdout",
     "output_type": "stream",
     "text": [
      "1565/1565 [==============================] - 9s 5ms/step - loss: 0.1033 - val_loss: 0.1161\n",
      "Epoch 9/50\n",
      "  33/1565 [..............................] - ETA: 7s - loss: 0.1036"
     ]
    },
    {
     "name": "stderr",
     "output_type": "stream",
     "text": [
      "2023-05-06 01:04:35.714276: I tensorflow/core/common_runtime/gpu_fusion_pass.cc:507] ROCm Fusion is enabled.\n",
      "2023-05-06 01:04:35.725632: I tensorflow/core/common_runtime/gpu_fusion_pass.cc:507] ROCm Fusion is enabled.\n",
      "2023-05-06 01:04:35.727937: I tensorflow/core/common_runtime/gpu_fusion_pass.cc:507] ROCm Fusion is enabled.\n",
      "2023-05-06 01:04:35.729401: I tensorflow/core/common_runtime/gpu_fusion_pass.cc:507] ROCm Fusion is enabled.\n"
     ]
    },
    {
     "name": "stdout",
     "output_type": "stream",
     "text": [
      "1561/1565 [============================>.] - ETA: 0s - loss: 0.1035"
     ]
    },
    {
     "name": "stderr",
     "output_type": "stream",
     "text": [
      "2023-05-06 01:04:43.440453: I tensorflow/core/common_runtime/gpu_fusion_pass.cc:507] ROCm Fusion is enabled.\n",
      "2023-05-06 01:04:43.446995: I tensorflow/core/common_runtime/gpu_fusion_pass.cc:507] ROCm Fusion is enabled.\n",
      "2023-05-06 01:04:43.456671: I tensorflow/core/common_runtime/gpu_fusion_pass.cc:507] ROCm Fusion is enabled.\n",
      "2023-05-06 01:04:43.459012: I tensorflow/core/common_runtime/gpu_fusion_pass.cc:507] ROCm Fusion is enabled.\n",
      "2023-05-06 01:04:43.460490: I tensorflow/core/common_runtime/gpu_fusion_pass.cc:507] ROCm Fusion is enabled.\n"
     ]
    },
    {
     "name": "stdout",
     "output_type": "stream",
     "text": [
      "1565/1565 [==============================] - 9s 5ms/step - loss: 0.1035 - val_loss: 0.1133\n",
      "Epoch 10/50\n",
      "  33/1565 [..............................] - ETA: 7s - loss: 0.1032"
     ]
    },
    {
     "name": "stderr",
     "output_type": "stream",
     "text": [
      "2023-05-06 01:04:44.328120: I tensorflow/core/common_runtime/gpu_fusion_pass.cc:507] ROCm Fusion is enabled.\n",
      "2023-05-06 01:04:44.338586: I tensorflow/core/common_runtime/gpu_fusion_pass.cc:507] ROCm Fusion is enabled.\n",
      "2023-05-06 01:04:44.341136: I tensorflow/core/common_runtime/gpu_fusion_pass.cc:507] ROCm Fusion is enabled.\n",
      "2023-05-06 01:04:44.342784: I tensorflow/core/common_runtime/gpu_fusion_pass.cc:507] ROCm Fusion is enabled.\n"
     ]
    },
    {
     "name": "stdout",
     "output_type": "stream",
     "text": [
      "1561/1565 [============================>.] - ETA: 0s - loss: 0.1030"
     ]
    },
    {
     "name": "stderr",
     "output_type": "stream",
     "text": [
      "2023-05-06 01:04:52.073285: I tensorflow/core/common_runtime/gpu_fusion_pass.cc:507] ROCm Fusion is enabled.\n",
      "2023-05-06 01:04:52.079842: I tensorflow/core/common_runtime/gpu_fusion_pass.cc:507] ROCm Fusion is enabled.\n",
      "2023-05-06 01:04:52.090397: I tensorflow/core/common_runtime/gpu_fusion_pass.cc:507] ROCm Fusion is enabled.\n",
      "2023-05-06 01:04:52.092749: I tensorflow/core/common_runtime/gpu_fusion_pass.cc:507] ROCm Fusion is enabled.\n",
      "2023-05-06 01:04:52.094236: I tensorflow/core/common_runtime/gpu_fusion_pass.cc:507] ROCm Fusion is enabled.\n"
     ]
    },
    {
     "name": "stdout",
     "output_type": "stream",
     "text": [
      "1565/1565 [==============================] - 9s 5ms/step - loss: 0.1029 - val_loss: 0.1230\n",
      "Epoch 11/50\n",
      "  33/1565 [..............................] - ETA: 7s - loss: 0.0977"
     ]
    },
    {
     "name": "stderr",
     "output_type": "stream",
     "text": [
      "2023-05-06 01:04:52.954495: I tensorflow/core/common_runtime/gpu_fusion_pass.cc:507] ROCm Fusion is enabled.\n",
      "2023-05-06 01:04:52.966042: I tensorflow/core/common_runtime/gpu_fusion_pass.cc:507] ROCm Fusion is enabled.\n",
      "2023-05-06 01:04:52.968364: I tensorflow/core/common_runtime/gpu_fusion_pass.cc:507] ROCm Fusion is enabled.\n",
      "2023-05-06 01:04:52.969828: I tensorflow/core/common_runtime/gpu_fusion_pass.cc:507] ROCm Fusion is enabled.\n"
     ]
    },
    {
     "name": "stdout",
     "output_type": "stream",
     "text": [
      "1565/1565 [==============================] - ETA: 0s - loss: 0.1027"
     ]
    },
    {
     "name": "stderr",
     "output_type": "stream",
     "text": [
      "2023-05-06 01:05:00.763102: I tensorflow/core/common_runtime/gpu_fusion_pass.cc:507] ROCm Fusion is enabled.\n",
      "2023-05-06 01:05:00.769739: I tensorflow/core/common_runtime/gpu_fusion_pass.cc:507] ROCm Fusion is enabled.\n",
      "2023-05-06 01:05:00.779304: I tensorflow/core/common_runtime/gpu_fusion_pass.cc:507] ROCm Fusion is enabled.\n",
      "2023-05-06 01:05:00.781647: I tensorflow/core/common_runtime/gpu_fusion_pass.cc:507] ROCm Fusion is enabled.\n",
      "2023-05-06 01:05:00.783119: I tensorflow/core/common_runtime/gpu_fusion_pass.cc:507] ROCm Fusion is enabled.\n"
     ]
    },
    {
     "name": "stdout",
     "output_type": "stream",
     "text": [
      "1565/1565 [==============================] - 9s 6ms/step - loss: 0.1027 - val_loss: 0.1262\n",
      "Epoch 12/50\n",
      "  33/1565 [..............................] - ETA: 7s - loss: 0.1111"
     ]
    },
    {
     "name": "stderr",
     "output_type": "stream",
     "text": [
      "2023-05-06 01:05:01.683786: I tensorflow/core/common_runtime/gpu_fusion_pass.cc:507] ROCm Fusion is enabled.\n",
      "2023-05-06 01:05:01.695110: I tensorflow/core/common_runtime/gpu_fusion_pass.cc:507] ROCm Fusion is enabled.\n",
      "2023-05-06 01:05:01.697429: I tensorflow/core/common_runtime/gpu_fusion_pass.cc:507] ROCm Fusion is enabled.\n",
      "2023-05-06 01:05:01.698892: I tensorflow/core/common_runtime/gpu_fusion_pass.cc:507] ROCm Fusion is enabled.\n"
     ]
    },
    {
     "name": "stdout",
     "output_type": "stream",
     "text": [
      "1562/1565 [============================>.] - ETA: 0s - loss: 0.1028"
     ]
    },
    {
     "name": "stderr",
     "output_type": "stream",
     "text": [
      "2023-05-06 01:05:09.487899: I tensorflow/core/common_runtime/gpu_fusion_pass.cc:507] ROCm Fusion is enabled.\n",
      "2023-05-06 01:05:09.494803: I tensorflow/core/common_runtime/gpu_fusion_pass.cc:507] ROCm Fusion is enabled.\n",
      "2023-05-06 01:05:09.504626: I tensorflow/core/common_runtime/gpu_fusion_pass.cc:507] ROCm Fusion is enabled.\n",
      "2023-05-06 01:05:09.506958: I tensorflow/core/common_runtime/gpu_fusion_pass.cc:507] ROCm Fusion is enabled.\n",
      "2023-05-06 01:05:09.508425: I tensorflow/core/common_runtime/gpu_fusion_pass.cc:507] ROCm Fusion is enabled.\n"
     ]
    },
    {
     "name": "stdout",
     "output_type": "stream",
     "text": [
      "1565/1565 [==============================] - 9s 6ms/step - loss: 0.1028 - val_loss: 0.1169\n",
      "Epoch 13/50\n",
      "  33/1565 [..............................] - ETA: 7s - loss: 0.0954"
     ]
    },
    {
     "name": "stderr",
     "output_type": "stream",
     "text": [
      "2023-05-06 01:05:10.366906: I tensorflow/core/common_runtime/gpu_fusion_pass.cc:507] ROCm Fusion is enabled.\n",
      "2023-05-06 01:05:10.378613: I tensorflow/core/common_runtime/gpu_fusion_pass.cc:507] ROCm Fusion is enabled.\n",
      "2023-05-06 01:05:10.380931: I tensorflow/core/common_runtime/gpu_fusion_pass.cc:507] ROCm Fusion is enabled.\n",
      "2023-05-06 01:05:10.382385: I tensorflow/core/common_runtime/gpu_fusion_pass.cc:507] ROCm Fusion is enabled.\n"
     ]
    },
    {
     "name": "stdout",
     "output_type": "stream",
     "text": [
      "1555/1565 [============================>.] - ETA: 0s - loss: 0.1024"
     ]
    },
    {
     "name": "stderr",
     "output_type": "stream",
     "text": [
      "2023-05-06 01:05:18.140532: I tensorflow/core/common_runtime/gpu_fusion_pass.cc:507] ROCm Fusion is enabled.\n",
      "2023-05-06 01:05:18.148043: I tensorflow/core/common_runtime/gpu_fusion_pass.cc:507] ROCm Fusion is enabled.\n",
      "2023-05-06 01:05:18.157436: I tensorflow/core/common_runtime/gpu_fusion_pass.cc:507] ROCm Fusion is enabled.\n",
      "2023-05-06 01:05:18.159766: I tensorflow/core/common_runtime/gpu_fusion_pass.cc:507] ROCm Fusion is enabled.\n",
      "2023-05-06 01:05:18.161233: I tensorflow/core/common_runtime/gpu_fusion_pass.cc:507] ROCm Fusion is enabled.\n"
     ]
    },
    {
     "name": "stdout",
     "output_type": "stream",
     "text": [
      "1565/1565 [==============================] - 9s 6ms/step - loss: 0.1025 - val_loss: 0.1079\n",
      "Epoch 14/50\n",
      "  34/1565 [..............................] - ETA: 7s - loss: 0.1020"
     ]
    },
    {
     "name": "stderr",
     "output_type": "stream",
     "text": [
      "2023-05-06 01:05:19.045214: I tensorflow/core/common_runtime/gpu_fusion_pass.cc:507] ROCm Fusion is enabled.\n",
      "2023-05-06 01:05:19.055974: I tensorflow/core/common_runtime/gpu_fusion_pass.cc:507] ROCm Fusion is enabled.\n",
      "2023-05-06 01:05:19.058234: I tensorflow/core/common_runtime/gpu_fusion_pass.cc:507] ROCm Fusion is enabled.\n",
      "2023-05-06 01:05:19.059695: I tensorflow/core/common_runtime/gpu_fusion_pass.cc:507] ROCm Fusion is enabled.\n"
     ]
    },
    {
     "name": "stdout",
     "output_type": "stream",
     "text": [
      "1563/1565 [============================>.] - ETA: 0s - loss: 0.1023"
     ]
    },
    {
     "name": "stderr",
     "output_type": "stream",
     "text": [
      "2023-05-06 01:05:26.649402: I tensorflow/core/common_runtime/gpu_fusion_pass.cc:507] ROCm Fusion is enabled.\n",
      "2023-05-06 01:05:26.656439: I tensorflow/core/common_runtime/gpu_fusion_pass.cc:507] ROCm Fusion is enabled.\n",
      "2023-05-06 01:05:26.666698: I tensorflow/core/common_runtime/gpu_fusion_pass.cc:507] ROCm Fusion is enabled.\n",
      "2023-05-06 01:05:26.669029: I tensorflow/core/common_runtime/gpu_fusion_pass.cc:507] ROCm Fusion is enabled.\n",
      "2023-05-06 01:05:26.670504: I tensorflow/core/common_runtime/gpu_fusion_pass.cc:507] ROCm Fusion is enabled.\n"
     ]
    },
    {
     "name": "stdout",
     "output_type": "stream",
     "text": [
      "1565/1565 [==============================] - 8s 5ms/step - loss: 0.1023 - val_loss: 0.1067\n",
      "Epoch 15/50\n",
      "  34/1565 [..............................] - ETA: 7s - loss: 0.1049"
     ]
    },
    {
     "name": "stderr",
     "output_type": "stream",
     "text": [
      "2023-05-06 01:05:27.489765: I tensorflow/core/common_runtime/gpu_fusion_pass.cc:507] ROCm Fusion is enabled.\n",
      "2023-05-06 01:05:27.500279: I tensorflow/core/common_runtime/gpu_fusion_pass.cc:507] ROCm Fusion is enabled.\n",
      "2023-05-06 01:05:27.502797: I tensorflow/core/common_runtime/gpu_fusion_pass.cc:507] ROCm Fusion is enabled.\n",
      "2023-05-06 01:05:27.504266: I tensorflow/core/common_runtime/gpu_fusion_pass.cc:507] ROCm Fusion is enabled.\n"
     ]
    },
    {
     "name": "stdout",
     "output_type": "stream",
     "text": [
      "1563/1565 [============================>.] - ETA: 0s - loss: 0.1021"
     ]
    },
    {
     "name": "stderr",
     "output_type": "stream",
     "text": [
      "2023-05-06 01:05:35.010712: I tensorflow/core/common_runtime/gpu_fusion_pass.cc:507] ROCm Fusion is enabled.\n",
      "2023-05-06 01:05:35.018021: I tensorflow/core/common_runtime/gpu_fusion_pass.cc:507] ROCm Fusion is enabled.\n",
      "2023-05-06 01:05:35.028564: I tensorflow/core/common_runtime/gpu_fusion_pass.cc:507] ROCm Fusion is enabled.\n",
      "2023-05-06 01:05:35.030898: I tensorflow/core/common_runtime/gpu_fusion_pass.cc:507] ROCm Fusion is enabled.\n",
      "2023-05-06 01:05:35.032371: I tensorflow/core/common_runtime/gpu_fusion_pass.cc:507] ROCm Fusion is enabled.\n"
     ]
    },
    {
     "name": "stdout",
     "output_type": "stream",
     "text": [
      "1565/1565 [==============================] - 8s 5ms/step - loss: 0.1021 - val_loss: 0.1089\n",
      "Epoch 16/50\n",
      "  34/1565 [..............................] - ETA: 7s - loss: 0.1029"
     ]
    },
    {
     "name": "stderr",
     "output_type": "stream",
     "text": [
      "2023-05-06 01:05:35.865306: I tensorflow/core/common_runtime/gpu_fusion_pass.cc:507] ROCm Fusion is enabled.\n",
      "2023-05-06 01:05:35.876054: I tensorflow/core/common_runtime/gpu_fusion_pass.cc:507] ROCm Fusion is enabled.\n",
      "2023-05-06 01:05:35.878692: I tensorflow/core/common_runtime/gpu_fusion_pass.cc:507] ROCm Fusion is enabled.\n",
      "2023-05-06 01:05:35.880161: I tensorflow/core/common_runtime/gpu_fusion_pass.cc:507] ROCm Fusion is enabled.\n"
     ]
    },
    {
     "name": "stdout",
     "output_type": "stream",
     "text": [
      "1562/1565 [============================>.] - ETA: 0s - loss: 0.1022"
     ]
    },
    {
     "name": "stderr",
     "output_type": "stream",
     "text": [
      "2023-05-06 01:05:43.481519: I tensorflow/core/common_runtime/gpu_fusion_pass.cc:507] ROCm Fusion is enabled.\n",
      "2023-05-06 01:05:43.488761: I tensorflow/core/common_runtime/gpu_fusion_pass.cc:507] ROCm Fusion is enabled.\n",
      "2023-05-06 01:05:43.498912: I tensorflow/core/common_runtime/gpu_fusion_pass.cc:507] ROCm Fusion is enabled.\n",
      "2023-05-06 01:05:43.501234: I tensorflow/core/common_runtime/gpu_fusion_pass.cc:507] ROCm Fusion is enabled.\n",
      "2023-05-06 01:05:43.502727: I tensorflow/core/common_runtime/gpu_fusion_pass.cc:507] ROCm Fusion is enabled.\n"
     ]
    },
    {
     "name": "stdout",
     "output_type": "stream",
     "text": [
      "1565/1565 [==============================] - 8s 5ms/step - loss: 0.1022 - val_loss: 0.1110\n",
      "Epoch 17/50\n",
      "  34/1565 [..............................] - ETA: 7s - loss: 0.1087"
     ]
    },
    {
     "name": "stderr",
     "output_type": "stream",
     "text": [
      "2023-05-06 01:05:44.341166: I tensorflow/core/common_runtime/gpu_fusion_pass.cc:507] ROCm Fusion is enabled.\n",
      "2023-05-06 01:05:44.352129: I tensorflow/core/common_runtime/gpu_fusion_pass.cc:507] ROCm Fusion is enabled.\n",
      "2023-05-06 01:05:44.354453: I tensorflow/core/common_runtime/gpu_fusion_pass.cc:507] ROCm Fusion is enabled.\n",
      "2023-05-06 01:05:44.355927: I tensorflow/core/common_runtime/gpu_fusion_pass.cc:507] ROCm Fusion is enabled.\n"
     ]
    },
    {
     "name": "stdout",
     "output_type": "stream",
     "text": [
      "1560/1565 [============================>.] - ETA: 0s - loss: 0.1019"
     ]
    },
    {
     "name": "stderr",
     "output_type": "stream",
     "text": [
      "2023-05-06 01:05:51.958272: I tensorflow/core/common_runtime/gpu_fusion_pass.cc:507] ROCm Fusion is enabled.\n",
      "2023-05-06 01:05:51.965444: I tensorflow/core/common_runtime/gpu_fusion_pass.cc:507] ROCm Fusion is enabled.\n",
      "2023-05-06 01:05:51.975282: I tensorflow/core/common_runtime/gpu_fusion_pass.cc:507] ROCm Fusion is enabled.\n",
      "2023-05-06 01:05:51.977612: I tensorflow/core/common_runtime/gpu_fusion_pass.cc:507] ROCm Fusion is enabled.\n",
      "2023-05-06 01:05:51.979093: I tensorflow/core/common_runtime/gpu_fusion_pass.cc:507] ROCm Fusion is enabled.\n"
     ]
    },
    {
     "name": "stdout",
     "output_type": "stream",
     "text": [
      "1565/1565 [==============================] - 8s 5ms/step - loss: 0.1019 - val_loss: 0.1178\n",
      "Epoch 18/50\n",
      "  34/1565 [..............................] - ETA: 7s - loss: 0.0930"
     ]
    },
    {
     "name": "stderr",
     "output_type": "stream",
     "text": [
      "2023-05-06 01:05:52.836518: I tensorflow/core/common_runtime/gpu_fusion_pass.cc:507] ROCm Fusion is enabled.\n",
      "2023-05-06 01:05:52.847284: I tensorflow/core/common_runtime/gpu_fusion_pass.cc:507] ROCm Fusion is enabled.\n",
      "2023-05-06 01:05:52.849658: I tensorflow/core/common_runtime/gpu_fusion_pass.cc:507] ROCm Fusion is enabled.\n",
      "2023-05-06 01:05:52.851251: I tensorflow/core/common_runtime/gpu_fusion_pass.cc:507] ROCm Fusion is enabled.\n"
     ]
    },
    {
     "name": "stdout",
     "output_type": "stream",
     "text": [
      "1563/1565 [============================>.] - ETA: 0s - loss: 0.1019"
     ]
    },
    {
     "name": "stderr",
     "output_type": "stream",
     "text": [
      "2023-05-06 01:06:00.435262: I tensorflow/core/common_runtime/gpu_fusion_pass.cc:507] ROCm Fusion is enabled.\n",
      "2023-05-06 01:06:00.442748: I tensorflow/core/common_runtime/gpu_fusion_pass.cc:507] ROCm Fusion is enabled.\n",
      "2023-05-06 01:06:00.452411: I tensorflow/core/common_runtime/gpu_fusion_pass.cc:507] ROCm Fusion is enabled.\n",
      "2023-05-06 01:06:00.454708: I tensorflow/core/common_runtime/gpu_fusion_pass.cc:507] ROCm Fusion is enabled.\n",
      "2023-05-06 01:06:00.456363: I tensorflow/core/common_runtime/gpu_fusion_pass.cc:507] ROCm Fusion is enabled.\n"
     ]
    },
    {
     "name": "stdout",
     "output_type": "stream",
     "text": [
      "1565/1565 [==============================] - 8s 5ms/step - loss: 0.1019 - val_loss: 0.1109\n",
      "Epoch 19/50\n",
      "  34/1565 [..............................] - ETA: 7s - loss: 0.1007"
     ]
    },
    {
     "name": "stderr",
     "output_type": "stream",
     "text": [
      "2023-05-06 01:06:01.302168: I tensorflow/core/common_runtime/gpu_fusion_pass.cc:507] ROCm Fusion is enabled.\n",
      "2023-05-06 01:06:01.312788: I tensorflow/core/common_runtime/gpu_fusion_pass.cc:507] ROCm Fusion is enabled.\n",
      "2023-05-06 01:06:01.315253: I tensorflow/core/common_runtime/gpu_fusion_pass.cc:507] ROCm Fusion is enabled.\n",
      "2023-05-06 01:06:01.316712: I tensorflow/core/common_runtime/gpu_fusion_pass.cc:507] ROCm Fusion is enabled.\n"
     ]
    },
    {
     "name": "stdout",
     "output_type": "stream",
     "text": [
      "1563/1565 [============================>.] - ETA: 0s - loss: 0.1018"
     ]
    },
    {
     "name": "stderr",
     "output_type": "stream",
     "text": [
      "2023-05-06 01:06:08.867535: I tensorflow/core/common_runtime/gpu_fusion_pass.cc:507] ROCm Fusion is enabled.\n",
      "2023-05-06 01:06:08.874810: I tensorflow/core/common_runtime/gpu_fusion_pass.cc:507] ROCm Fusion is enabled.\n",
      "2023-05-06 01:06:08.884536: I tensorflow/core/common_runtime/gpu_fusion_pass.cc:507] ROCm Fusion is enabled.\n",
      "2023-05-06 01:06:08.887140: I tensorflow/core/common_runtime/gpu_fusion_pass.cc:507] ROCm Fusion is enabled.\n",
      "2023-05-06 01:06:08.888731: I tensorflow/core/common_runtime/gpu_fusion_pass.cc:507] ROCm Fusion is enabled.\n"
     ]
    },
    {
     "name": "stdout",
     "output_type": "stream",
     "text": [
      "1565/1565 [==============================] - 8s 5ms/step - loss: 0.1018 - val_loss: 0.1120\n",
      "Epoch 20/50\n",
      "  34/1565 [..............................] - ETA: 7s - loss: 0.1013"
     ]
    },
    {
     "name": "stderr",
     "output_type": "stream",
     "text": [
      "2023-05-06 01:06:09.739463: I tensorflow/core/common_runtime/gpu_fusion_pass.cc:507] ROCm Fusion is enabled.\n",
      "2023-05-06 01:06:09.750142: I tensorflow/core/common_runtime/gpu_fusion_pass.cc:507] ROCm Fusion is enabled.\n",
      "2023-05-06 01:06:09.752467: I tensorflow/core/common_runtime/gpu_fusion_pass.cc:507] ROCm Fusion is enabled.\n",
      "2023-05-06 01:06:09.753931: I tensorflow/core/common_runtime/gpu_fusion_pass.cc:507] ROCm Fusion is enabled.\n"
     ]
    },
    {
     "name": "stdout",
     "output_type": "stream",
     "text": [
      "1561/1565 [============================>.] - ETA: 0s - loss: 0.1018"
     ]
    },
    {
     "name": "stderr",
     "output_type": "stream",
     "text": [
      "2023-05-06 01:06:17.422595: I tensorflow/core/common_runtime/gpu_fusion_pass.cc:507] ROCm Fusion is enabled.\n",
      "2023-05-06 01:06:17.429585: I tensorflow/core/common_runtime/gpu_fusion_pass.cc:507] ROCm Fusion is enabled.\n",
      "2023-05-06 01:06:17.440061: I tensorflow/core/common_runtime/gpu_fusion_pass.cc:507] ROCm Fusion is enabled.\n",
      "2023-05-06 01:06:17.442404: I tensorflow/core/common_runtime/gpu_fusion_pass.cc:507] ROCm Fusion is enabled.\n",
      "2023-05-06 01:06:17.443881: I tensorflow/core/common_runtime/gpu_fusion_pass.cc:507] ROCm Fusion is enabled.\n"
     ]
    },
    {
     "name": "stdout",
     "output_type": "stream",
     "text": [
      "1565/1565 [==============================] - 9s 5ms/step - loss: 0.1018 - val_loss: 0.1141\n",
      "Epoch 21/50\n",
      "  34/1565 [..............................] - ETA: 7s - loss: 0.1040"
     ]
    },
    {
     "name": "stderr",
     "output_type": "stream",
     "text": [
      "2023-05-06 01:06:18.294612: I tensorflow/core/common_runtime/gpu_fusion_pass.cc:507] ROCm Fusion is enabled.\n",
      "2023-05-06 01:06:18.305426: I tensorflow/core/common_runtime/gpu_fusion_pass.cc:507] ROCm Fusion is enabled.\n",
      "2023-05-06 01:06:18.307727: I tensorflow/core/common_runtime/gpu_fusion_pass.cc:507] ROCm Fusion is enabled.\n",
      "2023-05-06 01:06:18.309190: I tensorflow/core/common_runtime/gpu_fusion_pass.cc:507] ROCm Fusion is enabled.\n"
     ]
    },
    {
     "name": "stdout",
     "output_type": "stream",
     "text": [
      "1563/1565 [============================>.] - ETA: 0s - loss: 0.1013"
     ]
    },
    {
     "name": "stderr",
     "output_type": "stream",
     "text": [
      "2023-05-06 01:06:25.843931: I tensorflow/core/common_runtime/gpu_fusion_pass.cc:507] ROCm Fusion is enabled.\n",
      "2023-05-06 01:06:25.851316: I tensorflow/core/common_runtime/gpu_fusion_pass.cc:507] ROCm Fusion is enabled.\n",
      "2023-05-06 01:06:25.861079: I tensorflow/core/common_runtime/gpu_fusion_pass.cc:507] ROCm Fusion is enabled.\n",
      "2023-05-06 01:06:25.863379: I tensorflow/core/common_runtime/gpu_fusion_pass.cc:507] ROCm Fusion is enabled.\n",
      "2023-05-06 01:06:25.864842: I tensorflow/core/common_runtime/gpu_fusion_pass.cc:507] ROCm Fusion is enabled.\n"
     ]
    },
    {
     "name": "stdout",
     "output_type": "stream",
     "text": [
      "1565/1565 [==============================] - 8s 5ms/step - loss: 0.1013 - val_loss: 0.1147\n",
      "Epoch 22/50\n",
      "  34/1565 [..............................] - ETA: 7s - loss: 0.0980"
     ]
    },
    {
     "name": "stderr",
     "output_type": "stream",
     "text": [
      "2023-05-06 01:06:26.717178: I tensorflow/core/common_runtime/gpu_fusion_pass.cc:507] ROCm Fusion is enabled.\n",
      "2023-05-06 01:06:26.727389: I tensorflow/core/common_runtime/gpu_fusion_pass.cc:507] ROCm Fusion is enabled.\n",
      "2023-05-06 01:06:26.729698: I tensorflow/core/common_runtime/gpu_fusion_pass.cc:507] ROCm Fusion is enabled.\n",
      "2023-05-06 01:06:26.731166: I tensorflow/core/common_runtime/gpu_fusion_pass.cc:507] ROCm Fusion is enabled.\n"
     ]
    },
    {
     "name": "stdout",
     "output_type": "stream",
     "text": [
      "1563/1565 [============================>.] - ETA: 0s - loss: 0.1016"
     ]
    },
    {
     "name": "stderr",
     "output_type": "stream",
     "text": [
      "2023-05-06 01:06:34.304856: I tensorflow/core/common_runtime/gpu_fusion_pass.cc:507] ROCm Fusion is enabled.\n",
      "2023-05-06 01:06:34.312006: I tensorflow/core/common_runtime/gpu_fusion_pass.cc:507] ROCm Fusion is enabled.\n",
      "2023-05-06 01:06:34.322153: I tensorflow/core/common_runtime/gpu_fusion_pass.cc:507] ROCm Fusion is enabled.\n",
      "2023-05-06 01:06:34.324503: I tensorflow/core/common_runtime/gpu_fusion_pass.cc:507] ROCm Fusion is enabled.\n",
      "2023-05-06 01:06:34.325983: I tensorflow/core/common_runtime/gpu_fusion_pass.cc:507] ROCm Fusion is enabled.\n"
     ]
    },
    {
     "name": "stdout",
     "output_type": "stream",
     "text": [
      "1565/1565 [==============================] - 8s 5ms/step - loss: 0.1017 - val_loss: 0.1130\n",
      "Epoch 23/50\n",
      "  34/1565 [..............................] - ETA: 7s - loss: 0.1019"
     ]
    },
    {
     "name": "stderr",
     "output_type": "stream",
     "text": [
      "2023-05-06 01:06:35.183355: I tensorflow/core/common_runtime/gpu_fusion_pass.cc:507] ROCm Fusion is enabled.\n",
      "2023-05-06 01:06:35.194164: I tensorflow/core/common_runtime/gpu_fusion_pass.cc:507] ROCm Fusion is enabled.\n",
      "2023-05-06 01:06:35.196780: I tensorflow/core/common_runtime/gpu_fusion_pass.cc:507] ROCm Fusion is enabled.\n",
      "2023-05-06 01:06:35.198458: I tensorflow/core/common_runtime/gpu_fusion_pass.cc:507] ROCm Fusion is enabled.\n"
     ]
    },
    {
     "name": "stdout",
     "output_type": "stream",
     "text": [
      "1562/1565 [============================>.] - ETA: 0s - loss: 0.1017"
     ]
    },
    {
     "name": "stderr",
     "output_type": "stream",
     "text": [
      "2023-05-06 01:06:42.753756: I tensorflow/core/common_runtime/gpu_fusion_pass.cc:507] ROCm Fusion is enabled.\n",
      "2023-05-06 01:06:42.761297: I tensorflow/core/common_runtime/gpu_fusion_pass.cc:507] ROCm Fusion is enabled.\n",
      "2023-05-06 01:06:42.770913: I tensorflow/core/common_runtime/gpu_fusion_pass.cc:507] ROCm Fusion is enabled.\n",
      "2023-05-06 01:06:42.773269: I tensorflow/core/common_runtime/gpu_fusion_pass.cc:507] ROCm Fusion is enabled.\n",
      "2023-05-06 01:06:42.774758: I tensorflow/core/common_runtime/gpu_fusion_pass.cc:507] ROCm Fusion is enabled.\n"
     ]
    },
    {
     "name": "stdout",
     "output_type": "stream",
     "text": [
      "1565/1565 [==============================] - 8s 5ms/step - loss: 0.1017 - val_loss: 0.1106\n",
      "Epoch 24/50\n",
      "  34/1565 [..............................] - ETA: 7s - loss: 0.1056"
     ]
    },
    {
     "name": "stderr",
     "output_type": "stream",
     "text": [
      "2023-05-06 01:06:43.631570: I tensorflow/core/common_runtime/gpu_fusion_pass.cc:507] ROCm Fusion is enabled.\n",
      "2023-05-06 01:06:43.642892: I tensorflow/core/common_runtime/gpu_fusion_pass.cc:507] ROCm Fusion is enabled.\n",
      "2023-05-06 01:06:43.645472: I tensorflow/core/common_runtime/gpu_fusion_pass.cc:507] ROCm Fusion is enabled.\n",
      "2023-05-06 01:06:43.646933: I tensorflow/core/common_runtime/gpu_fusion_pass.cc:507] ROCm Fusion is enabled.\n"
     ]
    },
    {
     "name": "stdout",
     "output_type": "stream",
     "text": [
      "1563/1565 [============================>.] - ETA: 0s - loss: 0.1015"
     ]
    },
    {
     "name": "stderr",
     "output_type": "stream",
     "text": [
      "2023-05-06 01:06:51.193775: I tensorflow/core/common_runtime/gpu_fusion_pass.cc:507] ROCm Fusion is enabled.\n",
      "2023-05-06 01:06:51.201119: I tensorflow/core/common_runtime/gpu_fusion_pass.cc:507] ROCm Fusion is enabled.\n",
      "2023-05-06 01:06:51.210494: I tensorflow/core/common_runtime/gpu_fusion_pass.cc:507] ROCm Fusion is enabled.\n",
      "2023-05-06 01:06:51.213086: I tensorflow/core/common_runtime/gpu_fusion_pass.cc:507] ROCm Fusion is enabled.\n",
      "2023-05-06 01:06:51.214662: I tensorflow/core/common_runtime/gpu_fusion_pass.cc:507] ROCm Fusion is enabled.\n"
     ]
    },
    {
     "name": "stdout",
     "output_type": "stream",
     "text": [
      "1565/1565 [==============================] - 8s 5ms/step - loss: 0.1015 - val_loss: 0.1078\n",
      "Epoch 25/50\n",
      "  34/1565 [..............................] - ETA: 7s - loss: 0.1015"
     ]
    },
    {
     "name": "stderr",
     "output_type": "stream",
     "text": [
      "2023-05-06 01:06:52.048007: I tensorflow/core/common_runtime/gpu_fusion_pass.cc:507] ROCm Fusion is enabled.\n",
      "2023-05-06 01:06:52.058638: I tensorflow/core/common_runtime/gpu_fusion_pass.cc:507] ROCm Fusion is enabled.\n",
      "2023-05-06 01:06:52.061213: I tensorflow/core/common_runtime/gpu_fusion_pass.cc:507] ROCm Fusion is enabled.\n",
      "2023-05-06 01:06:52.062893: I tensorflow/core/common_runtime/gpu_fusion_pass.cc:507] ROCm Fusion is enabled.\n"
     ]
    },
    {
     "name": "stdout",
     "output_type": "stream",
     "text": [
      "1563/1565 [============================>.] - ETA: 0s - loss: 0.1011"
     ]
    },
    {
     "name": "stderr",
     "output_type": "stream",
     "text": [
      "2023-05-06 01:06:59.623694: I tensorflow/core/common_runtime/gpu_fusion_pass.cc:507] ROCm Fusion is enabled.\n",
      "2023-05-06 01:06:59.630851: I tensorflow/core/common_runtime/gpu_fusion_pass.cc:507] ROCm Fusion is enabled.\n",
      "2023-05-06 01:06:59.640701: I tensorflow/core/common_runtime/gpu_fusion_pass.cc:507] ROCm Fusion is enabled.\n",
      "2023-05-06 01:06:59.643051: I tensorflow/core/common_runtime/gpu_fusion_pass.cc:507] ROCm Fusion is enabled.\n",
      "2023-05-06 01:06:59.644528: I tensorflow/core/common_runtime/gpu_fusion_pass.cc:507] ROCm Fusion is enabled.\n"
     ]
    },
    {
     "name": "stdout",
     "output_type": "stream",
     "text": [
      "1565/1565 [==============================] - 8s 5ms/step - loss: 0.1012 - val_loss: 0.1145\n",
      "Epoch 26/50\n",
      "  34/1565 [..............................] - ETA: 7s - loss: 0.0995"
     ]
    },
    {
     "name": "stderr",
     "output_type": "stream",
     "text": [
      "2023-05-06 01:07:00.489459: I tensorflow/core/common_runtime/gpu_fusion_pass.cc:507] ROCm Fusion is enabled.\n",
      "2023-05-06 01:07:00.500295: I tensorflow/core/common_runtime/gpu_fusion_pass.cc:507] ROCm Fusion is enabled.\n",
      "2023-05-06 01:07:00.502808: I tensorflow/core/common_runtime/gpu_fusion_pass.cc:507] ROCm Fusion is enabled.\n",
      "2023-05-06 01:07:00.504275: I tensorflow/core/common_runtime/gpu_fusion_pass.cc:507] ROCm Fusion is enabled.\n"
     ]
    },
    {
     "name": "stdout",
     "output_type": "stream",
     "text": [
      "1563/1565 [============================>.] - ETA: 0s - loss: 0.1014"
     ]
    },
    {
     "name": "stderr",
     "output_type": "stream",
     "text": [
      "2023-05-06 01:07:08.142250: I tensorflow/core/common_runtime/gpu_fusion_pass.cc:507] ROCm Fusion is enabled.\n",
      "2023-05-06 01:07:08.149264: I tensorflow/core/common_runtime/gpu_fusion_pass.cc:507] ROCm Fusion is enabled.\n",
      "2023-05-06 01:07:08.159108: I tensorflow/core/common_runtime/gpu_fusion_pass.cc:507] ROCm Fusion is enabled.\n",
      "2023-05-06 01:07:08.161754: I tensorflow/core/common_runtime/gpu_fusion_pass.cc:507] ROCm Fusion is enabled.\n",
      "2023-05-06 01:07:08.163273: I tensorflow/core/common_runtime/gpu_fusion_pass.cc:507] ROCm Fusion is enabled.\n"
     ]
    },
    {
     "name": "stdout",
     "output_type": "stream",
     "text": [
      "1565/1565 [==============================] - 9s 5ms/step - loss: 0.1014 - val_loss: 0.1154\n",
      "Epoch 27/50\n",
      "  34/1565 [..............................] - ETA: 7s - loss: 0.1004"
     ]
    },
    {
     "name": "stderr",
     "output_type": "stream",
     "text": [
      "2023-05-06 01:07:09.017327: I tensorflow/core/common_runtime/gpu_fusion_pass.cc:507] ROCm Fusion is enabled.\n",
      "2023-05-06 01:07:09.027806: I tensorflow/core/common_runtime/gpu_fusion_pass.cc:507] ROCm Fusion is enabled.\n",
      "2023-05-06 01:07:09.030358: I tensorflow/core/common_runtime/gpu_fusion_pass.cc:507] ROCm Fusion is enabled.\n",
      "2023-05-06 01:07:09.032017: I tensorflow/core/common_runtime/gpu_fusion_pass.cc:507] ROCm Fusion is enabled.\n"
     ]
    },
    {
     "name": "stdout",
     "output_type": "stream",
     "text": [
      "1563/1565 [============================>.] - ETA: 0s - loss: 0.1012"
     ]
    },
    {
     "name": "stderr",
     "output_type": "stream",
     "text": [
      "2023-05-06 01:07:16.664908: I tensorflow/core/common_runtime/gpu_fusion_pass.cc:507] ROCm Fusion is enabled.\n",
      "2023-05-06 01:07:16.672317: I tensorflow/core/common_runtime/gpu_fusion_pass.cc:507] ROCm Fusion is enabled.\n",
      "2023-05-06 01:07:16.681590: I tensorflow/core/common_runtime/gpu_fusion_pass.cc:507] ROCm Fusion is enabled.\n",
      "2023-05-06 01:07:16.684161: I tensorflow/core/common_runtime/gpu_fusion_pass.cc:507] ROCm Fusion is enabled.\n",
      "2023-05-06 01:07:16.685825: I tensorflow/core/common_runtime/gpu_fusion_pass.cc:507] ROCm Fusion is enabled.\n"
     ]
    },
    {
     "name": "stdout",
     "output_type": "stream",
     "text": [
      "1565/1565 [==============================] - 9s 5ms/step - loss: 0.1012 - val_loss: 0.1189\n",
      "Epoch 28/50\n",
      "  34/1565 [..............................] - ETA: 7s - loss: 0.1013"
     ]
    },
    {
     "name": "stderr",
     "output_type": "stream",
     "text": [
      "2023-05-06 01:07:17.533655: I tensorflow/core/common_runtime/gpu_fusion_pass.cc:507] ROCm Fusion is enabled.\n",
      "2023-05-06 01:07:17.543731: I tensorflow/core/common_runtime/gpu_fusion_pass.cc:507] ROCm Fusion is enabled.\n",
      "2023-05-06 01:07:17.546232: I tensorflow/core/common_runtime/gpu_fusion_pass.cc:507] ROCm Fusion is enabled.\n",
      "2023-05-06 01:07:17.547708: I tensorflow/core/common_runtime/gpu_fusion_pass.cc:507] ROCm Fusion is enabled.\n"
     ]
    },
    {
     "name": "stdout",
     "output_type": "stream",
     "text": [
      "1563/1565 [============================>.] - ETA: 0s - loss: 0.1013"
     ]
    },
    {
     "name": "stderr",
     "output_type": "stream",
     "text": [
      "2023-05-06 01:07:25.082982: I tensorflow/core/common_runtime/gpu_fusion_pass.cc:507] ROCm Fusion is enabled.\n",
      "2023-05-06 01:07:25.090131: I tensorflow/core/common_runtime/gpu_fusion_pass.cc:507] ROCm Fusion is enabled.\n",
      "2023-05-06 01:07:25.100450: I tensorflow/core/common_runtime/gpu_fusion_pass.cc:507] ROCm Fusion is enabled.\n",
      "2023-05-06 01:07:25.103017: I tensorflow/core/common_runtime/gpu_fusion_pass.cc:507] ROCm Fusion is enabled.\n",
      "2023-05-06 01:07:25.104514: I tensorflow/core/common_runtime/gpu_fusion_pass.cc:507] ROCm Fusion is enabled.\n"
     ]
    },
    {
     "name": "stdout",
     "output_type": "stream",
     "text": [
      "1565/1565 [==============================] - 8s 5ms/step - loss: 0.1013 - val_loss: 0.1071\n",
      "Epoch 29/50\n",
      "  33/1565 [..............................] - ETA: 7s - loss: 0.1008"
     ]
    },
    {
     "name": "stderr",
     "output_type": "stream",
     "text": [
      "2023-05-06 01:07:25.950360: I tensorflow/core/common_runtime/gpu_fusion_pass.cc:507] ROCm Fusion is enabled.\n",
      "2023-05-06 01:07:25.960907: I tensorflow/core/common_runtime/gpu_fusion_pass.cc:507] ROCm Fusion is enabled.\n",
      "2023-05-06 01:07:25.963350: I tensorflow/core/common_runtime/gpu_fusion_pass.cc:507] ROCm Fusion is enabled.\n",
      "2023-05-06 01:07:25.964836: I tensorflow/core/common_runtime/gpu_fusion_pass.cc:507] ROCm Fusion is enabled.\n"
     ]
    },
    {
     "name": "stdout",
     "output_type": "stream",
     "text": [
      "1562/1565 [============================>.] - ETA: 0s - loss: 0.1015"
     ]
    },
    {
     "name": "stderr",
     "output_type": "stream",
     "text": [
      "2023-05-06 01:07:33.506063: I tensorflow/core/common_runtime/gpu_fusion_pass.cc:507] ROCm Fusion is enabled.\n",
      "2023-05-06 01:07:33.513283: I tensorflow/core/common_runtime/gpu_fusion_pass.cc:507] ROCm Fusion is enabled.\n",
      "2023-05-06 01:07:33.523077: I tensorflow/core/common_runtime/gpu_fusion_pass.cc:507] ROCm Fusion is enabled.\n",
      "2023-05-06 01:07:33.525407: I tensorflow/core/common_runtime/gpu_fusion_pass.cc:507] ROCm Fusion is enabled.\n",
      "2023-05-06 01:07:33.526910: I tensorflow/core/common_runtime/gpu_fusion_pass.cc:507] ROCm Fusion is enabled.\n"
     ]
    },
    {
     "name": "stdout",
     "output_type": "stream",
     "text": [
      "1565/1565 [==============================] - 8s 5ms/step - loss: 0.1014 - val_loss: 0.1118\n",
      "Epoch 30/50\n",
      "  34/1565 [..............................] - ETA: 7s - loss: 0.1023"
     ]
    },
    {
     "name": "stderr",
     "output_type": "stream",
     "text": [
      "2023-05-06 01:07:34.399411: I tensorflow/core/common_runtime/gpu_fusion_pass.cc:507] ROCm Fusion is enabled.\n",
      "2023-05-06 01:07:34.410203: I tensorflow/core/common_runtime/gpu_fusion_pass.cc:507] ROCm Fusion is enabled.\n",
      "2023-05-06 01:07:34.412826: I tensorflow/core/common_runtime/gpu_fusion_pass.cc:507] ROCm Fusion is enabled.\n",
      "2023-05-06 01:07:34.414489: I tensorflow/core/common_runtime/gpu_fusion_pass.cc:507] ROCm Fusion is enabled.\n"
     ]
    },
    {
     "name": "stdout",
     "output_type": "stream",
     "text": [
      "1562/1565 [============================>.] - ETA: 0s - loss: 0.1010"
     ]
    },
    {
     "name": "stderr",
     "output_type": "stream",
     "text": [
      "2023-05-06 01:07:42.092353: I tensorflow/core/common_runtime/gpu_fusion_pass.cc:507] ROCm Fusion is enabled.\n",
      "2023-05-06 01:07:42.099434: I tensorflow/core/common_runtime/gpu_fusion_pass.cc:507] ROCm Fusion is enabled.\n",
      "2023-05-06 01:07:42.108730: I tensorflow/core/common_runtime/gpu_fusion_pass.cc:507] ROCm Fusion is enabled.\n",
      "2023-05-06 01:07:42.111380: I tensorflow/core/common_runtime/gpu_fusion_pass.cc:507] ROCm Fusion is enabled.\n",
      "2023-05-06 01:07:42.112990: I tensorflow/core/common_runtime/gpu_fusion_pass.cc:507] ROCm Fusion is enabled.\n"
     ]
    },
    {
     "name": "stdout",
     "output_type": "stream",
     "text": [
      "1565/1565 [==============================] - 9s 5ms/step - loss: 0.1011 - val_loss: 0.1107\n",
      "Epoch 31/50\n",
      "  34/1565 [..............................] - ETA: 7s - loss: 0.1044"
     ]
    },
    {
     "name": "stderr",
     "output_type": "stream",
     "text": [
      "2023-05-06 01:07:42.976225: I tensorflow/core/common_runtime/gpu_fusion_pass.cc:507] ROCm Fusion is enabled.\n",
      "2023-05-06 01:07:42.987839: I tensorflow/core/common_runtime/gpu_fusion_pass.cc:507] ROCm Fusion is enabled.\n",
      "2023-05-06 01:07:42.990482: I tensorflow/core/common_runtime/gpu_fusion_pass.cc:507] ROCm Fusion is enabled.\n",
      "2023-05-06 01:07:42.992175: I tensorflow/core/common_runtime/gpu_fusion_pass.cc:507] ROCm Fusion is enabled.\n"
     ]
    },
    {
     "name": "stdout",
     "output_type": "stream",
     "text": [
      "1560/1565 [============================>.] - ETA: 0s - loss: 0.1010"
     ]
    },
    {
     "name": "stderr",
     "output_type": "stream",
     "text": [
      "2023-05-06 01:07:50.676815: I tensorflow/core/common_runtime/gpu_fusion_pass.cc:507] ROCm Fusion is enabled.\n",
      "2023-05-06 01:07:50.684041: I tensorflow/core/common_runtime/gpu_fusion_pass.cc:507] ROCm Fusion is enabled.\n",
      "2023-05-06 01:07:50.693916: I tensorflow/core/common_runtime/gpu_fusion_pass.cc:507] ROCm Fusion is enabled.\n",
      "2023-05-06 01:07:50.696269: I tensorflow/core/common_runtime/gpu_fusion_pass.cc:507] ROCm Fusion is enabled.\n",
      "2023-05-06 01:07:50.697754: I tensorflow/core/common_runtime/gpu_fusion_pass.cc:507] ROCm Fusion is enabled.\n"
     ]
    },
    {
     "name": "stdout",
     "output_type": "stream",
     "text": [
      "1565/1565 [==============================] - 9s 5ms/step - loss: 0.1010 - val_loss: 0.1189\n",
      "Epoch 32/50\n",
      "  34/1565 [..............................] - ETA: 7s - loss: 0.0979"
     ]
    },
    {
     "name": "stderr",
     "output_type": "stream",
     "text": [
      "2023-05-06 01:07:51.556860: I tensorflow/core/common_runtime/gpu_fusion_pass.cc:507] ROCm Fusion is enabled.\n",
      "2023-05-06 01:07:51.569281: I tensorflow/core/common_runtime/gpu_fusion_pass.cc:507] ROCm Fusion is enabled.\n",
      "2023-05-06 01:07:51.571631: I tensorflow/core/common_runtime/gpu_fusion_pass.cc:507] ROCm Fusion is enabled.\n",
      "2023-05-06 01:07:51.573105: I tensorflow/core/common_runtime/gpu_fusion_pass.cc:507] ROCm Fusion is enabled.\n"
     ]
    },
    {
     "name": "stdout",
     "output_type": "stream",
     "text": [
      "1562/1565 [============================>.] - ETA: 0s - loss: 0.1013"
     ]
    },
    {
     "name": "stderr",
     "output_type": "stream",
     "text": [
      "2023-05-06 01:07:59.157220: I tensorflow/core/common_runtime/gpu_fusion_pass.cc:507] ROCm Fusion is enabled.\n",
      "2023-05-06 01:07:59.164495: I tensorflow/core/common_runtime/gpu_fusion_pass.cc:507] ROCm Fusion is enabled.\n",
      "2023-05-06 01:07:59.174302: I tensorflow/core/common_runtime/gpu_fusion_pass.cc:507] ROCm Fusion is enabled.\n",
      "2023-05-06 01:07:59.176651: I tensorflow/core/common_runtime/gpu_fusion_pass.cc:507] ROCm Fusion is enabled.\n",
      "2023-05-06 01:07:59.178321: I tensorflow/core/common_runtime/gpu_fusion_pass.cc:507] ROCm Fusion is enabled.\n"
     ]
    },
    {
     "name": "stdout",
     "output_type": "stream",
     "text": [
      "1565/1565 [==============================] - 8s 5ms/step - loss: 0.1013 - val_loss: 0.1130\n",
      "Epoch 33/50\n",
      "  34/1565 [..............................] - ETA: 7s - loss: 0.1042"
     ]
    },
    {
     "name": "stderr",
     "output_type": "stream",
     "text": [
      "2023-05-06 01:08:00.021378: I tensorflow/core/common_runtime/gpu_fusion_pass.cc:507] ROCm Fusion is enabled.\n",
      "2023-05-06 01:08:00.032241: I tensorflow/core/common_runtime/gpu_fusion_pass.cc:507] ROCm Fusion is enabled.\n",
      "2023-05-06 01:08:00.034573: I tensorflow/core/common_runtime/gpu_fusion_pass.cc:507] ROCm Fusion is enabled.\n",
      "2023-05-06 01:08:00.036041: I tensorflow/core/common_runtime/gpu_fusion_pass.cc:507] ROCm Fusion is enabled.\n"
     ]
    },
    {
     "name": "stdout",
     "output_type": "stream",
     "text": [
      "1561/1565 [============================>.] - ETA: 0s - loss: 0.1012"
     ]
    },
    {
     "name": "stderr",
     "output_type": "stream",
     "text": [
      "2023-05-06 01:08:07.620541: I tensorflow/core/common_runtime/gpu_fusion_pass.cc:507] ROCm Fusion is enabled.\n",
      "2023-05-06 01:08:07.628228: I tensorflow/core/common_runtime/gpu_fusion_pass.cc:507] ROCm Fusion is enabled.\n",
      "2023-05-06 01:08:07.638147: I tensorflow/core/common_runtime/gpu_fusion_pass.cc:507] ROCm Fusion is enabled.\n",
      "2023-05-06 01:08:07.640815: I tensorflow/core/common_runtime/gpu_fusion_pass.cc:507] ROCm Fusion is enabled.\n",
      "2023-05-06 01:08:07.642493: I tensorflow/core/common_runtime/gpu_fusion_pass.cc:507] ROCm Fusion is enabled.\n"
     ]
    },
    {
     "name": "stdout",
     "output_type": "stream",
     "text": [
      "1565/1565 [==============================] - 8s 5ms/step - loss: 0.1012 - val_loss: 0.1174\n",
      "Epoch 34/50\n",
      "  34/1565 [..............................] - ETA: 7s - loss: 0.1047"
     ]
    },
    {
     "name": "stderr",
     "output_type": "stream",
     "text": [
      "2023-05-06 01:08:08.495182: I tensorflow/core/common_runtime/gpu_fusion_pass.cc:507] ROCm Fusion is enabled.\n",
      "2023-05-06 01:08:08.507016: I tensorflow/core/common_runtime/gpu_fusion_pass.cc:507] ROCm Fusion is enabled.\n",
      "2023-05-06 01:08:08.509346: I tensorflow/core/common_runtime/gpu_fusion_pass.cc:507] ROCm Fusion is enabled.\n",
      "2023-05-06 01:08:08.510806: I tensorflow/core/common_runtime/gpu_fusion_pass.cc:507] ROCm Fusion is enabled.\n"
     ]
    },
    {
     "name": "stdout",
     "output_type": "stream",
     "text": [
      "1563/1565 [============================>.] - ETA: 0s - loss: 0.1008"
     ]
    },
    {
     "name": "stderr",
     "output_type": "stream",
     "text": [
      "2023-05-06 01:08:16.042717: I tensorflow/core/common_runtime/gpu_fusion_pass.cc:507] ROCm Fusion is enabled.\n",
      "2023-05-06 01:08:16.050023: I tensorflow/core/common_runtime/gpu_fusion_pass.cc:507] ROCm Fusion is enabled.\n",
      "2023-05-06 01:08:16.059947: I tensorflow/core/common_runtime/gpu_fusion_pass.cc:507] ROCm Fusion is enabled.\n",
      "2023-05-06 01:08:16.062565: I tensorflow/core/common_runtime/gpu_fusion_pass.cc:507] ROCm Fusion is enabled.\n",
      "2023-05-06 01:08:16.064263: I tensorflow/core/common_runtime/gpu_fusion_pass.cc:507] ROCm Fusion is enabled.\n"
     ]
    },
    {
     "name": "stdout",
     "output_type": "stream",
     "text": [
      "1565/1565 [==============================] - 8s 5ms/step - loss: 0.1008 - val_loss: 0.1174\n",
      "Epoch 35/50\n",
      "  34/1565 [..............................] - ETA: 7s - loss: 0.0923"
     ]
    },
    {
     "name": "stderr",
     "output_type": "stream",
     "text": [
      "2023-05-06 01:08:16.904389: I tensorflow/core/common_runtime/gpu_fusion_pass.cc:507] ROCm Fusion is enabled.\n",
      "2023-05-06 01:08:16.915677: I tensorflow/core/common_runtime/gpu_fusion_pass.cc:507] ROCm Fusion is enabled.\n",
      "2023-05-06 01:08:16.918191: I tensorflow/core/common_runtime/gpu_fusion_pass.cc:507] ROCm Fusion is enabled.\n",
      "2023-05-06 01:08:16.919661: I tensorflow/core/common_runtime/gpu_fusion_pass.cc:507] ROCm Fusion is enabled.\n"
     ]
    },
    {
     "name": "stdout",
     "output_type": "stream",
     "text": [
      "1563/1565 [============================>.] - ETA: 0s - loss: 0.1008"
     ]
    },
    {
     "name": "stderr",
     "output_type": "stream",
     "text": [
      "2023-05-06 01:08:24.466476: I tensorflow/core/common_runtime/gpu_fusion_pass.cc:507] ROCm Fusion is enabled.\n",
      "2023-05-06 01:08:24.473964: I tensorflow/core/common_runtime/gpu_fusion_pass.cc:507] ROCm Fusion is enabled.\n",
      "2023-05-06 01:08:24.483915: I tensorflow/core/common_runtime/gpu_fusion_pass.cc:507] ROCm Fusion is enabled.\n",
      "2023-05-06 01:08:24.486215: I tensorflow/core/common_runtime/gpu_fusion_pass.cc:507] ROCm Fusion is enabled.\n",
      "2023-05-06 01:08:24.487676: I tensorflow/core/common_runtime/gpu_fusion_pass.cc:507] ROCm Fusion is enabled.\n"
     ]
    },
    {
     "name": "stdout",
     "output_type": "stream",
     "text": [
      "1565/1565 [==============================] - 8s 5ms/step - loss: 0.1008 - val_loss: 0.1132\n",
      "Epoch 36/50\n",
      "  34/1565 [..............................] - ETA: 7s - loss: 0.1003"
     ]
    },
    {
     "name": "stderr",
     "output_type": "stream",
     "text": [
      "2023-05-06 01:08:25.327836: I tensorflow/core/common_runtime/gpu_fusion_pass.cc:507] ROCm Fusion is enabled.\n",
      "2023-05-06 01:08:25.338577: I tensorflow/core/common_runtime/gpu_fusion_pass.cc:507] ROCm Fusion is enabled.\n",
      "2023-05-06 01:08:25.340886: I tensorflow/core/common_runtime/gpu_fusion_pass.cc:507] ROCm Fusion is enabled.\n",
      "2023-05-06 01:08:25.342371: I tensorflow/core/common_runtime/gpu_fusion_pass.cc:507] ROCm Fusion is enabled.\n"
     ]
    },
    {
     "name": "stdout",
     "output_type": "stream",
     "text": [
      "1563/1565 [============================>.] - ETA: 0s - loss: 0.1011"
     ]
    },
    {
     "name": "stderr",
     "output_type": "stream",
     "text": [
      "2023-05-06 01:08:32.880709: I tensorflow/core/common_runtime/gpu_fusion_pass.cc:507] ROCm Fusion is enabled.\n",
      "2023-05-06 01:08:32.888069: I tensorflow/core/common_runtime/gpu_fusion_pass.cc:507] ROCm Fusion is enabled.\n",
      "2023-05-06 01:08:32.898252: I tensorflow/core/common_runtime/gpu_fusion_pass.cc:507] ROCm Fusion is enabled.\n",
      "2023-05-06 01:08:32.900560: I tensorflow/core/common_runtime/gpu_fusion_pass.cc:507] ROCm Fusion is enabled.\n",
      "2023-05-06 01:08:32.902027: I tensorflow/core/common_runtime/gpu_fusion_pass.cc:507] ROCm Fusion is enabled.\n"
     ]
    },
    {
     "name": "stdout",
     "output_type": "stream",
     "text": [
      "1565/1565 [==============================] - 8s 5ms/step - loss: 0.1011 - val_loss: 0.1149\n",
      "Epoch 37/50\n",
      "  34/1565 [..............................] - ETA: 7s - loss: 0.1042"
     ]
    },
    {
     "name": "stderr",
     "output_type": "stream",
     "text": [
      "2023-05-06 01:08:33.759922: I tensorflow/core/common_runtime/gpu_fusion_pass.cc:507] ROCm Fusion is enabled.\n",
      "2023-05-06 01:08:33.771720: I tensorflow/core/common_runtime/gpu_fusion_pass.cc:507] ROCm Fusion is enabled.\n",
      "2023-05-06 01:08:33.774022: I tensorflow/core/common_runtime/gpu_fusion_pass.cc:507] ROCm Fusion is enabled.\n",
      "2023-05-06 01:08:33.775490: I tensorflow/core/common_runtime/gpu_fusion_pass.cc:507] ROCm Fusion is enabled.\n"
     ]
    },
    {
     "name": "stdout",
     "output_type": "stream",
     "text": [
      "1563/1565 [============================>.] - ETA: 0s - loss: 0.1010"
     ]
    },
    {
     "name": "stderr",
     "output_type": "stream",
     "text": [
      "2023-05-06 01:08:41.350625: I tensorflow/core/common_runtime/gpu_fusion_pass.cc:507] ROCm Fusion is enabled.\n",
      "2023-05-06 01:08:41.357789: I tensorflow/core/common_runtime/gpu_fusion_pass.cc:507] ROCm Fusion is enabled.\n",
      "2023-05-06 01:08:41.368144: I tensorflow/core/common_runtime/gpu_fusion_pass.cc:507] ROCm Fusion is enabled.\n",
      "2023-05-06 01:08:41.370473: I tensorflow/core/common_runtime/gpu_fusion_pass.cc:507] ROCm Fusion is enabled.\n",
      "2023-05-06 01:08:41.371950: I tensorflow/core/common_runtime/gpu_fusion_pass.cc:507] ROCm Fusion is enabled.\n"
     ]
    },
    {
     "name": "stdout",
     "output_type": "stream",
     "text": [
      "1565/1565 [==============================] - 8s 5ms/step - loss: 0.1010 - val_loss: 0.1201\n",
      "Epoch 38/50\n",
      "  34/1565 [..............................] - ETA: 7s - loss: 0.1027"
     ]
    },
    {
     "name": "stderr",
     "output_type": "stream",
     "text": [
      "2023-05-06 01:08:42.226204: I tensorflow/core/common_runtime/gpu_fusion_pass.cc:507] ROCm Fusion is enabled.\n",
      "2023-05-06 01:08:42.237669: I tensorflow/core/common_runtime/gpu_fusion_pass.cc:507] ROCm Fusion is enabled.\n",
      "2023-05-06 01:08:42.239992: I tensorflow/core/common_runtime/gpu_fusion_pass.cc:507] ROCm Fusion is enabled.\n",
      "2023-05-06 01:08:42.241471: I tensorflow/core/common_runtime/gpu_fusion_pass.cc:507] ROCm Fusion is enabled.\n"
     ]
    },
    {
     "name": "stdout",
     "output_type": "stream",
     "text": [
      "1563/1565 [============================>.] - ETA: 0s - loss: 0.1008"
     ]
    },
    {
     "name": "stderr",
     "output_type": "stream",
     "text": [
      "2023-05-06 01:08:49.810280: I tensorflow/core/common_runtime/gpu_fusion_pass.cc:507] ROCm Fusion is enabled.\n",
      "2023-05-06 01:08:49.817765: I tensorflow/core/common_runtime/gpu_fusion_pass.cc:507] ROCm Fusion is enabled.\n",
      "2023-05-06 01:08:49.828314: I tensorflow/core/common_runtime/gpu_fusion_pass.cc:507] ROCm Fusion is enabled.\n",
      "2023-05-06 01:08:49.830855: I tensorflow/core/common_runtime/gpu_fusion_pass.cc:507] ROCm Fusion is enabled.\n",
      "2023-05-06 01:08:49.832523: I tensorflow/core/common_runtime/gpu_fusion_pass.cc:507] ROCm Fusion is enabled.\n"
     ]
    },
    {
     "name": "stdout",
     "output_type": "stream",
     "text": [
      "1565/1565 [==============================] - 8s 5ms/step - loss: 0.1007 - val_loss: 0.1216\n",
      "Epoch 39/50\n",
      "  34/1565 [..............................] - ETA: 7s - loss: 0.0984"
     ]
    },
    {
     "name": "stderr",
     "output_type": "stream",
     "text": [
      "2023-05-06 01:08:50.674145: I tensorflow/core/common_runtime/gpu_fusion_pass.cc:507] ROCm Fusion is enabled.\n",
      "2023-05-06 01:08:50.685654: I tensorflow/core/common_runtime/gpu_fusion_pass.cc:507] ROCm Fusion is enabled.\n",
      "2023-05-06 01:08:50.687993: I tensorflow/core/common_runtime/gpu_fusion_pass.cc:507] ROCm Fusion is enabled.\n",
      "2023-05-06 01:08:50.689476: I tensorflow/core/common_runtime/gpu_fusion_pass.cc:507] ROCm Fusion is enabled.\n"
     ]
    },
    {
     "name": "stdout",
     "output_type": "stream",
     "text": [
      "1563/1565 [============================>.] - ETA: 0s - loss: 0.1009"
     ]
    },
    {
     "name": "stderr",
     "output_type": "stream",
     "text": [
      "2023-05-06 01:08:58.263624: I tensorflow/core/common_runtime/gpu_fusion_pass.cc:507] ROCm Fusion is enabled.\n",
      "2023-05-06 01:08:58.271391: I tensorflow/core/common_runtime/gpu_fusion_pass.cc:507] ROCm Fusion is enabled.\n",
      "2023-05-06 01:08:58.280986: I tensorflow/core/common_runtime/gpu_fusion_pass.cc:507] ROCm Fusion is enabled.\n",
      "2023-05-06 01:08:58.283329: I tensorflow/core/common_runtime/gpu_fusion_pass.cc:507] ROCm Fusion is enabled.\n",
      "2023-05-06 01:08:58.284803: I tensorflow/core/common_runtime/gpu_fusion_pass.cc:507] ROCm Fusion is enabled.\n"
     ]
    },
    {
     "name": "stdout",
     "output_type": "stream",
     "text": [
      "1565/1565 [==============================] - 8s 5ms/step - loss: 0.1009 - val_loss: 0.1094\n",
      "Epoch 40/50\n",
      "  34/1565 [..............................] - ETA: 7s - loss: 0.0930"
     ]
    },
    {
     "name": "stderr",
     "output_type": "stream",
     "text": [
      "2023-05-06 01:08:59.138546: I tensorflow/core/common_runtime/gpu_fusion_pass.cc:507] ROCm Fusion is enabled.\n",
      "2023-05-06 01:08:59.149620: I tensorflow/core/common_runtime/gpu_fusion_pass.cc:507] ROCm Fusion is enabled.\n",
      "2023-05-06 01:08:59.151954: I tensorflow/core/common_runtime/gpu_fusion_pass.cc:507] ROCm Fusion is enabled.\n",
      "2023-05-06 01:08:59.153421: I tensorflow/core/common_runtime/gpu_fusion_pass.cc:507] ROCm Fusion is enabled.\n"
     ]
    },
    {
     "name": "stdout",
     "output_type": "stream",
     "text": [
      "1563/1565 [============================>.] - ETA: 0s - loss: 0.1007"
     ]
    },
    {
     "name": "stderr",
     "output_type": "stream",
     "text": [
      "2023-05-06 01:09:06.757906: I tensorflow/core/common_runtime/gpu_fusion_pass.cc:507] ROCm Fusion is enabled.\n",
      "2023-05-06 01:09:06.765047: I tensorflow/core/common_runtime/gpu_fusion_pass.cc:507] ROCm Fusion is enabled.\n",
      "2023-05-06 01:09:06.773914: I tensorflow/core/common_runtime/gpu_fusion_pass.cc:507] ROCm Fusion is enabled.\n",
      "2023-05-06 01:09:06.776418: I tensorflow/core/common_runtime/gpu_fusion_pass.cc:507] ROCm Fusion is enabled.\n",
      "2023-05-06 01:09:06.778037: I tensorflow/core/common_runtime/gpu_fusion_pass.cc:507] ROCm Fusion is enabled.\n"
     ]
    },
    {
     "name": "stdout",
     "output_type": "stream",
     "text": [
      "1565/1565 [==============================] - 8s 5ms/step - loss: 0.1008 - val_loss: 0.1125\n",
      "Epoch 41/50\n",
      "  34/1565 [..............................] - ETA: 7s - loss: 0.1014"
     ]
    },
    {
     "name": "stderr",
     "output_type": "stream",
     "text": [
      "2023-05-06 01:09:07.625114: I tensorflow/core/common_runtime/gpu_fusion_pass.cc:507] ROCm Fusion is enabled.\n",
      "2023-05-06 01:09:07.636733: I tensorflow/core/common_runtime/gpu_fusion_pass.cc:507] ROCm Fusion is enabled.\n",
      "2023-05-06 01:09:07.639056: I tensorflow/core/common_runtime/gpu_fusion_pass.cc:507] ROCm Fusion is enabled.\n",
      "2023-05-06 01:09:07.640545: I tensorflow/core/common_runtime/gpu_fusion_pass.cc:507] ROCm Fusion is enabled.\n"
     ]
    },
    {
     "name": "stdout",
     "output_type": "stream",
     "text": [
      "1563/1565 [============================>.] - ETA: 0s - loss: 0.1008"
     ]
    },
    {
     "name": "stderr",
     "output_type": "stream",
     "text": [
      "2023-05-06 01:09:15.230306: I tensorflow/core/common_runtime/gpu_fusion_pass.cc:507] ROCm Fusion is enabled.\n",
      "2023-05-06 01:09:15.237728: I tensorflow/core/common_runtime/gpu_fusion_pass.cc:507] ROCm Fusion is enabled.\n",
      "2023-05-06 01:09:15.247447: I tensorflow/core/common_runtime/gpu_fusion_pass.cc:507] ROCm Fusion is enabled.\n",
      "2023-05-06 01:09:15.249802: I tensorflow/core/common_runtime/gpu_fusion_pass.cc:507] ROCm Fusion is enabled.\n",
      "2023-05-06 01:09:15.251269: I tensorflow/core/common_runtime/gpu_fusion_pass.cc:507] ROCm Fusion is enabled.\n"
     ]
    },
    {
     "name": "stdout",
     "output_type": "stream",
     "text": [
      "1565/1565 [==============================] - 8s 5ms/step - loss: 0.1008 - val_loss: 0.1209\n",
      "Epoch 42/50\n",
      "  34/1565 [..............................] - ETA: 7s - loss: 0.0962"
     ]
    },
    {
     "name": "stderr",
     "output_type": "stream",
     "text": [
      "2023-05-06 01:09:16.109113: I tensorflow/core/common_runtime/gpu_fusion_pass.cc:507] ROCm Fusion is enabled.\n",
      "2023-05-06 01:09:16.120044: I tensorflow/core/common_runtime/gpu_fusion_pass.cc:507] ROCm Fusion is enabled.\n",
      "2023-05-06 01:09:16.122344: I tensorflow/core/common_runtime/gpu_fusion_pass.cc:507] ROCm Fusion is enabled.\n",
      "2023-05-06 01:09:16.123823: I tensorflow/core/common_runtime/gpu_fusion_pass.cc:507] ROCm Fusion is enabled.\n"
     ]
    },
    {
     "name": "stdout",
     "output_type": "stream",
     "text": [
      "1563/1565 [============================>.] - ETA: 0s - loss: 0.1006"
     ]
    },
    {
     "name": "stderr",
     "output_type": "stream",
     "text": [
      "2023-05-06 01:09:23.683359: I tensorflow/core/common_runtime/gpu_fusion_pass.cc:507] ROCm Fusion is enabled.\n",
      "2023-05-06 01:09:23.690470: I tensorflow/core/common_runtime/gpu_fusion_pass.cc:507] ROCm Fusion is enabled.\n",
      "2023-05-06 01:09:23.699924: I tensorflow/core/common_runtime/gpu_fusion_pass.cc:507] ROCm Fusion is enabled.\n",
      "2023-05-06 01:09:23.702157: I tensorflow/core/common_runtime/gpu_fusion_pass.cc:507] ROCm Fusion is enabled.\n",
      "2023-05-06 01:09:23.703602: I tensorflow/core/common_runtime/gpu_fusion_pass.cc:507] ROCm Fusion is enabled.\n"
     ]
    },
    {
     "name": "stdout",
     "output_type": "stream",
     "text": [
      "1565/1565 [==============================] - 8s 5ms/step - loss: 0.1006 - val_loss: 0.1122\n",
      "Epoch 43/50\n",
      "  34/1565 [..............................] - ETA: 7s - loss: 0.0981"
     ]
    },
    {
     "name": "stderr",
     "output_type": "stream",
     "text": [
      "2023-05-06 01:09:24.553095: I tensorflow/core/common_runtime/gpu_fusion_pass.cc:507] ROCm Fusion is enabled.\n",
      "2023-05-06 01:09:24.564027: I tensorflow/core/common_runtime/gpu_fusion_pass.cc:507] ROCm Fusion is enabled.\n",
      "2023-05-06 01:09:24.566531: I tensorflow/core/common_runtime/gpu_fusion_pass.cc:507] ROCm Fusion is enabled.\n",
      "2023-05-06 01:09:24.568003: I tensorflow/core/common_runtime/gpu_fusion_pass.cc:507] ROCm Fusion is enabled.\n"
     ]
    },
    {
     "name": "stdout",
     "output_type": "stream",
     "text": [
      "1562/1565 [============================>.] - ETA: 0s - loss: 0.1009"
     ]
    },
    {
     "name": "stderr",
     "output_type": "stream",
     "text": [
      "2023-05-06 01:09:32.220793: I tensorflow/core/common_runtime/gpu_fusion_pass.cc:507] ROCm Fusion is enabled.\n",
      "2023-05-06 01:09:32.227958: I tensorflow/core/common_runtime/gpu_fusion_pass.cc:507] ROCm Fusion is enabled.\n",
      "2023-05-06 01:09:32.237549: I tensorflow/core/common_runtime/gpu_fusion_pass.cc:507] ROCm Fusion is enabled.\n",
      "2023-05-06 01:09:32.239834: I tensorflow/core/common_runtime/gpu_fusion_pass.cc:507] ROCm Fusion is enabled.\n",
      "2023-05-06 01:09:32.241322: I tensorflow/core/common_runtime/gpu_fusion_pass.cc:507] ROCm Fusion is enabled.\n"
     ]
    },
    {
     "name": "stdout",
     "output_type": "stream",
     "text": [
      "1565/1565 [==============================] - 9s 5ms/step - loss: 0.1009 - val_loss: 0.1288\n",
      "Epoch 44/50\n",
      "  34/1565 [..............................] - ETA: 7s - loss: 0.1017"
     ]
    },
    {
     "name": "stderr",
     "output_type": "stream",
     "text": [
      "2023-05-06 01:09:33.102331: I tensorflow/core/common_runtime/gpu_fusion_pass.cc:507] ROCm Fusion is enabled.\n",
      "2023-05-06 01:09:33.113302: I tensorflow/core/common_runtime/gpu_fusion_pass.cc:507] ROCm Fusion is enabled.\n",
      "2023-05-06 01:09:33.115611: I tensorflow/core/common_runtime/gpu_fusion_pass.cc:507] ROCm Fusion is enabled.\n",
      "2023-05-06 01:09:33.117083: I tensorflow/core/common_runtime/gpu_fusion_pass.cc:507] ROCm Fusion is enabled.\n"
     ]
    },
    {
     "name": "stdout",
     "output_type": "stream",
     "text": [
      "1563/1565 [============================>.] - ETA: 0s - loss: 0.1008"
     ]
    },
    {
     "name": "stderr",
     "output_type": "stream",
     "text": [
      "2023-05-06 01:09:40.738394: I tensorflow/core/common_runtime/gpu_fusion_pass.cc:507] ROCm Fusion is enabled.\n",
      "2023-05-06 01:09:40.745854: I tensorflow/core/common_runtime/gpu_fusion_pass.cc:507] ROCm Fusion is enabled.\n",
      "2023-05-06 01:09:40.756263: I tensorflow/core/common_runtime/gpu_fusion_pass.cc:507] ROCm Fusion is enabled.\n",
      "2023-05-06 01:09:40.758611: I tensorflow/core/common_runtime/gpu_fusion_pass.cc:507] ROCm Fusion is enabled.\n",
      "2023-05-06 01:09:40.760108: I tensorflow/core/common_runtime/gpu_fusion_pass.cc:507] ROCm Fusion is enabled.\n"
     ]
    },
    {
     "name": "stdout",
     "output_type": "stream",
     "text": [
      "1565/1565 [==============================] - 8s 5ms/step - loss: 0.1008 - val_loss: 0.1157\n",
      "Epoch 45/50\n",
      "  34/1565 [..............................] - ETA: 7s - loss: 0.1008"
     ]
    },
    {
     "name": "stderr",
     "output_type": "stream",
     "text": [
      "2023-05-06 01:09:41.613992: I tensorflow/core/common_runtime/gpu_fusion_pass.cc:507] ROCm Fusion is enabled.\n",
      "2023-05-06 01:09:41.624978: I tensorflow/core/common_runtime/gpu_fusion_pass.cc:507] ROCm Fusion is enabled.\n",
      "2023-05-06 01:09:41.627249: I tensorflow/core/common_runtime/gpu_fusion_pass.cc:507] ROCm Fusion is enabled.\n",
      "2023-05-06 01:09:41.628718: I tensorflow/core/common_runtime/gpu_fusion_pass.cc:507] ROCm Fusion is enabled.\n"
     ]
    },
    {
     "name": "stdout",
     "output_type": "stream",
     "text": [
      "1563/1565 [============================>.] - ETA: 0s - loss: 0.1008"
     ]
    },
    {
     "name": "stderr",
     "output_type": "stream",
     "text": [
      "2023-05-06 01:09:49.237377: I tensorflow/core/common_runtime/gpu_fusion_pass.cc:507] ROCm Fusion is enabled.\n",
      "2023-05-06 01:09:49.244894: I tensorflow/core/common_runtime/gpu_fusion_pass.cc:507] ROCm Fusion is enabled.\n",
      "2023-05-06 01:09:49.255104: I tensorflow/core/common_runtime/gpu_fusion_pass.cc:507] ROCm Fusion is enabled.\n",
      "2023-05-06 01:09:49.257714: I tensorflow/core/common_runtime/gpu_fusion_pass.cc:507] ROCm Fusion is enabled.\n",
      "2023-05-06 01:09:49.259179: I tensorflow/core/common_runtime/gpu_fusion_pass.cc:507] ROCm Fusion is enabled.\n"
     ]
    },
    {
     "name": "stdout",
     "output_type": "stream",
     "text": [
      "1565/1565 [==============================] - 8s 5ms/step - loss: 0.1008 - val_loss: 0.1142\n",
      "Epoch 46/50\n",
      "  33/1565 [..............................] - ETA: 7s - loss: 0.0972"
     ]
    },
    {
     "name": "stderr",
     "output_type": "stream",
     "text": [
      "2023-05-06 01:09:50.115447: I tensorflow/core/common_runtime/gpu_fusion_pass.cc:507] ROCm Fusion is enabled.\n",
      "2023-05-06 01:09:50.126705: I tensorflow/core/common_runtime/gpu_fusion_pass.cc:507] ROCm Fusion is enabled.\n",
      "2023-05-06 01:09:50.129031: I tensorflow/core/common_runtime/gpu_fusion_pass.cc:507] ROCm Fusion is enabled.\n",
      "2023-05-06 01:09:50.130501: I tensorflow/core/common_runtime/gpu_fusion_pass.cc:507] ROCm Fusion is enabled.\n"
     ]
    },
    {
     "name": "stdout",
     "output_type": "stream",
     "text": [
      "1558/1565 [============================>.] - ETA: 0s - loss: 0.1006"
     ]
    },
    {
     "name": "stderr",
     "output_type": "stream",
     "text": [
      "2023-05-06 01:09:57.835138: I tensorflow/core/common_runtime/gpu_fusion_pass.cc:507] ROCm Fusion is enabled.\n",
      "2023-05-06 01:09:57.842564: I tensorflow/core/common_runtime/gpu_fusion_pass.cc:507] ROCm Fusion is enabled.\n",
      "2023-05-06 01:09:57.852512: I tensorflow/core/common_runtime/gpu_fusion_pass.cc:507] ROCm Fusion is enabled.\n",
      "2023-05-06 01:09:57.854789: I tensorflow/core/common_runtime/gpu_fusion_pass.cc:507] ROCm Fusion is enabled.\n",
      "2023-05-06 01:09:57.856255: I tensorflow/core/common_runtime/gpu_fusion_pass.cc:507] ROCm Fusion is enabled.\n"
     ]
    },
    {
     "name": "stdout",
     "output_type": "stream",
     "text": [
      "1565/1565 [==============================] - 9s 5ms/step - loss: 0.1006 - val_loss: 0.1125\n",
      "Epoch 47/50\n",
      "  34/1565 [..............................] - ETA: 7s - loss: 0.0957"
     ]
    },
    {
     "name": "stderr",
     "output_type": "stream",
     "text": [
      "2023-05-06 01:09:58.704381: I tensorflow/core/common_runtime/gpu_fusion_pass.cc:507] ROCm Fusion is enabled.\n",
      "2023-05-06 01:09:58.715575: I tensorflow/core/common_runtime/gpu_fusion_pass.cc:507] ROCm Fusion is enabled.\n",
      "2023-05-06 01:09:58.717901: I tensorflow/core/common_runtime/gpu_fusion_pass.cc:507] ROCm Fusion is enabled.\n",
      "2023-05-06 01:09:58.719385: I tensorflow/core/common_runtime/gpu_fusion_pass.cc:507] ROCm Fusion is enabled.\n"
     ]
    },
    {
     "name": "stdout",
     "output_type": "stream",
     "text": [
      "1560/1565 [============================>.] - ETA: 0s - loss: 0.1008"
     ]
    },
    {
     "name": "stderr",
     "output_type": "stream",
     "text": [
      "2023-05-06 01:10:06.363321: I tensorflow/core/common_runtime/gpu_fusion_pass.cc:507] ROCm Fusion is enabled.\n",
      "2023-05-06 01:10:06.370557: I tensorflow/core/common_runtime/gpu_fusion_pass.cc:507] ROCm Fusion is enabled.\n",
      "2023-05-06 01:10:06.379831: I tensorflow/core/common_runtime/gpu_fusion_pass.cc:507] ROCm Fusion is enabled.\n",
      "2023-05-06 01:10:06.382299: I tensorflow/core/common_runtime/gpu_fusion_pass.cc:507] ROCm Fusion is enabled.\n",
      "2023-05-06 01:10:06.383738: I tensorflow/core/common_runtime/gpu_fusion_pass.cc:507] ROCm Fusion is enabled.\n"
     ]
    },
    {
     "name": "stdout",
     "output_type": "stream",
     "text": [
      "1565/1565 [==============================] - 9s 5ms/step - loss: 0.1008 - val_loss: 0.1157\n",
      "Epoch 48/50\n",
      "  34/1565 [..............................] - ETA: 7s - loss: 0.0927"
     ]
    },
    {
     "name": "stderr",
     "output_type": "stream",
     "text": [
      "2023-05-06 01:10:07.227995: I tensorflow/core/common_runtime/gpu_fusion_pass.cc:507] ROCm Fusion is enabled.\n",
      "2023-05-06 01:10:07.239291: I tensorflow/core/common_runtime/gpu_fusion_pass.cc:507] ROCm Fusion is enabled.\n",
      "2023-05-06 01:10:07.241769: I tensorflow/core/common_runtime/gpu_fusion_pass.cc:507] ROCm Fusion is enabled.\n",
      "2023-05-06 01:10:07.243240: I tensorflow/core/common_runtime/gpu_fusion_pass.cc:507] ROCm Fusion is enabled.\n"
     ]
    },
    {
     "name": "stdout",
     "output_type": "stream",
     "text": [
      "1563/1565 [============================>.] - ETA: 0s - loss: 0.1010"
     ]
    },
    {
     "name": "stderr",
     "output_type": "stream",
     "text": [
      "2023-05-06 01:10:14.811860: I tensorflow/core/common_runtime/gpu_fusion_pass.cc:507] ROCm Fusion is enabled.\n",
      "2023-05-06 01:10:14.819463: I tensorflow/core/common_runtime/gpu_fusion_pass.cc:507] ROCm Fusion is enabled.\n",
      "2023-05-06 01:10:14.828544: I tensorflow/core/common_runtime/gpu_fusion_pass.cc:507] ROCm Fusion is enabled.\n",
      "2023-05-06 01:10:14.830850: I tensorflow/core/common_runtime/gpu_fusion_pass.cc:507] ROCm Fusion is enabled.\n",
      "2023-05-06 01:10:14.832311: I tensorflow/core/common_runtime/gpu_fusion_pass.cc:507] ROCm Fusion is enabled.\n"
     ]
    },
    {
     "name": "stdout",
     "output_type": "stream",
     "text": [
      "1565/1565 [==============================] - 8s 5ms/step - loss: 0.1010 - val_loss: 0.1168\n",
      "Epoch 49/50\n",
      "  34/1565 [..............................] - ETA: 7s - loss: 0.0962"
     ]
    },
    {
     "name": "stderr",
     "output_type": "stream",
     "text": [
      "2023-05-06 01:10:15.682706: I tensorflow/core/common_runtime/gpu_fusion_pass.cc:507] ROCm Fusion is enabled.\n",
      "2023-05-06 01:10:15.693965: I tensorflow/core/common_runtime/gpu_fusion_pass.cc:507] ROCm Fusion is enabled.\n",
      "2023-05-06 01:10:15.696276: I tensorflow/core/common_runtime/gpu_fusion_pass.cc:507] ROCm Fusion is enabled.\n",
      "2023-05-06 01:10:15.697741: I tensorflow/core/common_runtime/gpu_fusion_pass.cc:507] ROCm Fusion is enabled.\n"
     ]
    },
    {
     "name": "stdout",
     "output_type": "stream",
     "text": [
      "1563/1565 [============================>.] - ETA: 0s - loss: 0.1005"
     ]
    },
    {
     "name": "stderr",
     "output_type": "stream",
     "text": [
      "2023-05-06 01:10:23.217890: I tensorflow/core/common_runtime/gpu_fusion_pass.cc:507] ROCm Fusion is enabled.\n",
      "2023-05-06 01:10:23.225684: I tensorflow/core/common_runtime/gpu_fusion_pass.cc:507] ROCm Fusion is enabled.\n",
      "2023-05-06 01:10:23.235891: I tensorflow/core/common_runtime/gpu_fusion_pass.cc:507] ROCm Fusion is enabled.\n",
      "2023-05-06 01:10:23.238225: I tensorflow/core/common_runtime/gpu_fusion_pass.cc:507] ROCm Fusion is enabled.\n",
      "2023-05-06 01:10:23.239720: I tensorflow/core/common_runtime/gpu_fusion_pass.cc:507] ROCm Fusion is enabled.\n"
     ]
    },
    {
     "name": "stdout",
     "output_type": "stream",
     "text": [
      "1565/1565 [==============================] - 8s 5ms/step - loss: 0.1005 - val_loss: 0.1158\n",
      "Epoch 50/50\n",
      "  34/1565 [..............................] - ETA: 7s - loss: 0.1005"
     ]
    },
    {
     "name": "stderr",
     "output_type": "stream",
     "text": [
      "2023-05-06 01:10:24.065258: I tensorflow/core/common_runtime/gpu_fusion_pass.cc:507] ROCm Fusion is enabled.\n",
      "2023-05-06 01:10:24.076188: I tensorflow/core/common_runtime/gpu_fusion_pass.cc:507] ROCm Fusion is enabled.\n",
      "2023-05-06 01:10:24.078692: I tensorflow/core/common_runtime/gpu_fusion_pass.cc:507] ROCm Fusion is enabled.\n",
      "2023-05-06 01:10:24.080343: I tensorflow/core/common_runtime/gpu_fusion_pass.cc:507] ROCm Fusion is enabled.\n"
     ]
    },
    {
     "name": "stdout",
     "output_type": "stream",
     "text": [
      "1563/1565 [============================>.] - ETA: 0s - loss: 0.1004"
     ]
    },
    {
     "name": "stderr",
     "output_type": "stream",
     "text": [
      "2023-05-06 01:10:31.581369: I tensorflow/core/common_runtime/gpu_fusion_pass.cc:507] ROCm Fusion is enabled.\n",
      "2023-05-06 01:10:31.588675: I tensorflow/core/common_runtime/gpu_fusion_pass.cc:507] ROCm Fusion is enabled.\n",
      "2023-05-06 01:10:31.598759: I tensorflow/core/common_runtime/gpu_fusion_pass.cc:507] ROCm Fusion is enabled.\n",
      "2023-05-06 01:10:31.601115: I tensorflow/core/common_runtime/gpu_fusion_pass.cc:507] ROCm Fusion is enabled.\n",
      "2023-05-06 01:10:31.602598: I tensorflow/core/common_runtime/gpu_fusion_pass.cc:507] ROCm Fusion is enabled.\n"
     ]
    },
    {
     "name": "stdout",
     "output_type": "stream",
     "text": [
      "\b\b\b\b\b\b\b\b\b\b\b\b\b\b\b\b\b\b\b\b\b\b\b\b\b\b\b\b\b\b\b\b\b\b\b\b\b\b\b\b\b\b\b\b\b\b\b\b\b\b\b\b\b\b\b\b\b\b\b\b\b\b\b\b\b\b\b\r",
      "1565/1565 [==============================] - 8s 5ms/step - loss: 0.1004 - val_loss: 0.1089\n"
     ]
    }
   ],
   "source": [
    "# Create a data generator for the training set\n",
    "batch_size = 32 # 32\n",
    "train_generator = DataGenerator(train_lr, train_gt, batch_size=batch_size)\n",
    "\n",
    "# Create a data generator for the validation set\n",
    "val_generator = DataGenerator(val_lr, val_gt, batch_size=batch_size)\n",
    "\n",
    "# Create a data generator for the validation set\n",
    "test_generator = DataGenerator(test_lr, test_gt, batch_size=batch_size)\n",
    "\n",
    "\n",
    "# Build the model\n",
    "# model = build_model_tg(num_features, num_obs)\n",
    "# model = build_model_tg2(num_features, num_obs)\n",
    "# model = build_model_4(num_features, num_obs)\n",
    "model = build_model_crpsc(num_features, num_obs_train)\n",
    "\n",
    "\n",
    "model.summary()\n",
    "\n",
    "# Train the model\n",
    "epochs = 50\n",
    "# history = model.fit(train_generator, epochs=epochs, validation_data=val_generator)\n",
    "# with tf.device('/CPU:0'):\n",
    "# history = model.fit(x=train_lr, y=train_gt, epochs=epochs, validation_data=(val_lr, val_gt))\n",
    "history = model.fit(train_generator, epochs=epochs, validation_data=val_generator)\n",
    "\n",
    "\n",
    "\n",
    "# import pdb; pdb.set_trace()"
   ]
  },
  {
   "cell_type": "raw",
   "id": "c00bf98d",
   "metadata": {
    "scrolled": true
   },
   "source": [
    "model.trainable_variables"
   ]
  },
  {
   "cell_type": "code",
   "execution_count": 34,
   "id": "5bce81d2",
   "metadata": {},
   "outputs": [],
   "source": [
    "from src.visualization import tf_visu_history"
   ]
  },
  {
   "cell_type": "code",
   "execution_count": 35,
   "id": "8541a5e6",
   "metadata": {},
   "outputs": [
    {
     "data": {
      "image/png": "[encoded data removed]",
      "text/plain": [
       "<Figure size 1200x400 with 1 Axes>"
      ]
     },
     "metadata": {},
     "output_type": "display_data"
    }
   ],
   "source": [
    "tf_visu_history.draw_learning_curves(history, showfig=True)"
   ]
  },
  {
   "cell_type": "code",
   "execution_count": 36,
   "id": "47ff4248",
   "metadata": {},
   "outputs": [
    {
     "name": "stdout",
     "output_type": "stream",
     "text": [
      " 43/336 [==>...........................] - ETA: 0s "
     ]
    },
    {
     "name": "stderr",
     "output_type": "stream",
     "text": [
      "2023-05-06 01:10:32.700023: I tensorflow/core/common_runtime/gpu_fusion_pass.cc:507] ROCm Fusion is enabled.\n",
      "2023-05-06 01:10:32.715840: I tensorflow/core/common_runtime/gpu_fusion_pass.cc:507] ROCm Fusion is enabled.\n",
      "2023-05-06 01:10:32.723001: I tensorflow/core/common_runtime/gpu_fusion_pass.cc:507] ROCm Fusion is enabled.\n",
      "2023-05-06 01:10:32.796831: I tensorflow/core/common_runtime/gpu_fusion_pass.cc:507] ROCm Fusion is enabled.\n",
      "2023-05-06 01:10:32.801274: I tensorflow/core/common_runtime/gpu_fusion_pass.cc:507] ROCm Fusion is enabled.\n",
      "2023-05-06 01:10:32.803593: I tensorflow/core/common_runtime/gpu_fusion_pass.cc:507] ROCm Fusion is enabled.\n",
      "2023-05-06 01:10:32.805064: I tensorflow/core/common_runtime/gpu_fusion_pass.cc:507] ROCm Fusion is enabled.\n"
     ]
    },
    {
     "name": "stdout",
     "output_type": "stream",
     "text": [
      "336/336 [==============================] - 0s 1ms/step\n"
     ]
    },
    {
     "name": "stderr",
     "output_type": "stream",
     "text": [
      "2023-05-06 01:10:33.190237: I tensorflow/core/common_runtime/gpu_fusion_pass.cc:507] ROCm Fusion is enabled.\n",
      "2023-05-06 01:10:33.191421: I tensorflow/core/common_runtime/gpu_fusion_pass.cc:507] ROCm Fusion is enabled.\n",
      "2023-05-06 01:10:33.285846: I tensorflow/core/common_runtime/gpu_fusion_pass.cc:507] ROCm Fusion is enabled.\n",
      "2023-05-06 01:10:33.307497: I tensorflow/core/common_runtime/gpu_fusion_pass.cc:507] ROCm Fusion is enabled.\n",
      "2023-05-06 01:10:33.308514: I tensorflow/core/common_runtime/gpu_fusion_pass.cc:507] ROCm Fusion is enabled.\n",
      "2023-05-06 01:10:33.315698: I tensorflow/core/common_runtime/gpu_fusion_pass.cc:507] ROCm Fusion is enabled.\n",
      "2023-05-06 01:10:33.333525: I tensorflow/core/common_runtime/gpu_fusion_pass.cc:507] ROCm Fusion is enabled.\n"
     ]
    }
   ],
   "source": [
    "ypred = model.predict(test_generator)"
   ]
  },
  {
   "cell_type": "code",
   "execution_count": 192,
   "id": "13f1f378",
   "metadata": {},
   "outputs": [],
   "source": [
    "# scale back predicted values to SIT\n",
    "# ypred_sc = scaler_output.inverse_transform(ypred)"
   ]
  },
  {
   "cell_type": "code",
   "execution_count": 37,
   "id": "784ef180",
   "metadata": {},
   "outputs": [],
   "source": [
    "ytrue = test_gt"
   ]
  },
  {
   "cell_type": "code",
   "execution_count": 38,
   "id": "c06c647f",
   "metadata": {},
   "outputs": [],
   "source": [
    "import matplotlib.pyplot as plt"
   ]
  },
  {
   "cell_type": "code",
   "execution_count": 48,
   "id": "7bdb8b27",
   "metadata": {},
   "outputs": [
    {
     "data": {
      "image/png": "[encoded data removed]",
      "text/plain": [
       "<Figure size 1600x800 with 2 Axes>"
      ]
     },
     "metadata": {},
     "output_type": "display_data"
    }
   ],
   "source": [
    "fig, ax = plt.subplots(ncols=2, constrained_layout=True, figsize=(8*2,8))\n",
    "\n",
    "midx = 700 # 3000\n",
    "\n",
    "ax[0].plot(ytrue[midx, :])\n",
    "ax[0].set_title('Distribution ICESat-2 for TOPAZ pixel')\n",
    "ax[0].set_xlabel('N observations')\n",
    "ax[0].set_ylabel('SIT (m)')\n",
    "ax[0].set_ylim(0, ax[0].get_ylim()[1])\n",
    "\n",
    "ax[1].plot(ypred[midx, :])\n",
    "ax[1].set_title('Distribution ML for TOPAZ pixel')\n",
    "ax[1].set_xlabel('N observations');\n",
    "ax[1].set_ylim(ax[0].get_ylim());"
   ]
  },
  {
   "cell_type": "code",
   "execution_count": 49,
   "id": "fc0b0f3b",
   "metadata": {},
   "outputs": [
    {
     "data": {
      "image/png": "[encoded data removed]",
      "text/plain": [
       "<Figure size 1600x800 with 2 Axes>"
      ]
     },
     "metadata": {},
     "output_type": "display_data"
    }
   ],
   "source": [
    "fig, ax = plt.subplots(ncols=2, constrained_layout=True, figsize=(8*2,8))\n",
    "\n",
    "bin_width = 0.1\n",
    "bins = np.arange(0,8+bin_width,bin_width)\n",
    "\n",
    "ax[0].hist(ytrue[midx, :], bins=bins)\n",
    "ax[0].set_title('Distribution ICESat-2 for TOPAZ pixel')\n",
    "ax[0].set_ylabel('N observations')\n",
    "ax[0].set_xlabel('SIT (m)')\n",
    "\n",
    "\n",
    "ax[1].hist(ypred[midx, :], bins=bins)\n",
    "ax[1].set_title('Distribution ML for TOPAZ pixel')\n",
    "ax[1].set_ylabel('N observations')\n",
    "ax[1].set_xlabel('SIT (m)');\n",
    "ax[1].set_ylim(ax[0].get_ylim());\n"
   ]
  },
  {
   "cell_type": "code",
   "execution_count": 49,
   "id": "4b9e6add",
   "metadata": {},
   "outputs": [
    {
     "data": {
      "image/png": "[encoded data removed]",
      "text/plain": [
       "<Figure size 1600x800 with 2 Axes>"
      ]
     },
     "metadata": {},
     "output_type": "display_data"
    }
   ],
   "source": [
    "fig, ax = plt.subplots(ncols=2, constrained_layout=True, figsize=(8*2,8))\n",
    "\n",
    "bins = np.array([0, 0.64, 1.39, 2.47, 4.57, 20])\n",
    "\n",
    "ax[0].hist(ytrue[midx, :], bins=bins)\n",
    "ax[0].set_title('Distribution ICESat-2 for TOPAZ pixel')\n",
    "ax[0].set_ylabel('N observations')\n",
    "ax[0].set_xlabel('SIT (m)')\n",
    "\n",
    "\n",
    "ax[1].hist(ypred[midx, :], bins=bins)\n",
    "ax[1].set_title('Distribution ML for TOPAZ pixel')\n",
    "ax[1].set_ylabel('N observations')\n",
    "ax[1].set_xlabel('SIT (m)');\n",
    "ax[1].set_ylim(ax[0].get_ylim());\n"
   ]
  },
  {
   "cell_type": "markdown",
   "id": "661813e9",
   "metadata": {},
   "source": [
    "## ----------------------------------------------------------"
   ]
  },
  {
   "cell_type": "code",
   "execution_count": 123,
   "id": "6f7f9cfa",
   "metadata": {},
   "outputs": [
    {
     "name": "stdout",
     "output_type": "stream",
     "text": [
      "1/1 [==============================] - 0s 15ms/step\n",
      "1/1 [==============================] - 0s 14ms/step\n",
      "1/1 [==============================] - 0s 15ms/step\n",
      "1/1 [==============================] - 0s 15ms/step\n",
      "1/1 [==============================] - 0s 14ms/step\n"
     ]
    },
    {
     "name": "stderr",
     "output_type": "stream",
     "text": [
      "2023-05-05 15:05:57.590193: I tensorflow/core/common_runtime/gpu_fusion_pass.cc:507] ROCm Fusion is enabled.\n",
      "2023-05-05 15:05:57.598105: I tensorflow/core/common_runtime/gpu_fusion_pass.cc:507] ROCm Fusion is enabled.\n",
      "2023-05-05 15:05:57.602712: I tensorflow/core/common_runtime/gpu_fusion_pass.cc:507] ROCm Fusion is enabled.\n",
      "2023-05-05 15:05:57.609842: I tensorflow/core/common_runtime/gpu_fusion_pass.cc:507] ROCm Fusion is enabled.\n",
      "2023-05-05 15:05:57.613724: I tensorflow/core/common_runtime/gpu_fusion_pass.cc:507] ROCm Fusion is enabled.\n",
      "2023-05-05 15:05:57.616362: I tensorflow/core/common_runtime/gpu_fusion_pass.cc:507] ROCm Fusion is enabled.\n",
      "2023-05-05 15:05:57.629690: I tensorflow/core/common_runtime/gpu_fusion_pass.cc:507] ROCm Fusion is enabled.\n",
      "2023-05-05 15:05:57.637332: I tensorflow/core/common_runtime/gpu_fusion_pass.cc:507] ROCm Fusion is enabled.\n",
      "2023-05-05 15:05:57.641999: I tensorflow/core/common_runtime/gpu_fusion_pass.cc:507] ROCm Fusion is enabled.\n",
      "2023-05-05 15:05:57.648780: I tensorflow/core/common_runtime/gpu_fusion_pass.cc:507] ROCm Fusion is enabled.\n",
      "2023-05-05 15:05:57.652625: I tensorflow/core/common_runtime/gpu_fusion_pass.cc:507] ROCm Fusion is enabled.\n",
      "2023-05-05 15:05:57.655261: I tensorflow/core/common_runtime/gpu_fusion_pass.cc:507] ROCm Fusion is enabled.\n",
      "2023-05-05 15:05:57.670121: I tensorflow/core/common_runtime/gpu_fusion_pass.cc:507] ROCm Fusion is enabled.\n",
      "2023-05-05 15:05:57.678081: I tensorflow/core/common_runtime/gpu_fusion_pass.cc:507] ROCm Fusion is enabled.\n",
      "2023-05-05 15:05:57.682706: I tensorflow/core/common_runtime/gpu_fusion_pass.cc:507] ROCm Fusion is enabled.\n",
      "2023-05-05 15:05:57.689992: I tensorflow/core/common_runtime/gpu_fusion_pass.cc:507] ROCm Fusion is enabled.\n",
      "2023-05-05 15:05:57.693870: I tensorflow/core/common_runtime/gpu_fusion_pass.cc:507] ROCm Fusion is enabled.\n",
      "2023-05-05 15:05:57.696509: I tensorflow/core/common_runtime/gpu_fusion_pass.cc:507] ROCm Fusion is enabled.\n",
      "2023-05-05 15:05:57.709769: I tensorflow/core/common_runtime/gpu_fusion_pass.cc:507] ROCm Fusion is enabled.\n",
      "2023-05-05 15:05:57.722014: I tensorflow/core/common_runtime/gpu_fusion_pass.cc:507] ROCm Fusion is enabled.\n",
      "2023-05-05 15:05:57.726678: I tensorflow/core/common_runtime/gpu_fusion_pass.cc:507] ROCm Fusion is enabled.\n",
      "2023-05-05 15:05:57.733689: I tensorflow/core/common_runtime/gpu_fusion_pass.cc:507] ROCm Fusion is enabled.\n",
      "2023-05-05 15:05:57.737733: I tensorflow/core/common_runtime/gpu_fusion_pass.cc:507] ROCm Fusion is enabled.\n",
      "2023-05-05 15:05:57.740453: I tensorflow/core/common_runtime/gpu_fusion_pass.cc:507] ROCm Fusion is enabled.\n",
      "2023-05-05 15:05:57.754260: I tensorflow/core/common_runtime/gpu_fusion_pass.cc:507] ROCm Fusion is enabled.\n",
      "2023-05-05 15:05:57.762019: I tensorflow/core/common_runtime/gpu_fusion_pass.cc:507] ROCm Fusion is enabled.\n",
      "2023-05-05 15:05:57.766733: I tensorflow/core/common_runtime/gpu_fusion_pass.cc:507] ROCm Fusion is enabled.\n",
      "2023-05-05 15:05:57.773614: I tensorflow/core/common_runtime/gpu_fusion_pass.cc:507] ROCm Fusion is enabled.\n",
      "2023-05-05 15:05:57.777605: I tensorflow/core/common_runtime/gpu_fusion_pass.cc:507] ROCm Fusion is enabled.\n",
      "2023-05-05 15:05:57.780292: I tensorflow/core/common_runtime/gpu_fusion_pass.cc:507] ROCm Fusion is enabled.\n"
     ]
    },
    {
     "name": "stdout",
     "output_type": "stream",
     "text": [
      "1/1 [==============================] - 0s 14ms/step\n",
      "1/1 [==============================] - 0s 14ms/step\n",
      "1/1 [==============================] - 0s 14ms/step\n",
      "1/1 [==============================] - 0s 14ms/step\n",
      "1/1 [==============================] - 0s 14ms/step\n"
     ]
    },
    {
     "name": "stderr",
     "output_type": "stream",
     "text": [
      "2023-05-05 15:05:57.794539: I tensorflow/core/common_runtime/gpu_fusion_pass.cc:507] ROCm Fusion is enabled.\n",
      "2023-05-05 15:05:57.802434: I tensorflow/core/common_runtime/gpu_fusion_pass.cc:507] ROCm Fusion is enabled.\n",
      "2023-05-05 15:05:57.807061: I tensorflow/core/common_runtime/gpu_fusion_pass.cc:507] ROCm Fusion is enabled.\n",
      "2023-05-05 15:05:57.814011: I tensorflow/core/common_runtime/gpu_fusion_pass.cc:507] ROCm Fusion is enabled.\n",
      "2023-05-05 15:05:57.817922: I tensorflow/core/common_runtime/gpu_fusion_pass.cc:507] ROCm Fusion is enabled.\n",
      "2023-05-05 15:05:57.820569: I tensorflow/core/common_runtime/gpu_fusion_pass.cc:507] ROCm Fusion is enabled.\n",
      "2023-05-05 15:05:57.833936: I tensorflow/core/common_runtime/gpu_fusion_pass.cc:507] ROCm Fusion is enabled.\n",
      "2023-05-05 15:05:57.841710: I tensorflow/core/common_runtime/gpu_fusion_pass.cc:507] ROCm Fusion is enabled.\n",
      "2023-05-05 15:05:57.846289: I tensorflow/core/common_runtime/gpu_fusion_pass.cc:507] ROCm Fusion is enabled.\n",
      "2023-05-05 15:05:57.853137: I tensorflow/core/common_runtime/gpu_fusion_pass.cc:507] ROCm Fusion is enabled.\n",
      "2023-05-05 15:05:57.856999: I tensorflow/core/common_runtime/gpu_fusion_pass.cc:507] ROCm Fusion is enabled.\n",
      "2023-05-05 15:05:57.859634: I tensorflow/core/common_runtime/gpu_fusion_pass.cc:507] ROCm Fusion is enabled.\n",
      "2023-05-05 15:05:57.873191: I tensorflow/core/common_runtime/gpu_fusion_pass.cc:507] ROCm Fusion is enabled.\n",
      "2023-05-05 15:05:57.880875: I tensorflow/core/common_runtime/gpu_fusion_pass.cc:507] ROCm Fusion is enabled.\n",
      "2023-05-05 15:05:57.885527: I tensorflow/core/common_runtime/gpu_fusion_pass.cc:507] ROCm Fusion is enabled.\n",
      "2023-05-05 15:05:57.892323: I tensorflow/core/common_runtime/gpu_fusion_pass.cc:507] ROCm Fusion is enabled.\n",
      "2023-05-05 15:05:57.896155: I tensorflow/core/common_runtime/gpu_fusion_pass.cc:507] ROCm Fusion is enabled.\n",
      "2023-05-05 15:05:57.898780: I tensorflow/core/common_runtime/gpu_fusion_pass.cc:507] ROCm Fusion is enabled.\n",
      "2023-05-05 15:05:57.912059: I tensorflow/core/common_runtime/gpu_fusion_pass.cc:507] ROCm Fusion is enabled.\n",
      "2023-05-05 15:05:57.919819: I tensorflow/core/common_runtime/gpu_fusion_pass.cc:507] ROCm Fusion is enabled.\n",
      "2023-05-05 15:05:57.924402: I tensorflow/core/common_runtime/gpu_fusion_pass.cc:507] ROCm Fusion is enabled.\n",
      "2023-05-05 15:05:57.931193: I tensorflow/core/common_runtime/gpu_fusion_pass.cc:507] ROCm Fusion is enabled.\n",
      "2023-05-05 15:05:57.935029: I tensorflow/core/common_runtime/gpu_fusion_pass.cc:507] ROCm Fusion is enabled.\n",
      "2023-05-05 15:05:57.937654: I tensorflow/core/common_runtime/gpu_fusion_pass.cc:507] ROCm Fusion is enabled.\n",
      "2023-05-05 15:05:57.951143: I tensorflow/core/common_runtime/gpu_fusion_pass.cc:507] ROCm Fusion is enabled.\n",
      "2023-05-05 15:05:57.958902: I tensorflow/core/common_runtime/gpu_fusion_pass.cc:507] ROCm Fusion is enabled.\n",
      "2023-05-05 15:05:57.963477: I tensorflow/core/common_runtime/gpu_fusion_pass.cc:507] ROCm Fusion is enabled.\n",
      "2023-05-05 15:05:57.970310: I tensorflow/core/common_runtime/gpu_fusion_pass.cc:507] ROCm Fusion is enabled.\n",
      "2023-05-05 15:05:57.974160: I tensorflow/core/common_runtime/gpu_fusion_pass.cc:507] ROCm Fusion is enabled.\n",
      "2023-05-05 15:05:57.976784: I tensorflow/core/common_runtime/gpu_fusion_pass.cc:507] ROCm Fusion is enabled.\n",
      "2023-05-05 15:05:57.990168: I tensorflow/core/common_runtime/gpu_fusion_pass.cc:507] ROCm Fusion is enabled.\n"
     ]
    },
    {
     "name": "stdout",
     "output_type": "stream",
     "text": [
      "1/1 [==============================] - 0s 14ms/step\n",
      "1/1 [==============================] - 0s 14ms/step\n",
      "1/1 [==============================] - 0s 15ms/step\n",
      "1/1 [==============================] - 0s 14ms/step\n",
      "1/1 [==============================] - 0s 15ms/step\n"
     ]
    },
    {
     "name": "stderr",
     "output_type": "stream",
     "text": [
      "2023-05-05 15:05:57.998403: I tensorflow/core/common_runtime/gpu_fusion_pass.cc:507] ROCm Fusion is enabled.\n",
      "2023-05-05 15:05:58.003066: I tensorflow/core/common_runtime/gpu_fusion_pass.cc:507] ROCm Fusion is enabled.\n",
      "2023-05-05 15:05:58.009896: I tensorflow/core/common_runtime/gpu_fusion_pass.cc:507] ROCm Fusion is enabled.\n",
      "2023-05-05 15:05:58.013747: I tensorflow/core/common_runtime/gpu_fusion_pass.cc:507] ROCm Fusion is enabled.\n",
      "2023-05-05 15:05:58.016360: I tensorflow/core/common_runtime/gpu_fusion_pass.cc:507] ROCm Fusion is enabled.\n",
      "2023-05-05 15:05:58.029662: I tensorflow/core/common_runtime/gpu_fusion_pass.cc:507] ROCm Fusion is enabled.\n",
      "2023-05-05 15:05:58.037363: I tensorflow/core/common_runtime/gpu_fusion_pass.cc:507] ROCm Fusion is enabled.\n",
      "2023-05-05 15:05:58.041927: I tensorflow/core/common_runtime/gpu_fusion_pass.cc:507] ROCm Fusion is enabled.\n",
      "2023-05-05 15:05:58.048734: I tensorflow/core/common_runtime/gpu_fusion_pass.cc:507] ROCm Fusion is enabled.\n",
      "2023-05-05 15:05:58.052570: I tensorflow/core/common_runtime/gpu_fusion_pass.cc:507] ROCm Fusion is enabled.\n",
      "2023-05-05 15:05:58.055200: I tensorflow/core/common_runtime/gpu_fusion_pass.cc:507] ROCm Fusion is enabled.\n",
      "2023-05-05 15:05:58.068318: I tensorflow/core/common_runtime/gpu_fusion_pass.cc:507] ROCm Fusion is enabled.\n",
      "2023-05-05 15:05:58.080075: I tensorflow/core/common_runtime/gpu_fusion_pass.cc:507] ROCm Fusion is enabled.\n",
      "2023-05-05 15:05:58.084732: I tensorflow/core/common_runtime/gpu_fusion_pass.cc:507] ROCm Fusion is enabled.\n",
      "2023-05-05 15:05:58.091778: I tensorflow/core/common_runtime/gpu_fusion_pass.cc:507] ROCm Fusion is enabled.\n",
      "2023-05-05 15:05:58.095838: I tensorflow/core/common_runtime/gpu_fusion_pass.cc:507] ROCm Fusion is enabled.\n",
      "2023-05-05 15:05:58.098556: I tensorflow/core/common_runtime/gpu_fusion_pass.cc:507] ROCm Fusion is enabled.\n",
      "2023-05-05 15:05:58.112385: I tensorflow/core/common_runtime/gpu_fusion_pass.cc:507] ROCm Fusion is enabled.\n",
      "2023-05-05 15:05:58.120235: I tensorflow/core/common_runtime/gpu_fusion_pass.cc:507] ROCm Fusion is enabled.\n",
      "2023-05-05 15:05:58.124952: I tensorflow/core/common_runtime/gpu_fusion_pass.cc:507] ROCm Fusion is enabled.\n",
      "2023-05-05 15:05:58.131828: I tensorflow/core/common_runtime/gpu_fusion_pass.cc:507] ROCm Fusion is enabled.\n",
      "2023-05-05 15:05:58.135818: I tensorflow/core/common_runtime/gpu_fusion_pass.cc:507] ROCm Fusion is enabled.\n",
      "2023-05-05 15:05:58.138500: I tensorflow/core/common_runtime/gpu_fusion_pass.cc:507] ROCm Fusion is enabled.\n",
      "2023-05-05 15:05:58.153126: I tensorflow/core/common_runtime/gpu_fusion_pass.cc:507] ROCm Fusion is enabled.\n",
      "2023-05-05 15:05:58.161238: I tensorflow/core/common_runtime/gpu_fusion_pass.cc:507] ROCm Fusion is enabled.\n",
      "2023-05-05 15:05:58.165921: I tensorflow/core/common_runtime/gpu_fusion_pass.cc:507] ROCm Fusion is enabled.\n",
      "2023-05-05 15:05:58.173418: I tensorflow/core/common_runtime/gpu_fusion_pass.cc:507] ROCm Fusion is enabled.\n",
      "2023-05-05 15:05:58.177456: I tensorflow/core/common_runtime/gpu_fusion_pass.cc:507] ROCm Fusion is enabled.\n",
      "2023-05-05 15:05:58.180135: I tensorflow/core/common_runtime/gpu_fusion_pass.cc:507] ROCm Fusion is enabled.\n",
      "2023-05-05 15:05:58.193954: I tensorflow/core/common_runtime/gpu_fusion_pass.cc:507] ROCm Fusion is enabled.\n"
     ]
    },
    {
     "name": "stdout",
     "output_type": "stream",
     "text": [
      "1/1 [==============================] - 0s 14ms/step\n",
      "1/1 [==============================] - 0s 15ms/step\n",
      "1/1 [==============================] - 0s 14ms/step\n",
      "1/1 [==============================] - 0s 14ms/step\n",
      "1/1 [==============================] - 0s 14ms/step\n"
     ]
    },
    {
     "name": "stderr",
     "output_type": "stream",
     "text": [
      "2023-05-05 15:05:58.202450: I tensorflow/core/common_runtime/gpu_fusion_pass.cc:507] ROCm Fusion is enabled.\n",
      "2023-05-05 15:05:58.207098: I tensorflow/core/common_runtime/gpu_fusion_pass.cc:507] ROCm Fusion is enabled.\n",
      "2023-05-05 15:05:58.213952: I tensorflow/core/common_runtime/gpu_fusion_pass.cc:507] ROCm Fusion is enabled.\n",
      "2023-05-05 15:05:58.217842: I tensorflow/core/common_runtime/gpu_fusion_pass.cc:507] ROCm Fusion is enabled.\n",
      "2023-05-05 15:05:58.220477: I tensorflow/core/common_runtime/gpu_fusion_pass.cc:507] ROCm Fusion is enabled.\n",
      "2023-05-05 15:05:58.234224: I tensorflow/core/common_runtime/gpu_fusion_pass.cc:507] ROCm Fusion is enabled.\n",
      "2023-05-05 15:05:58.241961: I tensorflow/core/common_runtime/gpu_fusion_pass.cc:507] ROCm Fusion is enabled.\n",
      "2023-05-05 15:05:58.246654: I tensorflow/core/common_runtime/gpu_fusion_pass.cc:507] ROCm Fusion is enabled.\n",
      "2023-05-05 15:05:58.253682: I tensorflow/core/common_runtime/gpu_fusion_pass.cc:507] ROCm Fusion is enabled.\n",
      "2023-05-05 15:05:58.257528: I tensorflow/core/common_runtime/gpu_fusion_pass.cc:507] ROCm Fusion is enabled.\n",
      "2023-05-05 15:05:58.260165: I tensorflow/core/common_runtime/gpu_fusion_pass.cc:507] ROCm Fusion is enabled.\n",
      "2023-05-05 15:05:58.274010: I tensorflow/core/common_runtime/gpu_fusion_pass.cc:507] ROCm Fusion is enabled.\n",
      "2023-05-05 15:05:58.281842: I tensorflow/core/common_runtime/gpu_fusion_pass.cc:507] ROCm Fusion is enabled.\n",
      "2023-05-05 15:05:58.286448: I tensorflow/core/common_runtime/gpu_fusion_pass.cc:507] ROCm Fusion is enabled.\n",
      "2023-05-05 15:05:58.293239: I tensorflow/core/common_runtime/gpu_fusion_pass.cc:507] ROCm Fusion is enabled.\n",
      "2023-05-05 15:05:58.297095: I tensorflow/core/common_runtime/gpu_fusion_pass.cc:507] ROCm Fusion is enabled.\n",
      "2023-05-05 15:05:58.299725: I tensorflow/core/common_runtime/gpu_fusion_pass.cc:507] ROCm Fusion is enabled.\n",
      "2023-05-05 15:05:58.313491: I tensorflow/core/common_runtime/gpu_fusion_pass.cc:507] ROCm Fusion is enabled.\n",
      "2023-05-05 15:05:58.321264: I tensorflow/core/common_runtime/gpu_fusion_pass.cc:507] ROCm Fusion is enabled.\n",
      "2023-05-05 15:05:58.325899: I tensorflow/core/common_runtime/gpu_fusion_pass.cc:507] ROCm Fusion is enabled.\n",
      "2023-05-05 15:05:58.332725: I tensorflow/core/common_runtime/gpu_fusion_pass.cc:507] ROCm Fusion is enabled.\n",
      "2023-05-05 15:05:58.336566: I tensorflow/core/common_runtime/gpu_fusion_pass.cc:507] ROCm Fusion is enabled.\n",
      "2023-05-05 15:05:58.339187: I tensorflow/core/common_runtime/gpu_fusion_pass.cc:507] ROCm Fusion is enabled.\n",
      "2023-05-05 15:05:58.353004: I tensorflow/core/common_runtime/gpu_fusion_pass.cc:507] ROCm Fusion is enabled.\n",
      "2023-05-05 15:05:58.360655: I tensorflow/core/common_runtime/gpu_fusion_pass.cc:507] ROCm Fusion is enabled.\n",
      "2023-05-05 15:05:58.365307: I tensorflow/core/common_runtime/gpu_fusion_pass.cc:507] ROCm Fusion is enabled.\n",
      "2023-05-05 15:05:58.372120: I tensorflow/core/common_runtime/gpu_fusion_pass.cc:507] ROCm Fusion is enabled.\n",
      "2023-05-05 15:05:58.375969: I tensorflow/core/common_runtime/gpu_fusion_pass.cc:507] ROCm Fusion is enabled.\n",
      "2023-05-05 15:05:58.378589: I tensorflow/core/common_runtime/gpu_fusion_pass.cc:507] ROCm Fusion is enabled.\n",
      "2023-05-05 15:05:58.391764: I tensorflow/core/common_runtime/gpu_fusion_pass.cc:507] ROCm Fusion is enabled.\n",
      "2023-05-05 15:05:58.399505: I tensorflow/core/common_runtime/gpu_fusion_pass.cc:507] ROCm Fusion is enabled.\n"
     ]
    },
    {
     "name": "stdout",
     "output_type": "stream",
     "text": [
      "1/1 [==============================] - 0s 14ms/step\n",
      "1/1 [==============================] - 0s 15ms/step\n",
      "1/1 [==============================] - 0s 15ms/step\n",
      "1/1 [==============================] - 0s 15ms/step\n",
      "1/1 [==============================] - 0s 14ms/step\n"
     ]
    },
    {
     "name": "stderr",
     "output_type": "stream",
     "text": [
      "2023-05-05 15:05:58.404545: I tensorflow/core/common_runtime/gpu_fusion_pass.cc:507] ROCm Fusion is enabled.\n",
      "2023-05-05 15:05:58.411315: I tensorflow/core/common_runtime/gpu_fusion_pass.cc:507] ROCm Fusion is enabled.\n",
      "2023-05-05 15:05:58.415155: I tensorflow/core/common_runtime/gpu_fusion_pass.cc:507] ROCm Fusion is enabled.\n",
      "2023-05-05 15:05:58.417772: I tensorflow/core/common_runtime/gpu_fusion_pass.cc:507] ROCm Fusion is enabled.\n",
      "2023-05-05 15:05:58.430998: I tensorflow/core/common_runtime/gpu_fusion_pass.cc:507] ROCm Fusion is enabled.\n",
      "2023-05-05 15:05:58.442996: I tensorflow/core/common_runtime/gpu_fusion_pass.cc:507] ROCm Fusion is enabled.\n",
      "2023-05-05 15:05:58.447652: I tensorflow/core/common_runtime/gpu_fusion_pass.cc:507] ROCm Fusion is enabled.\n",
      "2023-05-05 15:05:58.454637: I tensorflow/core/common_runtime/gpu_fusion_pass.cc:507] ROCm Fusion is enabled.\n",
      "2023-05-05 15:05:58.458702: I tensorflow/core/common_runtime/gpu_fusion_pass.cc:507] ROCm Fusion is enabled.\n",
      "2023-05-05 15:05:58.461423: I tensorflow/core/common_runtime/gpu_fusion_pass.cc:507] ROCm Fusion is enabled.\n",
      "2023-05-05 15:05:58.474851: I tensorflow/core/common_runtime/gpu_fusion_pass.cc:507] ROCm Fusion is enabled.\n",
      "2023-05-05 15:05:58.482636: I tensorflow/core/common_runtime/gpu_fusion_pass.cc:507] ROCm Fusion is enabled.\n",
      "2023-05-05 15:05:58.487361: I tensorflow/core/common_runtime/gpu_fusion_pass.cc:507] ROCm Fusion is enabled.\n",
      "2023-05-05 15:05:58.494237: I tensorflow/core/common_runtime/gpu_fusion_pass.cc:507] ROCm Fusion is enabled.\n",
      "2023-05-05 15:05:58.498238: I tensorflow/core/common_runtime/gpu_fusion_pass.cc:507] ROCm Fusion is enabled.\n",
      "2023-05-05 15:05:58.500922: I tensorflow/core/common_runtime/gpu_fusion_pass.cc:507] ROCm Fusion is enabled.\n",
      "2023-05-05 15:05:58.516065: I tensorflow/core/common_runtime/gpu_fusion_pass.cc:507] ROCm Fusion is enabled.\n",
      "2023-05-05 15:05:58.524297: I tensorflow/core/common_runtime/gpu_fusion_pass.cc:507] ROCm Fusion is enabled.\n",
      "2023-05-05 15:05:58.529012: I tensorflow/core/common_runtime/gpu_fusion_pass.cc:507] ROCm Fusion is enabled.\n",
      "2023-05-05 15:05:58.536411: I tensorflow/core/common_runtime/gpu_fusion_pass.cc:507] ROCm Fusion is enabled.\n",
      "2023-05-05 15:05:58.540419: I tensorflow/core/common_runtime/gpu_fusion_pass.cc:507] ROCm Fusion is enabled.\n",
      "2023-05-05 15:05:58.543086: I tensorflow/core/common_runtime/gpu_fusion_pass.cc:507] ROCm Fusion is enabled.\n",
      "2023-05-05 15:05:58.556314: I tensorflow/core/common_runtime/gpu_fusion_pass.cc:507] ROCm Fusion is enabled.\n",
      "2023-05-05 15:05:58.564293: I tensorflow/core/common_runtime/gpu_fusion_pass.cc:507] ROCm Fusion is enabled.\n",
      "2023-05-05 15:05:58.568910: I tensorflow/core/common_runtime/gpu_fusion_pass.cc:507] ROCm Fusion is enabled.\n",
      "2023-05-05 15:05:58.575841: I tensorflow/core/common_runtime/gpu_fusion_pass.cc:507] ROCm Fusion is enabled.\n",
      "2023-05-05 15:05:58.579703: I tensorflow/core/common_runtime/gpu_fusion_pass.cc:507] ROCm Fusion is enabled.\n",
      "2023-05-05 15:05:58.582346: I tensorflow/core/common_runtime/gpu_fusion_pass.cc:507] ROCm Fusion is enabled.\n",
      "2023-05-05 15:05:58.595660: I tensorflow/core/common_runtime/gpu_fusion_pass.cc:507] ROCm Fusion is enabled.\n",
      "2023-05-05 15:05:58.603393: I tensorflow/core/common_runtime/gpu_fusion_pass.cc:507] ROCm Fusion is enabled.\n"
     ]
    },
    {
     "name": "stdout",
     "output_type": "stream",
     "text": [
      "1/1 [==============================] - 0s 14ms/step\n",
      "1/1 [==============================] - 0s 14ms/step\n",
      "1/1 [==============================] - 0s 14ms/step\n",
      "1/1 [==============================] - 0s 14ms/step\n",
      "1/1 [==============================] - 0s 14ms/step\n"
     ]
    },
    {
     "name": "stderr",
     "output_type": "stream",
     "text": [
      "2023-05-05 15:05:58.608699: I tensorflow/core/common_runtime/gpu_fusion_pass.cc:507] ROCm Fusion is enabled.\n",
      "2023-05-05 15:05:58.615531: I tensorflow/core/common_runtime/gpu_fusion_pass.cc:507] ROCm Fusion is enabled.\n",
      "2023-05-05 15:05:58.619359: I tensorflow/core/common_runtime/gpu_fusion_pass.cc:507] ROCm Fusion is enabled.\n",
      "2023-05-05 15:05:58.621979: I tensorflow/core/common_runtime/gpu_fusion_pass.cc:507] ROCm Fusion is enabled.\n",
      "2023-05-05 15:05:58.635765: I tensorflow/core/common_runtime/gpu_fusion_pass.cc:507] ROCm Fusion is enabled.\n",
      "2023-05-05 15:05:58.643565: I tensorflow/core/common_runtime/gpu_fusion_pass.cc:507] ROCm Fusion is enabled.\n",
      "2023-05-05 15:05:58.648134: I tensorflow/core/common_runtime/gpu_fusion_pass.cc:507] ROCm Fusion is enabled.\n",
      "2023-05-05 15:05:58.654893: I tensorflow/core/common_runtime/gpu_fusion_pass.cc:507] ROCm Fusion is enabled.\n",
      "2023-05-05 15:05:58.658715: I tensorflow/core/common_runtime/gpu_fusion_pass.cc:507] ROCm Fusion is enabled.\n",
      "2023-05-05 15:05:58.661321: I tensorflow/core/common_runtime/gpu_fusion_pass.cc:507] ROCm Fusion is enabled.\n",
      "2023-05-05 15:05:58.674633: I tensorflow/core/common_runtime/gpu_fusion_pass.cc:507] ROCm Fusion is enabled.\n",
      "2023-05-05 15:05:58.682401: I tensorflow/core/common_runtime/gpu_fusion_pass.cc:507] ROCm Fusion is enabled.\n",
      "2023-05-05 15:05:58.686960: I tensorflow/core/common_runtime/gpu_fusion_pass.cc:507] ROCm Fusion is enabled.\n",
      "2023-05-05 15:05:58.693730: I tensorflow/core/common_runtime/gpu_fusion_pass.cc:507] ROCm Fusion is enabled.\n",
      "2023-05-05 15:05:58.697546: I tensorflow/core/common_runtime/gpu_fusion_pass.cc:507] ROCm Fusion is enabled.\n",
      "2023-05-05 15:05:58.700154: I tensorflow/core/common_runtime/gpu_fusion_pass.cc:507] ROCm Fusion is enabled.\n",
      "2023-05-05 15:05:58.713749: I tensorflow/core/common_runtime/gpu_fusion_pass.cc:507] ROCm Fusion is enabled.\n",
      "2023-05-05 15:05:58.721421: I tensorflow/core/common_runtime/gpu_fusion_pass.cc:507] ROCm Fusion is enabled.\n",
      "2023-05-05 15:05:58.726048: I tensorflow/core/common_runtime/gpu_fusion_pass.cc:507] ROCm Fusion is enabled.\n",
      "2023-05-05 15:05:58.732774: I tensorflow/core/common_runtime/gpu_fusion_pass.cc:507] ROCm Fusion is enabled.\n",
      "2023-05-05 15:05:58.736588: I tensorflow/core/common_runtime/gpu_fusion_pass.cc:507] ROCm Fusion is enabled.\n",
      "2023-05-05 15:05:58.739188: I tensorflow/core/common_runtime/gpu_fusion_pass.cc:507] ROCm Fusion is enabled.\n",
      "2023-05-05 15:05:58.752394: I tensorflow/core/common_runtime/gpu_fusion_pass.cc:507] ROCm Fusion is enabled.\n",
      "2023-05-05 15:05:58.760111: I tensorflow/core/common_runtime/gpu_fusion_pass.cc:507] ROCm Fusion is enabled.\n",
      "2023-05-05 15:05:58.764649: I tensorflow/core/common_runtime/gpu_fusion_pass.cc:507] ROCm Fusion is enabled.\n",
      "2023-05-05 15:05:58.771383: I tensorflow/core/common_runtime/gpu_fusion_pass.cc:507] ROCm Fusion is enabled.\n",
      "2023-05-05 15:05:58.775190: I tensorflow/core/common_runtime/gpu_fusion_pass.cc:507] ROCm Fusion is enabled.\n",
      "2023-05-05 15:05:58.777802: I tensorflow/core/common_runtime/gpu_fusion_pass.cc:507] ROCm Fusion is enabled.\n",
      "2023-05-05 15:05:58.790308: I tensorflow/core/common_runtime/gpu_fusion_pass.cc:507] ROCm Fusion is enabled.\n",
      "2023-05-05 15:05:58.802313: I tensorflow/core/common_runtime/gpu_fusion_pass.cc:507] ROCm Fusion is enabled.\n",
      "2023-05-05 15:05:58.806965: I tensorflow/core/common_runtime/gpu_fusion_pass.cc:507] ROCm Fusion is enabled.\n"
     ]
    },
    {
     "name": "stdout",
     "output_type": "stream",
     "text": [
      "1/1 [==============================] - 0s 15ms/step\n",
      "1/1 [==============================] - 0s 15ms/step\n",
      "1/1 [==============================] - 0s 14ms/step\n",
      "1/1 [==============================] - 0s 14ms/step\n",
      "1/1 [==============================] - 0s 14ms/step\n"
     ]
    },
    {
     "name": "stderr",
     "output_type": "stream",
     "text": [
      "2023-05-05 15:05:58.814170: I tensorflow/core/common_runtime/gpu_fusion_pass.cc:507] ROCm Fusion is enabled.\n",
      "2023-05-05 15:05:58.818460: I tensorflow/core/common_runtime/gpu_fusion_pass.cc:507] ROCm Fusion is enabled.\n",
      "2023-05-05 15:05:58.821167: I tensorflow/core/common_runtime/gpu_fusion_pass.cc:507] ROCm Fusion is enabled.\n",
      "2023-05-05 15:05:58.835680: I tensorflow/core/common_runtime/gpu_fusion_pass.cc:507] ROCm Fusion is enabled.\n",
      "2023-05-05 15:05:58.843669: I tensorflow/core/common_runtime/gpu_fusion_pass.cc:507] ROCm Fusion is enabled.\n",
      "2023-05-05 15:05:58.848449: I tensorflow/core/common_runtime/gpu_fusion_pass.cc:507] ROCm Fusion is enabled.\n",
      "2023-05-05 15:05:58.855701: I tensorflow/core/common_runtime/gpu_fusion_pass.cc:507] ROCm Fusion is enabled.\n",
      "2023-05-05 15:05:58.859816: I tensorflow/core/common_runtime/gpu_fusion_pass.cc:507] ROCm Fusion is enabled.\n",
      "2023-05-05 15:05:58.862499: I tensorflow/core/common_runtime/gpu_fusion_pass.cc:507] ROCm Fusion is enabled.\n",
      "2023-05-05 15:05:58.876281: I tensorflow/core/common_runtime/gpu_fusion_pass.cc:507] ROCm Fusion is enabled.\n",
      "2023-05-05 15:05:58.884142: I tensorflow/core/common_runtime/gpu_fusion_pass.cc:507] ROCm Fusion is enabled.\n",
      "2023-05-05 15:05:58.888787: I tensorflow/core/common_runtime/gpu_fusion_pass.cc:507] ROCm Fusion is enabled.\n",
      "2023-05-05 15:05:58.895710: I tensorflow/core/common_runtime/gpu_fusion_pass.cc:507] ROCm Fusion is enabled.\n",
      "2023-05-05 15:05:58.899683: I tensorflow/core/common_runtime/gpu_fusion_pass.cc:507] ROCm Fusion is enabled.\n",
      "2023-05-05 15:05:58.902332: I tensorflow/core/common_runtime/gpu_fusion_pass.cc:507] ROCm Fusion is enabled.\n",
      "2023-05-05 15:05:58.916354: I tensorflow/core/common_runtime/gpu_fusion_pass.cc:507] ROCm Fusion is enabled.\n",
      "2023-05-05 15:05:58.924192: I tensorflow/core/common_runtime/gpu_fusion_pass.cc:507] ROCm Fusion is enabled.\n",
      "2023-05-05 15:05:58.928796: I tensorflow/core/common_runtime/gpu_fusion_pass.cc:507] ROCm Fusion is enabled.\n",
      "2023-05-05 15:05:58.935664: I tensorflow/core/common_runtime/gpu_fusion_pass.cc:507] ROCm Fusion is enabled.\n",
      "2023-05-05 15:05:58.939545: I tensorflow/core/common_runtime/gpu_fusion_pass.cc:507] ROCm Fusion is enabled.\n",
      "2023-05-05 15:05:58.942175: I tensorflow/core/common_runtime/gpu_fusion_pass.cc:507] ROCm Fusion is enabled.\n",
      "2023-05-05 15:05:58.955990: I tensorflow/core/common_runtime/gpu_fusion_pass.cc:507] ROCm Fusion is enabled.\n",
      "2023-05-05 15:05:58.963721: I tensorflow/core/common_runtime/gpu_fusion_pass.cc:507] ROCm Fusion is enabled.\n",
      "2023-05-05 15:05:58.968385: I tensorflow/core/common_runtime/gpu_fusion_pass.cc:507] ROCm Fusion is enabled.\n",
      "2023-05-05 15:05:58.975225: I tensorflow/core/common_runtime/gpu_fusion_pass.cc:507] ROCm Fusion is enabled.\n",
      "2023-05-05 15:05:58.979071: I tensorflow/core/common_runtime/gpu_fusion_pass.cc:507] ROCm Fusion is enabled.\n",
      "2023-05-05 15:05:58.981687: I tensorflow/core/common_runtime/gpu_fusion_pass.cc:507] ROCm Fusion is enabled.\n",
      "2023-05-05 15:05:58.995100: I tensorflow/core/common_runtime/gpu_fusion_pass.cc:507] ROCm Fusion is enabled.\n",
      "2023-05-05 15:05:59.002892: I tensorflow/core/common_runtime/gpu_fusion_pass.cc:507] ROCm Fusion is enabled.\n",
      "2023-05-05 15:05:59.007470: I tensorflow/core/common_runtime/gpu_fusion_pass.cc:507] ROCm Fusion is enabled.\n",
      "2023-05-05 15:05:59.014278: I tensorflow/core/common_runtime/gpu_fusion_pass.cc:507] ROCm Fusion is enabled.\n"
     ]
    },
    {
     "name": "stdout",
     "output_type": "stream",
     "text": [
      "1/1 [==============================] - 0s 14ms/step\n",
      "1/1 [==============================] - 0s 14ms/step\n",
      "1/1 [==============================] - 0s 14ms/step\n",
      "1/1 [==============================] - 0s 14ms/step\n",
      "1/1 [==============================] - 0s 15ms/step\n"
     ]
    },
    {
     "name": "stderr",
     "output_type": "stream",
     "text": [
      "2023-05-05 15:05:59.018107: I tensorflow/core/common_runtime/gpu_fusion_pass.cc:507] ROCm Fusion is enabled.\n",
      "2023-05-05 15:05:59.020725: I tensorflow/core/common_runtime/gpu_fusion_pass.cc:507] ROCm Fusion is enabled.\n",
      "2023-05-05 15:05:59.034073: I tensorflow/core/common_runtime/gpu_fusion_pass.cc:507] ROCm Fusion is enabled.\n",
      "2023-05-05 15:05:59.041838: I tensorflow/core/common_runtime/gpu_fusion_pass.cc:507] ROCm Fusion is enabled.\n",
      "2023-05-05 15:05:59.046440: I tensorflow/core/common_runtime/gpu_fusion_pass.cc:507] ROCm Fusion is enabled.\n",
      "2023-05-05 15:05:59.053296: I tensorflow/core/common_runtime/gpu_fusion_pass.cc:507] ROCm Fusion is enabled.\n",
      "2023-05-05 15:05:59.057119: I tensorflow/core/common_runtime/gpu_fusion_pass.cc:507] ROCm Fusion is enabled.\n",
      "2023-05-05 15:05:59.059731: I tensorflow/core/common_runtime/gpu_fusion_pass.cc:507] ROCm Fusion is enabled.\n",
      "2023-05-05 15:05:59.073378: I tensorflow/core/common_runtime/gpu_fusion_pass.cc:507] ROCm Fusion is enabled.\n",
      "2023-05-05 15:05:59.081060: I tensorflow/core/common_runtime/gpu_fusion_pass.cc:507] ROCm Fusion is enabled.\n",
      "2023-05-05 15:05:59.085721: I tensorflow/core/common_runtime/gpu_fusion_pass.cc:507] ROCm Fusion is enabled.\n",
      "2023-05-05 15:05:59.092464: I tensorflow/core/common_runtime/gpu_fusion_pass.cc:507] ROCm Fusion is enabled.\n",
      "2023-05-05 15:05:59.096289: I tensorflow/core/common_runtime/gpu_fusion_pass.cc:507] ROCm Fusion is enabled.\n",
      "2023-05-05 15:05:59.098907: I tensorflow/core/common_runtime/gpu_fusion_pass.cc:507] ROCm Fusion is enabled.\n",
      "2023-05-05 15:05:59.113546: I tensorflow/core/common_runtime/gpu_fusion_pass.cc:507] ROCm Fusion is enabled.\n",
      "2023-05-05 15:05:59.121448: I tensorflow/core/common_runtime/gpu_fusion_pass.cc:507] ROCm Fusion is enabled.\n",
      "2023-05-05 15:05:59.126061: I tensorflow/core/common_runtime/gpu_fusion_pass.cc:507] ROCm Fusion is enabled.\n",
      "2023-05-05 15:05:59.133160: I tensorflow/core/common_runtime/gpu_fusion_pass.cc:507] ROCm Fusion is enabled.\n",
      "2023-05-05 15:05:59.137011: I tensorflow/core/common_runtime/gpu_fusion_pass.cc:507] ROCm Fusion is enabled.\n",
      "2023-05-05 15:05:59.139631: I tensorflow/core/common_runtime/gpu_fusion_pass.cc:507] ROCm Fusion is enabled.\n",
      "2023-05-05 15:05:59.153018: I tensorflow/core/common_runtime/gpu_fusion_pass.cc:507] ROCm Fusion is enabled.\n",
      "2023-05-05 15:05:59.166159: I tensorflow/core/common_runtime/gpu_fusion_pass.cc:507] ROCm Fusion is enabled.\n",
      "2023-05-05 15:05:59.171126: I tensorflow/core/common_runtime/gpu_fusion_pass.cc:507] ROCm Fusion is enabled.\n",
      "2023-05-05 15:05:59.178187: I tensorflow/core/common_runtime/gpu_fusion_pass.cc:507] ROCm Fusion is enabled.\n",
      "2023-05-05 15:05:59.182227: I tensorflow/core/common_runtime/gpu_fusion_pass.cc:507] ROCm Fusion is enabled.\n",
      "2023-05-05 15:05:59.184925: I tensorflow/core/common_runtime/gpu_fusion_pass.cc:507] ROCm Fusion is enabled.\n",
      "2023-05-05 15:05:59.198496: I tensorflow/core/common_runtime/gpu_fusion_pass.cc:507] ROCm Fusion is enabled.\n",
      "2023-05-05 15:05:59.206283: I tensorflow/core/common_runtime/gpu_fusion_pass.cc:507] ROCm Fusion is enabled.\n",
      "2023-05-05 15:05:59.211097: I tensorflow/core/common_runtime/gpu_fusion_pass.cc:507] ROCm Fusion is enabled.\n",
      "2023-05-05 15:05:59.217952: I tensorflow/core/common_runtime/gpu_fusion_pass.cc:507] ROCm Fusion is enabled.\n"
     ]
    },
    {
     "name": "stdout",
     "output_type": "stream",
     "text": [
      "1/1 [==============================] - 0s 15ms/step\n",
      "1/1 [==============================] - 0s 14ms/step\n",
      "1/1 [==============================] - 0s 15ms/step\n",
      "1/1 [==============================] - 0s 14ms/step\n",
      "1/1 [==============================] - 0s 14ms/step\n"
     ]
    },
    {
     "name": "stderr",
     "output_type": "stream",
     "text": [
      "2023-05-05 15:05:59.221981: I tensorflow/core/common_runtime/gpu_fusion_pass.cc:507] ROCm Fusion is enabled.\n",
      "2023-05-05 15:05:59.224661: I tensorflow/core/common_runtime/gpu_fusion_pass.cc:507] ROCm Fusion is enabled.\n",
      "2023-05-05 15:05:59.238452: I tensorflow/core/common_runtime/gpu_fusion_pass.cc:507] ROCm Fusion is enabled.\n",
      "2023-05-05 15:05:59.246368: I tensorflow/core/common_runtime/gpu_fusion_pass.cc:507] ROCm Fusion is enabled.\n",
      "2023-05-05 15:05:59.251069: I tensorflow/core/common_runtime/gpu_fusion_pass.cc:507] ROCm Fusion is enabled.\n",
      "2023-05-05 15:05:59.258008: I tensorflow/core/common_runtime/gpu_fusion_pass.cc:507] ROCm Fusion is enabled.\n",
      "2023-05-05 15:05:59.261894: I tensorflow/core/common_runtime/gpu_fusion_pass.cc:507] ROCm Fusion is enabled.\n",
      "2023-05-05 15:05:59.264534: I tensorflow/core/common_runtime/gpu_fusion_pass.cc:507] ROCm Fusion is enabled.\n",
      "2023-05-05 15:05:59.278123: I tensorflow/core/common_runtime/gpu_fusion_pass.cc:507] ROCm Fusion is enabled.\n",
      "2023-05-05 15:05:59.285993: I tensorflow/core/common_runtime/gpu_fusion_pass.cc:507] ROCm Fusion is enabled.\n",
      "2023-05-05 15:05:59.290638: I tensorflow/core/common_runtime/gpu_fusion_pass.cc:507] ROCm Fusion is enabled.\n",
      "2023-05-05 15:05:59.297780: I tensorflow/core/common_runtime/gpu_fusion_pass.cc:507] ROCm Fusion is enabled.\n",
      "2023-05-05 15:05:59.301650: I tensorflow/core/common_runtime/gpu_fusion_pass.cc:507] ROCm Fusion is enabled.\n",
      "2023-05-05 15:05:59.304332: I tensorflow/core/common_runtime/gpu_fusion_pass.cc:507] ROCm Fusion is enabled.\n",
      "2023-05-05 15:05:59.318063: I tensorflow/core/common_runtime/gpu_fusion_pass.cc:507] ROCm Fusion is enabled.\n",
      "2023-05-05 15:05:59.325770: I tensorflow/core/common_runtime/gpu_fusion_pass.cc:507] ROCm Fusion is enabled.\n",
      "2023-05-05 15:05:59.330476: I tensorflow/core/common_runtime/gpu_fusion_pass.cc:507] ROCm Fusion is enabled.\n",
      "2023-05-05 15:05:59.337300: I tensorflow/core/common_runtime/gpu_fusion_pass.cc:507] ROCm Fusion is enabled.\n",
      "2023-05-05 15:05:59.341146: I tensorflow/core/common_runtime/gpu_fusion_pass.cc:507] ROCm Fusion is enabled.\n",
      "2023-05-05 15:05:59.343805: I tensorflow/core/common_runtime/gpu_fusion_pass.cc:507] ROCm Fusion is enabled.\n",
      "2023-05-05 15:05:59.357645: I tensorflow/core/common_runtime/gpu_fusion_pass.cc:507] ROCm Fusion is enabled.\n",
      "2023-05-05 15:05:59.365417: I tensorflow/core/common_runtime/gpu_fusion_pass.cc:507] ROCm Fusion is enabled.\n",
      "2023-05-05 15:05:59.369986: I tensorflow/core/common_runtime/gpu_fusion_pass.cc:507] ROCm Fusion is enabled.\n",
      "2023-05-05 15:05:59.376813: I tensorflow/core/common_runtime/gpu_fusion_pass.cc:507] ROCm Fusion is enabled.\n",
      "2023-05-05 15:05:59.380655: I tensorflow/core/common_runtime/gpu_fusion_pass.cc:507] ROCm Fusion is enabled.\n",
      "2023-05-05 15:05:59.383264: I tensorflow/core/common_runtime/gpu_fusion_pass.cc:507] ROCm Fusion is enabled.\n",
      "2023-05-05 15:05:59.396730: I tensorflow/core/common_runtime/gpu_fusion_pass.cc:507] ROCm Fusion is enabled.\n",
      "2023-05-05 15:05:59.404499: I tensorflow/core/common_runtime/gpu_fusion_pass.cc:507] ROCm Fusion is enabled.\n",
      "2023-05-05 15:05:59.409064: I tensorflow/core/common_runtime/gpu_fusion_pass.cc:507] ROCm Fusion is enabled.\n",
      "2023-05-05 15:05:59.415855: I tensorflow/core/common_runtime/gpu_fusion_pass.cc:507] ROCm Fusion is enabled.\n",
      "2023-05-05 15:05:59.419689: I tensorflow/core/common_runtime/gpu_fusion_pass.cc:507] ROCm Fusion is enabled.\n",
      "2023-05-05 15:05:59.422301: I tensorflow/core/common_runtime/gpu_fusion_pass.cc:507] ROCm Fusion is enabled.\n"
     ]
    },
    {
     "name": "stdout",
     "output_type": "stream",
     "text": [
      "1/1 [==============================] - 0s 14ms/step\n",
      "1/1 [==============================] - 0s 14ms/step\n",
      "1/1 [==============================] - 0s 14ms/step\n",
      "1/1 [==============================] - 0s 15ms/step\n",
      "1/1 [==============================] - 0s 15ms/step\n"
     ]
    },
    {
     "name": "stderr",
     "output_type": "stream",
     "text": [
      "2023-05-05 15:05:59.435494: I tensorflow/core/common_runtime/gpu_fusion_pass.cc:507] ROCm Fusion is enabled.\n",
      "2023-05-05 15:05:59.443245: I tensorflow/core/common_runtime/gpu_fusion_pass.cc:507] ROCm Fusion is enabled.\n",
      "2023-05-05 15:05:59.447920: I tensorflow/core/common_runtime/gpu_fusion_pass.cc:507] ROCm Fusion is enabled.\n",
      "2023-05-05 15:05:59.454655: I tensorflow/core/common_runtime/gpu_fusion_pass.cc:507] ROCm Fusion is enabled.\n",
      "2023-05-05 15:05:59.458482: I tensorflow/core/common_runtime/gpu_fusion_pass.cc:507] ROCm Fusion is enabled.\n",
      "2023-05-05 15:05:59.461097: I tensorflow/core/common_runtime/gpu_fusion_pass.cc:507] ROCm Fusion is enabled.\n",
      "2023-05-05 15:05:59.474600: I tensorflow/core/common_runtime/gpu_fusion_pass.cc:507] ROCm Fusion is enabled.\n",
      "2023-05-05 15:05:59.482323: I tensorflow/core/common_runtime/gpu_fusion_pass.cc:507] ROCm Fusion is enabled.\n",
      "2023-05-05 15:05:59.486902: I tensorflow/core/common_runtime/gpu_fusion_pass.cc:507] ROCm Fusion is enabled.\n",
      "2023-05-05 15:05:59.493701: I tensorflow/core/common_runtime/gpu_fusion_pass.cc:507] ROCm Fusion is enabled.\n",
      "2023-05-05 15:05:59.497568: I tensorflow/core/common_runtime/gpu_fusion_pass.cc:507] ROCm Fusion is enabled.\n",
      "2023-05-05 15:05:59.500195: I tensorflow/core/common_runtime/gpu_fusion_pass.cc:507] ROCm Fusion is enabled.\n",
      "2023-05-05 15:05:59.513382: I tensorflow/core/common_runtime/gpu_fusion_pass.cc:507] ROCm Fusion is enabled.\n",
      "2023-05-05 15:05:59.525297: I tensorflow/core/common_runtime/gpu_fusion_pass.cc:507] ROCm Fusion is enabled.\n",
      "2023-05-05 15:05:59.529987: I tensorflow/core/common_runtime/gpu_fusion_pass.cc:507] ROCm Fusion is enabled.\n",
      "2023-05-05 15:05:59.537029: I tensorflow/core/common_runtime/gpu_fusion_pass.cc:507] ROCm Fusion is enabled.\n",
      "2023-05-05 15:05:59.541055: I tensorflow/core/common_runtime/gpu_fusion_pass.cc:507] ROCm Fusion is enabled.\n",
      "2023-05-05 15:05:59.543760: I tensorflow/core/common_runtime/gpu_fusion_pass.cc:507] ROCm Fusion is enabled.\n",
      "2023-05-05 15:05:59.557346: I tensorflow/core/common_runtime/gpu_fusion_pass.cc:507] ROCm Fusion is enabled.\n",
      "2023-05-05 15:05:59.565107: I tensorflow/core/common_runtime/gpu_fusion_pass.cc:507] ROCm Fusion is enabled.\n",
      "2023-05-05 15:05:59.569857: I tensorflow/core/common_runtime/gpu_fusion_pass.cc:507] ROCm Fusion is enabled.\n",
      "2023-05-05 15:05:59.576792: I tensorflow/core/common_runtime/gpu_fusion_pass.cc:507] ROCm Fusion is enabled.\n",
      "2023-05-05 15:05:59.580777: I tensorflow/core/common_runtime/gpu_fusion_pass.cc:507] ROCm Fusion is enabled.\n",
      "2023-05-05 15:05:59.583536: I tensorflow/core/common_runtime/gpu_fusion_pass.cc:507] ROCm Fusion is enabled.\n"
     ]
    }
   ],
   "source": [
    "# multiple prediction for 1 index\n",
    "ypp = []\n",
    "\n",
    "idx_test = 20\n",
    "xt_lr = test_lr[idx_test:idx_test+1]\n",
    "\n",
    "npred = 50\n",
    "for n in range(npred):\n",
    "    ypp.append(model.predict(xt_lr))\n",
    "\n",
    "    \n",
    "ypp = np.array(ypp).squeeze()\n",
    "ypp = ypp.reshape((ypp.shape[0]*ypp.shape[1]))"
   ]
  },
  {
   "cell_type": "code",
   "execution_count": 124,
   "id": "f082e3b3",
   "metadata": {
    "collapsed": true
   },
   "outputs": [
    {
     "data": {
      "image/png": "[encoded data removed]",
      "text/plain": [
       "<Figure size 1600x800 with 2 Axes>"
      ]
     },
     "metadata": {},
     "output_type": "display_data"
    }
   ],
   "source": [
    "fig, ax = plt.subplots(ncols=2, constrained_layout=True, figsize=(8*2,8))\n",
    "\n",
    "midx = 0 # 3000\n",
    "\n",
    "ax[0].plot(y[val_split_idx+idx_test])\n",
    "ax[0].set_title('Distribution ICESat-2 for TOPAZ pixel')\n",
    "ax[0].set_xlabel('N observations')\n",
    "ax[0].set_ylabel('SIT (m)')\n",
    "ax[0].set_ylim(0, ax[0].get_ylim()[1])\n",
    "\n",
    "ax[1].plot(ypp)\n",
    "ax[1].set_title('Distribution ML for TOPAZ pixel')\n",
    "ax[1].set_xlabel('N observations');\n",
    "ax[1].set_ylim(ax[0].get_ylim());"
   ]
  },
  {
   "cell_type": "markdown",
   "id": "6779961d",
   "metadata": {},
   "source": [
    "# Loss function: developpment and tries"
   ]
  },
  {
   "cell_type": "code",
   "execution_count": 111,
   "id": "435c9193",
   "metadata": {},
   "outputs": [],
   "source": [
    "nval = 20  # number of points for CDF"
   ]
  },
  {
   "cell_type": "code",
   "execution_count": 112,
   "id": "ec6edf86",
   "metadata": {},
   "outputs": [],
   "source": [
    "# fake ypred\n",
    "ypred = 2 * np.random.random_sample((nval,))"
   ]
  },
  {
   "cell_type": "code",
   "execution_count": 113,
   "id": "cbd9e548",
   "metadata": {},
   "outputs": [],
   "source": [
    "val = ytrue[midx, :]"
   ]
  },
  {
   "cell_type": "code",
   "execution_count": 114,
   "id": "b953154c",
   "metadata": {},
   "outputs": [],
   "source": [
    "def ecdf(a):\n",
    "    '''returns x,y\n",
    "    from\n",
    "    https://stackoverflow.com/questions/24788200/calculate-the-cumulative-distribution-function-cdf-in-python\n",
    "    '''\n",
    "    x, counts = np.unique(a, return_counts=True)\n",
    "    cusum = np.cumsum(counts)\n",
    "    return x, cusum / cusum[-1]"
   ]
  },
  {
   "cell_type": "code",
   "execution_count": 115,
   "id": "dff0e297",
   "metadata": {},
   "outputs": [],
   "source": [
    "bins_val, cdf_val = ecdf(val[:nval])"
   ]
  },
  {
   "cell_type": "code",
   "execution_count": 116,
   "id": "57378113",
   "metadata": {},
   "outputs": [],
   "source": [
    "bins_pred, cdf_pred = ecdf(ypred[:nval])"
   ]
  },
  {
   "cell_type": "code",
   "execution_count": 117,
   "id": "8d3c27e9",
   "metadata": {},
   "outputs": [
    {
     "data": {
      "text/plain": [
       "[<matplotlib.lines.Line2D at 0x15250ec86280>]"
      ]
     },
     "execution_count": 117,
     "metadata": {},
     "output_type": "execute_result"
    },
    {
     "data": {
      "image/png": "[encoded data removed]",
      "text/plain": [
       "<Figure size 640x480 with 1 Axes>"
      ]
     },
     "metadata": {},
     "output_type": "display_data"
    }
   ],
   "source": [
    "plt.plot(bins_val, cdf_val, drawstyle='steps-post')\n",
    "plt.plot(bins_pred, cdf_pred, 'r', drawstyle='steps-post')"
   ]
  },
  {
   "cell_type": "code",
   "execution_count": 463,
   "id": "bbcd8b8b",
   "metadata": {},
   "outputs": [],
   "source": [
    "# project predicted curve on x axis of valid curve"
   ]
  },
  {
   "cell_type": "code",
   "execution_count": 118,
   "id": "083e95a8",
   "metadata": {},
   "outputs": [],
   "source": [
    "def cdf_bins(a,bins):\n",
    "    pdf, bin_edges = np.histogram(a, bins=bins, density=True)\n",
    "    cdf = np.cumsum(pdf*np.diff(bin_edges))\n",
    "    return cdf"
   ]
  },
  {
   "cell_type": "code",
   "execution_count": 119,
   "id": "ec752975",
   "metadata": {},
   "outputs": [],
   "source": [
    "bins_val_proj = np.concatenate((bins_val, [20]))  # add a MAX bin, to have same length of CDF"
   ]
  },
  {
   "cell_type": "code",
   "execution_count": 120,
   "id": "6febb5e5",
   "metadata": {},
   "outputs": [],
   "source": [
    "cdf_pp = cdf_bins(ypred[:nval], bins_val_proj)"
   ]
  },
  {
   "cell_type": "code",
   "execution_count": 121,
   "id": "bf510556",
   "metadata": {},
   "outputs": [
    {
     "data": {
      "image/png": "[encoded data removed]",
      "text/plain": [
       "<Figure size 640x480 with 1 Axes>"
      ]
     },
     "metadata": {},
     "output_type": "display_data"
    }
   ],
   "source": [
    "plt.plot(bins_val, cdf_val, drawstyle='steps-post', label='Obs')\n",
    "plt.plot(bins_pred, cdf_pred, 'r', drawstyle='steps-post', alpha=0.5, label='predicted')\n",
    "plt.plot(bins_val, cdf_pp, 'k', drawstyle='steps-post', label='pred on obs. bins')\n",
    "\n",
    "# plt.fill(*pdiff.T, alpha=0.2)\n",
    "\n",
    "plt.xlabel('SIT')\n",
    "plt.ylabel('CDF')\n",
    "plt.grid()\n",
    "plt.legend();"
   ]
  },
  {
   "cell_type": "code",
   "execution_count": 468,
   "id": "e8cb8081",
   "metadata": {},
   "outputs": [],
   "source": [
    "# diff between curves"
   ]
  },
  {
   "cell_type": "code",
   "execution_count": 125,
   "id": "dc4dc414",
   "metadata": {},
   "outputs": [],
   "source": [
    "def compute_area(y1, y2, x):\n",
    "    '''\n",
    "    y1       :    cdf curve 1\n",
    "    y2       :    cdf curve 2\n",
    "    x        :    bins (similar for both curves)\n",
    "    \n",
    "    from \n",
    "    https://stackoverflow.com/questions/25439243/find-the-area-between-two-curves-plotted-in-matplotlib-fill-between-area\n",
    "    '''\n",
    "    z = y1 - y2\n",
    "    dx = x[1:] - x[:-1]\n",
    "    cross_test = np.sign(z[:-1] * z[1:])  # negative when curves cross\n",
    "\n",
    "    x_intersect = x[:-1] - dx / (z[1:] - z[:-1]) * z[:-1]\n",
    "    dx_intersect = - dx / (z[1:] - z[:-1]) * z[:-1]\n",
    "\n",
    "    areas_pos = abs(z[:-1] + z[1:]) * 0.5 * dx  # no intersection: signs of both z are same: add area of rectangle\n",
    "    # intersection: add area of 2 triangles\n",
    "    areas_neg = 0.5 * dx_intersect * abs(z[:-1]) + 0.5 * (dx - dx_intersect) * abs(z[1:])  \n",
    "\n",
    "    areas = np.where(cross_test < 0, areas_neg, areas_pos)\n",
    "    total_area = np.sum(areas)\n",
    "\n",
    "    negatives = np.where(cross_test < 0)[0]\n",
    "    positives = np.where(cross_test >= 0)[0]\n",
    "    \n",
    "    return total_area, negatives, positives, areas\n",
    "    "
   ]
  },
  {
   "cell_type": "code",
   "execution_count": 126,
   "id": "4c564a3f",
   "metadata": {},
   "outputs": [
    {
     "name": "stderr",
     "output_type": "stream",
     "text": [
      "/tmp/ipykernel_4581/2028383057.py:14: RuntimeWarning: divide by zero encountered in true_divide\n",
      "  x_intersect = x[:-1] - dx / (z[1:] - z[:-1]) * z[:-1]\n",
      "/tmp/ipykernel_4581/2028383057.py:15: RuntimeWarning: divide by zero encountered in true_divide\n",
      "  dx_intersect = - dx / (z[1:] - z[:-1]) * z[:-1]\n",
      "/tmp/ipykernel_4581/2028383057.py:19: RuntimeWarning: invalid value encountered in add\n",
      "  areas_neg = 0.5 * dx_intersect * abs(z[:-1]) + 0.5 * (dx - dx_intersect) * abs(z[1:])\n"
     ]
    }
   ],
   "source": [
    "area, neg, pos, areas = compute_area(cdf_val, cdf_pp, bins_val)"
   ]
  },
  {
   "cell_type": "code",
   "execution_count": 128,
   "id": "f14fa910",
   "metadata": {},
   "outputs": [
    {
     "data": {
      "text/plain": [
       "(15,)"
      ]
     },
     "execution_count": 128,
     "metadata": {},
     "output_type": "execute_result"
    }
   ],
   "source": [
    "areas.shape"
   ]
  },
  {
   "cell_type": "code",
   "execution_count": 124,
   "id": "9a56e4ea",
   "metadata": {},
   "outputs": [
    {
     "data": {
      "text/plain": [
       "0.19927832005616705"
      ]
     },
     "execution_count": 124,
     "metadata": {},
     "output_type": "execute_result"
    }
   ],
   "source": [
    "area"
   ]
  },
  {
   "cell_type": "code",
   "execution_count": 472,
   "id": "5461a788",
   "metadata": {},
   "outputs": [
    {
     "data": {
      "image/png": "[encoded data removed]",
      "text/plain": [
       "<Figure size 640x480 with 1 Axes>"
      ]
     },
     "metadata": {},
     "output_type": "display_data"
    }
   ],
   "source": [
    "plt.plot(bins_val, cdf_val, drawstyle='steps-post', label='Obs')\n",
    "plt.plot(bins_val, cdf_pp, 'k', drawstyle='steps-post', label='pred on obs. bins')\n",
    "\n",
    "plt.plot(bins_val, cdf_val-cdf_pp)\n",
    "plt.vlines(bins_val[pos+1], 0, 1, 'g', alpha=0.4)\n",
    "plt.vlines(bins_val[neg+1], 0, 1, 'r', alpha=0.4)\n",
    "\n",
    "plt.xlabel('SIT')\n",
    "plt.ylabel('CDF')\n",
    "plt.grid()\n",
    "plt.legend();"
   ]
  },
  {
   "cell_type": "markdown",
   "id": "625f7133",
   "metadata": {},
   "source": [
    "^^^^^^^^^^^^"
   ]
  },
  {
   "cell_type": "markdown",
   "id": "1f64fb70",
   "metadata": {},
   "source": [
    "# Faire une fonction de coût a partir de ca"
   ]
  },
  {
   "cell_type": "code",
   "execution_count": null,
   "id": "5c8fef8d",
   "metadata": {},
   "outputs": [],
   "source": []
  },
  {
   "cell_type": "code",
   "execution_count": null,
   "id": "37a9b1f6",
   "metadata": {},
   "outputs": [],
   "source": []
  },
  {
   "cell_type": "code",
   "execution_count": null,
   "id": "b4793679",
   "metadata": {},
   "outputs": [],
   "source": []
  },
  {
   "cell_type": "code",
   "execution_count": null,
   "id": "ead3ae5d",
   "metadata": {},
   "outputs": [],
   "source": []
  },
  {
   "cell_type": "code",
   "execution_count": null,
   "id": "df334b63",
   "metadata": {},
   "outputs": [],
   "source": []
  },
  {
   "cell_type": "code",
   "execution_count": null,
   "id": "3dd4e863",
   "metadata": {},
   "outputs": [],
   "source": []
  },
  {
   "cell_type": "markdown",
   "id": "5d3fb951",
   "metadata": {},
   "source": [
    "# ----------------------------------------------------------------------------------------"
   ]
  },
  {
   "cell_type": "markdown",
   "id": "3f2baa04",
   "metadata": {},
   "source": [
    "# Draft"
   ]
  },
  {
   "cell_type": "raw",
   "id": "c89318bf",
   "metadata": {},
   "source": [
    "# FAKE DATA\n",
    "# Split the data into training and validation sets\n",
    "split_idx = int(0.8 * num_samples)\n",
    "train_lr = lr_estimations[:split_idx]\n",
    "train_gt = ground_truth_distributions[:split_idx]\n",
    "val_lr = lr_estimations[split_idx:]\n",
    "val_gt = ground_truth_distributions[split_idx:]"
   ]
  },
  {
   "cell_type": "code",
   "execution_count": 8,
   "id": "09c217c6",
   "metadata": {},
   "outputs": [
    {
     "name": "stderr",
     "output_type": "stream",
     "text": [
      "2023-05-02 15:18:33.984036: I tensorflow/core/platform/cpu_feature_guard.cc:193] This TensorFlow binary is optimized with oneAPI Deep Neural Network Library (oneDNN) to use the following CPU instructions in performance-critical operations:  SSE3 SSE4.1 SSE4.2 AVX AVX2 FMA\n",
      "To enable them in other operations, rebuild TensorFlow with the appropriate compiler flags.\n"
     ]
    }
   ],
   "source": [
    "import numpy as np\n",
    "\n",
    "from tensorflow.keras.models import Model\n",
    "from tensorflow.keras.layers import Input, concatenate, Dense, Conv1DTranspose, Reshape, Flatten\n",
    "from tensorflow.keras.utils import Sequence\n",
    "from tensorflow.keras.models import Sequential"
   ]
  },
  {
   "cell_type": "code",
   "execution_count": 2,
   "id": "468319b2",
   "metadata": {},
   "outputs": [],
   "source": [
    "# Generate some fake data\n",
    "num_samples = 10000\n",
    "num_features = 8\n",
    "num_obs = 1000\n",
    "lr_estimations = np.random.rand(num_samples, num_features)\n",
    "# in_situ_measurements = np.random.rand(num_samples, num_features)\n",
    "ground_truth_distributions = np.random.rand(num_samples, num_obs) # 100)\n",
    "\n",
    "# Reshape the input data to be 2D with a single channel\n",
    "lr_estimations = lr_estimations.reshape(num_samples, num_features, 1)\n",
    "# in_situ_measurements = in_situ_measurements.reshape(num_samples, num_features, 1)"
   ]
  },
  {
   "cell_type": "code",
   "execution_count": 38,
   "id": "a1930c39",
   "metadata": {},
   "outputs": [],
   "source": [
    "from tensorflow.keras.layers import Dense, Conv1D\n",
    "\n",
    "def build_model(num_features, num_obs):\n",
    "    model = Sequential()\n",
    "    model.add(Conv1D(64, 3, activation='relu', input_shape=(None, num_features)))\n",
    "    model.add(Flatten())\n",
    "    model.add(Dense(num_obs, input_shape=(None,)))\n",
    "    model.compile(optimizer='adam', loss='mse')\n",
    "    return model\n",
    "\n",
    "def build_model_tg(num_features, num_ground_truth_distributions):  # , num_batch):\n",
    "    # Define the input layer\n",
    "#     inputs = Input(shape=(None, num_features, 1))\n",
    "    inputs = Input(shape=(num_features,1))\n",
    "    \n",
    "\n",
    "    # Define the hidden layers\n",
    "#    hidden1 = Dense(64, activation='relu')(inputs)\n",
    "#    hidden2 = Dense(32, activation='relu')(hidden1)\n",
    "#    hidden3 = Dense(16, activation='relu')(hidden2)\n",
    "#     hidden4 = Dense(1)(hidden3)\n",
    "\n",
    "    hidden1 = Conv1D(64,3, activation='relu')(inputs)\n",
    "    hidden2 = Conv1D(128, 3, activation='relu')(hidden1)\n",
    "    hidden3 = Conv1D(128*2, 3, activation='relu')(hidden2)\n",
    "\n",
    "    print(hidden1.shape)\n",
    "    flatten1 = Flatten()(hidden3)\n",
    "    print(hidden1.shape)\n",
    "\n",
    "    # Define the output layer\n",
    "    outputs = Dense(num_ground_truth_distributions, activation='softmax')(flatten1)\n",
    "    print('out: ', outputs.shape)\n",
    "\n",
    "    # Define the model\n",
    "    model = Model(inputs=inputs, outputs=outputs)\n",
    "\n",
    "    # Compile the model\n",
    "    model.compile(optimizer='adam', loss='mse')\n",
    "\n",
    "    return model"
   ]
  },
  {
   "cell_type": "code",
   "execution_count": 26,
   "id": "e2ef32f9",
   "metadata": {},
   "outputs": [],
   "source": [
    "import numpy as np\n",
    "\n",
    "# Generate some fake data\n",
    "num_samples = 200 # 1000\n",
    "num_features = 12\n",
    "num_obs = 20\n",
    "lr_estimations = np.random.rand(num_samples, num_features)\n",
    "# in_situ_measurements = np.random.rand(num_samples, num_features)\n",
    "ground_truth_distributions = np.random.rand(num_samples, num_obs) # 100)\n",
    "\n",
    "# Reshape the input data to be 2D with a single channel\n",
    "lr_estimations = lr_estimations.reshape(num_samples, num_features, 1)\n",
    "# in_situ_measurements = in_situ_measurements.reshape(num_samples, num_features, 1)"
   ]
  },
  {
   "cell_type": "code",
   "execution_count": null,
   "id": "398a368a",
   "metadata": {},
   "outputs": [],
   "source": [
    "from tensorflow.keras.models import Model\n",
    "from tensorflow.keras.layers import Input, concatenate, Dense, Conv1DTranspose, Reshape\n",
    "from tensorflow.keras.utils import Sequence\n",
    "\n",
    "\n",
    "# Define the model architecture\n",
    "def build_model(num_features, num_obs):\n",
    "    input_lr = Input(shape=(num_features, 1))\n",
    "    x = Conv1DTranspose(32, 3, padding='same', activation='relu')(input_lr)\n",
    "    x = Conv1DTranspose(16, 3, padding='same', activation='relu')(x)\n",
    "    x = Conv1DTranspose(1, 3, padding='same', activation='sigmoid')(x)\n",
    "#     output = Reshape((-1,))(x)\n",
    "    output = Dense(num_obs, activation='softmax')(x)\n",
    "    print(output.shape)\n",
    "    model = Model(inputs=input_lr, outputs=output)\n",
    "    model.compile(loss='mse', optimizer='adam')\n",
    "    return model"
   ]
  },
  {
   "cell_type": "code",
   "execution_count": 40,
   "id": "7934a2de",
   "metadata": {},
   "outputs": [],
   "source": [
    "from tensorflow.keras.layers import Dense\n",
    "\n",
    "def build_model(num_features, num_ground_truth_distributions):  # , num_batch):\n",
    "    # Define the input layer\n",
    "    inputs = Input(shape=(None, num_features)) # , 1))\n",
    "\n",
    "    # Define the hidden layers\n",
    "    hidden1 = Dense(64, activation='relu')(inputs)\n",
    "    hidden2 = Dense(32, activation='relu')(hidden1)\n",
    "    hidden3 = Dense(16, activation='relu')(hidden2)\n",
    "#     hidden4 = Dense(1)(hidden3)\n",
    "    \n",
    "    \n",
    "    hidden3 = Flatten()(hidden3)\n",
    "    # Define the output layer\n",
    "    outputs = Dense(num_ground_truth_distributions, activation='softmax')(hidden3)\n",
    "#     outputs = Flatten(input_shape=(None, None, num_features, num_ground_truth_distributions))(outputs)\n",
    "    print(outputs.shape)\n",
    "\n",
    "    # Define the model\n",
    "    model = Model(inputs=inputs, outputs=outputs)\n",
    "\n",
    "    # Compile the model\n",
    "    model.compile(optimizer='adam', loss='mse')\n",
    "\n",
    "    return model\n"
   ]
  },
  {
   "cell_type": "code",
   "execution_count": 38,
   "id": "9f7c6ced",
   "metadata": {},
   "outputs": [],
   "source": [
    "# Define the data loader\n",
    "class DataGenerator(Sequence):\n",
    "    \n",
    "    def __init__(self, lr_estimations, ground_truth_distributions, batch_size=32, shuffle=True):\n",
    "        self.lr_estimations = lr_estimations\n",
    "        self.ground_truth_distributions = ground_truth_distributions\n",
    "        self.batch_size = batch_size\n",
    "        self.shuffle = shuffle\n",
    "        self.on_epoch_end()\n",
    "\n",
    "    def __len__(self):\n",
    "        return int(np.ceil(len(self.lr_estimations) / self.batch_size))\n",
    "\n",
    "    def __getitem__(self, idx):\n",
    "        indexes = self.indexes[idx*self.batch_size:(idx+1)*self.batch_size]\n",
    "#         X_lr = np.expand_dims(self.lr_estimations[indexes], axis=-1)\n",
    "        X_lr = self.lr_estimations[indexes]\n",
    "        \n",
    "        y = self.ground_truth_distributions[indexes]\n",
    "#         y = np.expand_dims(self.ground_truth_distributions[indexes], axis=-1)\n",
    "        print('X: ', X_lr.shape)\n",
    "        print('y:', y.shape)\n",
    "        return X_lr, y\n",
    "\n",
    "    def on_epoch_end(self):\n",
    "        self.indexes = np.arange(len(self.lr_estimations))\n",
    "        if self.shuffle == True:\n",
    "            np.random.shuffle(self.indexes)"
   ]
  },
  {
   "cell_type": "code",
   "execution_count": 42,
   "id": "67d59159",
   "metadata": {},
   "outputs": [],
   "source": [
    "import tensorflow as tf"
   ]
  },
  {
   "cell_type": "code",
   "execution_count": 44,
   "id": "af9c22af",
   "metadata": {},
   "outputs": [
    {
     "name": "stderr",
     "output_type": "stream",
     "text": [
      "2023-04-25 22:00:19.600691: I tensorflow/core/common_runtime/gpu/gpu_device.cc:1613] Created device /device:GPU:0 with 63996 MB memory:  -> device: 0, name: , pci bus id: 0000:c1:00.0\n",
      "2023-04-25 22:00:19.600770: I tensorflow/core/common_runtime/gpu/gpu_device.cc:1613] Created device /device:GPU:1 with 63996 MB memory:  -> device: 1, name: , pci bus id: 0000:c6:00.0\n",
      "2023-04-25 22:00:19.600827: I tensorflow/core/common_runtime/gpu/gpu_device.cc:1613] Created device /device:GPU:2 with 63996 MB memory:  -> device: 2, name: , pci bus id: 0000:c9:00.0\n",
      "2023-04-25 22:00:19.600877: I tensorflow/core/common_runtime/gpu/gpu_device.cc:1613] Created device /device:GPU:3 with 63996 MB memory:  -> device: 3, name: , pci bus id: 0000:ce:00.0\n",
      "2023-04-25 22:00:19.600924: I tensorflow/core/common_runtime/gpu/gpu_device.cc:1613] Created device /device:GPU:4 with 63996 MB memory:  -> device: 4, name: , pci bus id: 0000:d1:00.0\n",
      "2023-04-25 22:00:19.600971: I tensorflow/core/common_runtime/gpu/gpu_device.cc:1613] Created device /device:GPU:5 with 63996 MB memory:  -> device: 5, name: , pci bus id: 0000:d6:00.0\n",
      "2023-04-25 22:00:19.601017: I tensorflow/core/common_runtime/gpu/gpu_device.cc:1"
     ]
    },
    {
     "data": {
      "text/plain": [
       "'/device:GPU:0'"
      ]
     },
     "execution_count": 44,
     "metadata": {},
     "output_type": "execute_result"
    },
    {
     "name": "stderr",
     "output_type": "stream",
     "text": [
      "613] Created device /device:GPU:6 with 63996 MB memory:  -> device: 6, name: , pci bus id: 0000:d9:00.0\n",
      "2023-04-25 22:00:19.601062: I tensorflow/core/common_runtime/gpu/gpu_device.cc:1613] Created device /device:GPU:7 with 63996 MB memory:  -> device: 7, name: , pci bus id: 0000:de:00.0\n"
     ]
    }
   ],
   "source": [
    "tf.test.gpu_device_name()"
   ]
  },
  {
   "cell_type": "code",
   "execution_count": 45,
   "id": "5d0b7658",
   "metadata": {
    "scrolled": true
   },
   "outputs": [
    {
     "ename": "RuntimeError",
     "evalue": "Visible devices cannot be modified after being initialized",
     "output_type": "error",
     "traceback": [
      "\u001b[0;31m---------------------------------------------------------------------------\u001b[0m",
      "\u001b[0;31mRuntimeError\u001b[0m                              Traceback (most recent call last)",
      "Cell \u001b[0;32mIn[45], line 1\u001b[0m\n\u001b[0;32m----> 1\u001b[0m \u001b[43mtf\u001b[49m\u001b[38;5;241;43m.\u001b[39;49m\u001b[43mconfig\u001b[49m\u001b[38;5;241;43m.\u001b[39;49m\u001b[43mset_visible_devices\u001b[49m\u001b[43m(\u001b[49m\u001b[43m[\u001b[49m\u001b[43m]\u001b[49m\u001b[43m,\u001b[49m\u001b[43m \u001b[49m\u001b[38;5;124;43m'\u001b[39;49m\u001b[38;5;124;43mGPU\u001b[39;49m\u001b[38;5;124;43m'\u001b[39;49m\u001b[43m)\u001b[49m\n",
      "File \u001b[0;32m/LUMI_TYKKY_KyB8utx/env1/lib/python3.9/site-packages/tensorflow/python/framework/config.py:528\u001b[0m, in \u001b[0;36mset_visible_devices\u001b[0;34m(devices, device_type)\u001b[0m\n\u001b[1;32m    495\u001b[0m \u001b[38;5;129m@tf_export\u001b[39m(\u001b[38;5;124m'\u001b[39m\u001b[38;5;124mconfig.set_visible_devices\u001b[39m\u001b[38;5;124m'\u001b[39m,\n\u001b[1;32m    496\u001b[0m            \u001b[38;5;124m'\u001b[39m\u001b[38;5;124mconfig.experimental.set_visible_devices\u001b[39m\u001b[38;5;124m'\u001b[39m)\n\u001b[1;32m    497\u001b[0m \u001b[38;5;129m@deprecation\u001b[39m\u001b[38;5;241m.\u001b[39mdeprecated_endpoints(\u001b[38;5;124m'\u001b[39m\u001b[38;5;124mconfig.experimental.set_visible_devices\u001b[39m\u001b[38;5;124m'\u001b[39m)\n\u001b[1;32m    498\u001b[0m \u001b[38;5;28;01mdef\u001b[39;00m \u001b[38;5;21mset_visible_devices\u001b[39m(devices, device_type\u001b[38;5;241m=\u001b[39m\u001b[38;5;28;01mNone\u001b[39;00m):\n\u001b[1;32m    499\u001b[0m \u001b[38;5;250m  \u001b[39m\u001b[38;5;124;03m\"\"\"Set the list of visible devices.\u001b[39;00m\n\u001b[1;32m    500\u001b[0m \n\u001b[1;32m    501\u001b[0m \u001b[38;5;124;03m  Specifies which `PhysicalDevice` objects are visible to the runtime.\u001b[39;00m\n\u001b[0;32m   (...)\u001b[0m\n\u001b[1;32m    526\u001b[0m \u001b[38;5;124;03m    RuntimeError: Runtime is already initialized.\u001b[39;00m\n\u001b[1;32m    527\u001b[0m \u001b[38;5;124;03m  \"\"\"\u001b[39;00m\n\u001b[0;32m--> 528\u001b[0m   \u001b[43mcontext\u001b[49m\u001b[38;5;241;43m.\u001b[39;49m\u001b[43mcontext\u001b[49m\u001b[43m(\u001b[49m\u001b[43m)\u001b[49m\u001b[38;5;241;43m.\u001b[39;49m\u001b[43mset_visible_devices\u001b[49m\u001b[43m(\u001b[49m\u001b[43mdevices\u001b[49m\u001b[43m,\u001b[49m\u001b[43m \u001b[49m\u001b[43mdevice_type\u001b[49m\u001b[43m)\u001b[49m\n",
      "File \u001b[0;32m/LUMI_TYKKY_KyB8utx/env1/lib/python3.9/site-packages/tensorflow/python/eager/context.py:1598\u001b[0m, in \u001b[0;36mContext.set_visible_devices\u001b[0;34m(self, devices, device_type)\u001b[0m\n\u001b[1;32m   1595\u001b[0m   \u001b[38;5;28;01mreturn\u001b[39;00m\n\u001b[1;32m   1597\u001b[0m \u001b[38;5;28;01mif\u001b[39;00m \u001b[38;5;28mself\u001b[39m\u001b[38;5;241m.\u001b[39m_context_handle \u001b[38;5;129;01mis\u001b[39;00m \u001b[38;5;129;01mnot\u001b[39;00m \u001b[38;5;28;01mNone\u001b[39;00m:\n\u001b[0;32m-> 1598\u001b[0m   \u001b[38;5;28;01mraise\u001b[39;00m \u001b[38;5;167;01mRuntimeError\u001b[39;00m(\n\u001b[1;32m   1599\u001b[0m       \u001b[38;5;124m\"\u001b[39m\u001b[38;5;124mVisible devices cannot be modified after being initialized\u001b[39m\u001b[38;5;124m\"\u001b[39m)\n\u001b[1;32m   1601\u001b[0m \u001b[38;5;28mself\u001b[39m\u001b[38;5;241m.\u001b[39m_visible_device_list \u001b[38;5;241m=\u001b[39m visible_device_list\n",
      "\u001b[0;31mRuntimeError\u001b[0m: Visible devices cannot be modified after being initialized"
     ]
    }
   ],
   "source": [
    "tf.config.set_visible_devices([], 'GPU')"
   ]
  },
  {
   "cell_type": "code",
   "execution_count": 49,
   "id": "3a43a8e2",
   "metadata": {},
   "outputs": [],
   "source": [
    "os.environ['CUDA_VISIBLE_DEVICES'] = '-1'"
   ]
  },
  {
   "cell_type": "code",
   "execution_count": 50,
   "id": "fb3222a6",
   "metadata": {
    "scrolled": true
   },
   "outputs": [
    {
     "name": "stdout",
     "output_type": "stream",
     "text": [
      "(None, None, 12, 20)\n",
      "X:  (32, 12, 1)\n",
      "y: (32, 20)\n",
      "Epoch 1/2\n"
     ]
    },
    {
     "name": "stderr",
     "output_type": "stream",
     "text": [
      "2023-04-25 22:01:23.072963: I tensorflow/core/common_runtime/gpu_fusion_pass.cc:507] ROCm Fusion is enabled.\n",
      "2023-04-25 22:01:23.086298: I tensorflow/core/common_runtime/gpu_fusion_pass.cc:507] ROCm Fusion is enabled.\n",
      "2023-04-25 22:01:23.092174: I tensorflow/core/common_runtime/gpu_fusion_pass.cc:507] ROCm Fusion is enabled.\n"
     ]
    },
    {
     "name": "stdout",
     "output_type": "stream",
     "text": [
      "X:  (32, 12, 1)\n",
      "y: (32, 20)\n",
      "X:  (32, 12, 1)\n",
      "y: (32, 20)\n"
     ]
    },
    {
     "name": "stderr",
     "output_type": "stream",
     "text": [
      "2023-04-25 22:01:23.578462: I tensorflow/core/common_runtime/gpu_fusion_pass.cc:507] ROCm Fusion is enabled.\n",
      "2023-04-25 22:01:23.585056: I tensorflow/core/common_runtime/gpu_fusion_pass.cc:507] ROCm Fusion is enabled.\n",
      "2023-04-25 22:01:23.587649: I tensorflow/core/common_runtime/gpu_fusion_pass.cc:507] ROCm Fusion is enabled.\n",
      "2023-04-25 22:01:23.589313: I tensorflow/core/common_runtime/gpu_fusion_pass.cc:507] ROCm Fusion is enabled.\n",
      "2023-04-25 22:01:23.607711: E tensorflow/compiler/xla/service/gpu/llvm_gpu_backend/gpu_backend_lib.cc:289] bitcode module is required by this HLO module but was not found at ./opencl.bc\n",
      "2023-04-25 22:01:23.607899: W tensorflow/core/framework/op_kernel.cc:1830] OP_REQUIRES failed at xla_ops.cc:446 : INTERNAL: bitcode module not found at ./opencl.bc\n",
      "2023-04-25 22:01:23.621416: E tensorflow/compiler/xla/service/gpu/llvm_gpu_backend/gpu_backend_lib.cc:289] bitcode module is required by this HLO module but was not found at ./opencl.bc\n",
      "2023-04-25 22:01:23.621575: W tensorflow/core/framework/op_kernel.cc:1830] OP_REQUIRES failed at xla_ops.cc:446 : INTERNAL: bitcode module not found at ./opencl.bc\n",
      "2023-04-25 22:01:23.635153: E tensorflow/compiler/xla/service/gpu/llvm_gpu_backend/gpu_backend_lib.cc:289] bitcode module is required by this HLO module but was not found at ./opencl.bc\n",
      "2023-04-25 22:01:23.635311: W tensorflow/core/framework/op_kernel.cc:1830] OP_REQUIRES failed at xla_ops.cc:446 : INTERNAL: bitcode module not found at ./opencl.bc\n",
      "2023-04-25 22:01:23.648935: E tensorflow/compiler/xla/service/gpu/llvm_gpu_backend/gpu_backend_lib.cc:289] bitcode module is required by this HLO module but was not found at ./opencl.bc\n",
      "2023-04-25 22:01:23.649092: W tensorflow/core/framework/op_kernel.cc:1830] OP_REQUIRES failed at xla_ops.cc:446 : INTERNAL: bitcode module not found at ./opencl.bc\n",
      "2023-04-25 22:01:23.662657: E tensorflow/compiler/xla/service/gpu/llvm_gpu_backend/gpu_backend_lib.cc:289] bitcode module is required by this HLO module but was not found at ./opencl.bc\n",
      "2023-04-25 22:01:23.662815: W tensorflow/core/framework/op_kernel.cc:1830] OP_REQUIRES failed at xla_ops.cc:446 : INTERNAL: bitcode module not found at ./opencl.bc\n",
      "2023-04-25 22:01:23.676487: E tensorflow/compiler/xla/service/gpu/llvm_gpu_backend/gpu_backend_lib.cc:289] bitcode module is required by this HLO module but was not found at ./opencl.bc\n",
      "2023-04-25 22:01:23.676647: W tensorflow/core/framework/op_kernel.cc:1830] OP_REQUIRES failed at xla_ops.cc:446 : INTERNAL: bitcode module not found at ./opencl.bc\n",
      "2023-04-25 22:01:23.690197: E tensorflow/compiler/xla/service/gpu/llvm_gpu_backend/gpu_backend_lib.cc:289] bitcode module is required by this HLO module but was not found at ./opencl.bc\n",
      "2023-04-25 22:01:23.690355: W tensorflow/core/framework/op_kernel.cc:1830] OP_REQUIRES failed at xla_ops.cc:446 : INTERNAL: bitcode module not found at ./opencl.bc\n",
      "2023-04-25 22:01:23.703970: E tensorflow/compiler/xla/service/gpu/llvm_gpu_backend/gpu_backend_lib.cc:289] bitcode module is required by this HLO module but was not found at ./opencl.bc\n",
      "2023-04-25 22:01:23.704130: W tensorflow/core/framework/op_kernel.cc:1830] OP_REQUIRES failed at xla_ops.cc:446 : INTERNAL: bitcode module not found at ./opencl.bc\n"
     ]
    },
    {
     "ename": "InternalError",
     "evalue": "Graph execution error:\n\nDetected at node 'StatefulPartitionedCall_6' defined at (most recent call last):\n    File \"/opt/cray/pe/python/3.9.12.1/lib/python3.9/runpy.py\", line 197, in _run_module_as_main\n      return _run_code(code, main_globals, None,\n    File \"/opt/cray/pe/python/3.9.12.1/lib/python3.9/runpy.py\", line 87, in _run_code\n      exec(code, run_globals)\n    File \"/LUMI_TYKKY_KyB8utx/env1/lib/python3.9/site-packages/ipykernel_launcher.py\", line 17, in <module>\n      app.launch_new_instance()\n    File \"/LUMI_TYKKY_KyB8utx/env1/lib/python3.9/site-packages/traitlets/config/application.py\", line 1043, in launch_instance\n      app.start()\n    File \"/LUMI_TYKKY_KyB8utx/env1/lib/python3.9/site-packages/ipykernel/kernelapp.py\", line 725, in start\n      self.io_loop.start()\n    File \"/LUMI_TYKKY_KyB8utx/env1/lib/python3.9/site-packages/tornado/platform/asyncio.py\", line 215, in start\n      self.asyncio_loop.run_forever()\n    File \"/opt/cray/pe/python/3.9.12.1/lib/python3.9/asyncio/base_events.py\", line 601, in run_forever\n      self._run_once()\n    File \"/opt/cray/pe/python/3.9.12.1/lib/python3.9/asyncio/base_events.py\", line 1905, in _run_once\n      handle._run()\n    File \"/opt/cray/pe/python/3.9.12.1/lib/python3.9/asyncio/events.py\", line 80, in _run\n      self._context.run(self._callback, *self._args)\n    File \"/LUMI_TYKKY_KyB8utx/env1/lib/python3.9/site-packages/ipykernel/kernelbase.py\", line 513, in dispatch_queue\n      await self.process_one()\n    File \"/LUMI_TYKKY_KyB8utx/env1/lib/python3.9/site-packages/ipykernel/kernelbase.py\", line 502, in process_one\n      await dispatch(*args)\n    File \"/LUMI_TYKKY_KyB8utx/env1/lib/python3.9/site-packages/ipykernel/kernelbase.py\", line 409, in dispatch_shell\n      await result\n    File \"/LUMI_TYKKY_KyB8utx/env1/lib/python3.9/site-packages/ipykernel/kernelbase.py\", line 729, in execute_request\n      reply_content = await reply_content\n    File \"/LUMI_TYKKY_KyB8utx/env1/lib/python3.9/site-packages/ipykernel/ipkernel.py\", line 422, in do_execute\n      res = shell.run_cell(\n    File \"/LUMI_TYKKY_KyB8utx/env1/lib/python3.9/site-packages/ipykernel/zmqshell.py\", line 540, in run_cell\n      return super().run_cell(*args, **kwargs)\n    File \"/LUMI_TYKKY_KyB8utx/env1/lib/python3.9/site-packages/IPython/core/interactiveshell.py\", line 3006, in run_cell\n      result = self._run_cell(\n    File \"/LUMI_TYKKY_KyB8utx/env1/lib/python3.9/site-packages/IPython/core/interactiveshell.py\", line 3061, in _run_cell\n      result = runner(coro)\n    File \"/LUMI_TYKKY_KyB8utx/env1/lib/python3.9/site-packages/IPython/core/async_helpers.py\", line 129, in _pseudo_sync_runner\n      coro.send(None)\n    File \"/LUMI_TYKKY_KyB8utx/env1/lib/python3.9/site-packages/IPython/core/interactiveshell.py\", line 3266, in run_cell_async\n      has_raised = await self.run_ast_nodes(code_ast.body, cell_name,\n    File \"/LUMI_TYKKY_KyB8utx/env1/lib/python3.9/site-packages/IPython/core/interactiveshell.py\", line 3445, in run_ast_nodes\n      if await self.run_code(code, result, async_=asy):\n    File \"/LUMI_TYKKY_KyB8utx/env1/lib/python3.9/site-packages/IPython/core/interactiveshell.py\", line 3505, in run_code\n      exec(code_obj, self.user_global_ns, self.user_ns)\n    File \"/tmp/ipykernel_39021/3719611976.py\", line 20, in <module>\n      model.fit(train_generator, epochs=epochs, validation_data=val_generator)\n    File \"/LUMI_TYKKY_KyB8utx/env1/lib/python3.9/site-packages/keras/utils/traceback_utils.py\", line 65, in error_handler\n      return fn(*args, **kwargs)\n    File \"/LUMI_TYKKY_KyB8utx/env1/lib/python3.9/site-packages/keras/engine/training.py\", line 1650, in fit\n      tmp_logs = self.train_function(iterator)\n    File \"/LUMI_TYKKY_KyB8utx/env1/lib/python3.9/site-packages/keras/engine/training.py\", line 1249, in train_function\n      return step_function(self, iterator)\n    File \"/LUMI_TYKKY_KyB8utx/env1/lib/python3.9/site-packages/keras/engine/training.py\", line 1233, in step_function\n      outputs = model.distribute_strategy.run(run_step, args=(data,))\n    File \"/LUMI_TYKKY_KyB8utx/env1/lib/python3.9/site-packages/keras/engine/training.py\", line 1222, in run_step\n      outputs = model.train_step(data)\n    File \"/LUMI_TYKKY_KyB8utx/env1/lib/python3.9/site-packages/keras/engine/training.py\", line 1027, in train_step\n      self.optimizer.minimize(loss, self.trainable_variables, tape=tape)\n    File \"/LUMI_TYKKY_KyB8utx/env1/lib/python3.9/site-packages/keras/optimizers/optimizer_experimental/optimizer.py\", line 527, in minimize\n      self.apply_gradients(grads_and_vars)\n    File \"/LUMI_TYKKY_KyB8utx/env1/lib/python3.9/site-packages/keras/optimizers/optimizer_experimental/optimizer.py\", line 1140, in apply_gradients\n      return super().apply_gradients(grads_and_vars, name=name)\n    File \"/LUMI_TYKKY_KyB8utx/env1/lib/python3.9/site-packages/keras/optimizers/optimizer_experimental/optimizer.py\", line 634, in apply_gradients\n      iteration = self._internal_apply_gradients(grads_and_vars)\n    File \"/LUMI_TYKKY_KyB8utx/env1/lib/python3.9/site-packages/keras/optimizers/optimizer_experimental/optimizer.py\", line 1166, in _internal_apply_gradients\n      return tf.__internal__.distribute.interim.maybe_merge_call(\n    File \"/LUMI_TYKKY_KyB8utx/env1/lib/python3.9/site-packages/keras/optimizers/optimizer_experimental/optimizer.py\", line 1216, in _distributed_apply_gradients_fn\n      distribution.extended.update(\n    File \"/LUMI_TYKKY_KyB8utx/env1/lib/python3.9/site-packages/keras/optimizers/optimizer_experimental/optimizer.py\", line 1211, in apply_grad_to_update_var\n      return self._update_step_xla(grad, var, id(self._var_key(var)))\nNode: 'StatefulPartitionedCall_6'\nbitcode module not found at ./opencl.bc\n\t [[{{node StatefulPartitionedCall_6}}]] [Op:__inference_train_function_18131]",
     "output_type": "error",
     "traceback": [
      "\u001b[0;31m---------------------------------------------------------------------------\u001b[0m",
      "\u001b[0;31mInternalError\u001b[0m                             Traceback (most recent call last)",
      "Cell \u001b[0;32mIn[50], line 20\u001b[0m\n\u001b[1;32m     18\u001b[0m \u001b[38;5;66;03m# Train the model\u001b[39;00m\n\u001b[1;32m     19\u001b[0m epochs \u001b[38;5;241m=\u001b[39m \u001b[38;5;241m2\u001b[39m  \u001b[38;5;66;03m# 10\u001b[39;00m\n\u001b[0;32m---> 20\u001b[0m \u001b[43mmodel\u001b[49m\u001b[38;5;241;43m.\u001b[39;49m\u001b[43mfit\u001b[49m\u001b[43m(\u001b[49m\u001b[43mtrain_generator\u001b[49m\u001b[43m,\u001b[49m\u001b[43m \u001b[49m\u001b[43mepochs\u001b[49m\u001b[38;5;241;43m=\u001b[39;49m\u001b[43mepochs\u001b[49m\u001b[43m,\u001b[49m\u001b[43m \u001b[49m\u001b[43mvalidation_data\u001b[49m\u001b[38;5;241;43m=\u001b[39;49m\u001b[43mval_generator\u001b[49m\u001b[43m)\u001b[49m\n",
      "File \u001b[0;32m/LUMI_TYKKY_KyB8utx/env1/lib/python3.9/site-packages/keras/utils/traceback_utils.py:70\u001b[0m, in \u001b[0;36mfilter_traceback.<locals>.error_handler\u001b[0;34m(*args, **kwargs)\u001b[0m\n\u001b[1;32m     67\u001b[0m     filtered_tb \u001b[38;5;241m=\u001b[39m _process_traceback_frames(e\u001b[38;5;241m.\u001b[39m__traceback__)\n\u001b[1;32m     68\u001b[0m     \u001b[38;5;66;03m# To get the full stack trace, call:\u001b[39;00m\n\u001b[1;32m     69\u001b[0m     \u001b[38;5;66;03m# `tf.debugging.disable_traceback_filtering()`\u001b[39;00m\n\u001b[0;32m---> 70\u001b[0m     \u001b[38;5;28;01mraise\u001b[39;00m e\u001b[38;5;241m.\u001b[39mwith_traceback(filtered_tb) \u001b[38;5;28;01mfrom\u001b[39;00m \u001b[38;5;28;01mNone\u001b[39;00m\n\u001b[1;32m     71\u001b[0m \u001b[38;5;28;01mfinally\u001b[39;00m:\n\u001b[1;32m     72\u001b[0m     \u001b[38;5;28;01mdel\u001b[39;00m filtered_tb\n",
      "File \u001b[0;32m/LUMI_TYKKY_KyB8utx/env1/lib/python3.9/site-packages/tensorflow/python/eager/execute.py:52\u001b[0m, in \u001b[0;36mquick_execute\u001b[0;34m(op_name, num_outputs, inputs, attrs, ctx, name)\u001b[0m\n\u001b[1;32m     50\u001b[0m \u001b[38;5;28;01mtry\u001b[39;00m:\n\u001b[1;32m     51\u001b[0m   ctx\u001b[38;5;241m.\u001b[39mensure_initialized()\n\u001b[0;32m---> 52\u001b[0m   tensors \u001b[38;5;241m=\u001b[39m pywrap_tfe\u001b[38;5;241m.\u001b[39mTFE_Py_Execute(ctx\u001b[38;5;241m.\u001b[39m_handle, device_name, op_name,\n\u001b[1;32m     53\u001b[0m                                       inputs, attrs, num_outputs)\n\u001b[1;32m     54\u001b[0m \u001b[38;5;28;01mexcept\u001b[39;00m core\u001b[38;5;241m.\u001b[39m_NotOkStatusException \u001b[38;5;28;01mas\u001b[39;00m e:\n\u001b[1;32m     55\u001b[0m   \u001b[38;5;28;01mif\u001b[39;00m name \u001b[38;5;129;01mis\u001b[39;00m \u001b[38;5;129;01mnot\u001b[39;00m \u001b[38;5;28;01mNone\u001b[39;00m:\n",
      "\u001b[0;31mInternalError\u001b[0m: Graph execution error:\n\nDetected at node 'StatefulPartitionedCall_6' defined at (most recent call last):\n    File \"/opt/cray/pe/python/3.9.12.1/lib/python3.9/runpy.py\", line 197, in _run_module_as_main\n      return _run_code(code, main_globals, None,\n    File \"/opt/cray/pe/python/3.9.12.1/lib/python3.9/runpy.py\", line 87, in _run_code\n      exec(code, run_globals)\n    File \"/LUMI_TYKKY_KyB8utx/env1/lib/python3.9/site-packages/ipykernel_launcher.py\", line 17, in <module>\n      app.launch_new_instance()\n    File \"/LUMI_TYKKY_KyB8utx/env1/lib/python3.9/site-packages/traitlets/config/application.py\", line 1043, in launch_instance\n      app.start()\n    File \"/LUMI_TYKKY_KyB8utx/env1/lib/python3.9/site-packages/ipykernel/kernelapp.py\", line 725, in start\n      self.io_loop.start()\n    File \"/LUMI_TYKKY_KyB8utx/env1/lib/python3.9/site-packages/tornado/platform/asyncio.py\", line 215, in start\n      self.asyncio_loop.run_forever()\n    File \"/opt/cray/pe/python/3.9.12.1/lib/python3.9/asyncio/base_events.py\", line 601, in run_forever\n      self._run_once()\n    File \"/opt/cray/pe/python/3.9.12.1/lib/python3.9/asyncio/base_events.py\", line 1905, in _run_once\n      handle._run()\n    File \"/opt/cray/pe/python/3.9.12.1/lib/python3.9/asyncio/events.py\", line 80, in _run\n      self._context.run(self._callback, *self._args)\n    File \"/LUMI_TYKKY_KyB8utx/env1/lib/python3.9/site-packages/ipykernel/kernelbase.py\", line 513, in dispatch_queue\n      await self.process_one()\n    File \"/LUMI_TYKKY_KyB8utx/env1/lib/python3.9/site-packages/ipykernel/kernelbase.py\", line 502, in process_one\n      await dispatch(*args)\n    File \"/LUMI_TYKKY_KyB8utx/env1/lib/python3.9/site-packages/ipykernel/kernelbase.py\", line 409, in dispatch_shell\n      await result\n    File \"/LUMI_TYKKY_KyB8utx/env1/lib/python3.9/site-packages/ipykernel/kernelbase.py\", line 729, in execute_request\n      reply_content = await reply_content\n    File \"/LUMI_TYKKY_KyB8utx/env1/lib/python3.9/site-packages/ipykernel/ipkernel.py\", line 422, in do_execute\n      res = shell.run_cell(\n    File \"/LUMI_TYKKY_KyB8utx/env1/lib/python3.9/site-packages/ipykernel/zmqshell.py\", line 540, in run_cell\n      return super().run_cell(*args, **kwargs)\n    File \"/LUMI_TYKKY_KyB8utx/env1/lib/python3.9/site-packages/IPython/core/interactiveshell.py\", line 3006, in run_cell\n      result = self._run_cell(\n    File \"/LUMI_TYKKY_KyB8utx/env1/lib/python3.9/site-packages/IPython/core/interactiveshell.py\", line 3061, in _run_cell\n      result = runner(coro)\n    File \"/LUMI_TYKKY_KyB8utx/env1/lib/python3.9/site-packages/IPython/core/async_helpers.py\", line 129, in _pseudo_sync_runner\n      coro.send(None)\n    File \"/LUMI_TYKKY_KyB8utx/env1/lib/python3.9/site-packages/IPython/core/interactiveshell.py\", line 3266, in run_cell_async\n      has_raised = await self.run_ast_nodes(code_ast.body, cell_name,\n    File \"/LUMI_TYKKY_KyB8utx/env1/lib/python3.9/site-packages/IPython/core/interactiveshell.py\", line 3445, in run_ast_nodes\n      if await self.run_code(code, result, async_=asy):\n    File \"/LUMI_TYKKY_KyB8utx/env1/lib/python3.9/site-packages/IPython/core/interactiveshell.py\", line 3505, in run_code\n      exec(code_obj, self.user_global_ns, self.user_ns)\n    File \"/tmp/ipykernel_39021/3719611976.py\", line 20, in <module>\n      model.fit(train_generator, epochs=epochs, validation_data=val_generator)\n    File \"/LUMI_TYKKY_KyB8utx/env1/lib/python3.9/site-packages/keras/utils/traceback_utils.py\", line 65, in error_handler\n      return fn(*args, **kwargs)\n    File \"/LUMI_TYKKY_KyB8utx/env1/lib/python3.9/site-packages/keras/engine/training.py\", line 1650, in fit\n      tmp_logs = self.train_function(iterator)\n    File \"/LUMI_TYKKY_KyB8utx/env1/lib/python3.9/site-packages/keras/engine/training.py\", line 1249, in train_function\n      return step_function(self, iterator)\n    File \"/LUMI_TYKKY_KyB8utx/env1/lib/python3.9/site-packages/keras/engine/training.py\", line 1233, in step_function\n      outputs = model.distribute_strategy.run(run_step, args=(data,))\n    File \"/LUMI_TYKKY_KyB8utx/env1/lib/python3.9/site-packages/keras/engine/training.py\", line 1222, in run_step\n      outputs = model.train_step(data)\n    File \"/LUMI_TYKKY_KyB8utx/env1/lib/python3.9/site-packages/keras/engine/training.py\", line 1027, in train_step\n      self.optimizer.minimize(loss, self.trainable_variables, tape=tape)\n    File \"/LUMI_TYKKY_KyB8utx/env1/lib/python3.9/site-packages/keras/optimizers/optimizer_experimental/optimizer.py\", line 527, in minimize\n      self.apply_gradients(grads_and_vars)\n    File \"/LUMI_TYKKY_KyB8utx/env1/lib/python3.9/site-packages/keras/optimizers/optimizer_experimental/optimizer.py\", line 1140, in apply_gradients\n      return super().apply_gradients(grads_and_vars, name=name)\n    File \"/LUMI_TYKKY_KyB8utx/env1/lib/python3.9/site-packages/keras/optimizers/optimizer_experimental/optimizer.py\", line 634, in apply_gradients\n      iteration = self._internal_apply_gradients(grads_and_vars)\n    File \"/LUMI_TYKKY_KyB8utx/env1/lib/python3.9/site-packages/keras/optimizers/optimizer_experimental/optimizer.py\", line 1166, in _internal_apply_gradients\n      return tf.__internal__.distribute.interim.maybe_merge_call(\n    File \"/LUMI_TYKKY_KyB8utx/env1/lib/python3.9/site-packages/keras/optimizers/optimizer_experimental/optimizer.py\", line 1216, in _distributed_apply_gradients_fn\n      distribution.extended.update(\n    File \"/LUMI_TYKKY_KyB8utx/env1/lib/python3.9/site-packages/keras/optimizers/optimizer_experimental/optimizer.py\", line 1211, in apply_grad_to_update_var\n      return self._update_step_xla(grad, var, id(self._var_key(var)))\nNode: 'StatefulPartitionedCall_6'\nbitcode module not found at ./opencl.bc\n\t [[{{node StatefulPartitionedCall_6}}]] [Op:__inference_train_function_18131]"
     ]
    }
   ],
   "source": [
    "\n",
    "# Split the data into training and validation sets\n",
    "split_idx = int(0.8 * num_samples)\n",
    "train_lr = lr_estimations[:split_idx]\n",
    "train_gt = ground_truth_distributions[:split_idx]\n",
    "val_lr = lr_estimations[split_idx:]\n",
    "val_gt = ground_truth_distributions[split_idx:]\n",
    "\n",
    "# Create a data generator for the training set\n",
    "batch_size = 32\n",
    "train_generator = DataGenerator(train_lr, train_gt, batch_size=batch_size)\n",
    "\n",
    "# Create a data generator for the validation set\n",
    "val_generator = DataGenerator(val_lr, val_gt, batch_size=batch_size)\n",
    "\n",
    "# Build the model\n",
    "model = build_model(num_features, num_obs)\n",
    "\n",
    "# Train the model\n",
    "epochs = 2  # 10\n",
    "model.fit(train_generator, epochs=epochs, validation_data=val_generator)"
   ]
  },
  {
   "cell_type": "code",
   "execution_count": 3,
   "id": "005329b9",
   "metadata": {},
   "outputs": [
    {
     "name": "stderr",
     "output_type": "stream",
     "text": [
      "2023-04-25 21:25:54.746546: I tensorflow/core/platform/cpu_feature_guard.cc:193] This TensorFlow binary is optimized with oneAPI Deep Neural Network Library (oneDNN) to use the following CPU instructions in performance-critical operations:  SSE3 SSE4.1 SSE4.2 AVX AVX2 FMA\n",
      "To enable them in other operations, rebuild TensorFlow with the appropriate compiler flags.\n"
     ]
    }
   ],
   "source": [
    "from tensorflow.keras.layers import Flatten, Dense, Activation, Reshape, Concatenate\n",
    "from tensorflow.keras.layers import Input, Conv2D, LeakyReLU\n",
    "from tensorflow.keras.models import Model\n",
    "\n",
    "\n",
    "# # Define the generator model\n",
    "# def build_generator():\n",
    "#     input_lr = Input(shape=(None, None, 1))\n",
    "#     input_in_situ = Input(shape=(None, None, 1))\n",
    "\n",
    "#     # Encode the low-resolution input\n",
    "#     x = Conv2D(64, (3, 3), padding='same')(input_lr)\n",
    "#     x = LeakyReLU(alpha=0.2)(x)\n",
    "\n",
    "#     # Combine the low-resolution input and in-situ measurements\n",
    "#     combined = Concatenate()([x])  # , input_in_situ])\n",
    "\n",
    "#     # Decode the combined input to generate the output distribution\n",
    "#     x = Conv2D(64, (3, 3), padding='same')(combined)\n",
    "#     x = LeakyReLU(alpha=0.2)(x)\n",
    "#     x = Conv2D(64, (3, 3), padding='same')(x)\n",
    "#     x = LeakyReLU(alpha=0.2)(x)\n",
    "#     x = Conv2D(1, (3, 3), padding='same')(x)\n",
    "#     output_hr = Activation('softmax')(x)\n",
    "\n",
    "#     # Reshape the output to be a 1D probability distribution\n",
    "#     output_hr = Reshape((-1,))(output_hr)\n",
    "\n",
    "#     generator = Model(inputs=[input_lr], outputs=output_hr)  # , input_in_situ\n",
    "\n",
    "#     return generator"
   ]
  },
  {
   "cell_type": "raw",
   "id": "5e353a35",
   "metadata": {},
   "source": [
    "import numpy as np\n",
    "from tensorflow.keras.utils import Sequence\n",
    "\n",
    "class DataGenerator(Sequence):\n",
    "    \n",
    "    def __init__(self, lr_estimations, ground_truth_distributions, batch_size=32, shuffle=True):\n",
    "        ''' in_situ_measurements,\n",
    "        '''\n",
    "        self.lr_estimations = lr_estimations\n",
    "#         self.in_situ_measurements = in_situ_measurements\n",
    "        self.ground_truth_distributions = ground_truth_distributions\n",
    "        self.batch_size = batch_size\n",
    "        self.shuffle = shuffle\n",
    "        self.on_epoch_end()\n",
    "\n",
    "    def __len__(self):\n",
    "        return int(np.ceil(len(self.lr_estimations) / self.batch_size))\n",
    "\n",
    "    def __getitem__(self, idx):\n",
    "        indexes = self.indexes[idx*self.batch_size:(idx+1)*self.batch_size]\n",
    "        X_lr = self.lr_estimations[indexes]\n",
    "#         X_in_situ = self.in_situ_measurements[indexes]\n",
    "        y = self.ground_truth_distributions[indexes]\n",
    "        return [X_lr], y\n",
    "#         return [X_lr, X_in_situ], y\n",
    "\n",
    "\n",
    "    def on_epoch_end(self):\n",
    "        self.indexes = np.arange(len(self.lr_estimations))\n",
    "        if self.shuffle == True:\n",
    "            np.random.shuffle(self.indexes)\n"
   ]
  },
  {
   "cell_type": "code",
   "execution_count": 4,
   "id": "223d825c",
   "metadata": {
    "scrolled": true
   },
   "outputs": [
    {
     "name": "stderr",
     "output_type": "stream",
     "text": [
      "2023-04-25 21:17:00.312148: E tensorflow/compiler/xla/stream_executor/rocm/rocm_driver.cc:302] failed call to hipInit: HIP_ERROR_InvalidDevice\n",
      "2023-04-25 21:17:00.312192: I tensorflow/compiler/xla/stream_executor/rocm/rocm_diagnostics.cc:112] retrieving ROCM diagnostic information for host: uan01\n",
      "2023-04-25 21:17:00.312204: I tensorflow/compiler/xla/stream_executor/rocm/rocm_diagnostics.cc:119] hostname: uan01\n",
      "2023-04-25 21:17:00.312292: I tensorflow/compiler/xla/stream_executor/rocm/rocm_diagnostics.cc:142] librocm reported version is: NOT_FOUND: was unable to find librocm.so DSO loaded into this program\n",
      "2023-04-25 21:17:00.312304: I tensorflow/compiler/xla/stream_executor/rocm/rocm_diagnostics.cc:146] kernel reported version is: UNIMPLEMENTED: kernel reported driver version not implemented\n",
      "2023-04-25 21:17:00.312570: I tensorflow/core/platform/cpu_feature_guard.cc:193] This TensorFlow binary is optimized with oneAPI Deep Neural Network Library (oneDNN) to use the following CPU instructions in performance-critical operations:  SSE3 SSE4.1 SSE4.2 AVX AVX2 FMA\n",
      "To enable them in other operations, rebuild TensorFlow with the appropriate compiler flags.\n",
      "2023-04-25 21:17:00.413440: I tensorflow/core/common_runtime/gpu_fusion_pass.cc:507] ROCm Fusion is enabled.\n",
      "2023-04-25 21:17:00.415162: I tensorflow/core/common_runtime/gpu_fusion_pass.cc:507] ROCm Fusion is enabled.\n",
      "2023-04-25 21:17:00.416853: I tensorflow/core/common_runtime/gpu_fusion_pass.cc:507] ROCm Fusion is enabled.\n",
      "2023-04-25 21:17:00.418205: I tensorflow/core/common_runtime/gpu_fusion_pass.cc:507] ROCm Fusion is enabled.\n",
      "2023-04-25 21:17:00.419994: I tensorflow/core/common_runtime/gpu_fusion_pass.cc:507] ROCm Fusion is enabled.\n",
      "2023-04-25 21:17:00.421236: I tensorflow/core/common_runtime/gpu_fusion_pass.cc:507] ROCm Fusion is enabled.\n",
      "2023-04-25 21:17:00.422436: I tensorflow/core/common_runtime/gpu_fusion_pass.cc:507] ROCm Fusion is enabled.\n",
      "2023-04-25 21:17:00.423674: I tensorflow/core/common_runtime/gpu_fusion_pass.cc:507] ROCm Fusion is enabled.\n",
      "2023-04-25 21:17:00.424978: I tensorflow/core/common_runtime/gpu_fusion_pass.cc:507] ROCm Fusion is enabled.\n",
      "2023-04-25 21:17:00.427325: I tensorflow/core/common_runtime/gpu_fusion_pass.cc:507] ROCm Fusion is enabled.\n",
      "2023-04-25 21:17:00.428493: I tensorflow/core/common_runtime/gpu_fusion_pass.cc:507] ROCm Fusion is enabled.\n",
      "2023-04-25 21:17:00.429631: I tensorflow/core/common_runtime/gpu_fusion_pass.cc:507] ROCm Fusion is enabled.\n",
      "2023-04-25 21:17:00.449592: I tensorflow/core/common_runtime/gpu_fusion_pass.cc:507] ROCm Fusion is enabled.\n",
      "2023-04-25 21:17:00.450788: I tensorflow/core/common_runtime/gpu_fusion_pass.cc:507] ROCm Fusion is enabled.\n",
      "2023-04-25 21:17:00.478107: I tensorflow/core/common_runtime/gpu_fusion_pass.cc:507] ROCm Fusion is enabled.\n",
      "2023-04-25 21:17:00.479281: I tensorflow/core/common_runtime/gpu_fusion_pass.cc:507] ROCm Fusion is enabled.\n",
      "2023-04-25 21:17:00.480971: I tensorflow/core/common_runtime/gpu_fusion_pass.cc:507] ROCm Fusion is enabled.\n",
      "2023-04-25 21:17:00.482252: I tensorflow/core/common_runtime/gpu_fusion_pass.cc:507] ROCm Fusion is enabled.\n",
      "2023-04-25 21:17:00.500381: I tensorflow/core/common_runtime/gpu_fusion_pass.cc:507] ROCm Fusion is enabled.\n",
      "2023-04-25 21:17:00.501443: I tensorflow/core/common_runtime/gpu_fusion_pass.cc:507] ROCm Fusion is enabled.\n",
      "2023-04-25 21:17:00.502545: I tensorflow/core/common_runtime/gpu_fusion_pass.cc:507] ROCm Fusion is enabled.\n",
      "2023-04-25 21:17:00.507712: I tensorflow/core/common_runtime/gpu_fusion_pass.cc:507] ROCm Fusion is enabled.\n",
      "2023-04-25 21:17:00.508828: I tensorflow/core/common_runtime/gpu_fusion_pass.cc:507] ROCm Fusion is enabled.\n",
      "2023-04-25 21:17:00.520117: I tensorflow/core/common_runtime/gpu_fusion_pass.cc:507] ROCm Fusion is enabled.\n",
      "2023-04-25 21:17:00.521637: I tensorflow/core/common_runtime/gpu_fusion_pass.cc:507] ROCm Fusion is enabled.\n",
      "2023-04-25 21:17:00.522700: I tensorflow/core/common_runtime/gpu_fusion_pass.cc:507] ROCm Fusion is enabled.\n",
      "2023-04-25 21:17:00.575855: I tensorflow/core/common_runtime/gpu_fusion_pass.cc:507] ROCm Fusion is enabled.\n",
      "2023-04-25 21:17:00.577143: I tensorflow/core/common_runtime/gpu_fusion_pass.cc:507] ROCm Fusion is enabled.\n"
     ]
    },
    {
     "ename": "ValueError",
     "evalue": "in user code:\n\n    File \"/LUMI_TYKKY_KyB8utx/env1/lib/python3.9/site-packages/keras/engine/training.py\", line 1249, in train_function  *\n        return step_function(self, iterator)\n    File \"/LUMI_TYKKY_KyB8utx/env1/lib/python3.9/site-packages/keras/engine/training.py\", line 1233, in step_function  **\n        outputs = model.distribute_strategy.run(run_step, args=(data,))\n    File \"/LUMI_TYKKY_KyB8utx/env1/lib/python3.9/site-packages/keras/engine/training.py\", line 1222, in run_step  **\n        outputs = model.train_step(data)\n    File \"/LUMI_TYKKY_KyB8utx/env1/lib/python3.9/site-packages/keras/engine/training.py\", line 1024, in train_step\n        loss = self.compute_loss(x, y, y_pred, sample_weight)\n    File \"/LUMI_TYKKY_KyB8utx/env1/lib/python3.9/site-packages/keras/engine/training.py\", line 1082, in compute_loss\n        return self.compiled_loss(\n    File \"/LUMI_TYKKY_KyB8utx/env1/lib/python3.9/site-packages/keras/engine/compile_utils.py\", line 265, in __call__\n        loss_value = loss_obj(y_t, y_p, sample_weight=sw)\n    File \"/LUMI_TYKKY_KyB8utx/env1/lib/python3.9/site-packages/keras/losses.py\", line 152, in __call__\n        losses = call_fn(y_true, y_pred)\n    File \"/LUMI_TYKKY_KyB8utx/env1/lib/python3.9/site-packages/keras/losses.py\", line 284, in call  **\n        return ag_fn(y_true, y_pred, **self._fn_kwargs)\n    File \"/LUMI_TYKKY_KyB8utx/env1/lib/python3.9/site-packages/keras/losses.py\", line 1500, in mean_squared_error\n        return backend.mean(tf.math.squared_difference(y_pred, y_true), axis=-1)\n\n    ValueError: Dimensions must be equal, but are 10 and 100 for '{{node mean_squared_error/SquaredDifference}} = SquaredDifference[T=DT_FLOAT](model/reshape/Reshape, IteratorGetNext:1)' with input shapes: [32,10], [32,100].\n",
     "output_type": "error",
     "traceback": [
      "\u001b[0;31m---------------------------------------------------------------------------\u001b[0m",
      "\u001b[0;31mValueError\u001b[0m                                Traceback (most recent call last)",
      "Cell \u001b[0;32mIn[4], line 14\u001b[0m\n\u001b[1;32m     11\u001b[0m \u001b[38;5;28;01mfor\u001b[39;00m epoch \u001b[38;5;129;01min\u001b[39;00m \u001b[38;5;28mrange\u001b[39m(num_epochs):\n\u001b[1;32m     12\u001b[0m     \u001b[38;5;28;01mfor\u001b[39;00m batch_index, (lr_estimation_batch, ground_truth_batch) \u001b[38;5;129;01min\u001b[39;00m \u001b[38;5;28menumerate\u001b[39m(data_loader):  \u001b[38;5;66;03m# in_situ_batch, \u001b[39;00m\n\u001b[1;32m     13\u001b[0m         \u001b[38;5;66;03m# Train the generator\u001b[39;00m\n\u001b[0;32m---> 14\u001b[0m         generator_loss \u001b[38;5;241m=\u001b[39m \u001b[43mgenerator\u001b[49m\u001b[38;5;241;43m.\u001b[39;49m\u001b[43mtrain_on_batch\u001b[49m\u001b[43m(\u001b[49m\u001b[43m[\u001b[49m\u001b[43mlr_estimation_batch\u001b[49m\u001b[43m]\u001b[49m\u001b[43m,\u001b[49m\u001b[43m \u001b[49m\u001b[43mground_truth_batch\u001b[49m\u001b[43m)\u001b[49m\n\u001b[1;32m     15\u001b[0m \u001b[38;5;66;03m#         generator_loss = generator.train_on_batch([lr_estimation_batch, in_situ_batch], ground_truth_batch)\u001b[39;00m\n\u001b[1;32m     16\u001b[0m         \n\u001b[1;32m     17\u001b[0m \n\u001b[1;32m     18\u001b[0m         \u001b[38;5;66;03m# Print the loss value\u001b[39;00m\n\u001b[1;32m     19\u001b[0m         \u001b[38;5;28mprint\u001b[39m(\u001b[38;5;124m'\u001b[39m\u001b[38;5;124mEpoch \u001b[39m\u001b[38;5;132;01m{}\u001b[39;00m\u001b[38;5;124m Batch \u001b[39m\u001b[38;5;132;01m{}\u001b[39;00m\u001b[38;5;124m: G loss = \u001b[39m\u001b[38;5;132;01m{}\u001b[39;00m\u001b[38;5;124m'\u001b[39m\u001b[38;5;241m.\u001b[39mformat(epoch, batch_index, generator_loss))\n",
      "File \u001b[0;32m/LUMI_TYKKY_KyB8utx/env1/lib/python3.9/site-packages/keras/engine/training.py:2478\u001b[0m, in \u001b[0;36mModel.train_on_batch\u001b[0;34m(self, x, y, sample_weight, class_weight, reset_metrics, return_dict)\u001b[0m\n\u001b[1;32m   2474\u001b[0m     iterator \u001b[38;5;241m=\u001b[39m data_adapter\u001b[38;5;241m.\u001b[39msingle_batch_iterator(\n\u001b[1;32m   2475\u001b[0m         \u001b[38;5;28mself\u001b[39m\u001b[38;5;241m.\u001b[39mdistribute_strategy, x, y, sample_weight, class_weight\n\u001b[1;32m   2476\u001b[0m     )\n\u001b[1;32m   2477\u001b[0m     \u001b[38;5;28mself\u001b[39m\u001b[38;5;241m.\u001b[39mtrain_function \u001b[38;5;241m=\u001b[39m \u001b[38;5;28mself\u001b[39m\u001b[38;5;241m.\u001b[39mmake_train_function()\n\u001b[0;32m-> 2478\u001b[0m     logs \u001b[38;5;241m=\u001b[39m \u001b[38;5;28;43mself\u001b[39;49m\u001b[38;5;241;43m.\u001b[39;49m\u001b[43mtrain_function\u001b[49m\u001b[43m(\u001b[49m\u001b[43miterator\u001b[49m\u001b[43m)\u001b[49m\n\u001b[1;32m   2480\u001b[0m logs \u001b[38;5;241m=\u001b[39m tf_utils\u001b[38;5;241m.\u001b[39msync_to_numpy_or_python_type(logs)\n\u001b[1;32m   2481\u001b[0m \u001b[38;5;28;01mif\u001b[39;00m return_dict:\n",
      "File \u001b[0;32m/LUMI_TYKKY_KyB8utx/env1/lib/python3.9/site-packages/tensorflow/python/util/traceback_utils.py:153\u001b[0m, in \u001b[0;36mfilter_traceback.<locals>.error_handler\u001b[0;34m(*args, **kwargs)\u001b[0m\n\u001b[1;32m    151\u001b[0m \u001b[38;5;28;01mexcept\u001b[39;00m \u001b[38;5;167;01mException\u001b[39;00m \u001b[38;5;28;01mas\u001b[39;00m e:\n\u001b[1;32m    152\u001b[0m   filtered_tb \u001b[38;5;241m=\u001b[39m _process_traceback_frames(e\u001b[38;5;241m.\u001b[39m__traceback__)\n\u001b[0;32m--> 153\u001b[0m   \u001b[38;5;28;01mraise\u001b[39;00m e\u001b[38;5;241m.\u001b[39mwith_traceback(filtered_tb) \u001b[38;5;28;01mfrom\u001b[39;00m \u001b[38;5;28;01mNone\u001b[39;00m\n\u001b[1;32m    154\u001b[0m \u001b[38;5;28;01mfinally\u001b[39;00m:\n\u001b[1;32m    155\u001b[0m   \u001b[38;5;28;01mdel\u001b[39;00m filtered_tb\n",
      "File \u001b[0;32m/tmp/__autograph_generated_file2n4c0t1z.py:15\u001b[0m, in \u001b[0;36mouter_factory.<locals>.inner_factory.<locals>.tf__train_function\u001b[0;34m(iterator)\u001b[0m\n\u001b[1;32m     13\u001b[0m \u001b[38;5;28;01mtry\u001b[39;00m:\n\u001b[1;32m     14\u001b[0m     do_return \u001b[38;5;241m=\u001b[39m \u001b[38;5;28;01mTrue\u001b[39;00m\n\u001b[0;32m---> 15\u001b[0m     retval_ \u001b[38;5;241m=\u001b[39m ag__\u001b[38;5;241m.\u001b[39mconverted_call(ag__\u001b[38;5;241m.\u001b[39mld(step_function), (ag__\u001b[38;5;241m.\u001b[39mld(\u001b[38;5;28mself\u001b[39m), ag__\u001b[38;5;241m.\u001b[39mld(iterator)), \u001b[38;5;28;01mNone\u001b[39;00m, fscope)\n\u001b[1;32m     16\u001b[0m \u001b[38;5;28;01mexcept\u001b[39;00m:\n\u001b[1;32m     17\u001b[0m     do_return \u001b[38;5;241m=\u001b[39m \u001b[38;5;28;01mFalse\u001b[39;00m\n",
      "File \u001b[0;32m/LUMI_TYKKY_KyB8utx/env1/lib/python3.9/site-packages/keras/engine/training.py:1233\u001b[0m, in \u001b[0;36mModel.make_train_function.<locals>.step_function\u001b[0;34m(model, iterator)\u001b[0m\n\u001b[1;32m   1229\u001b[0m     run_step \u001b[38;5;241m=\u001b[39m tf\u001b[38;5;241m.\u001b[39mfunction(\n\u001b[1;32m   1230\u001b[0m         run_step, jit_compile\u001b[38;5;241m=\u001b[39m\u001b[38;5;28;01mTrue\u001b[39;00m, reduce_retracing\u001b[38;5;241m=\u001b[39m\u001b[38;5;28;01mTrue\u001b[39;00m\n\u001b[1;32m   1231\u001b[0m     )\n\u001b[1;32m   1232\u001b[0m data \u001b[38;5;241m=\u001b[39m \u001b[38;5;28mnext\u001b[39m(iterator)\n\u001b[0;32m-> 1233\u001b[0m outputs \u001b[38;5;241m=\u001b[39m \u001b[43mmodel\u001b[49m\u001b[38;5;241;43m.\u001b[39;49m\u001b[43mdistribute_strategy\u001b[49m\u001b[38;5;241;43m.\u001b[39;49m\u001b[43mrun\u001b[49m\u001b[43m(\u001b[49m\u001b[43mrun_step\u001b[49m\u001b[43m,\u001b[49m\u001b[43m \u001b[49m\u001b[43margs\u001b[49m\u001b[38;5;241;43m=\u001b[39;49m\u001b[43m(\u001b[49m\u001b[43mdata\u001b[49m\u001b[43m,\u001b[49m\u001b[43m)\u001b[49m\u001b[43m)\u001b[49m\n\u001b[1;32m   1234\u001b[0m outputs \u001b[38;5;241m=\u001b[39m reduce_per_replica(\n\u001b[1;32m   1235\u001b[0m     outputs,\n\u001b[1;32m   1236\u001b[0m     \u001b[38;5;28mself\u001b[39m\u001b[38;5;241m.\u001b[39mdistribute_strategy,\n\u001b[1;32m   1237\u001b[0m     reduction\u001b[38;5;241m=\u001b[39m\u001b[38;5;28mself\u001b[39m\u001b[38;5;241m.\u001b[39mdistribute_reduction_method,\n\u001b[1;32m   1238\u001b[0m )\n\u001b[1;32m   1239\u001b[0m \u001b[38;5;28;01mreturn\u001b[39;00m outputs\n",
      "File \u001b[0;32m/LUMI_TYKKY_KyB8utx/env1/lib/python3.9/site-packages/keras/engine/training.py:1222\u001b[0m, in \u001b[0;36mModel.make_train_function.<locals>.step_function.<locals>.run_step\u001b[0;34m(data)\u001b[0m\n\u001b[1;32m   1221\u001b[0m \u001b[38;5;28;01mdef\u001b[39;00m \u001b[38;5;21mrun_step\u001b[39m(data):\n\u001b[0;32m-> 1222\u001b[0m     outputs \u001b[38;5;241m=\u001b[39m \u001b[43mmodel\u001b[49m\u001b[38;5;241;43m.\u001b[39;49m\u001b[43mtrain_step\u001b[49m\u001b[43m(\u001b[49m\u001b[43mdata\u001b[49m\u001b[43m)\u001b[49m\n\u001b[1;32m   1223\u001b[0m     \u001b[38;5;66;03m# Ensure counter is updated only if `train_step` succeeds.\u001b[39;00m\n\u001b[1;32m   1224\u001b[0m     \u001b[38;5;28;01mwith\u001b[39;00m tf\u001b[38;5;241m.\u001b[39mcontrol_dependencies(_minimum_control_deps(outputs)):\n",
      "File \u001b[0;32m/LUMI_TYKKY_KyB8utx/env1/lib/python3.9/site-packages/keras/engine/training.py:1024\u001b[0m, in \u001b[0;36mModel.train_step\u001b[0;34m(self, data)\u001b[0m\n\u001b[1;32m   1022\u001b[0m \u001b[38;5;28;01mwith\u001b[39;00m tf\u001b[38;5;241m.\u001b[39mGradientTape() \u001b[38;5;28;01mas\u001b[39;00m tape:\n\u001b[1;32m   1023\u001b[0m     y_pred \u001b[38;5;241m=\u001b[39m \u001b[38;5;28mself\u001b[39m(x, training\u001b[38;5;241m=\u001b[39m\u001b[38;5;28;01mTrue\u001b[39;00m)\n\u001b[0;32m-> 1024\u001b[0m     loss \u001b[38;5;241m=\u001b[39m \u001b[38;5;28mself\u001b[39m\u001b[38;5;241m.\u001b[39mcompute_loss(x, y, y_pred, sample_weight)\n\u001b[1;32m   1025\u001b[0m \u001b[38;5;28mself\u001b[39m\u001b[38;5;241m.\u001b[39m_validate_target_and_loss(y, loss)\n\u001b[1;32m   1026\u001b[0m \u001b[38;5;66;03m# Run backwards pass.\u001b[39;00m\n",
      "File \u001b[0;32m/LUMI_TYKKY_KyB8utx/env1/lib/python3.9/site-packages/keras/engine/training.py:1082\u001b[0m, in \u001b[0;36mModel.compute_loss\u001b[0;34m(***failed resolving arguments***)\u001b[0m\n\u001b[1;32m   1031\u001b[0m \u001b[38;5;250m\u001b[39m\u001b[38;5;124;03m\"\"\"Compute the total loss, validate it, and return it.\u001b[39;00m\n\u001b[1;32m   1032\u001b[0m \n\u001b[1;32m   1033\u001b[0m \u001b[38;5;124;03mSubclasses can optionally override this method to provide custom loss\u001b[39;00m\n\u001b[0;32m   (...)\u001b[0m\n\u001b[1;32m   1079\u001b[0m \u001b[38;5;124;03m  is the case when called by `Model.test_step`).\u001b[39;00m\n\u001b[1;32m   1080\u001b[0m \u001b[38;5;124;03m\"\"\"\u001b[39;00m\n\u001b[1;32m   1081\u001b[0m \u001b[38;5;28;01mdel\u001b[39;00m x  \u001b[38;5;66;03m# The default implementation does not use `x`.\u001b[39;00m\n\u001b[0;32m-> 1082\u001b[0m \u001b[38;5;28;01mreturn\u001b[39;00m \u001b[38;5;28;43mself\u001b[39;49m\u001b[38;5;241;43m.\u001b[39;49m\u001b[43mcompiled_loss\u001b[49m\u001b[43m(\u001b[49m\n\u001b[1;32m   1083\u001b[0m \u001b[43m    \u001b[49m\u001b[43my\u001b[49m\u001b[43m,\u001b[49m\u001b[43m \u001b[49m\u001b[43my_pred\u001b[49m\u001b[43m,\u001b[49m\u001b[43m \u001b[49m\u001b[43msample_weight\u001b[49m\u001b[43m,\u001b[49m\u001b[43m \u001b[49m\u001b[43mregularization_losses\u001b[49m\u001b[38;5;241;43m=\u001b[39;49m\u001b[38;5;28;43mself\u001b[39;49m\u001b[38;5;241;43m.\u001b[39;49m\u001b[43mlosses\u001b[49m\n\u001b[1;32m   1084\u001b[0m \u001b[43m\u001b[49m\u001b[43m)\u001b[49m\n",
      "File \u001b[0;32m/LUMI_TYKKY_KyB8utx/env1/lib/python3.9/site-packages/keras/engine/compile_utils.py:265\u001b[0m, in \u001b[0;36mLossesContainer.__call__\u001b[0;34m(self, y_true, y_pred, sample_weight, regularization_losses)\u001b[0m\n\u001b[1;32m    263\u001b[0m y_t, y_p, sw \u001b[38;5;241m=\u001b[39m match_dtype_and_rank(y_t, y_p, sw)\n\u001b[1;32m    264\u001b[0m sw \u001b[38;5;241m=\u001b[39m losses_utils\u001b[38;5;241m.\u001b[39mapply_mask(y_p, sw, losses_utils\u001b[38;5;241m.\u001b[39mget_mask(y_p))\n\u001b[0;32m--> 265\u001b[0m loss_value \u001b[38;5;241m=\u001b[39m \u001b[43mloss_obj\u001b[49m\u001b[43m(\u001b[49m\u001b[43my_t\u001b[49m\u001b[43m,\u001b[49m\u001b[43m \u001b[49m\u001b[43my_p\u001b[49m\u001b[43m,\u001b[49m\u001b[43m \u001b[49m\u001b[43msample_weight\u001b[49m\u001b[38;5;241;43m=\u001b[39;49m\u001b[43msw\u001b[49m\u001b[43m)\u001b[49m\n\u001b[1;32m    267\u001b[0m total_loss_mean_value \u001b[38;5;241m=\u001b[39m loss_value\n\u001b[1;32m    268\u001b[0m \u001b[38;5;66;03m# Correct for the `Mean` loss metrics counting each replica as a\u001b[39;00m\n\u001b[1;32m    269\u001b[0m \u001b[38;5;66;03m# batch.\u001b[39;00m\n",
      "File \u001b[0;32m/LUMI_TYKKY_KyB8utx/env1/lib/python3.9/site-packages/keras/losses.py:152\u001b[0m, in \u001b[0;36mLoss.__call__\u001b[0;34m(self, y_true, y_pred, sample_weight)\u001b[0m\n\u001b[1;32m    147\u001b[0m \u001b[38;5;28;01melse\u001b[39;00m:\n\u001b[1;32m    148\u001b[0m     call_fn \u001b[38;5;241m=\u001b[39m tf\u001b[38;5;241m.\u001b[39m__internal__\u001b[38;5;241m.\u001b[39mautograph\u001b[38;5;241m.\u001b[39mtf_convert(\n\u001b[1;32m    149\u001b[0m         \u001b[38;5;28mself\u001b[39m\u001b[38;5;241m.\u001b[39mcall, tf\u001b[38;5;241m.\u001b[39m__internal__\u001b[38;5;241m.\u001b[39mautograph\u001b[38;5;241m.\u001b[39mcontrol_status_ctx()\n\u001b[1;32m    150\u001b[0m     )\n\u001b[0;32m--> 152\u001b[0m losses \u001b[38;5;241m=\u001b[39m call_fn(y_true, y_pred)\n\u001b[1;32m    154\u001b[0m in_mask \u001b[38;5;241m=\u001b[39m losses_utils\u001b[38;5;241m.\u001b[39mget_mask(y_pred)\n\u001b[1;32m    155\u001b[0m out_mask \u001b[38;5;241m=\u001b[39m losses_utils\u001b[38;5;241m.\u001b[39mget_mask(losses)\n",
      "File \u001b[0;32m/LUMI_TYKKY_KyB8utx/env1/lib/python3.9/site-packages/keras/losses.py:284\u001b[0m, in \u001b[0;36mLossFunctionWrapper.call\u001b[0;34m(self, y_true, y_pred)\u001b[0m\n\u001b[1;32m    277\u001b[0m     y_pred, y_true \u001b[38;5;241m=\u001b[39m losses_utils\u001b[38;5;241m.\u001b[39msqueeze_or_expand_dimensions(\n\u001b[1;32m    278\u001b[0m         y_pred, y_true\n\u001b[1;32m    279\u001b[0m     )\n\u001b[1;32m    281\u001b[0m ag_fn \u001b[38;5;241m=\u001b[39m tf\u001b[38;5;241m.\u001b[39m__internal__\u001b[38;5;241m.\u001b[39mautograph\u001b[38;5;241m.\u001b[39mtf_convert(\n\u001b[1;32m    282\u001b[0m     \u001b[38;5;28mself\u001b[39m\u001b[38;5;241m.\u001b[39mfn, tf\u001b[38;5;241m.\u001b[39m__internal__\u001b[38;5;241m.\u001b[39mautograph\u001b[38;5;241m.\u001b[39mcontrol_status_ctx()\n\u001b[1;32m    283\u001b[0m )\n\u001b[0;32m--> 284\u001b[0m \u001b[38;5;28;01mreturn\u001b[39;00m \u001b[43mag_fn\u001b[49m\u001b[43m(\u001b[49m\u001b[43my_true\u001b[49m\u001b[43m,\u001b[49m\u001b[43m \u001b[49m\u001b[43my_pred\u001b[49m\u001b[43m,\u001b[49m\u001b[43m \u001b[49m\u001b[38;5;241;43m*\u001b[39;49m\u001b[38;5;241;43m*\u001b[39;49m\u001b[38;5;28;43mself\u001b[39;49m\u001b[38;5;241;43m.\u001b[39;49m\u001b[43m_fn_kwargs\u001b[49m\u001b[43m)\u001b[49m\n",
      "File \u001b[0;32m/LUMI_TYKKY_KyB8utx/env1/lib/python3.9/site-packages/keras/losses.py:1500\u001b[0m, in \u001b[0;36mmean_squared_error\u001b[0;34m(y_true, y_pred)\u001b[0m\n\u001b[1;32m   1498\u001b[0m y_pred \u001b[38;5;241m=\u001b[39m tf\u001b[38;5;241m.\u001b[39mconvert_to_tensor(y_pred)\n\u001b[1;32m   1499\u001b[0m y_true \u001b[38;5;241m=\u001b[39m tf\u001b[38;5;241m.\u001b[39mcast(y_true, y_pred\u001b[38;5;241m.\u001b[39mdtype)\n\u001b[0;32m-> 1500\u001b[0m \u001b[38;5;28;01mreturn\u001b[39;00m backend\u001b[38;5;241m.\u001b[39mmean(\u001b[43mtf\u001b[49m\u001b[38;5;241;43m.\u001b[39;49m\u001b[43mmath\u001b[49m\u001b[38;5;241;43m.\u001b[39;49m\u001b[43msquared_difference\u001b[49m\u001b[43m(\u001b[49m\u001b[43my_pred\u001b[49m\u001b[43m,\u001b[49m\u001b[43m \u001b[49m\u001b[43my_true\u001b[49m\u001b[43m)\u001b[49m, axis\u001b[38;5;241m=\u001b[39m\u001b[38;5;241m-\u001b[39m\u001b[38;5;241m1\u001b[39m)\n",
      "\u001b[0;31mValueError\u001b[0m: in user code:\n\n    File \"/LUMI_TYKKY_KyB8utx/env1/lib/python3.9/site-packages/keras/engine/training.py\", line 1249, in train_function  *\n        return step_function(self, iterator)\n    File \"/LUMI_TYKKY_KyB8utx/env1/lib/python3.9/site-packages/keras/engine/training.py\", line 1233, in step_function  **\n        outputs = model.distribute_strategy.run(run_step, args=(data,))\n    File \"/LUMI_TYKKY_KyB8utx/env1/lib/python3.9/site-packages/keras/engine/training.py\", line 1222, in run_step  **\n        outputs = model.train_step(data)\n    File \"/LUMI_TYKKY_KyB8utx/env1/lib/python3.9/site-packages/keras/engine/training.py\", line 1024, in train_step\n        loss = self.compute_loss(x, y, y_pred, sample_weight)\n    File \"/LUMI_TYKKY_KyB8utx/env1/lib/python3.9/site-packages/keras/engine/training.py\", line 1082, in compute_loss\n        return self.compiled_loss(\n    File \"/LUMI_TYKKY_KyB8utx/env1/lib/python3.9/site-packages/keras/engine/compile_utils.py\", line 265, in __call__\n        loss_value = loss_obj(y_t, y_p, sample_weight=sw)\n    File \"/LUMI_TYKKY_KyB8utx/env1/lib/python3.9/site-packages/keras/losses.py\", line 152, in __call__\n        losses = call_fn(y_true, y_pred)\n    File \"/LUMI_TYKKY_KyB8utx/env1/lib/python3.9/site-packages/keras/losses.py\", line 284, in call  **\n        return ag_fn(y_true, y_pred, **self._fn_kwargs)\n    File \"/LUMI_TYKKY_KyB8utx/env1/lib/python3.9/site-packages/keras/losses.py\", line 1500, in mean_squared_error\n        return backend.mean(tf.math.squared_difference(y_pred, y_true), axis=-1)\n\n    ValueError: Dimensions must be equal, but are 10 and 100 for '{{node mean_squared_error/SquaredDifference}} = SquaredDifference[T=DT_FLOAT](model/reshape/Reshape, IteratorGetNext:1)' with input shapes: [32,10], [32,100].\n"
     ]
    }
   ],
   "source": [
    "# Compile the generator\n",
    "generator = build_generator()\n",
    "generator.compile(loss='mse', optimizer='adam')\n",
    "\n",
    "# data_loader = DataGenerator(lr_estimations, in_situ_measurements, ground_truth_distributions)\n",
    "data_loader = DataGenerator(lr_estimations, ground_truth_distributions)\n",
    "\n",
    "\n",
    "# Train the generator\n",
    "num_epochs=2\n",
    "for epoch in range(num_epochs):\n",
    "    for batch_index, (lr_estimation_batch, ground_truth_batch) in enumerate(data_loader):  # in_situ_batch, \n",
    "        # Train the generator\n",
    "        generator_loss = generator.train_on_batch([lr_estimation_batch], ground_truth_batch)\n",
    "#         generator_loss = generator.train_on_batch([lr_estimation_batch, in_situ_batch], ground_truth_batch)\n",
    "        \n",
    "\n",
    "        # Print the loss value\n",
    "        print('Epoch {} Batch {}: G loss = {}'.format(epoch, batch_index, generator_loss))"
   ]
  },
  {
   "cell_type": "code",
   "execution_count": 231,
   "id": "84ec15a3",
   "metadata": {},
   "outputs": [],
   "source": [
    "def build_model_tg2(num_features, num_ground_truth_distributions):  # , num_batch):\n",
    "    # Define the input layer\n",
    "    inputs = Input(shape=(num_features,1))\n",
    "    \n",
    "\n",
    "    # Define the hidden layers\n",
    "#    hidden1 = Dense(64, activation='relu')(inputs)\n",
    "#    hidden2 = Dense(32, activation='relu')(hidden1)\n",
    "#    hidden3 = Dense(16, activation='relu')(hidden2)\n",
    "#     hidden4 = Dense(1)(hidden3)\n",
    "\n",
    "#     hidden1 = Conv1D(64,3, activation='relu')(inputs)\n",
    "#     hidden2 = Conv1D(128, 3, activation='relu')(hidden1)\n",
    "#     hidden3 = Conv1D(5, 1, activation='relu')(hidden2)\n",
    "\n",
    "#     print(hidden1.shape)\n",
    "    flatten1 = Flatten()(inputs)\n",
    "#     print(hidden1.shape)\n",
    "\n",
    "    # Define the output layer\n",
    "    outputs = Dense(num_ground_truth_distributions, activation='softmax')(flatten1)\n",
    "    print('out: ', outputs.shape)\n",
    "\n",
    "    # Define the model\n",
    "    model = Model(inputs=inputs, outputs=outputs)\n",
    "\n",
    "    # Compile the model\n",
    "    model.compile(optimizer='adam', loss='mse')\n",
    "\n",
    "    return model"
   ]
  },
  {
   "cell_type": "code",
   "execution_count": 291,
   "id": "f399b0d8",
   "metadata": {},
   "outputs": [],
   "source": [
    "from keras.layers import Input, Conv1D, Flatten, Dense, concatenate, Dropout\n",
    "from keras.models import Model\n",
    "\n",
    "def build_model_3(num_features, num_obs):\n",
    "    inputs = Input(shape=(num_features, 1))\n",
    "    \n",
    "    # First convolutional layer\n",
    "    conv1 = Conv1D(64, 3, activation='relu', padding='same')(inputs)\n",
    "    \n",
    "    # Second convolutional layer\n",
    "    conv2 = Conv1D(128, 3, activation='relu', padding='same')(conv1)\n",
    "    \n",
    "    # Third convolutional layer\n",
    "    conv3 = Conv1D(256, 5, activation='relu', padding='same')(conv2)\n",
    "    \n",
    "    # Flatten the output from the convolutional layers\n",
    "    flat = Flatten()(conv3)\n",
    "    \n",
    "    \n",
    "    # Add a Dropout layer\n",
    "    dropout1 = Dropout(0.5)(flat)\n",
    "    \n",
    "    # Concatenate the flattened output with a Dense layer\n",
    "#     dense = Dense(256, activation='relu')(flat)\n",
    "    \n",
    "    # Output layer\n",
    "    output = Dense(num_obs, activation='linear')(dropout1)\n",
    "    \n",
    "    # Define the model\n",
    "    model = Model(inputs=inputs, outputs=output)\n",
    "    \n",
    "    # Compile the model\n",
    "    model.compile(optimizer='adam', loss='mse')\n",
    "    \n",
    "    return model\n"
   ]
  },
  {
   "cell_type": "code",
   "execution_count": 11,
   "id": "79ba8960",
   "metadata": {},
   "outputs": [],
   "source": [
    "from keras.layers import Input, Flatten, Dense, concatenate, Dropout\n",
    "from keras.models import Model\n",
    "\n",
    "def build_model_4(num_features, num_obs):\n",
    "    inputs = Input(shape=(num_features, 1))\n",
    "    \n",
    "    dense1 = Dense(64, activation='linear')(inputs)\n",
    "        \n",
    "    # Flatten the output from the convolutional layers\n",
    "    flat = Flatten()(dense1)\n",
    "        \n",
    "    # Add a Dropout layer\n",
    "    dropout1 = Dropout(0.5)(flat)\n",
    "    \n",
    "    # Output layer\n",
    "    output = Dense(num_obs, activation='linear')(dropout1)\n",
    "    \n",
    "    # Define the model\n",
    "    model = Model(inputs=inputs, outputs=output)\n",
    "    \n",
    "    # Compile the model\n",
    "    model.compile(optimizer='adam', loss='mse')\n",
    "    \n",
    "    return model\n"
   ]
  },
  {
   "cell_type": "code",
   "execution_count": 76,
   "id": "cc908701",
   "metadata": {},
   "outputs": [
    {
     "data": {
      "text/plain": [
       "<__main__.DataGenerator at 0x7f7e816d2c10>"
      ]
     },
     "execution_count": 76,
     "metadata": {},
     "output_type": "execute_result"
    }
   ],
   "source": [
    "data_loader"
   ]
  },
  {
   "cell_type": "code",
   "execution_count": null,
   "id": "756ad09b",
   "metadata": {},
   "outputs": [],
   "source": []
  }
 ],
 "metadata": {
  "kernelspec": {
   "display_name": "Python 3 (ipykernel)",
   "language": "python",
   "name": "python3"
  },
  "language_info": {
   "codemirror_mode": {
    "name": "ipython",
    "version": 3
   },
   "file_extension": ".py",
   "mimetype": "text/x-python",
   "name": "python",
   "nbconvert_exporter": "python",
   "pygments_lexer": "ipython3",
   "version": "3.9.12"
  }
 },
 "nbformat": 4,
 "nbformat_minor": 5
}
