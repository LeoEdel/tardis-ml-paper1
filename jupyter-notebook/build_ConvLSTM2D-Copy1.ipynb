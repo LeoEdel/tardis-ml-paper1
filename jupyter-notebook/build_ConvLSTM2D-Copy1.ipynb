{
 "cells": [
  {
   "cell_type": "code",
   "execution_count": null,
   "id": "8c90e953",
   "metadata": {},
   "outputs": [
    {
     "name": "stdout",
     "output_type": "stream",
     "text": [
      "Config file found: ../config/config_to_jobs/config_CNN_no_bias_0wk.yaml\n",
      "PCA results in: /scratch/project_465000269/edelleo1/Leo/results/pca_i100-550_j300-629\n",
      "Config file updated 'pca_dir': ../config/config_to_jobs/config_CNN_no_bias_0wk.yaml\n",
      "Results in: /scratch/project_465000269/edelleo1/Leo/results/cnn_230220-151318\n",
      "Folder created\n",
      "\n",
      "Subfolder created: /scratch/project_465000269/edelleo1/Leo/results/cnn_230220-151318/ml/\n",
      "Subfolder created: /scratch/project_465000269/edelleo1/Leo/results/cnn_230220-151318/figures/\n",
      "Config file updated 'results_dir': ../config/config_to_jobs/config_CNN_no_bias_0wk.yaml\n",
      "Config folders updated.\n",
      "Config copied to: /scratch/project_465000269/edelleo1/Leo/results/cnn_230220-151318\n",
      "Config file found: /scratch/project_465000269/edelleo1/Leo/results/cnn_230220-151318/config_CNN_no_bias_0wk.yaml\n",
      "Default config file is now the copied following one:\n",
      "/scratch/project_465000269/edelleo1/Leo/results/cnn_230220-151318/config_CNN_no_bias_0wk.yaml\n",
      "Loading data...\n"
     ]
    },
    {
     "name": "stderr",
     "output_type": "stream",
     "text": [
      "2023-02-20 15:13:18.955078: W tensorflow/stream_executor/platform/default/dso_loader.cc:64] Could not load dynamic library 'libcudart.so.11.0'; dlerror: libcudart.so.11.0: cannot open shared object file: No such file or directory; LD_LIBRARY_PATH: /opt/cray/pe/papi/6.0.0.15/lib64:/opt/cray/libfabric/1.15.0.0/lib64:/.singularity.d/libs\n",
      "2023-02-20 15:13:18.955149: I tensorflow/stream_executor/cuda/cudart_stub.cc:29] Ignore above cudart dlerror if you do not have a GPU set up on your machine.\n",
      "2023-02-20 15:13:20.745504: W tensorflow/stream_executor/platform/default/dso_loader.cc:64] Could not load dynamic library 'libcuda.so.1'; dlerror: libcuda.so.1: cannot open shared object file: No such file or directory; LD_LIBRARY_PATH: /opt/cray/pe/papi/6.0.0.15/lib64:/opt/cray/libfabric/1.15.0.0/lib64:/.singularity.d/libs\n",
      "2023-02-20 15:13:20.745560: W tensorflow/stream_executor/cuda/cuda_driver.cc:269] failed call to cuInit: UNKNOWN ERROR (303)\n",
      "2023-02-20 15:13:20.745598: I tensorflow/stream_executor/cuda/cuda_diagnostics.cc:156] kernel driver does not appear to be running on this host (uan04): /proc/driver/nvidia/version does not exist\n",
      "2023-02-20 15:13:20.745876: I tensorflow/core/platform/cpu_feature_guard.cc:193] This TensorFlow binary is optimized with oneAPI Deep Neural Network Library (oneDNN) to use the following CPU instructions in performance-critical operations:  AVX2 FMA\n",
      "To enable them in other operations, rebuild TensorFlow with the appropriate compiler flags.\n"
     ]
    },
    {
     "name": "stdout",
     "output_type": "stream",
     "text": [
      "Model: \"sequential\"\n",
      "_________________________________________________________________\n",
      " Layer (type)                Output Shape              Param #   \n",
      "=================================================================\n",
      " masking (Masking)           (None, None, 329, 450, 1  0         \n",
      "                             )                                   \n",
      "                                                                 \n",
      " conv_lstm2d (ConvLSTM2D)    (None, None, 329, 450, 4  59200     \n",
      "                             0)                                  \n",
      "                                                                 \n",
      " batch_normalization (BatchN  (None, None, 329, 450, 4  160      \n",
      " ormalization)               0)                                  \n",
      "                                                                 \n",
      " conv_lstm2d_1 (ConvLSTM2D)  (None, None, 329, 450, 4  115360    \n",
      "                             0)                                  \n",
      "                                                                 \n",
      " batch_normalization_1 (Batc  (None, None, 329, 450, 4  160      \n",
      " hNormalization)             0)                                  \n",
      "                                                                 \n",
      " conv_lstm2d_2 (ConvLSTM2D)  (None, None, 329, 450, 4  115360    \n",
      "                             0)                                  \n",
      "                                                                 \n",
      " batch_normalization_2 (Batc  (None, None, 329, 450, 4  160      \n",
      " hNormalization)             0)                                  \n",
      "                                                                 \n",
      " conv_lstm2d_3 (ConvLSTM2D)  (None, None, 329, 450, 4  115360    \n",
      "                             0)                                  \n",
      "                                                                 \n",
      " batch_normalization_3 (Batc  (None, None, 329, 450, 4  160      \n",
      " hNormalization)             0)                                  \n",
      "                                                                 \n",
      " conv3d (Conv3D)             (None, None, 329, 450, 1  1081      \n",
      "                             )                                   \n",
      "                                                                 \n",
      "=================================================================\n",
      "Total params: 407,001\n",
      "Trainable params: 406,681\n",
      "Non-trainable params: 320\n",
      "_________________________________________________________________\n"
     ]
    }
   ],
   "source": [
    "import os\n",
    "import xarray as xr\n",
    "import pandas as pd\n",
    "import matplotlib.pyplot as plt\n",
    "import numpy as np\n",
    "# from sklearn.decomposition import PCA\n",
    "import yaml\n",
    "# import pickle as pkl\n",
    "import subprocess\n",
    "# from keras.regularizers import L1L2\n",
    "\n",
    "from src.data_preparation import load_data\n",
    "# from src.data_preparation.blocking_time_series_split import BlockingTimeSeriesSplit \n",
    "# from src.data_preparation import mdl_dataset_prep\n",
    "from src.data_preparation import mdl_dataset\n",
    "\n",
    "# from src.modelling import mdl_input_dico  # input variables class\n",
    "# from src.modelling import mdl_params  # parameters class\n",
    "# from src.modelling import mdl_history\n",
    "\n",
    "# from src.modelling import model_autokeras\n",
    "# from src.modelling import super_model_dl\n",
    "\n",
    "# from src.visualization import mdl_non_recursive\n",
    "# from src.visualization import mdl_ypred_PCA\n",
    "# from src.visualization import mdl_introspect\n",
    "\n",
    "from src.utils import reload_config\n",
    "from src.utils import tardisml_utils\n",
    "\n",
    "file_config = '../config/config_to_jobs/config_CNN_no_bias_0wk.yaml'\n",
    "\n",
    "rootdir = tardisml_utils.get_rootdir()\n",
    "conf = reload_config.Config(file_config, rootdir=rootdir, verbose=1)\n",
    "\n",
    "# -----------------------\n",
    "\n",
    "\n",
    "\n",
    "# ---------------------------------------------------\n",
    "#                 Loading data\n",
    "# ---------------------------------------------------\n",
    "print('Loading data...')\n",
    "# Xf, Xe, dsCo, dsFo, chrono = load_data.load_dataset_nc(file_config)\n",
    "\n",
    "# data = (Xf, Xe, dsCo, dsFo, chrono)\n",
    "\n",
    "\n",
    "\n",
    "from keras.models import Sequential\n",
    "from keras.layers import Conv3D\n",
    "from keras.layers import ConvLSTM2D\n",
    "from keras.layers import BatchNormalization\n",
    "from keras.layers import Masking\n",
    "\n",
    "import numpy as np\n",
    "from keras.optimizers import Adam\n",
    "\n",
    "seq = Sequential()\n",
    "\n",
    "seq.add(Masking(mask_value=-999,\n",
    "               input_shape=(None, 329, 450, 1) ))\n",
    "\n",
    "seq.add(ConvLSTM2D(filters=40, kernel_size=(3, 3),\n",
    "                   input_shape=(None, 329, 450, 1),\n",
    "                   padding='same', return_sequences=True))\n",
    "seq.add(BatchNormalization())\n",
    "\n",
    "seq.add(ConvLSTM2D(filters=40, kernel_size=(3, 3),\n",
    "                   padding='same', return_sequences=True))\n",
    "seq.add(BatchNormalization())\n",
    "\n",
    "seq.add(ConvLSTM2D(filters=40, kernel_size=(3, 3),\n",
    "                   padding='same', return_sequences=True))\n",
    "seq.add(BatchNormalization())\n",
    "\n",
    "seq.add(ConvLSTM2D(filters=40, kernel_size=(3, 3),\n",
    "                   padding='same', return_sequences=True))\n",
    "seq.add(BatchNormalization())\n",
    "\n",
    "seq.add(Conv3D(filters=1, kernel_size=(3, 3, 3),\n",
    "               activation='sigmoid',\n",
    "               padding='same', data_format='channels_last'))\n",
    "\n",
    "seq.compile(loss='mse', optimizer=Adam(learning_rate=1e-4, clipnorm=1.))\n",
    "\n",
    "seq.summary()\n",
    "\n",
    "# from src.data_preparation import mdl_dataset_prep\n",
    "\n",
    "# ntrain, nval, ntest = mdl_dataset_prep.dataset_split(Xe.shape[0])\n",
    "# ntrain, nval, ntest\n",
    "\n",
    "# Xtrain = Xf[:100]  # [ntest:]\n",
    "# ytrain = Xe[:100]  # [ntest:]\n",
    "# ytest = Xe[50:]  # [:ntest]\n",
    "\n",
    "\n",
    "# save because limit on interactive job\n",
    "# Xtrain.to_netcdf('xtrain.nc')\n",
    "# ytrain.to_netcdf('ytrain.nc')\n",
    "\n",
    "# load Xtrain ytrain (need because mem limit on interactive job)\n",
    "\n",
    "Xtrain = xr.open_dataarray('xtrain.nc')\n",
    "ytrain = xr.open_dataarray('ytrain.nc')  \n",
    "\n",
    "tlim = 100\n",
    "\n",
    "xxt = Xtrain.values.reshape((tlim, -1, 329, 450))\n",
    "xtt = xxt.reshape((tlim, 1, 329, 450, -1))\n",
    "\n",
    "xtt.shape\n",
    "\n",
    "# shape (batch_size, time_steps, height, width, layers)\n",
    "\n",
    "yyt = ytrain.values.reshape((tlim, -1, 329, 450))\n",
    "ytt = yyt.reshape((tlim, 1, 329, 450, -1))\n",
    "\n",
    "seq.fit(xtt, ytt, batch_size=10, epochs=1, validation_split=0.2)"
   ]
  },
  {
   "cell_type": "raw",
   "id": "d8e83b62",
   "metadata": {},
   "source": [
    "Xtest = Xf[:ntest]\n",
    "\n",
    "xtest = Xtest.values.reshape((Xtest.shape[0], -1, 329, 450))\n",
    "xttest = xtest.reshape((Xtest.shape[0], 1, 329, 450, -1))"
   ]
  },
  {
   "cell_type": "code",
   "execution_count": 25,
   "id": "0e041384",
   "metadata": {},
   "outputs": [],
   "source": [
    "# indexes Nan\n",
    "iNan_xtt = np.isnan(xtt)\n",
    "iNan_ytt = np.isnan(ytt)\n",
    "# iNan_xttest = np.isnan(xttest)"
   ]
  },
  {
   "cell_type": "code",
   "execution_count": 37,
   "id": "44dc4981",
   "metadata": {},
   "outputs": [],
   "source": [
    "def scale_data(train_data, test_data):\n",
    "    max_val = np.nanmax(train_data)  # .max()\n",
    "    min_val = np.nanmin(train_data)  # .min()\n",
    "    train_scaled = (train_data - min_val) / (max_val - min_val)\n",
    "    test_scaled = (test_data - min_val) / (max_val - min_val)\n",
    "    return train_scaled, test_scaled\n"
   ]
  },
  {
   "cell_type": "raw",
   "id": "e56b48f1",
   "metadata": {},
   "source": [
    "# scale data\n",
    "X_train, X_test = scale_data(xtt, xttest)"
   ]
  },
  {
   "cell_type": "code",
   "execution_count": 28,
   "id": "0676996b",
   "metadata": {},
   "outputs": [],
   "source": [
    "# remove Nan\n",
    "nan_value = -999\n",
    "xtt[iNan_xtt] = nan_value\n",
    "ytt[iNan_ytt] = nan_value\n",
    "# X_test[iNan_xttest] = nan_value "
   ]
  },
  {
   "cell_type": "code",
   "execution_count": 31,
   "id": "c1e97083",
   "metadata": {},
   "outputs": [
    {
     "data": {
      "text/plain": [
       "False"
      ]
     },
     "execution_count": 31,
     "metadata": {},
     "output_type": "execute_result"
    }
   ],
   "source": [
    "np.isinf(xtt[:, 0, :, :,0]).any()"
   ]
  },
  {
   "cell_type": "code",
   "execution_count": 32,
   "id": "d1cf062c",
   "metadata": {},
   "outputs": [
    {
     "data": {
      "text/plain": [
       "<matplotlib.image.AxesImage at 0x7f7b904bc2b0>"
      ]
     },
     "execution_count": 32,
     "metadata": {},
     "output_type": "execute_result"
    },
    {
     "data": {
      "image/png": "[encoded data removed]",
      "text/plain": [
       "<Figure size 432x288 with 1 Axes>"
      ]
     },
     "metadata": {
      "needs_background": "light"
     },
     "output_type": "display_data"
    }
   ],
   "source": [
    "plt.imshow(xtt[0, 0, :, :,0])"
   ]
  },
  {
   "cell_type": "code",
   "execution_count": 33,
   "id": "10c45235",
   "metadata": {},
   "outputs": [
    {
     "data": {
      "text/plain": [
       "<matplotlib.colorbar.Colorbar at 0x7f7b903c7280>"
      ]
     },
     "execution_count": 33,
     "metadata": {},
     "output_type": "execute_result"
    },
    {
     "data": {
      "image/png": "[encoded data removed]",
      "text/plain": [
       "<Figure size 432x288 with 2 Axes>"
      ]
     },
     "metadata": {
      "needs_background": "light"
     },
     "output_type": "display_data"
    }
   ],
   "source": [
    "plt.imshow(xtt[0, 0, :, :,0], vmin=0)\n",
    "plt.colorbar()"
   ]
  },
  {
   "cell_type": "code",
   "execution_count": null,
   "id": "1678b795",
   "metadata": {},
   "outputs": [],
   "source": [
    "plt.imshow(X_test[0, 0, :, :,0])\n",
    "plt.colorbar()"
   ]
  },
  {
   "cell_type": "code",
   "execution_count": 36,
   "id": "8996e1cd",
   "metadata": {
    "scrolled": true
   },
   "outputs": [
    {
     "data": {
      "text/plain": [
       "<matplotlib.colorbar.Colorbar at 0x7f7ad4b059d0>"
      ]
     },
     "execution_count": 36,
     "metadata": {},
     "output_type": "execute_result"
    },
    {
     "data": {
      "image/png": "[encoded data removed]",
      "text/plain": [
       "<Figure size 432x288 with 2 Axes>"
      ]
     },
     "metadata": {
      "needs_background": "light"
     },
     "output_type": "display_data"
    }
   ],
   "source": [
    "plt.imshow(ytt[0, 0, :, :,0], vmin=0)\n",
    "plt.colorbar()"
   ]
  },
  {
   "cell_type": "code",
   "execution_count": null,
   "id": "ab25b3aa",
   "metadata": {
    "scrolled": true
   },
   "outputs": [],
   "source": [
    "history = seq.fit(xtt[:50], ytt[:50], batch_size=10, epochs=1, validation_split=0.2)"
   ]
  },
  {
   "cell_type": "code",
   "execution_count": null,
   "id": "05b3bbda",
   "metadata": {},
   "outputs": [],
   "source": [
    "ypred = seq.predict(X_test[:10])"
   ]
  },
  {
   "cell_type": "code",
   "execution_count": null,
   "id": "4f4fed35",
   "metadata": {},
   "outputs": [],
   "source": [
    "ypred.shape"
   ]
  },
  {
   "cell_type": "code",
   "execution_count": null,
   "id": "c97c511d",
   "metadata": {
    "scrolled": true
   },
   "outputs": [],
   "source": [
    "plt.imshow(xttest[0,0,:,:,0])"
   ]
  },
  {
   "cell_type": "code",
   "execution_count": null,
   "id": "c7fffe14",
   "metadata": {},
   "outputs": [],
   "source": [
    "plt.imshow(ytest[0,:,:])\n",
    "plt.colorbar()"
   ]
  },
  {
   "cell_type": "code",
   "execution_count": null,
   "id": "240b681b",
   "metadata": {
    "scrolled": true
   },
   "outputs": [],
   "source": [
    "plt.imshow(ypred[1,0,:,:,0])\n",
    "plt.colorbar()"
   ]
  },
  {
   "cell_type": "code",
   "execution_count": null,
   "id": "f4d688d5",
   "metadata": {},
   "outputs": [],
   "source": [
    "np.max(ypred[1,0,:,:,0])"
   ]
  },
  {
   "cell_type": "code",
   "execution_count": null,
   "id": "c31a267c",
   "metadata": {},
   "outputs": [],
   "source": [
    "np.min(ypred[1,0,:,:,0])"
   ]
  },
  {
   "cell_type": "code",
   "execution_count": null,
   "id": "99c231b2",
   "metadata": {},
   "outputs": [],
   "source": [
    "np.mean(ypred[1,0,:,:,0])"
   ]
  },
  {
   "cell_type": "code",
   "execution_count": null,
   "id": "6e602367",
   "metadata": {},
   "outputs": [],
   "source": [
    "ypred[1,0,:,:,0]"
   ]
  },
  {
   "cell_type": "code",
   "execution_count": null,
   "id": "f0696b3a",
   "metadata": {
    "scrolled": true
   },
   "outputs": [],
   "source": [
    "plt.imshow(ypred[1,0,:,:,0]*1000)  # , vmin=497.8, vmax=499)\n",
    "plt.colorbar()"
   ]
  },
  {
   "cell_type": "code",
   "execution_count": null,
   "id": "a0c7e675",
   "metadata": {},
   "outputs": [],
   "source": [
    "def draw_sit_true_pred(ytrue, ypred, day, ndays=1):\n",
    "    '''Draw subplots of SIT:\n",
    "            - first colomn ytrue (TOPAZ4b)\n",
    "            - second colomn ypred (ML)\n",
    "    '''\n",
    "    \n",
    "    fig, axes = plt.subplots(ncols=2, nrows=ndays, figsize=(16,6*ndays))\n",
    "\n",
    "    for ax in axes:\n",
    "        ax[0].imshow(ytrue)\n",
    "        ax[1].imshow(ypred)\n",
    "        \n",
    "    \n",
    "    plt.show()\n",
    "    plt.close()\n",
    "    \n",
    "    "
   ]
  },
  {
   "cell_type": "markdown",
   "id": "82aed5ee",
   "metadata": {},
   "source": [
    "-------------------"
   ]
  }
 ],
 "metadata": {
  "kernelspec": {
   "display_name": "Python 3 (ipykernel)",
   "language": "python",
   "name": "python3"
  },
  "language_info": {
   "codemirror_mode": {
    "name": "ipython",
    "version": 3
   },
   "file_extension": ".py",
   "mimetype": "text/x-python",
   "name": "python",
   "nbconvert_exporter": "python",
   "pygments_lexer": "ipython3",
   "version": "3.9.12"
  }
 },
 "nbformat": 4,
 "nbformat_minor": 5
}
