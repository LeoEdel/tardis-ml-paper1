{
 "cells": [
  {
   "cell_type": "markdown",
   "id": "ba7e432c",
   "metadata": {},
   "source": [
    "# DEBUG: for reloading AK model\n",
    "## > not working on LUMI - to heavy for salloc (wtf?)"
   ]
  },
  {
   "cell_type": "code",
   "execution_count": 1,
   "id": "d1e6ee02",
   "metadata": {},
   "outputs": [
    {
     "name": "stderr",
     "output_type": "stream",
     "text": [
      "2023-02-17 12:51:24.266102: W tensorflow/stream_executor/platform/default/dso_loader.cc:64] Could not load dynamic library 'libcudart.so.11.0'; dlerror: libcudart.so.11.0: cannot open shared object file: No such file or directory; LD_LIBRARY_PATH: /opt/cray/pe/papi/6.0.0.15/lib64:/opt/cray/libfabric/1.15.0.0/lib64:/.singularity.d/libs\n",
      "2023-02-17 12:51:24.266153: I tensorflow/stream_executor/cuda/cudart_stub.cc:29] Ignore above cudart dlerror if you do not have a GPU set up on your machine.\n"
     ]
    }
   ],
   "source": [
    "import xarray as xr\n",
    "import os\n",
    "import pandas as pd\n",
    "import matplotlib.pyplot as plt\n",
    "import numpy as np\n",
    "from sklearn.decomposition import PCA\n",
    "import yaml\n",
    "import pickle as pkl\n",
    "import subprocess\n",
    "from keras.regularizers import L1L2\n",
    "\n",
    "# old import\n",
    "# from src.data_preparation import mdl_dataset_prep as dataset_prep\n",
    "# import src.feature_extraction.pca as feature_pca\n",
    "# import src.utils.load_config as load_config\n",
    "\n",
    "from src.data_preparation import load_data\n",
    "from src.data_preparation.blocking_time_series_split import BlockingTimeSeriesSplit \n",
    "# from src.data_preparation import mdl_dataset_prep\n",
    "from src.data_preparation import mdl_dataset\n",
    "\n",
    "from src.modelling import mdl_input_dico  # input variables class\n",
    "from src.modelling import mdl_params  # parameters class\n",
    "from src.modelling import mdl_history\n",
    "\n",
    "from src.modelling import model_autokeras\n",
    "from src.modelling import super_model_dl\n",
    "\n",
    "from src.visualization import mdl_non_recursive\n",
    "from src.visualization import mdl_ypred_PCA\n",
    "from src.visualization import mdl_introspect\n",
    "\n",
    "from src.utils import reload_config\n",
    "from src.utils import tardisml_utils"
   ]
  },
  {
   "cell_type": "code",
   "execution_count": 2,
   "id": "940d4fc9",
   "metadata": {},
   "outputs": [],
   "source": [
    "# add argument to pass config file\n",
    "import sys\n",
    "# narg = len(sys.argv)  # number of arguments passed\n",
    "# if narg > 1:\n",
    "#     file_config = sys.argv[1]\n",
    "# else:\n",
    "file_config = '../config/config_to_jobs/config_AK_no_bias_0wk.yaml'"
   ]
  },
  {
   "cell_type": "code",
   "execution_count": 3,
   "id": "9cc30ee1",
   "metadata": {},
   "outputs": [
    {
     "data": {
      "text/plain": [
       "'../config/config_to_jobs/config_AK_no_bias_0wk.yaml'"
      ]
     },
     "execution_count": 3,
     "metadata": {},
     "output_type": "execute_result"
    }
   ],
   "source": [
    "file_config"
   ]
  },
  {
   "cell_type": "code",
   "execution_count": 6,
   "id": "6ef5d81a",
   "metadata": {},
   "outputs": [
    {
     "name": "stdout",
     "output_type": "stream",
     "text": [
      "Config file found: ../config/config_to_jobs/config_AK_no_bias_0wk.yaml\n",
      "PCA results in: /scratch/project_465000269/edelleo1/Leo/results/pca_i100-550_j300-629\n",
      "Config file updated 'pca_dir': ../config/config_to_jobs/config_AK_no_bias_0wk.yaml\n",
      "Results in: /scratch/project_465000269/edelleo1/Leo/results/ak_230217-125214\n",
      "Folder created\n",
      "\n",
      "Subfolder created: /scratch/project_465000269/edelleo1/Leo/results/ak_230217-125214/ml/\n",
      "Subfolder created: /scratch/project_465000269/edelleo1/Leo/results/ak_230217-125214/figures/\n",
      "Config file updated 'results_dir': ../config/config_to_jobs/config_AK_no_bias_0wk.yaml\n",
      "Config folders updated.\n",
      "Config copied to: /scratch/project_465000269/edelleo1/Leo/results/ak_230217-125214\n",
      "Config file found: /scratch/project_465000269/edelleo1/Leo/results/ak_230217-125214/config_AK_no_bias_0wk.yaml\n",
      "Default config file is now the copied following one:\n",
      "/scratch/project_465000269/edelleo1/Leo/results/ak_230217-125214/config_AK_no_bias_0wk.yaml\n"
     ]
    }
   ],
   "source": [
    "rootdir = tardisml_utils.get_rootdir()\n",
    "# file_config = '../config/data_proc_full.yaml'\n",
    "conf = reload_config.Config(file_config, rootdir=rootdir, verbose=1)"
   ]
  },
  {
   "cell_type": "code",
   "execution_count": 7,
   "id": "71c794f9",
   "metadata": {},
   "outputs": [],
   "source": [
    "from importlib import reload"
   ]
  },
  {
   "cell_type": "code",
   "execution_count": 13,
   "id": "1ebc83ff",
   "metadata": {},
   "outputs": [
    {
     "data": {
      "text/plain": [
       "<module 'src.data_preparation.load_data' from '/users/edelleo1/tardis/tardis-ml/src/data_preparation/load_data.py'>"
      ]
     },
     "execution_count": 13,
     "metadata": {},
     "output_type": "execute_result"
    }
   ],
   "source": [
    "reload(mdl_dataset)\n",
    "reload(load_data)"
   ]
  },
  {
   "cell_type": "code",
   "execution_count": 8,
   "id": "ca8e1610",
   "metadata": {},
   "outputs": [
    {
     "data": {
      "text/plain": [
       "'no_bias'"
      ]
     },
     "execution_count": 8,
     "metadata": {},
     "output_type": "execute_result"
    }
   ],
   "source": [
    "conf.setup"
   ]
  },
  {
   "cell_type": "code",
   "execution_count": 9,
   "id": "62bc00ee",
   "metadata": {},
   "outputs": [],
   "source": [
    "conf.setup = 'no_bias_sia'"
   ]
  },
  {
   "cell_type": "code",
   "execution_count": 14,
   "id": "179536ad",
   "metadata": {
    "scrolled": false
   },
   "outputs": [
    {
     "name": "stdout",
     "output_type": "stream",
     "text": [
      "\n",
      "Initialisation dataset...\n",
      "History loaded from config file: /scratch/project_465000269/edelleo1/Leo/results/ak_230217-125214/config_AK_no_bias_0wk.yaml\n",
      "Loading data...\n",
      "Loading sia...\n",
      "\tRetrieve siconc\n",
      "\tRetrieve sisnthick\n",
      "\tRetrieve zos\n",
      "\tRetrieve vxsi\n",
      "\tRetrieve vysi\n",
      "Loading forcing values...\n",
      "Loading pca...\n",
      "Apply land/ocean mask...\n",
      "Retrieve PCs and EOFs\n",
      "Adding sia\n",
      "Size of the training set:    1958 days\n",
      "Size of the validation set:   451 days\n",
      "Size of the test set:         604 days\n",
      "Config file updated 'ntrain': /scratch/project_465000269/edelleo1/Leo/results/ak_230217-125214/config_AK_no_bias_0wk.yaml\n",
      "Config file updated 'nval': /scratch/project_465000269/edelleo1/Leo/results/ak_230217-125214/config_AK_no_bias_0wk.yaml\n",
      "Config file updated 'ntest': /scratch/project_465000269/edelleo1/Leo/results/ak_230217-125214/config_AK_no_bias_0wk.yaml\n",
      "Dataset Format for ak\n",
      "No need for formatting\n"
     ]
    }
   ],
   "source": [
    "# ---------------------------------------------------\n",
    "#                 Loading data\n",
    "# ---------------------------------------------------\n",
    "# ds = mdl_dataset.Dataset(conf, setup='no_bias')\n",
    "ds = mdl_dataset.Dataset(conf, setup=conf.setup)\n",
    "\n",
    "# H = [1]  # no impact whatsoever in autokeras for now !!!\n"
   ]
  },
  {
   "cell_type": "code",
   "execution_count": 17,
   "id": "5e6d01cd",
   "metadata": {},
   "outputs": [
    {
     "data": {
      "text/plain": [
       "['SITf t+0 PC0',\n",
       " 'SITf t+0 PC1',\n",
       " 'SITf t+0 PC2',\n",
       " 'SITf t+0 PC3',\n",
       " 'SITf t+0 PC4',\n",
       " 'SITf t+0 PC5',\n",
       " 'SITf t+0 PC6',\n",
       " 'SITf t+0 PC7',\n",
       " '2T t+0 PC0',\n",
       " '2T t+0 PC1',\n",
       " '2T t+0 PC2',\n",
       " '2T t+0 PC3',\n",
       " 'MSL t+0 PC0',\n",
       " 'MSL t+0 PC1',\n",
       " 'MSL t+0 PC2',\n",
       " 'MSL t+0 PC3',\n",
       " '10V t+0 PC0',\n",
       " '10V t+0 PC1',\n",
       " '10V t+0 PC2',\n",
       " '10V t+0 PC3',\n",
       " '10U t+0 PC0',\n",
       " '10U t+0 PC1',\n",
       " '10U t+0 PC2',\n",
       " '10U t+0 PC3',\n",
       " 'TP t+0 PC0',\n",
       " 'TP t+0 PC1',\n",
       " 'TP t+0 PC2',\n",
       " 'TP t+0 PC3',\n",
       " 'SSR t+0 PC0',\n",
       " 'SSR t+0 PC1',\n",
       " 'SSR t+0 PC2',\n",
       " 'SSR t+0 PC3',\n",
       " 'STR t+0 PC0',\n",
       " 'STR t+0 PC1',\n",
       " 'STR t+0 PC2',\n",
       " 'STR t+0 PC3',\n",
       " 'siconc t+0 PC0',\n",
       " 'siconc t+0 PC1',\n",
       " 'siconc t+0 PC2',\n",
       " 'siconc t+0 PC3',\n",
       " 'sisnthick t+0 PC0',\n",
       " 'sisnthick t+0 PC1',\n",
       " 'sisnthick t+0 PC2',\n",
       " 'sisnthick t+0 PC3',\n",
       " 'zos t+0 PC0',\n",
       " 'zos t+0 PC1',\n",
       " 'zos t+0 PC2',\n",
       " 'zos t+0 PC3',\n",
       " 'vxsi t+0 PC0',\n",
       " 'vxsi t+0 PC1',\n",
       " 'vxsi t+0 PC2',\n",
       " 'vxsi t+0 PC3',\n",
       " 'vysi t+0 PC0',\n",
       " 'vysi t+0 PC1',\n",
       " 'vysi t+0 PC2',\n",
       " 'vysi t+0 PC3',\n",
       " 'SIA t+0 PC0',\n",
       " 'SIA t+0 PC1',\n",
       " 'SIA t+0 PC2',\n",
       " 'SIA t+0 PC3',\n",
       " 'SIA t+0 PC4',\n",
       " 'SIA t+0 PC5',\n",
       " 'SIA t+0 PC6',\n",
       " 'SIA t+0 PC7']"
      ]
     },
     "execution_count": 17,
     "metadata": {},
     "output_type": "execute_result"
    }
   ],
   "source": [
    "ds.inputs"
   ]
  },
  {
   "cell_type": "code",
   "execution_count": 7,
   "id": "deca3d9a",
   "metadata": {},
   "outputs": [
    {
     "data": {
      "text/plain": [
       "dict_keys(['X', 'y', 'chrono', 'ntrain', 'nval', 'ntest', 'chrono_train', 'chrono_val', 'chrono_test', 'Xtrain', 'Xval', 'Xtest', 'ytrain', 'yval', 'ytest'])"
      ]
     },
     "execution_count": 7,
     "metadata": {},
     "output_type": "execute_result"
    }
   ],
   "source": [
    "ds.dataset.keys()"
   ]
  },
  {
   "cell_type": "code",
   "execution_count": 8,
   "id": "cdc353bf",
   "metadata": {},
   "outputs": [],
   "source": [
    "ds.dataset['ytrain'] = ds.dataset['ytrain'][:100]\n",
    "ds.dataset['Xtrain'] = ds.dataset['Xtrain'][:100]\n",
    "ds.dataset['yval'] = ds.dataset['yval'][:100]\n",
    "ds.dataset['Xval'] = ds.dataset['Xval'][:100]\n",
    "ds.dataset['ytest'] = ds.dataset['ytest'][:100]\n",
    "ds.dataset['Xtest'] = ds.dataset['Xtest'][:100]\n",
    "ds.dataset['y'] = ds.dataset['y'][:300]\n",
    "ds.dataset['X'] = ds.dataset['X'][:300]"
   ]
  },
  {
   "cell_type": "code",
   "execution_count": 9,
   "id": "d44e8829",
   "metadata": {},
   "outputs": [
    {
     "name": "stderr",
     "output_type": "stream",
     "text": [
      "2023-02-15 12:20:26.061756: W tensorflow/stream_executor/platform/default/dso_loader.cc:64] Could not load dynamic library 'libcuda.so.1'; dlerror: libcuda.so.1: cannot open shared object file: No such file or directory; LD_LIBRARY_PATH: /opt/cray/pe/papi/6.0.0.15/lib64:/opt/cray/libfabric/1.15.0.0/lib64:/.singularity.d/libs\n",
      "2023-02-15 12:20:26.061791: W tensorflow/stream_executor/cuda/cuda_driver.cc:269] failed call to cuInit: UNKNOWN ERROR (303)\n",
      "2023-02-15 12:20:26.061817: I tensorflow/stream_executor/cuda/cuda_diagnostics.cc:156] kernel driver does not appear to be running on this host (uan01): /proc/driver/nvidia/version does not exist\n",
      "2023-02-15 12:20:26.062098: I tensorflow/core/platform/cpu_feature_guard.cc:193] This TensorFlow binary is optimized with oneAPI Deep Neural Network Library (oneDNN) to use the following CPU instructions in performance-critical operations:  AVX2 FMA\n",
      "To enable them in other operations, rebuild TensorFlow with the appropriate compiler flags.\n"
     ]
    }
   ],
   "source": [
    "n_components = ds.config.n_comp['tp']\n",
    "# max_trials = ds.config.max_trials  # 100  # 100\n",
    "epochs = ds.config.epochs  #100  # 100\n",
    "\n",
    "mb = model_autokeras.ModelAK(ds=ds, rootdir=conf.rootdir, ml_dir=conf.ml_dir, fig_dir=conf.fig_dir)\n",
    "mb.compile_models(npca=1)  # n_components)"
   ]
  },
  {
   "cell_type": "code",
   "execution_count": null,
   "id": "9f3fe47a",
   "metadata": {},
   "outputs": [
    {
     "name": "stdout",
     "output_type": "stream",
     "text": [
      "\n",
      "Search: Running Trial #1\n",
      "\n",
      "Value             |Best Value So Far |Hyperparameter\n",
      "True              |?                 |structured_data_block_1/normalize\n",
      "2                 |?                 |structured_data_block_1/dense_block_1/num_layers\n",
      "False             |?                 |structured_data_block_1/dense_block_1/use_batchnorm\n",
      "0                 |?                 |structured_data_block_1/dense_block_1/dropout\n",
      "32                |?                 |structured_data_block_1/dense_block_1/units_0\n",
      "32                |?                 |structured_data_block_1/dense_block_1/units_1\n",
      "0                 |?                 |regression_head_1/dropout\n",
      "adam              |?                 |optimizer\n",
      "0.001             |?                 |learning_rate\n",
      "\n"
     ]
    }
   ],
   "source": [
    "mb.explore_multiple(ds.dataset, epochs=epochs)  # dsk, batch_size=4)"
   ]
  },
  {
   "cell_type": "code",
   "execution_count": 1,
   "id": "572f0883",
   "metadata": {},
   "outputs": [],
   "source": [
    "## Once exploration done:\n",
    "# access architecture and be able to recreate model without AutoKeras"
   ]
  },
  {
   "cell_type": "code",
   "execution_count": null,
   "id": "43648cf4",
   "metadata": {},
   "outputs": [],
   "source": []
  },
  {
   "cell_type": "code",
   "execution_count": null,
   "id": "c6829952",
   "metadata": {},
   "outputs": [],
   "source": []
  },
  {
   "cell_type": "code",
   "execution_count": null,
   "id": "1e40f8c3",
   "metadata": {},
   "outputs": [],
   "source": []
  },
  {
   "cell_type": "code",
   "execution_count": null,
   "id": "e887a9d7",
   "metadata": {},
   "outputs": [],
   "source": []
  },
  {
   "cell_type": "code",
   "execution_count": null,
   "id": "4569066f",
   "metadata": {},
   "outputs": [],
   "source": []
  },
  {
   "cell_type": "markdown",
   "id": "93cdd77d",
   "metadata": {},
   "source": [
    "-----------"
   ]
  },
  {
   "cell_type": "code",
   "execution_count": null,
   "id": "2a6d0399",
   "metadata": {},
   "outputs": [],
   "source": [
    "mb.predict_multiple(ds.dataset)  # dsk\n",
    "mb.print_summary()"
   ]
  },
  {
   "cell_type": "code",
   "execution_count": null,
   "id": "5a388e18",
   "metadata": {},
   "outputs": [],
   "source": [
    "# if mb.batch_size is None:\n",
    "# mb.batch_size = 0\n",
    "mb.suffix= ''\n",
    "mb.print_histories()\n",
    "\n",
    "mb.save_prediction()\n",
    "\n",
    "# mb.save_model()\n",
    "mb.save_model_weights()\n",
    "\n",
    "\n",
    "ofile = f'{mb.type}_ypred.png'\n",
    "mdl_ypred_PCA.draw(mb, odir=mb.rootdir+mb.fig_dir, savefig=True, showfig=False, ofile=ofile)"
   ]
  }
 ],
 "metadata": {
  "kernelspec": {
   "display_name": "Python 3 (ipykernel)",
   "language": "python",
   "name": "python3"
  },
  "language_info": {
   "codemirror_mode": {
    "name": "ipython",
    "version": 3
   },
   "file_extension": ".py",
   "mimetype": "text/x-python",
   "name": "python",
   "nbconvert_exporter": "python",
   "pygments_lexer": "ipython3",
   "version": "3.9.12"
  }
 },
 "nbformat": 4,
 "nbformat_minor": 5
}
