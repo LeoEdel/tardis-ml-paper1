{
 "cells": [
  {
   "cell_type": "code",
   "execution_count": 1,
   "id": "0302d842",
   "metadata": {},
   "outputs": [],
   "source": [
    "import os\n",
    "import xarray as xr\n",
    "import pandas as pd\n",
    "import matplotlib.pyplot as plt\n",
    "import numpy as np\n",
    "from sklearn.decomposition import PCA\n",
    "import yaml\n",
    "import pickle as pkl\n",
    "import subprocess"
   ]
  },
  {
   "cell_type": "code",
   "execution_count": 2,
   "id": "33691401",
   "metadata": {},
   "outputs": [
    {
     "name": "stderr",
     "output_type": "stream",
     "text": [
      "2024-03-18 15:20:10.607450: I tensorflow/core/platform/cpu_feature_guard.cc:193] This TensorFlow binary is optimized with oneAPI Deep Neural Network Library (oneDNN) to use the following CPU instructions in performance-critical operations:  AVX2 FMA\n",
      "To enable them in other operations, rebuild TensorFlow with the appropriate compiler flags.\n",
      "2024-03-18 15:20:10.804695: W tensorflow/compiler/xla/stream_executor/platform/default/dso_loader.cc:64] Could not load dynamic library 'libcudart.so.11.0'; dlerror: libcudart.so.11.0: cannot open shared object file: No such file or directory; LD_LIBRARY_PATH: /LUMI_CONTAINER/env1/lib:/LUMI_CONTAINER/env1/lib64:/opt/cray/pe/papi/7.0.1.1/lib64:/opt/cray/libfabric/1.15.2.0/lib64:/.singularity.d/libs\n",
      "2024-03-18 15:20:10.804746: I tensorflow/compiler/xla/stream_executor/cuda/cudart_stub.cc:29] Ignore above cudart dlerror if you do not have a GPU set up on your machine.\n",
      "2024-03-18 15:20:11.745627: W tensorflow/compiler/xla/stream_executor/platform/default/dso_loader.cc:64] Could not load dynamic library 'libnvinfer.so.7'; dlerror: libnvinfer.so.7: cannot open shared object file: No such file or directory; LD_LIBRARY_PATH: /LUMI_CONTAINER/env1/lib:/LUMI_CONTAINER/env1/lib64:/opt/cray/pe/papi/7.0.1.1/lib64:/opt/cray/libfabric/1.15.2.0/lib64:/.singularity.d/libs\n",
      "2024-03-18 15:20:11.745812: W tensorflow/compiler/xla/stream_executor/platform/default/dso_loader.cc:64] Could not load dynamic library 'libnvinfer_plugin.so.7'; dlerror: libnvinfer_plugin.so.7: cannot open shared object file: No such file or directory; LD_LIBRARY_PATH: /LUMI_CONTAINER/env1/lib:/LUMI_CONTAINER/env1/lib64:/opt/cray/pe/papi/7.0.1.1/lib64:/opt/cray/libfabric/1.15.2.0/lib64:/.singularity.d/libs\n",
      "2024-03-18 15:20:11.745834: W tensorflow/compiler/tf2tensorrt/utils/py_utils.cc:38] TF-TRT Warning: Cannot dlopen some TensorRT libraries. If you would like to use Nvidia GPU with TensorRT, please make sure the missing libraries mentioned above are installed properly.\n"
     ]
    }
   ],
   "source": [
    "from tensorflow.keras.regularizers import L1L2\n",
    "\n",
    "\n",
    "from src.data_preparation import load_data\n",
    "from src.data_preparation.blocking_time_series_split import BlockingTimeSeriesSplit \n",
    "from src.data_preparation import mdl_dataset\n",
    "\n",
    "from src.modelling import mdl_input_dico  # input variables class\n",
    "from src.modelling import mdl_params  # parameters class\n",
    "from src.modelling import mdl_history\n",
    "\n",
    "# from src.modelling import model_cnn\n",
    "from src.modelling import model_lstm\n",
    "from src.modelling import super_model_dl\n",
    "\n",
    "from src.visualization import visualize_pca\n",
    "from src.visualization import mdl_introspect\n",
    "from src.visualization import mdl_ypred_PCA\n",
    "\n",
    "from src.utils import reload_config\n",
    "from src.utils import tardisml_utils"
   ]
  },
  {
   "cell_type": "code",
   "execution_count": 3,
   "id": "421cbe97",
   "metadata": {},
   "outputs": [],
   "source": [
    "import tensorflow as tf"
   ]
  },
  {
   "cell_type": "code",
   "execution_count": 4,
   "id": "279568b3",
   "metadata": {},
   "outputs": [
    {
     "name": "stdout",
     "output_type": "stream",
     "text": [
      "\n",
      "Num GPUs Available:  0\n"
     ]
    },
    {
     "name": "stderr",
     "output_type": "stream",
     "text": [
      "2024-03-18 15:03:39.624978: W tensorflow/compiler/xla/stream_executor/platform/default/dso_loader.cc:64] Could not load dynamic library 'libcuda.so.1'; dlerror: libcuda.so.1: cannot open shared object file: No such file or directory; LD_LIBRARY_PATH: /LUMI_CONTAINER/env1/lib:/LUMI_CONTAINER/env1/lib64:/opt/cray/pe/papi/7.0.1.1/lib64:/opt/cray/libfabric/1.15.2.0/lib64:/.singularity.d/libs\n",
      "2024-03-18 15:03:39.625024: W tensorflow/compiler/xla/stream_executor/cuda/cuda_driver.cc:265] failed call to cuInit: UNKNOWN ERROR (303)\n",
      "2024-03-18 15:03:39.625060: I tensorflow/compiler/xla/stream_executor/cuda/cuda_diagnostics.cc:156] kernel driver does not appear to be running on this host (uan03): /proc/driver/nvidia/version does not exist\n"
     ]
    }
   ],
   "source": [
    "ngpu = len(tf.config.list_physical_devices('GPU'))\n",
    "print(\"\\nNum GPUs Available: \", ngpu)"
   ]
  },
  {
   "cell_type": "code",
   "execution_count": 5,
   "id": "0716d414",
   "metadata": {},
   "outputs": [
    {
     "name": "stderr",
     "output_type": "stream",
     "text": [
      "2024-03-18 15:03:39.707495: I tensorflow/core/platform/cpu_feature_guard.cc:193] This TensorFlow binary is optimized with oneAPI Deep Neural Network Library (oneDNN) to use the following CPU instructions in performance-critical operations:  AVX2 FMA\n",
      "To enable them in other operations, rebuild TensorFlow with the appropriate compiler flags.\n"
     ]
    },
    {
     "name": "stdout",
     "output_type": "stream",
     "text": [
      "GPU device name:\n"
     ]
    }
   ],
   "source": [
    "print(f'GPU device name:{tf.test.gpu_device_name()}')"
   ]
  },
  {
   "cell_type": "markdown",
   "id": "7c5697a6",
   "metadata": {},
   "source": [
    "--------------------------"
   ]
  },
  {
   "cell_type": "code",
   "execution_count": 7,
   "id": "e52febd1",
   "metadata": {},
   "outputs": [
    {
     "name": "stdout",
     "output_type": "stream",
     "text": [
      "Config file found: ../config/config_to_jobs/config_LSTM_no_bias_0wk.yaml\n",
      "PCA results in: /scratch/project_465000269/edelleo1/Leo/results/pca_i100-550_j300-629\n",
      "Config file updated 'pca_dir': ../config/config_to_jobs/config_LSTM_no_bias_0wk.yaml\n",
      "Results in: /scratch/project_465000269/edelleo1/Leo/results/lstm_230413-162021\n",
      "Folder created\n",
      "\n",
      "Subfolder created: /scratch/project_465000269/edelleo1/Leo/results/lstm_230413-162021/ml/\n",
      "Subfolder created: /scratch/project_465000269/edelleo1/Leo/results/lstm_230413-162021/figures/\n",
      "Config file updated 'results_dir': ../config/config_to_jobs/config_LSTM_no_bias_0wk.yaml\n",
      "Config folders updated.\n",
      "Config copied to: /scratch/project_465000269/edelleo1/Leo/results/lstm_230413-162021\n",
      "Config file found: /scratch/project_465000269/edelleo1/Leo/results/lstm_230413-162021/config_LSTM_no_bias_0wk.yaml\n",
      "Default config file is now the copied following one:\n",
      "/scratch/project_465000269/edelleo1/Leo/results/lstm_230413-162021/config_LSTM_no_bias_0wk.yaml\n"
     ]
    }
   ],
   "source": [
    "# add argument to pass config file\n",
    "# import sys\n",
    "# narg = len(sys.argv)  # number of arguments passed\n",
    "# if narg > 1:\n",
    "#     file_config = sys.argv[1]\n",
    "# else:\n",
    "file_config = '../config/config_to_jobs/config_LSTM_no_bias_0wk.yaml'\n",
    "\n",
    "rootdir = tardisml_utils.get_rootdir()\n",
    "# file_config = '../config/data_proc_full.yaml'\n",
    "conf = reload_config.Config(file_config, rootdir=rootdir, verbose=1)"
   ]
  },
  {
   "cell_type": "code",
   "execution_count": 4,
   "id": "7552acd3",
   "metadata": {},
   "outputs": [
    {
     "name": "stdout",
     "output_type": "stream",
     "text": [
      "Config file found: /scratch/project_465000269/edelleo1/Leo/results/lstm_240130-173040/config_h4_EPO.yaml\n"
     ]
    }
   ],
   "source": [
    "ipath = 'Leo/results/lstm_240130-173040/'\n",
    "rootdir = tardisml_utils.get_rootdir()\n",
    "\n",
    "\n",
    "# ---------------------------\n",
    "# Load config file\n",
    "# ---------------------------\n",
    "\n",
    "file_config = f'{rootdir}{ipath}'\n",
    "\n",
    "conf = reload_config.Config(file_config, verbose=1)"
   ]
  },
  {
   "cell_type": "code",
   "execution_count": 5,
   "id": "65112c39",
   "metadata": {},
   "outputs": [
    {
     "name": "stdout",
     "output_type": "stream",
     "text": [
      "\n",
      "Initialisation dataset...\n",
      "History loaded from config file: /scratch/project_465000269/edelleo1/Leo/results/lstm_240130-173040/config_h4_EPO.yaml\n",
      "Loading data...\n",
      "\tLoading sia...\n",
      "\tRetrieve siconc\n",
      "\tRetrieve sisnthick\n",
      "\tRetrieve zos\n",
      "\tRetrieve vxsi\n",
      "\tRetrieve vysi\n",
      "Scaling...\n",
      "\tScalers saved as /scratch/project_465000269/edelleo1/Leo/results/lstm_240130-173040/ml/scalers.pkl\n",
      "Size of the training set:    2581 days\n",
      "Size of the validation set:   645 days\n",
      "Size of the test set:        1036 days\n",
      "Config file updated 'ntrain': /scratch/project_465000269/edelleo1/Leo/results/lstm_240130-173040/config_h4_EPO.yaml\n",
      "Config file updated 'nval': /scratch/project_465000269/edelleo1/Leo/results/lstm_240130-173040/config_h4_EPO.yaml\n",
      "Config file updated 'ntest': /scratch/project_465000269/edelleo1/Leo/results/lstm_240130-173040/config_h4_EPO.yaml\n",
      "Dataset Format for lstm\n",
      "Config file updated 'needfutur': /scratch/project_465000269/edelleo1/Leo/results/lstm_240130-173040/config_h4_EPO.yaml\n",
      "Config file updated 'needpast': /scratch/project_465000269/edelleo1/Leo/results/lstm_240130-173040/config_h4_EPO.yaml\n",
      "Dataset formatted from (4263, 392) to (4143, 7, 392) for H=[-60, -30, -7, 0, 7, 30, 60].\n",
      "Config file updated 'ntest': /scratch/project_465000269/edelleo1/Leo/results/lstm_240130-173040/config_h4_EPO.yaml\n"
     ]
    }
   ],
   "source": [
    "ds = mdl_dataset.Dataset(conf, setup=conf.setup, non_assimilated=conf.non_ass)"
   ]
  },
  {
   "cell_type": "code",
   "execution_count": null,
   "id": "b70f8ba6",
   "metadata": {},
   "outputs": [],
   "source": [
    "m1 = model_lstm.ModelLSTM(ds, timesteps=ds.dataset['X'].shape[1], features=ds.dataset['X'].shape[2])\n",
    "\n",
    "\n",
    "# compile same architecture as during training\n",
    "m1.compile_models(npca=conf.n_comp['tp'])"
   ]
  },
  {
   "cell_type": "code",
   "execution_count": 7,
   "id": "d547e89e",
   "metadata": {},
   "outputs": [
    {
     "name": "stdout",
     "output_type": "stream",
     "text": [
      "Loading models...\n",
      "Loaded: /scratch/project_465000269/edelleo1/Leo/results/lstm_240130-173040/ml/model_weights_LSTM3_bk_8N_PC0\n",
      "Loaded: /scratch/project_465000269/edelleo1/Leo/results/lstm_240130-173040/ml/model_weights_LSTM3_bk_8N_PC1\n",
      "Loaded: /scratch/project_465000269/edelleo1/Leo/results/lstm_240130-173040/ml/model_weights_LSTM3_bk_8N_PC2\n",
      "Loaded: /scratch/project_465000269/edelleo1/Leo/results/lstm_240130-173040/ml/model_weights_LSTM3_bk_8N_PC3\n",
      "Loaded: /scratch/project_465000269/edelleo1/Leo/results/lstm_240130-173040/ml/model_weights_LSTM3_bk_8N_PC4\n",
      "Loaded: /scratch/project_465000269/edelleo1/Leo/results/lstm_240130-173040/ml/model_weights_LSTM3_bk_8N_PC5\n",
      "Loaded: /scratch/project_465000269/edelleo1/Leo/results/lstm_240130-173040/ml/model_weights_LSTM3_bk_8N_PC6\n",
      "Loaded: /scratch/project_465000269/edelleo1/Leo/results/lstm_240130-173040/ml/model_weights_LSTM3_bk_8N_PC7\n"
     ]
    }
   ],
   "source": [
    "ifolder_pattern = f\"model_weights_{conf.ml_name}_{conf.n_comp['tp']}N\"  # 8 from config file\n",
    "\n",
    "# load weights\n",
    "m1.load_model_weights(ipath=f'{rootdir}{ipath}ml/', ifolder_pattern=ifolder_pattern)"
   ]
  },
  {
   "cell_type": "code",
   "execution_count": 8,
   "id": "5cdf7b28",
   "metadata": {},
   "outputs": [],
   "source": [
    "# ---------------------------------------------------\n",
    "#                 Defining parameters\n",
    "# ---------------------------------------------------\n",
    "\n",
    "H = [1,8,15,22]\n",
    "\n",
    "\n",
    "new_hist = mdl_history.History(conf)\n",
    "new_hist.set_zeros()\n",
    "new_hist.set_SIT_history('keras', H)\n",
    "\n",
    "# var_to_keep = ['SITf t+0', 'sisnthick t+0', '2T t+0', '2T t+8', 'MSL t+0', 'TP t+0', 'TP t+8', 'siconc t+0'] #tradi\n",
    "# var_to_keep = ['SITf t+0', 'sisnthick t+0', '2T t+0', 'MSL t+0', 'TP t+0', 'siconc t+0']\n",
    "var_to_keep = ['SITf t+0', 'sisnthick t+0', '2T t+0', 'MSL t+0', 'TP t+0', 'siconc t+0', 'SIA t+0']"
   ]
  },
  {
   "cell_type": "code",
   "execution_count": 8,
   "id": "3be85e3a",
   "metadata": {},
   "outputs": [],
   "source": [
    "from src.data_preparation import load_data"
   ]
  },
  {
   "cell_type": "code",
   "execution_count": 10,
   "id": "6721e39e",
   "metadata": {},
   "outputs": [
    {
     "data": {
      "text/plain": [
       "<module 'src.data_preparation.mdl_dataset' from '/cluster/home/leoede/tardis/tardis-ml/src/data_preparation/mdl_dataset.py'>"
      ]
     },
     "execution_count": 10,
     "metadata": {},
     "output_type": "execute_result"
    }
   ],
   "source": [
    "reload(mdl_dataset)"
   ]
  },
  {
   "cell_type": "code",
   "execution_count": 9,
   "id": "9a6f156b",
   "metadata": {
    "scrolled": true
   },
   "outputs": [
    {
     "name": "stdout",
     "output_type": "stream",
     "text": [
      "\n",
      "Initialisation dataset...\n",
      "Loading data...\n"
     ]
    },
    {
     "name": "stderr",
     "output_type": "stream",
     "text": [
      "/LUMI_TYKKY_KyB8utx/env1/lib/python3.9/site-packages/sklearn/base.py:318: UserWarning: Trying to unpickle estimator PCA from version 1.1.1 when using version 1.2.2. This might lead to breaking code or invalid results. Use at your own risk. For more info please refer to:\n",
      "https://scikit-learn.org/stable/model_persistence.html#security-maintainability-limitations\n",
      "  warnings.warn(\n",
      "/LUMI_TYKKY_KyB8utx/env1/lib/python3.9/site-packages/sklearn/base.py:318: UserWarning: Trying to unpickle estimator PCA from version 1.1.1 when using version 1.2.2. This might lead to breaking code or invalid results. Use at your own risk. For more info please refer to:\n",
      "https://scikit-learn.org/stable/model_persistence.html#security-maintainability-limitations\n",
      "  warnings.warn(\n"
     ]
    },
    {
     "name": "stdout",
     "output_type": "stream",
     "text": [
      "Loading sia...\n",
      "SIA off ! !!!!!!! just to be able to finish poster\n",
      "\tRetrieve siconc\n"
     ]
    },
    {
     "name": "stderr",
     "output_type": "stream",
     "text": [
      "/LUMI_TYKKY_KyB8utx/env1/lib/python3.9/site-packages/sklearn/base.py:318: UserWarning: Trying to unpickle estimator PCA from version 1.1.1 when using version 1.2.2. This might lead to breaking code or invalid results. Use at your own risk. For more info please refer to:\n",
      "https://scikit-learn.org/stable/model_persistence.html#security-maintainability-limitations\n",
      "  warnings.warn(\n"
     ]
    },
    {
     "name": "stdout",
     "output_type": "stream",
     "text": [
      "\tRetrieve sisnthick\n"
     ]
    },
    {
     "name": "stderr",
     "output_type": "stream",
     "text": [
      "/LUMI_TYKKY_KyB8utx/env1/lib/python3.9/site-packages/sklearn/base.py:318: UserWarning: Trying to unpickle estimator PCA from version 1.1.1 when using version 1.2.2. This might lead to breaking code or invalid results. Use at your own risk. For more info please refer to:\n",
      "https://scikit-learn.org/stable/model_persistence.html#security-maintainability-limitations\n",
      "  warnings.warn(\n"
     ]
    },
    {
     "name": "stdout",
     "output_type": "stream",
     "text": [
      "\tRetrieve zos\n"
     ]
    },
    {
     "name": "stderr",
     "output_type": "stream",
     "text": [
      "/LUMI_TYKKY_KyB8utx/env1/lib/python3.9/site-packages/sklearn/base.py:318: UserWarning: Trying to unpickle estimator PCA from version 1.1.1 when using version 1.2.2. This might lead to breaking code or invalid results. Use at your own risk. For more info please refer to:\n",
      "https://scikit-learn.org/stable/model_persistence.html#security-maintainability-limitations\n",
      "  warnings.warn(\n"
     ]
    },
    {
     "name": "stdout",
     "output_type": "stream",
     "text": [
      "\tRetrieve vxsi\n"
     ]
    },
    {
     "name": "stderr",
     "output_type": "stream",
     "text": [
      "/LUMI_TYKKY_KyB8utx/env1/lib/python3.9/site-packages/sklearn/base.py:318: UserWarning: Trying to unpickle estimator PCA from version 1.1.1 when using version 1.2.2. This might lead to breaking code or invalid results. Use at your own risk. For more info please refer to:\n",
      "https://scikit-learn.org/stable/model_persistence.html#security-maintainability-limitations\n",
      "  warnings.warn(\n"
     ]
    },
    {
     "name": "stdout",
     "output_type": "stream",
     "text": [
      "\tRetrieve vysi\n"
     ]
    },
    {
     "name": "stderr",
     "output_type": "stream",
     "text": [
      "/LUMI_TYKKY_KyB8utx/env1/lib/python3.9/site-packages/sklearn/base.py:318: UserWarning: Trying to unpickle estimator PCA from version 1.1.1 when using version 1.2.2. This might lead to breaking code or invalid results. Use at your own risk. For more info please refer to:\n",
      "https://scikit-learn.org/stable/model_persistence.html#security-maintainability-limitations\n",
      "  warnings.warn(\n"
     ]
    },
    {
     "name": "stdout",
     "output_type": "stream",
     "text": [
      "Loading forcing values...\n",
      "Loading pca...\n"
     ]
    },
    {
     "name": "stderr",
     "output_type": "stream",
     "text": [
      "/LUMI_TYKKY_KyB8utx/env1/lib/python3.9/site-packages/sklearn/base.py:318: UserWarning: Trying to unpickle estimator PCA from version 1.1.1 when using version 1.2.2. This might lead to breaking code or invalid results. Use at your own risk. For more info please refer to:\n",
      "https://scikit-learn.org/stable/model_persistence.html#security-maintainability-limitations\n",
      "  warnings.warn(\n"
     ]
    },
    {
     "name": "stdout",
     "output_type": "stream",
     "text": [
      "Apply land/ocean mask...\n",
      "Retrieve PCs and EOFs\n",
      "Adding sia\n",
      "New variable selection:\n",
      "  ['SITf t+0 PC0' 'SITf t+0 PC1' 'SITf t+0 PC2' 'SITf t+0 PC3'\n",
      " 'SITf t+0 PC4' 'SITf t+0 PC5' 'SITf t+0 PC6' 'SITf t+0 PC7'\n",
      " 'sisnthick t+0 PC0' 'sisnthick t+0 PC1' 'sisnthick t+0 PC2'\n",
      " 'sisnthick t+0 PC3' '2T t+0 PC0' '2T t+0 PC1' '2T t+0 PC2' '2T t+0 PC3'\n",
      " 'MSL t+0 PC0' 'MSL t+0 PC1' 'MSL t+0 PC2' 'MSL t+0 PC3' 'TP t+0 PC0'\n",
      " 'TP t+0 PC1' 'TP t+0 PC2' 'TP t+0 PC3' 'siconc t+0 PC0' 'siconc t+0 PC1'\n",
      " 'siconc t+0 PC2' 'siconc t+0 PC3']\n",
      "Variables updated: do not forget to execute self.format_for_dl() if Deep Learning\n",
      "Size of the training set:    1944 days\n",
      "Size of the validation set:   448 days\n",
      "Size of the test set:         600 days\n",
      "Config file updated 'ntrain': /scratch/project_465000269/edelleo1/Leo/results/lstm_230413-162021/config_LSTM_no_bias_0wk.yaml\n",
      "Config file updated 'nval': /scratch/project_465000269/edelleo1/Leo/results/lstm_230413-162021/config_LSTM_no_bias_0wk.yaml\n",
      "Config file updated 'ntest': /scratch/project_465000269/edelleo1/Leo/results/lstm_230413-162021/config_LSTM_no_bias_0wk.yaml\n",
      "Dataset Format for lstm\n",
      "Dataset formatted from (2992, 28) to (2970, 4, 28) for H=[1, 8, 15, 22].\n"
     ]
    }
   ],
   "source": [
    "# ---------------------------------------------------\n",
    "#                 Loading data\n",
    "# ---------------------------------------------------\n",
    "\n",
    "#ds = mdl_dataset.Dataset(conf, setup='no_bias', history=new_hist, var_to_keep=var_to_keep)\n",
    "ds = mdl_dataset.Dataset(conf, setup=conf.setup, history=new_hist, var_to_keep=var_to_keep)\n",
    "\n",
    "# ds_nn = [ds.dataset, 'change le format stp']\n",
    "# ntvt = (ds.ntrain, ds.nval, ds.ntest)\n",
    "\n",
    "# -----------------------------------------------------------"
   ]
  },
  {
   "cell_type": "code",
   "execution_count": 10,
   "id": "085ab3f5",
   "metadata": {},
   "outputs": [],
   "source": [
    "conf.epochs = 6"
   ]
  },
  {
   "cell_type": "code",
   "execution_count": 42,
   "id": "edc6ff03",
   "metadata": {},
   "outputs": [
    {
     "data": {
      "text/plain": [
       "<module 'src.modelling.super_model_dl' from '/cluster/home/leoede/tardis/tardis-ml/src/modelling/super_model_dl.py'>"
      ]
     },
     "execution_count": 42,
     "metadata": {},
     "output_type": "execute_result"
    }
   ],
   "source": [
    "reload(super_model_dl)"
   ]
  },
  {
   "cell_type": "code",
   "execution_count": 12,
   "id": "9d340d7a",
   "metadata": {},
   "outputs": [],
   "source": [
    "from importlib import reload"
   ]
  },
  {
   "cell_type": "code",
   "execution_count": 16,
   "id": "f7600cac",
   "metadata": {},
   "outputs": [
    {
     "data": {
      "text/plain": [
       "<module 'src.modelling.super_model_dl' from '/users/edelleo1/tardis/tardis-ml/src/modelling/super_model_dl.py'>"
      ]
     },
     "execution_count": 16,
     "metadata": {},
     "output_type": "execute_result"
    }
   ],
   "source": [
    "reload(super_model_dl)"
   ]
  },
  {
   "cell_type": "code",
   "execution_count": 17,
   "id": "7faf761f",
   "metadata": {},
   "outputs": [
    {
     "data": {
      "text/plain": [
       "<module 'src.modelling.model_lstm' from '/users/edelleo1/tardis/tardis-ml/src/modelling/model_lstm.py'>"
      ]
     },
     "execution_count": 17,
     "metadata": {},
     "output_type": "execute_result"
    }
   ],
   "source": [
    "reload(model_lstm)"
   ]
  },
  {
   "cell_type": "code",
   "execution_count": 19,
   "id": "62280ba5",
   "metadata": {
    "scrolled": true
   },
   "outputs": [
    {
     "name": "stdout",
     "output_type": "stream",
     "text": [
      "input change depending on model !!\n"
     ]
    },
    {
     "name": "stderr",
     "output_type": "stream",
     "text": [
      "2023-04-13 16:50:59.677584: I tensorflow/core/common_runtime/gpu_fusion_pass.cc:507] ROCm Fusion is enabled.\n",
      "2023-04-13 16:50:59.678369: I tensorflow/core/common_runtime/gpu_fusion_pass.cc:507] ROCm Fusion is enabled.\n",
      "2023-04-13 16:50:59.683408: I tensorflow/core/common_runtime/gpu_fusion_pass.cc:507] ROCm Fusion is enabled.\n",
      "2023-04-13 16:50:59.684056: I tensorflow/core/common_runtime/gpu_fusion_pass.cc:507] ROCm Fusion is enabled.\n",
      "2023-04-13 16:50:59.684692: I tensorflow/core/common_runtime/gpu_fusion_pass.cc:507] ROCm Fusion is enabled.\n",
      "2023-04-13 16:50:59.696324: I tensorflow/core/common_runtime/gpu_fusion_pass.cc:507] ROCm Fusion is enabled.\n",
      "2023-04-13 16:50:59.708146: I tensorflow/core/common_runtime/gpu_fusion_pass.cc:507] ROCm Fusion is enabled.\n",
      "2023-04-13 16:50:59.708736: I tensorflow/core/common_runtime/gpu_fusion_pass.cc:507] ROCm Fusion is enabled.\n",
      "2023-04-13 16:50:59.709303: I tensorflow/core/common_runtime/gpu_fusion_pass.cc:507] ROCm Fusion is enabled.\n",
      "2023-04-13 16:50:59.710309: I tensorflow/core/common_runtime/gpu_fusion_pass.cc:507] ROCm Fusion is enabled.\n",
      "2023-04-13 16:50:59.711176: I tensorflow/core/common_runtime/gpu_fusion_pass.cc:507] ROCm Fusion is enabled.\n",
      "2023-04-13 16:50:59.711897: I tensorflow/core/common_runtime/gpu_fusion_pass.cc:507] ROCm Fusion is enabled.\n",
      "2023-04-13 16:50:59.712474: I tensorflow/core/common_runtime/gpu_fusion_pass.cc:507] ROCm Fusion is enabled.\n",
      "2023-04-13 16:50:59.732397: I tensorflow/core/common_runtime/gpu_fusion_pass.cc:507] ROCm Fusion is enabled.\n",
      "2023-04-13 16:50:59.733210: I tensorflow/core/common_runtime/gpu_fusion_pass.cc:507] ROCm Fusion is enabled.\n",
      "2023-04-13 16:50:59.733930: I tensorflow/core/common_runtime/gpu_fusion_pass.cc:507] ROCm Fusion is enabled.\n",
      "2023-04-13 16:50:59.734553: I tensorflow/core/common_runtime/gpu_fusion_pass.cc:507] ROCm Fusion is enabled.\n",
      "2023-04-13 16:50:59.735414: I tensorflow/core/common_runtime/gpu_fusion_pass.cc:507] ROCm Fusion is enabled.\n",
      "2023-04-13 16:50:59.736289: I tensorflow/core/common_runtime/gpu_fusion_pass.cc:507] ROCm Fusion is enabled.\n",
      "2023-04-13 16:50:59.752263: I tensorflow/core/common_runtime/gpu_fusion_pass.cc:507] ROCm Fusion is enabled.\n",
      "2023-04-13 16:50:59.752832: I tensorflow/core/common_runtime/gpu_fusion_pass.cc:507] ROCm Fusion is enabled.\n",
      "2023-04-13 16:51:00.191872: I tensorflow/core/common_runtime/gpu_fusion_pass.cc:507] ROCm Fusion is enabled.\n",
      "2023-04-13 16:51:00.192688: I tensorflow/core/common_runtime/gpu_fusion_pass.cc:507] ROCm Fusion is enabled.\n",
      "2023-04-13 16:51:00.193556: I tensorflow/core/common_runtime/gpu_fusion_pass.cc:507] ROCm Fusion is enabled.\n",
      "2023-04-13 16:51:00.194122: I tensorflow/core/common_runtime/gpu_fusion_pass.cc:507] ROCm Fusion is enabled.\n",
      "2023-04-13 16:51:00.197772: I tensorflow/core/common_runtime/gpu_fusion_pass.cc:507] ROCm Fusion is enabled.\n",
      "2023-04-13 16:51:00.198346: I tensorflow/core/common_runtime/gpu_fusion_pass.cc:507] ROCm Fusion is enabled.\n",
      "2023-04-13 16:51:00.199575: I tensorflow/core/common_runtime/gpu_fusion_pass.cc:507] ROCm Fusion is enabled.\n"
     ]
    },
    {
     "name": "stdout",
     "output_type": "stream",
     "text": [
      "Compiled !\n",
      "Compiled !\n",
      "Compiled !\n",
      "Compiled !\n",
      "Compiled !\n",
      "Compiled !\n",
      "Compiled !\n",
      "Compiled !\n",
      "Creation of /scratch/project_465000269/edelleo1/Leo/results/lstm_230413-162021/ml/logs_20230413-165103\n",
      "Fitting...\n",
      "Epoch 1/6\n"
     ]
    },
    {
     "name": "stderr",
     "output_type": "stream",
     "text": [
      "2023-04-13 16:51:03.405558: I tensorflow/core/profiler/lib/profiler_session.cc:101] Profiler session initializing.\n",
      "2023-04-13 16:51:03.405586: I tensorflow/core/profiler/lib/profiler_session.cc:116] Profiler session started.\n",
      "2023-04-13 16:51:03.405598: I tensorflow/core/profiler/backends/gpu/device_tracer_rocm.cc:911] GpuTracer created.\n",
      "2023-04-13 16:51:03.405744: I tensorflow/core/profiler/backends/gpu/rocm_tracer.cc:1393] GpuTracer started\n",
      "2023-04-13 16:51:03.405770: I tensorflow/core/profiler/lib/profiler_session.cc:128] Profiler session tear down.\n",
      "2023-04-13 16:51:03.405861: I tensorflow/core/profiler/backends/gpu/rocm_tracer.cc:1407] GpuTracer stopped\n",
      "2023-04-13 16:51:03.411260: I tensorflow/core/common_runtime/gpu_fusion_pass.cc:507] ROCm Fusion is enabled.\n",
      "2023-04-13 16:51:03.419239: I tensorflow/core/common_runtime/gpu_fusion_pass.cc:507] ROCm Fusion is enabled.\n",
      "2023-04-13 16:51:03.425431: I tensorflow/core/common_runtime/gpu_fusion_pass.cc:507] ROCm Fusion is enabled.\n",
      "2023-04-13 16:51:03.426912: I tensorflow/core/common_runtime/gpu_fusion_pass.cc:507] ROCm Fusion is enabled.\n",
      "2023-04-13 16:51:03.427461: I tensorflow/core/common_runtime/gpu_fusion_pass.cc:507] ROCm Fusion is enabled.\n",
      "2023-04-13 16:51:03.429240: I tensorflow/core/common_runtime/gpu_fusion_pass.cc:507] ROCm Fusion is enabled.\n",
      "2023-04-13 16:51:03.436477: I tensorflow/core/common_runtime/gpu_fusion_pass.cc:507] ROCm Fusion is enabled.\n",
      "2023-04-13 16:51:03.440499: I tensorflow/core/common_runtime/gpu_fusion_pass.cc:507] ROCm Fusion is enabled.\n",
      "2023-04-13 16:51:03.443646: I tensorflow/core/common_runtime/gpu_fusion_pass.cc:507] ROCm Fusion is enabled.\n",
      "2023-04-13 16:51:04.559734: I tensorflow/core/common_runtime/gpu_fusion_pass.cc:507] ROCm Fusion is enabled.\n",
      "2023-04-13 16:51:06.361492: I tensorflow/core/common_runtime/gpu_fusion_pass.cc:507] ROCm Fusion is enabled.\n",
      "2023-04-13 16:51:06.463153: I tensorflow/core/common_runtime/gpu_fusion_pass.cc:507] ROCm Fusion is enabled.\n",
      "2023-04-13 16:51:06.546195: I tensorflow/core/common_runtime/gpu_fusion_pass.cc:507] ROCm Fusion is enabled.\n",
      "2023-04-13 16:51:06.613229: I tensorflow/core/common_runtime/gpu_fusion_pass.cc:507] ROCm Fusion is enabled.\n",
      "2023-04-13 16:51:06.640062: I tensorflow/compiler/xla/service/service.cc:173] XLA service 0x152e34236330 initialized for platform Host (this does not guarantee that XLA will be used). Devices:\n",
      "2023-04-13 16:51:06.640095: I tensorflow/compiler/xla/service/service.cc:181]   StreamExecutor device (0): Host, Default Version\n",
      "2023-04-13 16:51:06.682166: I tensorflow/core/common_runtime/gpu_fusion_pass.cc:507] ROCm Fusion is enabled.\n",
      "2023-04-13 16:51:06.769762: I tensorflow/core/common_runtime/gpu_fusion_pass.cc:507] ROCm Fusion is enabled.\n"
     ]
    },
    {
     "name": "stdout",
     "output_type": "stream",
     "text": [
      " 24/483 [>.............................] - ETA: 2s - loss: 1571.4824 - r_square: -0.1068 - root_mean_squared_error: 39.6419 "
     ]
    },
    {
     "name": "stderr",
     "output_type": "stream",
     "text": [
      "2023-04-13 16:51:06.846787: I tensorflow/core/common_runtime/gpu_fusion_pass.cc:507] ROCm Fusion is enabled.\n"
     ]
    },
    {
     "name": "stdout",
     "output_type": "stream",
     "text": [
      "476/483 [============================>.] - ETA: 0s - loss: 1375.3397 - r_square: 0.0281 - root_mean_squared_error: 37.0856"
     ]
    },
    {
     "name": "stderr",
     "output_type": "stream",
     "text": [
      "2023-04-13 16:51:08.938488: I tensorflow/core/common_runtime/gpu_fusion_pass.cc:507] ROCm Fusion is enabled.\n",
      "2023-04-13 16:51:08.939452: I tensorflow/core/common_runtime/gpu_fusion_pass.cc:507] ROCm Fusion is enabled.\n",
      "2023-04-13 16:51:08.940144: I tensorflow/core/common_runtime/gpu_fusion_pass.cc:507] ROCm Fusion is enabled.\n",
      "2023-04-13 16:51:08.941515: I tensorflow/core/common_runtime/gpu_fusion_pass.cc:507] ROCm Fusion is enabled.\n",
      "2023-04-13 16:51:08.942288: I tensorflow/core/common_runtime/gpu_fusion_pass.cc:507] ROCm Fusion is enabled.\n",
      "2023-04-13 16:51:08.943302: I tensorflow/core/common_runtime/gpu_fusion_pass.cc:507] ROCm Fusion is enabled.\n",
      "2023-04-13 16:51:08.944028: I tensorflow/core/common_runtime/gpu_fusion_pass.cc:507] ROCm Fusion is enabled.\n",
      "2023-04-13 16:51:08.944819: I tensorflow/core/common_runtime/gpu_fusion_pass.cc:507] ROCm Fusion is enabled.\n",
      "2023-04-13 16:51:08.945814: I tensorflow/core/common_runtime/gpu_fusion_pass.cc:507] ROCm Fusion is enabled.\n",
      "2023-04-13 16:51:08.951611: I tensorflow/core/common_runtime/gpu_fusion_pass.cc:507] ROCm Fusion is enabled.\n",
      "2023-04-13 16:51:08.952542: I tensorflow/core/common_runtime/gpu_fusion_pass.cc:507] ROCm Fusion is enabled.\n",
      "2023-04-13 16:51:08.961295: I tensorflow/core/common_runtime/gpu_fusion_pass.cc:507] ROCm Fusion is enabled.\n",
      "2023-04-13 16:51:08.962374: I tensorflow/core/common_runtime/gpu_fusion_pass.cc:507] ROCm Fusion is enabled.\n",
      "2023-04-13 16:51:08.963110: I tensorflow/core/common_runtime/gpu_fusion_pass.cc:507] ROCm Fusion is enabled.\n",
      "2023-04-13 16:51:08.963897: I tensorflow/core/common_runtime/gpu_fusion_pass.cc:507] ROCm Fusion is enabled.\n",
      "2023-04-13 16:51:08.970178: I tensorflow/core/common_runtime/gpu_fusion_pass.cc:507] ROCm Fusion is enabled.\n",
      "2023-04-13 16:51:08.971199: I tensorflow/core/common_runtime/gpu_fusion_pass.cc:507] ROCm Fusion is enabled.\n",
      "2023-04-13 16:51:08.981855: I tensorflow/core/common_runtime/gpu_fusion_pass.cc:507] ROCm Fusion is enabled.\n",
      "2023-04-13 16:51:08.986417: I tensorflow/core/common_runtime/gpu_fusion_pass.cc:507] ROCm Fusion is enabled.\n",
      "2023-04-13 16:51:08.990001: I tensorflow/core/common_runtime/gpu_fusion_pass.cc:507] ROCm Fusion is enabled.\n",
      "2023-04-13 16:51:08.990938: I tensorflow/core/common_runtime/gpu_fusion_pass.cc:507] ROCm Fusion is enabled.\n",
      "2023-04-13 16:51:08.991800: I tensorflow/core/common_runtime/gpu_fusion_pass.cc:507] ROCm Fusion is enabled.\n",
      "2023-04-13 16:51:08.992489: I tensorflow/core/common_runtime/gpu_fusion_pass.cc:507] ROCm Fusion is enabled.\n",
      "2023-04-13 16:51:09.637943: I tensorflow/core/common_runtime/gpu_fusion_pass.cc:507] ROCm Fusion is enabled.\n",
      "2023-04-13 16:51:09.664107: I tensorflow/core/common_runtime/gpu_fusion_pass.cc:507] ROCm Fusion is enabled.\n",
      "2023-04-13 16:51:09.687060: I tensorflow/core/common_runtime/gpu_fusion_pass.cc:507] ROCm Fusion is enabled.\n",
      "2023-04-13 16:51:09.710333: I tensorflow/core/common_runtime/gpu_fusion_pass.cc:507] ROCm Fusion is enabled.\n"
     ]
    },
    {
     "name": "stdout",
     "output_type": "stream",
     "text": [
      "483/483 [==============================] - 6s 6ms/step - loss: 1371.3716 - r_square: 0.0295 - root_mean_squared_error: 37.0320 - val_loss: 1113.1958 - val_r_square: 0.0559 - val_root_mean_squared_error: 33.3646\n",
      "Epoch 2/6\n",
      "483/483 [==============================] - 2s 4ms/step - loss: 1040.3035 - r_square: 0.2638 - root_mean_squared_error: 32.2537 - val_loss: 1094.1853 - val_r_square: 0.0720 - val_root_mean_squared_error: 33.0785\n",
      "Epoch 3/6\n",
      " 13/483 [..............................] - ETA: 1s - loss: 813.1334 - r_square: 0.3692 - root_mean_squared_error: 28.5155 "
     ]
    },
    {
     "name": "stderr",
     "output_type": "stream",
     "text": [
      "2023-04-13 16:51:11.880207: I tensorflow/core/common_runtime/gpu_fusion_pass.cc:507] ROCm Fusion is enabled.\n",
      "2023-04-13 16:51:11.885071: I tensorflow/core/common_runtime/gpu_fusion_pass.cc:507] ROCm Fusion is enabled.\n",
      "2023-04-13 16:51:11.888828: I tensorflow/core/common_runtime/gpu_fusion_pass.cc:507] ROCm Fusion is enabled.\n"
     ]
    },
    {
     "name": "stdout",
     "output_type": "stream",
     "text": [
      "483/483 [==============================] - 2s 4ms/step - loss: 856.0575 - r_square: 0.3942 - root_mean_squared_error: 29.2585 - val_loss: 1042.4021 - val_r_square: 0.1159 - val_root_mean_squared_error: 32.2863\n",
      "Epoch 4/6\n",
      " 13/483 [..............................] - ETA: 1s - loss: 645.7972 - r_square: 0.4544 - root_mean_squared_error: 25.4125"
     ]
    },
    {
     "name": "stderr",
     "output_type": "stream",
     "text": [
      "2023-04-13 16:51:13.991205: I tensorflow/core/common_runtime/gpu_fusion_pass.cc:507] ROCm Fusion is enabled.\n",
      "2023-04-13 16:51:13.995817: I tensorflow/core/common_runtime/gpu_fusion_pass.cc:507] ROCm Fusion is enabled.\n",
      "2023-04-13 16:51:13.999325: I tensorflow/core/common_runtime/gpu_fusion_pass.cc:507] ROCm Fusion is enabled.\n"
     ]
    },
    {
     "name": "stdout",
     "output_type": "stream",
     "text": [
      "483/483 [==============================] - 2s 5ms/step - loss: 745.4191 - r_square: 0.4725 - root_mean_squared_error: 27.3024 - val_loss: 1111.5302 - val_r_square: 0.0573 - val_root_mean_squared_error: 33.3396\n",
      "Epoch 5/6\n",
      "  1/483 [..............................] - ETA: 2s - loss: 218.7216 - r_square: 0.7806 - root_mean_squared_error: 14.7892"
     ]
    },
    {
     "name": "stderr",
     "output_type": "stream",
     "text": [
      "2023-04-13 16:51:16.168415: I tensorflow/core/common_runtime/gpu_fusion_pass.cc:507] ROCm Fusion is enabled.\n",
      "2023-04-13 16:51:16.173276: I tensorflow/core/common_runtime/gpu_fusion_pass.cc:507] ROCm Fusion is enabled.\n",
      "2023-04-13 16:51:16.177002: I tensorflow/core/common_runtime/gpu_fusion_pass.cc:507] ROCm Fusion is enabled.\n"
     ]
    },
    {
     "name": "stdout",
     "output_type": "stream",
     "text": [
      "483/483 [==============================] - 2s 5ms/step - loss: 680.2573 - r_square: 0.5186 - root_mean_squared_error: 26.0817 - val_loss: 1086.4058 - val_r_square: 0.0786 - val_root_mean_squared_error: 32.9607\n",
      "Epoch 6/6\n",
      "  1/483 [..............................] - ETA: 2s - loss: 64.3864 - r_square: 0.8184 - root_mean_squared_error: 8.0241"
     ]
    },
    {
     "name": "stderr",
     "output_type": "stream",
     "text": [
      "2023-04-13 16:51:18.383207: I tensorflow/core/common_runtime/gpu_fusion_pass.cc:507] ROCm Fusion is enabled.\n",
      "2023-04-13 16:51:18.387580: I tensorflow/core/common_runtime/gpu_fusion_pass.cc:507] ROCm Fusion is enabled.\n",
      "2023-04-13 16:51:18.390862: I tensorflow/core/common_runtime/gpu_fusion_pass.cc:507] ROCm Fusion is enabled.\n"
     ]
    },
    {
     "name": "stdout",
     "output_type": "stream",
     "text": [
      "483/483 [==============================] - 2s 5ms/step - loss: 603.4047 - r_square: 0.5730 - root_mean_squared_error: 24.5643 - val_loss: 1025.1986 - val_r_square: 0.1305 - val_root_mean_squared_error: 32.0187\n",
      "pc0 Training finished !\n"
     ]
    },
    {
     "name": "stderr",
     "output_type": "stream",
     "text": [
      "2023-04-13 16:51:20.575795: I tensorflow/core/common_runtime/gpu_fusion_pass.cc:507] ROCm Fusion is enabled.\n",
      "2023-04-13 16:51:20.580719: I tensorflow/core/common_runtime/gpu_fusion_pass.cc:507] ROCm Fusion is enabled.\n",
      "2023-04-13 16:51:20.584474: I tensorflow/core/common_runtime/gpu_fusion_pass.cc:507] ROCm Fusion is enabled.\n",
      "2023-04-13 16:51:20.744327: I tensorflow/core/common_runtime/gpu_fusion_pass.cc:507] ROCm Fusion is enabled.\n",
      "2023-04-13 16:51:20.753534: I tensorflow/core/common_runtime/gpu_fusion_pass.cc:507] ROCm Fusion is enabled.\n",
      "2023-04-13 16:51:20.761233: I tensorflow/core/common_runtime/gpu_fusion_pass.cc:507] ROCm Fusion is enabled.\n",
      "2023-04-13 16:51:20.770412: I tensorflow/core/common_runtime/gpu_fusion_pass.cc:507] ROCm Fusion is enabled.\n",
      "2023-04-13 16:51:20.775231: I tensorflow/core/common_runtime/gpu_fusion_pass.cc:507] ROCm Fusion is enabled.\n"
     ]
    },
    {
     "name": "stdout",
     "output_type": "stream",
     "text": [
      "Epoch 1/6\n"
     ]
    },
    {
     "name": "stderr",
     "output_type": "stream",
     "text": [
      "2023-04-13 16:51:20.778969: I tensorflow/core/common_runtime/gpu_fusion_pass.cc:507] ROCm Fusion is enabled.\n",
      "2023-04-13 16:51:23.443531: I tensorflow/core/common_runtime/gpu_fusion_pass.cc:507] ROCm Fusion is enabled.\n",
      "2023-04-13 16:51:23.516112: I tensorflow/core/common_runtime/gpu_fusion_pass.cc:507] ROCm Fusion is enabled.\n",
      "2023-04-13 16:51:23.582709: I tensorflow/core/common_runtime/gpu_fusion_pass.cc:507] ROCm Fusion is enabled.\n",
      "2023-04-13 16:51:23.649042: I tensorflow/core/common_runtime/gpu_fusion_pass.cc:507] ROCm Fusion is enabled.\n",
      "2023-04-13 16:51:23.720068: I tensorflow/core/common_runtime/gpu_fusion_pass.cc:507] ROCm Fusion is enabled.\n",
      "2023-04-13 16:51:23.794489: I tensorflow/core/common_runtime/gpu_fusion_pass.cc:507] ROCm Fusion is enabled.\n"
     ]
    },
    {
     "name": "stdout",
     "output_type": "stream",
     "text": [
      " 24/483 [>.............................] - ETA: 2s - loss: 1215.4681 - r_square: -0.0622 - root_mean_squared_error: 34.8636"
     ]
    },
    {
     "name": "stderr",
     "output_type": "stream",
     "text": [
      "2023-04-13 16:51:23.861723: I tensorflow/core/common_runtime/gpu_fusion_pass.cc:507] ROCm Fusion is enabled.\n"
     ]
    },
    {
     "name": "stdout",
     "output_type": "stream",
     "text": [
      "480/483 [============================>.] - ETA: 0s - loss: 1307.4021 - r_square: 0.0473 - root_mean_squared_error: 36.1580"
     ]
    },
    {
     "name": "stderr",
     "output_type": "stream",
     "text": [
      "2023-04-13 16:51:26.003373: I tensorflow/core/common_runtime/gpu_fusion_pass.cc:507] ROCm Fusion is enabled.\n",
      "2023-04-13 16:51:26.012561: I tensorflow/core/common_runtime/gpu_fusion_pass.cc:507] ROCm Fusion is enabled.\n",
      "2023-04-13 16:51:26.019576: I tensorflow/core/common_runtime/gpu_fusion_pass.cc:507] ROCm Fusion is enabled.\n",
      "2023-04-13 16:51:26.028190: I tensorflow/core/common_runtime/gpu_fusion_pass.cc:507] ROCm Fusion is enabled.\n",
      "2023-04-13 16:51:26.032750: I tensorflow/core/common_runtime/gpu_fusion_pass.cc:507] ROCm Fusion is enabled.\n",
      "2023-04-13 16:51:26.036323: I tensorflow/core/common_runtime/gpu_fusion_pass.cc:507] ROCm Fusion is enabled.\n",
      "2023-04-13 16:51:26.657365: I tensorflow/core/common_runtime/gpu_fusion_pass.cc:507] ROCm Fusion is enabled.\n",
      "2023-04-13 16:51:26.683335: I tensorflow/core/common_runtime/gpu_fusion_pass.cc:507] ROCm Fusion is enabled.\n",
      "2023-04-13 16:51:26.706772: I tensorflow/core/common_runtime/gpu_fusion_pass.cc:507] ROCm Fusion is enabled.\n",
      "2023-04-13 16:51:26.729543: I tensorflow/core/common_runtime/gpu_fusion_pass.cc:507] ROCm Fusion is enabled.\n"
     ]
    },
    {
     "name": "stdout",
     "output_type": "stream",
     "text": [
      "483/483 [==============================] - 6s 6ms/step - loss: 1303.0251 - r_square: 0.0478 - root_mean_squared_error: 36.0974 - val_loss: 155.9443 - val_r_square: -0.1607 - val_root_mean_squared_error: 12.4878\n",
      "Epoch 2/6\n",
      "483/483 [==============================] - 2s 5ms/step - loss: 1102.3380 - r_square: 0.1945 - root_mean_squared_error: 33.2015 - val_loss: 148.8026 - val_r_square: -0.1075 - val_root_mean_squared_error: 12.1985\n",
      "Epoch 3/6\n",
      "  1/483 [..............................] - ETA: 2s - loss: 1480.2893 - r_square: -0.1163 - root_mean_squared_error: 38.4745"
     ]
    },
    {
     "name": "stderr",
     "output_type": "stream",
     "text": [
      "2023-04-13 16:51:28.962343: I tensorflow/core/common_runtime/gpu_fusion_pass.cc:507] ROCm Fusion is enabled.\n",
      "2023-04-13 16:51:28.967192: I tensorflow/core/common_runtime/gpu_fusion_pass.cc:507] ROCm Fusion is enabled.\n",
      "2023-04-13 16:51:28.970907: I tensorflow/core/common_runtime/gpu_fusion_pass.cc:507] ROCm Fusion is enabled.\n"
     ]
    },
    {
     "name": "stdout",
     "output_type": "stream",
     "text": [
      "483/483 [==============================] - 2s 5ms/step - loss: 966.2871 - r_square: 0.2939 - root_mean_squared_error: 31.0852 - val_loss: 173.8509 - val_r_square: -0.2939 - val_root_mean_squared_error: 13.1853\n",
      "Epoch 4/6\n",
      "  1/483 [..............................] - ETA: 2s - loss: 164.0311 - r_square: 0.4889 - root_mean_squared_error: 12.8075"
     ]
    },
    {
     "name": "stderr",
     "output_type": "stream",
     "text": [
      "2023-04-13 16:51:31.184080: I tensorflow/core/common_runtime/gpu_fusion_pass.cc:507] ROCm Fusion is enabled.\n",
      "2023-04-13 16:51:31.188926: I tensorflow/core/common_runtime/gpu_fusion_pass.cc:507] ROCm Fusion is enabled.\n",
      "2023-04-13 16:51:31.192652: I tensorflow/core/common_runtime/gpu_fusion_pass.cc:507] ROCm Fusion is enabled.\n"
     ]
    },
    {
     "name": "stdout",
     "output_type": "stream",
     "text": [
      "483/483 [==============================] - 2s 4ms/step - loss: 851.7645 - r_square: 0.3776 - root_mean_squared_error: 29.1850 - val_loss: 196.1222 - val_r_square: -0.4597 - val_root_mean_squared_error: 14.0044\n",
      "Epoch 5/6\n",
      "  1/483 [..............................] - ETA: 2s - loss: 81.5528 - r_square: 0.5205 - root_mean_squared_error: 9.0307"
     ]
    },
    {
     "name": "stderr",
     "output_type": "stream",
     "text": [
      "2023-04-13 16:51:33.333057: I tensorflow/core/common_runtime/gpu_fusion_pass.cc:507] ROCm Fusion is enabled.\n",
      "2023-04-13 16:51:33.337933: I tensorflow/core/common_runtime/gpu_fusion_pass.cc:507] ROCm Fusion is enabled.\n",
      "2023-04-13 16:51:33.341668: I tensorflow/core/common_runtime/gpu_fusion_pass.cc:507] ROCm Fusion is enabled.\n"
     ]
    },
    {
     "name": "stdout",
     "output_type": "stream",
     "text": [
      "483/483 [==============================] - 2s 5ms/step - loss: 772.5253 - r_square: 0.4355 - root_mean_squared_error: 27.7943 - val_loss: 201.5561 - val_r_square: -0.5001 - val_root_mean_squared_error: 14.1970\n",
      "Epoch 6/6\n",
      "  1/483 [..............................] - ETA: 2s - loss: 88.6793 - r_square: 0.1848 - root_mean_squared_error: 9.4170"
     ]
    },
    {
     "name": "stderr",
     "output_type": "stream",
     "text": [
      "2023-04-13 16:51:35.534843: I tensorflow/core/common_runtime/gpu_fusion_pass.cc:507] ROCm Fusion is enabled.\n",
      "2023-04-13 16:51:35.539224: I tensorflow/core/common_runtime/gpu_fusion_pass.cc:507] ROCm Fusion is enabled.\n",
      "2023-04-13 16:51:35.542512: I tensorflow/core/common_runtime/gpu_fusion_pass.cc:507] ROCm Fusion is enabled.\n"
     ]
    },
    {
     "name": "stdout",
     "output_type": "stream",
     "text": [
      "483/483 [==============================] - 2s 4ms/step - loss: 710.1187 - r_square: 0.4811 - root_mean_squared_error: 26.6481 - val_loss: 236.4846 - val_r_square: -0.7601 - val_root_mean_squared_error: 15.3781\n",
      "Epoch 6: early stopping\n",
      "pc1 Training finished !\n",
      "Epoch 1/6\n"
     ]
    },
    {
     "name": "stderr",
     "output_type": "stream",
     "text": [
      "2023-04-13 16:51:37.659750: I tensorflow/core/common_runtime/gpu_fusion_pass.cc:507] ROCm Fusion is enabled.\n",
      "2023-04-13 16:51:37.664775: I tensorflow/core/common_runtime/gpu_fusion_pass.cc:507] ROCm Fusion is enabled.\n",
      "2023-04-13 16:51:37.668520: I tensorflow/core/common_runtime/gpu_fusion_pass.cc:507] ROCm Fusion is enabled.\n",
      "2023-04-13 16:51:37.811675: I tensorflow/core/common_runtime/gpu_fusion_pass.cc:507] ROCm Fusion is enabled.\n",
      "2023-04-13 16:51:37.829308: I tensorflow/core/common_runtime/gpu_fusion_pass.cc:507] ROCm Fusion is enabled.\n",
      "2023-04-13 16:51:37.835781: I tensorflow/core/common_runtime/gpu_fusion_pass.cc:507] ROCm Fusion is enabled.\n",
      "2023-04-13 16:51:37.844207: I tensorflow/core/common_runtime/gpu_fusion_pass.cc:507] ROCm Fusion is enabled.\n",
      "2023-04-13 16:51:37.848459: I tensorflow/core/common_runtime/gpu_fusion_pass.cc:507] ROCm Fusion is enabled.\n",
      "2023-04-13 16:51:37.851912: I tensorflow/core/common_runtime/gpu_fusion_pass.cc:507] ROCm Fusion is enabled.\n",
      "2023-04-13 16:51:40.771032: I tensorflow/core/common_runtime/gpu_fusion_pass.cc:507] ROCm Fusion is enabled.\n",
      "2023-04-13 16:51:40.843666: I tensorflow/core/common_runtime/gpu_fusion_pass.cc:507] ROCm Fusion is enabled.\n",
      "2023-04-13 16:51:40.909857: I tensorflow/core/common_runtime/gpu_fusion_pass.cc:507] ROCm Fusion is enabled.\n",
      "2023-04-13 16:51:40.977732: I tensorflow/core/common_runtime/gpu_fusion_pass.cc:507] ROCm Fusion is enabled.\n",
      "2023-04-13 16:51:41.048177: I tensorflow/core/common_runtime/gpu_fusion_pass.cc:507] ROCm Fusion is enabled.\n",
      "2023-04-13 16:51:41.123244: I tensorflow/core/common_runtime/gpu_fusion_pass.cc:507] ROCm Fusion is enabled.\n"
     ]
    },
    {
     "name": "stdout",
     "output_type": "stream",
     "text": [
      " 36/483 [=>............................] - ETA: 1s - loss: 896.8073 - r_square: -0.0080 - root_mean_squared_error: 29.9467"
     ]
    },
    {
     "name": "stderr",
     "output_type": "stream",
     "text": [
      "2023-04-13 16:51:41.191039: I tensorflow/core/common_runtime/gpu_fusion_pass.cc:507] ROCm Fusion is enabled.\n"
     ]
    },
    {
     "name": "stdout",
     "output_type": "stream",
     "text": [
      "481/483 [============================>.] - ETA: 0s - loss: 822.7520 - r_square: 0.1201 - root_mean_squared_error: 28.6837"
     ]
    },
    {
     "name": "stderr",
     "output_type": "stream",
     "text": [
      "2023-04-13 16:51:43.242308: I tensorflow/core/common_runtime/gpu_fusion_pass.cc:507] ROCm Fusion is enabled.\n",
      "2023-04-13 16:51:43.251317: I tensorflow/core/common_runtime/gpu_fusion_pass.cc:507] ROCm Fusion is enabled.\n",
      "2023-04-13 16:51:43.258378: I tensorflow/core/common_runtime/gpu_fusion_pass.cc:507] ROCm Fusion is enabled.\n",
      "2023-04-13 16:51:43.266757: I tensorflow/core/common_runtime/gpu_fusion_pass.cc:507] ROCm Fusion is enabled.\n",
      "2023-04-13 16:51:43.271318: I tensorflow/core/common_runtime/gpu_fusion_pass.cc:507] ROCm Fusion is enabled.\n",
      "2023-04-13 16:51:43.274889: I tensorflow/core/common_runtime/gpu_fusion_pass.cc:507] ROCm Fusion is enabled.\n",
      "2023-04-13 16:51:43.897471: I tensorflow/core/common_runtime/gpu_fusion_pass.cc:507] ROCm Fusion is enabled.\n",
      "2023-04-13 16:51:43.923430: I tensorflow/core/common_runtime/gpu_fusion_pass.cc:507] ROCm Fusion is enabled.\n",
      "2023-04-13 16:51:43.947066: I tensorflow/core/common_runtime/gpu_fusion_pass.cc:507] ROCm Fusion is enabled.\n",
      "2023-04-13 16:51:43.970970: I tensorflow/core/common_runtime/gpu_fusion_pass.cc:507] ROCm Fusion is enabled.\n"
     ]
    },
    {
     "name": "stdout",
     "output_type": "stream",
     "text": [
      "483/483 [==============================] - 6s 6ms/step - loss: 821.0027 - r_square: 0.1201 - root_mean_squared_error: 28.6531 - val_loss: 310.8011 - val_r_square: -0.6376 - val_root_mean_squared_error: 17.6296\n",
      "Epoch 2/6\n",
      "483/483 [==============================] - 2s 5ms/step - loss: 522.5325 - r_square: 0.4400 - root_mean_squared_error: 22.8590 - val_loss: 305.7088 - val_r_square: -0.6108 - val_root_mean_squared_error: 17.4845\n",
      "Epoch 3/6\n",
      "  1/483 [..............................] - ETA: 2s - loss: 136.8879 - r_square: 0.4610 - root_mean_squared_error: 11.6999"
     ]
    },
    {
     "name": "stderr",
     "output_type": "stream",
     "text": [
      "2023-04-13 16:51:46.196030: I tensorflow/core/common_runtime/gpu_fusion_pass.cc:507] ROCm Fusion is enabled.\n",
      "2023-04-13 16:51:46.200842: I tensorflow/core/common_runtime/gpu_fusion_pass.cc:507] ROCm Fusion is enabled.\n",
      "2023-04-13 16:51:46.204541: I tensorflow/core/common_runtime/gpu_fusion_pass.cc:507] ROCm Fusion is enabled.\n"
     ]
    },
    {
     "name": "stdout",
     "output_type": "stream",
     "text": [
      "483/483 [==============================] - 2s 5ms/step - loss: 403.7363 - r_square: 0.5673 - root_mean_squared_error: 20.0932 - val_loss: 360.0723 - val_r_square: -0.8972 - val_root_mean_squared_error: 18.9756\n",
      "Epoch 4/6\n",
      "  1/483 [..............................] - ETA: 2s - loss: 184.7338 - r_square: 0.8032 - root_mean_squared_error: 13.5917"
     ]
    },
    {
     "name": "stderr",
     "output_type": "stream",
     "text": [
      "2023-04-13 16:51:48.378251: I tensorflow/core/common_runtime/gpu_fusion_pass.cc:507] ROCm Fusion is enabled.\n",
      "2023-04-13 16:51:48.383072: I tensorflow/core/common_runtime/gpu_fusion_pass.cc:507] ROCm Fusion is enabled.\n",
      "2023-04-13 16:51:48.386787: I tensorflow/core/common_runtime/gpu_fusion_pass.cc:507] ROCm Fusion is enabled.\n"
     ]
    },
    {
     "name": "stdout",
     "output_type": "stream",
     "text": [
      "483/483 [==============================] - 2s 4ms/step - loss: 348.7704 - r_square: 0.6262 - root_mean_squared_error: 18.6754 - val_loss: 365.8410 - val_r_square: -0.9276 - val_root_mean_squared_error: 19.1270\n",
      "Epoch 5/6\n",
      "  1/483 [..............................] - ETA: 2s - loss: 392.1397 - r_square: 0.6929 - root_mean_squared_error: 19.8025"
     ]
    },
    {
     "name": "stderr",
     "output_type": "stream",
     "text": [
      "2023-04-13 16:51:50.529999: I tensorflow/core/common_runtime/gpu_fusion_pass.cc:507] ROCm Fusion is enabled.\n",
      "2023-04-13 16:51:50.534280: I tensorflow/core/common_runtime/gpu_fusion_pass.cc:507] ROCm Fusion is enabled.\n",
      "2023-04-13 16:51:50.537984: I tensorflow/core/common_runtime/gpu_fusion_pass.cc:507] ROCm Fusion is enabled.\n"
     ]
    },
    {
     "name": "stdout",
     "output_type": "stream",
     "text": [
      "483/483 [==============================] - 2s 5ms/step - loss: 303.4853 - r_square: 0.6748 - root_mean_squared_error: 17.4208 - val_loss: 458.9398 - val_r_square: -1.4181 - val_root_mean_squared_error: 21.4229\n",
      "Epoch 6/6\n",
      " 13/483 [..............................] - ETA: 2s - loss: 321.5374 - r_square: 0.6659 - root_mean_squared_error: 17.9315"
     ]
    },
    {
     "name": "stderr",
     "output_type": "stream",
     "text": [
      "2023-04-13 16:51:52.746220: I tensorflow/core/common_runtime/gpu_fusion_pass.cc:507] ROCm Fusion is enabled.\n",
      "2023-04-13 16:51:52.750471: I tensorflow/core/common_runtime/gpu_fusion_pass.cc:507] ROCm Fusion is enabled.\n",
      "2023-04-13 16:51:52.753767: I tensorflow/core/common_runtime/gpu_fusion_pass.cc:507] ROCm Fusion is enabled.\n"
     ]
    },
    {
     "name": "stdout",
     "output_type": "stream",
     "text": [
      "483/483 [==============================] - 2s 5ms/step - loss: 268.8943 - r_square: 0.7118 - root_mean_squared_error: 16.3980 - val_loss: 541.1179 - val_r_square: -1.8511 - val_root_mean_squared_error: 23.2619\n",
      "Epoch 6: early stopping\n",
      "pc2 Training finished !\n",
      "Epoch 1/6\n"
     ]
    },
    {
     "name": "stderr",
     "output_type": "stream",
     "text": [
      "2023-04-13 16:51:54.951896: I tensorflow/core/common_runtime/gpu_fusion_pass.cc:507] ROCm Fusion is enabled.\n",
      "2023-04-13 16:51:54.956797: I tensorflow/core/common_runtime/gpu_fusion_pass.cc:507] ROCm Fusion is enabled.\n",
      "2023-04-13 16:51:54.960520: I tensorflow/core/common_runtime/gpu_fusion_pass.cc:507] ROCm Fusion is enabled.\n",
      "2023-04-13 16:51:55.116377: I tensorflow/core/common_runtime/gpu_fusion_pass.cc:507] ROCm Fusion is enabled.\n",
      "2023-04-13 16:51:55.125579: I tensorflow/core/common_runtime/gpu_fusion_pass.cc:507] ROCm Fusion is enabled.\n",
      "2023-04-13 16:51:55.132819: I tensorflow/core/common_runtime/gpu_fusion_pass.cc:507] ROCm Fusion is enabled.\n",
      "2023-04-13 16:51:55.142183: I tensorflow/core/common_runtime/gpu_fusion_pass.cc:507] ROCm Fusion is enabled.\n",
      "2023-04-13 16:51:55.146998: I tensorflow/core/common_runtime/gpu_fusion_pass.cc:507] ROCm Fusion is enabled.\n",
      "2023-04-13 16:51:55.150711: I tensorflow/core/common_runtime/gpu_fusion_pass.cc:507] ROCm Fusion is enabled.\n",
      "2023-04-13 16:51:57.818130: I tensorflow/core/common_runtime/gpu_fusion_pass.cc:507] ROCm Fusion is enabled.\n",
      "2023-04-13 16:51:57.890680: I tensorflow/core/common_runtime/gpu_fusion_pass.cc:507] ROCm Fusion is enabled.\n",
      "2023-04-13 16:51:57.958826: I tensorflow/core/common_runtime/gpu_fusion_pass.cc:507] ROCm Fusion is enabled.\n",
      "2023-04-13 16:51:58.025847: I tensorflow/core/common_runtime/gpu_fusion_pass.cc:507] ROCm Fusion is enabled.\n",
      "2023-04-13 16:51:58.096703: I tensorflow/core/common_runtime/gpu_fusion_pass.cc:507] ROCm Fusion is enabled.\n",
      "2023-04-13 16:51:58.174889: I tensorflow/core/common_runtime/gpu_fusion_pass.cc:507] ROCm Fusion is enabled.\n"
     ]
    },
    {
     "name": "stdout",
     "output_type": "stream",
     "text": [
      " 23/483 [>.............................] - ETA: 2s - loss: 806.4260 - r_square: -0.0511 - root_mean_squared_error: 28.3976     "
     ]
    },
    {
     "name": "stderr",
     "output_type": "stream",
     "text": [
      "2023-04-13 16:51:58.243528: I tensorflow/core/common_runtime/gpu_fusion_pass.cc:507] ROCm Fusion is enabled.\n"
     ]
    },
    {
     "name": "stdout",
     "output_type": "stream",
     "text": [
      "475/483 [============================>.] - ETA: 0s - loss: 718.3365 - r_square: 0.0894 - root_mean_squared_error: 26.8018"
     ]
    },
    {
     "name": "stderr",
     "output_type": "stream",
     "text": [
      "2023-04-13 16:52:00.359675: I tensorflow/core/common_runtime/gpu_fusion_pass.cc:507] ROCm Fusion is enabled.\n",
      "2023-04-13 16:52:00.368682: I tensorflow/core/common_runtime/gpu_fusion_pass.cc:507] ROCm Fusion is enabled.\n",
      "2023-04-13 16:52:00.374903: I tensorflow/core/common_runtime/gpu_fusion_pass.cc:507] ROCm Fusion is enabled.\n",
      "2023-04-13 16:52:00.383155: I tensorflow/core/common_runtime/gpu_fusion_pass.cc:507] ROCm Fusion is enabled.\n",
      "2023-04-13 16:52:00.387181: I tensorflow/core/common_runtime/gpu_fusion_pass.cc:507] ROCm Fusion is enabled.\n",
      "2023-04-13 16:52:00.390330: I tensorflow/core/common_runtime/gpu_fusion_pass.cc:507] ROCm Fusion is enabled.\n",
      "2023-04-13 16:52:01.006463: I tensorflow/core/common_runtime/gpu_fusion_pass.cc:507] ROCm Fusion is enabled.\n",
      "2023-04-13 16:52:01.031575: I tensorflow/core/common_runtime/gpu_fusion_pass.cc:507] ROCm Fusion is enabled.\n",
      "2023-04-13 16:52:01.054099: I tensorflow/core/common_runtime/gpu_fusion_pass.cc:507] ROCm Fusion is enabled.\n",
      "2023-04-13 16:52:01.077538: I tensorflow/core/common_runtime/gpu_fusion_pass.cc:507] ROCm Fusion is enabled.\n"
     ]
    },
    {
     "name": "stdout",
     "output_type": "stream",
     "text": [
      "483/483 [==============================] - 6s 6ms/step - loss: 710.1713 - r_square: 0.0914 - root_mean_squared_error: 26.6490 - val_loss: 299.7370 - val_r_square: -0.1601 - val_root_mean_squared_error: 17.3129\n",
      "Epoch 2/6\n",
      "483/483 [==============================] - 2s 5ms/step - loss: 528.6989 - r_square: 0.3236 - root_mean_squared_error: 22.9935 - val_loss: 237.0813 - val_r_square: 0.0824 - val_root_mean_squared_error: 15.3974\n",
      "Epoch 3/6\n",
      "  1/483 [..............................] - ETA: 2s - loss: 435.3378 - r_square: -12.3080 - root_mean_squared_error: 20.8647"
     ]
    },
    {
     "name": "stderr",
     "output_type": "stream",
     "text": [
      "2023-04-13 16:52:03.272148: I tensorflow/core/common_runtime/gpu_fusion_pass.cc:507] ROCm Fusion is enabled.\n",
      "2023-04-13 16:52:03.276945: I tensorflow/core/common_runtime/gpu_fusion_pass.cc:507] ROCm Fusion is enabled.\n",
      "2023-04-13 16:52:03.280626: I tensorflow/core/common_runtime/gpu_fusion_pass.cc:507] ROCm Fusion is enabled.\n"
     ]
    },
    {
     "name": "stdout",
     "output_type": "stream",
     "text": [
      "483/483 [==============================] - 2s 5ms/step - loss: 409.6584 - r_square: 0.4759 - root_mean_squared_error: 20.2400 - val_loss: 222.1300 - val_r_square: 0.1403 - val_root_mean_squared_error: 14.9040\n",
      "Epoch 4/6\n",
      "  1/483 [..............................] - ETA: 2s - loss: 847.6150 - r_square: 0.2402 - root_mean_squared_error: 29.1138"
     ]
    },
    {
     "name": "stderr",
     "output_type": "stream",
     "text": [
      "2023-04-13 16:52:05.456104: I tensorflow/core/common_runtime/gpu_fusion_pass.cc:507] ROCm Fusion is enabled.\n",
      "2023-04-13 16:52:05.460880: I tensorflow/core/common_runtime/gpu_fusion_pass.cc:507] ROCm Fusion is enabled.\n",
      "2023-04-13 16:52:05.464547: I tensorflow/core/common_runtime/gpu_fusion_pass.cc:507] ROCm Fusion is enabled.\n"
     ]
    },
    {
     "name": "stdout",
     "output_type": "stream",
     "text": [
      "483/483 [==============================] - 2s 5ms/step - loss: 346.9209 - r_square: 0.5561 - root_mean_squared_error: 18.6258 - val_loss: 278.3799 - val_r_square: -0.0774 - val_root_mean_squared_error: 16.6847\n",
      "Epoch 5/6\n",
      "  1/483 [..............................] - ETA: 2s - loss: 604.8779 - r_square: -0.5110 - root_mean_squared_error: 24.5943"
     ]
    },
    {
     "name": "stderr",
     "output_type": "stream",
     "text": [
      "2023-04-13 16:52:07.644401: I tensorflow/core/common_runtime/gpu_fusion_pass.cc:507] ROCm Fusion is enabled.\n",
      "2023-04-13 16:52:07.649280: I tensorflow/core/common_runtime/gpu_fusion_pass.cc:507] ROCm Fusion is enabled.\n",
      "2023-04-13 16:52:07.653005: I tensorflow/core/common_runtime/gpu_fusion_pass.cc:507] ROCm Fusion is enabled.\n"
     ]
    },
    {
     "name": "stdout",
     "output_type": "stream",
     "text": [
      "483/483 [==============================] - 2s 4ms/step - loss: 311.6287 - r_square: 0.6013 - root_mean_squared_error: 17.6530 - val_loss: 311.5216 - val_r_square: -0.2057 - val_root_mean_squared_error: 17.6500\n",
      "Epoch 6/6\n",
      "  1/483 [..............................] - ETA: 2s - loss: 19.5658 - r_square: 0.8896 - root_mean_squared_error: 4.4233"
     ]
    },
    {
     "name": "stderr",
     "output_type": "stream",
     "text": [
      "2023-04-13 16:52:09.812947: I tensorflow/core/common_runtime/gpu_fusion_pass.cc:507] ROCm Fusion is enabled.\n",
      "2023-04-13 16:52:09.817851: I tensorflow/core/common_runtime/gpu_fusion_pass.cc:507] ROCm Fusion is enabled.\n",
      "2023-04-13 16:52:09.821609: I tensorflow/core/common_runtime/gpu_fusion_pass.cc:507] ROCm Fusion is enabled.\n"
     ]
    },
    {
     "name": "stdout",
     "output_type": "stream",
     "text": [
      "483/483 [==============================] - 2s 4ms/step - loss: 286.4628 - r_square: 0.6335 - root_mean_squared_error: 16.9252 - val_loss: 300.0178 - val_r_square: -0.1612 - val_root_mean_squared_error: 17.3210\n",
      "pc3 Training finished !\n",
      "Epoch 1/6\n"
     ]
    },
    {
     "name": "stderr",
     "output_type": "stream",
     "text": [
      "2023-04-13 16:52:11.968277: I tensorflow/core/common_runtime/gpu_fusion_pass.cc:507] ROCm Fusion is enabled.\n",
      "2023-04-13 16:52:11.973200: I tensorflow/core/common_runtime/gpu_fusion_pass.cc:507] ROCm Fusion is enabled.\n",
      "2023-04-13 16:52:11.976940: I tensorflow/core/common_runtime/gpu_fusion_pass.cc:507] ROCm Fusion is enabled.\n",
      "2023-04-13 16:52:12.129919: I tensorflow/core/common_runtime/gpu_fusion_pass.cc:507] ROCm Fusion is enabled.\n",
      "2023-04-13 16:52:12.139161: I tensorflow/core/common_runtime/gpu_fusion_pass.cc:507] ROCm Fusion is enabled.\n",
      "2023-04-13 16:52:12.146277: I tensorflow/core/common_runtime/gpu_fusion_pass.cc:507] ROCm Fusion is enabled.\n",
      "2023-04-13 16:52:12.155313: I tensorflow/core/common_runtime/gpu_fusion_pass.cc:507] ROCm Fusion is enabled.\n",
      "2023-04-13 16:52:12.160121: I tensorflow/core/common_runtime/gpu_fusion_pass.cc:507] ROCm Fusion is enabled.\n",
      "2023-04-13 16:52:12.163893: I tensorflow/core/common_runtime/gpu_fusion_pass.cc:507] ROCm Fusion is enabled.\n",
      "2023-04-13 16:52:15.142873: I tensorflow/core/common_runtime/gpu_fusion_pass.cc:507] ROCm Fusion is enabled.\n",
      "2023-04-13 16:52:15.215988: I tensorflow/core/common_runtime/gpu_fusion_pass.cc:507] ROCm Fusion is enabled.\n",
      "2023-04-13 16:52:15.282190: I tensorflow/core/common_runtime/gpu_fusion_pass.cc:507] ROCm Fusion is enabled.\n",
      "2023-04-13 16:52:15.348104: I tensorflow/core/common_runtime/gpu_fusion_pass.cc:507] ROCm Fusion is enabled.\n",
      "2023-04-13 16:52:15.420215: I tensorflow/core/common_runtime/gpu_fusion_pass.cc:507] ROCm Fusion is enabled.\n",
      "2023-04-13 16:52:15.497105: I tensorflow/core/common_runtime/gpu_fusion_pass.cc:507] ROCm Fusion is enabled.\n"
     ]
    },
    {
     "name": "stdout",
     "output_type": "stream",
     "text": [
      " 35/483 [=>............................] - ETA: 2s - loss: 474.5569 - r_square: -0.2414 - root_mean_squared_error: 21.7843"
     ]
    },
    {
     "name": "stderr",
     "output_type": "stream",
     "text": [
      "2023-04-13 16:52:15.565706: I tensorflow/core/common_runtime/gpu_fusion_pass.cc:507] ROCm Fusion is enabled.\n"
     ]
    },
    {
     "name": "stdout",
     "output_type": "stream",
     "text": [
      "479/483 [============================>.] - ETA: 0s - loss: 439.2253 - r_square: 0.0255 - root_mean_squared_error: 20.9577 "
     ]
    },
    {
     "name": "stderr",
     "output_type": "stream",
     "text": [
      "2023-04-13 16:52:17.713188: I tensorflow/core/common_runtime/gpu_fusion_pass.cc:507] ROCm Fusion is enabled.\n",
      "2023-04-13 16:52:17.722264: I tensorflow/core/common_runtime/gpu_fusion_pass.cc:507] ROCm Fusion is enabled.\n",
      "2023-04-13 16:52:17.729344: I tensorflow/core/common_runtime/gpu_fusion_pass.cc:507] ROCm Fusion is enabled.\n",
      "2023-04-13 16:52:17.738035: I tensorflow/core/common_runtime/gpu_fusion_pass.cc:507] ROCm Fusion is enabled.\n",
      "2023-04-13 16:52:17.742618: I tensorflow/core/common_runtime/gpu_fusion_pass.cc:507] ROCm Fusion is enabled.\n",
      "2023-04-13 16:52:17.746202: I tensorflow/core/common_runtime/gpu_fusion_pass.cc:507] ROCm Fusion is enabled.\n",
      "2023-04-13 16:52:18.364575: I tensorflow/core/common_runtime/gpu_fusion_pass.cc:507] ROCm Fusion is enabled.\n",
      "2023-04-13 16:52:18.389909: I tensorflow/core/common_runtime/gpu_fusion_pass.cc:507] ROCm Fusion is enabled.\n",
      "2023-04-13 16:52:18.413527: I tensorflow/core/common_runtime/gpu_fusion_pass.cc:507] ROCm Fusion is enabled.\n",
      "2023-04-13 16:52:18.436347: I tensorflow/core/common_runtime/gpu_fusion_pass.cc:507] ROCm Fusion is enabled.\n"
     ]
    },
    {
     "name": "stdout",
     "output_type": "stream",
     "text": [
      "483/483 [==============================] - 6s 6ms/step - loss: 436.9686 - r_square: 0.0267 - root_mean_squared_error: 20.9038 - val_loss: 1180.8015 - val_r_square: -0.5777 - val_root_mean_squared_error: 34.3628\n",
      "Epoch 2/6\n",
      "483/483 [==============================] - 2s 5ms/step - loss: 316.9597 - r_square: 0.2940 - root_mean_squared_error: 17.8034 - val_loss: 1094.0825 - val_r_square: -0.4618 - val_root_mean_squared_error: 33.0769\n",
      "Epoch 3/6\n",
      "  1/483 [..............................] - ETA: 2s - loss: 254.1921 - r_square: -1.6812 - root_mean_squared_error: 15.9434"
     ]
    },
    {
     "name": "stderr",
     "output_type": "stream",
     "text": [
      "2023-04-13 16:52:20.655098: I tensorflow/core/common_runtime/gpu_fusion_pass.cc:507] ROCm Fusion is enabled.\n",
      "2023-04-13 16:52:20.659887: I tensorflow/core/common_runtime/gpu_fusion_pass.cc:507] ROCm Fusion is enabled.\n",
      "2023-04-13 16:52:20.663551: I tensorflow/core/common_runtime/gpu_fusion_pass.cc:507] ROCm Fusion is enabled.\n"
     ]
    },
    {
     "name": "stdout",
     "output_type": "stream",
     "text": [
      "483/483 [==============================] - 2s 5ms/step - loss: 272.5129 - r_square: 0.3930 - root_mean_squared_error: 16.5080 - val_loss: 963.5878 - val_r_square: -0.2874 - val_root_mean_squared_error: 31.0417\n",
      "Epoch 4/6\n",
      "  1/483 [..............................] - ETA: 2s - loss: 72.6295 - r_square: -41.9553 - root_mean_squared_error: 8.5223"
     ]
    },
    {
     "name": "stderr",
     "output_type": "stream",
     "text": [
      "2023-04-13 16:52:22.976573: I tensorflow/core/common_runtime/gpu_fusion_pass.cc:507] ROCm Fusion is enabled.\n",
      "2023-04-13 16:52:22.981396: I tensorflow/core/common_runtime/gpu_fusion_pass.cc:507] ROCm Fusion is enabled.\n",
      "2023-04-13 16:52:22.985091: I tensorflow/core/common_runtime/gpu_fusion_pass.cc:507] ROCm Fusion is enabled.\n"
     ]
    },
    {
     "name": "stdout",
     "output_type": "stream",
     "text": [
      "483/483 [==============================] - 2s 5ms/step - loss: 240.7073 - r_square: 0.4639 - root_mean_squared_error: 15.5147 - val_loss: 1011.5314 - val_r_square: -0.3515 - val_root_mean_squared_error: 31.8046\n",
      "Epoch 5/6\n",
      "  1/483 [..............................] - ETA: 2s - loss: 301.8070 - r_square: -3.4057 - root_mean_squared_error: 17.3726"
     ]
    },
    {
     "name": "stderr",
     "output_type": "stream",
     "text": [
      "2023-04-13 16:52:25.224027: I tensorflow/core/common_runtime/gpu_fusion_pass.cc:507] ROCm Fusion is enabled.\n",
      "2023-04-13 16:52:25.228858: I tensorflow/core/common_runtime/gpu_fusion_pass.cc:507] ROCm Fusion is enabled.\n",
      "2023-04-13 16:52:25.232592: I tensorflow/core/common_runtime/gpu_fusion_pass.cc:507] ROCm Fusion is enabled.\n"
     ]
    },
    {
     "name": "stdout",
     "output_type": "stream",
     "text": [
      "483/483 [==============================] - 2s 5ms/step - loss: 219.5281 - r_square: 0.5110 - root_mean_squared_error: 14.8165 - val_loss: 1002.9148 - val_r_square: -0.3400 - val_root_mean_squared_error: 31.6688\n",
      "Epoch 6/6\n",
      "  1/483 [..............................] - ETA: 2s - loss: 31.4095 - r_square: -0.1874 - root_mean_squared_error: 5.6044"
     ]
    },
    {
     "name": "stderr",
     "output_type": "stream",
     "text": [
      "2023-04-13 16:52:27.432219: I tensorflow/core/common_runtime/gpu_fusion_pass.cc:507] ROCm Fusion is enabled.\n",
      "2023-04-13 16:52:27.437099: I tensorflow/core/common_runtime/gpu_fusion_pass.cc:507] ROCm Fusion is enabled.\n",
      "2023-04-13 16:52:27.440815: I tensorflow/core/common_runtime/gpu_fusion_pass.cc:507] ROCm Fusion is enabled.\n"
     ]
    },
    {
     "name": "stdout",
     "output_type": "stream",
     "text": [
      "483/483 [==============================] - 2s 5ms/step - loss: 192.7840 - r_square: 0.5706 - root_mean_squared_error: 13.8847 - val_loss: 1036.5479 - val_r_square: -0.3849 - val_root_mean_squared_error: 32.1955\n",
      "pc4 Training finished !\n",
      "Epoch 1/6\n"
     ]
    },
    {
     "name": "stderr",
     "output_type": "stream",
     "text": [
      "2023-04-13 16:52:29.632117: I tensorflow/core/common_runtime/gpu_fusion_pass.cc:507] ROCm Fusion is enabled.\n",
      "2023-04-13 16:52:29.637113: I tensorflow/core/common_runtime/gpu_fusion_pass.cc:507] ROCm Fusion is enabled.\n",
      "2023-04-13 16:52:29.640851: I tensorflow/core/common_runtime/gpu_fusion_pass.cc:507] ROCm Fusion is enabled.\n",
      "2023-04-13 16:52:29.796787: I tensorflow/core/common_runtime/gpu_fusion_pass.cc:507] ROCm Fusion is enabled.\n",
      "2023-04-13 16:52:29.805905: I tensorflow/core/common_runtime/gpu_fusion_pass.cc:507] ROCm Fusion is enabled.\n",
      "2023-04-13 16:52:29.813213: I tensorflow/core/common_runtime/gpu_fusion_pass.cc:507] ROCm Fusion is enabled.\n",
      "2023-04-13 16:52:29.822427: I tensorflow/core/common_runtime/gpu_fusion_pass.cc:507] ROCm Fusion is enabled.\n",
      "2023-04-13 16:52:29.827253: I tensorflow/core/common_runtime/gpu_fusion_pass.cc:507] ROCm Fusion is enabled.\n",
      "2023-04-13 16:52:29.831022: I tensorflow/core/common_runtime/gpu_fusion_pass.cc:507] ROCm Fusion is enabled.\n",
      "2023-04-13 16:52:32.509351: I tensorflow/core/common_runtime/gpu_fusion_pass.cc:507] ROCm Fusion is enabled.\n",
      "2023-04-13 16:52:32.582359: I tensorflow/core/common_runtime/gpu_fusion_pass.cc:507] ROCm Fusion is enabled.\n",
      "2023-04-13 16:52:32.648564: I tensorflow/core/common_runtime/gpu_fusion_pass.cc:507] ROCm Fusion is enabled.\n",
      "2023-04-13 16:52:32.715000: I tensorflow/core/common_runtime/gpu_fusion_pass.cc:507] ROCm Fusion is enabled.\n",
      "2023-04-13 16:52:32.786186: I tensorflow/core/common_runtime/gpu_fusion_pass.cc:507] ROCm Fusion is enabled.\n",
      "2023-04-13 16:52:32.860252: I tensorflow/core/common_runtime/gpu_fusion_pass.cc:507] ROCm Fusion is enabled.\n"
     ]
    },
    {
     "name": "stdout",
     "output_type": "stream",
     "text": [
      " 34/483 [=>............................] - ETA: 2s - loss: 350.7636 - r_square: -0.0293 - root_mean_squared_error: 18.7287"
     ]
    },
    {
     "name": "stderr",
     "output_type": "stream",
     "text": [
      "2023-04-13 16:52:32.935857: I tensorflow/core/common_runtime/gpu_fusion_pass.cc:507] ROCm Fusion is enabled.\n"
     ]
    },
    {
     "name": "stdout",
     "output_type": "stream",
     "text": [
      "480/483 [============================>.] - ETA: 0s - loss: 401.4399 - r_square: 0.0821 - root_mean_squared_error: 20.0360"
     ]
    },
    {
     "name": "stderr",
     "output_type": "stream",
     "text": [
      "2023-04-13 16:52:35.077061: I tensorflow/core/common_runtime/gpu_fusion_pass.cc:507] ROCm Fusion is enabled.\n",
      "2023-04-13 16:52:35.086487: I tensorflow/core/common_runtime/gpu_fusion_pass.cc:507] ROCm Fusion is enabled.\n",
      "2023-04-13 16:52:35.093116: I tensorflow/core/common_runtime/gpu_fusion_pass.cc:507] ROCm Fusion is enabled.\n",
      "2023-04-13 16:52:35.101535: I tensorflow/core/common_runtime/gpu_fusion_pass.cc:507] ROCm Fusion is enabled.\n",
      "2023-04-13 16:52:35.106044: I tensorflow/core/common_runtime/gpu_fusion_pass.cc:507] ROCm Fusion is enabled.\n",
      "2023-04-13 16:52:35.109208: I tensorflow/core/common_runtime/gpu_fusion_pass.cc:507] ROCm Fusion is enabled.\n",
      "2023-04-13 16:52:35.725650: I tensorflow/core/common_runtime/gpu_fusion_pass.cc:507] ROCm Fusion is enabled.\n",
      "2023-04-13 16:52:35.752048: I tensorflow/core/common_runtime/gpu_fusion_pass.cc:507] ROCm Fusion is enabled.\n",
      "2023-04-13 16:52:35.774585: I tensorflow/core/common_runtime/gpu_fusion_pass.cc:507] ROCm Fusion is enabled.\n",
      "2023-04-13 16:52:35.797896: I tensorflow/core/common_runtime/gpu_fusion_pass.cc:507] ROCm Fusion is enabled.\n"
     ]
    },
    {
     "name": "stdout",
     "output_type": "stream",
     "text": [
      "483/483 [==============================] - 6s 6ms/step - loss: 400.4846 - r_square: 0.0844 - root_mean_squared_error: 20.0121 - val_loss: 174.0309 - val_r_square: -3.5109 - val_root_mean_squared_error: 13.1921\n",
      "Epoch 2/6\n",
      "483/483 [==============================] - 2s 5ms/step - loss: 261.7060 - r_square: 0.4017 - root_mean_squared_error: 16.1773 - val_loss: 210.9571 - val_r_square: -4.4680 - val_root_mean_squared_error: 14.5244\n",
      "Epoch 3/6\n",
      " 12/483 [..............................] - ETA: 2s - loss: 191.9173 - r_square: 0.4754 - root_mean_squared_error: 13.8534 "
     ]
    },
    {
     "name": "stderr",
     "output_type": "stream",
     "text": [
      "2023-04-13 16:52:38.008971: I tensorflow/core/common_runtime/gpu_fusion_pass.cc:507] ROCm Fusion is enabled.\n",
      "2023-04-13 16:52:38.013412: I tensorflow/core/common_runtime/gpu_fusion_pass.cc:507] ROCm Fusion is enabled.\n",
      "2023-04-13 16:52:38.016843: I tensorflow/core/common_runtime/gpu_fusion_pass.cc:507] ROCm Fusion is enabled.\n"
     ]
    },
    {
     "name": "stdout",
     "output_type": "stream",
     "text": [
      "483/483 [==============================] - 2s 5ms/step - loss: 229.8232 - r_square: 0.4746 - root_mean_squared_error: 15.1599 - val_loss: 220.8073 - val_r_square: -4.7233 - val_root_mean_squared_error: 14.8596\n",
      "Epoch 4/6\n",
      "  1/483 [..............................] - ETA: 2s - loss: 117.9963 - r_square: -0.5921 - root_mean_squared_error: 10.8626"
     ]
    },
    {
     "name": "stderr",
     "output_type": "stream",
     "text": [
      "2023-04-13 16:52:40.385511: I tensorflow/core/common_runtime/gpu_fusion_pass.cc:507] ROCm Fusion is enabled.\n",
      "2023-04-13 16:52:40.390332: I tensorflow/core/common_runtime/gpu_fusion_pass.cc:507] ROCm Fusion is enabled.\n",
      "2023-04-13 16:52:40.394014: I tensorflow/core/common_runtime/gpu_fusion_pass.cc:507] ROCm Fusion is enabled.\n"
     ]
    },
    {
     "name": "stdout",
     "output_type": "stream",
     "text": [
      "483/483 [==============================] - 2s 5ms/step - loss: 217.1616 - r_square: 0.5035 - root_mean_squared_error: 14.7364 - val_loss: 126.6008 - val_r_square: -2.2815 - val_root_mean_squared_error: 11.2517\n",
      "Epoch 5/6\n",
      "  1/483 [..............................] - ETA: 2s - loss: 115.4305 - r_square: -2.1804 - root_mean_squared_error: 10.7439"
     ]
    },
    {
     "name": "stderr",
     "output_type": "stream",
     "text": [
      "2023-04-13 16:52:42.823745: I tensorflow/core/common_runtime/gpu_fusion_pass.cc:507] ROCm Fusion is enabled.\n",
      "2023-04-13 16:52:42.828475: I tensorflow/core/common_runtime/gpu_fusion_pass.cc:507] ROCm Fusion is enabled.\n",
      "2023-04-13 16:52:42.832193: I tensorflow/core/common_runtime/gpu_fusion_pass.cc:507] ROCm Fusion is enabled.\n"
     ]
    },
    {
     "name": "stdout",
     "output_type": "stream",
     "text": [
      "483/483 [==============================] - 2s 5ms/step - loss: 205.6163 - r_square: 0.5299 - root_mean_squared_error: 14.3393 - val_loss: 238.5195 - val_r_square: -5.1824 - val_root_mean_squared_error: 15.4441\n",
      "Epoch 6/6\n",
      "  1/483 [..............................] - ETA: 2s - loss: 70.4794 - r_square: 0.8131 - root_mean_squared_error: 8.3952"
     ]
    },
    {
     "name": "stderr",
     "output_type": "stream",
     "text": [
      "2023-04-13 16:52:45.211535: I tensorflow/core/common_runtime/gpu_fusion_pass.cc:507] ROCm Fusion is enabled.\n",
      "2023-04-13 16:52:45.216328: I tensorflow/core/common_runtime/gpu_fusion_pass.cc:507] ROCm Fusion is enabled.\n",
      "2023-04-13 16:52:45.220025: I tensorflow/core/common_runtime/gpu_fusion_pass.cc:507] ROCm Fusion is enabled.\n"
     ]
    },
    {
     "name": "stdout",
     "output_type": "stream",
     "text": [
      "483/483 [==============================] - 2s 5ms/step - loss: 186.3044 - r_square: 0.5741 - root_mean_squared_error: 13.6493 - val_loss: 232.5818 - val_r_square: -5.0285 - val_root_mean_squared_error: 15.2506\n",
      "pc5 Training finished !\n",
      "Epoch 1/6\n"
     ]
    },
    {
     "name": "stderr",
     "output_type": "stream",
     "text": [
      "2023-04-13 16:52:47.569854: I tensorflow/core/common_runtime/gpu_fusion_pass.cc:507] ROCm Fusion is enabled.\n",
      "2023-04-13 16:52:47.574420: I tensorflow/core/common_runtime/gpu_fusion_pass.cc:507] ROCm Fusion is enabled.\n",
      "2023-04-13 16:52:47.577918: I tensorflow/core/common_runtime/gpu_fusion_pass.cc:507] ROCm Fusion is enabled.\n",
      "2023-04-13 16:52:47.733330: I tensorflow/core/common_runtime/gpu_fusion_pass.cc:507] ROCm Fusion is enabled.\n",
      "2023-04-13 16:52:47.741399: I tensorflow/core/common_runtime/gpu_fusion_pass.cc:507] ROCm Fusion is enabled.\n",
      "2023-04-13 16:52:47.747673: I tensorflow/core/common_runtime/gpu_fusion_pass.cc:507] ROCm Fusion is enabled.\n",
      "2023-04-13 16:52:47.756165: I tensorflow/core/common_runtime/gpu_fusion_pass.cc:507] ROCm Fusion is enabled.\n",
      "2023-04-13 16:52:47.760361: I tensorflow/core/common_runtime/gpu_fusion_pass.cc:507] ROCm Fusion is enabled.\n",
      "2023-04-13 16:52:47.763661: I tensorflow/core/common_runtime/gpu_fusion_pass.cc:507] ROCm Fusion is enabled.\n",
      "2023-04-13 16:52:50.786309: I tensorflow/core/common_runtime/gpu_fusion_pass.cc:507] ROCm Fusion is enabled.\n",
      "2023-04-13 16:52:50.859511: I tensorflow/core/common_runtime/gpu_fusion_pass.cc:507] ROCm Fusion is enabled.\n",
      "2023-04-13 16:52:50.925303: I tensorflow/core/common_runtime/gpu_fusion_pass.cc:507] ROCm Fusion is enabled.\n",
      "2023-04-13 16:52:50.991994: I tensorflow/core/common_runtime/gpu_fusion_pass.cc:507] ROCm Fusion is enabled.\n",
      "2023-04-13 16:52:51.058828: I tensorflow/core/common_runtime/gpu_fusion_pass.cc:507] ROCm Fusion is enabled.\n",
      "2023-04-13 16:52:51.125928: I tensorflow/core/common_runtime/gpu_fusion_pass.cc:507] ROCm Fusion is enabled.\n",
      "2023-04-13 16:52:51.191088: I tensorflow/core/common_runtime/gpu_fusion_pass.cc:507] ROCm Fusion is enabled.\n"
     ]
    },
    {
     "name": "stdout",
     "output_type": "stream",
     "text": [
      "482/483 [============================>.] - ETA: 0s - loss: 376.6375 - r_square: 0.0396 - root_mean_squared_error: 19.4072"
     ]
    },
    {
     "name": "stderr",
     "output_type": "stream",
     "text": [
      "2023-04-13 16:52:53.165490: I tensorflow/core/common_runtime/gpu_fusion_pass.cc:507] ROCm Fusion is enabled.\n",
      "2023-04-13 16:52:53.173563: I tensorflow/core/common_runtime/gpu_fusion_pass.cc:507] ROCm Fusion is enabled.\n",
      "2023-04-13 16:52:53.179739: I tensorflow/core/common_runtime/gpu_fusion_pass.cc:507] ROCm Fusion is enabled.\n",
      "2023-04-13 16:52:53.187872: I tensorflow/core/common_runtime/gpu_fusion_pass.cc:507] ROCm Fusion is enabled.\n",
      "2023-04-13 16:52:53.191890: I tensorflow/core/common_runtime/gpu_fusion_pass.cc:507] ROCm Fusion is enabled.\n",
      "2023-04-13 16:52:53.195027: I tensorflow/core/common_runtime/gpu_fusion_pass.cc:507] ROCm Fusion is enabled.\n",
      "2023-04-13 16:52:53.811707: I tensorflow/core/common_runtime/gpu_fusion_pass.cc:507] ROCm Fusion is enabled.\n",
      "2023-04-13 16:52:53.837497: I tensorflow/core/common_runtime/gpu_fusion_pass.cc:507] ROCm Fusion is enabled.\n",
      "2023-04-13 16:52:53.860683: I tensorflow/core/common_runtime/gpu_fusion_pass.cc:507] ROCm Fusion is enabled.\n",
      "2023-04-13 16:52:53.884397: I tensorflow/core/common_runtime/gpu_fusion_pass.cc:507] ROCm Fusion is enabled.\n"
     ]
    },
    {
     "name": "stdout",
     "output_type": "stream",
     "text": [
      "483/483 [==============================] - 6s 6ms/step - loss: 376.4428 - r_square: 0.0395 - root_mean_squared_error: 19.4021 - val_loss: 252.7093 - val_r_square: -0.3468 - val_root_mean_squared_error: 15.8968\n",
      "Epoch 2/6\n",
      "483/483 [==============================] - 2s 4ms/step - loss: 272.3431 - r_square: 0.3051 - root_mean_squared_error: 16.5028 - val_loss: 261.3319 - val_r_square: -0.3927 - val_root_mean_squared_error: 16.1658\n",
      "Epoch 3/6\n",
      " 15/483 [..............................] - ETA: 1s - loss: 139.5634 - r_square: 0.4961 - root_mean_squared_error: 11.8137"
     ]
    },
    {
     "name": "stderr",
     "output_type": "stream",
     "text": [
      "2023-04-13 16:52:55.874426: I tensorflow/core/common_runtime/gpu_fusion_pass.cc:507] ROCm Fusion is enabled.\n",
      "2023-04-13 16:52:55.878941: I tensorflow/core/common_runtime/gpu_fusion_pass.cc:507] ROCm Fusion is enabled.\n",
      "2023-04-13 16:52:55.882415: I tensorflow/core/common_runtime/gpu_fusion_pass.cc:507] ROCm Fusion is enabled.\n"
     ]
    },
    {
     "name": "stdout",
     "output_type": "stream",
     "text": [
      "483/483 [==============================] - 2s 4ms/step - loss: 221.1845 - r_square: 0.4357 - root_mean_squared_error: 14.8723 - val_loss: 326.1903 - val_r_square: -0.7384 - val_root_mean_squared_error: 18.0607\n",
      "Epoch 4/6\n",
      " 14/483 [..............................] - ETA: 1s - loss: 197.2629 - r_square: 0.5609 - root_mean_squared_error: 14.0450"
     ]
    },
    {
     "name": "stderr",
     "output_type": "stream",
     "text": [
      "2023-04-13 16:52:57.787242: I tensorflow/core/common_runtime/gpu_fusion_pass.cc:507] ROCm Fusion is enabled.\n",
      "2023-04-13 16:52:57.791440: I tensorflow/core/common_runtime/gpu_fusion_pass.cc:507] ROCm Fusion is enabled.\n",
      "2023-04-13 16:52:57.794677: I tensorflow/core/common_runtime/gpu_fusion_pass.cc:507] ROCm Fusion is enabled.\n"
     ]
    },
    {
     "name": "stdout",
     "output_type": "stream",
     "text": [
      "483/483 [==============================] - 2s 4ms/step - loss: 190.3045 - r_square: 0.5145 - root_mean_squared_error: 13.7951 - val_loss: 296.9135 - val_r_square: -0.5824 - val_root_mean_squared_error: 17.2312\n",
      "Epoch 5/6\n",
      " 15/483 [..............................] - ETA: 1s - loss: 214.6163 - r_square: 0.5950 - root_mean_squared_error: 14.6498"
     ]
    },
    {
     "name": "stderr",
     "output_type": "stream",
     "text": [
      "2023-04-13 16:52:59.780733: I tensorflow/core/common_runtime/gpu_fusion_pass.cc:507] ROCm Fusion is enabled.\n",
      "2023-04-13 16:52:59.785251: I tensorflow/core/common_runtime/gpu_fusion_pass.cc:507] ROCm Fusion is enabled.\n",
      "2023-04-13 16:52:59.788534: I tensorflow/core/common_runtime/gpu_fusion_pass.cc:507] ROCm Fusion is enabled.\n"
     ]
    },
    {
     "name": "stdout",
     "output_type": "stream",
     "text": [
      "483/483 [==============================] - 2s 4ms/step - loss: 159.6872 - r_square: 0.5926 - root_mean_squared_error: 12.6367 - val_loss: 308.4680 - val_r_square: -0.6439 - val_root_mean_squared_error: 17.5633\n",
      "Epoch 5: early stopping\n",
      "pc6 Training finished !\n",
      "Epoch 1/6\n"
     ]
    },
    {
     "name": "stderr",
     "output_type": "stream",
     "text": [
      "2023-04-13 16:53:01.781528: I tensorflow/core/common_runtime/gpu_fusion_pass.cc:507] ROCm Fusion is enabled.\n",
      "2023-04-13 16:53:01.786355: I tensorflow/core/common_runtime/gpu_fusion_pass.cc:507] ROCm Fusion is enabled.\n",
      "2023-04-13 16:53:01.790068: I tensorflow/core/common_runtime/gpu_fusion_pass.cc:507] ROCm Fusion is enabled.\n",
      "2023-04-13 16:53:01.933717: I tensorflow/core/common_runtime/gpu_fusion_pass.cc:507] ROCm Fusion is enabled.\n",
      "2023-04-13 16:53:01.942112: I tensorflow/core/common_runtime/gpu_fusion_pass.cc:507] ROCm Fusion is enabled.\n",
      "2023-04-13 16:53:01.948422: I tensorflow/core/common_runtime/gpu_fusion_pass.cc:507] ROCm Fusion is enabled.\n",
      "2023-04-13 16:53:01.957144: I tensorflow/core/common_runtime/gpu_fusion_pass.cc:507] ROCm Fusion is enabled.\n",
      "2023-04-13 16:53:01.961773: I tensorflow/core/common_runtime/gpu_fusion_pass.cc:507] ROCm Fusion is enabled.\n",
      "2023-04-13 16:53:01.965333: I tensorflow/core/common_runtime/gpu_fusion_pass.cc:507] ROCm Fusion is enabled.\n",
      "2023-04-13 16:53:04.627980: I tensorflow/core/common_runtime/gpu_fusion_pass.cc:507] ROCm Fusion is enabled.\n",
      "2023-04-13 16:53:04.702207: I tensorflow/core/common_runtime/gpu_fusion_pass.cc:507] ROCm Fusion is enabled.\n",
      "2023-04-13 16:53:04.769337: I tensorflow/core/common_runtime/gpu_fusion_pass.cc:507] ROCm Fusion is enabled.\n",
      "2023-04-13 16:53:04.840017: I tensorflow/core/common_runtime/gpu_fusion_pass.cc:507] ROCm Fusion is enabled.\n",
      "2023-04-13 16:53:04.911186: I tensorflow/core/common_runtime/gpu_fusion_pass.cc:507] ROCm Fusion is enabled.\n",
      "2023-04-13 16:53:04.987787: I tensorflow/core/common_runtime/gpu_fusion_pass.cc:507] ROCm Fusion is enabled.\n"
     ]
    },
    {
     "name": "stdout",
     "output_type": "stream",
     "text": [
      " 34/483 [=>............................] - ETA: 2s - loss: 197.7639 - r_square: -0.1031 - root_mean_squared_error: 14.0629"
     ]
    },
    {
     "name": "stderr",
     "output_type": "stream",
     "text": [
      "2023-04-13 16:53:05.056191: I tensorflow/core/common_runtime/gpu_fusion_pass.cc:507] ROCm Fusion is enabled.\n"
     ]
    },
    {
     "name": "stdout",
     "output_type": "stream",
     "text": [
      "480/483 [============================>.] - ETA: 0s - loss: 256.1759 - r_square: 0.0456 - root_mean_squared_error: 16.0055"
     ]
    },
    {
     "name": "stderr",
     "output_type": "stream",
     "text": [
      "2023-04-13 16:53:07.171446: I tensorflow/core/common_runtime/gpu_fusion_pass.cc:507] ROCm Fusion is enabled.\n",
      "2023-04-13 16:53:07.180521: I tensorflow/core/common_runtime/gpu_fusion_pass.cc:507] ROCm Fusion is enabled.\n",
      "2023-04-13 16:53:07.187556: I tensorflow/core/common_runtime/gpu_fusion_pass.cc:507] ROCm Fusion is enabled.\n",
      "2023-04-13 16:53:07.196241: I tensorflow/core/common_runtime/gpu_fusion_pass.cc:507] ROCm Fusion is enabled.\n",
      "2023-04-13 16:53:07.200808: I tensorflow/core/common_runtime/gpu_fusion_pass.cc:507] ROCm Fusion is enabled.\n",
      "2023-04-13 16:53:07.204389: I tensorflow/core/common_runtime/gpu_fusion_pass.cc:507] ROCm Fusion is enabled.\n",
      "2023-04-13 16:53:07.824557: I tensorflow/core/common_runtime/gpu_fusion_pass.cc:507] ROCm Fusion is enabled.\n",
      "2023-04-13 16:53:07.852808: I tensorflow/core/common_runtime/gpu_fusion_pass.cc:507] ROCm Fusion is enabled.\n",
      "2023-04-13 16:53:07.877155: I tensorflow/core/common_runtime/gpu_fusion_pass.cc:507] ROCm Fusion is enabled.\n",
      "2023-04-13 16:53:07.901258: I tensorflow/core/common_runtime/gpu_fusion_pass.cc:507] ROCm Fusion is enabled.\n"
     ]
    },
    {
     "name": "stdout",
     "output_type": "stream",
     "text": [
      "483/483 [==============================] - 6s 6ms/step - loss: 255.7188 - r_square: 0.0475 - root_mean_squared_error: 15.9912 - val_loss: 421.2939 - val_r_square: -1.2549 - val_root_mean_squared_error: 20.5254\n",
      "Epoch 2/6\n",
      "483/483 [==============================] - 2s 5ms/step - loss: 189.6109 - r_square: 0.2938 - root_mean_squared_error: 13.7699 - val_loss: 350.6327 - val_r_square: -0.8767 - val_root_mean_squared_error: 18.7252\n",
      "Epoch 3/6\n",
      "  1/483 [..............................] - ETA: 2s - loss: 743.1669 - r_square: -0.0023 - root_mean_squared_error: 27.2611"
     ]
    },
    {
     "name": "stderr",
     "output_type": "stream",
     "text": [
      "2023-04-13 16:53:10.098355: I tensorflow/core/common_runtime/gpu_fusion_pass.cc:507] ROCm Fusion is enabled.\n",
      "2023-04-13 16:53:10.103126: I tensorflow/core/common_runtime/gpu_fusion_pass.cc:507] ROCm Fusion is enabled.\n",
      "2023-04-13 16:53:10.106804: I tensorflow/core/common_runtime/gpu_fusion_pass.cc:507] ROCm Fusion is enabled.\n"
     ]
    },
    {
     "name": "stdout",
     "output_type": "stream",
     "text": [
      "483/483 [==============================] - 2s 5ms/step - loss: 157.2102 - r_square: 0.4144 - root_mean_squared_error: 12.5383 - val_loss: 371.0659 - val_r_square: -0.9860 - val_root_mean_squared_error: 19.2631\n",
      "Epoch 4/6\n",
      "  1/483 [..............................] - ETA: 2s - loss: 67.4857 - r_square: 0.3528 - root_mean_squared_error: 8.2150"
     ]
    },
    {
     "name": "stderr",
     "output_type": "stream",
     "text": [
      "2023-04-13 16:53:12.320168: I tensorflow/core/common_runtime/gpu_fusion_pass.cc:507] ROCm Fusion is enabled.\n",
      "2023-04-13 16:53:12.324957: I tensorflow/core/common_runtime/gpu_fusion_pass.cc:507] ROCm Fusion is enabled.\n",
      "2023-04-13 16:53:12.328664: I tensorflow/core/common_runtime/gpu_fusion_pass.cc:507] ROCm Fusion is enabled.\n"
     ]
    },
    {
     "name": "stdout",
     "output_type": "stream",
     "text": [
      "483/483 [==============================] - 2s 5ms/step - loss: 140.0626 - r_square: 0.4783 - root_mean_squared_error: 11.8348 - val_loss: 343.8376 - val_r_square: -0.8403 - val_root_mean_squared_error: 18.5429\n",
      "Epoch 5/6\n",
      "  1/483 [..............................] - ETA: 2s - loss: 54.6604 - r_square: 0.6111 - root_mean_squared_error: 7.3933"
     ]
    },
    {
     "name": "stderr",
     "output_type": "stream",
     "text": [
      "2023-04-13 16:53:14.551142: I tensorflow/core/common_runtime/gpu_fusion_pass.cc:507] ROCm Fusion is enabled.\n",
      "2023-04-13 16:53:14.555983: I tensorflow/core/common_runtime/gpu_fusion_pass.cc:507] ROCm Fusion is enabled.\n",
      "2023-04-13 16:53:14.559733: I tensorflow/core/common_runtime/gpu_fusion_pass.cc:507] ROCm Fusion is enabled.\n"
     ]
    },
    {
     "name": "stdout",
     "output_type": "stream",
     "text": [
      "483/483 [==============================] - 2s 5ms/step - loss: 131.1657 - r_square: 0.5114 - root_mean_squared_error: 11.4528 - val_loss: 318.0619 - val_r_square: -0.7024 - val_root_mean_squared_error: 17.8343\n",
      "Epoch 6/6\n",
      "  1/483 [..............................] - ETA: 2s - loss: 565.1356 - r_square: 0.3484 - root_mean_squared_error: 23.7726"
     ]
    },
    {
     "name": "stderr",
     "output_type": "stream",
     "text": [
      "2023-04-13 16:53:16.764731: I tensorflow/core/common_runtime/gpu_fusion_pass.cc:507] ROCm Fusion is enabled.\n",
      "2023-04-13 16:53:16.769637: I tensorflow/core/common_runtime/gpu_fusion_pass.cc:507] ROCm Fusion is enabled.\n",
      "2023-04-13 16:53:16.773379: I tensorflow/core/common_runtime/gpu_fusion_pass.cc:507] ROCm Fusion is enabled.\n"
     ]
    },
    {
     "name": "stdout",
     "output_type": "stream",
     "text": [
      "483/483 [==============================] - 2s 4ms/step - loss: 126.0916 - r_square: 0.5303 - root_mean_squared_error: 11.2291 - val_loss: 304.4812 - val_r_square: -0.6297 - val_root_mean_squared_error: 17.4494\n",
      "pc7 Training finished !\n"
     ]
    },
    {
     "name": "stderr",
     "output_type": "stream",
     "text": [
      "2023-04-13 16:53:18.934003: I tensorflow/core/common_runtime/gpu_fusion_pass.cc:507] ROCm Fusion is enabled.\n",
      "2023-04-13 16:53:18.939004: I tensorflow/core/common_runtime/gpu_fusion_pass.cc:507] ROCm Fusion is enabled.\n",
      "2023-04-13 16:53:18.942735: I tensorflow/core/common_runtime/gpu_fusion_pass.cc:507] ROCm Fusion is enabled.\n"
     ]
    },
    {
     "name": "stdout",
     "output_type": "stream",
     "text": [
      "Saved as : /scratch/project_465000269/edelleo1/Leo/results/lstm_230413-162021/figures/LSTM3_bk_learning_curves_6_4_reg0_PC0.png\n",
      "Saved as : /scratch/project_465000269/edelleo1/Leo/results/lstm_230413-162021/figures/LSTM3_bk_learning_curves_6_4_reg0_PC1.png\n",
      "Saved as : /scratch/project_465000269/edelleo1/Leo/results/lstm_230413-162021/figures/LSTM3_bk_learning_curves_6_4_reg0_PC2.png\n",
      "Saved as : /scratch/project_465000269/edelleo1/Leo/results/lstm_230413-162021/figures/LSTM3_bk_learning_curves_6_4_reg0_PC3.png\n",
      "Saved as : /scratch/project_465000269/edelleo1/Leo/results/lstm_230413-162021/figures/LSTM3_bk_learning_curves_6_4_reg0_PC4.png\n",
      "Saved as : /scratch/project_465000269/edelleo1/Leo/results/lstm_230413-162021/figures/LSTM3_bk_learning_curves_6_4_reg0_PC5.png\n",
      "Saved as : /scratch/project_465000269/edelleo1/Leo/results/lstm_230413-162021/figures/LSTM3_bk_learning_curves_6_4_reg0_PC6.png\n",
      "Saved as : /scratch/project_465000269/edelleo1/Leo/results/lstm_230413-162021/figures/LSTM3_bk_learning_curves_6_4_reg0_PC7.png\n"
     ]
    },
    {
     "name": "stderr",
     "output_type": "stream",
     "text": [
      "2023-04-13 16:53:21.250238: I tensorflow/core/common_runtime/gpu_fusion_pass.cc:507] ROCm Fusion is enabled.\n",
      "2023-04-13 16:53:21.251171: I tensorflow/core/common_runtime/gpu_fusion_pass.cc:507] ROCm Fusion is enabled.\n",
      "2023-04-13 16:53:21.258997: I tensorflow/core/common_runtime/gpu_fusion_pass.cc:507] ROCm Fusion is enabled.\n",
      "2023-04-13 16:53:21.259902: I tensorflow/core/common_runtime/gpu_fusion_pass.cc:507] ROCm Fusion is enabled.\n",
      "2023-04-13 16:53:21.260541: I tensorflow/core/common_runtime/gpu_fusion_pass.cc:507] ROCm Fusion is enabled.\n",
      "2023-04-13 16:53:21.261235: I tensorflow/core/common_runtime/gpu_fusion_pass.cc:507] ROCm Fusion is enabled.\n",
      "2023-04-13 16:53:21.265302: I tensorflow/core/common_runtime/gpu_fusion_pass.cc:507] ROCm Fusion is enabled.\n",
      "2023-04-13 16:53:21.266172: I tensorflow/core/common_runtime/gpu_fusion_pass.cc:507] ROCm Fusion is enabled.\n",
      "2023-04-13 16:53:21.266974: I tensorflow/core/common_runtime/gpu_fusion_pass.cc:507] ROCm Fusion is enabled.\n",
      "2023-04-13 16:53:21.269360: I tensorflow/core/common_runtime/gpu_fusion_pass.cc:507] ROCm Fusion is enabled.\n",
      "2023-04-13 16:53:21.275086: I tensorflow/core/common_runtime/gpu_fusion_pass.cc:507] ROCm Fusion is enabled.\n",
      "2023-04-13 16:53:21.279111: I tensorflow/core/common_runtime/gpu_fusion_pass.cc:507] ROCm Fusion is enabled.\n",
      "2023-04-13 16:53:21.281765: I tensorflow/core/common_runtime/gpu_fusion_pass.cc:507] ROCm Fusion is enabled.\n"
     ]
    },
    {
     "name": "stdout",
     "output_type": "stream",
     "text": [
      "61/93 [==================>...........] - ETA: 0s"
     ]
    },
    {
     "name": "stderr",
     "output_type": "stream",
     "text": [
      "2023-04-13 16:53:21.861447: I tensorflow/core/common_runtime/gpu_fusion_pass.cc:507] ROCm Fusion is enabled.\n",
      "2023-04-13 16:53:21.885768: I tensorflow/core/common_runtime/gpu_fusion_pass.cc:507] ROCm Fusion is enabled.\n",
      "2023-04-13 16:53:21.909440: I tensorflow/core/common_runtime/gpu_fusion_pass.cc:507] ROCm Fusion is enabled.\n",
      "2023-04-13 16:53:21.936411: I tensorflow/core/common_runtime/gpu_fusion_pass.cc:507] ROCm Fusion is enabled.\n"
     ]
    },
    {
     "name": "stdout",
     "output_type": "stream",
     "text": [
      "93/93 [==============================] - 1s 2ms/step\n"
     ]
    },
    {
     "name": "stderr",
     "output_type": "stream",
     "text": [
      "2023-04-13 16:53:22.093875: I tensorflow/core/common_runtime/gpu_fusion_pass.cc:507] ROCm Fusion is enabled.\n",
      "2023-04-13 16:53:22.094878: I tensorflow/core/common_runtime/gpu_fusion_pass.cc:507] ROCm Fusion is enabled.\n",
      "2023-04-13 16:53:22.112891: I tensorflow/core/common_runtime/gpu_fusion_pass.cc:507] ROCm Fusion is enabled.\n",
      "2023-04-13 16:53:22.114746: I tensorflow/core/common_runtime/gpu_fusion_pass.cc:507] ROCm Fusion is enabled.\n",
      "2023-04-13 16:53:22.115491: I tensorflow/core/common_runtime/gpu_fusion_pass.cc:507] ROCm Fusion is enabled.\n",
      "2023-04-13 16:53:22.127959: I tensorflow/core/common_runtime/gpu_fusion_pass.cc:507] ROCm Fusion is enabled.\n",
      "2023-04-13 16:53:22.130311: I tensorflow/core/common_runtime/gpu_fusion_pass.cc:507] ROCm Fusion is enabled.\n",
      "2023-04-13 16:53:22.143124: I tensorflow/core/common_runtime/gpu_fusion_pass.cc:507] ROCm Fusion is enabled.\n",
      "2023-04-13 16:53:22.151283: I tensorflow/core/common_runtime/gpu_fusion_pass.cc:507] ROCm Fusion is enabled.\n",
      "2023-04-13 16:53:22.155909: I tensorflow/core/common_runtime/gpu_fusion_pass.cc:507] ROCm Fusion is enabled.\n",
      "2023-04-13 16:53:22.164110: I tensorflow/core/common_runtime/gpu_fusion_pass.cc:507] ROCm Fusion is enabled.\n",
      "2023-04-13 16:53:22.168149: I tensorflow/core/common_runtime/gpu_fusion_pass.cc:507] ROCm Fusion is enabled.\n",
      "2023-04-13 16:53:22.170819: I tensorflow/core/common_runtime/gpu_fusion_pass.cc:507] ROCm Fusion is enabled.\n"
     ]
    },
    {
     "name": "stdout",
     "output_type": "stream",
     "text": [
      "58/93 [=================>............] - ETA: 0s"
     ]
    },
    {
     "name": "stderr",
     "output_type": "stream",
     "text": [
      "2023-04-13 16:53:22.728480: I tensorflow/core/common_runtime/gpu_fusion_pass.cc:507] ROCm Fusion is enabled.\n",
      "2023-04-13 16:53:22.754782: I tensorflow/core/common_runtime/gpu_fusion_pass.cc:507] ROCm Fusion is enabled.\n",
      "2023-04-13 16:53:22.781609: I tensorflow/core/common_runtime/gpu_fusion_pass.cc:507] ROCm Fusion is enabled.\n",
      "2023-04-13 16:53:22.806048: I tensorflow/core/common_runtime/gpu_fusion_pass.cc:507] ROCm Fusion is enabled.\n"
     ]
    },
    {
     "name": "stdout",
     "output_type": "stream",
     "text": [
      "93/93 [==============================] - 1s 2ms/step\n"
     ]
    },
    {
     "name": "stderr",
     "output_type": "stream",
     "text": [
      "2023-04-13 16:53:22.993286: I tensorflow/core/common_runtime/gpu_fusion_pass.cc:507] ROCm Fusion is enabled.\n",
      "2023-04-13 16:53:23.002523: I tensorflow/core/common_runtime/gpu_fusion_pass.cc:507] ROCm Fusion is enabled.\n",
      "2023-04-13 16:53:23.007697: I tensorflow/core/common_runtime/gpu_fusion_pass.cc:507] ROCm Fusion is enabled.\n",
      "2023-04-13 16:53:23.016257: I tensorflow/core/common_runtime/gpu_fusion_pass.cc:507] ROCm Fusion is enabled.\n",
      "2023-04-13 16:53:23.020532: I tensorflow/core/common_runtime/gpu_fusion_pass.cc:507] ROCm Fusion is enabled.\n",
      "2023-04-13 16:53:23.023219: I tensorflow/core/common_runtime/gpu_fusion_pass.cc:507] ROCm Fusion is enabled.\n"
     ]
    },
    {
     "name": "stdout",
     "output_type": "stream",
     "text": [
      "61/93 [==================>...........] - ETA: 0s"
     ]
    },
    {
     "name": "stderr",
     "output_type": "stream",
     "text": [
      "2023-04-13 16:53:23.582998: I tensorflow/core/common_runtime/gpu_fusion_pass.cc:507] ROCm Fusion is enabled.\n",
      "2023-04-13 16:53:23.607646: I tensorflow/core/common_runtime/gpu_fusion_pass.cc:507] ROCm Fusion is enabled.\n",
      "2023-04-13 16:53:23.633700: I tensorflow/core/common_runtime/gpu_fusion_pass.cc:507] ROCm Fusion is enabled.\n",
      "2023-04-13 16:53:23.660086: I tensorflow/core/common_runtime/gpu_fusion_pass.cc:507] ROCm Fusion is enabled.\n"
     ]
    },
    {
     "name": "stdout",
     "output_type": "stream",
     "text": [
      "\b\b\b\b\b\b\b\b\b\b\b\b\b\b\b\b\b\b\b\b\b\b\b\b\b\b\b\b\b\b\b\b\b\b\b\b\b\b\b\b\b\b\b\b\b\b\b\b\r",
      "93/93 [==============================] - 1s 2ms/step\n"
     ]
    },
    {
     "name": "stderr",
     "output_type": "stream",
     "text": [
      "2023-04-13 16:53:23.840972: I tensorflow/core/common_runtime/gpu_fusion_pass.cc:507] ROCm Fusion is enabled.\n",
      "2023-04-13 16:53:23.850373: I tensorflow/core/common_runtime/gpu_fusion_pass.cc:507] ROCm Fusion is enabled.\n",
      "2023-04-13 16:53:23.855621: I tensorflow/core/common_runtime/gpu_fusion_pass.cc:507] ROCm Fusion is enabled.\n",
      "2023-04-13 16:53:23.864053: I tensorflow/core/common_runtime/gpu_fusion_pass.cc:507] ROCm Fusion is enabled.\n",
      "2023-04-13 16:53:23.868459: I tensorflow/core/common_runtime/gpu_fusion_pass.cc:507] ROCm Fusion is enabled.\n",
      "2023-04-13 16:53:23.871417: I tensorflow/core/common_runtime/gpu_fusion_pass.cc:507] ROCm Fusion is enabled.\n"
     ]
    },
    {
     "name": "stdout",
     "output_type": "stream",
     "text": [
      "60/93 [==================>...........] - ETA: 0s"
     ]
    },
    {
     "name": "stderr",
     "output_type": "stream",
     "text": [
      "2023-04-13 16:53:24.430576: I tensorflow/core/common_runtime/gpu_fusion_pass.cc:507] ROCm Fusion is enabled.\n",
      "2023-04-13 16:53:24.458196: I tensorflow/core/common_runtime/gpu_fusion_pass.cc:507] ROCm Fusion is enabled.\n",
      "2023-04-13 16:53:24.482574: I tensorflow/core/common_runtime/gpu_fusion_pass.cc:507] ROCm Fusion is enabled.\n",
      "2023-04-13 16:53:24.506068: I tensorflow/core/common_runtime/gpu_fusion_pass.cc:507] ROCm Fusion is enabled.\n"
     ]
    },
    {
     "name": "stdout",
     "output_type": "stream",
     "text": [
      "93/93 [==============================] - 1s 2ms/step\n"
     ]
    },
    {
     "name": "stderr",
     "output_type": "stream",
     "text": [
      "2023-04-13 16:53:24.689938: I tensorflow/core/common_runtime/gpu_fusion_pass.cc:507] ROCm Fusion is enabled.\n",
      "2023-04-13 16:53:24.699237: I tensorflow/core/common_runtime/gpu_fusion_pass.cc:507] ROCm Fusion is enabled.\n",
      "2023-04-13 16:53:24.704467: I tensorflow/core/common_runtime/gpu_fusion_pass.cc:507] ROCm Fusion is enabled.\n",
      "2023-04-13 16:53:24.712992: I tensorflow/core/common_runtime/gpu_fusion_pass.cc:507] ROCm Fusion is enabled.\n",
      "2023-04-13 16:53:24.717627: I tensorflow/core/common_runtime/gpu_fusion_pass.cc:507] ROCm Fusion is enabled.\n",
      "2023-04-13 16:53:24.720673: I tensorflow/core/common_runtime/gpu_fusion_pass.cc:507] ROCm Fusion is enabled.\n"
     ]
    },
    {
     "name": "stdout",
     "output_type": "stream",
     "text": [
      "60/93 [==================>...........] - ETA: 0s"
     ]
    },
    {
     "name": "stderr",
     "output_type": "stream",
     "text": [
      "2023-04-13 16:53:25.724616: I tensorflow/core/common_runtime/gpu_fusion_pass.cc:507] ROCm Fusion is enabled.\n",
      "2023-04-13 16:53:25.747406: I tensorflow/core/common_runtime/gpu_fusion_pass.cc:507] ROCm Fusion is enabled.\n",
      "2023-04-13 16:53:25.772039: I tensorflow/core/common_runtime/gpu_fusion_pass.cc:507] ROCm Fusion is enabled.\n",
      "2023-04-13 16:53:25.795289: I tensorflow/core/common_runtime/gpu_fusion_pass.cc:507] ROCm Fusion is enabled.\n"
     ]
    },
    {
     "name": "stdout",
     "output_type": "stream",
     "text": [
      "93/93 [==============================] - 1s 2ms/step\n"
     ]
    },
    {
     "name": "stderr",
     "output_type": "stream",
     "text": [
      "2023-04-13 16:53:25.982681: I tensorflow/core/common_runtime/gpu_fusion_pass.cc:507] ROCm Fusion is enabled.\n",
      "2023-04-13 16:53:25.991014: I tensorflow/core/common_runtime/gpu_fusion_pass.cc:507] ROCm Fusion is enabled.\n",
      "2023-04-13 16:53:25.995732: I tensorflow/core/common_runtime/gpu_fusion_pass.cc:507] ROCm Fusion is enabled.\n",
      "2023-04-13 16:53:26.003749: I tensorflow/core/common_runtime/gpu_fusion_pass.cc:507] ROCm Fusion is enabled.\n",
      "2023-04-13 16:53:26.007816: I tensorflow/core/common_runtime/gpu_fusion_pass.cc:507] ROCm Fusion is enabled.\n",
      "2023-04-13 16:53:26.010493: I tensorflow/core/common_runtime/gpu_fusion_pass.cc:507] ROCm Fusion is enabled.\n"
     ]
    },
    {
     "name": "stdout",
     "output_type": "stream",
     "text": [
      "58/93 [=================>............] - ETA: 0s"
     ]
    },
    {
     "name": "stderr",
     "output_type": "stream",
     "text": [
      "2023-04-13 16:53:26.570548: I tensorflow/core/common_runtime/gpu_fusion_pass.cc:507] ROCm Fusion is enabled.\n",
      "2023-04-13 16:53:26.593676: I tensorflow/core/common_runtime/gpu_fusion_pass.cc:507] ROCm Fusion is enabled.\n",
      "2023-04-13 16:53:26.618903: I tensorflow/core/common_runtime/gpu_fusion_pass.cc:507] ROCm Fusion is enabled.\n",
      "2023-04-13 16:53:26.642140: I tensorflow/core/common_runtime/gpu_fusion_pass.cc:507] ROCm Fusion is enabled.\n"
     ]
    },
    {
     "name": "stdout",
     "output_type": "stream",
     "text": [
      "93/93 [==============================] - 1s 2ms/step\n"
     ]
    },
    {
     "name": "stderr",
     "output_type": "stream",
     "text": [
      "2023-04-13 16:53:26.834509: I tensorflow/core/common_runtime/gpu_fusion_pass.cc:507] ROCm Fusion is enabled.\n",
      "2023-04-13 16:53:26.842897: I tensorflow/core/common_runtime/gpu_fusion_pass.cc:507] ROCm Fusion is enabled.\n",
      "2023-04-13 16:53:26.848021: I tensorflow/core/common_runtime/gpu_fusion_pass.cc:507] ROCm Fusion is enabled.\n",
      "2023-04-13 16:53:26.856115: I tensorflow/core/common_runtime/gpu_fusion_pass.cc:507] ROCm Fusion is enabled.\n",
      "2023-04-13 16:53:26.860191: I tensorflow/core/common_runtime/gpu_fusion_pass.cc:507] ROCm Fusion is enabled.\n",
      "2023-04-13 16:53:26.862869: I tensorflow/core/common_runtime/gpu_fusion_pass.cc:507] ROCm Fusion is enabled.\n"
     ]
    },
    {
     "name": "stdout",
     "output_type": "stream",
     "text": [
      "59/93 [==================>...........] - ETA: 0s"
     ]
    },
    {
     "name": "stderr",
     "output_type": "stream",
     "text": [
      "2023-04-13 16:53:27.421263: I tensorflow/core/common_runtime/gpu_fusion_pass.cc:507] ROCm Fusion is enabled.\n",
      "2023-04-13 16:53:27.445604: I tensorflow/core/common_runtime/gpu_fusion_pass.cc:507] ROCm Fusion is enabled.\n",
      "2023-04-13 16:53:27.469509: I tensorflow/core/common_runtime/gpu_fusion_pass.cc:507] ROCm Fusion is enabled.\n",
      "2023-04-13 16:53:27.495437: I tensorflow/core/common_runtime/gpu_fusion_pass.cc:507] ROCm Fusion is enabled.\n"
     ]
    },
    {
     "name": "stdout",
     "output_type": "stream",
     "text": [
      "93/93 [==============================] - 1s 2ms/step\n"
     ]
    },
    {
     "name": "stderr",
     "output_type": "stream",
     "text": [
      "2023-04-13 16:53:27.683374: I tensorflow/core/common_runtime/gpu_fusion_pass.cc:507] ROCm Fusion is enabled.\n",
      "2023-04-13 16:53:27.692390: I tensorflow/core/common_runtime/gpu_fusion_pass.cc:507] ROCm Fusion is enabled.\n",
      "2023-04-13 16:53:27.697146: I tensorflow/core/common_runtime/gpu_fusion_pass.cc:507] ROCm Fusion is enabled.\n",
      "2023-04-13 16:53:27.705582: I tensorflow/core/common_runtime/gpu_fusion_pass.cc:507] ROCm Fusion is enabled.\n",
      "2023-04-13 16:53:27.709640: I tensorflow/core/common_runtime/gpu_fusion_pass.cc:507] ROCm Fusion is enabled.\n",
      "2023-04-13 16:53:27.712317: I tensorflow/core/common_runtime/gpu_fusion_pass.cc:507] ROCm Fusion is enabled.\n"
     ]
    },
    {
     "name": "stdout",
     "output_type": "stream",
     "text": [
      "62/93 [===================>..........] - ETA: 0s"
     ]
    },
    {
     "name": "stderr",
     "output_type": "stream",
     "text": [
      "2023-04-13 16:53:28.270658: I tensorflow/core/common_runtime/gpu_fusion_pass.cc:507] ROCm Fusion is enabled.\n",
      "2023-04-13 16:53:28.297223: I tensorflow/core/common_runtime/gpu_fusion_pass.cc:507] ROCm Fusion is enabled.\n",
      "2023-04-13 16:53:28.323367: I tensorflow/core/common_runtime/gpu_fusion_pass.cc:507] ROCm Fusion is enabled.\n",
      "2023-04-13 16:53:28.347023: I tensorflow/core/common_runtime/gpu_fusion_pass.cc:507] ROCm Fusion is enabled.\n"
     ]
    },
    {
     "name": "stdout",
     "output_type": "stream",
     "text": [
      "93/93 [==============================] - 1s 2ms/step\n",
      "Prediction finished !! - for lstm_at only\n",
      "Save prediction as .nc\n",
      "Ytrue saved as: /scratch/project_465000269/edelleo1/Leo/results/lstm_230413-162021/ml/ypred_LSTM3_bk.nc\n",
      "Saving models weights...\n",
      "Saved as: /scratch/project_465000269/edelleo1/Leo/results/lstm_230413-162021/ml/model_weights_LSTM3_bk_8N_PC0\n",
      "Saved as: /scratch/project_465000269/edelleo1/Leo/results/lstm_230413-162021/ml/model_weights_LSTM3_bk_8N_PC1\n",
      "Saved as: /scratch/project_465000269/edelleo1/Leo/results/lstm_230413-162021/ml/model_weights_LSTM3_bk_8N_PC2\n",
      "Saved as: /scratch/project_465000269/edelleo1/Leo/results/lstm_230413-162021/ml/model_weights_LSTM3_bk_8N_PC3\n",
      "Saved as: /scratch/project_465000269/edelleo1/Leo/results/lstm_230413-162021/ml/model_weights_LSTM3_bk_8N_PC4\n",
      "Saved as: /scratch/project_465000269/edelleo1/Leo/results/lstm_230413-162021/ml/model_weights_LSTM3_bk_8N_PC5\n",
      "Saved as: /scratch/project_465000269/edelleo1/Leo/results/lstm_230413-162021/ml/model_weights_LSTM3_bk_8N_PC6\n",
      "Saved as: /scratch/project_465000269/edelleo1/Leo/results/lstm_230413-162021/ml/model_weights_LSTM3_bk_8N_PC7\n"
     ]
    },
    {
     "name": "stderr",
     "output_type": "stream",
     "text": [
      "2023-04-13 16:53:28.541283: I tensorflow/core/common_runtime/gpu_fusion_pass.cc:507] ROCm Fusion is enabled.\n",
      "2023-04-13 16:53:28.542054: I tensorflow/core/common_runtime/gpu_fusion_pass.cc:507] ROCm Fusion is enabled.\n",
      "2023-04-13 16:53:28.542634: I tensorflow/core/common_runtime/gpu_fusion_pass.cc:507] ROCm Fusion is enabled.\n",
      "2023-04-13 16:53:28.543245: I tensorflow/core/common_runtime/gpu_fusion_pass.cc:507] ROCm Fusion is enabled.\n",
      "2023-04-13 16:53:28.543823: I tensorflow/core/common_runtime/gpu_fusion_pass.cc:507] ROCm Fusion is enabled.\n",
      "2023-04-13 16:53:28.544327: I tensorflow/core/common_runtime/gpu_fusion_pass.cc:507] ROCm Fusion is enabled.\n",
      "2023-04-13 16:53:28.544814: I tensorflow/core/common_runtime/gpu_fusion_pass.cc:507] ROCm Fusion is enabled.\n",
      "2023-04-13 16:53:28.545463: I tensorflow/core/common_runtime/gpu_fusion_pass.cc:507] ROCm Fusion is enabled.\n",
      "2023-04-13 16:53:28.545939: I tensorflow/core/common_runtime/gpu_fusion_pass.cc:507] ROCm Fusion is enabled.\n",
      "2023-04-13 16:53:28.546533: I tensorflow/core/common_runtime/gpu_fusion_pass.cc:507] ROCm Fusion is enabled.\n",
      "2023-04-13 16:53:28.546989: I tensorflow/core/common_runtime/gpu_fusion_pass.cc:507] ROCm Fusion is enabled.\n",
      "2023-04-13 16:53:28.547570: I tensorflow/core/common_runtime/gpu_fusion_pass.cc:507] ROCm Fusion is enabled.\n",
      "2023-04-13 16:53:28.548022: I tensorflow/core/common_runtime/gpu_fusion_pass.cc:507] ROCm Fusion is enabled.\n",
      "2023-04-13 16:53:28.548615: I tensorflow/core/common_runtime/gpu_fusion_pass.cc:507] ROCm Fusion is enabled.\n",
      "2023-04-13 16:53:28.549083: I tensorflow/core/common_runtime/gpu_fusion_pass.cc:507] ROCm Fusion is enabled.\n",
      "2023-04-13 16:53:28.549555: I tensorflow/core/common_runtime/gpu_fusion_pass.cc:507] ROCm Fusion is enabled.\n",
      "2023-04-13 16:53:28.550141: I tensorflow/core/common_runtime/gpu_fusion_pass.cc:507] ROCm Fusion is enabled.\n",
      "2023-04-13 16:53:28.550609: I tensorflow/core/common_runtime/gpu_fusion_pass.cc:507] ROCm Fusion is enabled.\n",
      "2023-04-13 16:53:28.551141: I tensorflow/core/common_runtime/gpu_fusion_pass.cc:507] ROCm Fusion is enabled.\n",
      "2023-04-13 16:53:28.551805: I tensorflow/core/common_runtime/gpu_fusion_pass.cc:507] ROCm Fusion is enabled.\n",
      "2023-04-13 16:53:28.552496: I tensorflow/core/common_runtime/gpu_fusion_pass.cc:507] ROCm Fusion is enabled.\n",
      "2023-04-13 16:53:28.553032: I tensorflow/core/common_runtime/gpu_fusion_pass.cc:507] ROCm Fusion is enabled.\n",
      "2023-04-13 16:53:28.558575: I tensorflow/core/common_runtime/gpu_fusion_pass.cc:507] ROCm Fusion is enabled.\n",
      "2023-04-13 16:53:28.563510: I tensorflow/core/common_runtime/gpu_fusion_pass.cc:507] ROCm Fusion is enabled.\n",
      "2023-04-13 16:53:28.564119: I tensorflow/core/common_runtime/gpu_fusion_pass.cc:507] ROCm Fusion is enabled.\n"
     ]
    },
    {
     "name": "stdout",
     "output_type": "stream",
     "text": [
      "Saved as: /scratch/project_465000269/edelleo1/Leo/results/lstm_230413-162021/figures/LSTM3_bk_ypred.png\n"
     ]
    }
   ],
   "source": [
    "regularizers = [L1L2(l1=0, l2=0)]  # [L1L2(l1=0, l2=0), L1L2(l1=0.01, l2=0), L1L2(l1=0, l2=0.01), L1L2(l1=0.1, l2=0.1)]\n",
    "\n",
    "n_components = ds.config.n_comp['tp']\n",
    "\n",
    "\n",
    "ireg = 0\n",
    "reg = regularizers[ireg]\n",
    "suffixe = f'_reg{ireg}'\n",
    "            \n",
    "with tf.device(\"CPU\"):\n",
    "\n",
    "    # n_output = ds[0]['ytrain'].shape[0]\n",
    "    m4 = model_lstm.ModelLSTM(ds, ds.dataset['Xtrain'].shape[1], ds.dataset['Xtrain'].shape[2], reg=reg, rootdir=ds.config.rootdir, ml_dir=ds.config.ml_dir, fig_dir=ds.config.fig_dir)\n",
    "    m4.compile_models(npca=n_components)\n",
    "    m4.fit_multiple(ds.dataset, suffix=suffixe) \n",
    "    m4.print_histories()\n",
    "    m4.predict_multiple(ds.dataset)\n",
    "    m4.save_prediction()\n",
    "\n",
    "    # m4.save_model()\n",
    "    m4.save_model_weights()\n",
    "\n",
    "\n",
    "    ofile = f'{m4.type}_ypred.png'\n",
    "    mdl_ypred_PCA.draw(m4, odir=m4.rootdir+m4.fig_dir, savefig=True, showfig=False, ofile=ofile)"
   ]
  },
  {
   "cell_type": "markdown",
   "id": "b6d330b0",
   "metadata": {},
   "source": [
    "# SHAP"
   ]
  },
  {
   "cell_type": "markdown",
   "id": "49b3a2dd",
   "metadata": {},
   "source": [
    "# tout bugger: LSTM fonctionne pas avec ces versions de TF et SHAP"
   ]
  },
  {
   "cell_type": "code",
   "execution_count": 8,
   "id": "15108804",
   "metadata": {},
   "outputs": [
    {
     "name": "stderr",
     "output_type": "stream",
     "text": [
      "/LUMI_CONTAINER/env1/lib/python3.9/site-packages/tqdm/auto.py:21: TqdmWarning: IProgress not found. Please update jupyter and ipywidgets. See https://ipywidgets.readthedocs.io/en/stable/user_install.html\n",
      "  from .autonotebook import tqdm as notebook_tqdm\n"
     ]
    }
   ],
   "source": [
    "import shap"
   ]
  },
  {
   "cell_type": "code",
   "execution_count": 9,
   "id": "e4b7b043",
   "metadata": {},
   "outputs": [],
   "source": [
    "import tensorflow as tf"
   ]
  },
  {
   "cell_type": "code",
   "execution_count": 19,
   "id": "2fbb9c33",
   "metadata": {},
   "outputs": [
    {
     "name": "stdout",
     "output_type": "stream",
     "text": [
      "WARNING:tensorflow:From /LUMI_CONTAINER/env1/lib/python3.9/site-packages/tensorflow/python/compat/v2_compat.py:107: disable_resource_variables (from tensorflow.python.ops.variable_scope) is deprecated and will be removed in a future version.\n",
      "Instructions for updating:\n",
      "non-resource variables are not supported in the long term\n"
     ]
    }
   ],
   "source": [
    "tf.compat.v1.disable_v2_behavior()"
   ]
  },
  {
   "cell_type": "code",
   "execution_count": 12,
   "id": "bb8d6725",
   "metadata": {},
   "outputs": [
    {
     "data": {
      "text/plain": [
       "'2.11.0'"
      ]
     },
     "execution_count": 12,
     "metadata": {},
     "output_type": "execute_result"
    }
   ],
   "source": [
    "tf.__version__"
   ]
  },
  {
   "cell_type": "code",
   "execution_count": 11,
   "id": "6840c59a",
   "metadata": {},
   "outputs": [
    {
     "data": {
      "text/plain": [
       "'0.45.0'"
      ]
     },
     "execution_count": 11,
     "metadata": {},
     "output_type": "execute_result"
    }
   ],
   "source": [
    "shap.__version__"
   ]
  },
  {
   "cell_type": "code",
   "execution_count": 10,
   "id": "95dd49ca",
   "metadata": {},
   "outputs": [
    {
     "name": "stdout",
     "output_type": "stream",
     "text": [
      "Model: \"sequential\"\n",
      "_________________________________________________________________\n",
      " Layer (type)                Output Shape              Param #   \n",
      "=================================================================\n",
      " lstm (LSTM)                 (None, 7, 32)             54400     \n",
      "                                                                 \n",
      " dropout (Dropout)           (None, 7, 32)             0         \n",
      "                                                                 \n",
      " lstm_1 (LSTM)               (None, 7, 32)             8320      \n",
      "                                                                 \n",
      " dropout_1 (Dropout)         (None, 7, 32)             0         \n",
      "                                                                 \n",
      " lstm_2 (LSTM)               (None, 32)                8320      \n",
      "                                                                 \n",
      " dropout_2 (Dropout)         (None, 32)                0         \n",
      "                                                                 \n",
      " dense (Dense)               (None, 1)                 33        \n",
      "                                                                 \n",
      "=================================================================\n",
      "Total params: 71,073\n",
      "Trainable params: 71,073\n",
      "Non-trainable params: 0\n",
      "_________________________________________________________________\n"
     ]
    }
   ],
   "source": [
    "m1.models['pc0'].summary()"
   ]
  },
  {
   "cell_type": "code",
   "execution_count": 13,
   "id": "626a906b",
   "metadata": {},
   "outputs": [
    {
     "ename": "AttributeError",
     "evalue": "'ModelLSTM' object has no attribute 'x'",
     "output_type": "error",
     "traceback": [
      "\u001b[0;31m---------------------------------------------------------------------------\u001b[0m",
      "\u001b[0;31mAttributeError\u001b[0m                            Traceback (most recent call last)",
      "Cell \u001b[0;32mIn[13], line 1\u001b[0m\n\u001b[0;32m----> 1\u001b[0m \u001b[43mm1\u001b[49m\u001b[38;5;241;43m.\u001b[39;49m\u001b[43mx\u001b[49m\u001b[38;5;241m.\u001b[39mshape\n",
      "\u001b[0;31mAttributeError\u001b[0m: 'ModelLSTM' object has no attribute 'x'"
     ]
    }
   ],
   "source": [
    "m1.x.shape"
   ]
  },
  {
   "cell_type": "code",
   "execution_count": 14,
   "id": "20179655",
   "metadata": {},
   "outputs": [
    {
     "data": {
      "text/plain": [
       "(4143, 7, 392)"
      ]
     },
     "execution_count": 14,
     "metadata": {},
     "output_type": "execute_result"
    }
   ],
   "source": [
    "ds.dataset['X'].shape"
   ]
  },
  {
   "cell_type": "code",
   "execution_count": 32,
   "id": "7007f983",
   "metadata": {},
   "outputs": [
    {
     "data": {
      "text/plain": [
       "5940"
      ]
     },
     "execution_count": 32,
     "metadata": {},
     "output_type": "execute_result"
    }
   ],
   "source": [
    "2970*2"
   ]
  },
  {
   "cell_type": "code",
   "execution_count": 21,
   "id": "3307cec5",
   "metadata": {},
   "outputs": [
    {
     "name": "stdout",
     "output_type": "stream",
     "text": [
      "WARNING:tensorflow:From /LUMI_CONTAINER/env1/lib/python3.9/site-packages/shap/explainers/tf_utils.py:30: The name tf.keras.backend.get_session is deprecated. Please use tf.compat.v1.keras.backend.get_session instead.\n",
      "\n"
     ]
    },
    {
     "ename": "TypeError",
     "evalue": "Tensors are unhashable (this tensor: KerasTensor(type_spec=TensorSpec(shape=(?, 7, 392), dtype=tf.float32, name='lstm_input'), name='lstm_input', description=\"created by layer 'lstm_input'\")). Instead, use tensor.ref() as the key.",
     "output_type": "error",
     "traceback": [
      "\u001b[0;31m---------------------------------------------------------------------------\u001b[0m",
      "\u001b[0;31mTypeError\u001b[0m                                 Traceback (most recent call last)",
      "Cell \u001b[0;32mIn[21], line 3\u001b[0m\n\u001b[1;32m      1\u001b[0m \u001b[38;5;66;03m# DEEP EXPLAINER - works with 3D dataset\u001b[39;00m\n\u001b[0;32m----> 3\u001b[0m explainer \u001b[38;5;241m=\u001b[39m \u001b[43mshap\u001b[49m\u001b[38;5;241;43m.\u001b[39;49m\u001b[43mDeepExplainer\u001b[49m\u001b[43m(\u001b[49m\u001b[43mm1\u001b[49m\u001b[38;5;241;43m.\u001b[39;49m\u001b[43mmodels\u001b[49m\u001b[43m[\u001b[49m\u001b[38;5;124;43m'\u001b[39;49m\u001b[38;5;124;43mpc0\u001b[39;49m\u001b[38;5;124;43m'\u001b[39;49m\u001b[43m]\u001b[49m\u001b[43m,\u001b[49m\u001b[43m \u001b[49m\u001b[43mds\u001b[49m\u001b[38;5;241;43m.\u001b[39;49m\u001b[43mdataset\u001b[49m\u001b[43m[\u001b[49m\u001b[38;5;124;43m'\u001b[39;49m\u001b[38;5;124;43mXtrain\u001b[39;49m\u001b[38;5;124;43m'\u001b[39;49m\u001b[43m]\u001b[49m\u001b[43m)\u001b[49m\n",
      "File \u001b[0;32m/LUMI_CONTAINER/env1/lib/python3.9/site-packages/shap/explainers/_deep/__init__.py:84\u001b[0m, in \u001b[0;36mDeepExplainer.__init__\u001b[0;34m(self, model, data, session, learning_phase_flags)\u001b[0m\n\u001b[1;32m     81\u001b[0m         framework \u001b[38;5;241m=\u001b[39m \u001b[38;5;124m'\u001b[39m\u001b[38;5;124mtensorflow\u001b[39m\u001b[38;5;124m'\u001b[39m\n\u001b[1;32m     83\u001b[0m \u001b[38;5;28;01mif\u001b[39;00m framework \u001b[38;5;241m==\u001b[39m \u001b[38;5;124m'\u001b[39m\u001b[38;5;124mtensorflow\u001b[39m\u001b[38;5;124m'\u001b[39m:\n\u001b[0;32m---> 84\u001b[0m     \u001b[38;5;28mself\u001b[39m\u001b[38;5;241m.\u001b[39mexplainer \u001b[38;5;241m=\u001b[39m \u001b[43mTFDeep\u001b[49m\u001b[43m(\u001b[49m\u001b[43mmodel\u001b[49m\u001b[43m,\u001b[49m\u001b[43m \u001b[49m\u001b[43mdata\u001b[49m\u001b[43m,\u001b[49m\u001b[43m \u001b[49m\u001b[43msession\u001b[49m\u001b[43m,\u001b[49m\u001b[43m \u001b[49m\u001b[43mlearning_phase_flags\u001b[49m\u001b[43m)\u001b[49m\n\u001b[1;32m     85\u001b[0m \u001b[38;5;28;01melif\u001b[39;00m framework \u001b[38;5;241m==\u001b[39m \u001b[38;5;124m'\u001b[39m\u001b[38;5;124mpytorch\u001b[39m\u001b[38;5;124m'\u001b[39m:\n\u001b[1;32m     86\u001b[0m     \u001b[38;5;28mself\u001b[39m\u001b[38;5;241m.\u001b[39mexplainer \u001b[38;5;241m=\u001b[39m PyTorchDeep(model, data)\n",
      "File \u001b[0;32m/LUMI_CONTAINER/env1/lib/python3.9/site-packages/shap/explainers/_deep/deep_tf.py:157\u001b[0m, in \u001b[0;36mTFDeep.__init__\u001b[0;34m(self, model, data, session, learning_phase_flags)\u001b[0m\n\u001b[1;32m    155\u001b[0m     warnings\u001b[38;5;241m.\u001b[39mwarn(\u001b[38;5;124m\"\u001b[39m\u001b[38;5;124mYou have provided over 5k background samples! For better performance consider using smaller random sample.\u001b[39m\u001b[38;5;124m\"\u001b[39m)\n\u001b[1;32m    156\u001b[0m \u001b[38;5;28;01mif\u001b[39;00m \u001b[38;5;129;01mnot\u001b[39;00m tf\u001b[38;5;241m.\u001b[39mexecuting_eagerly():\n\u001b[0;32m--> 157\u001b[0m     \u001b[38;5;28mself\u001b[39m\u001b[38;5;241m.\u001b[39mexpected_value \u001b[38;5;241m=\u001b[39m \u001b[38;5;28;43mself\u001b[39;49m\u001b[38;5;241;43m.\u001b[39;49m\u001b[43mrun\u001b[49m\u001b[43m(\u001b[49m\u001b[38;5;28;43mself\u001b[39;49m\u001b[38;5;241;43m.\u001b[39;49m\u001b[43mmodel_output\u001b[49m\u001b[43m,\u001b[49m\u001b[43m \u001b[49m\u001b[38;5;28;43mself\u001b[39;49m\u001b[38;5;241;43m.\u001b[39;49m\u001b[43mmodel_inputs\u001b[49m\u001b[43m,\u001b[49m\u001b[43m \u001b[49m\u001b[38;5;28;43mself\u001b[39;49m\u001b[38;5;241;43m.\u001b[39;49m\u001b[43mdata\u001b[49m\u001b[43m)\u001b[49m\u001b[38;5;241m.\u001b[39mmean(\u001b[38;5;241m0\u001b[39m)\n\u001b[1;32m    158\u001b[0m \u001b[38;5;28;01melse\u001b[39;00m:\n\u001b[1;32m    159\u001b[0m     \u001b[38;5;66;03m#if type(self.model)is tuple:\u001b[39;00m\n\u001b[1;32m    160\u001b[0m     \u001b[38;5;66;03m#    self.fModel(cnn.inputs, cnn.get_layer(theNameYouWant).outputs)\u001b[39;00m\n\u001b[1;32m    161\u001b[0m     \u001b[38;5;28mself\u001b[39m\u001b[38;5;241m.\u001b[39mexpected_value \u001b[38;5;241m=\u001b[39m tf\u001b[38;5;241m.\u001b[39mreduce_mean(\u001b[38;5;28mself\u001b[39m\u001b[38;5;241m.\u001b[39mmodel(\u001b[38;5;28mself\u001b[39m\u001b[38;5;241m.\u001b[39mdata), \u001b[38;5;241m0\u001b[39m)\n",
      "File \u001b[0;32m/LUMI_CONTAINER/env1/lib/python3.9/site-packages/shap/explainers/_deep/deep_tf.py:343\u001b[0m, in \u001b[0;36mTFDeep.run\u001b[0;34m(self, out, model_inputs, X)\u001b[0m\n\u001b[1;32m    341\u001b[0m \u001b[38;5;250m\u001b[39m\u001b[38;5;124;03m\"\"\"Runs the model while also setting the learning phase flags to False.\"\"\"\u001b[39;00m\n\u001b[1;32m    342\u001b[0m \u001b[38;5;28;01mif\u001b[39;00m \u001b[38;5;129;01mnot\u001b[39;00m tf\u001b[38;5;241m.\u001b[39mexecuting_eagerly():\n\u001b[0;32m--> 343\u001b[0m     feed_dict \u001b[38;5;241m=\u001b[39m \u001b[38;5;28;43mdict\u001b[39;49m\u001b[43m(\u001b[49m\u001b[38;5;28;43mzip\u001b[39;49m\u001b[43m(\u001b[49m\u001b[43mmodel_inputs\u001b[49m\u001b[43m,\u001b[49m\u001b[43m \u001b[49m\u001b[43mX\u001b[49m\u001b[43m)\u001b[49m\u001b[43m)\u001b[49m\n\u001b[1;32m    344\u001b[0m     \u001b[38;5;28;01mfor\u001b[39;00m t \u001b[38;5;129;01min\u001b[39;00m \u001b[38;5;28mself\u001b[39m\u001b[38;5;241m.\u001b[39mlearning_phase_flags:\n\u001b[1;32m    345\u001b[0m         feed_dict[t] \u001b[38;5;241m=\u001b[39m \u001b[38;5;28;01mFalse\u001b[39;00m\n",
      "File \u001b[0;32m/LUMI_CONTAINER/env1/lib/python3.9/site-packages/keras/engine/keras_tensor.py:268\u001b[0m, in \u001b[0;36mKerasTensor.__hash__\u001b[0;34m(self)\u001b[0m\n\u001b[1;32m    267\u001b[0m \u001b[38;5;28;01mdef\u001b[39;00m \u001b[38;5;21m__hash__\u001b[39m(\u001b[38;5;28mself\u001b[39m):\n\u001b[0;32m--> 268\u001b[0m     \u001b[38;5;28;01mraise\u001b[39;00m \u001b[38;5;167;01mTypeError\u001b[39;00m(\n\u001b[1;32m    269\u001b[0m         \u001b[38;5;124mf\u001b[39m\u001b[38;5;124m\"\u001b[39m\u001b[38;5;124mTensors are unhashable (this tensor: \u001b[39m\u001b[38;5;132;01m{\u001b[39;00m\u001b[38;5;28mself\u001b[39m\u001b[38;5;132;01m}\u001b[39;00m\u001b[38;5;124m). \u001b[39m\u001b[38;5;124m\"\u001b[39m\n\u001b[1;32m    270\u001b[0m         \u001b[38;5;124m\"\u001b[39m\u001b[38;5;124mInstead, use tensor.ref() as the key.\u001b[39m\u001b[38;5;124m\"\u001b[39m\n\u001b[1;32m    271\u001b[0m     )\n",
      "\u001b[0;31mTypeError\u001b[0m: Tensors are unhashable (this tensor: KerasTensor(type_spec=TensorSpec(shape=(?, 7, 392), dtype=tf.float32, name='lstm_input'), name='lstm_input', description=\"created by layer 'lstm_input'\")). Instead, use tensor.ref() as the key."
     ]
    }
   ],
   "source": [
    "# DEEP EXPLAINER - works with 3D dataset\n",
    "\n",
    "explainer = shap.DeepExplainer(m1.models['pc0'], ds.dataset['Xtrain'])"
   ]
  },
  {
   "cell_type": "code",
   "execution_count": 16,
   "id": "c448d0de",
   "metadata": {},
   "outputs": [
    {
     "data": {
      "text/plain": [
       "(2438, 7, 392)"
      ]
     },
     "execution_count": 16,
     "metadata": {},
     "output_type": "execute_result"
    }
   ],
   "source": [
    "ds.dataset['Xtrain'].shape"
   ]
  },
  {
   "cell_type": "code",
   "execution_count": 20,
   "id": "3cf53178",
   "metadata": {
    "scrolled": true
   },
   "outputs": [
    {
     "ename": "TypeError",
     "evalue": "Tensors are unhashable (this tensor: KerasTensor(type_spec=TensorSpec(shape=(?, 7, 392), dtype=tf.float32, name='lstm_input'), name='lstm_input', description=\"created by layer 'lstm_input'\")). Instead, use tensor.ref() as the key.",
     "output_type": "error",
     "traceback": [
      "\u001b[0;31m---------------------------------------------------------------------------\u001b[0m",
      "\u001b[0;31mTypeError\u001b[0m                                 Traceback (most recent call last)",
      "Cell \u001b[0;32mIn[20], line 1\u001b[0m\n\u001b[0;32m----> 1\u001b[0m shap_values \u001b[38;5;241m=\u001b[39m \u001b[43mexplainer\u001b[49m\u001b[38;5;241;43m.\u001b[39;49m\u001b[43mshap_values\u001b[49m\u001b[43m(\u001b[49m\u001b[43mds\u001b[49m\u001b[38;5;241;43m.\u001b[39;49m\u001b[43mdataset\u001b[49m\u001b[43m[\u001b[49m\u001b[38;5;124;43m'\u001b[39;49m\u001b[38;5;124;43mXtrain\u001b[39;49m\u001b[38;5;124;43m'\u001b[39;49m\u001b[43m]\u001b[49m\u001b[43m[\u001b[49m\u001b[43m:\u001b[49m\u001b[38;5;241;43m10\u001b[39;49m\u001b[43m]\u001b[49m\u001b[43m)\u001b[49m\n",
      "File \u001b[0;32m/LUMI_CONTAINER/env1/lib/python3.9/site-packages/shap/explainers/_deep/__init__.py:135\u001b[0m, in \u001b[0;36mDeepExplainer.shap_values\u001b[0;34m(self, X, ranked_outputs, output_rank_order, check_additivity)\u001b[0m\n\u001b[1;32m     91\u001b[0m \u001b[38;5;28;01mdef\u001b[39;00m \u001b[38;5;21mshap_values\u001b[39m(\u001b[38;5;28mself\u001b[39m, X, ranked_outputs\u001b[38;5;241m=\u001b[39m\u001b[38;5;28;01mNone\u001b[39;00m, output_rank_order\u001b[38;5;241m=\u001b[39m\u001b[38;5;124m'\u001b[39m\u001b[38;5;124mmax\u001b[39m\u001b[38;5;124m'\u001b[39m, check_additivity\u001b[38;5;241m=\u001b[39m\u001b[38;5;28;01mTrue\u001b[39;00m):\n\u001b[1;32m     92\u001b[0m \u001b[38;5;250m    \u001b[39m\u001b[38;5;124;03m\"\"\"Return approximate SHAP values for the model applied to the data given by X.\u001b[39;00m\n\u001b[1;32m     93\u001b[0m \n\u001b[1;32m     94\u001b[0m \u001b[38;5;124;03m    Parameters\u001b[39;00m\n\u001b[0;32m   (...)\u001b[0m\n\u001b[1;32m    133\u001b[0m \n\u001b[1;32m    134\u001b[0m \u001b[38;5;124;03m    \"\"\"\u001b[39;00m\n\u001b[0;32m--> 135\u001b[0m     \u001b[38;5;28;01mreturn\u001b[39;00m \u001b[38;5;28;43mself\u001b[39;49m\u001b[38;5;241;43m.\u001b[39;49m\u001b[43mexplainer\u001b[49m\u001b[38;5;241;43m.\u001b[39;49m\u001b[43mshap_values\u001b[49m\u001b[43m(\u001b[49m\u001b[43mX\u001b[49m\u001b[43m,\u001b[49m\u001b[43m \u001b[49m\u001b[43mranked_outputs\u001b[49m\u001b[43m,\u001b[49m\u001b[43m \u001b[49m\u001b[43moutput_rank_order\u001b[49m\u001b[43m,\u001b[49m\u001b[43m \u001b[49m\u001b[43mcheck_additivity\u001b[49m\u001b[38;5;241;43m=\u001b[39;49m\u001b[43mcheck_additivity\u001b[49m\u001b[43m)\u001b[49m\n",
      "File \u001b[0;32m/LUMI_CONTAINER/env1/lib/python3.9/site-packages/shap/explainers/_deep/deep_tf.py:310\u001b[0m, in \u001b[0;36mTFDeep.shap_values\u001b[0;34m(self, X, ranked_outputs, output_rank_order, check_additivity)\u001b[0m\n\u001b[1;32m    308\u001b[0m \u001b[38;5;66;03m# run attribution computation graph\u001b[39;00m\n\u001b[1;32m    309\u001b[0m feature_ind \u001b[38;5;241m=\u001b[39m model_output_ranks[j,i]\n\u001b[0;32m--> 310\u001b[0m sample_phis \u001b[38;5;241m=\u001b[39m \u001b[38;5;28;43mself\u001b[39;49m\u001b[38;5;241;43m.\u001b[39;49m\u001b[43mrun\u001b[49m\u001b[43m(\u001b[49m\u001b[38;5;28;43mself\u001b[39;49m\u001b[38;5;241;43m.\u001b[39;49m\u001b[43mphi_symbolic\u001b[49m\u001b[43m(\u001b[49m\u001b[43mfeature_ind\u001b[49m\u001b[43m)\u001b[49m\u001b[43m,\u001b[49m\u001b[43m \u001b[49m\u001b[38;5;28;43mself\u001b[39;49m\u001b[38;5;241;43m.\u001b[39;49m\u001b[43mmodel_inputs\u001b[49m\u001b[43m,\u001b[49m\u001b[43m \u001b[49m\u001b[43mjoint_input\u001b[49m\u001b[43m)\u001b[49m\n\u001b[1;32m    312\u001b[0m \u001b[38;5;66;03m# assign the attributions to the right part of the output arrays\u001b[39;00m\n\u001b[1;32m    313\u001b[0m \u001b[38;5;28;01mfor\u001b[39;00m t \u001b[38;5;129;01min\u001b[39;00m \u001b[38;5;28mrange\u001b[39m(\u001b[38;5;28mlen\u001b[39m(X)):\n",
      "File \u001b[0;32m/LUMI_CONTAINER/env1/lib/python3.9/site-packages/shap/explainers/_deep/deep_tf.py:343\u001b[0m, in \u001b[0;36mTFDeep.run\u001b[0;34m(self, out, model_inputs, X)\u001b[0m\n\u001b[1;32m    341\u001b[0m \u001b[38;5;250m\u001b[39m\u001b[38;5;124;03m\"\"\"Runs the model while also setting the learning phase flags to False.\"\"\"\u001b[39;00m\n\u001b[1;32m    342\u001b[0m \u001b[38;5;28;01mif\u001b[39;00m \u001b[38;5;129;01mnot\u001b[39;00m tf\u001b[38;5;241m.\u001b[39mexecuting_eagerly():\n\u001b[0;32m--> 343\u001b[0m     feed_dict \u001b[38;5;241m=\u001b[39m \u001b[38;5;28;43mdict\u001b[39;49m\u001b[43m(\u001b[49m\u001b[38;5;28;43mzip\u001b[39;49m\u001b[43m(\u001b[49m\u001b[43mmodel_inputs\u001b[49m\u001b[43m,\u001b[49m\u001b[43m \u001b[49m\u001b[43mX\u001b[49m\u001b[43m)\u001b[49m\u001b[43m)\u001b[49m\n\u001b[1;32m    344\u001b[0m     \u001b[38;5;28;01mfor\u001b[39;00m t \u001b[38;5;129;01min\u001b[39;00m \u001b[38;5;28mself\u001b[39m\u001b[38;5;241m.\u001b[39mlearning_phase_flags:\n\u001b[1;32m    345\u001b[0m         feed_dict[t] \u001b[38;5;241m=\u001b[39m \u001b[38;5;28;01mFalse\u001b[39;00m\n",
      "File \u001b[0;32m/LUMI_CONTAINER/env1/lib/python3.9/site-packages/keras/engine/keras_tensor.py:268\u001b[0m, in \u001b[0;36mKerasTensor.__hash__\u001b[0;34m(self)\u001b[0m\n\u001b[1;32m    267\u001b[0m \u001b[38;5;28;01mdef\u001b[39;00m \u001b[38;5;21m__hash__\u001b[39m(\u001b[38;5;28mself\u001b[39m):\n\u001b[0;32m--> 268\u001b[0m     \u001b[38;5;28;01mraise\u001b[39;00m \u001b[38;5;167;01mTypeError\u001b[39;00m(\n\u001b[1;32m    269\u001b[0m         \u001b[38;5;124mf\u001b[39m\u001b[38;5;124m\"\u001b[39m\u001b[38;5;124mTensors are unhashable (this tensor: \u001b[39m\u001b[38;5;132;01m{\u001b[39;00m\u001b[38;5;28mself\u001b[39m\u001b[38;5;132;01m}\u001b[39;00m\u001b[38;5;124m). \u001b[39m\u001b[38;5;124m\"\u001b[39m\n\u001b[1;32m    270\u001b[0m         \u001b[38;5;124m\"\u001b[39m\u001b[38;5;124mInstead, use tensor.ref() as the key.\u001b[39m\u001b[38;5;124m\"\u001b[39m\n\u001b[1;32m    271\u001b[0m     )\n",
      "\u001b[0;31mTypeError\u001b[0m: Tensors are unhashable (this tensor: KerasTensor(type_spec=TensorSpec(shape=(?, 7, 392), dtype=tf.float32, name='lstm_input'), name='lstm_input', description=\"created by layer 'lstm_input'\")). Instead, use tensor.ref() as the key."
     ]
    }
   ],
   "source": [
    "shap_values = explainer.shap_values(ds.dataset['Xtrain'][:10])"
   ]
  },
  {
   "cell_type": "code",
   "execution_count": null,
   "id": "005c1067",
   "metadata": {},
   "outputs": [],
   "source": []
  },
  {
   "cell_type": "code",
   "execution_count": null,
   "id": "0d55195a",
   "metadata": {},
   "outputs": [],
   "source": []
  },
  {
   "cell_type": "code",
   "execution_count": null,
   "id": "3405de61",
   "metadata": {},
   "outputs": [],
   "source": []
  }
 ],
 "metadata": {
  "kernelspec": {
   "display_name": "Python 3 (ipykernel)",
   "language": "python",
   "name": "python3"
  },
  "language_info": {
   "codemirror_mode": {
    "name": "ipython",
    "version": 3
   },
   "file_extension": ".py",
   "mimetype": "text/x-python",
   "name": "python",
   "nbconvert_exporter": "python",
   "pygments_lexer": "ipython3",
   "version": "3.9.12"
  }
 },
 "nbformat": 4,
 "nbformat_minor": 5
}
