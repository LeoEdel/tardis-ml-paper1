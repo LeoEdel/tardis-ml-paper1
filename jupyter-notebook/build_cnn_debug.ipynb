{
 "cells": [
  {
   "cell_type": "markdown",
   "id": "a5e7c6ed",
   "metadata": {},
   "source": [
    "# DEBUG build_ml_cnn.py"
   ]
  },
  {
   "cell_type": "code",
   "execution_count": 1,
   "id": "eea313a6",
   "metadata": {},
   "outputs": [
    {
     "name": "stderr",
     "output_type": "stream",
     "text": [
      "2023-03-15 12:58:04.140253: I tensorflow/core/platform/cpu_feature_guard.cc:193] This TensorFlow binary is optimized with oneAPI Deep Neural Network Library (oneDNN) to use the following CPU instructions in performance-critical operations:  AVX2 FMA\n",
      "To enable them in other operations, rebuild TensorFlow with the appropriate compiler flags.\n",
      "2023-03-15 12:58:06.124396: W tensorflow/compiler/xla/stream_executor/platform/default/dso_loader.cc:64] Could not load dynamic library 'libcudart.so.11.0'; dlerror: libcudart.so.11.0: cannot open shared object file: No such file or directory; LD_LIBRARY_PATH: /LUMI_CONTAINER/env1/lib:/LUMI_CONTAINER/env1/lib64:/opt/cray/pe/papi/6.0.0.15/lib64:/opt/cray/libfabric/1.15.0.0/lib64:/.singularity.d/libs\n",
      "2023-03-15 12:58:06.124417: I tensorflow/compiler/xla/stream_executor/cuda/cudart_stub.cc:29] Ignore above cudart dlerror if you do not have a GPU set up on your machine.\n",
      "2023-03-15 12:58:10.033226: W tensorflow/compiler/xla/stream_executor/platform/default/dso_loader.cc:64] Could not load dynamic library 'libnvinfer.so.7'; dlerror: libnvinfer.so.7: cannot open shared object file: No such file or directory; LD_LIBRARY_PATH: /LUMI_CONTAINER/env1/lib:/LUMI_CONTAINER/env1/lib64:/opt/cray/pe/papi/6.0.0.15/lib64:/opt/cray/libfabric/1.15.0.0/lib64:/.singularity.d/libs\n",
      "2023-03-15 12:58:10.033337: W tensorflow/compiler/xla/stream_executor/platform/default/dso_loader.cc:64] Could not load dynamic library 'libnvinfer_plugin.so.7'; dlerror: libnvinfer_plugin.so.7: cannot open shared object file: No such file or directory; LD_LIBRARY_PATH: /LUMI_CONTAINER/env1/lib:/LUMI_CONTAINER/env1/lib64:/opt/cray/pe/papi/6.0.0.15/lib64:/opt/cray/libfabric/1.15.0.0/lib64:/.singularity.d/libs\n",
      "2023-03-15 12:58:10.033345: W tensorflow/compiler/tf2tensorrt/utils/py_utils.cc:38] TF-TRT Warning: Cannot dlopen some TensorRT libraries. If you would like to use Nvidia GPU with TensorRT, please make sure the missing libraries mentioned above are installed properly.\n"
     ]
    }
   ],
   "source": [
    "#!/usr/bin/env python\n",
    "# coding: utf-8\n",
    "\n",
    "import os\n",
    "import sys\n",
    "import subprocess\n",
    "import yaml\n",
    "import numpy as np\n",
    "import xarray as xr\n",
    "import pandas as pd\n",
    "import pickle as pkl\n",
    "import matplotlib.pyplot as plt\n",
    "from sklearn.decomposition import PCA\n",
    "from tensorflow.keras.regularizers import L1L2\n",
    "\n",
    "from src.data_preparation import mdl_dataset\n",
    "\n",
    "from src.modelling import mdl_input_dico  # input variables class\n",
    "from src.modelling import mdl_params  # parameters class\n",
    "from src.modelling import mdl_history\n",
    "\n",
    "from src.modelling import model_cnn\n",
    "# from src.modelling import super_model_dl\n",
    "\n",
    "from src.visualization import visualize_pca\n",
    "from src.visualization import mdl_introspect\n",
    "from src.visualization import mdl_ypred_PCA\n",
    "\n",
    "from src.utils import reload_config\n",
    "from src.utils import tardisml_utils"
   ]
  },
  {
   "cell_type": "code",
   "execution_count": 2,
   "id": "7a586cd6",
   "metadata": {},
   "outputs": [
    {
     "name": "stdout",
     "output_type": "stream",
     "text": [
      "Config file found: ../config/config_to_jobs/config_CNN_no_bias_0wk.yaml\n",
      "PCA results in: /scratch/project_465000269/edelleo1/Leo/results/pca_i100-550_j300-629\n",
      "Config file updated 'pca_dir': ../config/config_to_jobs/config_CNN_no_bias_0wk.yaml\n",
      "Results in: /scratch/project_465000269/edelleo1/Leo/results/cnn_230315-125812\n",
      "Folder created\n",
      "\n",
      "Subfolder created: /scratch/project_465000269/edelleo1/Leo/results/cnn_230315-125812/ml/\n",
      "Subfolder created: /scratch/project_465000269/edelleo1/Leo/results/cnn_230315-125812/figures/\n",
      "Config file updated 'results_dir': ../config/config_to_jobs/config_CNN_no_bias_0wk.yaml\n",
      "Config folders updated.\n",
      "Config copied to: /scratch/project_465000269/edelleo1/Leo/results/cnn_230315-125812\n",
      "Config file found: /scratch/project_465000269/edelleo1/Leo/results/cnn_230315-125812/config_CNN_no_bias_0wk.yaml\n",
      "Default config file is now the copied following one:\n",
      "/scratch/project_465000269/edelleo1/Leo/results/cnn_230315-125812/config_CNN_no_bias_0wk.yaml\n"
     ]
    }
   ],
   "source": [
    "# add argument to pass config file\n",
    "narg = len(sys.argv)  # number of arguments passed\n",
    "#if narg > 1:\n",
    "#    file_config = sys.argv[1]\n",
    "#else:\n",
    "file_config = '../config/config_to_jobs/config_CNN_no_bias_0wk.yaml'\n",
    "\n",
    "\n",
    "rootdir = tardisml_utils.get_rootdir()\n",
    "# file_config = '../config/data_proc_full.yaml'\n",
    "conf = reload_config.Config(file_config, rootdir=rootdir, verbose=1)"
   ]
  },
  {
   "cell_type": "code",
   "execution_count": 3,
   "id": "7bb36e39",
   "metadata": {},
   "outputs": [],
   "source": [
    "from importlib import reload"
   ]
  },
  {
   "cell_type": "code",
   "execution_count": 4,
   "id": "e51ca69e",
   "metadata": {},
   "outputs": [
    {
     "data": {
      "text/plain": [
       "<module 'src.data_preparation.mdl_dataset' from '/users/edelleo1/tardis/tardis-ml/src/data_preparation/mdl_dataset.py'>"
      ]
     },
     "execution_count": 4,
     "metadata": {},
     "output_type": "execute_result"
    }
   ],
   "source": [
    "reload(mdl_dataset)"
   ]
  },
  {
   "cell_type": "code",
   "execution_count": 5,
   "id": "33959db6",
   "metadata": {},
   "outputs": [],
   "source": [
    "# ---------------------------------------------------\n",
    "#                 Defining parameters\n",
    "# ---------------------------------------------------\n",
    "\n",
    "\n",
    "# import pdb; pdb.set_trace()\n",
    "H  = conf.load_history()['keras']['H']"
   ]
  },
  {
   "cell_type": "code",
   "execution_count": 6,
   "id": "d2e251b6",
   "metadata": {},
   "outputs": [
    {
     "name": "stdout",
     "output_type": "stream",
     "text": [
      "SIA in !!\n"
     ]
    }
   ],
   "source": [
    "if len(H) < 6:\n",
    "    H = [0,7,14,21,28, 35, 42, 49, 56, 63, 70, 77]\n",
    "\n",
    "new_hist = mdl_history.History(conf)\n",
    "new_hist.set_zeros()\n",
    "new_hist.set_SIT_history('keras', H)\n",
    "\n",
    "# var_to_keep = ['SITf t+0', 'sisnthick t+0', '2T t+0', '2T t+8', 'MSL t+0', 'TP t+0', 'TP t+8', 'siconc t+0']  # traditionnel\n",
    "# var_to_keep = ['SITf t+0', 'sisnthick t+0', '2T t+0', 'MSL t+0', 'TP t+0', 'siconc t+0']  # cnn_230217-110450\n",
    "var_to_keep = ['SITf t+0', 'sisnthick t+0', '2T t+0', 'MSL t+0', 'TP t+0', 'siconc t+0', 'SIA t+0']\n",
    "\n",
    "print('SIA in !!')"
   ]
  },
  {
   "cell_type": "code",
   "execution_count": 7,
   "id": "a73e5ac0",
   "metadata": {},
   "outputs": [],
   "source": [
    "from src.data_preparation import load_data"
   ]
  },
  {
   "cell_type": "code",
   "execution_count": 8,
   "id": "9b6d4035",
   "metadata": {},
   "outputs": [
    {
     "data": {
      "text/plain": [
       "<module 'src.data_preparation.load_data' from '/users/edelleo1/tardis/tardis-ml/src/data_preparation/load_data.py'>"
      ]
     },
     "execution_count": 8,
     "metadata": {},
     "output_type": "execute_result"
    }
   ],
   "source": [
    "reload(load_data)"
   ]
  },
  {
   "cell_type": "code",
   "execution_count": 9,
   "id": "422b2839",
   "metadata": {},
   "outputs": [
    {
     "data": {
      "text/plain": [
       "<module 'src.data_preparation.mdl_dataset' from '/users/edelleo1/tardis/tardis-ml/src/data_preparation/mdl_dataset.py'>"
      ]
     },
     "execution_count": 9,
     "metadata": {},
     "output_type": "execute_result"
    }
   ],
   "source": [
    "reload(mdl_dataset)"
   ]
  },
  {
   "cell_type": "code",
   "execution_count": 10,
   "id": "ce74b87c",
   "metadata": {},
   "outputs": [
    {
     "name": "stdout",
     "output_type": "stream",
     "text": [
      "\n",
      "Initialisation dataset...\n",
      "Loading data...\n"
     ]
    },
    {
     "name": "stderr",
     "output_type": "stream",
     "text": [
      "/LUMI_CONTAINER/env1/lib/python3.9/site-packages/sklearn/base.py:318: UserWarning: Trying to unpickle estimator PCA from version 1.1.1 when using version 1.2.2. This might lead to breaking code or invalid results. Use at your own risk. For more info please refer to:\n",
      "https://scikit-learn.org/stable/model_persistence.html#security-maintainability-limitations\n",
      "  warnings.warn(\n",
      "/LUMI_CONTAINER/env1/lib/python3.9/site-packages/sklearn/base.py:318: UserWarning: Trying to unpickle estimator PCA from version 1.1.1 when using version 1.2.2. This might lead to breaking code or invalid results. Use at your own risk. For more info please refer to:\n",
      "https://scikit-learn.org/stable/model_persistence.html#security-maintainability-limitations\n",
      "  warnings.warn(\n"
     ]
    },
    {
     "name": "stdout",
     "output_type": "stream",
     "text": [
      "Loading sia...\n"
     ]
    },
    {
     "name": "stderr",
     "output_type": "stream",
     "text": [
      "/LUMI_CONTAINER/env1/lib/python3.9/site-packages/sklearn/base.py:318: UserWarning: Trying to unpickle estimator PCA from version 1.1.1 when using version 1.2.2. This might lead to breaking code or invalid results. Use at your own risk. For more info please refer to:\n",
      "https://scikit-learn.org/stable/model_persistence.html#security-maintainability-limitations\n",
      "  warnings.warn(\n"
     ]
    },
    {
     "name": "stdout",
     "output_type": "stream",
     "text": [
      "\tRetrieve siconc\n"
     ]
    },
    {
     "name": "stderr",
     "output_type": "stream",
     "text": [
      "/LUMI_CONTAINER/env1/lib/python3.9/site-packages/sklearn/base.py:318: UserWarning: Trying to unpickle estimator PCA from version 1.1.1 when using version 1.2.2. This might lead to breaking code or invalid results. Use at your own risk. For more info please refer to:\n",
      "https://scikit-learn.org/stable/model_persistence.html#security-maintainability-limitations\n",
      "  warnings.warn(\n"
     ]
    },
    {
     "name": "stdout",
     "output_type": "stream",
     "text": [
      "\tRetrieve sisnthick\n"
     ]
    },
    {
     "name": "stderr",
     "output_type": "stream",
     "text": [
      "/LUMI_CONTAINER/env1/lib/python3.9/site-packages/sklearn/base.py:318: UserWarning: Trying to unpickle estimator PCA from version 1.1.1 when using version 1.2.2. This might lead to breaking code or invalid results. Use at your own risk. For more info please refer to:\n",
      "https://scikit-learn.org/stable/model_persistence.html#security-maintainability-limitations\n",
      "  warnings.warn(\n"
     ]
    },
    {
     "name": "stdout",
     "output_type": "stream",
     "text": [
      "\tRetrieve zos\n"
     ]
    },
    {
     "name": "stderr",
     "output_type": "stream",
     "text": [
      "/LUMI_CONTAINER/env1/lib/python3.9/site-packages/sklearn/base.py:318: UserWarning: Trying to unpickle estimator PCA from version 1.1.1 when using version 1.2.2. This might lead to breaking code or invalid results. Use at your own risk. For more info please refer to:\n",
      "https://scikit-learn.org/stable/model_persistence.html#security-maintainability-limitations\n",
      "  warnings.warn(\n"
     ]
    },
    {
     "name": "stdout",
     "output_type": "stream",
     "text": [
      "\tRetrieve vxsi\n"
     ]
    },
    {
     "name": "stderr",
     "output_type": "stream",
     "text": [
      "/LUMI_CONTAINER/env1/lib/python3.9/site-packages/sklearn/base.py:318: UserWarning: Trying to unpickle estimator PCA from version 1.1.1 when using version 1.2.2. This might lead to breaking code or invalid results. Use at your own risk. For more info please refer to:\n",
      "https://scikit-learn.org/stable/model_persistence.html#security-maintainability-limitations\n",
      "  warnings.warn(\n"
     ]
    },
    {
     "name": "stdout",
     "output_type": "stream",
     "text": [
      "\tRetrieve vysi\n"
     ]
    },
    {
     "name": "stderr",
     "output_type": "stream",
     "text": [
      "/LUMI_CONTAINER/env1/lib/python3.9/site-packages/sklearn/base.py:318: UserWarning: Trying to unpickle estimator PCA from version 1.1.1 when using version 1.2.2. This might lead to breaking code or invalid results. Use at your own risk. For more info please refer to:\n",
      "https://scikit-learn.org/stable/model_persistence.html#security-maintainability-limitations\n",
      "  warnings.warn(\n"
     ]
    },
    {
     "name": "stdout",
     "output_type": "stream",
     "text": [
      "Loading forcing values...\n",
      "Loading pca...\n"
     ]
    },
    {
     "name": "stderr",
     "output_type": "stream",
     "text": [
      "/LUMI_CONTAINER/env1/lib/python3.9/site-packages/sklearn/base.py:318: UserWarning: Trying to unpickle estimator PCA from version 1.1.1 when using version 1.2.2. This might lead to breaking code or invalid results. Use at your own risk. For more info please refer to:\n",
      "https://scikit-learn.org/stable/model_persistence.html#security-maintainability-limitations\n",
      "  warnings.warn(\n"
     ]
    },
    {
     "name": "stdout",
     "output_type": "stream",
     "text": [
      "Apply land/ocean mask...\n",
      "Retrieve PCs and EOFs\n",
      "Adding sia\n",
      "New variable selection:\n",
      "  ['SITf t+0 PC0' 'SITf t+0 PC1' 'SITf t+0 PC2' 'SITf t+0 PC3'\n",
      " 'SITf t+0 PC4' 'SITf t+0 PC5' 'SITf t+0 PC6' 'SITf t+0 PC7'\n",
      " 'sisnthick t+0 PC0' 'sisnthick t+0 PC1' 'sisnthick t+0 PC2'\n",
      " 'sisnthick t+0 PC3' '2T t+0 PC0' '2T t+0 PC1' '2T t+0 PC2' '2T t+0 PC3'\n",
      " 'MSL t+0 PC0' 'MSL t+0 PC1' 'MSL t+0 PC2' 'MSL t+0 PC3' 'TP t+0 PC0'\n",
      " 'TP t+0 PC1' 'TP t+0 PC2' 'TP t+0 PC3' 'siconc t+0 PC0' 'siconc t+0 PC1'\n",
      " 'siconc t+0 PC2' 'siconc t+0 PC3']\n",
      "Variables updated: do not forget to execute self.format_for_dl() if Deep Learning\n",
      "Size of the training set:    1909 days\n",
      "Size of the validation set:   440 days\n",
      "Size of the test set:         588 days\n",
      "Config file updated 'ntrain': /scratch/project_465000269/edelleo1/Leo/results/cnn_230315-125812/config_CNN_no_bias_0wk.yaml\n",
      "Config file updated 'nval': /scratch/project_465000269/edelleo1/Leo/results/cnn_230315-125812/config_CNN_no_bias_0wk.yaml\n",
      "Config file updated 'ntest': /scratch/project_465000269/edelleo1/Leo/results/cnn_230315-125812/config_CNN_no_bias_0wk.yaml\n",
      "Dataset Format for cnn\n",
      "Dataset formatted from (2937, 28) to (2860, 12, 28) for H=[0, 7, 14, 21, 28, 35, 42, 49, 56, 63, 70, 77].\n"
     ]
    }
   ],
   "source": [
    "# ---------------------------------------------------\n",
    "#                 Loading data\n",
    "# ---------------------------------------------------\n",
    "# print('Loading data...')\n",
    "#ds = mdl_dataset.Dataset(conf, setup='no_bias', history=new_hist, var_to_keep=var_to_keep)\n",
    "ds = mdl_dataset.Dataset(conf, setup=conf.setup, history=new_hist, var_to_keep=var_to_keep)\n",
    "# objective:str='global_train'\n",
    "\n",
    "regularizers = [L1L2(l1=0.01, l2=0)] # , L1L2(l1=0, l2=0.01), L1L2(l1=0.1, l2=0.1)]"
   ]
  },
  {
   "cell_type": "code",
   "execution_count": 11,
   "id": "4181b994",
   "metadata": {},
   "outputs": [],
   "source": [
    "conf.epochs = 2"
   ]
  },
  {
   "cell_type": "raw",
   "id": "911cb5a5",
   "metadata": {},
   "source": [
    "# custom function mse\n",
    "\n",
    "m = tf.keras.metrics.MeanSquaredError()\n",
    "m.update_state(y_true, y_pred)\n",
    "m.result().numpy()\n",
    "\n",
    "m.reset_state()\n",
    "\n",
    "\n",
    "# for one point"
   ]
  },
  {
   "cell_type": "code",
   "execution_count": 51,
   "id": "db86433f",
   "metadata": {
    "scrolled": true
   },
   "outputs": [
    {
     "name": "stdout",
     "output_type": "stream",
     "text": [
      "input change depending on model !!\n",
      "Compiled !\n",
      "Compiled !\n",
      "Compiled !\n",
      "Compiled !\n",
      "Compiled !\n",
      "Compiled !\n",
      "Compiled !\n",
      "Compiled !\n",
      "Fitting...\n",
      "Epoch 1/2\n",
      "465/465 [==============================] - 1s 2ms/step - loss: 1374.7046 - r_square: 0.0641 - root_mean_squared_error: 37.0770 - val_loss: 954.7435 - val_r_square: 0.2057 - val_root_mean_squared_error: 30.8989\n",
      "Epoch 2/2\n",
      "465/465 [==============================] - 1s 1ms/step - loss: 984.8113 - r_square: 0.3295 - root_mean_squared_error: 31.3817 - val_loss: 743.0245 - val_r_square: 0.3819 - val_root_mean_squared_error: 27.2585\n",
      "pc0 Training finished !\n",
      "Epoch 1/2\n",
      "465/465 [==============================] - 1s 2ms/step - loss: 785.0805 - r_square: 0.2040 - root_mean_squared_error: 28.0193 - val_loss: 187.1216 - val_r_square: -0.5736 - val_root_mean_squared_error: 13.6792\n",
      "Epoch 2/2\n",
      "465/465 [==============================] - 1s 1ms/step - loss: 435.8426 - r_square: 0.5581 - root_mean_squared_error: 20.8768 - val_loss: 292.1548 - val_r_square: -1.4569 - val_root_mean_squared_error: 17.0925\n",
      "pc1 Training finished !\n",
      "Epoch 1/2\n",
      "465/465 [==============================] - 1s 2ms/step - loss: 739.8379 - r_square: 0.2477 - root_mean_squared_error: 27.2000 - val_loss: 161.2534 - val_r_square: -0.3006 - val_root_mean_squared_error: 12.6986\n",
      "Epoch 2/2\n",
      "465/465 [==============================] - 1s 1ms/step - loss: 319.1647 - r_square: 0.6755 - root_mean_squared_error: 17.8652 - val_loss: 320.8170 - val_r_square: -1.5875 - val_root_mean_squared_error: 17.9114\n",
      "pc2 Training finished !\n",
      "Epoch 1/2\n",
      "465/465 [==============================] - 1s 2ms/step - loss: 573.3545 - r_square: 0.2762 - root_mean_squared_error: 23.9448 - val_loss: 354.4005 - val_r_square: -0.8638 - val_root_mean_squared_error: 18.8255\n",
      "Epoch 2/2\n",
      "465/465 [==============================] - 1s 1ms/step - loss: 228.9344 - r_square: 0.7110 - root_mean_squared_error: 15.1306 - val_loss: 411.2082 - val_r_square: -1.1625 - val_root_mean_squared_error: 20.2783\n",
      "pc3 Training finished !\n",
      "Epoch 1/2\n",
      "465/465 [==============================] - 1s 2ms/step - loss: 381.3568 - r_square: 0.1728 - root_mean_squared_error: 19.5284 - val_loss: 1458.5494 - val_r_square: -0.8638 - val_root_mean_squared_error: 38.1910\n",
      "Epoch 2/2\n",
      "465/465 [==============================] - 1s 1ms/step - loss: 233.4317 - r_square: 0.4936 - root_mean_squared_error: 15.2785 - val_loss: 1585.3638 - val_r_square: -1.0259 - val_root_mean_squared_error: 39.8166\n",
      "pc4 Training finished !\n",
      "Epoch 1/2\n",
      "465/465 [==============================] - 1s 2ms/step - loss: 406.4276 - r_square: 0.0998 - root_mean_squared_error: 20.1600 - val_loss: 168.9875 - val_r_square: -10.0015 - val_root_mean_squared_error: 12.9995\n",
      "Epoch 2/2\n",
      "465/465 [==============================] - 1s 1ms/step - loss: 267.6179 - r_square: 0.4072 - root_mean_squared_error: 16.3590 - val_loss: 147.2863 - val_r_square: -8.5887 - val_root_mean_squared_error: 12.1362\n",
      "pc5 Training finished !\n",
      "Epoch 1/2\n",
      "465/465 [==============================] - 1s 2ms/step - loss: 374.6656 - r_square: 0.0706 - root_mean_squared_error: 19.3563 - val_loss: 261.9215 - val_r_square: -0.3064 - val_root_mean_squared_error: 16.1840\n",
      "Epoch 2/2\n",
      "465/465 [==============================] - 1s 1ms/step - loss: 282.3225 - r_square: 0.2997 - root_mean_squared_error: 16.8025 - val_loss: 318.7380 - val_r_square: -0.5897 - val_root_mean_squared_error: 17.8532\n",
      "pc6 Training finished !\n",
      "Epoch 1/2\n",
      "465/465 [==============================] - 1s 2ms/step - loss: 224.0500 - r_square: 0.1335 - root_mean_squared_error: 14.9683 - val_loss: 290.1187 - val_r_square: -0.5549 - val_root_mean_squared_error: 17.0329\n",
      "Epoch 2/2\n",
      "465/465 [==============================] - 1s 1ms/step - loss: 140.4371 - r_square: 0.4569 - root_mean_squared_error: 11.8506 - val_loss: 213.0266 - val_r_square: -0.1417 - val_root_mean_squared_error: 14.5954\n",
      "pc7 Training finished !\n",
      "Saved as : /scratch/project_465000269/edelleo1/Leo/results/cnn_230314-235419/figures/CNN_learning_curves_2_4_PC0.png\n",
      "Saved as : /scratch/project_465000269/edelleo1/Leo/results/cnn_230314-235419/figures/CNN_learning_curves_2_4_PC1.png\n",
      "Saved as : /scratch/project_465000269/edelleo1/Leo/results/cnn_230314-235419/figures/CNN_learning_curves_2_4_PC2.png\n",
      "Saved as : /scratch/project_465000269/edelleo1/Leo/results/cnn_230314-235419/figures/CNN_learning_curves_2_4_PC3.png\n",
      "Saved as : /scratch/project_465000269/edelleo1/Leo/results/cnn_230314-235419/figures/CNN_learning_curves_2_4_PC4.png\n",
      "Saved as : /scratch/project_465000269/edelleo1/Leo/results/cnn_230314-235419/figures/CNN_learning_curves_2_4_PC5.png\n",
      "Saved as : /scratch/project_465000269/edelleo1/Leo/results/cnn_230314-235419/figures/CNN_learning_curves_2_4_PC6.png\n",
      "Saved as : /scratch/project_465000269/edelleo1/Leo/results/cnn_230314-235419/figures/CNN_learning_curves_2_4_PC7.png\n"
     ]
    }
   ],
   "source": [
    "# ---------------------------------------------------\n",
    "#                 Building cnn\n",
    "# ---------------------------------------------------\n",
    "\n",
    "n_components = ds.config.n_comp['tp']\n",
    "\n",
    "suffixe = ''  # useless ?\n",
    "reg = regularizers[0]\n",
    "    \n",
    "m4 = model_cnn.ModelCNN(ds, ds.dataset['Xtrain'].shape[1], ds.dataset['Xtrain'].shape[2], reg=reg, rootdir=ds.config.rootdir, ml_dir=ds.config.ml_dir, fig_dir=ds.config.fig_dir)\n",
    "m4.compile_models(npca=n_components)  # name\n",
    "\n",
    "# dbug - should be good\n",
    "# m4.print_summary()\n",
    "# import pdb; pdb.set_trace()\n",
    "\n",
    "m4.fit_multiple(ds.dataset, suffix=suffixe)\n",
    "m4.print_histories()"
   ]
  },
  {
   "cell_type": "code",
   "execution_count": 52,
   "id": "e8226cf5",
   "metadata": {},
   "outputs": [
    {
     "name": "stdout",
     "output_type": "stream",
     "text": [
      "90/90 [==============================] - 0s 889us/step\n",
      "90/90 [==============================] - 0s 871us/step\n",
      "90/90 [==============================] - 0s 874us/step\n",
      "90/90 [==============================] - 0s 879us/step\n",
      "90/90 [==============================] - 0s 951us/step\n",
      "90/90 [==============================] - 0s 918us/step\n",
      "90/90 [==============================] - 0s 903us/step\n",
      "90/90 [==============================] - 0s 889us/step\n",
      "Prediction finished !! - for lstm_at only\n"
     ]
    }
   ],
   "source": [
    "m4.predict_multiple(ds.dataset)"
   ]
  },
  {
   "cell_type": "code",
   "execution_count": 54,
   "id": "01f114a7",
   "metadata": {},
   "outputs": [
    {
     "data": {
      "text/plain": [
       "[<matplotlib.lines.Line2D at 0x15193f613430>]"
      ]
     },
     "execution_count": 54,
     "metadata": {},
     "output_type": "execute_result"
    },
    {
     "data": {
      "image/png": "[encoded data removed]",
      "text/plain": [
       "<Figure size 640x480 with 1 Axes>"
      ]
     },
     "metadata": {},
     "output_type": "display_data"
    }
   ],
   "source": [
    "plt.plot(m4.ypred[:,0])"
   ]
  },
  {
   "cell_type": "code",
   "execution_count": null,
   "id": "9eec0e66",
   "metadata": {},
   "outputs": [],
   "source": [
    "m4.save_prediction()\n",
    "\n",
    "# m4.save_model()\n",
    "m4.save_model_weights()\n",
    "\n",
    "ofile = f'{m4.type}_ypred.png'\n",
    "mdl_ypred_PCA.draw(m4, odir=m4.rootdir+m4.fig_dir, savefig=True, showfig=False, ofile=ofile)\n",
    "\n",
    "\n",
    "\n",
    "       "
   ]
  }
 ],
 "metadata": {
  "kernelspec": {
   "display_name": "Python 3 (ipykernel)",
   "language": "python",
   "name": "python3"
  },
  "language_info": {
   "codemirror_mode": {
    "name": "ipython",
    "version": 3
   },
   "file_extension": ".py",
   "mimetype": "text/x-python",
   "name": "python",
   "nbconvert_exporter": "python",
   "pygments_lexer": "ipython3",
   "version": "3.9.12"
  }
 },
 "nbformat": 4,
 "nbformat_minor": 5
}
