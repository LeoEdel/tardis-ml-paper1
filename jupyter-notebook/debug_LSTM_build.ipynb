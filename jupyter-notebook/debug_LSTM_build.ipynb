{
 "cells": [
  {
   "cell_type": "markdown",
   "id": "9746d44e",
   "metadata": {},
   "source": [
    "# Debug Build lstm"
   ]
  },
  {
   "cell_type": "code",
   "execution_count": 1,
   "id": "a858d10c",
   "metadata": {
    "scrolled": true
   },
   "outputs": [
    {
     "name": "stderr",
     "output_type": "stream",
     "text": [
      "/LUMI_TYKKY_KyB8utx/env1/lib/python3.9/site-packages/tensorflow_addons/utils/tfa_eol_msg.py:23: UserWarning: \n",
      "\n",
      "TensorFlow Addons (TFA) has ended development and introduction of new features.\n",
      "TFA has entered a minimal maintenance and release mode until a planned end of life in May 2024.\n",
      "Please modify downstream libraries to take dependencies from other repositories in our TensorFlow community (e.g. Keras, Keras-CV, and Keras-NLP). \n",
      "\n",
      "For more information see: https://github.com/tensorflow/addons/issues/2807 \n",
      "\n",
      "  warnings.warn(\n"
     ]
    }
   ],
   "source": [
    "import os\n",
    "# Filter out logs (additional) : 0 - all logs, 1 - INFO, 2 - WARNING, 3 - ERROR\n",
    "os.environ['TF_CPP_MIN_LOG_LEVEL'] = '1'  # or any {'0', '1', '2'}\n",
    "import pandas as pd\n",
    "import xarray as xr\n",
    "import matplotlib.pyplot as plt\n",
    "import numpy as np\n",
    "from sklearn.decomposition import PCA\n",
    "import yaml\n",
    "import pickle as pkl\n",
    "import subprocess\n",
    "import tensorflow as tf\n",
    "from tensorflow.keras.regularizers import L1L2\n",
    "\n",
    "\n",
    "from src.data_preparation import load_data\n",
    "from src.data_preparation.blocking_time_series_split import BlockingTimeSeriesSplit \n",
    "from src.data_preparation import mdl_dataset\n",
    "\n",
    "from src.modelling import mdl_input_dico  # input variables class\n",
    "from src.modelling import mdl_params  # parameters class\n",
    "from src.modelling import mdl_history\n",
    "\n",
    "# from src.modelling import model_cnn\n",
    "from src.modelling import model_lstm\n",
    "from src.modelling import super_model_dl\n",
    "\n",
    "from src.visualization import visualize_pca\n",
    "from src.visualization import mdl_introspect\n",
    "from src.visualization import mdl_ypred_PCA\n",
    "\n",
    "from src.utils import reload_config\n",
    "from src.utils import tardisml_utils"
   ]
  },
  {
   "cell_type": "code",
   "execution_count": 2,
   "id": "10801cef",
   "metadata": {},
   "outputs": [],
   "source": [
    "file_config = '../config/config_default_2023.yaml'\n",
    "    "
   ]
  },
  {
   "cell_type": "code",
   "execution_count": 3,
   "id": "d7a7d6f8",
   "metadata": {},
   "outputs": [
    {
     "name": "stdout",
     "output_type": "stream",
     "text": [
      "Config file found: ../config/config_default_2023.yaml\n",
      "PCA results in: /scratch/project_465000269/edelleo1/Leo/results/pca_i100-550_j150-629\n",
      "Config file updated 'pca_dir': ../config/config_default_2023.yaml\n",
      "Results in: /scratch/project_465000269/edelleo1/Leo/results/lstm_230919-162150\n",
      "Folder created\n",
      "\n",
      "Subfolder created: /scratch/project_465000269/edelleo1/Leo/results/lstm_230919-162150/ml/\n",
      "Subfolder created: /scratch/project_465000269/edelleo1/Leo/results/lstm_230919-162150/figures/\n",
      "Config file updated 'results_dir': ../config/config_default_2023.yaml\n",
      "Config folders updated.\n",
      "Config copied to: /scratch/project_465000269/edelleo1/Leo/results/lstm_230919-162150\n",
      "Config file found: /scratch/project_465000269/edelleo1/Leo/results/lstm_230919-162150/config_default_2023.yaml\n",
      "Default config file is now the copied following one:\n",
      "/scratch/project_465000269/edelleo1/Leo/results/lstm_230919-162150/config_default_2023.yaml\n"
     ]
    }
   ],
   "source": [
    "rootdir = tardisml_utils.get_rootdir()\n",
    "# file_config = '../config/data_proc_full.yaml'\n",
    "conf = reload_config.Config(file_config, rootdir=rootdir, verbose=1)"
   ]
  },
  {
   "cell_type": "code",
   "execution_count": 4,
   "id": "182812c6",
   "metadata": {},
   "outputs": [],
   "source": [
    "# ---------------------------------------------------\n",
    "#                 Defining parameters\n",
    "# ---------------------------------------------------\n",
    "\n",
    "H = [1,8,15,22]\n",
    "\n",
    "\n",
    "new_hist = mdl_history.History(conf)\n",
    "new_hist.set_zeros()\n",
    "new_hist.set_SIT_history('keras', H)\n",
    "\n",
    "# var_to_keep = ['SITf t+0', 'sisnthick t+0', '2T t+0', '2T t+8', 'MSL t+0', 'TP t+0', 'TP t+8', 'siconc t+0'] #tradi\n",
    "# var_to_keep = ['SITf t+0', 'sisnthick t+0', '2T t+0', 'MSL t+0', 'TP t+0', 'siconc t+0']\n",
    "var_to_keep = ['SITf t+0', 'sisnthick t+0', '2T t+0', 'MSL t+0', 'TP t+0', 'siconc t+0', 'SIA t+0']"
   ]
  },
  {
   "cell_type": "code",
   "execution_count": 5,
   "id": "b734ded9",
   "metadata": {},
   "outputs": [],
   "source": [
    "from src.data_preparation import load_data"
   ]
  },
  {
   "cell_type": "code",
   "execution_count": 14,
   "id": "5b4a9775",
   "metadata": {},
   "outputs": [
    {
     "data": {
      "text/plain": [
       "<module 'src.data_preparation.mdl_dataset' from '/users/edelleo1/tardis/tardis-ml/src/data_preparation/mdl_dataset.py'>"
      ]
     },
     "execution_count": 14,
     "metadata": {},
     "output_type": "execute_result"
    }
   ],
   "source": [
    "from importlib import reload\n",
    "reload(mdl_dataset)"
   ]
  },
  {
   "cell_type": "code",
   "execution_count": 15,
   "id": "5f147d54",
   "metadata": {},
   "outputs": [
    {
     "data": {
      "text/plain": [
       "<module 'src.data_preparation.load_data' from '/users/edelleo1/tardis/tardis-ml/src/data_preparation/load_data.py'>"
      ]
     },
     "execution_count": 15,
     "metadata": {},
     "output_type": "execute_result"
    }
   ],
   "source": [
    "reload(load_data)"
   ]
  },
  {
   "cell_type": "code",
   "execution_count": 16,
   "id": "32d6fbe5",
   "metadata": {},
   "outputs": [
    {
     "name": "stdout",
     "output_type": "stream",
     "text": [
      "\n",
      "Initialisation dataset...\n",
      "Loading data...\n",
      "Loading sia...\n",
      "\tRetrieve siconc\n",
      "\tRetrieve sisnthick\n",
      "\tRetrieve zos\n",
      "\tRetrieve vxsi\n",
      "\tRetrieve vysi\n",
      "New variable selection:\n",
      "  ['SITf t+0 PC0' 'SITf t+0 PC1' 'SITf t+0 PC2' 'SITf t+0 PC3'\n",
      " 'SITf t+0 PC4' 'SITf t+0 PC5' 'SITf t+0 PC6' 'SITf t+0 PC7'\n",
      " 'sisnthick t+0 PC0' 'sisnthick t+0 PC1' 'sisnthick t+0 PC2'\n",
      " 'sisnthick t+0 PC3' '2T t+0 PC0' '2T t+0 PC1' '2T t+0 PC2' '2T t+0 PC3'\n",
      " 'MSL t+0 PC0' 'MSL t+0 PC1' 'MSL t+0 PC2' 'MSL t+0 PC3' 'TP t+0 PC0'\n",
      " 'TP t+0 PC1' 'TP t+0 PC2' 'TP t+0 PC3' 'siconc t+0 PC0' 'siconc t+0 PC1'\n",
      " 'siconc t+0 PC2' 'siconc t+0 PC3']\n",
      "Variables updated: do not forget to execute self.format_for_dl() if Deep Learning\n",
      "Size of the training set:    2612 days\n",
      "Size of the validation set:   653 days\n",
      "Size of the test set:        1096 days\n",
      "Config file updated 'ntrain': /scratch/project_465000269/edelleo1/Leo/results/lstm_230919-162150/config_default_2023.yaml\n",
      "Config file updated 'nval': /scratch/project_465000269/edelleo1/Leo/results/lstm_230919-162150/config_default_2023.yaml\n",
      "Config file updated 'ntest': /scratch/project_465000269/edelleo1/Leo/results/lstm_230919-162150/config_default_2023.yaml\n",
      "Dataset Format for lstm\n",
      "Dataset formatted from (4361, 28) to (4339, 4, 28) for H=[1, 8, 15, 22].\n"
     ]
    }
   ],
   "source": [
    "# ---------------------------------------------------\n",
    "#                 Loading data\n",
    "# ---------------------------------------------------\n",
    "\n",
    "#ds = mdl_dataset.Dataset(conf, setup='no_bias', history=new_hist, var_to_keep=var_to_keep)\n",
    "ds = mdl_dataset.Dataset(conf, setup=conf.setup, history=new_hist, var_to_keep=var_to_keep)"
   ]
  },
  {
   "cell_type": "code",
   "execution_count": null,
   "id": "5430aeb3",
   "metadata": {},
   "outputs": [
    {
     "name": "stdout",
     "output_type": "stream",
     "text": [
      "input change depending on model !!\n"
     ]
    }
   ],
   "source": [
    "# -----------------------------------------------------------\n",
    "\n",
    "regularizers = [L1L2(l1=0, l2=0)]  # [L1L2(l1=0, l2=0), L1L2(l1=0.01, l2=0), L1L2(l1=0, l2=0.01), L1L2(l1=0.1, l2=0.1)]\n",
    "\n",
    "n_components = ds.config.n_comp['tp']\n",
    "\n",
    "\n",
    "ireg = 0\n",
    "reg = regularizers[ireg]\n",
    "suffixe = f'_reg{ireg}'\n",
    "\n",
    "            \n",
    "# n_output = ds[0]['ytrain'].shape[0]\n",
    "m4 = model_lstm.ModelLSTM(ds, ds.dataset['Xtrain'].shape[1], ds.dataset['Xtrain'].shape[2], reg=reg, rootdir=ds.config.rootdir, ml_dir=ds.config.ml_dir, fig_dir=ds.config.fig_dir)\n",
    "m4.compile_models(npca=n_components)\n",
    "m4.fit_multiple(ds.dataset, suffix=suffixe)\n",
    "m4.print_histories()\n",
    "\n",
    "# once fit_multiple has find the optimal parameters,\n",
    "# we retrain ML algorithm by including the validation period\n",
    "m4.retrain_wval(ds.dataset)\n",
    "\n",
    "m4.predict_multiple(ds.dataset)\n",
    "m4.save_prediction()\n",
    "\n",
    "# m4.save_model()\n",
    "m4.save_model_weights()\n",
    "\n",
    "\n",
    "ofile = f'{m4.type}_ypred.png'\n",
    "mdl_ypred_PCA.draw(m4, odir=m4.rootdir+m4.fig_dir, savefig=True, showfig=False, ofile=ofile)"
   ]
  }
 ],
 "metadata": {
  "kernelspec": {
   "display_name": "Python 3 (ipykernel)",
   "language": "python",
   "name": "python3"
  },
  "language_info": {
   "codemirror_mode": {
    "name": "ipython",
    "version": 3
   },
   "file_extension": ".py",
   "mimetype": "text/x-python",
   "name": "python",
   "nbconvert_exporter": "python",
   "pygments_lexer": "ipython3",
   "version": "3.9.12"
  }
 },
 "nbformat": 4,
 "nbformat_minor": 5
}
