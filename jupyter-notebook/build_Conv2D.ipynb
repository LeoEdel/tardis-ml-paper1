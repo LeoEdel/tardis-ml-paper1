{
 "cells": [
  {
   "cell_type": "code",
   "execution_count": 2,
   "id": "1a7aef02",
   "metadata": {},
   "outputs": [],
   "source": [
    "import os\n",
    "import xarray as xr\n",
    "import pandas as pd\n",
    "import matplotlib.pyplot as plt\n",
    "import numpy as np\n",
    "from sklearn.decomposition import PCA\n",
    "import yaml\n",
    "import pickle as pkl\n",
    "import subprocess\n",
    "\n",
    "# from keras.regularizers import L1L2\n",
    "# from tensorflow import keras\n",
    "from tensorflow.keras.models import Sequential\n",
    "from tensorflow.keras.layers import Conv3D\n",
    "from tensorflow.keras.layers import ConvLSTM2D\n",
    "from tensorflow.keras.layers import BatchNormalization\n",
    "from tensorflow.keras.optimizers import Adam\n",
    "\n",
    "from tensorflow.keras.layers import MaxPooling2D\n",
    "from tensorflow.keras.layers import Conv2D\n",
    "from tensorflow.keras.layers import Flatten\n",
    "from tensorflow.keras.layers import Dense\n",
    "from tensorflow.keras.layers import UpSampling2D\n",
    "from tensorflow.keras.layers import Cropping2D\n",
    "\n",
    "from src.data_preparation import load_data\n",
    "from src.data_preparation.blocking_time_series_split import BlockingTimeSeriesSplit\n",
    "from src.data_preparation import mdl_dataset\n",
    "from src.data_preparation import mdl_dataset_prep\n",
    "\n",
    "from src.modelling import mdl_input_dico  # input variables class\n",
    "from src.modelling import mdl_params  # parameters class\n",
    "from src.modelling import mdl_history\n",
    "\n",
    "# from src.modelling import model_autokeras\n",
    "# from src.modelling import super_model_dl\n",
    "\n",
    "from src.visualization import mdl_non_recursive\n",
    "from src.visualization import mdl_ypred_PCA\n",
    "from src.visualization import mdl_introspect\n",
    "\n",
    "from src.utils import reload_config\n",
    "from src.utils import tardisml_utils\n",
    "\n",
    "from src.utils import save_name"
   ]
  },
  {
   "cell_type": "code",
   "execution_count": 3,
   "id": "d5254f02",
   "metadata": {},
   "outputs": [],
   "source": [
    "from tensorflow.keras.layers import MaxPooling3D\n",
    "from tensorflow.keras.layers import Reshape"
   ]
  },
  {
   "cell_type": "code",
   "execution_count": 4,
   "id": "b31e3f21",
   "metadata": {},
   "outputs": [],
   "source": [
    "def reshape_dim(xtrain, n_samples=50, timesteps=15, idx_samples=None):\n",
    "    '''just for one feature for now\n",
    "    \n",
    "    # reshape (time serie, height, width) to (n_samples, timesteps, height, width, nfeature)\n",
    "    3D to 5D\n",
    "\n",
    "    Returns new array reshaped and random indexes used for sample selection\n",
    "    \n",
    "    n_samples      : int. number of sequence (batch?) of n frames (timesteps). number of samples\n",
    "    timesteps      : int. number of frame in one sequence (temporal dimension)\n",
    "    \n",
    "    idx_samples    : array of indexes for sample selection. Default is None and random indexes are generated\n",
    "    \n",
    "    \n",
    "    '''\n",
    "    \n",
    "    ntimes = xtrain.shape[0]\n",
    "    height = xtrain.shape[1]\n",
    "    width = xtrain.shape[2]\n",
    "    \n",
    "    new_data = np.zeros((n_samples, timesteps, height, width))\n",
    "    if idx_samples is None:\n",
    "        idx_samples = np.random.randint(0, ntimes-timesteps, size=n_samples)\n",
    "\n",
    "    for ns in range(n_samples):\n",
    "        new_data[ns] = xtrain[idx_samples[ns]:idx_samples[ns]+timesteps]\n",
    "    \n",
    "    # add one dimension for number of feature\n",
    "    # (n_samples, timesteps, height, 1)\n",
    "    return new_data[..., None], np.array(idx_samples)"
   ]
  },
  {
   "cell_type": "code",
   "execution_count": 5,
   "id": "8fa7c574",
   "metadata": {},
   "outputs": [],
   "source": [
    "def draw_loss(history, showfig=False, savefile=''):\n",
    "    fig, ax1 = plt.subplots(1, 1, figsize=(12,4))\n",
    "\n",
    "    epochs = range(len(history.history['loss']))\n",
    "    \n",
    "    ax1.plot(epochs, history.history['loss'], 'r', marker='.', label='Training')\n",
    "    ax1.plot(epochs, history.history['val_loss'], 'b', linestyle=\"--\", marker='.', label='Validation')\n",
    "\n",
    "    ax1.set_ylabel('Loss')    \n",
    "    ax1.set_xlabel('Epochs')\n",
    "\n",
    "    \n",
    "    plt.legend()\n",
    "    plt.tight_layout()\n",
    "\n",
    "    if savefile != '':\n",
    "        odir = os.path.dirname(savefile)\n",
    "        ofile = save_name.check(f\"{odir}\", os.path.basename(savefile))\n",
    "        savefile = f'{odir}/{ofile}'\n",
    "        plt.savefig(f\"{savefile}\")  # , facecolor='white')\n",
    "        print(f'Saved as : {savefile}')\n",
    "\n",
    "    if showfig:\n",
    "        plt.show()\n",
    "\n",
    "    plt.close() \n",
    "    "
   ]
  },
  {
   "cell_type": "code",
   "execution_count": 6,
   "id": "82294ef0",
   "metadata": {},
   "outputs": [],
   "source": [
    "    \n",
    "def scale_data(train_data, val_data, test_data):\n",
    "    '''Scale between 0 and 1\n",
    "    '''\n",
    "    max_val = np.nanmax(train_data)  # .max()\n",
    "    min_val = np.nanmin(train_data)  # .min()\n",
    "    train_scaled = (train_data - min_val) / (max_val - min_val)\n",
    "    val_scaled = (val_data - min_val) / (max_val - min_val)\n",
    "    test_scaled = (test_data - min_val) / (max_val - min_val)\n",
    "    return train_scaled, val_scaled, test_scaled"
   ]
  },
  {
   "cell_type": "code",
   "execution_count": 7,
   "id": "16324d2d",
   "metadata": {},
   "outputs": [],
   "source": [
    "def scale_with_features(train_data, val_data, test_data):\n",
    "    '''Features in last dimension\n",
    "    '''\n",
    "    \n",
    "    train_out = train_data.copy()\n",
    "    val_out = val_data.copy()\n",
    "    test_out = test_data.copy()\n",
    "    \n",
    "    for nfeat in range(train_data.shape[-1]):\n",
    "        train_out[...,nfeat], val_out[...,nfeat], test_out[...,nfeat] = scale_data(train_data[...,nfeat],\n",
    "                                                                                   val_data[...,nfeat],\n",
    "                                                                                   test_data[...,nfeat]\n",
    "                                                                                  )\n",
    "    \n",
    "    return train_out, val_out, test_out\n",
    "    \n",
    "    "
   ]
  },
  {
   "cell_type": "code",
   "execution_count": 8,
   "id": "6b6f23da",
   "metadata": {},
   "outputs": [],
   "source": [
    "# ---------- MODEL --------------------------\n",
    "\n",
    "def compile_ConvLSTM2d(nfeatures):\n",
    "    '''\n",
    "    '''\n",
    "    \n",
    "    seq = Sequential()\n",
    "\n",
    "    seq.add(ConvLSTM2D(filters=32, kernel_size=(3, 3),\n",
    "                      input_shape=(None, 329, 450, nfeatures),\n",
    "                       padding='same', return_sequences=True)) # , activation=\"relu\"))\n",
    "    seq.add(BatchNormalization())\n",
    "\n",
    "    # 63\n",
    "    seq.add(ConvLSTM2D(filters=32, kernel_size=(3, 3),\n",
    "                       padding='same', return_sequences=True))# , activation=\"relu\"))\n",
    "    seq.add(BatchNormalization())\n",
    "    # 128\n",
    "    seq.add(ConvLSTM2D(filters=32, kernel_size=(3, 3),\n",
    "                       padding='same', return_sequences=True))# , activation=\"relu\"))\n",
    "    seq.add(BatchNormalization())\n",
    "    # 256\n",
    "    seq.add(ConvLSTM2D(filters=32, kernel_size=(3, 3),\n",
    "                       padding='same', return_sequences=True)) #, activation=\"relu\"))  # return_sequences=True\n",
    "    seq.add(BatchNormalization())\n",
    "\n",
    "    seq.add(Conv3D(filters=1, kernel_size=(3, 3, 3),\n",
    "                   activation='linear',\n",
    "                   padding='same', data_format='channels_last'))\n",
    "      # 'sigmoid',\n",
    "\n",
    "\n",
    "    # seq.compile(loss='mse', optimizer=Adam(learning_rate=1e-4, clipnorm=1.))\n",
    "    seq.compile(loss='mse', optimizer=Adam(learning_rate=1e-4))\n",
    "    \n",
    "    return seq"
   ]
  },
  {
   "cell_type": "code",
   "execution_count": 9,
   "id": "a2102c01",
   "metadata": {},
   "outputs": [],
   "source": [
    "def compile_Conv2D(nfeatures):\n",
    "    '''\n",
    "    '''\n",
    "    \n",
    "    model = Sequential()\n",
    "    \n",
    "    model.add(Conv2D(filters=32, kernel_size=(3, 3), strides=(1,1), \n",
    "                     input_shape=(329, 450, nfeatures),\n",
    "                     activation='relu', padding='same', data_format='channels_last'))\n",
    "\n",
    "              \n",
    "    model.add(Conv2D(filters=64, kernel_size=(5, 5), activation='relu', padding='same'))\n",
    "    model.add(Conv2D(filters=128, kernel_size=(3, 3), activation='relu', padding='same'))\n",
    "              \n",
    "    model.add(Dense(1, activation='linear'))\n",
    "              \n",
    "    model.compile(loss='mse', optimizer=Adam(learning_rate=1e-4))\n",
    "              \n",
    "    return model"
   ]
  },
  {
   "cell_type": "code",
   "execution_count": 10,
   "id": "aa622925",
   "metadata": {},
   "outputs": [],
   "source": [
    "from tensorflow.keras.layers import Cropping2D"
   ]
  },
  {
   "cell_type": "code",
   "execution_count": 11,
   "id": "f1ccf2c5",
   "metadata": {},
   "outputs": [],
   "source": [
    "def compile_Conv2D_encode_decode(nfeatures):\n",
    "    \n",
    "    model = Sequential()\n",
    "    \n",
    "    # Encoder\n",
    "    model.add(Conv2D(filters=32, kernel_size=(3, 3), input_shape=(329, 450, nfeatures),\n",
    "                     activation='relu', padding='same', data_format='channels_last'))\n",
    "    model.add(MaxPooling2D((2,2), padding='same'))\n",
    "    \n",
    "    model.add(Conv2D(filters=64, kernel_size=(3, 3), activation='relu', padding='same'))\n",
    "    model.add(MaxPooling2D((2,2), padding='same'))\n",
    "\n",
    "    model.add(Conv2D(filters=128, kernel_size=(3, 3), activation='relu', padding='same'))\n",
    "    model.add(MaxPooling2D((2,1), padding='same'))\n",
    "    \n",
    "    \n",
    "    # Decoder\n",
    "    model.add(Conv2D(filters=128, kernel_size=(3, 3), activation='relu', padding='same'))\n",
    "    model.add(UpSampling2D((2,2)))\n",
    "    \n",
    "    model.add(Conv2D(filters=64, kernel_size=(3, 3), activation='relu', padding='same'))\n",
    "    model.add(UpSampling2D((2,2)))\n",
    "    \n",
    "    model.add(Conv2D(filters=32, kernel_size=(3, 3), activation='relu', padding='same'))\n",
    "    model.add(UpSampling2D((2,1)))\n",
    "    \n",
    "    model.add(Conv2D(filters=1, kernel_size=(3, 3), activation='relu', padding='same'))\n",
    "    \n",
    "    model.add(Cropping2D(cropping=((3, 4), (1, 1))))  # to correct output shape\n",
    "    \n",
    "    model.compile(loss='mse', optimizer=Adam(learning_rate=1e-4))\n",
    "              \n",
    "    return model"
   ]
  },
  {
   "cell_type": "markdown",
   "id": "ca13df48",
   "metadata": {},
   "source": [
    "# ------------------------------------------"
   ]
  },
  {
   "cell_type": "code",
   "execution_count": 12,
   "id": "8fb8bb6e",
   "metadata": {},
   "outputs": [
    {
     "name": "stdout",
     "output_type": "stream",
     "text": [
      "Config file found: ../config/config_to_jobs/config_C2D_no_bias_0wk.yaml\n",
      "PCA results in: /scratch/project_465000269/edelleo1/Leo/results/pca_i100-550_j300-629\n",
      "Config file updated 'pca_dir': ../config/config_to_jobs/config_C2D_no_bias_0wk.yaml\n",
      "Results in: /scratch/project_465000269/edelleo1/Leo/results/C2D_230308-171808\n",
      "Folder created\n",
      "\n",
      "Subfolder created: /scratch/project_465000269/edelleo1/Leo/results/C2D_230308-171808/ml/\n",
      "Subfolder created: /scratch/project_465000269/edelleo1/Leo/results/C2D_230308-171808/figures/\n",
      "Config file updated 'results_dir': ../config/config_to_jobs/config_C2D_no_bias_0wk.yaml\n",
      "Config folders updated.\n",
      "Config copied to: /scratch/project_465000269/edelleo1/Leo/results/C2D_230308-171808\n",
      "Config file found: /scratch/project_465000269/edelleo1/Leo/results/C2D_230308-171808/config_C2D_no_bias_0wk.yaml\n",
      "Default config file is now the copied following one:\n",
      "/scratch/project_465000269/edelleo1/Leo/results/C2D_230308-171808/config_C2D_no_bias_0wk.yaml\n"
     ]
    }
   ],
   "source": [
    "file_config = '../config/config_to_jobs/config_C2D_no_bias_0wk.yaml'\n",
    "\n",
    "rootdir = tardisml_utils.get_rootdir()\n",
    "conf = reload_config.Config(file_config, rootdir=rootdir, verbose=1)\n",
    "\n",
    "# -----------------------"
   ]
  },
  {
   "cell_type": "code",
   "execution_count": 13,
   "id": "840399eb",
   "metadata": {},
   "outputs": [],
   "source": [
    "from importlib import reload"
   ]
  },
  {
   "cell_type": "code",
   "execution_count": 14,
   "id": "f72dbf17",
   "metadata": {},
   "outputs": [
    {
     "data": {
      "text/plain": [
       "<module 'src.data_preparation.load_data' from '/users/edelleo1/tardis/tardis-ml/src/data_preparation/load_data.py'>"
      ]
     },
     "execution_count": 14,
     "metadata": {},
     "output_type": "execute_result"
    }
   ],
   "source": [
    "reload(load_data)"
   ]
  },
  {
   "cell_type": "code",
   "execution_count": 15,
   "id": "b1ceead7",
   "metadata": {},
   "outputs": [
    {
     "name": "stdout",
     "output_type": "stream",
     "text": [
      "Loading data...\n",
      "Loading sia...\n"
     ]
    }
   ],
   "source": [
    "# ---------------------------------------------------\n",
    "#                 Loading data\n",
    "# ---------------------------------------------------\n",
    "print('Loading data...')\n",
    "Xf, Xe, dsCo, dsFo, chrono, sia, mask = load_data.load_dataset_nc(file_config)"
   ]
  },
  {
   "cell_type": "code",
   "execution_count": 15,
   "id": "26ba8460",
   "metadata": {},
   "outputs": [],
   "source": [
    "# lat/lon\n",
    "# np.repeat(Xf.longitude.data[None,...], 120, axis=0)"
   ]
  },
  {
   "cell_type": "code",
   "execution_count": 16,
   "id": "7020f3e9",
   "metadata": {},
   "outputs": [],
   "source": [
    "# data = (Xf, Xe, dsCo, dsFo, chrono)\n",
    "Xe = Xe + Xf # trying with SIT assimilated instead of bias\n",
    "\n",
    "# cap sea ice thickness at 0\n",
    "# Xe = (Xe.where((0<Xe), 0)).where(np.isfinite(Xe))\n",
    "              \n",
    "              "
   ]
  },
  {
   "cell_type": "code",
   "execution_count": 17,
   "id": "7ae601ec",
   "metadata": {},
   "outputs": [],
   "source": [
    "# reverse latitude on sia\n",
    "sia = sia.data[:, ::-1, :]"
   ]
  },
  {
   "cell_type": "code",
   "execution_count": 18,
   "id": "6cea6926",
   "metadata": {},
   "outputs": [],
   "source": [
    "ntrain, nval, ntest = mdl_dataset_prep.dataset_split(Xe.shape[0]) # , train_p=0.8, val_p=0.0)"
   ]
  },
  {
   "cell_type": "code",
   "execution_count": 19,
   "id": "982b3081",
   "metadata": {},
   "outputs": [],
   "source": [
    "# backwards in time (TARDIS proof)\n",
    "Xtrain = Xf[ntest+nval:]\n",
    "ytrain = Xe[ntest+nval:]\n",
    "# ytest = Xe[100:150]  # [:ntest]\n",
    "\n",
    "# not needed for now\n",
    "Xval = Xf[ntest:ntest+nval]\n",
    "yval = Xe[ntest:ntest+nval]\n",
    "\n",
    "Xtest = Xf[:ntest]\n",
    "ytest = Xe[:ntest]"
   ]
  },
  {
   "cell_type": "code",
   "execution_count": 20,
   "id": "50474f76",
   "metadata": {},
   "outputs": [
    {
     "data": {
      "text/plain": [
       "(1959, 329, 450)"
      ]
     },
     "execution_count": 20,
     "metadata": {},
     "output_type": "execute_result"
    }
   ],
   "source": [
    "ytrain.shape"
   ]
  },
  {
   "cell_type": "code",
   "execution_count": 21,
   "id": "0a2d4a4d",
   "metadata": {},
   "outputs": [
    {
     "name": "stdout",
     "output_type": "stream",
     "text": [
      "['Xf', 'sisnthick', 'siconc', '2T', 'MLS', 'lat', 'lon', 'mask land/ocean']\n"
     ]
    }
   ],
   "source": [
    "# -------------------- Build full dataset --------------------\n",
    "# 4D\n",
    "Xtrain_in = np.stack((Xtrain, dsCo['sisnthick'][ntest+nval:], dsCo['siconc'][ntest+nval:],\n",
    "                     dsFo['2T_mean29d'][ntest+nval:], dsFo['MSL_mean29d'][ntest+nval:],\n",
    "#                      sia[ntest+nval:],\n",
    "                     np.repeat(Xf.latitude.data[None,...], ntrain, axis=0),\n",
    "                     np.repeat(Xf.longitude.data[None,...], ntrain, axis=0),\n",
    "                     np.repeat(mask.data[None,...], ntrain, axis=0) \n",
    "                     ), axis=-1)  \n",
    "# stack on new axis\n",
    "Xval_in = np.stack((Xval, dsCo['sisnthick'][ntest:ntest+nval], dsCo['siconc'][ntest:ntest+nval],\n",
    "                   dsFo['2T_mean29d'][ntest:ntest+nval], dsFo['MSL_mean29d'][ntest:ntest+nval],\n",
    "#                    sia[ntest:ntest+nval],\n",
    "                   np.repeat(Xf.latitude.data[None,...], nval, axis=0),\n",
    "                   np.repeat(Xf.longitude.data[None,...], nval, axis=0),\n",
    "                   np.repeat(mask.data[None,...], nval, axis=0)\n",
    "                   ), axis=-1)\n",
    "\n",
    "Xtest_in = np.stack((Xtest, dsCo['sisnthick'][:ntest], dsCo['siconc'][:ntest],\n",
    "                    dsFo['2T_mean29d'][:ntest], dsFo['MSL_mean29d'][:ntest], \n",
    "#                     sia[:ntest],\n",
    "                    np.repeat(Xf.latitude.data[None,...], ntest, axis=0),\n",
    "                    np.repeat(Xf.longitude.data[None,...], ntest, axis=0), \n",
    "                    np.repeat(mask.data[None,...], ntest, axis=0)  \n",
    "                    ), axis=-1)\n",
    "\n",
    "nfeatures = Xtrain_in.shape[-1]\n",
    "\n",
    "# inputs = ['Xf', 'sisnthick', 'siconc', '2T', 'MLS', 'SIA', 'lat', 'lon']\n",
    "inputs = ['Xf', 'sisnthick', 'siconc', '2T', 'MLS', 'lat', 'lon', 'mask land/ocean']\n",
    "print(inputs)\n",
    "              "
   ]
  },
  {
   "cell_type": "code",
   "execution_count": 22,
   "id": "8500630e",
   "metadata": {},
   "outputs": [],
   "source": [
    "# now we want to add history\n",
    "\n",
    "# from shape : (1959, 329, 450, 8)  = (timeserie, width, length, features)\n",
    "#     to (1959, timesteps, 329, 450, 8) = (timeserie, timesteps=history, width, length, features)"
   ]
  },
  {
   "cell_type": "code",
   "execution_count": 23,
   "id": "5460d313",
   "metadata": {},
   "outputs": [],
   "source": [
    "def ds_2D_history(X, H):\n",
    "    '''For dataset for Conv2D\n",
    "    \n",
    "    from shape : (1959, 329, 450, 8)  = (timeserie, width, length, features)\n",
    "    to (1959, timesteps, 329, 450, 8) = (timeserie, timesteps=history, width, length, features)\n",
    "    \n",
    "    X : data for training\n",
    "    H : history, array of time index to add\n",
    "    \n",
    "    '''\n",
    "    \n",
    "    ntime = X.shape[0]\n",
    "    ydim = X.shape[1] \n",
    "    xdim = X.shape[2]\n",
    "    nfeat = X.shape[-1]\n",
    "\n",
    "    \n",
    "    # If need different timesteps (History)\n",
    "    needfutur, needpast = 0, 0\n",
    "    if max(H)>0:\n",
    "        needfutur = max(H)\n",
    "    if min(H)<0:\n",
    "        needpast = abs(min(H))\n",
    "                \n",
    "    # Number of data\n",
    "    n = ntime - needpast - needfutur\n",
    "    nH = len(H)\n",
    "    \n",
    "    X2 = np.empty([n, nH, ydim, xdim, nfeat])\n",
    "    \n",
    "    \n",
    "    for t in range(n):\n",
    "        for i, ts in enumerate(H):\n",
    "            X2[t, i] = X[needpast+t+ts]\n",
    "    \n",
    "    \n",
    "    return X2"
   ]
  },
  {
   "cell_type": "code",
   "execution_count": 24,
   "id": "765cdfe2",
   "metadata": {},
   "outputs": [],
   "source": [
    "H = [0, 8, 16, 24]"
   ]
  },
  {
   "cell_type": "code",
   "execution_count": 25,
   "id": "ed3a380e",
   "metadata": {},
   "outputs": [],
   "source": [
    "Xtrain_in = ds_2D_history(Xtrain_in, H)\n",
    "Xval_in = ds_2D_history(Xval_in, H)\n",
    "Xtest_in = ds_2D_history(Xtest_in, H)"
   ]
  },
  {
   "cell_type": "code",
   "execution_count": 28,
   "id": "478d8065",
   "metadata": {},
   "outputs": [
    {
     "data": {
      "text/plain": [
       "(1935, 4, 329, 450, 8)"
      ]
     },
     "execution_count": 28,
     "metadata": {},
     "output_type": "execute_result"
    }
   ],
   "source": [
    "Xtrain_in.shape"
   ]
  },
  {
   "cell_type": "code",
   "execution_count": 29,
   "id": "f1e03ace",
   "metadata": {},
   "outputs": [],
   "source": [
    "ytrain = ytrain[:-max(H)]\n",
    "yval = yval[:-max(H)]\n",
    "ytest = ytest[:-max(H)]"
   ]
  },
  {
   "cell_type": "code",
   "execution_count": null,
   "id": "aeaa51e0",
   "metadata": {},
   "outputs": [],
   "source": [
    "# need to modify 'chrono'"
   ]
  },
  {
   "cell_type": "code",
   "execution_count": null,
   "id": "1e50eb45",
   "metadata": {},
   "outputs": [],
   "source": []
  },
  {
   "cell_type": "code",
   "execution_count": null,
   "id": "409c2731",
   "metadata": {},
   "outputs": [],
   "source": []
  },
  {
   "cell_type": "code",
   "execution_count": 30,
   "id": "4f4beb39",
   "metadata": {},
   "outputs": [],
   "source": [
    "# ------------- CLEAN NAN ---------------------\n",
    "\n",
    "# indexes Nan\n",
    "iNan_xtrain = np.isnan(Xtrain_in)\n",
    "iNan_xval = np.isnan(Xval_in)\n",
    "iNan_xtest = np.isnan(Xtest_in)\n",
    "# iNan_yttest = np.isnan(yttest)\n",
    "\n",
    "# remove Nan\n",
    "nan_value = 0  # -999\n",
    "Xtrain_in[iNan_xtrain] = nan_value\n",
    "Xval_in[iNan_xval] = nan_value\n",
    "Xtest_in[iNan_xtest] = nan_value \n",
    "# yttest[iNan_yttest] = nan_value \n",
    "              \n",
    "ytrain.data[np.isnan(ytrain.data)] = nan_value\n",
    "yval.data[np.isnan(yval.data)] = nan_value\n",
    "ytest.data[np.isnan(ytest.data)] = nan_value\n",
    "              "
   ]
  },
  {
   "cell_type": "code",
   "execution_count": 34,
   "id": "e3542684",
   "metadata": {},
   "outputs": [],
   "source": [
    "# --------------- SCALING - not sure it helps ------------------\n",
    "# scale inputs\n",
    "xtrain_sc, xval_sc, xtest_sc = scale_data(Xtrain_in, Xval_in, Xtest_in)\n",
    "\n",
    "# scale ouputs\n",
    "# yt_sc, yttest_sc = scale_data(ytrain.data, ytest.data)\n",
    "# ---------------------------------"
   ]
  },
  {
   "cell_type": "code",
   "execution_count": 31,
   "id": "0f557811",
   "metadata": {},
   "outputs": [],
   "source": [
    "# scale each feature separately\n",
    "\n",
    "xtrain_sc, xval_sc, xtest_sc = scale_with_features(Xtrain_in, Xval_in, Xtest_in)\n",
    "# ---------------------------------"
   ]
  },
  {
   "cell_type": "code",
   "execution_count": 36,
   "id": "f5846b89",
   "metadata": {},
   "outputs": [],
   "source": [
    "full_x = np.concatenate((xtrain_sc, xval_sc, xtest_sc))"
   ]
  },
  {
   "cell_type": "code",
   "execution_count": 37,
   "id": "2b037eb5",
   "metadata": {},
   "outputs": [
    {
     "data": {
      "text/plain": [
       "(2942, 4, 329, 450, 8)"
      ]
     },
     "execution_count": 37,
     "metadata": {},
     "output_type": "execute_result"
    }
   ],
   "source": [
    "full_x.shape"
   ]
  },
  {
   "cell_type": "code",
   "execution_count": 37,
   "id": "6ca1b0da",
   "metadata": {},
   "outputs": [],
   "source": [
    "# ---------- MODEL --------------------------\n",
    "\n",
    "def compile_ConvLSTM2d_H(nfeatures, nH):\n",
    "    '''\n",
    "    format (timeserie, timesteps=history, width, length, features)\n",
    "    \n",
    "    '''\n",
    "    \n",
    "    seq = Sequential()\n",
    "\n",
    "    # 32\n",
    "    seq.add(ConvLSTM2D(filters=16, kernel_size=(3, 3),\n",
    "                      input_shape=(nH, 329, 450, nfeatures),\n",
    "                       padding='same', return_sequences=True)) # , activation=\"relu\"))\n",
    "    seq.add(BatchNormalization())\n",
    "\n",
    "    # 63\n",
    "#     seq.add(ConvLSTM2D(filters=32, kernel_size=(3, 3),\n",
    "#                        padding='same', return_sequences=True))# , activation=\"relu\"))\n",
    "#     seq.add(BatchNormalization())\n",
    "#     # 128\n",
    "#     seq.add(ConvLSTM2D(filters=32, kernel_size=(3, 3),\n",
    "#                        padding='same', return_sequences=True))# , activation=\"relu\"))\n",
    "#     seq.add(BatchNormalization())\n",
    "#     # 256\n",
    "#     seq.add(ConvLSTM2D(filters=32, kernel_size=(3, 3),\n",
    "#                        padding='same', return_sequences=True)) #, activation=\"relu\"))  # return_sequences=True\n",
    "#     seq.add(BatchNormalization())\n",
    "\n",
    "    seq.add(MaxPooling3D(pool_size=(nH,1,1)))\n",
    "    \n",
    "    seq.add(Conv3D(filters=1, kernel_size=(3, 3, 3),\n",
    "                   activation='linear',\n",
    "                   padding='same', data_format='channels_last'))\n",
    "      # 'sigmoid',\n",
    "\n",
    "\n",
    "    seq.add(Reshape((329,450)))\n",
    "        \n",
    "    # seq.compile(loss='mse', optimizer=Adam(learning_rate=1e-4, clipnorm=1.))\n",
    "    seq.compile(loss='mse', optimizer=Adam(learning_rate=1e-4))\n",
    "    \n",
    "    return seq"
   ]
  },
  {
   "cell_type": "code",
   "execution_count": null,
   "id": "e10f61b5",
   "metadata": {},
   "outputs": [],
   "source": [
    "# model Conv3D ?\n",
    "\n",
    "# Dense 5D ?"
   ]
  },
  {
   "cell_type": "code",
   "execution_count": 40,
   "id": "b73a3079",
   "metadata": {
    "scrolled": false
   },
   "outputs": [
    {
     "name": "stdout",
     "output_type": "stream",
     "text": [
      "Model: \"sequential_3\"\n",
      "_________________________________________________________________\n",
      "Layer (type)                 Output Shape              Param #   \n",
      "=================================================================\n",
      "conv_lst_m2d_6 (ConvLSTM2D)  (None, 4, 329, 450, 16)   13888     \n",
      "_________________________________________________________________\n",
      "batch_normalization_6 (Batch (None, 4, 329, 450, 16)   64        \n",
      "_________________________________________________________________\n",
      "max_pooling3d_3 (MaxPooling3 (None, 1, 329, 450, 16)   0         \n",
      "_________________________________________________________________\n",
      "conv3d_3 (Conv3D)            (None, 1, 329, 450, 1)    433       \n",
      "_________________________________________________________________\n",
      "reshape_3 (Reshape)          (None, 329, 450)          0         \n",
      "=================================================================\n",
      "Total params: 14,385\n",
      "Trainable params: 14,353\n",
      "Non-trainable params: 32\n",
      "_________________________________________________________________\n"
     ]
    }
   ],
   "source": [
    "# ---------- MODEL --------------------------\n",
    "\n",
    "\n",
    "batch_size = 8 # 32  # default that I put\n",
    "epochs = 1  # 50  # first try\n",
    "\n",
    "# seq = compile_Conv2D(nfeatures=nfeatures)\n",
    "# seq = compile_Conv2D_encode_decode(nfeatures=nfeatures)\n",
    "seq = compile_ConvLSTM2d_H(nfeatures=nfeatures, nH=len(H))\n",
    "\n",
    "seq.summary()"
   ]
  },
  {
   "cell_type": "code",
   "execution_count": null,
   "id": "0c335133",
   "metadata": {
    "scrolled": true
   },
   "outputs": [
    {
     "name": "stderr",
     "output_type": "stream",
     "text": [
      "2023-03-08 16:57:17.259645: W tensorflow/core/framework/cpu_allocator_impl.cc:80] Allocation of 36669024000 exceeds 10% of free system memory.\n"
     ]
    },
    {
     "name": "stdout",
     "output_type": "stream",
     "text": [
      "166/242 [===================>..........] - ETA: 8:20 - loss: 0.4872"
     ]
    }
   ],
   "source": [
    "# --------------- TRAINING ------------------\n",
    "history = seq.fit(xtrain_sc, ytrain.data, batch_size=batch_size, epochs=epochs, \n",
    "                  validation_data=(xval_sc, yval.data), verbose=1)\n",
    "# history = seq.fit(xt_sc, yt_sc, batch_size=batch_size, epochs=epochs, validation_split=0.2)"
   ]
  },
  {
   "cell_type": "code",
   "execution_count": null,
   "id": "dfd89b81",
   "metadata": {},
   "outputs": [],
   "source": [
    "# --------------- SAVE MODEL ------------------\n",
    "\n",
    "oname = f'modelweights_Conv2D_b{batch_size}_e{epochs}'\n",
    "ofolder = save_name.check(f\"{conf.rootdir}{conf.ml_dir}\", oname)\n",
    "ofolder = f\"{conf.rootdir}{conf.ml_dir}{oname}\" \n",
    "            \n",
    "seq.save_weights(ofolder)"
   ]
  },
  {
   "cell_type": "code",
   "execution_count": 79,
   "id": "5cc2f0d1",
   "metadata": {},
   "outputs": [],
   "source": [
    "# --------------- PREDICTION ------------------\n",
    "# ypred = seq.predict(xttest)\n",
    "# ypred = seq.predict(xtest_sc)\n",
    "ypred = seq.predict(full_x)"
   ]
  },
  {
   "cell_type": "code",
   "execution_count": 81,
   "id": "5f98db3d",
   "metadata": {},
   "outputs": [
    {
     "data": {
      "text/plain": [
       "<matplotlib.colorbar.Colorbar at 0x14c804c5c8b0>"
      ]
     },
     "execution_count": 81,
     "metadata": {},
     "output_type": "execute_result"
    },
    {
     "data": {
      "image/png": "[encoded data removed]",
      "text/plain": [
       "<Figure size 432x288 with 2 Axes>"
      ]
     },
     "metadata": {
      "needs_background": "light"
     },
     "output_type": "display_data"
    }
   ],
   "source": [
    "plt.imshow(xtest_sc[0,:,:,0])\n",
    "plt.colorbar()"
   ]
  },
  {
   "cell_type": "code",
   "execution_count": 80,
   "id": "18e1c4e5",
   "metadata": {},
   "outputs": [
    {
     "data": {
      "text/plain": [
       "<matplotlib.colorbar.Colorbar at 0x14c804c1b6d0>"
      ]
     },
     "execution_count": 80,
     "metadata": {},
     "output_type": "execute_result"
    },
    {
     "data": {
      "image/png": "[encoded data removed]",
      "text/plain": [
       "<Figure size 432x288 with 2 Axes>"
      ]
     },
     "metadata": {
      "needs_background": "light"
     },
     "output_type": "display_data"
    }
   ],
   "source": [
    "plt.imshow(ypred[0])\n",
    "plt.colorbar()"
   ]
  },
  {
   "cell_type": "code",
   "execution_count": 83,
   "id": "8a7527a1",
   "metadata": {},
   "outputs": [
    {
     "data": {
      "text/plain": [
       "-3.241154"
      ]
     },
     "execution_count": 83,
     "metadata": {},
     "output_type": "execute_result"
    }
   ],
   "source": [
    "np.nanmin(Xe[0])"
   ]
  },
  {
   "cell_type": "code",
   "execution_count": 85,
   "id": "aadf9c31",
   "metadata": {},
   "outputs": [
    {
     "data": {
      "text/plain": [
       "<matplotlib.colorbar.Colorbar at 0x14cb4940dd30>"
      ]
     },
     "execution_count": 85,
     "metadata": {},
     "output_type": "execute_result"
    },
    {
     "data": {
      "image/png": "[encoded data removed]",
      "text/plain": [
       "<Figure size 432x288 with 2 Axes>"
      ]
     },
     "metadata": {
      "needs_background": "light"
     },
     "output_type": "display_data"
    }
   ],
   "source": [
    "plt.imshow(Xe[0])# , vmin=0)\n",
    "plt.colorbar()"
   ]
  },
  {
   "cell_type": "code",
   "execution_count": 86,
   "id": "541aed69",
   "metadata": {},
   "outputs": [
    {
     "data": {
      "text/plain": [
       "<matplotlib.colorbar.Colorbar at 0x14cb493e4670>"
      ]
     },
     "execution_count": 86,
     "metadata": {},
     "output_type": "execute_result"
    },
    {
     "data": {
      "image/png": "[encoded data removed]",
      "text/plain": [
       "<Figure size 432x288 with 2 Axes>"
      ]
     },
     "metadata": {
      "needs_background": "light"
     },
     "output_type": "display_data"
    }
   ],
   "source": [
    "plt.imshow(Xe[0], vmin=0)\n",
    "plt.colorbar()"
   ]
  },
  {
   "cell_type": "code",
   "execution_count": null,
   "id": "31066d81",
   "metadata": {},
   "outputs": [],
   "source": [
    "# --------------- SAVE PREDICTION ------------------\n",
    "# to xarray\n",
    "# to netcdf\n",
    "odir = ''\n",
    "ofile = f'ypred_Conv2D_epochs{epochs}.nc'\n",
    "\n",
    "              \n",
    "ypred_xr = xr.DataArray(data=ypred[:,:,:,0], \n",
    "                        dims=['time','y','x'], \n",
    "                        coords={'time':chrono[:ntest].squeeze(),'y':Xf.y,'x':Xf.x},\n",
    "                        name='sit_pred').to_netcdf(ofile)"
   ]
  },
  {
   "cell_type": "code",
   "execution_count": 19,
   "id": "ef213505",
   "metadata": {},
   "outputs": [
    {
     "data": {
      "image/png": "[encoded data removed]",
      "text/plain": [
       "<Figure size 864x288 with 1 Axes>"
      ]
     },
     "metadata": {
      "needs_background": "light"
     },
     "output_type": "display_data"
    }
   ],
   "source": [
    "# --------------- PLOT ------------------\n",
    "ofile = '/users/edelleo1/tardis/tardis-ml/pyroutine/Loss_Conv2D.png'\n",
    "draw_loss(history, showfig=False, savefile=ofile)"
   ]
  },
  {
   "cell_type": "code",
   "execution_count": null,
   "id": "5fcfcf79",
   "metadata": {},
   "outputs": [],
   "source": [
    "exit()"
   ]
  }
 ],
 "metadata": {
  "kernelspec": {
   "display_name": "Python 3 (ipykernel)",
   "language": "python",
   "name": "python3"
  },
  "language_info": {
   "codemirror_mode": {
    "name": "ipython",
    "version": 3
   },
   "file_extension": ".py",
   "mimetype": "text/x-python",
   "name": "python",
   "nbconvert_exporter": "python",
   "pygments_lexer": "ipython3",
   "version": "3.9.12"
  }
 },
 "nbformat": 4,
 "nbformat_minor": 5
}
