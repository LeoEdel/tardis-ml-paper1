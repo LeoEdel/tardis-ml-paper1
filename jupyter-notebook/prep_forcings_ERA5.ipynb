{
 "cells": [
  {
   "cell_type": "code",
   "execution_count": 1,
   "id": "36caa9f6",
   "metadata": {},
   "outputs": [
    {
     "name": "stdout",
     "output_type": "stream",
     "text": [
      "login-2.fram.sigma2.no\n",
      "fram detected\n"
     ]
    }
   ],
   "source": [
    "import src.utils.tardisml_utils as tardisml_utils\n",
    "rootdir = tardisml_utils.get_rootdir()"
   ]
  },
  {
   "cell_type": "code",
   "execution_count": 2,
   "id": "705d6a2a",
   "metadata": {},
   "outputs": [],
   "source": [
    "import os\n",
    "import pandas as pd\n",
    "\n",
    "from datetime import date\n",
    "\n",
    "import xarray as xr\n",
    "import numpy as np\n",
    "from glob import glob\n",
    "import datetime\n",
    "import re"
   ]
  },
  {
   "cell_type": "code",
   "execution_count": 3,
   "id": "f2076623",
   "metadata": {},
   "outputs": [
    {
     "name": "stdout",
     "output_type": "stream",
     "text": [
      "login-2.fram.sigma2.no\n",
      "fram detected\n"
     ]
    }
   ],
   "source": [
    "import src.utils.load_config as load_config"
   ]
  },
  {
   "cell_type": "code",
   "execution_count": 4,
   "id": "fe799042",
   "metadata": {},
   "outputs": [],
   "source": [
    "import yaml\n",
    "user = yaml.load(open('../config/data_proc_demo.yaml'), Loader=yaml.FullLoader)['user']"
   ]
  },
  {
   "cell_type": "code",
   "execution_count": 5,
   "id": "19cf1a6e",
   "metadata": {},
   "outputs": [
    {
     "name": "stdout",
     "output_type": "stream",
     "text": [
      "PCA results in: /nird/projects/nird/NS2993K/Leo/results/pca_i100-550_j300-629\n",
      "Config file updated (pca_dir): ../config/data_proc_full.yaml\n",
      "Config file updated: ../config/data_proc_full.yaml\n",
      "Results in: /nird/projects/nird/NS2993K/Leo/results/xgb_Npred22_8F_rw21d_N4444_H1333_Hn0000_sithick_noname_220927-094206\n",
      "Folder created\n",
      "\n",
      "Config file updated.\n"
     ]
    }
   ],
   "source": [
    "# file_config = '../config/data_proc_demo.yaml'\n",
    "file_config = '../config/data_proc_full.yaml'\n",
    "# Path to template file\n",
    "file_template = '../config/template_name.yaml'\n",
    "\n",
    "# template = yaml.load(open(file_template),Loader=yaml.FullLoader)\n",
    "load_config.update_config(file_config, verbose=True)\n",
    "nosit_dir, withsit_dir, _, forcing_bdir, pca_dir, res_dir, fig_dir, ml_dir = load_config.load_filename(file_config)\n",
    "timeofday, target_field, forcing_fields, covar_fields, lim_idm, lim_jdm, n_comp = load_config.load_config_params(file_config)"
   ]
  },
  {
   "cell_type": "code",
   "execution_count": 6,
   "id": "219e8f9c",
   "metadata": {},
   "outputs": [],
   "source": [
    "# Pseudo-code\n",
    "\n",
    "# open file\n",
    "\n",
    "# check grid ERA5\n",
    "\n",
    "# check grid TOPAZ\n",
    "\n",
    "# determine closest point of ERA5 on TOPAZ grid\n",
    "\n",
    "\n",
    "# retrieve points for each time step (6h) looping on yearly .nc\n",
    "# for 2010-2017 at first\n",
    "\n",
    "\n",
    "# save to pickle file"
   ]
  },
  {
   "cell_type": "markdown",
   "id": "c80ca27e",
   "metadata": {},
   "source": [
    "## Get only interesting years and var"
   ]
  },
  {
   "cell_type": "code",
   "execution_count": 7,
   "id": "8c0c9ce9",
   "metadata": {},
   "outputs": [],
   "source": [
    "datadir = '/cluster/projects/nn9481k/ERA5_6h/' # os.path.join(rootdir,user+f'/Jiping/dailyforcing_2014_2017')\n",
    "pkldir = os.path.join(rootdir,user+f'/forcings_full/ERA5_cTOPAZ/')  # f'Julien/forcings'"
   ]
  },
  {
   "cell_type": "code",
   "execution_count": 8,
   "id": "7d340758",
   "metadata": {},
   "outputs": [],
   "source": [
    "years=[2010, 2017]\n",
    "# years=[1991,2020]\n",
    "\n",
    "var = '2T'"
   ]
  },
  {
   "cell_type": "code",
   "execution_count": 9,
   "id": "35437728",
   "metadata": {},
   "outputs": [],
   "source": [
    "allfiles = sorted(glob(os.path.join(datadir,f'6h.{var}*.nc')))\n",
    "listyear = [os.path.basename(name)[6:-3] for name in allfiles]\n",
    "listfile=[]\n",
    "\n",
    "# selection corresponding years\n",
    "for idx, name in enumerate(listyear):\n",
    "    if int(name)>=years[0] and int(name)<=years[-1]:\n",
    "        listfile += [allfiles[idx]]\n",
    "    "
   ]
  },
  {
   "cell_type": "code",
   "execution_count": 10,
   "id": "f0039e8d",
   "metadata": {},
   "outputs": [
    {
     "name": "stdout",
     "output_type": "stream",
     "text": [
      "List of forcings\n",
      "['/cluster/projects/nn9481k/ERA5_6h/6h.2T_2010.nc', '/cluster/projects/nn9481k/ERA5_6h/6h.2T_2011.nc', '/cluster/projects/nn9481k/ERA5_6h/6h.2T_2012.nc', '/cluster/projects/nn9481k/ERA5_6h/6h.2T_2013.nc', '/cluster/projects/nn9481k/ERA5_6h/6h.2T_2014.nc', '/cluster/projects/nn9481k/ERA5_6h/6h.2T_2015.nc', '/cluster/projects/nn9481k/ERA5_6h/6h.2T_2016.nc', '/cluster/projects/nn9481k/ERA5_6h/6h.2T_2017.nc']\n"
     ]
    }
   ],
   "source": [
    "print('List of forcings')\n",
    "print(listfile)"
   ]
  },
  {
   "cell_type": "markdown",
   "id": "572f959a",
   "metadata": {},
   "source": [
    "## Grid ERA5"
   ]
  },
  {
   "cell_type": "markdown",
   "id": "5493764c",
   "metadata": {},
   "source": [
    "Create yearly file otherwise to heavy (process killed)"
   ]
  },
  {
   "cell_type": "code",
   "execution_count": null,
   "id": "66fdea6a",
   "metadata": {},
   "outputs": [],
   "source": [
    "# for idx_yr, yrfl in enumerate(listfile):"
   ]
  },
  {
   "cell_type": "code",
   "execution_count": 11,
   "id": "34426454",
   "metadata": {},
   "outputs": [],
   "source": [
    "nc = xr.open_mfdataset(listfile[0], combine='nested', concat_dim='time')\n",
    "# nc = xr.open_mfdataset(yrfl, combine='nested', concat_dim='time')\n"
   ]
  },
  {
   "cell_type": "code",
   "execution_count": 12,
   "id": "041eae09",
   "metadata": {},
   "outputs": [
    {
     "data": {
      "text/html": [
       "<div><svg style=\"position: absolute; width: 0; height: 0; overflow: hidden\">\n",
       "<defs>\n",
       "<symbol id=\"icon-database\" viewBox=\"0 0 32 32\">\n",
       "<path d=\"M16 0c-8.837 0-16 2.239-16 5v4c0 2.761 7.163 5 16 5s16-2.239 16-5v-4c0-2.761-7.163-5-16-5z\"></path>\n",
       "<path d=\"M16 17c-8.837 0-16-2.239-16-5v6c0 2.761 7.163 5 16 5s16-2.239 16-5v-6c0 2.761-7.163 5-16 5z\"></path>\n",
       "<path d=\"M16 26c-8.837 0-16-2.239-16-5v6c0 2.761 7.163 5 16 5s16-2.239 16-5v-6c0 2.761-7.163 5-16 5z\"></path>\n",
       "</symbol>\n",
       "<symbol id=\"icon-file-text2\" viewBox=\"0 0 32 32\">\n",
       "<path d=\"M28.681 7.159c-0.694-0.947-1.662-2.053-2.724-3.116s-2.169-2.030-3.116-2.724c-1.612-1.182-2.393-1.319-2.841-1.319h-15.5c-1.378 0-2.5 1.121-2.5 2.5v27c0 1.378 1.122 2.5 2.5 2.5h23c1.378 0 2.5-1.122 2.5-2.5v-19.5c0-0.448-0.137-1.23-1.319-2.841zM24.543 5.457c0.959 0.959 1.712 1.825 2.268 2.543h-4.811v-4.811c0.718 0.556 1.584 1.309 2.543 2.268zM28 29.5c0 0.271-0.229 0.5-0.5 0.5h-23c-0.271 0-0.5-0.229-0.5-0.5v-27c0-0.271 0.229-0.5 0.5-0.5 0 0 15.499-0 15.5 0v7c0 0.552 0.448 1 1 1h7v19.5z\"></path>\n",
       "<path d=\"M23 26h-14c-0.552 0-1-0.448-1-1s0.448-1 1-1h14c0.552 0 1 0.448 1 1s-0.448 1-1 1z\"></path>\n",
       "<path d=\"M23 22h-14c-0.552 0-1-0.448-1-1s0.448-1 1-1h14c0.552 0 1 0.448 1 1s-0.448 1-1 1z\"></path>\n",
       "<path d=\"M23 18h-14c-0.552 0-1-0.448-1-1s0.448-1 1-1h14c0.552 0 1 0.448 1 1s-0.448 1-1 1z\"></path>\n",
       "</symbol>\n",
       "</defs>\n",
       "</svg>\n",
       "<style>/* CSS stylesheet for displaying xarray objects in jupyterlab.\n",
       " *\n",
       " */\n",
       "\n",
       ":root {\n",
       "  --xr-font-color0: var(--jp-content-font-color0, rgba(0, 0, 0, 1));\n",
       "  --xr-font-color2: var(--jp-content-font-color2, rgba(0, 0, 0, 0.54));\n",
       "  --xr-font-color3: var(--jp-content-font-color3, rgba(0, 0, 0, 0.38));\n",
       "  --xr-border-color: var(--jp-border-color2, #e0e0e0);\n",
       "  --xr-disabled-color: var(--jp-layout-color3, #bdbdbd);\n",
       "  --xr-background-color: var(--jp-layout-color0, white);\n",
       "  --xr-background-color-row-even: var(--jp-layout-color1, white);\n",
       "  --xr-background-color-row-odd: var(--jp-layout-color2, #eeeeee);\n",
       "}\n",
       "\n",
       "html[theme=dark],\n",
       "body.vscode-dark {\n",
       "  --xr-font-color0: rgba(255, 255, 255, 1);\n",
       "  --xr-font-color2: rgba(255, 255, 255, 0.54);\n",
       "  --xr-font-color3: rgba(255, 255, 255, 0.38);\n",
       "  --xr-border-color: #1F1F1F;\n",
       "  --xr-disabled-color: #515151;\n",
       "  --xr-background-color: #111111;\n",
       "  --xr-background-color-row-even: #111111;\n",
       "  --xr-background-color-row-odd: #313131;\n",
       "}\n",
       "\n",
       ".xr-wrap {\n",
       "  display: block !important;\n",
       "  min-width: 300px;\n",
       "  max-width: 700px;\n",
       "}\n",
       "\n",
       ".xr-text-repr-fallback {\n",
       "  /* fallback to plain text repr when CSS is not injected (untrusted notebook) */\n",
       "  display: none;\n",
       "}\n",
       "\n",
       ".xr-header {\n",
       "  padding-top: 6px;\n",
       "  padding-bottom: 6px;\n",
       "  margin-bottom: 4px;\n",
       "  border-bottom: solid 1px var(--xr-border-color);\n",
       "}\n",
       "\n",
       ".xr-header > div,\n",
       ".xr-header > ul {\n",
       "  display: inline;\n",
       "  margin-top: 0;\n",
       "  margin-bottom: 0;\n",
       "}\n",
       "\n",
       ".xr-obj-type,\n",
       ".xr-array-name {\n",
       "  margin-left: 2px;\n",
       "  margin-right: 10px;\n",
       "}\n",
       "\n",
       ".xr-obj-type {\n",
       "  color: var(--xr-font-color2);\n",
       "}\n",
       "\n",
       ".xr-sections {\n",
       "  padding-left: 0 !important;\n",
       "  display: grid;\n",
       "  grid-template-columns: 150px auto auto 1fr 20px 20px;\n",
       "}\n",
       "\n",
       ".xr-section-item {\n",
       "  display: contents;\n",
       "}\n",
       "\n",
       ".xr-section-item input {\n",
       "  display: none;\n",
       "}\n",
       "\n",
       ".xr-section-item input + label {\n",
       "  color: var(--xr-disabled-color);\n",
       "}\n",
       "\n",
       ".xr-section-item input:enabled + label {\n",
       "  cursor: pointer;\n",
       "  color: var(--xr-font-color2);\n",
       "}\n",
       "\n",
       ".xr-section-item input:enabled + label:hover {\n",
       "  color: var(--xr-font-color0);\n",
       "}\n",
       "\n",
       ".xr-section-summary {\n",
       "  grid-column: 1;\n",
       "  color: var(--xr-font-color2);\n",
       "  font-weight: 500;\n",
       "}\n",
       "\n",
       ".xr-section-summary > span {\n",
       "  display: inline-block;\n",
       "  padding-left: 0.5em;\n",
       "}\n",
       "\n",
       ".xr-section-summary-in:disabled + label {\n",
       "  color: var(--xr-font-color2);\n",
       "}\n",
       "\n",
       ".xr-section-summary-in + label:before {\n",
       "  display: inline-block;\n",
       "  content: '►';\n",
       "  font-size: 11px;\n",
       "  width: 15px;\n",
       "  text-align: center;\n",
       "}\n",
       "\n",
       ".xr-section-summary-in:disabled + label:before {\n",
       "  color: var(--xr-disabled-color);\n",
       "}\n",
       "\n",
       ".xr-section-summary-in:checked + label:before {\n",
       "  content: '▼';\n",
       "}\n",
       "\n",
       ".xr-section-summary-in:checked + label > span {\n",
       "  display: none;\n",
       "}\n",
       "\n",
       ".xr-section-summary,\n",
       ".xr-section-inline-details {\n",
       "  padding-top: 4px;\n",
       "  padding-bottom: 4px;\n",
       "}\n",
       "\n",
       ".xr-section-inline-details {\n",
       "  grid-column: 2 / -1;\n",
       "}\n",
       "\n",
       ".xr-section-details {\n",
       "  display: none;\n",
       "  grid-column: 1 / -1;\n",
       "  margin-bottom: 5px;\n",
       "}\n",
       "\n",
       ".xr-section-summary-in:checked ~ .xr-section-details {\n",
       "  display: contents;\n",
       "}\n",
       "\n",
       ".xr-array-wrap {\n",
       "  grid-column: 1 / -1;\n",
       "  display: grid;\n",
       "  grid-template-columns: 20px auto;\n",
       "}\n",
       "\n",
       ".xr-array-wrap > label {\n",
       "  grid-column: 1;\n",
       "  vertical-align: top;\n",
       "}\n",
       "\n",
       ".xr-preview {\n",
       "  color: var(--xr-font-color3);\n",
       "}\n",
       "\n",
       ".xr-array-preview,\n",
       ".xr-array-data {\n",
       "  padding: 0 5px !important;\n",
       "  grid-column: 2;\n",
       "}\n",
       "\n",
       ".xr-array-data,\n",
       ".xr-array-in:checked ~ .xr-array-preview {\n",
       "  display: none;\n",
       "}\n",
       "\n",
       ".xr-array-in:checked ~ .xr-array-data,\n",
       ".xr-array-preview {\n",
       "  display: inline-block;\n",
       "}\n",
       "\n",
       ".xr-dim-list {\n",
       "  display: inline-block !important;\n",
       "  list-style: none;\n",
       "  padding: 0 !important;\n",
       "  margin: 0;\n",
       "}\n",
       "\n",
       ".xr-dim-list li {\n",
       "  display: inline-block;\n",
       "  padding: 0;\n",
       "  margin: 0;\n",
       "}\n",
       "\n",
       ".xr-dim-list:before {\n",
       "  content: '(';\n",
       "}\n",
       "\n",
       ".xr-dim-list:after {\n",
       "  content: ')';\n",
       "}\n",
       "\n",
       ".xr-dim-list li:not(:last-child):after {\n",
       "  content: ',';\n",
       "  padding-right: 5px;\n",
       "}\n",
       "\n",
       ".xr-has-index {\n",
       "  font-weight: bold;\n",
       "}\n",
       "\n",
       ".xr-var-list,\n",
       ".xr-var-item {\n",
       "  display: contents;\n",
       "}\n",
       "\n",
       ".xr-var-item > div,\n",
       ".xr-var-item label,\n",
       ".xr-var-item > .xr-var-name span {\n",
       "  background-color: var(--xr-background-color-row-even);\n",
       "  margin-bottom: 0;\n",
       "}\n",
       "\n",
       ".xr-var-item > .xr-var-name:hover span {\n",
       "  padding-right: 5px;\n",
       "}\n",
       "\n",
       ".xr-var-list > li:nth-child(odd) > div,\n",
       ".xr-var-list > li:nth-child(odd) > label,\n",
       ".xr-var-list > li:nth-child(odd) > .xr-var-name span {\n",
       "  background-color: var(--xr-background-color-row-odd);\n",
       "}\n",
       "\n",
       ".xr-var-name {\n",
       "  grid-column: 1;\n",
       "}\n",
       "\n",
       ".xr-var-dims {\n",
       "  grid-column: 2;\n",
       "}\n",
       "\n",
       ".xr-var-dtype {\n",
       "  grid-column: 3;\n",
       "  text-align: right;\n",
       "  color: var(--xr-font-color2);\n",
       "}\n",
       "\n",
       ".xr-var-preview {\n",
       "  grid-column: 4;\n",
       "}\n",
       "\n",
       ".xr-var-name,\n",
       ".xr-var-dims,\n",
       ".xr-var-dtype,\n",
       ".xr-preview,\n",
       ".xr-attrs dt {\n",
       "  white-space: nowrap;\n",
       "  overflow: hidden;\n",
       "  text-overflow: ellipsis;\n",
       "  padding-right: 10px;\n",
       "}\n",
       "\n",
       ".xr-var-name:hover,\n",
       ".xr-var-dims:hover,\n",
       ".xr-var-dtype:hover,\n",
       ".xr-attrs dt:hover {\n",
       "  overflow: visible;\n",
       "  width: auto;\n",
       "  z-index: 1;\n",
       "}\n",
       "\n",
       ".xr-var-attrs,\n",
       ".xr-var-data {\n",
       "  display: none;\n",
       "  background-color: var(--xr-background-color) !important;\n",
       "  padding-bottom: 5px !important;\n",
       "}\n",
       "\n",
       ".xr-var-attrs-in:checked ~ .xr-var-attrs,\n",
       ".xr-var-data-in:checked ~ .xr-var-data {\n",
       "  display: block;\n",
       "}\n",
       "\n",
       ".xr-var-data > table {\n",
       "  float: right;\n",
       "}\n",
       "\n",
       ".xr-var-name span,\n",
       ".xr-var-data,\n",
       ".xr-attrs {\n",
       "  padding-left: 25px !important;\n",
       "}\n",
       "\n",
       ".xr-attrs,\n",
       ".xr-var-attrs,\n",
       ".xr-var-data {\n",
       "  grid-column: 1 / -1;\n",
       "}\n",
       "\n",
       "dl.xr-attrs {\n",
       "  padding: 0;\n",
       "  margin: 0;\n",
       "  display: grid;\n",
       "  grid-template-columns: 125px auto;\n",
       "}\n",
       "\n",
       ".xr-attrs dt,\n",
       ".xr-attrs dd {\n",
       "  padding: 0;\n",
       "  margin: 0;\n",
       "  float: left;\n",
       "  padding-right: 10px;\n",
       "  width: auto;\n",
       "}\n",
       "\n",
       ".xr-attrs dt {\n",
       "  font-weight: normal;\n",
       "  grid-column: 1;\n",
       "}\n",
       "\n",
       ".xr-attrs dt:hover span {\n",
       "  display: inline-block;\n",
       "  background: var(--xr-background-color);\n",
       "  padding-right: 10px;\n",
       "}\n",
       "\n",
       ".xr-attrs dd {\n",
       "  grid-column: 2;\n",
       "  white-space: pre-wrap;\n",
       "  word-break: break-all;\n",
       "}\n",
       "\n",
       ".xr-icon-database,\n",
       ".xr-icon-file-text2 {\n",
       "  display: inline-block;\n",
       "  vertical-align: middle;\n",
       "  width: 1em;\n",
       "  height: 1.5em !important;\n",
       "  stroke-width: 0;\n",
       "  stroke: currentColor;\n",
       "  fill: currentColor;\n",
       "}\n",
       "</style><pre class='xr-text-repr-fallback'>&lt;xarray.DataArray &#x27;2T&#x27; (time: 2920, latitude: 721, longitude: 1440)&gt;\n",
       "dask.array&lt;concatenate, shape=(2920, 721, 1440), dtype=float32, chunksize=(1460, 721, 1440), chunktype=numpy.ndarray&gt;\n",
       "Coordinates:\n",
       "  * time       (time) datetime64[ns] 2010-01-01 ... 2011-12-31T18:00:00\n",
       "  * longitude  (longitude) float32 0.0 0.25 0.5 0.75 ... 359.0 359.2 359.5 359.8\n",
       "  * latitude   (latitude) float32 90.0 89.75 89.5 89.25 ... -89.5 -89.75 -90.0\n",
       "Attributes:\n",
       "    long_name:  2 metre temperature\n",
       "    units:      K\n",
       "    table:      128\n",
       "    code:       167</pre><div class='xr-wrap' style='display:none'><div class='xr-header'><div class='xr-obj-type'>xarray.DataArray</div><div class='xr-array-name'>'2T'</div><ul class='xr-dim-list'><li><span class='xr-has-index'>time</span>: 2920</li><li><span class='xr-has-index'>latitude</span>: 721</li><li><span class='xr-has-index'>longitude</span>: 1440</li></ul></div><ul class='xr-sections'><li class='xr-section-item'><div class='xr-array-wrap'><input id='section-3646baf9-61b7-45ec-8042-be05e4d9efb0' class='xr-array-in' type='checkbox' checked><label for='section-3646baf9-61b7-45ec-8042-be05e4d9efb0' title='Show/hide data repr'><svg class='icon xr-icon-database'><use xlink:href='#icon-database'></use></svg></label><div class='xr-array-preview xr-preview'><span>dask.array&lt;chunksize=(1460, 721, 1440), meta=np.ndarray&gt;</span></div><div class='xr-array-data'><table>\n",
       "    <tr>\n",
       "        <td>\n",
       "            <table>\n",
       "                <thead>\n",
       "                    <tr>\n",
       "                        <td> </td>\n",
       "                        <th> Array </th>\n",
       "                        <th> Chunk </th>\n",
       "                    </tr>\n",
       "                </thead>\n",
       "                <tbody>\n",
       "                    \n",
       "                    <tr>\n",
       "                        <th> Bytes </th>\n",
       "                        <td> 11.29 GiB </td>\n",
       "                        <td> 5.65 GiB </td>\n",
       "                    </tr>\n",
       "                    \n",
       "                    <tr>\n",
       "                        <th> Shape </th>\n",
       "                        <td> (2920, 721, 1440) </td>\n",
       "                        <td> (1460, 721, 1440) </td>\n",
       "                    </tr>\n",
       "                    <tr>\n",
       "                        <th> Count </th>\n",
       "                        <td> 6 Tasks </td>\n",
       "                        <td> 2 Chunks </td>\n",
       "                    </tr>\n",
       "                    <tr>\n",
       "                    <th> Type </th>\n",
       "                    <td> float32 </td>\n",
       "                    <td> numpy.ndarray </td>\n",
       "                    </tr>\n",
       "                </tbody>\n",
       "            </table>\n",
       "        </td>\n",
       "        <td>\n",
       "        <svg width=\"189\" height=\"163\" style=\"stroke:rgb(0,0,0);stroke-width:1\" >\n",
       "\n",
       "  <!-- Horizontal lines -->\n",
       "  <line x1=\"10\" y1=\"0\" x2=\"80\" y2=\"70\" style=\"stroke-width:2\" />\n",
       "  <line x1=\"10\" y1=\"42\" x2=\"80\" y2=\"113\" style=\"stroke-width:2\" />\n",
       "\n",
       "  <!-- Vertical lines -->\n",
       "  <line x1=\"10\" y1=\"0\" x2=\"10\" y2=\"42\" style=\"stroke-width:2\" />\n",
       "  <line x1=\"45\" y1=\"35\" x2=\"45\" y2=\"78\" />\n",
       "  <line x1=\"80\" y1=\"70\" x2=\"80\" y2=\"113\" style=\"stroke-width:2\" />\n",
       "\n",
       "  <!-- Colored Rectangle -->\n",
       "  <polygon points=\"10.0,0.0 80.58823529411765,70.58823529411765 80.58823529411765,113.44046144736151 10.0,42.85222615324387\" style=\"fill:#ECB172A0;stroke-width:0\"/>\n",
       "\n",
       "  <!-- Horizontal lines -->\n",
       "  <line x1=\"10\" y1=\"0\" x2=\"69\" y2=\"0\" style=\"stroke-width:2\" />\n",
       "  <line x1=\"45\" y1=\"35\" x2=\"104\" y2=\"35\" />\n",
       "  <line x1=\"80\" y1=\"70\" x2=\"139\" y2=\"70\" style=\"stroke-width:2\" />\n",
       "\n",
       "  <!-- Vertical lines -->\n",
       "  <line x1=\"10\" y1=\"0\" x2=\"80\" y2=\"70\" style=\"stroke-width:2\" />\n",
       "  <line x1=\"69\" y1=\"0\" x2=\"139\" y2=\"70\" style=\"stroke-width:2\" />\n",
       "\n",
       "  <!-- Colored Rectangle -->\n",
       "  <polygon points=\"10.0,0.0 69.17808219178083,0.0 139.76631748589847,70.58823529411765 80.58823529411765,70.58823529411765\" style=\"fill:#ECB172A0;stroke-width:0\"/>\n",
       "\n",
       "  <!-- Horizontal lines -->\n",
       "  <line x1=\"80\" y1=\"70\" x2=\"139\" y2=\"70\" style=\"stroke-width:2\" />\n",
       "  <line x1=\"80\" y1=\"113\" x2=\"139\" y2=\"113\" style=\"stroke-width:2\" />\n",
       "\n",
       "  <!-- Vertical lines -->\n",
       "  <line x1=\"80\" y1=\"70\" x2=\"80\" y2=\"113\" style=\"stroke-width:2\" />\n",
       "  <line x1=\"139\" y1=\"70\" x2=\"139\" y2=\"113\" style=\"stroke-width:2\" />\n",
       "\n",
       "  <!-- Colored Rectangle -->\n",
       "  <polygon points=\"80.58823529411765,70.58823529411765 139.76631748589847,70.58823529411765 139.76631748589847,113.44046144736151 80.58823529411765,113.44046144736151\" style=\"fill:#ECB172A0;stroke-width:0\"/>\n",
       "\n",
       "  <!-- Text -->\n",
       "  <text x=\"110.177276\" y=\"133.440461\" font-size=\"1.0rem\" font-weight=\"100\" text-anchor=\"middle\" >1440</text>\n",
       "  <text x=\"159.766317\" y=\"92.014348\" font-size=\"1.0rem\" font-weight=\"100\" text-anchor=\"middle\" transform=\"rotate(-90,159.766317,92.014348)\">721</text>\n",
       "  <text x=\"35.294118\" y=\"98.146344\" font-size=\"1.0rem\" font-weight=\"100\" text-anchor=\"middle\" transform=\"rotate(45,35.294118,98.146344)\">2920</text>\n",
       "</svg>\n",
       "        </td>\n",
       "    </tr>\n",
       "</table></div></div></li><li class='xr-section-item'><input id='section-6f23d4ba-a3e2-4c9c-aa08-dbefea4ca7d9' class='xr-section-summary-in' type='checkbox'  checked><label for='section-6f23d4ba-a3e2-4c9c-aa08-dbefea4ca7d9' class='xr-section-summary' >Coordinates: <span>(3)</span></label><div class='xr-section-inline-details'></div><div class='xr-section-details'><ul class='xr-var-list'><li class='xr-var-item'><div class='xr-var-name'><span class='xr-has-index'>time</span></div><div class='xr-var-dims'>(time)</div><div class='xr-var-dtype'>datetime64[ns]</div><div class='xr-var-preview xr-preview'>2010-01-01 ... 2011-12-31T18:00:00</div><input id='attrs-0172e314-1812-427c-99a7-00f87878ec7f' class='xr-var-attrs-in' type='checkbox' ><label for='attrs-0172e314-1812-427c-99a7-00f87878ec7f' title='Show/Hide attributes'><svg class='icon xr-icon-file-text2'><use xlink:href='#icon-file-text2'></use></svg></label><input id='data-6c5d6c5a-7232-49c7-b070-b1b8c3497c7a' class='xr-var-data-in' type='checkbox'><label for='data-6c5d6c5a-7232-49c7-b070-b1b8c3497c7a' title='Show/Hide data repr'><svg class='icon xr-icon-database'><use xlink:href='#icon-database'></use></svg></label><div class='xr-var-attrs'><dl class='xr-attrs'><dt><span>standard_name :</span></dt><dd>time</dd><dt><span>long_name :</span></dt><dd>time</dd><dt><span>axis :</span></dt><dd>T</dd></dl></div><div class='xr-var-data'><pre>array([&#x27;2010-01-01T00:00:00.000000000&#x27;, &#x27;2010-01-01T06:00:00.000000000&#x27;,\n",
       "       &#x27;2010-01-01T12:00:00.000000000&#x27;, ..., &#x27;2011-12-31T06:00:00.000000000&#x27;,\n",
       "       &#x27;2011-12-31T12:00:00.000000000&#x27;, &#x27;2011-12-31T18:00:00.000000000&#x27;],\n",
       "      dtype=&#x27;datetime64[ns]&#x27;)</pre></div></li><li class='xr-var-item'><div class='xr-var-name'><span class='xr-has-index'>longitude</span></div><div class='xr-var-dims'>(longitude)</div><div class='xr-var-dtype'>float32</div><div class='xr-var-preview xr-preview'>0.0 0.25 0.5 ... 359.2 359.5 359.8</div><input id='attrs-da7a4bd6-723c-437b-becb-bc7853e6090f' class='xr-var-attrs-in' type='checkbox' ><label for='attrs-da7a4bd6-723c-437b-becb-bc7853e6090f' title='Show/Hide attributes'><svg class='icon xr-icon-file-text2'><use xlink:href='#icon-file-text2'></use></svg></label><input id='data-dbf18c23-4b38-41cc-a0cc-386ae4f2e3f9' class='xr-var-data-in' type='checkbox'><label for='data-dbf18c23-4b38-41cc-a0cc-386ae4f2e3f9' title='Show/Hide data repr'><svg class='icon xr-icon-database'><use xlink:href='#icon-database'></use></svg></label><div class='xr-var-attrs'><dl class='xr-attrs'><dt><span>standard_name :</span></dt><dd>longitude</dd><dt><span>long_name :</span></dt><dd>longitude</dd><dt><span>units :</span></dt><dd>degrees_east</dd><dt><span>axis :</span></dt><dd>X</dd></dl></div><div class='xr-var-data'><pre>array([0.0000e+00, 2.5000e-01, 5.0000e-01, ..., 3.5925e+02, 3.5950e+02,\n",
       "       3.5975e+02], dtype=float32)</pre></div></li><li class='xr-var-item'><div class='xr-var-name'><span class='xr-has-index'>latitude</span></div><div class='xr-var-dims'>(latitude)</div><div class='xr-var-dtype'>float32</div><div class='xr-var-preview xr-preview'>90.0 89.75 89.5 ... -89.75 -90.0</div><input id='attrs-bbffb89c-fed8-4567-9f0b-cfde0fefe18f' class='xr-var-attrs-in' type='checkbox' ><label for='attrs-bbffb89c-fed8-4567-9f0b-cfde0fefe18f' title='Show/Hide attributes'><svg class='icon xr-icon-file-text2'><use xlink:href='#icon-file-text2'></use></svg></label><input id='data-0c11198d-ee62-42eb-81b0-2d1d39d7431f' class='xr-var-data-in' type='checkbox'><label for='data-0c11198d-ee62-42eb-81b0-2d1d39d7431f' title='Show/Hide data repr'><svg class='icon xr-icon-database'><use xlink:href='#icon-database'></use></svg></label><div class='xr-var-attrs'><dl class='xr-attrs'><dt><span>standard_name :</span></dt><dd>latitude</dd><dt><span>long_name :</span></dt><dd>latitude</dd><dt><span>units :</span></dt><dd>degrees_north</dd><dt><span>axis :</span></dt><dd>Y</dd></dl></div><div class='xr-var-data'><pre>array([ 90.  ,  89.75,  89.5 , ..., -89.5 , -89.75, -90.  ], dtype=float32)</pre></div></li></ul></div></li><li class='xr-section-item'><input id='section-bb88750c-be09-488e-b3ad-8cf35c896adf' class='xr-section-summary-in' type='checkbox'  checked><label for='section-bb88750c-be09-488e-b3ad-8cf35c896adf' class='xr-section-summary' >Attributes: <span>(4)</span></label><div class='xr-section-inline-details'></div><div class='xr-section-details'><dl class='xr-attrs'><dt><span>long_name :</span></dt><dd>2 metre temperature</dd><dt><span>units :</span></dt><dd>K</dd><dt><span>table :</span></dt><dd>128</dd><dt><span>code :</span></dt><dd>167</dd></dl></div></li></ul></div></div>"
      ],
      "text/plain": [
       "<xarray.DataArray '2T' (time: 2920, latitude: 721, longitude: 1440)>\n",
       "dask.array<concatenate, shape=(2920, 721, 1440), dtype=float32, chunksize=(1460, 721, 1440), chunktype=numpy.ndarray>\n",
       "Coordinates:\n",
       "  * time       (time) datetime64[ns] 2010-01-01 ... 2011-12-31T18:00:00\n",
       "  * longitude  (longitude) float32 0.0 0.25 0.5 0.75 ... 359.0 359.2 359.5 359.8\n",
       "  * latitude   (latitude) float32 90.0 89.75 89.5 89.25 ... -89.5 -89.75 -90.0\n",
       "Attributes:\n",
       "    long_name:  2 metre temperature\n",
       "    units:      K\n",
       "    table:      128\n",
       "    code:       167"
      ]
     },
     "execution_count": 12,
     "metadata": {},
     "output_type": "execute_result"
    }
   ],
   "source": [
    "nc[var]"
   ]
  },
  {
   "cell_type": "code",
   "execution_count": 13,
   "id": "9f1ea56e",
   "metadata": {},
   "outputs": [],
   "source": [
    "nc['latitude'];"
   ]
  },
  {
   "cell_type": "code",
   "execution_count": 14,
   "id": "4f9a1b42",
   "metadata": {},
   "outputs": [],
   "source": [
    "nc['longitude'];"
   ]
  },
  {
   "cell_type": "code",
   "execution_count": 15,
   "id": "a13092e1",
   "metadata": {},
   "outputs": [
    {
     "data": {
      "text/plain": [
       "<matplotlib.collections.QuadMesh at 0x2ac15bb6b400>"
      ]
     },
     "execution_count": 15,
     "metadata": {},
     "output_type": "execute_result"
    },
    {
     "data": {
      "image/png": "[encoded data removed]",
      "text/plain": [
       "<Figure size 432x288 with 2 Axes>"
      ]
     },
     "metadata": {
      "needs_background": "light"
     },
     "output_type": "display_data"
    }
   ],
   "source": [
    "nc[var][0].plot()"
   ]
  },
  {
   "cell_type": "markdown",
   "id": "46b1a81b",
   "metadata": {},
   "source": [
    "## Grid TOPAZ"
   ]
  },
  {
   "cell_type": "code",
   "execution_count": 16,
   "id": "bc44a694",
   "metadata": {},
   "outputs": [],
   "source": [
    "template = {}"
   ]
  },
  {
   "cell_type": "code",
   "execution_count": 17,
   "id": "ed0fa22d",
   "metadata": {},
   "outputs": [],
   "source": [
    "template['dailync_full'] = '{year:04d}{month:02d}{day:02d}_dm-12km-NERSC-MODEL-TOPAZ4B-ARC-RAN.fv2.0.nc'"
   ]
  },
  {
   "cell_type": "code",
   "execution_count": 18,
   "id": "ee6c4760",
   "metadata": {},
   "outputs": [],
   "source": [
    "withsit_dir = '/nird/projects/nird/NS2993K/Leo/Jiping_full/TP4b_with'"
   ]
  },
  {
   "cell_type": "code",
   "execution_count": 19,
   "id": "53f47e92",
   "metadata": {},
   "outputs": [],
   "source": [
    "nc1 = xr.open_dataset(os.path.join(rootdir, withsit_dir, template['dailync_full'].format(year=2010, month=1, day=1)))"
   ]
  },
  {
   "cell_type": "code",
   "execution_count": 20,
   "id": "2dcac99b",
   "metadata": {},
   "outputs": [],
   "source": [
    "# new area for the new version of TOPAZ\n",
    "lim_jdm = (300, 629)\n",
    "lim_idm = (100, 550)"
   ]
  },
  {
   "cell_type": "code",
   "execution_count": 21,
   "id": "f3c76a6e",
   "metadata": {},
   "outputs": [
    {
     "data": {
      "text/plain": [
       "<matplotlib.collections.QuadMesh at 0x2ac15bf04310>"
      ]
     },
     "execution_count": 21,
     "metadata": {},
     "output_type": "execute_result"
    },
    {
     "data": {
      "image/png": "[encoded data removed]",
      "text/plain": [
       "<Figure size 432x288 with 2 Axes>"
      ]
     },
     "metadata": {
      "needs_background": "light"
     },
     "output_type": "display_data"
    }
   ],
   "source": [
    "# just to check area to consider\n",
    "nc_sel = nc1['sithick'].isel(y=slice(*lim_jdm), x=slice(*lim_idm))\n",
    "nc_sel[0].plot()"
   ]
  },
  {
   "cell_type": "code",
   "execution_count": 22,
   "id": "fba0650b",
   "metadata": {},
   "outputs": [
    {
     "data": {
      "text/html": [
       "<div><svg style=\"position: absolute; width: 0; height: 0; overflow: hidden\">\n",
       "<defs>\n",
       "<symbol id=\"icon-database\" viewBox=\"0 0 32 32\">\n",
       "<path d=\"M16 0c-8.837 0-16 2.239-16 5v4c0 2.761 7.163 5 16 5s16-2.239 16-5v-4c0-2.761-7.163-5-16-5z\"></path>\n",
       "<path d=\"M16 17c-8.837 0-16-2.239-16-5v6c0 2.761 7.163 5 16 5s16-2.239 16-5v-6c0 2.761-7.163 5-16 5z\"></path>\n",
       "<path d=\"M16 26c-8.837 0-16-2.239-16-5v6c0 2.761 7.163 5 16 5s16-2.239 16-5v-6c0 2.761-7.163 5-16 5z\"></path>\n",
       "</symbol>\n",
       "<symbol id=\"icon-file-text2\" viewBox=\"0 0 32 32\">\n",
       "<path d=\"M28.681 7.159c-0.694-0.947-1.662-2.053-2.724-3.116s-2.169-2.030-3.116-2.724c-1.612-1.182-2.393-1.319-2.841-1.319h-15.5c-1.378 0-2.5 1.121-2.5 2.5v27c0 1.378 1.122 2.5 2.5 2.5h23c1.378 0 2.5-1.122 2.5-2.5v-19.5c0-0.448-0.137-1.23-1.319-2.841zM24.543 5.457c0.959 0.959 1.712 1.825 2.268 2.543h-4.811v-4.811c0.718 0.556 1.584 1.309 2.543 2.268zM28 29.5c0 0.271-0.229 0.5-0.5 0.5h-23c-0.271 0-0.5-0.229-0.5-0.5v-27c0-0.271 0.229-0.5 0.5-0.5 0 0 15.499-0 15.5 0v7c0 0.552 0.448 1 1 1h7v19.5z\"></path>\n",
       "<path d=\"M23 26h-14c-0.552 0-1-0.448-1-1s0.448-1 1-1h14c0.552 0 1 0.448 1 1s-0.448 1-1 1z\"></path>\n",
       "<path d=\"M23 22h-14c-0.552 0-1-0.448-1-1s0.448-1 1-1h14c0.552 0 1 0.448 1 1s-0.448 1-1 1z\"></path>\n",
       "<path d=\"M23 18h-14c-0.552 0-1-0.448-1-1s0.448-1 1-1h14c0.552 0 1 0.448 1 1s-0.448 1-1 1z\"></path>\n",
       "</symbol>\n",
       "</defs>\n",
       "</svg>\n",
       "<style>/* CSS stylesheet for displaying xarray objects in jupyterlab.\n",
       " *\n",
       " */\n",
       "\n",
       ":root {\n",
       "  --xr-font-color0: var(--jp-content-font-color0, rgba(0, 0, 0, 1));\n",
       "  --xr-font-color2: var(--jp-content-font-color2, rgba(0, 0, 0, 0.54));\n",
       "  --xr-font-color3: var(--jp-content-font-color3, rgba(0, 0, 0, 0.38));\n",
       "  --xr-border-color: var(--jp-border-color2, #e0e0e0);\n",
       "  --xr-disabled-color: var(--jp-layout-color3, #bdbdbd);\n",
       "  --xr-background-color: var(--jp-layout-color0, white);\n",
       "  --xr-background-color-row-even: var(--jp-layout-color1, white);\n",
       "  --xr-background-color-row-odd: var(--jp-layout-color2, #eeeeee);\n",
       "}\n",
       "\n",
       "html[theme=dark],\n",
       "body.vscode-dark {\n",
       "  --xr-font-color0: rgba(255, 255, 255, 1);\n",
       "  --xr-font-color2: rgba(255, 255, 255, 0.54);\n",
       "  --xr-font-color3: rgba(255, 255, 255, 0.38);\n",
       "  --xr-border-color: #1F1F1F;\n",
       "  --xr-disabled-color: #515151;\n",
       "  --xr-background-color: #111111;\n",
       "  --xr-background-color-row-even: #111111;\n",
       "  --xr-background-color-row-odd: #313131;\n",
       "}\n",
       "\n",
       ".xr-wrap {\n",
       "  display: block !important;\n",
       "  min-width: 300px;\n",
       "  max-width: 700px;\n",
       "}\n",
       "\n",
       ".xr-text-repr-fallback {\n",
       "  /* fallback to plain text repr when CSS is not injected (untrusted notebook) */\n",
       "  display: none;\n",
       "}\n",
       "\n",
       ".xr-header {\n",
       "  padding-top: 6px;\n",
       "  padding-bottom: 6px;\n",
       "  margin-bottom: 4px;\n",
       "  border-bottom: solid 1px var(--xr-border-color);\n",
       "}\n",
       "\n",
       ".xr-header > div,\n",
       ".xr-header > ul {\n",
       "  display: inline;\n",
       "  margin-top: 0;\n",
       "  margin-bottom: 0;\n",
       "}\n",
       "\n",
       ".xr-obj-type,\n",
       ".xr-array-name {\n",
       "  margin-left: 2px;\n",
       "  margin-right: 10px;\n",
       "}\n",
       "\n",
       ".xr-obj-type {\n",
       "  color: var(--xr-font-color2);\n",
       "}\n",
       "\n",
       ".xr-sections {\n",
       "  padding-left: 0 !important;\n",
       "  display: grid;\n",
       "  grid-template-columns: 150px auto auto 1fr 20px 20px;\n",
       "}\n",
       "\n",
       ".xr-section-item {\n",
       "  display: contents;\n",
       "}\n",
       "\n",
       ".xr-section-item input {\n",
       "  display: none;\n",
       "}\n",
       "\n",
       ".xr-section-item input + label {\n",
       "  color: var(--xr-disabled-color);\n",
       "}\n",
       "\n",
       ".xr-section-item input:enabled + label {\n",
       "  cursor: pointer;\n",
       "  color: var(--xr-font-color2);\n",
       "}\n",
       "\n",
       ".xr-section-item input:enabled + label:hover {\n",
       "  color: var(--xr-font-color0);\n",
       "}\n",
       "\n",
       ".xr-section-summary {\n",
       "  grid-column: 1;\n",
       "  color: var(--xr-font-color2);\n",
       "  font-weight: 500;\n",
       "}\n",
       "\n",
       ".xr-section-summary > span {\n",
       "  display: inline-block;\n",
       "  padding-left: 0.5em;\n",
       "}\n",
       "\n",
       ".xr-section-summary-in:disabled + label {\n",
       "  color: var(--xr-font-color2);\n",
       "}\n",
       "\n",
       ".xr-section-summary-in + label:before {\n",
       "  display: inline-block;\n",
       "  content: '►';\n",
       "  font-size: 11px;\n",
       "  width: 15px;\n",
       "  text-align: center;\n",
       "}\n",
       "\n",
       ".xr-section-summary-in:disabled + label:before {\n",
       "  color: var(--xr-disabled-color);\n",
       "}\n",
       "\n",
       ".xr-section-summary-in:checked + label:before {\n",
       "  content: '▼';\n",
       "}\n",
       "\n",
       ".xr-section-summary-in:checked + label > span {\n",
       "  display: none;\n",
       "}\n",
       "\n",
       ".xr-section-summary,\n",
       ".xr-section-inline-details {\n",
       "  padding-top: 4px;\n",
       "  padding-bottom: 4px;\n",
       "}\n",
       "\n",
       ".xr-section-inline-details {\n",
       "  grid-column: 2 / -1;\n",
       "}\n",
       "\n",
       ".xr-section-details {\n",
       "  display: none;\n",
       "  grid-column: 1 / -1;\n",
       "  margin-bottom: 5px;\n",
       "}\n",
       "\n",
       ".xr-section-summary-in:checked ~ .xr-section-details {\n",
       "  display: contents;\n",
       "}\n",
       "\n",
       ".xr-array-wrap {\n",
       "  grid-column: 1 / -1;\n",
       "  display: grid;\n",
       "  grid-template-columns: 20px auto;\n",
       "}\n",
       "\n",
       ".xr-array-wrap > label {\n",
       "  grid-column: 1;\n",
       "  vertical-align: top;\n",
       "}\n",
       "\n",
       ".xr-preview {\n",
       "  color: var(--xr-font-color3);\n",
       "}\n",
       "\n",
       ".xr-array-preview,\n",
       ".xr-array-data {\n",
       "  padding: 0 5px !important;\n",
       "  grid-column: 2;\n",
       "}\n",
       "\n",
       ".xr-array-data,\n",
       ".xr-array-in:checked ~ .xr-array-preview {\n",
       "  display: none;\n",
       "}\n",
       "\n",
       ".xr-array-in:checked ~ .xr-array-data,\n",
       ".xr-array-preview {\n",
       "  display: inline-block;\n",
       "}\n",
       "\n",
       ".xr-dim-list {\n",
       "  display: inline-block !important;\n",
       "  list-style: none;\n",
       "  padding: 0 !important;\n",
       "  margin: 0;\n",
       "}\n",
       "\n",
       ".xr-dim-list li {\n",
       "  display: inline-block;\n",
       "  padding: 0;\n",
       "  margin: 0;\n",
       "}\n",
       "\n",
       ".xr-dim-list:before {\n",
       "  content: '(';\n",
       "}\n",
       "\n",
       ".xr-dim-list:after {\n",
       "  content: ')';\n",
       "}\n",
       "\n",
       ".xr-dim-list li:not(:last-child):after {\n",
       "  content: ',';\n",
       "  padding-right: 5px;\n",
       "}\n",
       "\n",
       ".xr-has-index {\n",
       "  font-weight: bold;\n",
       "}\n",
       "\n",
       ".xr-var-list,\n",
       ".xr-var-item {\n",
       "  display: contents;\n",
       "}\n",
       "\n",
       ".xr-var-item > div,\n",
       ".xr-var-item label,\n",
       ".xr-var-item > .xr-var-name span {\n",
       "  background-color: var(--xr-background-color-row-even);\n",
       "  margin-bottom: 0;\n",
       "}\n",
       "\n",
       ".xr-var-item > .xr-var-name:hover span {\n",
       "  padding-right: 5px;\n",
       "}\n",
       "\n",
       ".xr-var-list > li:nth-child(odd) > div,\n",
       ".xr-var-list > li:nth-child(odd) > label,\n",
       ".xr-var-list > li:nth-child(odd) > .xr-var-name span {\n",
       "  background-color: var(--xr-background-color-row-odd);\n",
       "}\n",
       "\n",
       ".xr-var-name {\n",
       "  grid-column: 1;\n",
       "}\n",
       "\n",
       ".xr-var-dims {\n",
       "  grid-column: 2;\n",
       "}\n",
       "\n",
       ".xr-var-dtype {\n",
       "  grid-column: 3;\n",
       "  text-align: right;\n",
       "  color: var(--xr-font-color2);\n",
       "}\n",
       "\n",
       ".xr-var-preview {\n",
       "  grid-column: 4;\n",
       "}\n",
       "\n",
       ".xr-var-name,\n",
       ".xr-var-dims,\n",
       ".xr-var-dtype,\n",
       ".xr-preview,\n",
       ".xr-attrs dt {\n",
       "  white-space: nowrap;\n",
       "  overflow: hidden;\n",
       "  text-overflow: ellipsis;\n",
       "  padding-right: 10px;\n",
       "}\n",
       "\n",
       ".xr-var-name:hover,\n",
       ".xr-var-dims:hover,\n",
       ".xr-var-dtype:hover,\n",
       ".xr-attrs dt:hover {\n",
       "  overflow: visible;\n",
       "  width: auto;\n",
       "  z-index: 1;\n",
       "}\n",
       "\n",
       ".xr-var-attrs,\n",
       ".xr-var-data {\n",
       "  display: none;\n",
       "  background-color: var(--xr-background-color) !important;\n",
       "  padding-bottom: 5px !important;\n",
       "}\n",
       "\n",
       ".xr-var-attrs-in:checked ~ .xr-var-attrs,\n",
       ".xr-var-data-in:checked ~ .xr-var-data {\n",
       "  display: block;\n",
       "}\n",
       "\n",
       ".xr-var-data > table {\n",
       "  float: right;\n",
       "}\n",
       "\n",
       ".xr-var-name span,\n",
       ".xr-var-data,\n",
       ".xr-attrs {\n",
       "  padding-left: 25px !important;\n",
       "}\n",
       "\n",
       ".xr-attrs,\n",
       ".xr-var-attrs,\n",
       ".xr-var-data {\n",
       "  grid-column: 1 / -1;\n",
       "}\n",
       "\n",
       "dl.xr-attrs {\n",
       "  padding: 0;\n",
       "  margin: 0;\n",
       "  display: grid;\n",
       "  grid-template-columns: 125px auto;\n",
       "}\n",
       "\n",
       ".xr-attrs dt,\n",
       ".xr-attrs dd {\n",
       "  padding: 0;\n",
       "  margin: 0;\n",
       "  float: left;\n",
       "  padding-right: 10px;\n",
       "  width: auto;\n",
       "}\n",
       "\n",
       ".xr-attrs dt {\n",
       "  font-weight: normal;\n",
       "  grid-column: 1;\n",
       "}\n",
       "\n",
       ".xr-attrs dt:hover span {\n",
       "  display: inline-block;\n",
       "  background: var(--xr-background-color);\n",
       "  padding-right: 10px;\n",
       "}\n",
       "\n",
       ".xr-attrs dd {\n",
       "  grid-column: 2;\n",
       "  white-space: pre-wrap;\n",
       "  word-break: break-all;\n",
       "}\n",
       "\n",
       ".xr-icon-database,\n",
       ".xr-icon-file-text2 {\n",
       "  display: inline-block;\n",
       "  vertical-align: middle;\n",
       "  width: 1em;\n",
       "  height: 1.5em !important;\n",
       "  stroke-width: 0;\n",
       "  stroke: currentColor;\n",
       "  fill: currentColor;\n",
       "}\n",
       "</style><pre class='xr-text-repr-fallback'>&lt;xarray.DataArray &#x27;y&#x27; (y: 881)&gt;\n",
       "array([-55.   , -54.875, -54.75 , ...,  54.75 ,  54.875,  55.   ],\n",
       "      dtype=float32)\n",
       "Coordinates:\n",
       "  * y        (y) float32 -55.0 -54.88 -54.75 -54.62 ... 54.62 54.75 54.88 55.0\n",
       "Attributes:\n",
       "    standard_name:  projection_y_coordinate\n",
       "    axis:           Y\n",
       "    units:          100  km</pre><div class='xr-wrap' style='display:none'><div class='xr-header'><div class='xr-obj-type'>xarray.DataArray</div><div class='xr-array-name'>'y'</div><ul class='xr-dim-list'><li><span class='xr-has-index'>y</span>: 881</li></ul></div><ul class='xr-sections'><li class='xr-section-item'><div class='xr-array-wrap'><input id='section-f6f4144c-1ce0-4b84-8acd-ca51d27731c5' class='xr-array-in' type='checkbox' checked><label for='section-f6f4144c-1ce0-4b84-8acd-ca51d27731c5' title='Show/hide data repr'><svg class='icon xr-icon-database'><use xlink:href='#icon-database'></use></svg></label><div class='xr-array-preview xr-preview'><span>-55.0 -54.88 -54.75 -54.62 -54.5 ... 54.5 54.62 54.75 54.88 55.0</span></div><div class='xr-array-data'><pre>array([-55.   , -54.875, -54.75 , ...,  54.75 ,  54.875,  55.   ],\n",
       "      dtype=float32)</pre></div></div></li><li class='xr-section-item'><input id='section-7c25af9b-4fbe-4462-9104-7a30e94fde16' class='xr-section-summary-in' type='checkbox'  checked><label for='section-7c25af9b-4fbe-4462-9104-7a30e94fde16' class='xr-section-summary' >Coordinates: <span>(1)</span></label><div class='xr-section-inline-details'></div><div class='xr-section-details'><ul class='xr-var-list'><li class='xr-var-item'><div class='xr-var-name'><span class='xr-has-index'>y</span></div><div class='xr-var-dims'>(y)</div><div class='xr-var-dtype'>float32</div><div class='xr-var-preview xr-preview'>-55.0 -54.88 -54.75 ... 54.88 55.0</div><input id='attrs-47ac15b1-3fdc-4c4b-bc32-8043842994ae' class='xr-var-attrs-in' type='checkbox' ><label for='attrs-47ac15b1-3fdc-4c4b-bc32-8043842994ae' title='Show/Hide attributes'><svg class='icon xr-icon-file-text2'><use xlink:href='#icon-file-text2'></use></svg></label><input id='data-8afdb6a4-fc5f-4cfc-a5cb-61a18851a3ea' class='xr-var-data-in' type='checkbox'><label for='data-8afdb6a4-fc5f-4cfc-a5cb-61a18851a3ea' title='Show/Hide data repr'><svg class='icon xr-icon-database'><use xlink:href='#icon-database'></use></svg></label><div class='xr-var-attrs'><dl class='xr-attrs'><dt><span>standard_name :</span></dt><dd>projection_y_coordinate</dd><dt><span>axis :</span></dt><dd>Y</dd><dt><span>units :</span></dt><dd>100  km</dd></dl></div><div class='xr-var-data'><pre>array([-55.   , -54.875, -54.75 , ...,  54.75 ,  54.875,  55.   ],\n",
       "      dtype=float32)</pre></div></li></ul></div></li><li class='xr-section-item'><input id='section-1aa6feb2-a917-4ec3-b839-07f70b61721d' class='xr-section-summary-in' type='checkbox'  checked><label for='section-1aa6feb2-a917-4ec3-b839-07f70b61721d' class='xr-section-summary' >Attributes: <span>(3)</span></label><div class='xr-section-inline-details'></div><div class='xr-section-details'><dl class='xr-attrs'><dt><span>standard_name :</span></dt><dd>projection_y_coordinate</dd><dt><span>axis :</span></dt><dd>Y</dd><dt><span>units :</span></dt><dd>100  km</dd></dl></div></li></ul></div></div>"
      ],
      "text/plain": [
       "<xarray.DataArray 'y' (y: 881)>\n",
       "array([-55.   , -54.875, -54.75 , ...,  54.75 ,  54.875,  55.   ],\n",
       "      dtype=float32)\n",
       "Coordinates:\n",
       "  * y        (y) float32 -55.0 -54.88 -54.75 -54.62 ... 54.62 54.75 54.88 55.0\n",
       "Attributes:\n",
       "    standard_name:  projection_y_coordinate\n",
       "    axis:           Y\n",
       "    units:          100  km"
      ]
     },
     "execution_count": 22,
     "metadata": {},
     "output_type": "execute_result"
    }
   ],
   "source": [
    "nc1['latitude'].y"
   ]
  },
  {
   "cell_type": "code",
   "execution_count": 23,
   "id": "cf185928",
   "metadata": {},
   "outputs": [],
   "source": [
    "tlat = nc1['latitude'].isel(y=slice(*lim_jdm), x=slice(*lim_idm))"
   ]
  },
  {
   "cell_type": "code",
   "execution_count": 24,
   "id": "a175c80d",
   "metadata": {},
   "outputs": [],
   "source": [
    "tlon = nc1['longitude'].isel(y=slice(*lim_jdm), x=slice(*lim_idm))"
   ]
  },
  {
   "cell_type": "markdown",
   "id": "a606f9f5",
   "metadata": {},
   "source": [
    "## Determine closest point of ERA5 on TOPAZ grid"
   ]
  },
  {
   "cell_type": "code",
   "execution_count": 25,
   "id": "45182c07",
   "metadata": {},
   "outputs": [],
   "source": [
    "from src.utils import long_trans"
   ]
  },
  {
   "cell_type": "code",
   "execution_count": 26,
   "id": "86764337",
   "metadata": {},
   "outputs": [],
   "source": [
    "def find_nearest(array, value):\n",
    "    array = np.asarray(array)\n",
    "    idx = (np.abs(array - value)).argmin()\n",
    "    return array[idx], idx"
   ]
  },
  {
   "cell_type": "code",
   "execution_count": 27,
   "id": "70296333",
   "metadata": {},
   "outputs": [
    {
     "name": "stdout",
     "output_type": "stream",
     "text": [
      "Lon before:  -100.5391845703125\n",
      "Lon after:  259.4608154296875\n"
     ]
    }
   ],
   "source": [
    "print(f'Lon before:  {tlon.data[0,0]}')\n",
    "print(f'Lon after:  {long_trans.l180_to_360(tlon.data[0,0])}')"
   ]
  },
  {
   "cell_type": "markdown",
   "id": "07c2c0d7",
   "metadata": {},
   "source": [
    "-----"
   ]
  },
  {
   "cell_type": "code",
   "execution_count": 28,
   "id": "ff3678e8",
   "metadata": {},
   "outputs": [],
   "source": [
    "tlat1d = tlat.stack(z=('y','x'))"
   ]
  },
  {
   "cell_type": "code",
   "execution_count": 29,
   "id": "f07cf370",
   "metadata": {},
   "outputs": [],
   "source": [
    "tlon1d = tlon.stack(z=('y','x'))"
   ]
  },
  {
   "cell_type": "code",
   "execution_count": 30,
   "id": "96fa88ce",
   "metadata": {},
   "outputs": [],
   "source": [
    "tlon1d_180 = long_trans.l180_to_360(tlon1d.data)"
   ]
  },
  {
   "cell_type": "code",
   "execution_count": 31,
   "id": "35db3bb4",
   "metadata": {},
   "outputs": [
    {
     "data": {
      "text/plain": [
       "array([62.743996, 62.831387, 62.91867 , ..., 56.490562, 56.409084,\n",
       "       56.327522], dtype=float32)"
      ]
     },
     "execution_count": 31,
     "metadata": {},
     "output_type": "execute_result"
    }
   ],
   "source": [
    "tlat1d.data"
   ]
  },
  {
   "cell_type": "code",
   "execution_count": 32,
   "id": "675db14b",
   "metadata": {},
   "outputs": [],
   "source": [
    "close_lat = [find_nearest(nc['latitude'].data, lat) for lat in tlat1d.data]"
   ]
  },
  {
   "cell_type": "code",
   "execution_count": 33,
   "id": "b99c26c0",
   "metadata": {},
   "outputs": [],
   "source": [
    "close_lon = [find_nearest(nc['longitude'].data, lon) for lon in tlon1d_180.data]"
   ]
  },
  {
   "cell_type": "code",
   "execution_count": null,
   "id": "b53b8948",
   "metadata": {},
   "outputs": [],
   "source": []
  },
  {
   "cell_type": "code",
   "execution_count": 34,
   "id": "ccf203ad",
   "metadata": {},
   "outputs": [],
   "source": [
    "lat_idx = [item[1] for item in close_lat]"
   ]
  },
  {
   "cell_type": "code",
   "execution_count": 35,
   "id": "11616c86",
   "metadata": {},
   "outputs": [],
   "source": [
    "lat_nc = [item[0] for item in close_lat]"
   ]
  },
  {
   "cell_type": "code",
   "execution_count": 36,
   "id": "6145e80b",
   "metadata": {},
   "outputs": [],
   "source": [
    "lon_idx = [item[1] for item in close_lon]"
   ]
  },
  {
   "cell_type": "code",
   "execution_count": 37,
   "id": "09a02b60",
   "metadata": {},
   "outputs": [],
   "source": [
    "lon_nc = [item[0] for item in close_lon]"
   ]
  },
  {
   "cell_type": "markdown",
   "id": "1e4b5981",
   "metadata": {},
   "source": [
    "# retrieve points for each time step (6h)\n",
    "looping on yearly .nc\n",
    "for 2010-2017 at first"
   ]
  },
  {
   "cell_type": "code",
   "execution_count": 38,
   "id": "f80100e9",
   "metadata": {},
   "outputs": [
    {
     "data": {
      "text/plain": [
       "148050"
      ]
     },
     "execution_count": 38,
     "metadata": {},
     "output_type": "execute_result"
    }
   ],
   "source": [
    "len(lat_idx)"
   ]
  },
  {
   "cell_type": "code",
   "execution_count": 39,
   "id": "df8e6568",
   "metadata": {},
   "outputs": [],
   "source": [
    "# converting to numpy and get the indexes is the most efficient and fast"
   ]
  },
  {
   "cell_type": "code",
   "execution_count": 40,
   "id": "a18a422e",
   "metadata": {},
   "outputs": [],
   "source": [
    "ds = nc[var].to_numpy()"
   ]
  },
  {
   "cell_type": "code",
   "execution_count": 41,
   "id": "c3741233",
   "metadata": {},
   "outputs": [],
   "source": [
    "ds_sel = ds[:, lat_idx, lon_idx]"
   ]
  },
  {
   "cell_type": "code",
   "execution_count": 42,
   "id": "07b07206",
   "metadata": {},
   "outputs": [],
   "source": [
    "ds3 = ds_sel.reshape(ds_sel.shape[0], 329, 450)"
   ]
  },
  {
   "cell_type": "markdown",
   "id": "7af53cc7",
   "metadata": {},
   "source": [
    "-----"
   ]
  },
  {
   "cell_type": "markdown",
   "id": "07f451ee",
   "metadata": {},
   "source": [
    "# save to pickle file"
   ]
  },
  {
   "cell_type": "code",
   "execution_count": 43,
   "id": "21573ef7",
   "metadata": {},
   "outputs": [],
   "source": [
    "dttm = pd.to_datetime(nc['time'].to_numpy())"
   ]
  },
  {
   "cell_type": "markdown",
   "id": "9dad8dc2",
   "metadata": {},
   "source": [
    "-----"
   ]
  },
  {
   "cell_type": "code",
   "execution_count": 44,
   "id": "3bdcedf9",
   "metadata": {},
   "outputs": [
    {
     "data": {
      "text/plain": [
       "'/nird/projects/nird/NS2993K/Leo/forcings_full'"
      ]
     },
     "execution_count": 44,
     "metadata": {},
     "output_type": "execute_result"
    }
   ],
   "source": [
    "pkldir"
   ]
  },
  {
   "cell_type": "code",
   "execution_count": 45,
   "id": "c93da509",
   "metadata": {},
   "outputs": [],
   "source": [
    "nc['time'];"
   ]
  },
  {
   "cell_type": "markdown",
   "id": "62e72cd6",
   "metadata": {},
   "source": [
    "----------"
   ]
  },
  {
   "cell_type": "code",
   "execution_count": 46,
   "id": "190845d3",
   "metadata": {},
   "outputs": [],
   "source": [
    "to_save = xr.Dataset(data_vars={f'{var}':(['time','y','x'], ds3, \n",
    "                                               {'name':nc[f'{var}'].name, \n",
    "                                                'long_name':nc[f'{var}'].long_name,\n",
    "                                                'units':nc[f'{var}'].units,\n",
    "                                                'jdm':lim_jdm,\n",
    "                                                'idm':lim_idm}),}, \n",
    "                      coords=dict(time=nc['time'],\n",
    "                                longitude=tlon,\n",
    "                                latitude=tlat),\n",
    "                      attrs=dict(\n",
    "                          description=f'Truncated ERA5 forcing fields on period {years[0]}-{years[-1]} over the Arctic',\n",
    "                          author='Leo Edel, Nersc',\n",
    "                          project='TARDIS',\n",
    "                          date=f'{date.today()}')\n",
    "                      )"
   ]
  },
  {
   "cell_type": "raw",
   "id": "a079c694",
   "metadata": {},
   "source": [
    "to_save"
   ]
  },
  {
   "cell_type": "code",
   "execution_count": 48,
   "id": "e65cef1a",
   "metadata": {},
   "outputs": [],
   "source": [
    "# save era5 selection to .nc\n",
    "\n",
    "filename_nc = os.path.join(pkldir,f'{var}_{years[0]}_{years[-1]}_ERA5_coloc_TOPAZ.nc')\n",
    "# filename_nc = os.path.join(pkldir,f'{var}_{idx_yr}_ERA5_coloc_TOPAZ.nc')\n",
    "\n",
    "to_save.to_netcdf(filename_nc)"
   ]
  },
  {
   "cell_type": "markdown",
   "id": "a700ce82",
   "metadata": {},
   "source": [
    "----------"
   ]
  },
  {
   "cell_type": "markdown",
   "id": "19fe19c6",
   "metadata": {},
   "source": [
    "----------"
   ]
  },
  {
   "cell_type": "markdown",
   "id": "8ef1ab42",
   "metadata": {},
   "source": [
    "# Load .nc"
   ]
  },
  {
   "cell_type": "code",
   "execution_count": null,
   "id": "bd168173",
   "metadata": {},
   "outputs": [],
   "source": [
    "# filename_nc = os.path.join(pkldir,f'{var}_{years[0]}_{years[-1]}.nc')"
   ]
  },
  {
   "cell_type": "code",
   "execution_count": null,
   "id": "09222b8d",
   "metadata": {},
   "outputs": [],
   "source": [
    "# ncl = xr.open_mfdataset(filename_nc, combine='nested', concat_dim='time')\n"
   ]
  },
  {
   "cell_type": "code",
   "execution_count": null,
   "id": "74d0ba82",
   "metadata": {},
   "outputs": [],
   "source": [
    "# ncl[var][0].plot()"
   ]
  }
 ],
 "metadata": {
  "kernelspec": {
   "display_name": "Python 3 (ipykernel)",
   "language": "python",
   "name": "python3"
  },
  "language_info": {
   "codemirror_mode": {
    "name": "ipython",
    "version": 3
   },
   "file_extension": ".py",
   "mimetype": "text/x-python",
   "name": "python",
   "nbconvert_exporter": "python",
   "pygments_lexer": "ipython3",
   "version": "3.9.12"
  }
 },
 "nbformat": 4,
 "nbformat_minor": 5
}
