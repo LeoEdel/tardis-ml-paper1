{
 "cells": [
  {
   "cell_type": "markdown",
   "id": "8ad5d0e4",
   "metadata": {},
   "source": [
    "# Explore ADCP Transdrift"
   ]
  },
  {
   "cell_type": "code",
   "execution_count": 1,
   "id": "23fff82d",
   "metadata": {},
   "outputs": [],
   "source": [
    "# Read .txt each year\n",
    "# Clean\n",
    "#      remove when not enough data (less than 1/2 ?)\n",
    "# ... \n",
    "# Convert to SIT (draft*1.1xx)\n",
    "# Daily average as netcdf"
   ]
  },
  {
   "cell_type": "markdown",
   "id": "8a03f4eb",
   "metadata": {},
   "source": [
    "## Read .txt yearly file"
   ]
  },
  {
   "cell_type": "code",
   "execution_count": 2,
   "id": "2cbc2fb7",
   "metadata": {},
   "outputs": [],
   "source": [
    "import scipy.io\n",
    "import h5py\n",
    "from glob import glob\n",
    "import numpy as np\n",
    "import xarray as xr\n",
    "import datetime\n",
    "import re\n",
    "import matplotlib.pyplot as plt\n",
    "\n",
    "from src.utils import save_name"
   ]
  },
  {
   "cell_type": "code",
   "execution_count": 9,
   "id": "692e7bff",
   "metadata": {},
   "outputs": [],
   "source": [
    "name_buoy = 'Anabar'\n",
    "# 'Khatanga'\n",
    "# 'Lena'\n",
    "# 'OuterShelf'\n",
    "\n",
    "# globglob the file\n",
    "idir = f'/scratch/project_465000269/edelleo1/Leo/SIT_observations/ADCP_Transdrift/datasets/'\n",
    "ifile = glob(f'{idir}*{name_buoy}*.tab')[0]"
   ]
  },
  {
   "cell_type": "code",
   "execution_count": 10,
   "id": "5f052a33",
   "metadata": {},
   "outputs": [
    {
     "data": {
      "text/plain": [
       "'/scratch/project_465000269/edelleo1/Leo/SIT_observations/ADCP_Transdrift/datasets/Anabar-09_sea-ice-draft.tab'"
      ]
     },
     "execution_count": 10,
     "metadata": {},
     "output_type": "execute_result"
    }
   ],
   "source": [
    "ifile"
   ]
  },
  {
   "cell_type": "code",
   "execution_count": 406,
   "id": "0207748f",
   "metadata": {},
   "outputs": [],
   "source": [
    "# need to identify if 5 or 10 min ? for later"
   ]
  },
  {
   "cell_type": "code",
   "execution_count": 11,
   "id": "150f70f6",
   "metadata": {},
   "outputs": [],
   "source": [
    "with open(f'{ifile}','r') as f:\n",
    "    lines = f.readlines()\n",
    "\n",
    "header_var = ['Date/Time\\tLatitude\\tLongitude\\tSea ice draft [m]\\n']\n",
    "\n",
    "# data start at this line\n",
    "idx_start = np.where(np.array([s in header_var for s in lines]))[0][0]+1"
   ]
  },
  {
   "cell_type": "code",
   "execution_count": 35,
   "id": "b9a3eb6c",
   "metadata": {},
   "outputs": [],
   "source": [
    "header = lines[:idx_start]"
   ]
  },
  {
   "cell_type": "code",
   "execution_count": 36,
   "id": "6ec2d4ad",
   "metadata": {
    "collapsed": true
   },
   "outputs": [
    {
     "data": {
      "text/plain": [
       "['/* DATA DESCRIPTION:\\n',\n",
       " 'Citation:\\tBelter, Hans Jakob; Janout, Markus A; Hölemann, Jens A; Krumpen, Thomas (2020): Daily mean sea ice draft from moored upward-looking Acoustic Doppler Current Profiler (ADCP) at site Anabar-0910 in the Laptev Sea. PANGAEA, https://doi.org/10.1594/PANGAEA.912908, \\n',\n",
       " '\\tIn: Belter, HJ et al. (2020): Daily mean sea ice draft from moored upward-looking Acoustic Doppler Current Profilers (ADCPs) in the Laptev Sea from 2003 to 2016. PANGAEA, https://doi.org/10.1594/PANGAEA.912927\\n',\n",
       " 'Keyword(s):\\tADCP; Laptev Sea; sea ice draft\\n',\n",
       " 'Related to:\\tBelter, Hans Jakob; Krumpen, Thomas; Hendricks, Stefan; Hölemann, Jens A; Janout, Markus A; Ricker, Robert; Haas, Christian (2020): Satellite-based sea ice thickness changes in the Laptev Sea from 2002 to 2017: comparison to mooring observations. The Cryosphere, 14(7), 2189-2203, https://doi.org/10.5194/tc-14-2189-2020\\n',\n",
       " '\\tBelter, Hans Jakob; Krumpen, Thomas; Janout, Markus A; Ross, E; Haas, Christian (2021): An Adaptive Approach to Derive Sea Ice Draft from Upward-Looking Acoustic Doppler Current Profilers (ADCPs), Validated by Upward-Looking Sonar (ULS) Data. Remote Sensing, 13(21), 4335, https://doi.org/10.3390/rs13214335\\n',\n",
       " 'Project(s):\\tLaptev Sea System (LSS) (URI: https://www.transdrift.info)\\n',\n",
       " '\\tSea Ice Physics @ AWI (AWI_SeaIce) (URI: https://www.awi.de/en/science/climate-sciences/sea-ice-physics.html)\\n',\n",
       " '\\tSystem Laptev-Sea: Transdrift (TRANSDRIFT) (URI: https://www.transdrift.info)\\n',\n",
       " 'Funding:\\tFederal Ministry of Education and Research (BMBF) (URI: https://www.bmbf.de/), grant/award no. 03G0833B: Verbundprojekt: WTZ RUS: System Laptev-See: TRANSDRIFT (URI: https://foerderportal.bund.de/foekat/jsp/SucheAction.do?actionMode=view&fkz=03G0833B)\\n',\n",
       " 'Coverage:\\tLATITUDE: 74.330000 * LONGITUDE: 128.010000\\n',\n",
       " '\\tDATE/TIME START: 2009-09-18T00:00:00 * DATE/TIME END: 2010-08-24T00:00:00\\n',\n",
       " 'Event(s):\\tAnabar-09 (Anabar-0910) * LATITUDE: 74.330000 * LONGITUDE: 128.010000 * DATE/TIME START: 2009-09-16T00:00:00 * DATE/TIME END: 2010-09-10T00:00:00 * LOCATION: Laptev Sea * CAMPAIGN: Transdrift-XVI * BASIS: Yakov Smirnitskiy * METHOD/DEVICE: Mooring (long time) (MOORY)\\n',\n",
       " 'Comment:\\tADCP serial number: 9271\\n',\n",
       " 'Parameter(s):\\tDATE/TIME (Date/Time) * GEOCODE * PI: Belter, Hans Jakob (https://orcid.org/0000-0001-9383-911X, jakob.belter@awi.de, http://www.awi.de/en/about-us/organisation/staff/jakob-belter.html) * COMMENT: Date\\n',\n",
       " '\\tLatitude of event (Latitude)\\n',\n",
       " '\\tLongitude of event (Longitude)\\n',\n",
       " '\\tSea ice draft [m] (Sea ice draft) * PI: Belter, Hans Jakob (https://orcid.org/0000-0001-9383-911X, jakob.belter@awi.de, http://www.awi.de/en/about-us/organisation/staff/jakob-belter.html) * METHOD/DEVICE: Upward looking Acoustic Doppler Current Profiler * COMMENT: Daily mean value\\n',\n",
       " 'License:\\tCreative Commons Attribution 4.0 International (CC-BY-4.0)\\n',\n",
       " 'Size:\\t236 data points\\n',\n",
       " '*/\\n',\n",
       " 'Date/Time\\tLatitude\\tLongitude\\tSea ice draft [m]\\n']"
      ]
     },
     "execution_count": 36,
     "metadata": {},
     "output_type": "execute_result"
    }
   ],
   "source": [
    "header"
   ]
  },
  {
   "cell_type": "code",
   "execution_count": 48,
   "id": "87e58141",
   "metadata": {},
   "outputs": [],
   "source": [
    "header_var = ['date', 'lat', 'lon','draft']"
   ]
  },
  {
   "cell_type": "code",
   "execution_count": 37,
   "id": "4f07b421",
   "metadata": {},
   "outputs": [],
   "source": [
    "data_str = lines[idx_start:]"
   ]
  },
  {
   "cell_type": "code",
   "execution_count": 38,
   "id": "83f9aa96",
   "metadata": {},
   "outputs": [
    {
     "data": {
      "text/plain": [
       "['2009-09-18\\t74.3300\\t128.0100\\t0.2448386\\n',\n",
       " '2009-09-19\\t74.3300\\t128.0100\\t0.1933409\\n',\n",
       " '2009-09-21\\t74.3300\\t128.0100\\t0.2286825\\n',\n",
       " '2009-10-02\\t74.3300\\t128.0100\\t0.2583648\\n',\n",
       " '2009-10-08\\t74.3300\\t128.0100\\t0.2678643\\n',\n",
       " '2009-10-09\\t74.3300\\t128.0100\\t0.1898610\\n',\n",
       " '2009-10-13\\t74.3300\\t128.0100\\t0.2565207\\n',\n",
       " '2009-10-24\\t74.3300\\t128.0100\\t0.2320332\\n',\n",
       " '2009-10-25\\t74.3300\\t128.0100\\t0.3069651\\n',\n",
       " '2009-10-26\\t74.3300\\t128.0100\\t0.3088551\\n',\n",
       " '2009-10-27\\t74.3300\\t128.0100\\t0.2833305\\n',\n",
       " '2009-11-01\\t74.3300\\t128.0100\\t0.1954376\\n',\n",
       " '2009-11-02\\t74.3300\\t128.0100\\t0.2682050\\n',\n",
       " '2009-11-03\\t74.3300\\t128.0100\\t0.3553128\\n',\n",
       " '2009-11-16\\t74.3300\\t128.0100\\t0.7167440\\n',\n",
       " '2009-11-17\\t74.3300\\t128.0100\\t0.8008263\\n',\n",
       " '2009-11-18\\t74.3300\\t128.0100\\t1.6717710\\n',\n",
       " '2009-11-19\\t74.3300\\t128.0100\\t1.2815680\\n',\n",
       " '2009-11-20\\t74.3300\\t128.0100\\t2.2217730\\n',\n",
       " '2009-11-21\\t74.3300\\t128.0100\\t1.0810450\\n',\n",
       " '2009-11-22\\t74.3300\\t128.0100\\t2.5923110\\n',\n",
       " '2009-11-23\\t74.3300\\t128.0100\\t0.8323854\\n',\n",
       " '2009-11-24\\t74.3300\\t128.0100\\t2.1179350\\n',\n",
       " '2009-11-25\\t74.3300\\t128.0100\\t0.3104048\\n',\n",
       " '2009-11-26\\t74.3300\\t128.0100\\t2.1515200\\n',\n",
       " '2009-11-27\\t74.3300\\t128.0100\\t1.3575690\\n',\n",
       " '2009-11-28\\t74.3300\\t128.0100\\t4.1564210\\n',\n",
       " '2009-11-29\\t74.3300\\t128.0100\\t2.3167500\\n',\n",
       " '2009-11-30\\t74.3300\\t128.0100\\t1.1580770\\n',\n",
       " '2009-12-01\\t74.3300\\t128.0100\\t1.5172450\\n',\n",
       " '2009-12-02\\t74.3300\\t128.0100\\t1.2827020\\n',\n",
       " '2009-12-03\\t74.3300\\t128.0100\\t0.9765346\\n',\n",
       " '2009-12-04\\t74.3300\\t128.0100\\t0.9286763\\n',\n",
       " '2009-12-05\\t74.3300\\t128.0100\\t1.0100300\\n',\n",
       " '2009-12-06\\t74.3300\\t128.0100\\t1.1154020\\n',\n",
       " '2009-12-07\\t74.3300\\t128.0100\\t0.6965243\\n',\n",
       " '2009-12-08\\t74.3300\\t128.0100\\t0.6767375\\n',\n",
       " '2009-12-09\\t74.3300\\t128.0100\\t0.7847220\\n',\n",
       " '2009-12-10\\t74.3300\\t128.0100\\t0.7029230\\n',\n",
       " '2009-12-11\\t74.3300\\t128.0100\\t0.7468529\\n',\n",
       " '2009-12-12\\t74.3300\\t128.0100\\t0.9643388\\n',\n",
       " '2009-12-13\\t74.3300\\t128.0100\\t0.8834691\\n',\n",
       " '2009-12-14\\t74.3300\\t128.0100\\t0.6983129\\n',\n",
       " '2009-12-15\\t74.3300\\t128.0100\\t1.0761680\\n',\n",
       " '2009-12-16\\t74.3300\\t128.0100\\t1.1525090\\n',\n",
       " '2009-12-17\\t74.3300\\t128.0100\\t0.5674232\\n',\n",
       " '2009-12-18\\t74.3300\\t128.0100\\t0.6873416\\n',\n",
       " '2009-12-19\\t74.3300\\t128.0100\\t1.7970160\\n',\n",
       " '2009-12-20\\t74.3300\\t128.0100\\t1.2498220\\n',\n",
       " '2009-12-21\\t74.3300\\t128.0100\\t1.9305820\\n',\n",
       " '2009-12-22\\t74.3300\\t128.0100\\t2.4242100\\n',\n",
       " '2009-12-23\\t74.3300\\t128.0100\\t3.1035220\\n',\n",
       " '2009-12-24\\t74.3300\\t128.0100\\t1.9415280\\n',\n",
       " '2009-12-25\\t74.3300\\t128.0100\\t1.8389320\\n',\n",
       " '2009-12-26\\t74.3300\\t128.0100\\t2.6221160\\n',\n",
       " '2009-12-27\\t74.3300\\t128.0100\\t2.1191850\\n',\n",
       " '2009-12-28\\t74.3300\\t128.0100\\t2.1073350\\n',\n",
       " '2009-12-29\\t74.3300\\t128.0100\\t1.9460020\\n',\n",
       " '2009-12-30\\t74.3300\\t128.0100\\t1.6665480\\n',\n",
       " '2009-12-31\\t74.3300\\t128.0100\\t3.4402200\\n',\n",
       " '2010-01-01\\t74.3300\\t128.0100\\t4.1428600\\n',\n",
       " '2010-01-02\\t74.3300\\t128.0100\\t2.3084800\\n',\n",
       " '2010-01-03\\t74.3300\\t128.0100\\t1.9137630\\n',\n",
       " '2010-01-04\\t74.3300\\t128.0100\\t1.1076150\\n',\n",
       " '2010-01-05\\t74.3300\\t128.0100\\t1.0868940\\n',\n",
       " '2010-01-06\\t74.3300\\t128.0100\\t1.2124180\\n',\n",
       " '2010-01-07\\t74.3300\\t128.0100\\t0.9442272\\n',\n",
       " '2010-01-08\\t74.3300\\t128.0100\\t2.6446060\\n',\n",
       " '2010-01-09\\t74.3300\\t128.0100\\t2.4030610\\n',\n",
       " '2010-01-10\\t74.3300\\t128.0100\\t2.0932630\\n',\n",
       " '2010-01-11\\t74.3300\\t128.0100\\t0.7419652\\n',\n",
       " '2010-01-12\\t74.3300\\t128.0100\\t0.8263518\\n',\n",
       " '2010-01-13\\t74.3300\\t128.0100\\t2.0723810\\n',\n",
       " '2010-01-14\\t74.3300\\t128.0100\\t1.0192020\\n',\n",
       " '2010-01-15\\t74.3300\\t128.0100\\t1.1661040\\n',\n",
       " '2010-01-16\\t74.3300\\t128.0100\\t0.5967984\\n',\n",
       " '2010-01-17\\t74.3300\\t128.0100\\t1.6761800\\n',\n",
       " '2010-01-18\\t74.3300\\t128.0100\\t1.1508730\\n',\n",
       " '2010-01-19\\t74.3300\\t128.0100\\t0.9329511\\n',\n",
       " '2010-01-20\\t74.3300\\t128.0100\\t4.6947080\\n',\n",
       " '2010-01-21\\t74.3300\\t128.0100\\t4.0492490\\n',\n",
       " '2010-01-22\\t74.3300\\t128.0100\\t2.3641670\\n',\n",
       " '2010-01-23\\t74.3300\\t128.0100\\t2.5669530\\n',\n",
       " '2010-01-24\\t74.3300\\t128.0100\\t1.4094830\\n',\n",
       " '2010-01-25\\t74.3300\\t128.0100\\t1.0079140\\n',\n",
       " '2010-01-26\\t74.3300\\t128.0100\\t3.1617700\\n',\n",
       " '2010-01-27\\t74.3300\\t128.0100\\t2.7922710\\n',\n",
       " '2010-01-28\\t74.3300\\t128.0100\\t2.2134260\\n',\n",
       " '2010-01-29\\t74.3300\\t128.0100\\t0.3444222\\n',\n",
       " '2010-01-30\\t74.3300\\t128.0100\\t0.5207509\\n',\n",
       " '2010-01-31\\t74.3300\\t128.0100\\t0.9361688\\n',\n",
       " '2010-02-01\\t74.3300\\t128.0100\\t1.1917390\\n',\n",
       " '2010-02-02\\t74.3300\\t128.0100\\t1.7227220\\n',\n",
       " '2010-02-03\\t74.3300\\t128.0100\\t0.9592517\\n',\n",
       " '2010-02-04\\t74.3300\\t128.0100\\t1.0549720\\n',\n",
       " '2010-02-05\\t74.3300\\t128.0100\\t2.4655850\\n',\n",
       " '2010-02-06\\t74.3300\\t128.0100\\t1.9845830\\n',\n",
       " '2010-02-07\\t74.3300\\t128.0100\\t1.7641600\\n',\n",
       " '2010-02-08\\t74.3300\\t128.0100\\t1.9585720\\n',\n",
       " '2010-02-09\\t74.3300\\t128.0100\\t2.5351280\\n',\n",
       " '2010-02-10\\t74.3300\\t128.0100\\t2.8029400\\n',\n",
       " '2010-02-11\\t74.3300\\t128.0100\\t3.0790500\\n',\n",
       " '2010-02-12\\t74.3300\\t128.0100\\t2.9494370\\n',\n",
       " '2010-02-13\\t74.3300\\t128.0100\\t3.7626170\\n',\n",
       " '2010-02-14\\t74.3300\\t128.0100\\t1.9356660\\n',\n",
       " '2010-02-15\\t74.3300\\t128.0100\\t2.8345850\\n',\n",
       " '2010-02-16\\t74.3300\\t128.0100\\t1.2487140\\n',\n",
       " '2010-02-17\\t74.3300\\t128.0100\\t1.3244260\\n',\n",
       " '2010-02-18\\t74.3300\\t128.0100\\t1.5726770\\n',\n",
       " '2010-02-19\\t74.3300\\t128.0100\\t1.2100610\\n',\n",
       " '2010-02-20\\t74.3300\\t128.0100\\t1.8645610\\n',\n",
       " '2010-02-21\\t74.3300\\t128.0100\\t0.5388645\\n',\n",
       " '2010-02-22\\t74.3300\\t128.0100\\t0.3767284\\n',\n",
       " '2010-02-23\\t74.3300\\t128.0100\\t0.2964495\\n',\n",
       " '2010-02-24\\t74.3300\\t128.0100\\t0.2946025\\n',\n",
       " '2010-02-25\\t74.3300\\t128.0100\\t0.3538670\\n',\n",
       " '2010-02-26\\t74.3300\\t128.0100\\t0.4711382\\n',\n",
       " '2010-02-27\\t74.3300\\t128.0100\\t0.4751588\\n',\n",
       " '2010-02-28\\t74.3300\\t128.0100\\t0.5439902\\n',\n",
       " '2010-03-01\\t74.3300\\t128.0100\\t0.5311607\\n',\n",
       " '2010-03-02\\t74.3300\\t128.0100\\t0.5345126\\n',\n",
       " '2010-03-03\\t74.3300\\t128.0100\\t0.4966625\\n',\n",
       " '2010-03-04\\t74.3300\\t128.0100\\t0.7614877\\n',\n",
       " '2010-03-05\\t74.3300\\t128.0100\\t0.8100936\\n',\n",
       " '2010-03-06\\t74.3300\\t128.0100\\t1.5674200\\n',\n",
       " '2010-03-07\\t74.3300\\t128.0100\\t1.6703900\\n',\n",
       " '2010-03-08\\t74.3300\\t128.0100\\t1.2670160\\n',\n",
       " '2010-03-09\\t74.3300\\t128.0100\\t0.8783376\\n',\n",
       " '2010-03-10\\t74.3300\\t128.0100\\t1.0836240\\n',\n",
       " '2010-03-11\\t74.3300\\t128.0100\\t1.1342300\\n',\n",
       " '2010-03-12\\t74.3300\\t128.0100\\t1.0126510\\n',\n",
       " '2010-03-13\\t74.3300\\t128.0100\\t2.1333720\\n',\n",
       " '2010-03-14\\t74.3300\\t128.0100\\t1.0902560\\n',\n",
       " '2010-03-15\\t74.3300\\t128.0100\\t1.4500510\\n',\n",
       " '2010-03-16\\t74.3300\\t128.0100\\t1.5462550\\n',\n",
       " '2010-03-17\\t74.3300\\t128.0100\\t2.3430020\\n',\n",
       " '2010-03-18\\t74.3300\\t128.0100\\t1.2775080\\n',\n",
       " '2010-03-19\\t74.3300\\t128.0100\\t2.0953000\\n',\n",
       " '2010-03-20\\t74.3300\\t128.0100\\t1.2263980\\n',\n",
       " '2010-03-21\\t74.3300\\t128.0100\\t1.3259960\\n',\n",
       " '2010-03-22\\t74.3300\\t128.0100\\t0.9173145\\n',\n",
       " '2010-03-23\\t74.3300\\t128.0100\\t0.1316288\\n',\n",
       " '2010-03-24\\t74.3300\\t128.0100\\t0.1932613\\n',\n",
       " '2010-03-25\\t74.3300\\t128.0100\\t0.2983128\\n',\n",
       " '2010-03-26\\t74.3300\\t128.0100\\t0.4535707\\n',\n",
       " '2010-03-27\\t74.3300\\t128.0100\\t0.8784763\\n',\n",
       " '2010-03-28\\t74.3300\\t128.0100\\t0.3170621\\n',\n",
       " '2010-03-29\\t74.3300\\t128.0100\\t0.2823610\\n',\n",
       " '2010-03-30\\t74.3300\\t128.0100\\t0.2850158\\n',\n",
       " '2010-03-31\\t74.3300\\t128.0100\\t0.3269405\\n',\n",
       " '2010-04-01\\t74.3300\\t128.0100\\t0.4433098\\n',\n",
       " '2010-04-02\\t74.3300\\t128.0100\\t0.5195841\\n',\n",
       " '2010-04-03\\t74.3300\\t128.0100\\t0.3876406\\n',\n",
       " '2010-04-04\\t74.3300\\t128.0100\\t0.3199932\\n',\n",
       " '2010-04-05\\t74.3300\\t128.0100\\t0.2379717\\n',\n",
       " '2010-04-06\\t74.3300\\t128.0100\\t0.3580924\\n',\n",
       " '2010-04-07\\t74.3300\\t128.0100\\t0.4217875\\n',\n",
       " '2010-04-08\\t74.3300\\t128.0100\\t0.2009727\\n',\n",
       " '2010-04-09\\t74.3300\\t128.0100\\t0.6435338\\n',\n",
       " '2010-04-10\\t74.3300\\t128.0100\\t0.7883940\\n',\n",
       " '2010-04-11\\t74.3300\\t128.0100\\t0.5120216\\n',\n",
       " '2010-04-12\\t74.3300\\t128.0100\\t2.7470830\\n',\n",
       " '2010-04-13\\t74.3300\\t128.0100\\t2.9745260\\n',\n",
       " '2010-04-14\\t74.3300\\t128.0100\\t0.6793206\\n',\n",
       " '2010-04-15\\t74.3300\\t128.0100\\t7.6563600\\n',\n",
       " '2010-04-16\\t74.3300\\t128.0100\\t2.4215380\\n',\n",
       " '2010-04-17\\t74.3300\\t128.0100\\t1.7038870\\n',\n",
       " '2010-04-18\\t74.3300\\t128.0100\\t1.8441180\\n',\n",
       " '2010-04-19\\t74.3300\\t128.0100\\t1.9643230\\n',\n",
       " '2010-04-20\\t74.3300\\t128.0100\\t1.3870520\\n',\n",
       " '2010-04-21\\t74.3300\\t128.0100\\t3.3424050\\n',\n",
       " '2010-04-22\\t74.3300\\t128.0100\\t3.4759080\\n',\n",
       " '2010-04-23\\t74.3300\\t128.0100\\t1.1680140\\n',\n",
       " '2010-04-24\\t74.3300\\t128.0100\\t1.2078670\\n',\n",
       " '2010-04-25\\t74.3300\\t128.0100\\t2.0146690\\n',\n",
       " '2010-04-26\\t74.3300\\t128.0100\\t1.4557850\\n',\n",
       " '2010-04-27\\t74.3300\\t128.0100\\t1.7740060\\n',\n",
       " '2010-04-28\\t74.3300\\t128.0100\\t1.1341590\\n',\n",
       " '2010-04-29\\t74.3300\\t128.0100\\t2.5174430\\n',\n",
       " '2010-04-30\\t74.3300\\t128.0100\\t2.7014900\\n',\n",
       " '2010-05-01\\t74.3300\\t128.0100\\t2.7342060\\n',\n",
       " '2010-05-02\\t74.3300\\t128.0100\\t1.6614160\\n',\n",
       " '2010-05-03\\t74.3300\\t128.0100\\t3.2735110\\n',\n",
       " '2010-05-04\\t74.3300\\t128.0100\\t2.7920520\\n',\n",
       " '2010-05-05\\t74.3300\\t128.0100\\t3.6144820\\n',\n",
       " '2010-05-06\\t74.3300\\t128.0100\\t4.1299100\\n',\n",
       " '2010-05-07\\t74.3300\\t128.0100\\t2.3245110\\n',\n",
       " '2010-05-08\\t74.3300\\t128.0100\\t2.8529450\\n',\n",
       " '2010-05-09\\t74.3300\\t128.0100\\t1.5871770\\n',\n",
       " '2010-05-10\\t74.3300\\t128.0100\\t1.4573480\\n',\n",
       " '2010-05-11\\t74.3300\\t128.0100\\t0.2707005\\n',\n",
       " '2010-05-12\\t74.3300\\t128.0100\\t0.2634301\\n',\n",
       " '2010-05-13\\t74.3300\\t128.0100\\t0.2145401\\n',\n",
       " '2010-05-17\\t74.3300\\t128.0100\\t0.1641999\\n',\n",
       " '2010-05-22\\t74.3300\\t128.0100\\t0.2153857\\n',\n",
       " '2010-05-23\\t74.3300\\t128.0100\\t0.2342034\\n',\n",
       " '2010-05-24\\t74.3300\\t128.0100\\t0.2442657\\n',\n",
       " '2010-05-25\\t74.3300\\t128.0100\\t0.2135194\\n',\n",
       " '2010-05-26\\t74.3300\\t128.0100\\t0.1993800\\n',\n",
       " '2010-05-27\\t74.3300\\t128.0100\\t0.2599616\\n',\n",
       " '2010-05-28\\t74.3300\\t128.0100\\t0.1785419\\n',\n",
       " '2010-05-31\\t74.3300\\t128.0100\\t0.2250815\\n',\n",
       " '2010-06-06\\t74.3300\\t128.0100\\t0.2356043\\n',\n",
       " '2010-06-07\\t74.3300\\t128.0100\\t0.2597501\\n',\n",
       " '2010-06-08\\t74.3300\\t128.0100\\t0.3254552\\n',\n",
       " '2010-06-12\\t74.3300\\t128.0100\\t0.2180847\\n',\n",
       " '2010-06-13\\t74.3300\\t128.0100\\t0.3040127\\n',\n",
       " '2010-06-14\\t74.3300\\t128.0100\\t0.2413398\\n',\n",
       " '2010-06-16\\t74.3300\\t128.0100\\t0.2342938\\n',\n",
       " '2010-06-17\\t74.3300\\t128.0100\\t0.2253589\\n',\n",
       " '2010-06-18\\t74.3300\\t128.0100\\t0.2382775\\n',\n",
       " '2010-06-19\\t74.3300\\t128.0100\\t0.1566978\\n',\n",
       " '2010-06-20\\t74.3300\\t128.0100\\t0.1746873\\n',\n",
       " '2010-06-24\\t74.3300\\t128.0100\\t0.2265554\\n',\n",
       " '2010-06-28\\t74.3300\\t128.0100\\t0.1622599\\n',\n",
       " '2010-06-29\\t74.3300\\t128.0100\\t0.2136338\\n',\n",
       " '2010-06-30\\t74.3300\\t128.0100\\t0.1978797\\n',\n",
       " '2010-07-02\\t74.3300\\t128.0100\\t0.8674844\\n',\n",
       " '2010-07-03\\t74.3300\\t128.0100\\t0.6380995\\n',\n",
       " '2010-07-04\\t74.3300\\t128.0100\\t1.2537480\\n',\n",
       " '2010-07-05\\t74.3300\\t128.0100\\t1.7696920\\n',\n",
       " '2010-07-06\\t74.3300\\t128.0100\\t1.4741670\\n',\n",
       " '2010-07-07\\t74.3300\\t128.0100\\t1.3602440\\n',\n",
       " '2010-07-08\\t74.3300\\t128.0100\\t0.4018442\\n',\n",
       " '2010-07-12\\t74.3300\\t128.0100\\t0.2827345\\n',\n",
       " '2010-07-18\\t74.3300\\t128.0100\\t0.2463402\\n',\n",
       " '2010-08-05\\t74.3300\\t128.0100\\t0.2385841\\n',\n",
       " '2010-08-06\\t74.3300\\t128.0100\\t0.2224299\\n',\n",
       " '2010-08-10\\t74.3300\\t128.0100\\t0.2386123\\n',\n",
       " '2010-08-15\\t74.3300\\t128.0100\\t0.2267093\\n',\n",
       " '2010-08-16\\t74.3300\\t128.0100\\t0.3574980\\n',\n",
       " '2010-08-17\\t74.3300\\t128.0100\\t0.2333242\\n',\n",
       " '2010-08-20\\t74.3300\\t128.0100\\t0.2082766\\n',\n",
       " '2010-08-22\\t74.3300\\t128.0100\\t0.1633903\\n',\n",
       " '2010-08-23\\t74.3300\\t128.0100\\t0.2621679\\n',\n",
       " '2010-08-24\\t74.3300\\t128.0100\\t0.2711695\\n']"
      ]
     },
     "execution_count": 38,
     "metadata": {},
     "output_type": "execute_result"
    }
   ],
   "source": [
    "data_str"
   ]
  },
  {
   "cell_type": "markdown",
   "id": "bc4141ad",
   "metadata": {},
   "source": [
    "## Read data"
   ]
  },
  {
   "cell_type": "code",
   "execution_count": 39,
   "id": "9a7c0356",
   "metadata": {},
   "outputs": [],
   "source": [
    "data = np.genfromtxt(f'{ifile}', delimiter='\\t', dtype='U255', skip_header=idx_start, autostrip=True)\n",
    "\n",
    "types_data = ['U12', 'float', 'float', 'float']\n",
    "\n",
    "# array with all the lines\n",
    "arr = []\n",
    "for dt in data:\n",
    "#     print(dt)\n",
    "    arr += [dt]  # item for item in re.split(' +', dt)]\n",
    "\n",
    "nlines = data.shape[0]\n",
    "bb = np.array(arr).reshape(nlines, len(types_data))  # 28\n",
    "\n",
    "# create dictionary from the array\n",
    "dico = {}\n",
    "\n",
    "for idx, (var, typecol) in enumerate(zip(header_var, types_data)):\n",
    "    # format data\n",
    "    if typecol == 'U12':\n",
    "        typec = 'U12'\n",
    "    elif typecol == 'float':\n",
    "        typec = np.float64\n",
    "    elif typecol == 'int':\n",
    "        typec = np.int64\n",
    "        \n",
    "    dico[f'{var}'] = np.asarray(bb[:,idx], dtype=typec)"
   ]
  },
  {
   "cell_type": "markdown",
   "id": "85e90de8",
   "metadata": {},
   "source": [
    "# clean draft"
   ]
  },
  {
   "cell_type": "code",
   "execution_count": 57,
   "id": "cbbaa295",
   "metadata": {},
   "outputs": [],
   "source": [
    "sit = dico['draft']*1.2"
   ]
  },
  {
   "cell_type": "markdown",
   "id": "aa4a91eb",
   "metadata": {},
   "source": [
    "# get datetime"
   ]
  },
  {
   "cell_type": "code",
   "execution_count": 53,
   "id": "722de444",
   "metadata": {},
   "outputs": [],
   "source": [
    "dt = np.array([datetime.datetime.strptime(date, '%Y-%m-%d') for date in dico['date']])"
   ]
  },
  {
   "cell_type": "markdown",
   "id": "113bfade",
   "metadata": {},
   "source": [
    "## Plot to check"
   ]
  },
  {
   "cell_type": "code",
   "execution_count": 58,
   "id": "ad062b21",
   "metadata": {},
   "outputs": [
    {
     "data": {
      "text/plain": [
       "[<matplotlib.lines.Line2D at 0x7fa5d1084430>]"
      ]
     },
     "execution_count": 58,
     "metadata": {},
     "output_type": "execute_result"
    },
    {
     "data": {
      "image/png": "[encoded data removed]",
      "text/plain": [
       "<Figure size 640x480 with 1 Axes>"
      ]
     },
     "metadata": {},
     "output_type": "display_data"
    }
   ],
   "source": [
    "plt.plot(dt, sit)"
   ]
  },
  {
   "cell_type": "markdown",
   "id": "2c95c5c8",
   "metadata": {},
   "source": [
    "# Create daily time series"
   ]
  },
  {
   "cell_type": "markdown",
   "id": "ea55ea5e",
   "metadata": {},
   "source": [
    ".nc files with daily:\n",
    "mean sit, std, min, max, time (readable format), location (change every year)"
   ]
  },
  {
   "cell_type": "code",
   "execution_count": 79,
   "id": "24cbdc16",
   "metadata": {},
   "outputs": [],
   "source": [
    "# put all this shit in a function\n",
    "\n",
    "def read_txt(ifile):\n",
    "    '''\n",
    "    '''\n",
    "   \n",
    "    # Identify header (= to remove from data)\n",
    "    with open(f'{ifile}','r') as f:\n",
    "        lines = f.readlines()\n",
    "\n",
    "    header_var = ['Date/Time\\tLatitude\\tLongitude\\tSea ice draft [m]\\n']\n",
    "    # data start at this line\n",
    "    idx_start = np.where(np.array([s in header_var for s in lines]))[0][0]+1\n",
    "\n",
    "    # load data\n",
    "    data = np.genfromtxt(f'{ifile}', delimiter='\\t', dtype='U255', skip_header=idx_start, autostrip=True)\n",
    "    types_data = ['U12', 'float', 'float', 'float']  # 4 cols\n",
    "\n",
    "    # array with all the lines\n",
    "    arr = []\n",
    "    for dt in data:\n",
    "        arr += [dt]\n",
    "\n",
    "    nlines = data.shape[0]\n",
    "    bb = np.array(arr).reshape(nlines, len(types_data))  # 28\n",
    "\n",
    "    # create dictionary from the array\n",
    "    dico = {}\n",
    "    header_var = ['date', 'lat', 'lon','draft']\n",
    "    \n",
    "    for idx, (var, typecol) in enumerate(zip(header_var, types_data)):\n",
    "        # format data\n",
    "        if typecol == 'U12':\n",
    "            typec = 'U12'\n",
    "        elif typecol == 'float':\n",
    "            typec = np.float64\n",
    "        elif typecol == 'int':\n",
    "            typec = np.int64\n",
    "\n",
    "        dico[f'{var}'] = np.asarray(bb[:,idx], dtype=typec)\n",
    "    return dico\n",
    "\n",
    "    \n",
    "def get_data(ifile):\n",
    "    '''\n",
    "    '''\n",
    "    \n",
    "    # read .txt\n",
    "    dico = read_txt(ifile)\n",
    "\n",
    "    # clean data\n",
    "    chrono = np.array([datetime.datetime.strptime(date, '%Y-%m-%d') for date in dico['date']])\n",
    "    sit = dico['draft']*1.2\n",
    "    \n",
    "    lat, lon = dico['lat'], dico['lon']\n",
    "    \n",
    "    return sit, lat, lon, chrono\n",
    "    "
   ]
  },
  {
   "cell_type": "markdown",
   "id": "1aacb3db",
   "metadata": {},
   "source": [
    "## loop over all years"
   ]
  },
  {
   "cell_type": "code",
   "execution_count": 157,
   "id": "f5fd3bc5",
   "metadata": {},
   "outputs": [],
   "source": [
    "name_buoy = 'OuterShelf'\n",
    "# 'Anabar'\n",
    "# 'Khatanga'\n",
    "# 'Lena'\n",
    "# 'OuterShelf'\n",
    "\n",
    "# globglob the file\n",
    "idir = f'/scratch/project_465000269/edelleo1/Leo/SIT_observations/ADCP_Transdrift/datasets/'\n",
    "ifiles = np.sort(glob(f'{idir}*{name_buoy}*.tab'))"
   ]
  },
  {
   "cell_type": "code",
   "execution_count": 158,
   "id": "a09aa857",
   "metadata": {},
   "outputs": [
    {
     "data": {
      "text/plain": [
       "array(['/scratch/project_465000269/edelleo1/Leo/SIT_observations/ADCP_Transdrift/datasets/OuterShelf-08_sea-ice-draft.tab',\n",
       "       '/scratch/project_465000269/edelleo1/Leo/SIT_observations/ADCP_Transdrift/datasets/OuterShelf-10_sea-ice-draft.tab',\n",
       "       '/scratch/project_465000269/edelleo1/Leo/SIT_observations/ADCP_Transdrift/datasets/OuterShelf-11_sea-ice-draft.tab'],\n",
       "      dtype='<U113')"
      ]
     },
     "execution_count": 158,
     "metadata": {},
     "output_type": "execute_result"
    }
   ],
   "source": [
    "ifiles"
   ]
  },
  {
   "cell_type": "code",
   "execution_count": 159,
   "id": "0416b31c",
   "metadata": {},
   "outputs": [],
   "source": [
    "str_years = [ifile.split('-')[1][:2] for ifile in ifiles]\n",
    "str_years = '_'.join(str_years)"
   ]
  },
  {
   "cell_type": "code",
   "execution_count": 160,
   "id": "41d1523c",
   "metadata": {},
   "outputs": [],
   "source": [
    "fsit = []\n",
    "# fsit_std = []\n",
    "# fsit_min = []\n",
    "# fsit_max = []\n",
    "flat = []\n",
    "flon = []\n",
    "fdates = []\n",
    "# valid_years = []"
   ]
  },
  {
   "cell_type": "code",
   "execution_count": 161,
   "id": "51e0aaba",
   "metadata": {},
   "outputs": [
    {
     "name": "stdout",
     "output_type": "stream",
     "text": [
      "/scratch/project_465000269/edelleo1/Leo/SIT_observations/ADCP_Transdrift/datasets/OuterShelf-08_sea-ice-draft.tab\n",
      "/scratch/project_465000269/edelleo1/Leo/SIT_observations/ADCP_Transdrift/datasets/OuterShelf-10_sea-ice-draft.tab\n",
      "/scratch/project_465000269/edelleo1/Leo/SIT_observations/ADCP_Transdrift/datasets/OuterShelf-11_sea-ice-draft.tab\n"
     ]
    }
   ],
   "source": [
    "for ifile in ifiles:\n",
    "    print(ifile)\n",
    "    sit, lat, lon, dates = get_data(ifile)\n",
    "    \n",
    "    # add yearly data to full timeline\n",
    "    if sit is not None:\n",
    "        fsit.append(sit)\n",
    "#         fsit_std.append(sit_std)\n",
    "#         fsit_min.append(sit_min)\n",
    "#         fsit_max.append(sit_max)\n",
    "        flat.append(lat)\n",
    "        flon.append(lon)\n",
    "        fdates.append(dates)"
   ]
  },
  {
   "cell_type": "code",
   "execution_count": 162,
   "id": "2ea04040",
   "metadata": {},
   "outputs": [],
   "source": [
    "fsit = np.concatenate(fsit, axis=0)\n",
    "# fsit_std = np.concatenate(fsit_std, axis=0)\n",
    "# fsit_min = np.concatenate(fsit_min, axis=0)\n",
    "# fsit_max = np.concatenate(fsit_max, axis=0)\n",
    "flat = np.concatenate(flat, axis=0)\n",
    "flon = np.concatenate(flon, axis=0)"
   ]
  },
  {
   "cell_type": "code",
   "execution_count": 163,
   "id": "a65c39c0",
   "metadata": {},
   "outputs": [],
   "source": [
    "fdates = np.concatenate(fdates, axis=0)"
   ]
  },
  {
   "cell_type": "code",
   "execution_count": 164,
   "id": "df796348",
   "metadata": {},
   "outputs": [
    {
     "data": {
      "image/png": "[encoded data removed]",
      "text/plain": [
       "<Figure size 640x480 with 1 Axes>"
      ]
     },
     "metadata": {},
     "output_type": "display_data"
    }
   ],
   "source": [
    "plt.plot(fdates, fsit)\n",
    "plt.ylabel('SIT (m)');"
   ]
  },
  {
   "cell_type": "code",
   "execution_count": 165,
   "id": "fb46b950",
   "metadata": {},
   "outputs": [
    {
     "name": "stdout",
     "output_type": "stream",
     "text": [
      "Number of valid days: 883\n"
     ]
    }
   ],
   "source": [
    "print(f'Number of valid days: {fsit.shape[0]}')"
   ]
  },
  {
   "cell_type": "markdown",
   "id": "eade163b",
   "metadata": {},
   "source": [
    "## Running mean"
   ]
  },
  {
   "cell_type": "code",
   "execution_count": 166,
   "id": "7a5f0bea",
   "metadata": {},
   "outputs": [],
   "source": [
    "from src.data_preparation import running_mean as rm"
   ]
  },
  {
   "cell_type": "code",
   "execution_count": 167,
   "id": "9621d8a8",
   "metadata": {},
   "outputs": [
    {
     "name": "stderr",
     "output_type": "stream",
     "text": [
      "/users/edelleo1/tardis/tardis-ml/src/data_preparation/running_mean.py:49: RuntimeWarning: Mean of empty slice\n",
      "  window_average = np.nanmean(arr[-idx:-1])\n"
     ]
    }
   ],
   "source": [
    "ndays = 7\n",
    "smooth_data = rm.center_running_mean(fsit, ndays, npd=1)\n",
    "sit_smooth = np.array(smooth_data)"
   ]
  },
  {
   "cell_type": "code",
   "execution_count": 168,
   "id": "2f23b1d0",
   "metadata": {},
   "outputs": [
    {
     "data": {
      "text/plain": [
       "[<matplotlib.lines.Line2D at 0x7fa5cde27cd0>]"
      ]
     },
     "execution_count": 168,
     "metadata": {},
     "output_type": "execute_result"
    },
    {
     "data": {
      "image/png": "[encoded data removed]",
      "text/plain": [
       "<Figure size 640x480 with 1 Axes>"
      ]
     },
     "metadata": {},
     "output_type": "display_data"
    }
   ],
   "source": [
    "plt.plot(fdates, fsit)\n",
    "plt.plot(fdates, sit_smooth)"
   ]
  },
  {
   "cell_type": "markdown",
   "id": "e60cace6",
   "metadata": {},
   "source": [
    "## Save netcdf"
   ]
  },
  {
   "cell_type": "code",
   "execution_count": 169,
   "id": "4e2e9151",
   "metadata": {},
   "outputs": [],
   "source": [
    "odir = '/scratch/project_465000269/edelleo1/Leo/SIT_observations/ADCP_Transdrift/netcdf/'"
   ]
  },
  {
   "cell_type": "code",
   "execution_count": 170,
   "id": "bf0a9871",
   "metadata": {},
   "outputs": [],
   "source": [
    "osit = xr.DataArray(fsit, \n",
    "                coords={'time': fdates}, \n",
    "                dims=[\"time\"],\n",
    "                attrs={'name':'sit',\n",
    "                       'long_name':'mean sea ice thickness',\n",
    "                       'unit':'m',\n",
    "                      })"
   ]
  },
  {
   "cell_type": "raw",
   "id": "2e684714",
   "metadata": {},
   "source": [
    "osit_std = xr.DataArray(fsit_std, \n",
    "                coords={'time': fdt}, \n",
    "                dims=[\"time\"],\n",
    "                attrs={'name':'sit_std',\n",
    "                       'long_name':'sea ice thickness standard deviation',\n",
    "                       'unit':'m',\n",
    "                      })"
   ]
  },
  {
   "cell_type": "raw",
   "id": "66b54e35",
   "metadata": {},
   "source": [
    "osit_min = xr.DataArray(fsit_min, \n",
    "                coords={'time': fdt}, \n",
    "                dims=[\"time\"],\n",
    "                attrs={'name':'sit_min',\n",
    "                       'long_name':'minimum sea ice thickness',\n",
    "                       'unit':'m',\n",
    "                      })"
   ]
  },
  {
   "cell_type": "raw",
   "id": "bcda11b9",
   "metadata": {},
   "source": [
    "osit_max = xr.DataArray(fsit_max, \n",
    "                coords={'time': fdt}, \n",
    "                dims=[\"time\"],\n",
    "                attrs={'name':'sit_max',\n",
    "                       'long_name':'maximum sea ice thickness',\n",
    "                       'unit':'m',\n",
    "                      })"
   ]
  },
  {
   "cell_type": "code",
   "execution_count": 171,
   "id": "d0479ae0",
   "metadata": {},
   "outputs": [],
   "source": [
    "olat = xr.DataArray(flat, \n",
    "                coords={'time': fdates}, \n",
    "                dims=[\"time\"],\n",
    "                attrs={'name':'latitude',\n",
    "                       'unit':'North'\n",
    "                      })"
   ]
  },
  {
   "cell_type": "code",
   "execution_count": 172,
   "id": "6b2cbfc4",
   "metadata": {},
   "outputs": [],
   "source": [
    "olon = xr.DataArray(flon, \n",
    "                coords={'time': fdates}, \n",
    "                dims=[\"time\"],\n",
    "                attrs={'name':'longitude',\n",
    "                       'unit':'East'\n",
    "                      })"
   ]
  },
  {
   "cell_type": "code",
   "execution_count": 173,
   "id": "a0ba7d9c",
   "metadata": {},
   "outputs": [],
   "source": [
    "ods = xr.Dataset(data_vars={'sit':    osit,\n",
    "                            'lat':olat,\n",
    "                            'lon':olon\n",
    "                           },\n",
    "                   attrs=dict(\n",
    "                       description='Timeseries of SIT from ADCP Transdrift',\n",
    "                       mooring=f'ADCP Laptev Sea',\n",
    "                       years=f'{str_years}',\n",
    "                       author='Leo Edel, Nersc',\n",
    "                       project='TARDIS',\n",
    "                       date=f'{datetime.date.today()}')\n",
    "                  )"
   ]
  },
  {
   "cell_type": "code",
   "execution_count": 174,
   "id": "3adc0cc1",
   "metadata": {},
   "outputs": [
    {
     "data": {
      "text/html": [
       "<div><svg style=\"position: absolute; width: 0; height: 0; overflow: hidden\">\n",
       "<defs>\n",
       "<symbol id=\"icon-database\" viewBox=\"0 0 32 32\">\n",
       "<path d=\"M16 0c-8.837 0-16 2.239-16 5v4c0 2.761 7.163 5 16 5s16-2.239 16-5v-4c0-2.761-7.163-5-16-5z\"></path>\n",
       "<path d=\"M16 17c-8.837 0-16-2.239-16-5v6c0 2.761 7.163 5 16 5s16-2.239 16-5v-6c0 2.761-7.163 5-16 5z\"></path>\n",
       "<path d=\"M16 26c-8.837 0-16-2.239-16-5v6c0 2.761 7.163 5 16 5s16-2.239 16-5v-6c0 2.761-7.163 5-16 5z\"></path>\n",
       "</symbol>\n",
       "<symbol id=\"icon-file-text2\" viewBox=\"0 0 32 32\">\n",
       "<path d=\"M28.681 7.159c-0.694-0.947-1.662-2.053-2.724-3.116s-2.169-2.030-3.116-2.724c-1.612-1.182-2.393-1.319-2.841-1.319h-15.5c-1.378 0-2.5 1.121-2.5 2.5v27c0 1.378 1.122 2.5 2.5 2.5h23c1.378 0 2.5-1.122 2.5-2.5v-19.5c0-0.448-0.137-1.23-1.319-2.841zM24.543 5.457c0.959 0.959 1.712 1.825 2.268 2.543h-4.811v-4.811c0.718 0.556 1.584 1.309 2.543 2.268zM28 29.5c0 0.271-0.229 0.5-0.5 0.5h-23c-0.271 0-0.5-0.229-0.5-0.5v-27c0-0.271 0.229-0.5 0.5-0.5 0 0 15.499-0 15.5 0v7c0 0.552 0.448 1 1 1h7v19.5z\"></path>\n",
       "<path d=\"M23 26h-14c-0.552 0-1-0.448-1-1s0.448-1 1-1h14c0.552 0 1 0.448 1 1s-0.448 1-1 1z\"></path>\n",
       "<path d=\"M23 22h-14c-0.552 0-1-0.448-1-1s0.448-1 1-1h14c0.552 0 1 0.448 1 1s-0.448 1-1 1z\"></path>\n",
       "<path d=\"M23 18h-14c-0.552 0-1-0.448-1-1s0.448-1 1-1h14c0.552 0 1 0.448 1 1s-0.448 1-1 1z\"></path>\n",
       "</symbol>\n",
       "</defs>\n",
       "</svg>\n",
       "<style>/* CSS stylesheet for displaying xarray objects in jupyterlab.\n",
       " *\n",
       " */\n",
       "\n",
       ":root {\n",
       "  --xr-font-color0: var(--jp-content-font-color0, rgba(0, 0, 0, 1));\n",
       "  --xr-font-color2: var(--jp-content-font-color2, rgba(0, 0, 0, 0.54));\n",
       "  --xr-font-color3: var(--jp-content-font-color3, rgba(0, 0, 0, 0.38));\n",
       "  --xr-border-color: var(--jp-border-color2, #e0e0e0);\n",
       "  --xr-disabled-color: var(--jp-layout-color3, #bdbdbd);\n",
       "  --xr-background-color: var(--jp-layout-color0, white);\n",
       "  --xr-background-color-row-even: var(--jp-layout-color1, white);\n",
       "  --xr-background-color-row-odd: var(--jp-layout-color2, #eeeeee);\n",
       "}\n",
       "\n",
       "html[theme=dark],\n",
       "body[data-theme=dark],\n",
       "body.vscode-dark {\n",
       "  --xr-font-color0: rgba(255, 255, 255, 1);\n",
       "  --xr-font-color2: rgba(255, 255, 255, 0.54);\n",
       "  --xr-font-color3: rgba(255, 255, 255, 0.38);\n",
       "  --xr-border-color: #1F1F1F;\n",
       "  --xr-disabled-color: #515151;\n",
       "  --xr-background-color: #111111;\n",
       "  --xr-background-color-row-even: #111111;\n",
       "  --xr-background-color-row-odd: #313131;\n",
       "}\n",
       "\n",
       ".xr-wrap {\n",
       "  display: block !important;\n",
       "  min-width: 300px;\n",
       "  max-width: 700px;\n",
       "}\n",
       "\n",
       ".xr-text-repr-fallback {\n",
       "  /* fallback to plain text repr when CSS is not injected (untrusted notebook) */\n",
       "  display: none;\n",
       "}\n",
       "\n",
       ".xr-header {\n",
       "  padding-top: 6px;\n",
       "  padding-bottom: 6px;\n",
       "  margin-bottom: 4px;\n",
       "  border-bottom: solid 1px var(--xr-border-color);\n",
       "}\n",
       "\n",
       ".xr-header > div,\n",
       ".xr-header > ul {\n",
       "  display: inline;\n",
       "  margin-top: 0;\n",
       "  margin-bottom: 0;\n",
       "}\n",
       "\n",
       ".xr-obj-type,\n",
       ".xr-array-name {\n",
       "  margin-left: 2px;\n",
       "  margin-right: 10px;\n",
       "}\n",
       "\n",
       ".xr-obj-type {\n",
       "  color: var(--xr-font-color2);\n",
       "}\n",
       "\n",
       ".xr-sections {\n",
       "  padding-left: 0 !important;\n",
       "  display: grid;\n",
       "  grid-template-columns: 150px auto auto 1fr 20px 20px;\n",
       "}\n",
       "\n",
       ".xr-section-item {\n",
       "  display: contents;\n",
       "}\n",
       "\n",
       ".xr-section-item input {\n",
       "  display: none;\n",
       "}\n",
       "\n",
       ".xr-section-item input + label {\n",
       "  color: var(--xr-disabled-color);\n",
       "}\n",
       "\n",
       ".xr-section-item input:enabled + label {\n",
       "  cursor: pointer;\n",
       "  color: var(--xr-font-color2);\n",
       "}\n",
       "\n",
       ".xr-section-item input:enabled + label:hover {\n",
       "  color: var(--xr-font-color0);\n",
       "}\n",
       "\n",
       ".xr-section-summary {\n",
       "  grid-column: 1;\n",
       "  color: var(--xr-font-color2);\n",
       "  font-weight: 500;\n",
       "}\n",
       "\n",
       ".xr-section-summary > span {\n",
       "  display: inline-block;\n",
       "  padding-left: 0.5em;\n",
       "}\n",
       "\n",
       ".xr-section-summary-in:disabled + label {\n",
       "  color: var(--xr-font-color2);\n",
       "}\n",
       "\n",
       ".xr-section-summary-in + label:before {\n",
       "  display: inline-block;\n",
       "  content: '►';\n",
       "  font-size: 11px;\n",
       "  width: 15px;\n",
       "  text-align: center;\n",
       "}\n",
       "\n",
       ".xr-section-summary-in:disabled + label:before {\n",
       "  color: var(--xr-disabled-color);\n",
       "}\n",
       "\n",
       ".xr-section-summary-in:checked + label:before {\n",
       "  content: '▼';\n",
       "}\n",
       "\n",
       ".xr-section-summary-in:checked + label > span {\n",
       "  display: none;\n",
       "}\n",
       "\n",
       ".xr-section-summary,\n",
       ".xr-section-inline-details {\n",
       "  padding-top: 4px;\n",
       "  padding-bottom: 4px;\n",
       "}\n",
       "\n",
       ".xr-section-inline-details {\n",
       "  grid-column: 2 / -1;\n",
       "}\n",
       "\n",
       ".xr-section-details {\n",
       "  display: none;\n",
       "  grid-column: 1 / -1;\n",
       "  margin-bottom: 5px;\n",
       "}\n",
       "\n",
       ".xr-section-summary-in:checked ~ .xr-section-details {\n",
       "  display: contents;\n",
       "}\n",
       "\n",
       ".xr-array-wrap {\n",
       "  grid-column: 1 / -1;\n",
       "  display: grid;\n",
       "  grid-template-columns: 20px auto;\n",
       "}\n",
       "\n",
       ".xr-array-wrap > label {\n",
       "  grid-column: 1;\n",
       "  vertical-align: top;\n",
       "}\n",
       "\n",
       ".xr-preview {\n",
       "  color: var(--xr-font-color3);\n",
       "}\n",
       "\n",
       ".xr-array-preview,\n",
       ".xr-array-data {\n",
       "  padding: 0 5px !important;\n",
       "  grid-column: 2;\n",
       "}\n",
       "\n",
       ".xr-array-data,\n",
       ".xr-array-in:checked ~ .xr-array-preview {\n",
       "  display: none;\n",
       "}\n",
       "\n",
       ".xr-array-in:checked ~ .xr-array-data,\n",
       ".xr-array-preview {\n",
       "  display: inline-block;\n",
       "}\n",
       "\n",
       ".xr-dim-list {\n",
       "  display: inline-block !important;\n",
       "  list-style: none;\n",
       "  padding: 0 !important;\n",
       "  margin: 0;\n",
       "}\n",
       "\n",
       ".xr-dim-list li {\n",
       "  display: inline-block;\n",
       "  padding: 0;\n",
       "  margin: 0;\n",
       "}\n",
       "\n",
       ".xr-dim-list:before {\n",
       "  content: '(';\n",
       "}\n",
       "\n",
       ".xr-dim-list:after {\n",
       "  content: ')';\n",
       "}\n",
       "\n",
       ".xr-dim-list li:not(:last-child):after {\n",
       "  content: ',';\n",
       "  padding-right: 5px;\n",
       "}\n",
       "\n",
       ".xr-has-index {\n",
       "  font-weight: bold;\n",
       "}\n",
       "\n",
       ".xr-var-list,\n",
       ".xr-var-item {\n",
       "  display: contents;\n",
       "}\n",
       "\n",
       ".xr-var-item > div,\n",
       ".xr-var-item label,\n",
       ".xr-var-item > .xr-var-name span {\n",
       "  background-color: var(--xr-background-color-row-even);\n",
       "  margin-bottom: 0;\n",
       "}\n",
       "\n",
       ".xr-var-item > .xr-var-name:hover span {\n",
       "  padding-right: 5px;\n",
       "}\n",
       "\n",
       ".xr-var-list > li:nth-child(odd) > div,\n",
       ".xr-var-list > li:nth-child(odd) > label,\n",
       ".xr-var-list > li:nth-child(odd) > .xr-var-name span {\n",
       "  background-color: var(--xr-background-color-row-odd);\n",
       "}\n",
       "\n",
       ".xr-var-name {\n",
       "  grid-column: 1;\n",
       "}\n",
       "\n",
       ".xr-var-dims {\n",
       "  grid-column: 2;\n",
       "}\n",
       "\n",
       ".xr-var-dtype {\n",
       "  grid-column: 3;\n",
       "  text-align: right;\n",
       "  color: var(--xr-font-color2);\n",
       "}\n",
       "\n",
       ".xr-var-preview {\n",
       "  grid-column: 4;\n",
       "}\n",
       "\n",
       ".xr-index-preview {\n",
       "  grid-column: 2 / 5;\n",
       "  color: var(--xr-font-color2);\n",
       "}\n",
       "\n",
       ".xr-var-name,\n",
       ".xr-var-dims,\n",
       ".xr-var-dtype,\n",
       ".xr-preview,\n",
       ".xr-attrs dt {\n",
       "  white-space: nowrap;\n",
       "  overflow: hidden;\n",
       "  text-overflow: ellipsis;\n",
       "  padding-right: 10px;\n",
       "}\n",
       "\n",
       ".xr-var-name:hover,\n",
       ".xr-var-dims:hover,\n",
       ".xr-var-dtype:hover,\n",
       ".xr-attrs dt:hover {\n",
       "  overflow: visible;\n",
       "  width: auto;\n",
       "  z-index: 1;\n",
       "}\n",
       "\n",
       ".xr-var-attrs,\n",
       ".xr-var-data,\n",
       ".xr-index-data {\n",
       "  display: none;\n",
       "  background-color: var(--xr-background-color) !important;\n",
       "  padding-bottom: 5px !important;\n",
       "}\n",
       "\n",
       ".xr-var-attrs-in:checked ~ .xr-var-attrs,\n",
       ".xr-var-data-in:checked ~ .xr-var-data,\n",
       ".xr-index-data-in:checked ~ .xr-index-data {\n",
       "  display: block;\n",
       "}\n",
       "\n",
       ".xr-var-data > table {\n",
       "  float: right;\n",
       "}\n",
       "\n",
       ".xr-var-name span,\n",
       ".xr-var-data,\n",
       ".xr-index-name div,\n",
       ".xr-index-data,\n",
       ".xr-attrs {\n",
       "  padding-left: 25px !important;\n",
       "}\n",
       "\n",
       ".xr-attrs,\n",
       ".xr-var-attrs,\n",
       ".xr-var-data,\n",
       ".xr-index-data {\n",
       "  grid-column: 1 / -1;\n",
       "}\n",
       "\n",
       "dl.xr-attrs {\n",
       "  padding: 0;\n",
       "  margin: 0;\n",
       "  display: grid;\n",
       "  grid-template-columns: 125px auto;\n",
       "}\n",
       "\n",
       ".xr-attrs dt,\n",
       ".xr-attrs dd {\n",
       "  padding: 0;\n",
       "  margin: 0;\n",
       "  float: left;\n",
       "  padding-right: 10px;\n",
       "  width: auto;\n",
       "}\n",
       "\n",
       ".xr-attrs dt {\n",
       "  font-weight: normal;\n",
       "  grid-column: 1;\n",
       "}\n",
       "\n",
       ".xr-attrs dt:hover span {\n",
       "  display: inline-block;\n",
       "  background: var(--xr-background-color);\n",
       "  padding-right: 10px;\n",
       "}\n",
       "\n",
       ".xr-attrs dd {\n",
       "  grid-column: 2;\n",
       "  white-space: pre-wrap;\n",
       "  word-break: break-all;\n",
       "}\n",
       "\n",
       ".xr-icon-database,\n",
       ".xr-icon-file-text2,\n",
       ".xr-no-icon {\n",
       "  display: inline-block;\n",
       "  vertical-align: middle;\n",
       "  width: 1em;\n",
       "  height: 1.5em !important;\n",
       "  stroke-width: 0;\n",
       "  stroke: currentColor;\n",
       "  fill: currentColor;\n",
       "}\n",
       "</style><pre class='xr-text-repr-fallback'>&lt;xarray.Dataset&gt;\n",
       "Dimensions:  (time: 883)\n",
       "Coordinates:\n",
       "  * time     (time) datetime64[ns] 2008-09-20 2008-10-01 ... 2012-08-27\n",
       "Data variables:\n",
       "    sit      (time) float64 0.8102 0.6727 0.6393 ... 0.01289 0.03324 -0.007828\n",
       "    lat      (time) float64 77.99 77.99 77.99 77.99 ... 76.8 76.8 76.8 76.8\n",
       "    lon      (time) float64 143.0 143.0 143.0 143.0 ... 126.0 126.0 126.0 126.0\n",
       "Attributes:\n",
       "    description:  Timeseries of SIT from ADCP Transdrift\n",
       "    mooring:      ADCP Laptev Sea\n",
       "    years:        08_10_11\n",
       "    author:       Leo Edel, Nersc\n",
       "    project:      TARDIS\n",
       "    date:         2023-09-11</pre><div class='xr-wrap' style='display:none'><div class='xr-header'><div class='xr-obj-type'>xarray.Dataset</div></div><ul class='xr-sections'><li class='xr-section-item'><input id='section-0f5df02c-9054-4cbf-8232-9df91e38ef69' class='xr-section-summary-in' type='checkbox' disabled ><label for='section-0f5df02c-9054-4cbf-8232-9df91e38ef69' class='xr-section-summary'  title='Expand/collapse section'>Dimensions:</label><div class='xr-section-inline-details'><ul class='xr-dim-list'><li><span class='xr-has-index'>time</span>: 883</li></ul></div><div class='xr-section-details'></div></li><li class='xr-section-item'><input id='section-e613e65a-f4ac-44f7-b1c3-681465215c2b' class='xr-section-summary-in' type='checkbox'  checked><label for='section-e613e65a-f4ac-44f7-b1c3-681465215c2b' class='xr-section-summary' >Coordinates: <span>(1)</span></label><div class='xr-section-inline-details'></div><div class='xr-section-details'><ul class='xr-var-list'><li class='xr-var-item'><div class='xr-var-name'><span class='xr-has-index'>time</span></div><div class='xr-var-dims'>(time)</div><div class='xr-var-dtype'>datetime64[ns]</div><div class='xr-var-preview xr-preview'>2008-09-20 ... 2012-08-27</div><input id='attrs-e875e804-97d6-4872-8ef1-d6f3892950bd' class='xr-var-attrs-in' type='checkbox' disabled><label for='attrs-e875e804-97d6-4872-8ef1-d6f3892950bd' title='Show/Hide attributes'><svg class='icon xr-icon-file-text2'><use xlink:href='#icon-file-text2'></use></svg></label><input id='data-1d002ea2-8cc1-4645-a897-876a50acb1fc' class='xr-var-data-in' type='checkbox'><label for='data-1d002ea2-8cc1-4645-a897-876a50acb1fc' title='Show/Hide data repr'><svg class='icon xr-icon-database'><use xlink:href='#icon-database'></use></svg></label><div class='xr-var-attrs'><dl class='xr-attrs'></dl></div><div class='xr-var-data'><pre>array([&#x27;2008-09-20T00:00:00.000000000&#x27;, &#x27;2008-10-01T00:00:00.000000000&#x27;,\n",
       "       &#x27;2008-10-02T00:00:00.000000000&#x27;, ..., &#x27;2012-08-15T00:00:00.000000000&#x27;,\n",
       "       &#x27;2012-08-24T00:00:00.000000000&#x27;, &#x27;2012-08-27T00:00:00.000000000&#x27;],\n",
       "      dtype=&#x27;datetime64[ns]&#x27;)</pre></div></li></ul></div></li><li class='xr-section-item'><input id='section-a5eb26b4-da5b-43f7-a1f8-7712acfc3f51' class='xr-section-summary-in' type='checkbox'  checked><label for='section-a5eb26b4-da5b-43f7-a1f8-7712acfc3f51' class='xr-section-summary' >Data variables: <span>(3)</span></label><div class='xr-section-inline-details'></div><div class='xr-section-details'><ul class='xr-var-list'><li class='xr-var-item'><div class='xr-var-name'><span>sit</span></div><div class='xr-var-dims'>(time)</div><div class='xr-var-dtype'>float64</div><div class='xr-var-preview xr-preview'>0.8102 0.6727 ... 0.03324 -0.007828</div><input id='attrs-597a57c6-0e72-4360-ab04-2d3010b7eb49' class='xr-var-attrs-in' type='checkbox' ><label for='attrs-597a57c6-0e72-4360-ab04-2d3010b7eb49' title='Show/Hide attributes'><svg class='icon xr-icon-file-text2'><use xlink:href='#icon-file-text2'></use></svg></label><input id='data-802e1e4e-fd7d-4a98-b7ba-f41837da4d60' class='xr-var-data-in' type='checkbox'><label for='data-802e1e4e-fd7d-4a98-b7ba-f41837da4d60' title='Show/Hide data repr'><svg class='icon xr-icon-database'><use xlink:href='#icon-database'></use></svg></label><div class='xr-var-attrs'><dl class='xr-attrs'><dt><span>name :</span></dt><dd>sit</dd><dt><span>long_name :</span></dt><dd>mean sea ice thickness</dd><dt><span>unit :</span></dt><dd>m</dd></dl></div><div class='xr-var-data'><pre>array([ 8.10222240e-01,  6.72666120e-01,  6.39250440e-01,  5.25253440e-01,\n",
       "        5.28950760e-01,  4.75104480e-01,  4.27650960e-01,  5.47620960e-01,\n",
       "        5.69921640e-01,  4.61078400e-01,  3.06248520e-01,  3.47641560e-01,\n",
       "        2.12356920e-01,  6.04523640e-01,  6.08285520e-01,  5.06509800e-01,\n",
       "        5.63478600e-01,  7.13780880e-01,  7.26421320e-01,  6.23995320e-01,\n",
       "        6.71046360e-01,  7.73890920e-01,  6.70049280e-01,  5.67655680e-01,\n",
       "        6.77008320e-01,  6.34360920e-01,  7.35222000e-01,  7.39694400e-01,\n",
       "        7.70782920e-01,  6.02673360e-01,  6.50065560e-01,  5.93319960e-01,\n",
       "        7.40172240e-01,  7.81661760e-01,  9.12504840e-01,  7.65742200e-01,\n",
       "        6.22610760e-01,  9.83836320e-01,  8.75579040e-01,  1.13412048e+00,\n",
       "        7.83302520e-01,  9.96176040e-01,  8.85686160e-01,  1.09839912e+00,\n",
       "        9.41573160e-01,  1.11433212e+00,  8.81243160e-01,  9.88927680e-01,\n",
       "        1.24436160e+00,  1.13116560e+00,  1.28204880e+00,  1.18845900e+00,\n",
       "        1.20787800e+00,  1.67423640e+00,  1.25418360e+00,  1.41252720e+00,\n",
       "        1.55606880e+00,  1.24662360e+00,  1.69413480e+00,  1.50478920e+00,\n",
       "        1.64696040e+00,  1.33483440e+00,  1.37449080e+00,  1.50643800e+00,\n",
       "        1.47144840e+00,  1.96310400e+00,  1.77858960e+00,  1.41098280e+00,\n",
       "        1.30143240e+00,  1.31483280e+00,  1.48813320e+00,  1.71215880e+00,\n",
       "        1.32583680e+00,  1.54391880e+00,  1.46008320e+00,  1.46255160e+00,\n",
       "        1.59929040e+00,  1.88356320e+00,  1.79288400e+00,  1.56733440e+00,\n",
       "...\n",
       "        2.14599600e+00,  2.43650880e+00,  2.53092240e+00,  2.55652800e+00,\n",
       "        1.58913360e+00,  2.97457320e+00,  2.09880600e+00,  2.46922440e+00,\n",
       "        2.16246120e+00,  2.83740360e+00,  3.14704200e+00,  2.03618280e+00,\n",
       "        1.79896800e+00,  1.84714080e+00,  1.39685640e+00,  1.62031200e+00,\n",
       "        2.01959280e+00,  2.69881440e+00,  1.38519360e+00,  1.93958760e+00,\n",
       "        2.58820440e+00,  2.49258960e+00,  1.78334160e+00,  1.22472120e+00,\n",
       "        1.80937440e+00,  1.64461920e+00,  1.45940400e+00,  1.79460480e+00,\n",
       "        1.45130880e+00,  1.36227000e+00,  1.79550840e+00,  1.98330720e+00,\n",
       "        1.89863160e+00,  1.75676160e+00,  1.37692320e+00,  2.44774560e+00,\n",
       "        2.00576880e+00,  1.59395520e+00,  1.55405760e+00,  8.35071960e-01,\n",
       "        8.90410920e-01,  9.82470960e-01,  1.15225068e+00,  1.24002480e+00,\n",
       "        1.04510856e+00,  1.80068640e+00,  1.59271440e+00,  8.25299160e-01,\n",
       "        7.38576120e-01,  1.45686000e+00,  1.04969184e+00,  8.04146880e-01,\n",
       "        1.08669888e+00,  1.49749200e+00,  1.09462812e+00,  1.97265720e-01,\n",
       "        8.15627400e-01,  4.89270000e-01,  3.78839640e-01,  3.92706240e-01,\n",
       "        7.93366200e-01,  4.29197400e-01,  3.27863160e-01,  5.59325880e-01,\n",
       "        1.88646000e-01,  2.08593600e-01,  8.80004520e-02,  6.03602400e-02,\n",
       "        2.15635560e-01,  1.17146232e-01,  8.73847200e-02,  3.90944520e-01,\n",
       "        5.53308960e-02,  2.51766840e-01,  2.23753200e-01,  2.31966600e-02,\n",
       "        1.28918040e-02,  3.32376600e-02, -7.82771400e-03])</pre></div></li><li class='xr-var-item'><div class='xr-var-name'><span>lat</span></div><div class='xr-var-dims'>(time)</div><div class='xr-var-dtype'>float64</div><div class='xr-var-preview xr-preview'>77.99 77.99 77.99 ... 76.8 76.8</div><input id='attrs-75651351-72c0-47b5-acc1-c751e9fffa05' class='xr-var-attrs-in' type='checkbox' ><label for='attrs-75651351-72c0-47b5-acc1-c751e9fffa05' title='Show/Hide attributes'><svg class='icon xr-icon-file-text2'><use xlink:href='#icon-file-text2'></use></svg></label><input id='data-fac7ad49-2bcb-424c-93ac-6e92158e89b8' class='xr-var-data-in' type='checkbox'><label for='data-fac7ad49-2bcb-424c-93ac-6e92158e89b8' title='Show/Hide data repr'><svg class='icon xr-icon-database'><use xlink:href='#icon-database'></use></svg></label><div class='xr-var-attrs'><dl class='xr-attrs'><dt><span>name :</span></dt><dd>latitude</dd><dt><span>unit :</span></dt><dd>North</dd></dl></div><div class='xr-var-data'><pre>array([77.9876, 77.9876, 77.9876, 77.9876, 77.9876, 77.9876, 77.9876,\n",
       "       77.9876, 77.9876, 77.9876, 77.9876, 77.9876, 77.9876, 77.9876,\n",
       "       77.9876, 77.9876, 77.9876, 77.9876, 77.9876, 77.9876, 77.9876,\n",
       "       77.9876, 77.9876, 77.9876, 77.9876, 77.9876, 77.9876, 77.9876,\n",
       "       77.9876, 77.9876, 77.9876, 77.9876, 77.9876, 77.9876, 77.9876,\n",
       "       77.9876, 77.9876, 77.9876, 77.9876, 77.9876, 77.9876, 77.9876,\n",
       "       77.9876, 77.9876, 77.9876, 77.9876, 77.9876, 77.9876, 77.9876,\n",
       "       77.9876, 77.9876, 77.9876, 77.9876, 77.9876, 77.9876, 77.9876,\n",
       "       77.9876, 77.9876, 77.9876, 77.9876, 77.9876, 77.9876, 77.9876,\n",
       "       77.9876, 77.9876, 77.9876, 77.9876, 77.9876, 77.9876, 77.9876,\n",
       "       77.9876, 77.9876, 77.9876, 77.9876, 77.9876, 77.9876, 77.9876,\n",
       "       77.9876, 77.9876, 77.9876, 77.9876, 77.9876, 77.9876, 77.9876,\n",
       "       77.9876, 77.9876, 77.9876, 77.9876, 77.9876, 77.9876, 77.9876,\n",
       "       77.9876, 77.9876, 77.9876, 77.9876, 77.9876, 77.9876, 77.9876,\n",
       "       77.9876, 77.9876, 77.9876, 77.9876, 77.9876, 77.9876, 77.9876,\n",
       "       77.9876, 77.9876, 77.9876, 77.9876, 77.9876, 77.9876, 77.9876,\n",
       "       77.9876, 77.9876, 77.9876, 77.9876, 77.9876, 77.9876, 77.9876,\n",
       "       77.9876, 77.9876, 77.9876, 77.9876, 77.9876, 77.9876, 77.9876,\n",
       "       77.9876, 77.9876, 77.9876, 77.9876, 77.9876, 77.9876, 77.9876,\n",
       "       77.9876, 77.9876, 77.9876, 77.9876, 77.9876, 77.9876, 77.9876,\n",
       "...\n",
       "       76.7993, 76.7993, 76.7993, 76.7993, 76.7993, 76.7993, 76.7993,\n",
       "       76.7993, 76.7993, 76.7993, 76.7993, 76.7993, 76.7993, 76.7993,\n",
       "       76.7993, 76.7993, 76.7993, 76.7993, 76.7993, 76.7993, 76.7993,\n",
       "       76.7993, 76.7993, 76.7993, 76.7993, 76.7993, 76.7993, 76.7993,\n",
       "       76.7993, 76.7993, 76.7993, 76.7993, 76.7993, 76.7993, 76.7993,\n",
       "       76.7993, 76.7993, 76.7993, 76.7993, 76.7993, 76.7993, 76.7993,\n",
       "       76.7993, 76.7993, 76.7993, 76.7993, 76.7993, 76.7993, 76.7993,\n",
       "       76.7993, 76.7993, 76.7993, 76.7993, 76.7993, 76.7993, 76.7993,\n",
       "       76.7993, 76.7993, 76.7993, 76.7993, 76.7993, 76.7993, 76.7993,\n",
       "       76.7993, 76.7993, 76.7993, 76.7993, 76.7993, 76.7993, 76.7993,\n",
       "       76.7993, 76.7993, 76.7993, 76.7993, 76.7993, 76.7993, 76.7993,\n",
       "       76.7993, 76.7993, 76.7993, 76.7993, 76.7993, 76.7993, 76.7993,\n",
       "       76.7993, 76.7993, 76.7993, 76.7993, 76.7993, 76.7993, 76.7993,\n",
       "       76.7993, 76.7993, 76.7993, 76.7993, 76.7993, 76.7993, 76.7993,\n",
       "       76.7993, 76.7993, 76.7993, 76.7993, 76.7993, 76.7993, 76.7993,\n",
       "       76.7993, 76.7993, 76.7993, 76.7993, 76.7993, 76.7993, 76.7993,\n",
       "       76.7993, 76.7993, 76.7993, 76.7993, 76.7993, 76.7993, 76.7993,\n",
       "       76.7993, 76.7993, 76.7993, 76.7993, 76.7993, 76.7993, 76.7993,\n",
       "       76.7993, 76.7993, 76.7993, 76.7993, 76.7993, 76.7993, 76.7993,\n",
       "       76.7993])</pre></div></li><li class='xr-var-item'><div class='xr-var-name'><span>lon</span></div><div class='xr-var-dims'>(time)</div><div class='xr-var-dtype'>float64</div><div class='xr-var-preview xr-preview'>143.0 143.0 143.0 ... 126.0 126.0</div><input id='attrs-56607e88-862f-45a9-a146-fbbcbcc76541' class='xr-var-attrs-in' type='checkbox' ><label for='attrs-56607e88-862f-45a9-a146-fbbcbcc76541' title='Show/Hide attributes'><svg class='icon xr-icon-file-text2'><use xlink:href='#icon-file-text2'></use></svg></label><input id='data-435aa420-2eff-42de-991a-5099f7aa5cbf' class='xr-var-data-in' type='checkbox'><label for='data-435aa420-2eff-42de-991a-5099f7aa5cbf' title='Show/Hide data repr'><svg class='icon xr-icon-database'><use xlink:href='#icon-database'></use></svg></label><div class='xr-var-attrs'><dl class='xr-attrs'><dt><span>name :</span></dt><dd>longitude</dd><dt><span>unit :</span></dt><dd>East</dd></dl></div><div class='xr-var-data'><pre>array([143.0089, 143.0089, 143.0089, 143.0089, 143.0089, 143.0089,\n",
       "       143.0089, 143.0089, 143.0089, 143.0089, 143.0089, 143.0089,\n",
       "       143.0089, 143.0089, 143.0089, 143.0089, 143.0089, 143.0089,\n",
       "       143.0089, 143.0089, 143.0089, 143.0089, 143.0089, 143.0089,\n",
       "       143.0089, 143.0089, 143.0089, 143.0089, 143.0089, 143.0089,\n",
       "       143.0089, 143.0089, 143.0089, 143.0089, 143.0089, 143.0089,\n",
       "       143.0089, 143.0089, 143.0089, 143.0089, 143.0089, 143.0089,\n",
       "       143.0089, 143.0089, 143.0089, 143.0089, 143.0089, 143.0089,\n",
       "       143.0089, 143.0089, 143.0089, 143.0089, 143.0089, 143.0089,\n",
       "       143.0089, 143.0089, 143.0089, 143.0089, 143.0089, 143.0089,\n",
       "       143.0089, 143.0089, 143.0089, 143.0089, 143.0089, 143.0089,\n",
       "       143.0089, 143.0089, 143.0089, 143.0089, 143.0089, 143.0089,\n",
       "       143.0089, 143.0089, 143.0089, 143.0089, 143.0089, 143.0089,\n",
       "       143.0089, 143.0089, 143.0089, 143.0089, 143.0089, 143.0089,\n",
       "       143.0089, 143.0089, 143.0089, 143.0089, 143.0089, 143.0089,\n",
       "       143.0089, 143.0089, 143.0089, 143.0089, 143.0089, 143.0089,\n",
       "       143.0089, 143.0089, 143.0089, 143.0089, 143.0089, 143.0089,\n",
       "       143.0089, 143.0089, 143.0089, 143.0089, 143.0089, 143.0089,\n",
       "       143.0089, 143.0089, 143.0089, 143.0089, 143.0089, 143.0089,\n",
       "       143.0089, 143.0089, 143.0089, 143.0089, 143.0089, 143.0089,\n",
       "...\n",
       "       125.9956, 125.9956, 125.9956, 125.9956, 125.9956, 125.9956,\n",
       "       125.9956, 125.9956, 125.9956, 125.9956, 125.9956, 125.9956,\n",
       "       125.9956, 125.9956, 125.9956, 125.9956, 125.9956, 125.9956,\n",
       "       125.9956, 125.9956, 125.9956, 125.9956, 125.9956, 125.9956,\n",
       "       125.9956, 125.9956, 125.9956, 125.9956, 125.9956, 125.9956,\n",
       "       125.9956, 125.9956, 125.9956, 125.9956, 125.9956, 125.9956,\n",
       "       125.9956, 125.9956, 125.9956, 125.9956, 125.9956, 125.9956,\n",
       "       125.9956, 125.9956, 125.9956, 125.9956, 125.9956, 125.9956,\n",
       "       125.9956, 125.9956, 125.9956, 125.9956, 125.9956, 125.9956,\n",
       "       125.9956, 125.9956, 125.9956, 125.9956, 125.9956, 125.9956,\n",
       "       125.9956, 125.9956, 125.9956, 125.9956, 125.9956, 125.9956,\n",
       "       125.9956, 125.9956, 125.9956, 125.9956, 125.9956, 125.9956,\n",
       "       125.9956, 125.9956, 125.9956, 125.9956, 125.9956, 125.9956,\n",
       "       125.9956, 125.9956, 125.9956, 125.9956, 125.9956, 125.9956,\n",
       "       125.9956, 125.9956, 125.9956, 125.9956, 125.9956, 125.9956,\n",
       "       125.9956, 125.9956, 125.9956, 125.9956, 125.9956, 125.9956,\n",
       "       125.9956, 125.9956, 125.9956, 125.9956, 125.9956, 125.9956,\n",
       "       125.9956, 125.9956, 125.9956, 125.9956, 125.9956, 125.9956,\n",
       "       125.9956, 125.9956, 125.9956, 125.9956, 125.9956, 125.9956,\n",
       "       125.9956])</pre></div></li></ul></div></li><li class='xr-section-item'><input id='section-9e1565fa-7787-4f8d-9a37-67468208c14c' class='xr-section-summary-in' type='checkbox'  ><label for='section-9e1565fa-7787-4f8d-9a37-67468208c14c' class='xr-section-summary' >Indexes: <span>(1)</span></label><div class='xr-section-inline-details'></div><div class='xr-section-details'><ul class='xr-var-list'><li class='xr-var-item'><div class='xr-index-name'><div>time</div></div><div class='xr-index-preview'>PandasIndex</div><div></div><input id='index-bc653835-e132-4a58-8d7d-4fd37d8fa959' class='xr-index-data-in' type='checkbox'/><label for='index-bc653835-e132-4a58-8d7d-4fd37d8fa959' title='Show/Hide index repr'><svg class='icon xr-icon-database'><use xlink:href='#icon-database'></use></svg></label><div class='xr-index-data'><pre>PandasIndex(DatetimeIndex([&#x27;2008-09-20&#x27;, &#x27;2008-10-01&#x27;, &#x27;2008-10-02&#x27;, &#x27;2008-10-03&#x27;,\n",
       "               &#x27;2008-10-04&#x27;, &#x27;2008-10-05&#x27;, &#x27;2008-10-06&#x27;, &#x27;2008-10-07&#x27;,\n",
       "               &#x27;2008-10-08&#x27;, &#x27;2008-10-09&#x27;,\n",
       "               ...\n",
       "               &#x27;2012-07-16&#x27;, &#x27;2012-07-17&#x27;, &#x27;2012-07-18&#x27;, &#x27;2012-07-20&#x27;,\n",
       "               &#x27;2012-07-24&#x27;, &#x27;2012-07-27&#x27;, &#x27;2012-08-09&#x27;, &#x27;2012-08-15&#x27;,\n",
       "               &#x27;2012-08-24&#x27;, &#x27;2012-08-27&#x27;],\n",
       "              dtype=&#x27;datetime64[ns]&#x27;, name=&#x27;time&#x27;, length=883, freq=None))</pre></div></li></ul></div></li><li class='xr-section-item'><input id='section-a1fc160d-1824-4366-94dc-2387b309270a' class='xr-section-summary-in' type='checkbox'  checked><label for='section-a1fc160d-1824-4366-94dc-2387b309270a' class='xr-section-summary' >Attributes: <span>(6)</span></label><div class='xr-section-inline-details'></div><div class='xr-section-details'><dl class='xr-attrs'><dt><span>description :</span></dt><dd>Timeseries of SIT from ADCP Transdrift</dd><dt><span>mooring :</span></dt><dd>ADCP Laptev Sea</dd><dt><span>years :</span></dt><dd>08_10_11</dd><dt><span>author :</span></dt><dd>Leo Edel, Nersc</dd><dt><span>project :</span></dt><dd>TARDIS</dd><dt><span>date :</span></dt><dd>2023-09-11</dd></dl></div></li></ul></div></div>"
      ],
      "text/plain": [
       "<xarray.Dataset>\n",
       "Dimensions:  (time: 883)\n",
       "Coordinates:\n",
       "  * time     (time) datetime64[ns] 2008-09-20 2008-10-01 ... 2012-08-27\n",
       "Data variables:\n",
       "    sit      (time) float64 0.8102 0.6727 0.6393 ... 0.01289 0.03324 -0.007828\n",
       "    lat      (time) float64 77.99 77.99 77.99 77.99 ... 76.8 76.8 76.8 76.8\n",
       "    lon      (time) float64 143.0 143.0 143.0 143.0 ... 126.0 126.0 126.0 126.0\n",
       "Attributes:\n",
       "    description:  Timeseries of SIT from ADCP Transdrift\n",
       "    mooring:      ADCP Laptev Sea\n",
       "    years:        08_10_11\n",
       "    author:       Leo Edel, Nersc\n",
       "    project:      TARDIS\n",
       "    date:         2023-09-11"
      ]
     },
     "execution_count": 174,
     "metadata": {},
     "output_type": "execute_result"
    }
   ],
   "source": [
    "ods"
   ]
  },
  {
   "cell_type": "code",
   "execution_count": 175,
   "id": "4b4114a8",
   "metadata": {},
   "outputs": [],
   "source": [
    "filename = f'adcp_Transdrift_{name_buoy}_{str_years}.nc'"
   ]
  },
  {
   "cell_type": "code",
   "execution_count": 176,
   "id": "bad56094",
   "metadata": {},
   "outputs": [
    {
     "name": "stdout",
     "output_type": "stream",
     "text": [
      "Netcdf saved as: /scratch/project_465000269/edelleo1/Leo/SIT_observations/ADCP_Transdrift/netcdf/adcp_Transdrift_OuterShelf_08_10_11.nc\n"
     ]
    }
   ],
   "source": [
    "ofile = save_name.check(f\"{odir}\", filename)\n",
    "ods.to_netcdf(f'{odir}{ofile}')\n",
    "print(f'Netcdf saved as: {odir}{ofile}')"
   ]
  },
  {
   "cell_type": "code",
   "execution_count": null,
   "id": "c458c522",
   "metadata": {},
   "outputs": [],
   "source": []
  },
  {
   "cell_type": "markdown",
   "id": "09ca6b3e",
   "metadata": {},
   "source": [
    "# Plot time series"
   ]
  },
  {
   "cell_type": "code",
   "execution_count": 114,
   "id": "b925474c",
   "metadata": {},
   "outputs": [],
   "source": [
    "import matplotlib.pyplot as plt"
   ]
  },
  {
   "cell_type": "code",
   "execution_count": 115,
   "id": "3ce1cea7",
   "metadata": {
    "scrolled": true
   },
   "outputs": [
    {
     "data": {
      "image/png": "[encoded data removed]",
      "text/plain": [
       "<Figure size 1900x800 with 1 Axes>"
      ]
     },
     "metadata": {},
     "output_type": "display_data"
    }
   ],
   "source": [
    "plt.figure(figsize=(19,8))\n",
    "\n",
    "plt.plot(fdates, fsit, 'k', ls='-')\n",
    "# plt.plot(fdates, fsit+fsit_std, c='grey', alpha=0.7)\n",
    "# plt.plot(fdates, fsit-fsit_std, c='grey', alpha=0.7)\n",
    "\n",
    "plt.ylim([0,15])\n",
    "plt.ylabel('SIT (m)');\n",
    "plt.title(f'ULS NPEO');"
   ]
  },
  {
   "cell_type": "code",
   "execution_count": null,
   "id": "9be74bca",
   "metadata": {},
   "outputs": [],
   "source": []
  },
  {
   "cell_type": "code",
   "execution_count": null,
   "id": "c96bdb34",
   "metadata": {},
   "outputs": [],
   "source": []
  },
  {
   "cell_type": "code",
   "execution_count": null,
   "id": "b8cabc93",
   "metadata": {},
   "outputs": [],
   "source": []
  },
  {
   "cell_type": "code",
   "execution_count": null,
   "id": "7f3ae034",
   "metadata": {},
   "outputs": [],
   "source": []
  },
  {
   "cell_type": "code",
   "execution_count": null,
   "id": "0dbf2a03",
   "metadata": {},
   "outputs": [],
   "source": []
  },
  {
   "cell_type": "code",
   "execution_count": null,
   "id": "dcc96ea7",
   "metadata": {},
   "outputs": [],
   "source": []
  },
  {
   "cell_type": "code",
   "execution_count": null,
   "id": "c779c612",
   "metadata": {},
   "outputs": [],
   "source": []
  },
  {
   "cell_type": "code",
   "execution_count": null,
   "id": "1fae5788",
   "metadata": {},
   "outputs": [],
   "source": []
  },
  {
   "cell_type": "code",
   "execution_count": null,
   "id": "da5e87a6",
   "metadata": {},
   "outputs": [],
   "source": []
  }
 ],
 "metadata": {
  "kernelspec": {
   "display_name": "Python 3 (ipykernel)",
   "language": "python",
   "name": "python3"
  },
  "language_info": {
   "codemirror_mode": {
    "name": "ipython",
    "version": 3
   },
   "file_extension": ".py",
   "mimetype": "text/x-python",
   "name": "python",
   "nbconvert_exporter": "python",
   "pygments_lexer": "ipython3",
   "version": "3.9.12"
  }
 },
 "nbformat": 4,
 "nbformat_minor": 5
}
